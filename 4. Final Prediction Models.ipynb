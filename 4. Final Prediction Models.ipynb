{
 "cells": [
  {
   "cell_type": "markdown",
   "id": "engaging-sigma",
   "metadata": {},
   "source": [
    "# Genshin Impact Reviews Analysis\n",
    "## 4. Prediction Models\n",
    "In this notebook, I will write the functions:\n",
    "1. Predict whether a review is positive or negative \n",
    "2. Categorize the topic of the review based on the update version and whether it is positive or negative"
   ]
  },
  {
   "cell_type": "markdown",
   "id": "distinct-planet",
   "metadata": {},
   "source": [
    "# Import Libraries "
   ]
  },
  {
   "cell_type": "code",
   "execution_count": 33,
   "id": "adult-indiana",
   "metadata": {
    "ExecuteTime": {
     "end_time": "2021-01-27T00:37:26.149549Z",
     "start_time": "2021-01-27T00:37:26.142555Z"
    }
   },
   "outputs": [],
   "source": [
    "import pickle\n",
    "import pandas as pd\n",
    "import matplotlib.pyplot as plt\n",
    "\n",
    "import tensorflow as tf\n",
    "from tensorflow.keras.preprocessing.sequence import pad_sequences\n",
    "\n",
    "import gensim, spacy\n",
    "import gensim.corpora as corpora\n",
    "\n",
    "import nltk\n",
    "from nltk.corpus import wordnet\n",
    "from nltk.corpus import stopwords\n",
    "from nltk.tokenize import TweetTokenizer\n",
    "from gensim.utils import simple_preprocess\n",
    "from nltk.stem import WordNetLemmatizer\n",
    "\n",
    "stop_words = set(stopwords.words('english'))\n",
    "stop_words.update([\"game\", \"just\", \"play\", \"would\", \"could\"])"
   ]
  },
  {
   "cell_type": "markdown",
   "id": "senior-somalia",
   "metadata": {},
   "source": [
    "# Load Models"
   ]
  },
  {
   "cell_type": "markdown",
   "id": "precious-growth",
   "metadata": {},
   "source": [
    "## LSTM Model"
   ]
  },
  {
   "cell_type": "code",
   "execution_count": 2,
   "id": "comprehensive-start",
   "metadata": {
    "ExecuteTime": {
     "end_time": "2021-01-27T00:25:23.641199Z",
     "start_time": "2021-01-27T00:25:17.282958Z"
    }
   },
   "outputs": [],
   "source": [
    "with open('models/LSTM_model_tokenizer.pkl', 'rb') as f:\n",
    "    data = pickle.load(f)\n",
    "    new_tokenizer = data['tokenizer']\n",
    "    vocab_size = data['vocab_size']\n",
    "    max_len = data['max_len']\n",
    "    \n",
    "new_model = tf.keras.models.load_model('models/LSTM_model')"
   ]
  },
  {
   "cell_type": "code",
   "execution_count": 3,
   "id": "decimal-prerequisite",
   "metadata": {
    "ExecuteTime": {
     "end_time": "2021-01-27T00:25:23.656702Z",
     "start_time": "2021-01-27T00:25:23.643204Z"
    }
   },
   "outputs": [],
   "source": [
    "def predict_pos_neg(review, threshold = 0.1):\n",
    "    \n",
    "    review = [review]\n",
    "\n",
    "    padded_review = pad_sequences(new_tokenizer.texts_to_sequences(review), maxlen = max_len)\n",
    "    \n",
    "    pred = new_model.predict(padded_review)[0][1]\n",
    "    \n",
    "    if pred < 0.5 - threshold:\n",
    "        return ('negative', pred)\n",
    "    \n",
    "    elif pred > 0.5 + threshold:\n",
    "        return ('positive', pred)\n",
    "    \n",
    "    else:\n",
    "        return ('neutral', pred)"
   ]
  },
  {
   "cell_type": "markdown",
   "id": "configured-architect",
   "metadata": {},
   "source": [
    "## LDA Model"
   ]
  },
  {
   "cell_type": "code",
   "execution_count": 4,
   "id": "casual-efficiency",
   "metadata": {
    "ExecuteTime": {
     "end_time": "2021-01-27T00:25:24.156107Z",
     "start_time": "2021-01-27T00:25:23.658700Z"
    }
   },
   "outputs": [],
   "source": [
    "model_112_pos = {'model': gensim.models.LdaModel.load('models/112_pos.model'),\n",
    "                'id2word': corpora.Dictionary.load('models/112_pos.model.id2word')}\n",
    "\n",
    "model_112_neg = {'model': gensim.models.LdaModel.load('models/112_neg.model'),\n",
    "                'id2word': corpora.Dictionary.load('models/112_neg.model.id2word')}\n",
    "\n",
    "model_111_pos = {'model': gensim.models.LdaModel.load('models/111_pos.model'),\n",
    "                'id2word': corpora.Dictionary.load('models/111_pos.model.id2word')}\n",
    "\n",
    "model_111_neg = {'model': gensim.models.LdaModel.load('models/111_neg.model'),\n",
    "                'id2word': corpora.Dictionary.load('models/111_neg.model.id2word')}\n",
    "\n",
    "model_102_pos = {'model': gensim.models.LdaModel.load('models/102_pos.model'),\n",
    "                'id2word': corpora.Dictionary.load('models/102_pos.model.id2word')}\n",
    "\n",
    "model_102_neg = {'model': gensim.models.LdaModel.load('models/102_neg.model'),\n",
    "                'id2word': corpora.Dictionary.load('models/102_neg.model.id2word')}\n",
    "\n",
    "model_101_pos = {'model': gensim.models.LdaModel.load('models/101_pos.model'),\n",
    "                'id2word': corpora.Dictionary.load('models/101_pos.model.id2word')}\n",
    "\n",
    "model_101_neg = {'model': gensim.models.LdaModel.load('models/101_neg.model'),\n",
    "                'id2word': corpora.Dictionary.load('models/101_neg.model.id2word')}\n",
    "\n",
    "model_112 = {'pos': model_112_pos,\n",
    "             'neg': model_112_neg}\n",
    "\n",
    "model_111 = {'pos': model_111_pos,\n",
    "             'neg': model_111_neg}\n",
    "\n",
    "model_102 = {'pos': model_102_pos,\n",
    "             'neg': model_102_neg}\n",
    "\n",
    "model_101 = {'pos': model_101_pos,\n",
    "             'neg': model_101_neg}\n",
    "\n",
    "model_dict = {'112': model_112,\n",
    "              '111': model_111,\n",
    "              '102': model_102,\n",
    "              '101': model_101}"
   ]
  },
  {
   "cell_type": "code",
   "execution_count": 5,
   "id": "spoken-handy",
   "metadata": {
    "ExecuteTime": {
     "end_time": "2021-01-27T00:25:24.172102Z",
     "start_time": "2021-01-27T00:25:24.158110Z"
    }
   },
   "outputs": [],
   "source": [
    "topics_112_pos = {0: 'Suggestions',\n",
    "                  1: 'Character System',\n",
    "                  2: 'Technical Issues',\n",
    "                  3: 'Love for Game'}\n",
    "\n",
    "topics_112_neg = {0: 'Complaints on Game Systems',\n",
    "                  1: 'Account Security Issues',\n",
    "                  2: 'Technical Issues'}\n",
    "\n",
    "topics_111_pos = {0: 'Love for Game (Graphics)',\n",
    "                  1: 'Love for Game (Free Mobile RPG)',\n",
    "                  2: 'Character System',\n",
    "                  3: 'Technical Issues'}\n",
    "\n",
    "topics_111_neg = {0: 'Technical Issues (Bugs & Lags)',\n",
    "                  1: 'Storage Issues',\n",
    "                  2: 'Complaints on Game Systems',\n",
    "                  3: 'Technical Issues (Mobile Optimization & Account Security)'}\n",
    "\n",
    "topics_102_pos = {0: 'Love for Game (Graphics)',\n",
    "                  1: 'Character System',\n",
    "                  2: 'Love for Game (Mobile RPG)',\n",
    "                  3: 'Technical Issues'}\n",
    "\n",
    "topics_102_neg = {0: 'Control Issues',\n",
    "                  1: 'Technical Issues',\n",
    "                  2: 'Complaints on Game Systems (Character Rates)',\n",
    "                  3: 'Complaints on Game Systems (Resin Systems)'}\n",
    "\n",
    "\n",
    "topics_101_pos = {0: 'Love for Game (Free Mobile RPG)',\n",
    "                  1: 'Praises & Anticipation',\n",
    "                  2: 'Technical Issues',\n",
    "                  3: 'Love for Game (Graphics)'}\n",
    "\n",
    "topics_101_neg = {0: 'Technical Issues (Bugs, Crash and Lags)',\n",
    "                  1: 'Complaints on Game Systems',\n",
    "                  2: 'Technical Issues (Bad Mobile Performance)'}\n",
    "\n",
    "topics_112 = {'pos': topics_112_pos,\n",
    "              'neg': topics_112_neg}\n",
    "\n",
    "topics_111 = {'pos': topics_111_pos,\n",
    "              'neg': topics_111_neg}\n",
    "\n",
    "topics_102 = {'pos': topics_102_pos,\n",
    "              'neg': topics_102_neg}\n",
    "\n",
    "topics_101 = {'pos': topics_101_pos,\n",
    "              'neg': topics_101_neg}\n",
    "\n",
    "topics_dict = {'112': topics_112,\n",
    "               '111': topics_111,\n",
    "               '102': topics_102,\n",
    "               '101': topics_101}"
   ]
  },
  {
   "cell_type": "code",
   "execution_count": 6,
   "id": "disturbed-finding",
   "metadata": {
    "ExecuteTime": {
     "end_time": "2021-01-27T00:25:24.188092Z",
     "start_time": "2021-01-27T00:25:24.174099Z"
    }
   },
   "outputs": [],
   "source": [
    "# tweet tokenizer\n",
    "def get_sent_post(sentence):\n",
    "    word_tag = nltk.pos_tag(sentence)\n",
    "\n",
    "    new_word_tag = []\n",
    "\n",
    "    for word, tag in word_tag:\n",
    "        new_tag = tag[0]\n",
    "        tag_dict = {\"J\": wordnet.ADJ,\n",
    "                    \"N\": wordnet.NOUN,\n",
    "                    \"V\": wordnet.VERB,\n",
    "                    \"R\": wordnet.ADV}\n",
    "\n",
    "        new_word_tag.append((word, tag_dict.get(new_tag, wordnet.NOUN)))\n",
    "    \n",
    "    return new_word_tag\n",
    "\n",
    "def process_words(data, stop_words_list = stop_words, allowed_postags=['NOUN', 'ADJ', 'VERB', 'ADV', 'PROPN']):\n",
    "    \"\"\"Remove Stopwords, Form Bigrams, Trigrams and Lemmatization\"\"\"\n",
    "    \n",
    "    tokenizer = TweetTokenizer()\n",
    "    texts = [tokenizer.tokenize(doc) for doc in data]\n",
    "    \n",
    "    # build the bigram and trigram models by automatically detecting common phrases / multiword expressions\n",
    "    # min_count ignores all words and bigrams with total count less than the number\n",
    "    # threshold affects the number of phrases that will be created (higher threshold = fewer phrases)\n",
    "    bigram = gensim.models.Phrases(texts, min_count=5, threshold=100)\n",
    "    trigram = gensim.models.Phrases(bigram[texts], threshold=100)\n",
    "\n",
    "    # a phrases object is for learning bigrams (and multiword expressions), not for processing\n",
    "    # for processing, need to use a phraser object\n",
    "    bigram_mod = gensim.models.phrases.Phraser(bigram)\n",
    "    trigram_mod = gensim.models.phrases.Phraser(trigram)\n",
    "    \n",
    "    # removes stopwords, lowercases, tokenizes, de-accents and \n",
    "    # removes words that are too short or too long in the text if word not in stop_words\n",
    "    texts = [[word for word in simple_preprocess(str(doc), deacc=True) if word not in stop_words_list] for doc in texts]\n",
    " \n",
    "    # combines bi-gram phrases\n",
    "    texts = [bigram_mod[doc] for doc in texts]\n",
    "    \n",
    "    # combines tri-gram phrases\n",
    "    texts = [trigram_mod[bigram_mod[doc]] for doc in texts]\n",
    "    \n",
    "    texts_out = []\n",
    "    \n",
    "    # loads the spacy 'en_core_web_sm' model to get the type of pos tags for each word\n",
    "    # disabling 'parser' and 'ner' for faster processing (keeping only tagger component)\n",
    "    nlp = spacy.load('en_core_web_sm', disable=['parser', 'ner'])\n",
    "    \n",
    "    for sent in texts:\n",
    "        \n",
    "        # join the words together and process the it using the nlp model\n",
    "        doc = nlp(\" \".join(sent)) \n",
    "        \n",
    "        # only keep the word if it is in the allowed pos tags\n",
    "        texts_out.append([token for token in doc if token.pos_ in allowed_postags])\n",
    "    \n",
    "\n",
    "    # using NLTK's lemmatizer as it returns words into their base forms\n",
    "    # it performs better than many other lemmatizer (and stemmers) as it takes into account the part-of-speech of the word\n",
    "    texts_out = [[word for word in simple_preprocess(str(doc))] for doc in texts_out]\n",
    "\n",
    "    lemmatizer = WordNetLemmatizer()\n",
    "    texts_out = [[lemmatizer.lemmatize(word, pos) for word, pos in get_sent_post(sentence)] for sentence in texts_out]\n",
    "    \n",
    "    # remove stopwords again after lemmatizing\n",
    "    texts_out = [[word for word in doc if word not in stop_words_list] for doc in texts_out]\n",
    "        \n",
    "    return texts_out"
   ]
  },
  {
   "cell_type": "code",
   "execution_count": 7,
   "id": "classical-tampa",
   "metadata": {
    "ExecuteTime": {
     "end_time": "2021-01-27T00:25:24.220176Z",
     "start_time": "2021-01-27T00:25:24.190089Z"
    }
   },
   "outputs": [],
   "source": [
    "def predict_topic(review, update, pos_neg, threshold = 0.1):\n",
    "    \n",
    "    processed_sentence = process_words(pd.Series(review))\n",
    "    \n",
    "    sentence_bow = model_dict[update][pos_neg]['id2word'].doc2bow(processed_sentence[0])\n",
    "    \n",
    "    sentence_pred = model_dict[update][pos_neg]['model'].get_document_topics(sentence_bow)\n",
    "    sentence_pred.sort(key=lambda tup: tup[1], reverse = True)\n",
    "    \n",
    "    top_2_topics = [(topics_dict[update][pos_neg][tup[0]], tup[1]) for tup in sentence_pred[:2]]\n",
    "    \n",
    "    if top_2_topics[0][1] - top_2_topics[1][1] < threshold:\n",
    "        return [tup[0] for tup in top_2_topics]\n",
    "    \n",
    "    else:\n",
    "        return top_2_topics[0][0]"
   ]
  },
  {
   "cell_type": "markdown",
   "id": "opponent-scotland",
   "metadata": {},
   "source": [
    "# Testing Prediction Functions"
   ]
  },
  {
   "cell_type": "markdown",
   "id": "middle-positive",
   "metadata": {},
   "source": [
    "## Neutral Reviews"
   ]
  },
  {
   "cell_type": "code",
   "execution_count": 8,
   "id": "alone-rocket",
   "metadata": {
    "ExecuteTime": {
     "end_time": "2021-01-27T00:25:24.236166Z",
     "start_time": "2021-01-27T00:25:24.225175Z"
    }
   },
   "outputs": [],
   "source": [
    "neu_line = \"\"\"\n",
    "The game is truly one of the best in it's genre. the world is fun to explore, the combat is quite engaging! \n",
    "The biggest issue, I have with this game is The Resin System! \n",
    "It feels too restrictive, and heavily halts the players progression in becoming stronger and upgrading their characters. \n",
    "All the fun content requires you to have resin, and there's not enough ways to refill resin Reasonably. \n",
    "I often end my play sessions unsatifised because I just wanted to play and farm a bit more\n",
    "\"\"\""
   ]
  },
  {
   "cell_type": "code",
   "execution_count": 9,
   "id": "subsequent-nightmare",
   "metadata": {
    "ExecuteTime": {
     "end_time": "2021-01-27T00:25:25.270879Z",
     "start_time": "2021-01-27T00:25:24.239165Z"
    },
    "scrolled": true
   },
   "outputs": [
    {
     "data": {
      "text/plain": [
       "('neutral', 0.51674)"
      ]
     },
     "execution_count": 9,
     "metadata": {},
     "output_type": "execute_result"
    }
   ],
   "source": [
    "predict_pos_neg(neu_line)"
   ]
  },
  {
   "cell_type": "code",
   "execution_count": 10,
   "id": "divided-concentration",
   "metadata": {
    "ExecuteTime": {
     "end_time": "2021-01-27T00:25:25.350829Z",
     "start_time": "2021-01-27T00:25:25.272877Z"
    }
   },
   "outputs": [
    {
     "data": {
      "text/plain": [
       "('positive', 0.51674)"
      ]
     },
     "execution_count": 10,
     "metadata": {},
     "output_type": "execute_result"
    }
   ],
   "source": [
    "predict_pos_neg(neu_line, threshold = 0)"
   ]
  },
  {
   "cell_type": "code",
   "execution_count": 11,
   "id": "welcome-tennis",
   "metadata": {
    "ExecuteTime": {
     "end_time": "2021-01-27T00:25:29.050135Z",
     "start_time": "2021-01-27T00:25:25.354827Z"
    }
   },
   "outputs": [
    {
     "data": {
      "text/plain": [
       "['Character System', 'Suggestions']"
      ]
     },
     "execution_count": 11,
     "metadata": {},
     "output_type": "execute_result"
    }
   ],
   "source": [
    "predict_topic(neu_line, update = '112', pos_neg = 'pos')"
   ]
  },
  {
   "cell_type": "markdown",
   "id": "lovely-color",
   "metadata": {},
   "source": [
    "## Positive Reviews"
   ]
  },
  {
   "cell_type": "code",
   "execution_count": 12,
   "id": "multiple-india",
   "metadata": {
    "ExecuteTime": {
     "end_time": "2021-01-27T00:25:29.065127Z",
     "start_time": "2021-01-27T00:25:29.052133Z"
    }
   },
   "outputs": [],
   "source": [
    "pos_line = \"\"\"\n",
    "The game is truly one of the best in it's genre. the world is fun to explore, the combat is quite engaging! \n",
    "\"\"\""
   ]
  },
  {
   "cell_type": "code",
   "execution_count": 13,
   "id": "ancient-victim",
   "metadata": {
    "ExecuteTime": {
     "end_time": "2021-01-27T00:25:29.128087Z",
     "start_time": "2021-01-27T00:25:29.067125Z"
    }
   },
   "outputs": [
    {
     "data": {
      "text/plain": [
       "('positive', 0.9994367)"
      ]
     },
     "execution_count": 13,
     "metadata": {},
     "output_type": "execute_result"
    }
   ],
   "source": [
    "predict_pos_neg(pos_line)"
   ]
  },
  {
   "cell_type": "code",
   "execution_count": 14,
   "id": "auburn-florence",
   "metadata": {
    "ExecuteTime": {
     "end_time": "2021-01-27T00:25:29.829653Z",
     "start_time": "2021-01-27T00:25:29.130086Z"
    }
   },
   "outputs": [
    {
     "data": {
      "text/plain": [
       "'Love for Game'"
      ]
     },
     "execution_count": 14,
     "metadata": {},
     "output_type": "execute_result"
    }
   ],
   "source": [
    "predict_topic(pos_line, update = '112', pos_neg = 'pos')"
   ]
  },
  {
   "cell_type": "markdown",
   "id": "alternate-tunisia",
   "metadata": {},
   "source": [
    "## Negative Reviews"
   ]
  },
  {
   "cell_type": "code",
   "execution_count": 15,
   "id": "vital-narrative",
   "metadata": {
    "ExecuteTime": {
     "end_time": "2021-01-27T00:25:29.845644Z",
     "start_time": "2021-01-27T00:25:29.831653Z"
    }
   },
   "outputs": [],
   "source": [
    "neg_line = \"\"\"\n",
    "The biggest issue, I have with this game is The Resin System! \n",
    "It feels too restrictive, and heavily halts the players progression in becoming stronger and upgrading their characters. \n",
    "All the fun content requires you to have resin, and there's not enough ways to refill resin Reasonably. \n",
    "I often end my play sessions unsatifised because I just wanted to play and farm a bit more\n",
    "\"\"\""
   ]
  },
  {
   "cell_type": "code",
   "execution_count": 16,
   "id": "bridal-palestinian",
   "metadata": {
    "ExecuteTime": {
     "end_time": "2021-01-27T00:25:29.955641Z",
     "start_time": "2021-01-27T00:25:29.848642Z"
    }
   },
   "outputs": [
    {
     "data": {
      "text/plain": [
       "('negative', 0.10333362)"
      ]
     },
     "execution_count": 16,
     "metadata": {},
     "output_type": "execute_result"
    }
   ],
   "source": [
    "predict_pos_neg(neg_line)"
   ]
  },
  {
   "cell_type": "code",
   "execution_count": 17,
   "id": "friendly-offer",
   "metadata": {
    "ExecuteTime": {
     "end_time": "2021-01-27T00:25:30.686189Z",
     "start_time": "2021-01-27T00:25:29.957639Z"
    }
   },
   "outputs": [
    {
     "data": {
      "text/plain": [
       "'Complaints on Game Systems'"
      ]
     },
     "execution_count": 17,
     "metadata": {},
     "output_type": "execute_result"
    }
   ],
   "source": [
    "predict_topic(neg_line, update = '112', pos_neg = 'neg')"
   ]
  },
  {
   "cell_type": "markdown",
   "id": "reverse-championship",
   "metadata": {},
   "source": [
    "## Other Reviews"
   ]
  },
  {
   "cell_type": "code",
   "execution_count": 18,
   "id": "private-roots",
   "metadata": {
    "ExecuteTime": {
     "end_time": "2021-01-27T00:25:30.702180Z",
     "start_time": "2021-01-27T00:25:30.688188Z"
    }
   },
   "outputs": [],
   "source": [
    "review_1 = \"I wish I could give this game more stars. This game is beyond excellent! There is not one bad thing I can say about this game, it is everything I have ever wanted in a mobile game. I'm addicted to it and love the cute anime style!!\""
   ]
  },
  {
   "cell_type": "code",
   "execution_count": null,
   "id": "metallic-lloyd",
   "metadata": {},
   "outputs": [],
   "source": []
  },
  {
   "cell_type": "markdown",
   "id": "opening-opening",
   "metadata": {},
   "source": [
    "# Predicting Positive/Negative Class of 3 Stars Reviews"
   ]
  },
  {
   "cell_type": "code",
   "execution_count": 19,
   "id": "cloudy-lancaster",
   "metadata": {
    "ExecuteTime": {
     "end_time": "2021-01-27T00:25:31.477212Z",
     "start_time": "2021-01-27T00:25:30.704179Z"
    }
   },
   "outputs": [],
   "source": [
    "df = pd.read_pickle('data/final_df.p')"
   ]
  },
  {
   "cell_type": "code",
   "execution_count": 20,
   "id": "brief-comedy",
   "metadata": {
    "ExecuteTime": {
     "end_time": "2021-01-27T00:25:31.571920Z",
     "start_time": "2021-01-27T00:25:31.479206Z"
    }
   },
   "outputs": [],
   "source": [
    "df = df[df['score'] ==  3].copy()"
   ]
  },
  {
   "cell_type": "code",
   "execution_count": 21,
   "id": "aboriginal-mobile",
   "metadata": {
    "ExecuteTime": {
     "end_time": "2021-01-27T00:26:09.550473Z",
     "start_time": "2021-01-27T00:26:09.515495Z"
    }
   },
   "outputs": [
    {
     "data": {
      "text/html": [
       "<div>\n",
       "<style scoped>\n",
       "    .dataframe tbody tr th:only-of-type {\n",
       "        vertical-align: middle;\n",
       "    }\n",
       "\n",
       "    .dataframe tbody tr th {\n",
       "        vertical-align: top;\n",
       "    }\n",
       "\n",
       "    .dataframe thead th {\n",
       "        text-align: right;\n",
       "    }\n",
       "</style>\n",
       "<table border=\"1\" class=\"dataframe\">\n",
       "  <thead>\n",
       "    <tr style=\"text-align: right;\">\n",
       "      <th></th>\n",
       "      <th>content</th>\n",
       "      <th>score</th>\n",
       "      <th>date</th>\n",
       "      <th>thumbsUp</th>\n",
       "      <th>source</th>\n",
       "      <th>text</th>\n",
       "      <th>length</th>\n",
       "      <th>update</th>\n",
       "    </tr>\n",
       "  </thead>\n",
       "  <tbody>\n",
       "    <tr>\n",
       "      <th>6</th>\n",
       "      <td>This game is pretty great. Until you hit late ...</td>\n",
       "      <td>3</td>\n",
       "      <td>2020-12-15 21:34:40</td>\n",
       "      <td>7.0</td>\n",
       "      <td>google_play_store</td>\n",
       "      <td>[this, game, is, pretty, great, until, you, hi...</td>\n",
       "      <td>87</td>\n",
       "      <td>1.1.2</td>\n",
       "    </tr>\n",
       "    <tr>\n",
       "      <th>33</th>\n",
       "      <td>I love this game so SO much, but the in-game b...</td>\n",
       "      <td>3</td>\n",
       "      <td>2020-12-15 11:56:52</td>\n",
       "      <td>3.0</td>\n",
       "      <td>google_play_store</td>\n",
       "      <td>[i, love, this, game, so, so, much, but, the, ...</td>\n",
       "      <td>87</td>\n",
       "      <td>1.1.2</td>\n",
       "    </tr>\n",
       "    <tr>\n",
       "      <th>43</th>\n",
       "      <td>Absolutely loved this game but after recent up...</td>\n",
       "      <td>3</td>\n",
       "      <td>2020-12-16 09:31:32</td>\n",
       "      <td>0.0</td>\n",
       "      <td>google_play_store</td>\n",
       "      <td>[absolutely, loved, this, game, but, after, re...</td>\n",
       "      <td>66</td>\n",
       "      <td>1.1.2</td>\n",
       "    </tr>\n",
       "    <tr>\n",
       "      <th>45</th>\n",
       "      <td>•I love this game 💕 •It has nice character des...</td>\n",
       "      <td>3</td>\n",
       "      <td>2020-12-16 03:03:41</td>\n",
       "      <td>0.0</td>\n",
       "      <td>google_play_store</td>\n",
       "      <td>[i, love, this, game, it, has, nice, character...</td>\n",
       "      <td>95</td>\n",
       "      <td>1.1.2</td>\n",
       "    </tr>\n",
       "    <tr>\n",
       "      <th>46</th>\n",
       "      <td>This game is awesome, has very good graphics, ...</td>\n",
       "      <td>3</td>\n",
       "      <td>2020-12-12 13:28:17</td>\n",
       "      <td>3.0</td>\n",
       "      <td>google_play_store</td>\n",
       "      <td>[this, game, is, awesome, has, very, good, gra...</td>\n",
       "      <td>61</td>\n",
       "      <td>1.1.2</td>\n",
       "    </tr>\n",
       "  </tbody>\n",
       "</table>\n",
       "</div>"
      ],
      "text/plain": [
       "                                              content  score  \\\n",
       "6   This game is pretty great. Until you hit late ...      3   \n",
       "33  I love this game so SO much, but the in-game b...      3   \n",
       "43  Absolutely loved this game but after recent up...      3   \n",
       "45  •I love this game 💕 •It has nice character des...      3   \n",
       "46  This game is awesome, has very good graphics, ...      3   \n",
       "\n",
       "                  date  thumbsUp             source  \\\n",
       "6  2020-12-15 21:34:40       7.0  google_play_store   \n",
       "33 2020-12-15 11:56:52       3.0  google_play_store   \n",
       "43 2020-12-16 09:31:32       0.0  google_play_store   \n",
       "45 2020-12-16 03:03:41       0.0  google_play_store   \n",
       "46 2020-12-12 13:28:17       3.0  google_play_store   \n",
       "\n",
       "                                                 text  length update  \n",
       "6   [this, game, is, pretty, great, until, you, hi...      87  1.1.2  \n",
       "33  [i, love, this, game, so, so, much, but, the, ...      87  1.1.2  \n",
       "43  [absolutely, loved, this, game, but, after, re...      66  1.1.2  \n",
       "45  [i, love, this, game, it, has, nice, character...      95  1.1.2  \n",
       "46  [this, game, is, awesome, has, very, good, gra...      61  1.1.2  "
      ]
     },
     "execution_count": 21,
     "metadata": {},
     "output_type": "execute_result"
    }
   ],
   "source": [
    "df.head()"
   ]
  },
  {
   "cell_type": "code",
   "execution_count": 23,
   "id": "robust-heath",
   "metadata": {
    "ExecuteTime": {
     "end_time": "2021-01-27T00:26:31.462299Z",
     "start_time": "2021-01-27T00:26:31.459300Z"
    }
   },
   "outputs": [],
   "source": [
    "reviews = df['content'].values"
   ]
  },
  {
   "cell_type": "code",
   "execution_count": 25,
   "id": "interior-nickname",
   "metadata": {
    "ExecuteTime": {
     "end_time": "2021-01-27T00:32:06.963018Z",
     "start_time": "2021-01-27T00:27:44.941655Z"
    }
   },
   "outputs": [],
   "source": [
    "df['prediction'] = df['content'].apply(lambda x: predict_pos_neg(x))"
   ]
  },
  {
   "cell_type": "code",
   "execution_count": 26,
   "id": "cardiovascular-proxy",
   "metadata": {
    "ExecuteTime": {
     "end_time": "2021-01-27T00:32:06.995042Z",
     "start_time": "2021-01-27T00:32:06.964014Z"
    }
   },
   "outputs": [
    {
     "data": {
      "text/html": [
       "<div>\n",
       "<style scoped>\n",
       "    .dataframe tbody tr th:only-of-type {\n",
       "        vertical-align: middle;\n",
       "    }\n",
       "\n",
       "    .dataframe tbody tr th {\n",
       "        vertical-align: top;\n",
       "    }\n",
       "\n",
       "    .dataframe thead th {\n",
       "        text-align: right;\n",
       "    }\n",
       "</style>\n",
       "<table border=\"1\" class=\"dataframe\">\n",
       "  <thead>\n",
       "    <tr style=\"text-align: right;\">\n",
       "      <th></th>\n",
       "      <th>content</th>\n",
       "      <th>score</th>\n",
       "      <th>date</th>\n",
       "      <th>thumbsUp</th>\n",
       "      <th>source</th>\n",
       "      <th>text</th>\n",
       "      <th>length</th>\n",
       "      <th>update</th>\n",
       "      <th>prediction</th>\n",
       "    </tr>\n",
       "  </thead>\n",
       "  <tbody>\n",
       "    <tr>\n",
       "      <th>6</th>\n",
       "      <td>This game is pretty great. Until you hit late ...</td>\n",
       "      <td>3</td>\n",
       "      <td>2020-12-15 21:34:40</td>\n",
       "      <td>7.0</td>\n",
       "      <td>google_play_store</td>\n",
       "      <td>[this, game, is, pretty, great, until, you, hi...</td>\n",
       "      <td>87</td>\n",
       "      <td>1.1.2</td>\n",
       "      <td>(negative, 0.018574368)</td>\n",
       "    </tr>\n",
       "    <tr>\n",
       "      <th>33</th>\n",
       "      <td>I love this game so SO much, but the in-game b...</td>\n",
       "      <td>3</td>\n",
       "      <td>2020-12-15 11:56:52</td>\n",
       "      <td>3.0</td>\n",
       "      <td>google_play_store</td>\n",
       "      <td>[i, love, this, game, so, so, much, but, the, ...</td>\n",
       "      <td>87</td>\n",
       "      <td>1.1.2</td>\n",
       "      <td>(negative, 0.091435134)</td>\n",
       "    </tr>\n",
       "    <tr>\n",
       "      <th>43</th>\n",
       "      <td>Absolutely loved this game but after recent up...</td>\n",
       "      <td>3</td>\n",
       "      <td>2020-12-16 09:31:32</td>\n",
       "      <td>0.0</td>\n",
       "      <td>google_play_store</td>\n",
       "      <td>[absolutely, loved, this, game, but, after, re...</td>\n",
       "      <td>66</td>\n",
       "      <td>1.1.2</td>\n",
       "      <td>(negative, 0.037287418)</td>\n",
       "    </tr>\n",
       "    <tr>\n",
       "      <th>45</th>\n",
       "      <td>•I love this game 💕 •It has nice character des...</td>\n",
       "      <td>3</td>\n",
       "      <td>2020-12-16 03:03:41</td>\n",
       "      <td>0.0</td>\n",
       "      <td>google_play_store</td>\n",
       "      <td>[i, love, this, game, it, has, nice, character...</td>\n",
       "      <td>95</td>\n",
       "      <td>1.1.2</td>\n",
       "      <td>(negative, 0.39537132)</td>\n",
       "    </tr>\n",
       "    <tr>\n",
       "      <th>46</th>\n",
       "      <td>This game is awesome, has very good graphics, ...</td>\n",
       "      <td>3</td>\n",
       "      <td>2020-12-12 13:28:17</td>\n",
       "      <td>3.0</td>\n",
       "      <td>google_play_store</td>\n",
       "      <td>[this, game, is, awesome, has, very, good, gra...</td>\n",
       "      <td>61</td>\n",
       "      <td>1.1.2</td>\n",
       "      <td>(neutral, 0.42219338)</td>\n",
       "    </tr>\n",
       "  </tbody>\n",
       "</table>\n",
       "</div>"
      ],
      "text/plain": [
       "                                              content  score  \\\n",
       "6   This game is pretty great. Until you hit late ...      3   \n",
       "33  I love this game so SO much, but the in-game b...      3   \n",
       "43  Absolutely loved this game but after recent up...      3   \n",
       "45  •I love this game 💕 •It has nice character des...      3   \n",
       "46  This game is awesome, has very good graphics, ...      3   \n",
       "\n",
       "                  date  thumbsUp             source  \\\n",
       "6  2020-12-15 21:34:40       7.0  google_play_store   \n",
       "33 2020-12-15 11:56:52       3.0  google_play_store   \n",
       "43 2020-12-16 09:31:32       0.0  google_play_store   \n",
       "45 2020-12-16 03:03:41       0.0  google_play_store   \n",
       "46 2020-12-12 13:28:17       3.0  google_play_store   \n",
       "\n",
       "                                                 text  length update  \\\n",
       "6   [this, game, is, pretty, great, until, you, hi...      87  1.1.2   \n",
       "33  [i, love, this, game, so, so, much, but, the, ...      87  1.1.2   \n",
       "43  [absolutely, loved, this, game, but, after, re...      66  1.1.2   \n",
       "45  [i, love, this, game, it, has, nice, character...      95  1.1.2   \n",
       "46  [this, game, is, awesome, has, very, good, gra...      61  1.1.2   \n",
       "\n",
       "                 prediction  \n",
       "6   (negative, 0.018574368)  \n",
       "33  (negative, 0.091435134)  \n",
       "43  (negative, 0.037287418)  \n",
       "45   (negative, 0.39537132)  \n",
       "46    (neutral, 0.42219338)  "
      ]
     },
     "execution_count": 26,
     "metadata": {},
     "output_type": "execute_result"
    }
   ],
   "source": [
    "df.head()"
   ]
  },
  {
   "cell_type": "code",
   "execution_count": 27,
   "id": "colonial-pension",
   "metadata": {
    "ExecuteTime": {
     "end_time": "2021-01-27T00:33:47.720458Z",
     "start_time": "2021-01-27T00:33:47.700478Z"
    }
   },
   "outputs": [
    {
     "name": "stdout",
     "output_type": "stream",
     "text": [
      "This game is pretty great. Until you hit late game and realize the problems with it. The resin system is terrible, gates progression, and they want to keep it for money reasons. Honestly this game will make more than enough(if not more) money without it. The security issues without two factor authentication also prevents me from spending money on this game. If they removed the resin system and increased security I would spend more money than I do on most games because of the quality content. ('negative', 0.018574368)\n",
      "I love this game so SO much, but the in-game bugs and glitches keep ruining the experience for me. Everytime Stormterror keeps coming into the frame, there is almost *nothing* I could see except glitching textures. I also cannot aim as Amber so I had to keep going out of aiming mode to aim properly. Cutscenes tend to stutter every now and then as well. I'm still in the prologue and I literally cannot progress when these issues are in the way. Please fix this. ('negative', 0.091435134)\n",
      "Absolutely loved this game but after recent update I'm not able to log in and I'm missing out on collecting the blessing gems that I bought!! Out of 30 days I could just collect 3days . The game doesn't let me log in!! Says error 4052 or something and says network error failure to connect. Getting the blessings has gone to a complete waste. Please help ('negative', 0.037287418)\n",
      "•I love this game 💕 •It has nice character designs and almost everything is so aesthetic/beautiful!! •i have issues with the game. I've tried using kaeya to freeze water so I could travel faster. But even tho the water is frozen, the ice that is suppose to appear on the water is not visible. •secondly, there's a quest that lets me help Lisa find a missing book (lost book- *in ruin or domain). The game glitches and doesn't allow me to attack enemies. •i hope U can fix it, ty for reading :) ('negative', 0.39537132)\n",
      "This game is awesome, has very good graphics, good controls, and very good story. But when the game updating, it becoming lag, the point that it cannot handle my phone. I suggest to optimize or add more settings to graphics like disable the animations or completely disable the bushes, if you make that, more low end device could handle this game. ('neutral', 0.42219338)\n",
      "For the first 50 hours into the game, the game will give you experience what is AAA tier game looks like. After you passing your honeymoon, the game feel so dull especially the character progression, the game doesn't give you enough stamina to you to grind and the stuff you get it just will be a fodder for m your good stuff. (maybe this problem will solve within time) ('negative', 0.12002369)\n",
      "The gameplay, the story, the graphic really bypass all game in playstore for me it really is super fun but the thing is the only problem for me is constellation for character especially for 5 star. It really is impossible to get if you free to play player. For 5 star chr i really want to max out their potential but blocked by paywall. I just hope this not gonna be a long term. Thank you genshin team if you read this ('negative', 0.3759099)\n",
      "This game was really great. The graphics was nice the character design and the background scenery are awesome.... At first I would give it a 5 star rate but not after I started Childe quest. The quest kept on stuck at the last 10 seconds before defeating the ruin guards. The whole screen went black and when I reentered the game it was the same n kept on repeating reconnect to the server even though my Internet connection was great. Plz fix this issue. Thank you ('neutral', 0.4316402)\n",
      "Would've left a 5 star, because in terms of the game it's the most beautiful thing I've ever seen. BUT, it has one of the most aggressive, greedy, selfish gacha systems that would make EA micro-transactions look like allowance. Also the Seize the Day (daily login rewards that give up to 7 days) happens every several weeks... Why is a 7-day daily login reward event not weekly? ('negative', 0.111690536)\n",
      "Its such a lovely game with the exploration and free roaming. But there is one thing that I HATE. the connections to the server is so bad that i reconnected and disconnected 30 times today and no there is nothing wrong with the wifi. Ive tested it on all the wifis i can use and it always disconnects. please fix it and then i will give it 5 stars ('negative', 0.26095203)\n"
     ]
    }
   ],
   "source": [
    "for i in range(10):\n",
    "    print(df['content'].iloc[i], df['prediction'].iloc[i])"
   ]
  },
  {
   "cell_type": "code",
   "execution_count": 28,
   "id": "noticed-variable",
   "metadata": {
    "ExecuteTime": {
     "end_time": "2021-01-27T00:35:23.807301Z",
     "start_time": "2021-01-27T00:35:23.788314Z"
    }
   },
   "outputs": [],
   "source": [
    "df['pos_neg'] = df['prediction'].apply(lambda x: x[0])"
   ]
  },
  {
   "cell_type": "code",
   "execution_count": 34,
   "id": "polyphonic-window",
   "metadata": {
    "ExecuteTime": {
     "end_time": "2021-01-27T00:37:30.202238Z",
     "start_time": "2021-01-27T00:37:30.050331Z"
    }
   },
   "outputs": [
    {
     "data": {
      "image/png": "[encoded data removed]",
      "text/plain": [
       "<Figure size 432x288 with 1 Axes>"
      ]
     },
     "metadata": {
      "needs_background": "light"
     },
     "output_type": "display_data"
    }
   ],
   "source": [
    "df['pos_neg'].value_counts().plot(kind = 'barh')\n",
    "plt.title('Predicted Class for Reviews with Ratings = 3')\n",
    "plt.xlabel('Number of Reviews')\n",
    "plt.show()"
   ]
  },
  {
   "cell_type": "code",
   "execution_count": null,
   "id": "rental-sheffield",
   "metadata": {},
   "outputs": [],
   "source": []
  }
 ],
 "metadata": {
  "kernelspec": {
   "display_name": "Python 3",
   "language": "python",
   "name": "python3"
  },
  "language_info": {
   "codemirror_mode": {
    "name": "ipython",
    "version": 3
   },
   "file_extension": ".py",
   "mimetype": "text/x-python",
   "name": "python",
   "nbconvert_exporter": "python",
   "pygments_lexer": "ipython3",
   "version": "3.7.9"
  },
  "toc": {
   "base_numbering": 1,
   "nav_menu": {},
   "number_sections": false,
   "sideBar": true,
   "skip_h1_title": false,
   "title_cell": "Table of Contents",
   "title_sidebar": "Contents",
   "toc_cell": false,
   "toc_position": {
    "height": "calc(100% - 180px)",
    "left": "10px",
    "top": "150px",
    "width": "263px"
   },
   "toc_section_display": true,
   "toc_window_display": true
  }
 },
 "nbformat": 4,
 "nbformat_minor": 5
}
