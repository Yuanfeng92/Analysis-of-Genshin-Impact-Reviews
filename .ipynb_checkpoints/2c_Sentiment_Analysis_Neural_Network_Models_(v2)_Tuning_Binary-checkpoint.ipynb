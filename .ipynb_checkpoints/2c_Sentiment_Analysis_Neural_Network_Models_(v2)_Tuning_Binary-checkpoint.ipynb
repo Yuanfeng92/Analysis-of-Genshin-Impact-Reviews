{
 "cells": [
  {
   "cell_type": "markdown",
   "metadata": {
    "id": "7DtOeZAw9YXJ"
   },
   "source": [
    "https://towardsdatascience.com/fine-grained-sentiment-analysis-in-python-part-1-2697bb111ed4\n",
    "\n",
    "How to read data from colab\n",
    "https://neptune.ai/blog/google-colab-dealing-with-files"
   ]
  },
  {
   "cell_type": "markdown",
   "metadata": {
    "id": "eAUAx-HM9YXd"
   },
   "source": [
    "# Import Libraries"
   ]
  },
  {
   "cell_type": "code",
   "execution_count": 6,
   "metadata": {
    "id": "i0WEzD-C9YXi"
   },
   "outputs": [],
   "source": [
    "import pandas as pd\n",
    "import numpy as np\n",
    "import seaborn as sns\n",
    "import matplotlib.pyplot as plt\n",
    "\n",
    "from sklearn.metrics import accuracy_score, confusion_matrix, ConfusionMatrixDisplay\n",
    "\n",
    "from sklearn.model_selection import train_test_split\n",
    "from sklearn.feature_extraction.text import CountVectorizer, TfidfTransformer\n",
    "from sklearn.linear_model import LogisticRegression\n",
    "from sklearn.pipeline import Pipeline\n",
    "\n",
    "from sklearn.feature_extraction.text import CountVectorizer, TfidfTransformer\n",
    "from sklearn.linear_model import SGDClassifier\n",
    "from sklearn.pipeline import Pipeline\n",
    "from sklearn.naive_bayes import MultinomialNB\n",
    "\n",
    "from sklearn.preprocessing import OneHotEncoder\n",
    "\n",
    "import nltk\n",
    "import nltk.sentiment.sentiment_analyzer \n",
    "from nltk.sentiment.util import extract_unigram_feats, mark_negation\n",
    "\n",
    "# Build the model\n",
    "import tensorflow as tf\n",
    "from tensorflow.keras.models import Sequential\n",
    "from tensorflow.keras.layers import LSTM, Dense, Dropout\n",
    "from tensorflow.keras.layers import SpatialDropout1D\n",
    "from tensorflow.keras.layers import Embedding\n",
    "from tensorflow.keras.callbacks import EarlyStopping\n",
    "\n",
    "from tensorflow.keras.preprocessing.text import Tokenizer\n",
    "from tensorflow.keras.preprocessing.sequence import pad_sequences\n",
    "\n",
    "np.random.seed(11)\n",
    "tf.random.set_seed(11)"
   ]
  },
  {
   "cell_type": "code",
   "execution_count": 7,
   "metadata": {
    "colab": {
     "base_uri": "https://localhost:8080/",
     "height": 37
    },
    "id": "ayue9De4jd_L",
    "outputId": "d68b5108-6280-4292-a063-1419c772d494"
   },
   "outputs": [
    {
     "data": {
      "application/vnd.google.colaboratory.intrinsic+json": {
       "type": "string"
      },
      "text/plain": [
       "''"
      ]
     },
     "execution_count": 7,
     "metadata": {
      "tags": []
     },
     "output_type": "execute_result"
    }
   ],
   "source": [
    "\n",
    "tf.test.gpu_device_name()"
   ]
  },
  {
   "cell_type": "code",
   "execution_count": 8,
   "metadata": {
    "colab": {
     "base_uri": "https://localhost:8080/"
    },
    "id": "ZjIXFyfw-kAs",
    "outputId": "f8b7cf0d-bb84-4070-f19d-d33d5ffb473d"
   },
   "outputs": [
    {
     "name": "stdout",
     "output_type": "stream",
     "text": [
      "Mounted at /content/gdrive\n"
     ]
    }
   ],
   "source": [
    "from google.colab import drive\n",
    "drive.mount('/content/gdrive')"
   ]
  },
  {
   "cell_type": "code",
   "execution_count": 9,
   "metadata": {
    "colab": {
     "base_uri": "https://localhost:8080/",
     "height": 293
    },
    "id": "JBKTu04e9YXm",
    "outputId": "d9d8cfcb-0662-42ee-eb22-4412ea60ac7b"
   },
   "outputs": [
    {
     "data": {
      "text/html": [
       "<div>\n",
       "<style scoped>\n",
       "    .dataframe tbody tr th:only-of-type {\n",
       "        vertical-align: middle;\n",
       "    }\n",
       "\n",
       "    .dataframe tbody tr th {\n",
       "        vertical-align: top;\n",
       "    }\n",
       "\n",
       "    .dataframe thead th {\n",
       "        text-align: right;\n",
       "    }\n",
       "</style>\n",
       "<table border=\"1\" class=\"dataframe\">\n",
       "  <thead>\n",
       "    <tr style=\"text-align: right;\">\n",
       "      <th></th>\n",
       "      <th>content</th>\n",
       "      <th>score</th>\n",
       "      <th>date</th>\n",
       "      <th>thumbsUp</th>\n",
       "      <th>source</th>\n",
       "      <th>text</th>\n",
       "      <th>length</th>\n",
       "      <th>update</th>\n",
       "      <th>TB_polarity</th>\n",
       "      <th>TB_pred</th>\n",
       "      <th>VD_neg</th>\n",
       "      <th>VD_neu</th>\n",
       "      <th>VD_pos</th>\n",
       "      <th>VD_compound</th>\n",
       "      <th>VD_pred</th>\n",
       "    </tr>\n",
       "  </thead>\n",
       "  <tbody>\n",
       "    <tr>\n",
       "      <th>0</th>\n",
       "      <td>The graphics are gorgeous, the gameplay is inc...</td>\n",
       "      <td>5</td>\n",
       "      <td>2020-12-11 13:55:29</td>\n",
       "      <td>881.0</td>\n",
       "      <td>google_play_store</td>\n",
       "      <td>[the, graphics, are, gorgeous, the, gameplay, ...</td>\n",
       "      <td>84</td>\n",
       "      <td>1.1.2</td>\n",
       "      <td>0.270238</td>\n",
       "      <td>4</td>\n",
       "      <td>0.061</td>\n",
       "      <td>0.579</td>\n",
       "      <td>0.360</td>\n",
       "      <td>0.9879</td>\n",
       "      <td>5</td>\n",
       "    </tr>\n",
       "    <tr>\n",
       "      <th>1</th>\n",
       "      <td>If you love free world RPG, then this is it! T...</td>\n",
       "      <td>5</td>\n",
       "      <td>2020-12-16 18:10:47</td>\n",
       "      <td>48.0</td>\n",
       "      <td>google_play_store</td>\n",
       "      <td>[if, you, love, free, world, rpg, then, this, ...</td>\n",
       "      <td>94</td>\n",
       "      <td>1.1.2</td>\n",
       "      <td>0.183889</td>\n",
       "      <td>3</td>\n",
       "      <td>0.049</td>\n",
       "      <td>0.766</td>\n",
       "      <td>0.185</td>\n",
       "      <td>0.9187</td>\n",
       "      <td>5</td>\n",
       "    </tr>\n",
       "    <tr>\n",
       "      <th>2</th>\n",
       "      <td>I absolutely love the game! No complaints besi...</td>\n",
       "      <td>5</td>\n",
       "      <td>2020-12-16 00:18:43</td>\n",
       "      <td>185.0</td>\n",
       "      <td>google_play_store</td>\n",
       "      <td>[i, absolutely, love, the, game, no, complaint...</td>\n",
       "      <td>75</td>\n",
       "      <td>1.1.2</td>\n",
       "      <td>0.034921</td>\n",
       "      <td>3</td>\n",
       "      <td>0.156</td>\n",
       "      <td>0.663</td>\n",
       "      <td>0.181</td>\n",
       "      <td>0.6297</td>\n",
       "      <td>5</td>\n",
       "    </tr>\n",
       "    <tr>\n",
       "      <th>3</th>\n",
       "      <td>Great game. Regardless of ripoff issues and su...</td>\n",
       "      <td>4</td>\n",
       "      <td>2020-12-16 12:46:11</td>\n",
       "      <td>1.0</td>\n",
       "      <td>google_play_store</td>\n",
       "      <td>[great, game, regardless, of, ripoff, issues, ...</td>\n",
       "      <td>88</td>\n",
       "      <td>1.1.2</td>\n",
       "      <td>0.073333</td>\n",
       "      <td>3</td>\n",
       "      <td>0.115</td>\n",
       "      <td>0.639</td>\n",
       "      <td>0.245</td>\n",
       "      <td>0.9274</td>\n",
       "      <td>5</td>\n",
       "    </tr>\n",
       "    <tr>\n",
       "      <th>4</th>\n",
       "      <td>Amazing graphics and gameplay although a lot o...</td>\n",
       "      <td>5</td>\n",
       "      <td>2020-12-10 22:51:08</td>\n",
       "      <td>186.0</td>\n",
       "      <td>google_play_store</td>\n",
       "      <td>[amazing, graphics, and, gameplay, although, a...</td>\n",
       "      <td>86</td>\n",
       "      <td>1.1.2</td>\n",
       "      <td>0.381629</td>\n",
       "      <td>4</td>\n",
       "      <td>0.024</td>\n",
       "      <td>0.584</td>\n",
       "      <td>0.392</td>\n",
       "      <td>0.9908</td>\n",
       "      <td>5</td>\n",
       "    </tr>\n",
       "  </tbody>\n",
       "</table>\n",
       "</div>"
      ],
      "text/plain": [
       "                                             content  ...  VD_pred\n",
       "0  The graphics are gorgeous, the gameplay is inc...  ...        5\n",
       "1  If you love free world RPG, then this is it! T...  ...        5\n",
       "2  I absolutely love the game! No complaints besi...  ...        5\n",
       "3  Great game. Regardless of ripoff issues and su...  ...        5\n",
       "4  Amazing graphics and gameplay although a lot o...  ...        5\n",
       "\n",
       "[5 rows x 15 columns]"
      ]
     },
     "execution_count": 9,
     "metadata": {
      "tags": []
     },
     "output_type": "execute_result"
    }
   ],
   "source": [
    "df = pd.read_pickle('/content/gdrive/MyDrive/Data Science Folder/final_df_TB_vader.p')\n",
    "df.head()"
   ]
  },
  {
   "cell_type": "markdown",
   "metadata": {
    "id": "kY8bnrf39YXr"
   },
   "source": [
    "# Modeling (Neural Networks)"
   ]
  },
  {
   "cell_type": "markdown",
   "metadata": {
    "id": "5tSk4Ukl9YXt"
   },
   "source": [
    "## Data Preparation"
   ]
  },
  {
   "cell_type": "code",
   "execution_count": 10,
   "metadata": {
    "id": "7vw2NQub9YXw"
   },
   "outputs": [],
   "source": [
    "nn_df = df.sample(frac = 0.3, random_state = 11)"
   ]
  },
  {
   "cell_type": "code",
   "execution_count": 11,
   "metadata": {
    "colab": {
     "base_uri": "https://localhost:8080/",
     "height": 262
    },
    "id": "DJMAlfsV9YXx",
    "outputId": "ed3fe76c-8bb5-4ee5-e7e0-23115a93bdc2"
   },
   "outputs": [
    {
     "data": {
      "image/png": "[encoded data removed]",
      "text/plain": [
       "<Figure size 432x288 with 1 Axes>"
      ]
     },
     "metadata": {
      "needs_background": "light",
      "tags": []
     },
     "output_type": "display_data"
    }
   ],
   "source": [
    "nn_df['score'].value_counts(normalize=True).plot(kind='bar');"
   ]
  },
  {
   "cell_type": "code",
   "execution_count": 12,
   "metadata": {
    "id": "aEwh8VhS9YX0"
   },
   "outputs": [],
   "source": [
    "reviews = nn_df['content'].values\n",
    "\n",
    "tokenizer = Tokenizer(num_words=7000)\n",
    "tokenizer.fit_on_texts(reviews)"
   ]
  },
  {
   "cell_type": "code",
   "execution_count": 13,
   "metadata": {
    "colab": {
     "base_uri": "https://localhost:8080/"
    },
    "id": "NiFvF6o59YX1",
    "outputId": "69e81814-2807-434b-8aca-6512e637defa"
   },
   "outputs": [
    {
     "data": {
      "text/plain": [
       "16200"
      ]
     },
     "execution_count": 13,
     "metadata": {
      "tags": []
     },
     "output_type": "execute_result"
    }
   ],
   "source": [
    "vocab_size = len(tokenizer.word_index) + 1\n",
    "vocab_size"
   ]
  },
  {
   "cell_type": "code",
   "execution_count": 14,
   "metadata": {
    "id": "Wi7dK1qC9YX4"
   },
   "outputs": [],
   "source": [
    "max_len = 100\n",
    "\n",
    "encoded_docs = tokenizer.texts_to_sequences(reviews)\n",
    "padded_sequence = pad_sequences(encoded_docs, maxlen=max_len)"
   ]
  },
  {
   "cell_type": "code",
   "execution_count": 15,
   "metadata": {
    "colab": {
     "base_uri": "https://localhost:8080/"
    },
    "id": "6O6HEcQh9YX8",
    "outputId": "07f61a7f-7b46-4e56-976f-f6b0f552bbc3"
   },
   "outputs": [
    {
     "name": "stdout",
     "output_type": "stream",
     "text": [
      "Everything is going well so far. And I sure hope you this game could support controllers\n",
      "[117, 6, 300, 98, 14, 74, 4, 3, 323, 103, 15, 9, 2, 129, 108, 1072]\n",
      "[   0    0    0    0    0    0    0    0    0    0    0    0    0    0\n",
      "    0    0    0    0    0    0    0    0    0    0    0    0    0    0\n",
      "    0    0    0    0    0    0    0    0    0    0    0    0    0    0\n",
      "    0    0    0    0    0    0    0    0    0    0    0    0    0    0\n",
      "    0    0    0    0    0    0    0    0    0    0    0    0    0    0\n",
      "    0    0    0    0    0    0    0    0    0    0    0    0    0    0\n",
      "  117    6  300   98   14   74    4    3  323  103   15    9    2  129\n",
      "  108 1072]\n"
     ]
    }
   ],
   "source": [
    "print(reviews[0])\n",
    "print(encoded_docs[0])\n",
    "print(padded_sequence[0])"
   ]
  },
  {
   "cell_type": "markdown",
   "metadata": {
    "id": "quabLB9Y9YX-"
   },
   "source": [
    "## 7. LSTM (2 Categories) \n",
    "\n",
    "Trying with Positive and Negative\n",
    "\n",
    "With score = 3 considered as Negative"
   ]
  },
  {
   "cell_type": "code",
   "execution_count": 16,
   "metadata": {
    "id": "GxvpIckB9YYA"
   },
   "outputs": [],
   "source": [
    "scores = nn_df[['score']].copy()\n",
    "\n",
    "def positive_negative(score):\n",
    "    if score <= 3:\n",
    "        return 0\n",
    "    if score > 3:\n",
    "        return 1\n",
    "    \n",
    "scores['pn'] = scores['score'].apply(lambda x: positive_negative(x))"
   ]
  },
  {
   "cell_type": "code",
   "execution_count": 17,
   "metadata": {
    "colab": {
     "base_uri": "https://localhost:8080/"
    },
    "id": "MSUZ4glC9YYA",
    "outputId": "d749b106-0c1f-4b1d-af38-69f1ff5b8830"
   },
   "outputs": [
    {
     "data": {
      "text/plain": [
       "77345    1\n",
       "37959    1\n",
       "39815    1\n",
       "10960    1\n",
       "57759    1\n",
       "        ..\n",
       "58739    1\n",
       "29322    0\n",
       "1444     1\n",
       "3495     1\n",
       "20627    1\n",
       "Name: pn, Length: 26460, dtype: int64"
      ]
     },
     "execution_count": 17,
     "metadata": {
      "tags": []
     },
     "output_type": "execute_result"
    }
   ],
   "source": [
    "scores['pn']"
   ]
  },
  {
   "cell_type": "code",
   "execution_count": 18,
   "metadata": {
    "id": "WEe3JPQI9YYC"
   },
   "outputs": [],
   "source": [
    "enc = OneHotEncoder()\n",
    "scores_cat = enc.fit_transform(scores[['pn']]).toarray()"
   ]
  },
  {
   "cell_type": "code",
   "execution_count": null,
   "metadata": {
    "colab": {
     "base_uri": "https://localhost:8080/"
    },
    "id": "OpiTu14H9YYC",
    "outputId": "fc2a9131-f99a-4459-ff41-d91a79c05ba9"
   },
   "outputs": [
    {
     "data": {
      "text/plain": [
       "0    1  \n",
       "0.0  1.0    20648\n",
       "1.0  0.0     5812\n",
       "dtype: int64"
      ]
     },
     "execution_count": 13,
     "metadata": {
      "tags": []
     },
     "output_type": "execute_result"
    }
   ],
   "source": [
    "pd.DataFrame(scores_cat).value_counts()"
   ]
  },
  {
   "cell_type": "code",
   "execution_count": null,
   "metadata": {
    "id": "PPQV1YMF9YYE",
    "outputId": "68e6f407-1219-4ee1-90f7-5ef100eafc33"
   },
   "outputs": [
    {
     "name": "stdout",
     "output_type": "stream",
     "text": [
      "Model: \"sequential_11\"\n",
      "_________________________________________________________________\n",
      "Layer (type)                 Output Shape              Param #   \n",
      "=================================================================\n",
      "embedding_11 (Embedding)     (None, 100, 32)           518400    \n",
      "_________________________________________________________________\n",
      "spatial_dropout1d_11 (Spatia (None, 100, 32)           0         \n",
      "_________________________________________________________________\n",
      "lstm_12 (LSTM)               (None, 50)                16600     \n",
      "_________________________________________________________________\n",
      "dropout_11 (Dropout)         (None, 50)                0         \n",
      "_________________________________________________________________\n",
      "dense_10 (Dense)             (None, 2)                 102       \n",
      "=================================================================\n",
      "Total params: 535,102\n",
      "Trainable params: 535,102\n",
      "Non-trainable params: 0\n",
      "_________________________________________________________________\n",
      "None\n"
     ]
    }
   ],
   "source": [
    "embedding_vector_length = 32\n",
    "\n",
    "model = Sequential()\n",
    "model.add(Embedding(vocab_size, embedding_vector_length, input_length=max_len))\n",
    "model.add(SpatialDropout1D(0.25))\n",
    "model.add(LSTM(50, dropout=0.5, recurrent_dropout=0.5))\n",
    "model.add(Dropout(0.2))\n",
    "model.add(Dense(2, activation='softmax'))\n",
    "model.compile(loss='categorical_crossentropy', optimizer='adam',metrics=['AUC'])\n",
    "\n",
    "print(model.summary())"
   ]
  },
  {
   "cell_type": "code",
   "execution_count": null,
   "metadata": {
    "id": "WFI91cV79YYF",
    "outputId": "26fa5f5c-840e-4564-c1ab-5d8f56d697fe"
   },
   "outputs": [
    {
     "name": "stdout",
     "output_type": "stream",
     "text": [
      "Epoch 1/5\n",
      "662/662 [==============================] - 52s 78ms/step - loss: 0.7311 - auc: 0.8527 - val_loss: 0.3309 - val_auc: 0.9326\n",
      "Epoch 2/5\n",
      "662/662 [==============================] - 57s 85ms/step - loss: 0.5268 - auc: 0.9238 - val_loss: 0.3595 - val_auc: 0.9213\n",
      "Epoch 3/5\n",
      "662/662 [==============================] - 57s 86ms/step - loss: 0.4675 - auc: 0.9397 - val_loss: 0.3342 - val_auc: 0.9396\n",
      "Epoch 4/5\n",
      "662/662 [==============================] - 57s 86ms/step - loss: 0.4226 - auc: 0.9513 - val_loss: 0.3222 - val_auc: 0.9427\n",
      "Epoch 5/5\n",
      "662/662 [==============================] - 57s 86ms/step - loss: 0.3995 - auc: 0.9557 - val_loss: 0.3443 - val_auc: 0.9396\n"
     ]
    }
   ],
   "source": [
    "earlystop_callback = EarlyStopping(monitor='val_loss', min_delta=0, patience=3)\n",
    "\n",
    "history = model.fit(padded_sequence, scores_cat, validation_split=0.2, \n",
    "                    epochs=5, batch_size=32, callbacks=[earlystop_callback],\n",
    "                    class_weight={0: 20648/5812, 1: 20648/20648})"
   ]
  },
  {
   "cell_type": "code",
   "execution_count": null,
   "metadata": {
    "id": "1DWXu-Ja9YYG",
    "outputId": "8cc46f09-5889-459d-cea9-5568f14ff7f9"
   },
   "outputs": [
    {
     "data": {
      "image/png": "[encoded data removed]",
      "text/plain": [
       "<Figure size 432x288 with 1 Axes>"
      ]
     },
     "metadata": {
      "tags": []
     },
     "output_type": "display_data"
    }
   ],
   "source": [
    "plt.plot(history.history['loss'], label='Train loss')\n",
    "plt.plot(history.history['val_loss'], label='Val Loss')\n",
    "plt.legend();"
   ]
  },
  {
   "cell_type": "code",
   "execution_count": null,
   "metadata": {
    "id": "xV9wZVTd9YYI",
    "scrolled": true
   },
   "outputs": [],
   "source": [
    "probability = model.predict(padded_sequence)\n",
    "probability_df = pd.DataFrame(probability)"
   ]
  },
  {
   "cell_type": "code",
   "execution_count": null,
   "metadata": {
    "id": "TGcy1WUQ9YYI",
    "outputId": "e6e4a3ee-c80c-4908-fef4-a95864e0ddf9"
   },
   "outputs": [
    {
     "ename": "ValueError",
     "evalue": "Length mismatch: Expected axis has 2 elements, new values have 1 elements",
     "output_type": "error",
     "traceback": [
      "\u001b[1;31m---------------------------------------------------------------------------\u001b[0m",
      "\u001b[1;31mValueError\u001b[0m                                Traceback (most recent call last)",
      "\u001b[1;32m<ipython-input-82-77da712901c0>\u001b[0m in \u001b[0;36m<module>\u001b[1;34m\u001b[0m\n\u001b[1;32m----> 1\u001b[1;33m \u001b[0mprobability_df\u001b[0m\u001b[1;33m.\u001b[0m\u001b[0mcolumns\u001b[0m \u001b[1;33m=\u001b[0m \u001b[1;33m[\u001b[0m\u001b[1;34m'probability'\u001b[0m\u001b[1;33m]\u001b[0m\u001b[1;33m\u001b[0m\u001b[1;33m\u001b[0m\u001b[0m\n\u001b[0m\u001b[0;32m      2\u001b[0m \u001b[0mprobability_df\u001b[0m\u001b[1;33m.\u001b[0m\u001b[0mhead\u001b[0m\u001b[1;33m(\u001b[0m\u001b[1;33m)\u001b[0m\u001b[1;33m\u001b[0m\u001b[1;33m\u001b[0m\u001b[0m\n",
      "\u001b[1;32m~\\anaconda3\\lib\\site-packages\\pandas\\core\\generic.py\u001b[0m in \u001b[0;36m__setattr__\u001b[1;34m(self, name, value)\u001b[0m\n\u001b[0;32m   5471\u001b[0m         \u001b[1;32mtry\u001b[0m\u001b[1;33m:\u001b[0m\u001b[1;33m\u001b[0m\u001b[1;33m\u001b[0m\u001b[0m\n\u001b[0;32m   5472\u001b[0m             \u001b[0mobject\u001b[0m\u001b[1;33m.\u001b[0m\u001b[0m__getattribute__\u001b[0m\u001b[1;33m(\u001b[0m\u001b[0mself\u001b[0m\u001b[1;33m,\u001b[0m \u001b[0mname\u001b[0m\u001b[1;33m)\u001b[0m\u001b[1;33m\u001b[0m\u001b[1;33m\u001b[0m\u001b[0m\n\u001b[1;32m-> 5473\u001b[1;33m             \u001b[1;32mreturn\u001b[0m \u001b[0mobject\u001b[0m\u001b[1;33m.\u001b[0m\u001b[0m__setattr__\u001b[0m\u001b[1;33m(\u001b[0m\u001b[0mself\u001b[0m\u001b[1;33m,\u001b[0m \u001b[0mname\u001b[0m\u001b[1;33m,\u001b[0m \u001b[0mvalue\u001b[0m\u001b[1;33m)\u001b[0m\u001b[1;33m\u001b[0m\u001b[1;33m\u001b[0m\u001b[0m\n\u001b[0m\u001b[0;32m   5474\u001b[0m         \u001b[1;32mexcept\u001b[0m \u001b[0mAttributeError\u001b[0m\u001b[1;33m:\u001b[0m\u001b[1;33m\u001b[0m\u001b[1;33m\u001b[0m\u001b[0m\n\u001b[0;32m   5475\u001b[0m             \u001b[1;32mpass\u001b[0m\u001b[1;33m\u001b[0m\u001b[1;33m\u001b[0m\u001b[0m\n",
      "\u001b[1;32mpandas\\_libs\\properties.pyx\u001b[0m in \u001b[0;36mpandas._libs.properties.AxisProperty.__set__\u001b[1;34m()\u001b[0m\n",
      "\u001b[1;32m~\\anaconda3\\lib\\site-packages\\pandas\\core\\generic.py\u001b[0m in \u001b[0;36m_set_axis\u001b[1;34m(self, axis, labels)\u001b[0m\n\u001b[0;32m    665\u001b[0m     \u001b[1;32mdef\u001b[0m \u001b[0m_set_axis\u001b[0m\u001b[1;33m(\u001b[0m\u001b[0mself\u001b[0m\u001b[1;33m,\u001b[0m \u001b[0maxis\u001b[0m\u001b[1;33m:\u001b[0m \u001b[0mint\u001b[0m\u001b[1;33m,\u001b[0m \u001b[0mlabels\u001b[0m\u001b[1;33m:\u001b[0m \u001b[0mIndex\u001b[0m\u001b[1;33m)\u001b[0m \u001b[1;33m->\u001b[0m \u001b[1;32mNone\u001b[0m\u001b[1;33m:\u001b[0m\u001b[1;33m\u001b[0m\u001b[1;33m\u001b[0m\u001b[0m\n\u001b[0;32m    666\u001b[0m         \u001b[0mlabels\u001b[0m \u001b[1;33m=\u001b[0m \u001b[0mensure_index\u001b[0m\u001b[1;33m(\u001b[0m\u001b[0mlabels\u001b[0m\u001b[1;33m)\u001b[0m\u001b[1;33m\u001b[0m\u001b[1;33m\u001b[0m\u001b[0m\n\u001b[1;32m--> 667\u001b[1;33m         \u001b[0mself\u001b[0m\u001b[1;33m.\u001b[0m\u001b[0m_mgr\u001b[0m\u001b[1;33m.\u001b[0m\u001b[0mset_axis\u001b[0m\u001b[1;33m(\u001b[0m\u001b[0maxis\u001b[0m\u001b[1;33m,\u001b[0m \u001b[0mlabels\u001b[0m\u001b[1;33m)\u001b[0m\u001b[1;33m\u001b[0m\u001b[1;33m\u001b[0m\u001b[0m\n\u001b[0m\u001b[0;32m    668\u001b[0m         \u001b[0mself\u001b[0m\u001b[1;33m.\u001b[0m\u001b[0m_clear_item_cache\u001b[0m\u001b[1;33m(\u001b[0m\u001b[1;33m)\u001b[0m\u001b[1;33m\u001b[0m\u001b[1;33m\u001b[0m\u001b[0m\n\u001b[0;32m    669\u001b[0m \u001b[1;33m\u001b[0m\u001b[0m\n",
      "\u001b[1;32m~\\anaconda3\\lib\\site-packages\\pandas\\core\\internals\\managers.py\u001b[0m in \u001b[0;36mset_axis\u001b[1;34m(self, axis, new_labels)\u001b[0m\n\u001b[0;32m    218\u001b[0m \u001b[1;33m\u001b[0m\u001b[0m\n\u001b[0;32m    219\u001b[0m         \u001b[1;32mif\u001b[0m \u001b[0mnew_len\u001b[0m \u001b[1;33m!=\u001b[0m \u001b[0mold_len\u001b[0m\u001b[1;33m:\u001b[0m\u001b[1;33m\u001b[0m\u001b[1;33m\u001b[0m\u001b[0m\n\u001b[1;32m--> 220\u001b[1;33m             raise ValueError(\n\u001b[0m\u001b[0;32m    221\u001b[0m                 \u001b[1;34mf\"Length mismatch: Expected axis has {old_len} elements, new \"\u001b[0m\u001b[1;33m\u001b[0m\u001b[1;33m\u001b[0m\u001b[0m\n\u001b[0;32m    222\u001b[0m                 \u001b[1;34mf\"values have {new_len} elements\"\u001b[0m\u001b[1;33m\u001b[0m\u001b[1;33m\u001b[0m\u001b[0m\n",
      "\u001b[1;31mValueError\u001b[0m: Length mismatch: Expected axis has 2 elements, new values have 1 elements"
     ]
    }
   ],
   "source": [
    "probability_df.columns = ['probability']\n",
    "probability_df.head()"
   ]
  },
  {
   "cell_type": "code",
   "execution_count": null,
   "metadata": {
    "id": "rAyk798W9YYK"
   },
   "outputs": [],
   "source": [
    "def find_prediction(x):\n",
    "    if x > 0.5:\n",
    "        return 1\n",
    "    else:\n",
    "        return 0"
   ]
  },
  {
   "cell_type": "code",
   "execution_count": null,
   "metadata": {
    "id": "L8iLqooV9YYK"
   },
   "outputs": [],
   "source": [
    "probability_df['pred'] = probability_df['probability'].apply(lambda x: find_prediction(x))\n",
    "\n",
    "probability_df.head(10)"
   ]
  },
  {
   "cell_type": "code",
   "execution_count": null,
   "metadata": {
    "id": "UbeYSty29YYL"
   },
   "outputs": [],
   "source": [
    "cm = confusion_matrix(scores['pn'], probability_df['pred'])\n",
    "\n",
    "plt.figure(figsize = (7, 5.5))\n",
    "sns.heatmap(cm, annot = True, fmt = '.5g', cmap = 'coolwarm', xticklabels = [0,1], yticklabels = [0,1])\n",
    "plt.title('Confusion Matrix', fontsize = 15)\n",
    "plt.ylabel('True Label')\n",
    "plt.xlabel('Predicted Label')\n",
    "plt.show()"
   ]
  },
  {
   "cell_type": "markdown",
   "metadata": {
    "id": "N6qOegsk9YYN"
   },
   "source": [
    "# Testing Whether to use Softmax/cat or Sigmoid/bi"
   ]
  },
  {
   "cell_type": "code",
   "execution_count": null,
   "metadata": {
    "id": "wCn1wltp9YYO",
    "outputId": "e775585a-fab9-4341-e6a2-67b6d5559175"
   },
   "outputs": [
    {
     "name": "stdout",
     "output_type": "stream",
     "text": [
      "Epoch 1/10\n",
      "662/662 [==============================] - 45s 68ms/step - loss: 0.7358 - auc: 0.8509 - val_loss: 0.4013 - val_auc: 0.9000\n",
      "Epoch 2/10\n",
      "662/662 [==============================] - 48s 73ms/step - loss: 0.5398 - auc: 0.9193 - val_loss: 0.4357 - val_auc: 0.8882\n",
      "Epoch 3/10\n",
      "662/662 [==============================] - 51s 77ms/step - loss: 0.4818 - auc: 0.9366 - val_loss: 0.3797 - val_auc: 0.9168\n",
      "Epoch 4/10\n",
      "662/662 [==============================] - 53s 80ms/step - loss: 0.4314 - auc: 0.9493 - val_loss: 0.3089 - val_auc: 0.9439\n",
      "Epoch 5/10\n",
      "662/662 [==============================] - 53s 79ms/step - loss: 0.4009 - auc: 0.9553 - val_loss: 0.3281 - val_auc: 0.9433\n",
      "Epoch 6/10\n",
      "662/662 [==============================] - 53s 80ms/step - loss: 0.3716 - auc: 0.9619 - val_loss: 0.3365 - val_auc: 0.9397\n",
      "Epoch 7/10\n",
      "662/662 [==============================] - 53s 80ms/step - loss: 0.3607 - auc: 0.9634 - val_loss: 0.3392 - val_auc: 0.9417\n",
      "Epoch 8/10\n",
      "662/662 [==============================] - 53s 81ms/step - loss: 0.3436 - auc: 0.9674 - val_loss: 0.3440 - val_auc: 0.9433\n",
      "Epoch 9/10\n",
      "662/662 [==============================] - 53s 80ms/step - loss: 0.3321 - auc: 0.9696 - val_loss: 0.3942 - val_auc: 0.9355\n",
      "Epoch 10/10\n",
      "662/662 [==============================] - 52s 79ms/step - loss: 0.3187 - auc: 0.9715 - val_loss: 0.3890 - val_auc: 0.9418\n"
     ]
    }
   ],
   "source": [
    "# softmax + categorical\n",
    "embedding_vector_length = 32\n",
    "\n",
    "model = Sequential()\n",
    "model.add(Embedding(vocab_size, embedding_vector_length, input_length=max_len))\n",
    "model.add(SpatialDropout1D(0.25))\n",
    "model.add(LSTM(50, dropout=0.5, recurrent_dropout=0.5))\n",
    "model.add(Dropout(0.2))\n",
    "model.add(Dense(2, activation='softmax'))\n",
    "model.compile(loss='categorical_crossentropy', optimizer='adam',metrics=['AUC'])\n",
    "\n",
    "history = model.fit(padded_sequence, scores_cat, validation_split=0.2, \n",
    "                    epochs=10, batch_size=32, class_weight={0: 20648/5812, 1: 20648/20648})"
   ]
  },
  {
   "cell_type": "code",
   "execution_count": null,
   "metadata": {
    "id": "RA-TnLpU9YYQ",
    "outputId": "e3431ef5-d6a8-4b02-d028-cbba87b0a843"
   },
   "outputs": [
    {
     "data": {
      "image/png": "[encoded data removed]",
      "text/plain": [
       "<Figure size 432x288 with 1 Axes>"
      ]
     },
     "metadata": {
      "tags": []
     },
     "output_type": "display_data"
    }
   ],
   "source": [
    "plt.plot(history.history['loss'], label='Train loss')\n",
    "plt.plot(history.history['val_loss'], label='Val Loss')\n",
    "plt.legend();"
   ]
  },
  {
   "cell_type": "code",
   "execution_count": null,
   "metadata": {
    "id": "p2qafT7h9YYQ",
    "outputId": "f301b520-b388-4fbb-a24a-17453315f7a0"
   },
   "outputs": [
    {
     "name": "stdout",
     "output_type": "stream",
     "text": [
      "Epoch 1/10\n",
      "662/662 [==============================] - 54s 81ms/step - loss: 0.7269 - auc: 0.8539 - val_loss: 0.3663 - val_auc: 0.9166\n",
      "Epoch 2/10\n",
      "662/662 [==============================] - 53s 80ms/step - loss: 0.5439 - auc: 0.9194 - val_loss: 0.3328 - val_auc: 0.9327\n",
      "Epoch 3/10\n",
      "662/662 [==============================] - 53s 80ms/step - loss: 0.4728 - auc: 0.9381 - val_loss: 0.3631 - val_auc: 0.9247\n",
      "Epoch 4/10\n",
      "662/662 [==============================] - 52s 79ms/step - loss: 0.4417 - auc: 0.9460 - val_loss: 0.3160 - val_auc: 0.9441\n",
      "Epoch 5/10\n",
      "662/662 [==============================] - 53s 80ms/step - loss: 0.4179 - auc: 0.9509 - val_loss: 0.3826 - val_auc: 0.9250\n",
      "Epoch 6/10\n",
      "662/662 [==============================] - 52s 79ms/step - loss: 0.3875 - auc: 0.9583 - val_loss: 0.3520 - val_auc: 0.9425\n",
      "Epoch 7/10\n",
      "662/662 [==============================] - 54s 81ms/step - loss: 0.3666 - auc: 0.9633 - val_loss: 0.3480 - val_auc: 0.9422\n",
      "Epoch 8/10\n",
      "662/662 [==============================] - 54s 82ms/step - loss: 0.3493 - auc: 0.9665 - val_loss: 0.3297 - val_auc: 0.9471\n",
      "Epoch 9/10\n",
      "662/662 [==============================] - 53s 81ms/step - loss: 0.3401 - auc: 0.9671 - val_loss: 0.3315 - val_auc: 0.9474\n",
      "Epoch 10/10\n",
      "662/662 [==============================] - 53s 81ms/step - loss: 0.3172 - auc: 0.9718 - val_loss: 0.3616 - val_auc: 0.9418\n"
     ]
    }
   ],
   "source": [
    "# sigmoid + binary  --> not correct \n",
    "embedding_vector_length = 32\n",
    "\n",
    "model = Sequential()\n",
    "model.add(Embedding(vocab_size, embedding_vector_length, input_length=max_len))\n",
    "model.add(SpatialDropout1D(0.25))\n",
    "model.add(LSTM(50, dropout=0.5, recurrent_dropout=0.5))\n",
    "model.add(Dropout(0.2))\n",
    "model.add(Dense(2, activation='sigmoid'))\n",
    "model.compile(loss='binary_crossentropy', optimizer='adam',metrics=['AUC'])\n",
    "\n",
    "history = model.fit(padded_sequence, scores_cat, validation_split=0.2, \n",
    "                    epochs=10, batch_size=32, class_weight={0: 20648/5812, 1: 20648/20648})"
   ]
  },
  {
   "cell_type": "code",
   "execution_count": null,
   "metadata": {
    "id": "DDEM6Og69YYR",
    "outputId": "5a2df9ea-dd43-4b80-c641-94aa35a22e22"
   },
   "outputs": [
    {
     "data": {
      "image/png": "[encoded data removed]",
      "text/plain": [
       "<Figure size 432x288 with 1 Axes>"
      ]
     },
     "metadata": {
      "tags": []
     },
     "output_type": "display_data"
    }
   ],
   "source": [
    "plt.plot(history.history['loss'], label='Train loss')\n",
    "plt.plot(history.history['val_loss'], label='Val Loss')\n",
    "plt.legend();"
   ]
  },
  {
   "cell_type": "code",
   "execution_count": null,
   "metadata": {
    "id": "pvJVHUhR9YYS",
    "outputId": "6025f6d4-9a5c-4981-9f25-1dd8cce0be80"
   },
   "outputs": [
    {
     "name": "stdout",
     "output_type": "stream",
     "text": [
      "Epoch 1/10\n",
      "662/662 [==============================] - 68s 102ms/step - loss: 0.7332 - auc: 0.8589 - val_loss: 0.3390 - val_auc: 0.9151\n",
      "Epoch 2/10\n",
      "662/662 [==============================] - 63s 95ms/step - loss: 0.5298 - auc: 0.9253 - val_loss: 0.3333 - val_auc: 0.9255\n",
      "Epoch 3/10\n",
      "662/662 [==============================] - 76s 115ms/step - loss: 0.4737 - auc: 0.9396 - val_loss: 0.3462 - val_auc: 0.9271\n",
      "Epoch 4/10\n",
      "662/662 [==============================] - 92s 139ms/step - loss: 0.4384 - auc: 0.9478 - val_loss: 0.3121 - val_auc: 0.9279\n",
      "Epoch 5/10\n",
      "662/662 [==============================] - 66s 100ms/step - loss: 0.4045 - auc: 0.9552 - val_loss: 0.3159 - val_auc: 0.9288\n",
      "Epoch 6/10\n",
      "662/662 [==============================] - 77s 117ms/step - loss: 0.3740 - auc: 0.9615 - val_loss: 0.3421 - val_auc: 0.9273\n",
      "Epoch 7/10\n",
      "662/662 [==============================] - 46s 69ms/step - loss: 0.3570 - auc: 0.9645 - val_loss: 0.3610 - val_auc: 0.9211\n",
      "Epoch 8/10\n",
      "662/662 [==============================] - 46s 69ms/step - loss: 0.3405 - auc: 0.9677 - val_loss: 0.3438 - val_auc: 0.9234\n",
      "Epoch 9/10\n",
      "662/662 [==============================] - 50s 76ms/step - loss: 0.3302 - auc: 0.9695 - val_loss: 0.3678 - val_auc: 0.9261\n",
      "Epoch 10/10\n",
      "662/662 [==============================] - 53s 80ms/step - loss: 0.3240 - auc: 0.9705 - val_loss: 0.3600 - val_auc: 0.9216\n"
     ]
    }
   ],
   "source": [
    "# sigmoid + binary + no one hot encode\n",
    "embedding_vector_length = 32\n",
    "\n",
    "model = Sequential()\n",
    "model.add(Embedding(vocab_size, embedding_vector_length, input_length=max_len))\n",
    "model.add(SpatialDropout1D(0.25))\n",
    "model.add(LSTM(50, dropout=0.5, recurrent_dropout=0.5))\n",
    "model.add(Dropout(0.2))\n",
    "model.add(Dense(1, activation='sigmoid'))\n",
    "model.compile(loss='binary_crossentropy', optimizer='adam', metrics=['AUC'])\n",
    "\n",
    "history = model.fit(padded_sequence, scores['pn'], validation_split=0.2, \n",
    "                    epochs=10, batch_size=32, class_weight={0:20648/5812, 1: 1})"
   ]
  },
  {
   "cell_type": "code",
   "execution_count": null,
   "metadata": {
    "id": "BxLljALg9YYT",
    "outputId": "101fee85-744d-430a-9d8a-cf5afe42d4e6"
   },
   "outputs": [
    {
     "data": {
      "image/png": "[encoded data removed]",
      "text/plain": [
       "<Figure size 432x288 with 1 Axes>"
      ]
     },
     "metadata": {
      "tags": []
     },
     "output_type": "display_data"
    }
   ],
   "source": [
    "plt.plot(history.history['loss'], label='Train loss')\n",
    "plt.plot(history.history['val_loss'], label='Val Loss')\n",
    "plt.legend();"
   ]
  },
  {
   "cell_type": "code",
   "execution_count": null,
   "metadata": {
    "id": "03VgSel39YYU",
    "scrolled": true
   },
   "outputs": [],
   "source": [
    "probability = model.predict(padded_sequence)\n",
    "probability_df = pd.DataFrame(probability)"
   ]
  },
  {
   "cell_type": "code",
   "execution_count": null,
   "metadata": {
    "id": "CY_cPsW09YYU"
   },
   "outputs": [],
   "source": [
    "probability_df.columns = ['probability']\n",
    "probability_df.head()"
   ]
  },
  {
   "cell_type": "code",
   "execution_count": null,
   "metadata": {
    "id": "rl5eeQS59YYV"
   },
   "outputs": [],
   "source": [
    "def find_prediction(x):\n",
    "    if x > 0.5:\n",
    "        return 1\n",
    "    else:\n",
    "        return 0"
   ]
  },
  {
   "cell_type": "code",
   "execution_count": null,
   "metadata": {
    "id": "9ls9J7-B9YYV"
   },
   "outputs": [],
   "source": [
    "probability_df['pred'] = probability_df['probability'].apply(lambda x: find_prediction(x))\n",
    "\n",
    "probability_df.head(10)"
   ]
  },
  {
   "cell_type": "code",
   "execution_count": null,
   "metadata": {
    "id": "1D1p5KeO9YYW"
   },
   "outputs": [],
   "source": [
    "cm = confusion_matrix(scores['pn'], probability_df['pred'])\n",
    "\n",
    "plt.figure(figsize = (7, 5.5))\n",
    "sns.heatmap(cm, annot = True, fmt = '.5g', cmap = 'coolwarm', xticklabels = [0,1], yticklabels = [0,1])\n",
    "plt.title('Confusion Matrix', fontsize = 15)\n",
    "plt.ylabel('True Label')\n",
    "plt.xlabel('Predicted Label')\n",
    "plt.show()"
   ]
  },
  {
   "cell_type": "markdown",
   "metadata": {
    "id": "HyI-GU3R9YYX"
   },
   "source": [
    "The model using softmax and categorical_crossentropy performed better than the model using sigmoid and binary_crossentropy despite the target being a binary target.\n",
    "\n",
    "This could be because of the way the error functions are calculated. The loss function categorical_crossentropy return a probability for each category while binary_crossentropy returns a value of either 0 or 1. As a result, categorical_crossentropy could end up giving a better (smaller) error which then improves the propogation process, this may be especially true with reviews which are less straightforward in terms of whether it is a positive or negative (noise).\n",
    "\n",
    "As a result, I will proceed with using softmax and categorical_crossentropy."
   ]
  },
  {
   "cell_type": "markdown",
   "metadata": {
    "id": "gsoxL9XU9YYX"
   },
   "source": [
    "# Testing batch_size"
   ]
  },
  {
   "cell_type": "code",
   "execution_count": null,
   "metadata": {
    "colab": {
     "base_uri": "https://localhost:8080/"
    },
    "id": "GOrP6HCa9YYY",
    "outputId": "928403ba-b63c-4512-fc2d-de5e99d967a4"
   },
   "outputs": [
    {
     "name": "stdout",
     "output_type": "stream",
     "text": [
      "Epoch 1/5\n",
      "1323/1323 [==============================] - 115s 85ms/step - loss: 0.8364 - auc: 0.8013 - val_loss: 0.3797 - val_auc: 0.9130\n",
      "Epoch 2/5\n",
      "1323/1323 [==============================] - 111s 84ms/step - loss: 0.5311 - auc: 0.9219 - val_loss: 0.3608 - val_auc: 0.9257\n",
      "Epoch 3/5\n",
      "1323/1323 [==============================] - 112s 84ms/step - loss: 0.4655 - auc: 0.9412 - val_loss: 0.3030 - val_auc: 0.9487\n",
      "Epoch 4/5\n",
      "1323/1323 [==============================] - 111s 84ms/step - loss: 0.4154 - auc: 0.9530 - val_loss: 0.2971 - val_auc: 0.9488\n",
      "Epoch 5/5\n",
      "1323/1323 [==============================] - 111s 84ms/step - loss: 0.3858 - auc: 0.9591 - val_loss: 0.3360 - val_auc: 0.9437\n"
     ]
    }
   ],
   "source": [
    "# batchsize = 16\n",
    "embedding_vector_length = 32\n",
    "\n",
    "model = Sequential()\n",
    "model.add(Embedding(vocab_size, embedding_vector_length, input_length=max_len))\n",
    "model.add(SpatialDropout1D(0.25))\n",
    "model.add(LSTM(50, dropout=0.5, recurrent_dropout=0.5))\n",
    "model.add(Dropout(0.2))\n",
    "model.add(Dense(2, activation='softmax'))\n",
    "model.compile(loss='categorical_crossentropy', optimizer='adam',metrics=['AUC'])\n",
    "\n",
    "history = model.fit(padded_sequence, scores_cat, validation_split=0.2, \n",
    "                    epochs=5, batch_size=16, class_weight={0: 20648/5812, 1: 20648/20648})"
   ]
  },
  {
   "cell_type": "code",
   "execution_count": null,
   "metadata": {
    "colab": {
     "base_uri": "https://localhost:8080/",
     "height": 265
    },
    "id": "BWS1yAgU9YYb",
    "outputId": "6f29e22d-7a6f-457c-ffd2-231e7814741f"
   },
   "outputs": [
    {
     "data": {
      "image/png": "[encoded data removed]",
      "text/plain": [
       "<Figure size 432x288 with 1 Axes>"
      ]
     },
     "metadata": {
      "tags": []
     },
     "output_type": "display_data"
    }
   ],
   "source": [
    "plt.plot(history.history['loss'], label='Train loss')\n",
    "plt.plot(history.history['val_loss'], label='Val Loss')\n",
    "plt.legend();"
   ]
  },
  {
   "cell_type": "code",
   "execution_count": null,
   "metadata": {
    "colab": {
     "base_uri": "https://localhost:8080/"
    },
    "id": "7rwvkoZo9YYb",
    "outputId": "497927e4-dae6-41a6-fdcd-54b598093afb"
   },
   "outputs": [
    {
     "name": "stdout",
     "output_type": "stream",
     "text": [
      "Epoch 1/5\n",
      "331/331 [==============================] - 53s 150ms/step - loss: 0.9199 - auc: 0.7561 - val_loss: 0.3723 - val_auc: 0.9136\n",
      "Epoch 2/5\n",
      "331/331 [==============================] - 49s 148ms/step - loss: 0.5391 - auc: 0.9204 - val_loss: 0.3969 - val_auc: 0.9049\n",
      "Epoch 3/5\n",
      "331/331 [==============================] - 49s 148ms/step - loss: 0.4845 - auc: 0.9331 - val_loss: 0.3532 - val_auc: 0.9278\n",
      "Epoch 4/5\n",
      "331/331 [==============================] - 49s 149ms/step - loss: 0.4446 - auc: 0.9438 - val_loss: 0.3049 - val_auc: 0.9472\n",
      "Epoch 5/5\n",
      "331/331 [==============================] - 49s 149ms/step - loss: 0.3909 - auc: 0.9587 - val_loss: 0.3417 - val_auc: 0.9369\n"
     ]
    }
   ],
   "source": [
    "# batchsize = 64\n",
    "embedding_vector_length = 32\n",
    "\n",
    "model = Sequential()\n",
    "model.add(Embedding(vocab_size, embedding_vector_length, input_length=max_len))\n",
    "model.add(SpatialDropout1D(0.25))\n",
    "model.add(LSTM(50, dropout=0.5, recurrent_dropout=0.5))\n",
    "model.add(Dropout(0.2))\n",
    "model.add(Dense(2, activation='softmax'))\n",
    "model.compile(loss='categorical_crossentropy', optimizer='adam',metrics=['AUC'])\n",
    "\n",
    "history = model.fit(padded_sequence, scores_cat, validation_split=0.2, \n",
    "                    epochs=5, batch_size=64, class_weight={0: 20648/5812, 1: 20648/20648})"
   ]
  },
  {
   "cell_type": "code",
   "execution_count": null,
   "metadata": {
    "colab": {
     "base_uri": "https://localhost:8080/",
     "height": 269
    },
    "id": "mwSxQ-Gg9YYd",
    "outputId": "b6eff786-dc9d-4fce-fa03-8e4d94ee12c7"
   },
   "outputs": [
    {
     "data": {
      "image/png": "[encoded data removed]",
      "text/plain": [
       "<Figure size 432x288 with 1 Axes>"
      ]
     },
     "metadata": {
      "tags": []
     },
     "output_type": "display_data"
    }
   ],
   "source": [
    "plt.plot(history.history['loss'], label='Train loss')\n",
    "plt.plot(history.history['val_loss'], label='Val Loss')\n",
    "plt.legend();"
   ]
  },
  {
   "cell_type": "code",
   "execution_count": null,
   "metadata": {
    "colab": {
     "base_uri": "https://localhost:8080/"
    },
    "id": "zcM4nUia9YYd",
    "outputId": "ccb13aad-ce31-43da-dcde-0c78e8d01af7"
   },
   "outputs": [
    {
     "name": "stdout",
     "output_type": "stream",
     "text": [
      "Epoch 1/5\n",
      "166/166 [==============================] - 37s 201ms/step - loss: 0.9625 - auc: 0.7097 - val_loss: 0.3704 - val_auc: 0.9152\n",
      "Epoch 2/5\n",
      "166/166 [==============================] - 33s 201ms/step - loss: 0.5872 - auc: 0.9093 - val_loss: 0.3429 - val_auc: 0.9274\n",
      "Epoch 3/5\n",
      "166/166 [==============================] - 34s 202ms/step - loss: 0.5013 - auc: 0.9329 - val_loss: 0.3113 - val_auc: 0.9440\n",
      "Epoch 4/5\n",
      "166/166 [==============================] - 33s 200ms/step - loss: 0.4618 - auc: 0.9416 - val_loss: 0.3285 - val_auc: 0.9381\n",
      "Epoch 5/5\n",
      "166/166 [==============================] - 33s 202ms/step - loss: 0.4016 - auc: 0.9550 - val_loss: 0.3422 - val_auc: 0.9365\n"
     ]
    }
   ],
   "source": [
    "# batchsize = 128\n",
    "embedding_vector_length = 32\n",
    "\n",
    "model = Sequential()\n",
    "model.add(Embedding(vocab_size, embedding_vector_length, input_length=max_len))\n",
    "model.add(SpatialDropout1D(0.25))\n",
    "model.add(LSTM(50, dropout=0.5, recurrent_dropout=0.5))\n",
    "model.add(Dropout(0.2))\n",
    "model.add(Dense(2, activation='softmax'))\n",
    "model.compile(loss='categorical_crossentropy', optimizer='adam',metrics=['AUC'])\n",
    "\n",
    "history = model.fit(padded_sequence, scores_cat, validation_split=0.2, \n",
    "                    epochs=5, batch_size=128, class_weight={0: 20648/5812, 1: 20648/20648})"
   ]
  },
  {
   "cell_type": "code",
   "execution_count": null,
   "metadata": {
    "colab": {
     "base_uri": "https://localhost:8080/",
     "height": 265
    },
    "id": "jWDWSv3c9YYd",
    "outputId": "6eedd02f-2547-40b9-ed43-85b99f3daf3e"
   },
   "outputs": [
    {
     "data": {
      "image/png": "[encoded data removed]",
      "text/plain": [
       "<Figure size 432x288 with 1 Axes>"
      ]
     },
     "metadata": {
      "tags": []
     },
     "output_type": "display_data"
    }
   ],
   "source": [
    "plt.plot(history.history['loss'], label='Train loss')\n",
    "plt.plot(history.history['val_loss'], label='Val Loss')\n",
    "plt.legend();"
   ]
  },
  {
   "cell_type": "code",
   "execution_count": null,
   "metadata": {
    "colab": {
     "base_uri": "https://localhost:8080/",
     "height": 544
    },
    "id": "Sj1qlB3CILxX",
    "outputId": "a0fe7c63-d5fd-47ab-ade4-d926c98f068a"
   },
   "outputs": [
    {
     "name": "stdout",
     "output_type": "stream",
     "text": [
      "Epoch 1/10\n",
      "2646/2646 [==============================] - 193s 72ms/step - loss: 0.8125 - auc: 0.8152 - val_loss: 0.3549 - val_auc: 0.9244\n",
      "Epoch 2/10\n",
      "2646/2646 [==============================] - 191s 72ms/step - loss: 0.5333 - auc: 0.9227 - val_loss: 0.3425 - val_auc: 0.9306\n",
      "Epoch 3/10\n",
      "2646/2646 [==============================] - 186s 70ms/step - loss: 0.4762 - auc: 0.9387 - val_loss: 0.2818 - val_auc: 0.9518\n",
      "Epoch 4/10\n",
      "2646/2646 [==============================] - 175s 66ms/step - loss: 0.4246 - auc: 0.9521 - val_loss: 0.3131 - val_auc: 0.9482\n",
      "Epoch 5/10\n",
      "2646/2646 [==============================] - 171s 65ms/step - loss: 0.3825 - auc: 0.9599 - val_loss: 0.3510 - val_auc: 0.9352\n",
      "Epoch 6/10\n",
      "1592/2646 [=================>............] - ETA: 1:04 - loss: 0.3538 - auc: 0.9652"
     ]
    },
    {
     "ename": "KeyboardInterrupt",
     "evalue": "ignored",
     "output_type": "error",
     "traceback": [
      "\u001b[0;31m---------------------------------------------------------------------------\u001b[0m",
      "\u001b[0;31mKeyboardInterrupt\u001b[0m                         Traceback (most recent call last)",
      "\u001b[0;32m<ipython-input-13-5eef7e18d0c9>\u001b[0m in \u001b[0;36m<module>\u001b[0;34m()\u001b[0m\n\u001b[1;32m     11\u001b[0m \u001b[0;34m\u001b[0m\u001b[0m\n\u001b[1;32m     12\u001b[0m history = model.fit(padded_sequence, scores_cat, validation_split=0.2, \n\u001b[0;32m---> 13\u001b[0;31m                     epochs=10, batch_size=8, class_weight={0: 20648/5812, 1: 20648/20648})\n\u001b[0m",
      "\u001b[0;32m/usr/local/lib/python3.6/dist-packages/tensorflow/python/keras/engine/training.py\u001b[0m in \u001b[0;36mfit\u001b[0;34m(self, x, y, batch_size, epochs, verbose, callbacks, validation_split, validation_data, shuffle, class_weight, sample_weight, initial_epoch, steps_per_epoch, validation_steps, validation_batch_size, validation_freq, max_queue_size, workers, use_multiprocessing)\u001b[0m\n\u001b[1;32m   1098\u001b[0m                 _r=1):\n\u001b[1;32m   1099\u001b[0m               \u001b[0mcallbacks\u001b[0m\u001b[0;34m.\u001b[0m\u001b[0mon_train_batch_begin\u001b[0m\u001b[0;34m(\u001b[0m\u001b[0mstep\u001b[0m\u001b[0;34m)\u001b[0m\u001b[0;34m\u001b[0m\u001b[0;34m\u001b[0m\u001b[0m\n\u001b[0;32m-> 1100\u001b[0;31m               \u001b[0mtmp_logs\u001b[0m \u001b[0;34m=\u001b[0m \u001b[0mself\u001b[0m\u001b[0;34m.\u001b[0m\u001b[0mtrain_function\u001b[0m\u001b[0;34m(\u001b[0m\u001b[0miterator\u001b[0m\u001b[0;34m)\u001b[0m\u001b[0;34m\u001b[0m\u001b[0;34m\u001b[0m\u001b[0m\n\u001b[0m\u001b[1;32m   1101\u001b[0m               \u001b[0;32mif\u001b[0m \u001b[0mdata_handler\u001b[0m\u001b[0;34m.\u001b[0m\u001b[0mshould_sync\u001b[0m\u001b[0;34m:\u001b[0m\u001b[0;34m\u001b[0m\u001b[0;34m\u001b[0m\u001b[0m\n\u001b[1;32m   1102\u001b[0m                 \u001b[0mcontext\u001b[0m\u001b[0;34m.\u001b[0m\u001b[0masync_wait\u001b[0m\u001b[0;34m(\u001b[0m\u001b[0;34m)\u001b[0m\u001b[0;34m\u001b[0m\u001b[0;34m\u001b[0m\u001b[0m\n",
      "\u001b[0;32m/usr/local/lib/python3.6/dist-packages/tensorflow/python/eager/def_function.py\u001b[0m in \u001b[0;36m__call__\u001b[0;34m(self, *args, **kwds)\u001b[0m\n\u001b[1;32m    826\u001b[0m     \u001b[0mtracing_count\u001b[0m \u001b[0;34m=\u001b[0m \u001b[0mself\u001b[0m\u001b[0;34m.\u001b[0m\u001b[0mexperimental_get_tracing_count\u001b[0m\u001b[0;34m(\u001b[0m\u001b[0;34m)\u001b[0m\u001b[0;34m\u001b[0m\u001b[0;34m\u001b[0m\u001b[0m\n\u001b[1;32m    827\u001b[0m     \u001b[0;32mwith\u001b[0m \u001b[0mtrace\u001b[0m\u001b[0;34m.\u001b[0m\u001b[0mTrace\u001b[0m\u001b[0;34m(\u001b[0m\u001b[0mself\u001b[0m\u001b[0;34m.\u001b[0m\u001b[0m_name\u001b[0m\u001b[0;34m)\u001b[0m \u001b[0;32mas\u001b[0m \u001b[0mtm\u001b[0m\u001b[0;34m:\u001b[0m\u001b[0;34m\u001b[0m\u001b[0;34m\u001b[0m\u001b[0m\n\u001b[0;32m--> 828\u001b[0;31m       \u001b[0mresult\u001b[0m \u001b[0;34m=\u001b[0m \u001b[0mself\u001b[0m\u001b[0;34m.\u001b[0m\u001b[0m_call\u001b[0m\u001b[0;34m(\u001b[0m\u001b[0;34m*\u001b[0m\u001b[0margs\u001b[0m\u001b[0;34m,\u001b[0m \u001b[0;34m**\u001b[0m\u001b[0mkwds\u001b[0m\u001b[0;34m)\u001b[0m\u001b[0;34m\u001b[0m\u001b[0;34m\u001b[0m\u001b[0m\n\u001b[0m\u001b[1;32m    829\u001b[0m       \u001b[0mcompiler\u001b[0m \u001b[0;34m=\u001b[0m \u001b[0;34m\"xla\"\u001b[0m \u001b[0;32mif\u001b[0m \u001b[0mself\u001b[0m\u001b[0;34m.\u001b[0m\u001b[0m_experimental_compile\u001b[0m \u001b[0;32melse\u001b[0m \u001b[0;34m\"nonXla\"\u001b[0m\u001b[0;34m\u001b[0m\u001b[0;34m\u001b[0m\u001b[0m\n\u001b[1;32m    830\u001b[0m       \u001b[0mnew_tracing_count\u001b[0m \u001b[0;34m=\u001b[0m \u001b[0mself\u001b[0m\u001b[0;34m.\u001b[0m\u001b[0mexperimental_get_tracing_count\u001b[0m\u001b[0;34m(\u001b[0m\u001b[0;34m)\u001b[0m\u001b[0;34m\u001b[0m\u001b[0;34m\u001b[0m\u001b[0m\n",
      "\u001b[0;32m/usr/local/lib/python3.6/dist-packages/tensorflow/python/eager/def_function.py\u001b[0m in \u001b[0;36m_call\u001b[0;34m(self, *args, **kwds)\u001b[0m\n\u001b[1;32m    853\u001b[0m       \u001b[0;31m# In this case we have created variables on the first call, so we run the\u001b[0m\u001b[0;34m\u001b[0m\u001b[0;34m\u001b[0m\u001b[0;34m\u001b[0m\u001b[0m\n\u001b[1;32m    854\u001b[0m       \u001b[0;31m# defunned version which is guaranteed to never create variables.\u001b[0m\u001b[0;34m\u001b[0m\u001b[0;34m\u001b[0m\u001b[0;34m\u001b[0m\u001b[0m\n\u001b[0;32m--> 855\u001b[0;31m       \u001b[0;32mreturn\u001b[0m \u001b[0mself\u001b[0m\u001b[0;34m.\u001b[0m\u001b[0m_stateless_fn\u001b[0m\u001b[0;34m(\u001b[0m\u001b[0;34m*\u001b[0m\u001b[0margs\u001b[0m\u001b[0;34m,\u001b[0m \u001b[0;34m**\u001b[0m\u001b[0mkwds\u001b[0m\u001b[0;34m)\u001b[0m  \u001b[0;31m# pylint: disable=not-callable\u001b[0m\u001b[0;34m\u001b[0m\u001b[0;34m\u001b[0m\u001b[0m\n\u001b[0m\u001b[1;32m    856\u001b[0m     \u001b[0;32melif\u001b[0m \u001b[0mself\u001b[0m\u001b[0;34m.\u001b[0m\u001b[0m_stateful_fn\u001b[0m \u001b[0;32mis\u001b[0m \u001b[0;32mnot\u001b[0m \u001b[0;32mNone\u001b[0m\u001b[0;34m:\u001b[0m\u001b[0;34m\u001b[0m\u001b[0;34m\u001b[0m\u001b[0m\n\u001b[1;32m    857\u001b[0m       \u001b[0;31m# Release the lock early so that multiple threads can perform the call\u001b[0m\u001b[0;34m\u001b[0m\u001b[0;34m\u001b[0m\u001b[0;34m\u001b[0m\u001b[0m\n",
      "\u001b[0;32m/usr/local/lib/python3.6/dist-packages/tensorflow/python/eager/function.py\u001b[0m in \u001b[0;36m__call__\u001b[0;34m(self, *args, **kwargs)\u001b[0m\n\u001b[1;32m   2941\u001b[0m        filtered_flat_args) = self._maybe_define_function(args, kwargs)\n\u001b[1;32m   2942\u001b[0m     return graph_function._call_flat(\n\u001b[0;32m-> 2943\u001b[0;31m         filtered_flat_args, captured_inputs=graph_function.captured_inputs)  # pylint: disable=protected-access\n\u001b[0m\u001b[1;32m   2944\u001b[0m \u001b[0;34m\u001b[0m\u001b[0m\n\u001b[1;32m   2945\u001b[0m   \u001b[0;34m@\u001b[0m\u001b[0mproperty\u001b[0m\u001b[0;34m\u001b[0m\u001b[0;34m\u001b[0m\u001b[0m\n",
      "\u001b[0;32m/usr/local/lib/python3.6/dist-packages/tensorflow/python/eager/function.py\u001b[0m in \u001b[0;36m_call_flat\u001b[0;34m(self, args, captured_inputs, cancellation_manager)\u001b[0m\n\u001b[1;32m   1917\u001b[0m       \u001b[0;31m# No tape is watching; skip to running the function.\u001b[0m\u001b[0;34m\u001b[0m\u001b[0;34m\u001b[0m\u001b[0;34m\u001b[0m\u001b[0m\n\u001b[1;32m   1918\u001b[0m       return self._build_call_outputs(self._inference_function.call(\n\u001b[0;32m-> 1919\u001b[0;31m           ctx, args, cancellation_manager=cancellation_manager))\n\u001b[0m\u001b[1;32m   1920\u001b[0m     forward_backward = self._select_forward_and_backward_functions(\n\u001b[1;32m   1921\u001b[0m         \u001b[0margs\u001b[0m\u001b[0;34m,\u001b[0m\u001b[0;34m\u001b[0m\u001b[0;34m\u001b[0m\u001b[0m\n",
      "\u001b[0;32m/usr/local/lib/python3.6/dist-packages/tensorflow/python/eager/function.py\u001b[0m in \u001b[0;36mcall\u001b[0;34m(self, ctx, args, cancellation_manager)\u001b[0m\n\u001b[1;32m    558\u001b[0m               \u001b[0minputs\u001b[0m\u001b[0;34m=\u001b[0m\u001b[0margs\u001b[0m\u001b[0;34m,\u001b[0m\u001b[0;34m\u001b[0m\u001b[0;34m\u001b[0m\u001b[0m\n\u001b[1;32m    559\u001b[0m               \u001b[0mattrs\u001b[0m\u001b[0;34m=\u001b[0m\u001b[0mattrs\u001b[0m\u001b[0;34m,\u001b[0m\u001b[0;34m\u001b[0m\u001b[0;34m\u001b[0m\u001b[0m\n\u001b[0;32m--> 560\u001b[0;31m               ctx=ctx)\n\u001b[0m\u001b[1;32m    561\u001b[0m         \u001b[0;32melse\u001b[0m\u001b[0;34m:\u001b[0m\u001b[0;34m\u001b[0m\u001b[0;34m\u001b[0m\u001b[0m\n\u001b[1;32m    562\u001b[0m           outputs = execute.execute_with_cancellation(\n",
      "\u001b[0;32m/usr/local/lib/python3.6/dist-packages/tensorflow/python/eager/execute.py\u001b[0m in \u001b[0;36mquick_execute\u001b[0;34m(op_name, num_outputs, inputs, attrs, ctx, name)\u001b[0m\n\u001b[1;32m     58\u001b[0m     \u001b[0mctx\u001b[0m\u001b[0;34m.\u001b[0m\u001b[0mensure_initialized\u001b[0m\u001b[0;34m(\u001b[0m\u001b[0;34m)\u001b[0m\u001b[0;34m\u001b[0m\u001b[0;34m\u001b[0m\u001b[0m\n\u001b[1;32m     59\u001b[0m     tensors = pywrap_tfe.TFE_Py_Execute(ctx._handle, device_name, op_name,\n\u001b[0;32m---> 60\u001b[0;31m                                         inputs, attrs, num_outputs)\n\u001b[0m\u001b[1;32m     61\u001b[0m   \u001b[0;32mexcept\u001b[0m \u001b[0mcore\u001b[0m\u001b[0;34m.\u001b[0m\u001b[0m_NotOkStatusException\u001b[0m \u001b[0;32mas\u001b[0m \u001b[0me\u001b[0m\u001b[0;34m:\u001b[0m\u001b[0;34m\u001b[0m\u001b[0;34m\u001b[0m\u001b[0m\n\u001b[1;32m     62\u001b[0m     \u001b[0;32mif\u001b[0m \u001b[0mname\u001b[0m \u001b[0;32mis\u001b[0m \u001b[0;32mnot\u001b[0m \u001b[0;32mNone\u001b[0m\u001b[0;34m:\u001b[0m\u001b[0;34m\u001b[0m\u001b[0;34m\u001b[0m\u001b[0m\n",
      "\u001b[0;31mKeyboardInterrupt\u001b[0m: "
     ]
    }
   ],
   "source": [
    "# batchsize = 8\n",
    "embedding_vector_length = 32\n",
    "\n",
    "model = Sequential()\n",
    "model.add(Embedding(vocab_size, embedding_vector_length, input_length=max_len))\n",
    "model.add(SpatialDropout1D(0.25))\n",
    "model.add(LSTM(50, dropout=0.5, recurrent_dropout=0.5))\n",
    "model.add(Dropout(0.2))\n",
    "model.add(Dense(2, activation='softmax'))\n",
    "model.compile(loss='categorical_crossentropy', optimizer='adam',metrics=['AUC'])\n",
    "\n",
    "history = model.fit(padded_sequence, scores_cat, validation_split=0.2, \n",
    "                    epochs=10, batch_size=8, class_weight={0: 20648/5812, 1: 20648/20648})"
   ]
  },
  {
   "cell_type": "code",
   "execution_count": null,
   "metadata": {
    "id": "mhNUajUOINa6"
   },
   "outputs": [],
   "source": [
    "plt.plot(history.history['loss'], label='Train loss')\n",
    "plt.plot(history.history['val_loss'], label='Val Loss')\n",
    "plt.legend();"
   ]
  },
  {
   "cell_type": "code",
   "execution_count": null,
   "metadata": {
    "colab": {
     "background_save": true,
     "base_uri": "https://localhost:8080/"
    },
    "id": "K_mAraG_IQid",
    "outputId": "7e92b5b9-fc82-4621-f1ca-94167f50752a"
   },
   "outputs": [
    {
     "name": "stdout",
     "output_type": "stream",
     "text": [
      "Epoch 1/20\n",
      "5292/5292 [==============================] - 345s 65ms/step - loss: 0.7996 - auc: 0.8219 - val_loss: 0.4291 - val_auc: 0.8978\n",
      "Epoch 2/20\n",
      "5292/5292 [==============================] - 329s 62ms/step - loss: 0.5251 - auc: 0.9255 - val_loss: 0.3242 - val_auc: 0.9446\n",
      "Epoch 3/20\n",
      "5292/5292 [==============================] - 328s 62ms/step - loss: 0.4841 - auc: 0.9393 - val_loss: 0.3175 - val_auc: 0.9384\n",
      "Epoch 4/20\n",
      "5292/5292 [==============================] - 349s 66ms/step - loss: 0.4473 - auc: 0.9454 - val_loss: 0.3241 - val_auc: 0.9385\n",
      "Epoch 5/20\n",
      "5292/5292 [==============================] - 352s 67ms/step - loss: 0.4093 - auc: 0.9544 - val_loss: 0.3160 - val_auc: 0.9412\n",
      "Epoch 6/20\n",
      "5292/5292 [==============================] - 318s 60ms/step - loss: 0.3911 - auc: 0.9590 - val_loss: 0.3199 - val_auc: 0.9415\n",
      "Epoch 7/20\n",
      "5292/5292 [==============================] - 337s 64ms/step - loss: 0.3487 - auc: 0.9672 - val_loss: 0.3473 - val_auc: 0.9420\n",
      "Epoch 8/20\n",
      "5292/5292 [==============================] - 332s 63ms/step - loss: 0.3441 - auc: 0.9681 - val_loss: 0.3386 - val_auc: 0.9481\n",
      "Epoch 9/20\n",
      "5292/5292 [==============================] - 325s 61ms/step - loss: 0.3325 - auc: 0.9708 - val_loss: 0.3610 - val_auc: 0.9417\n",
      "Epoch 10/20\n",
      "5292/5292 [==============================] - 319s 60ms/step - loss: 0.3330 - auc: 0.9707 - val_loss: 0.3674 - val_auc: 0.9386\n",
      "Epoch 11/20\n",
      "5292/5292 [==============================] - 329s 62ms/step - loss: 0.3266 - auc: 0.9715 - val_loss: 0.3876 - val_auc: 0.9379\n",
      "Epoch 12/20\n",
      "2772/5292 [==============>...............] - ETA: 2:26 - loss: 0.2877 - auc: 0.9772Buffered data was truncated after reaching the output size limit."
     ]
    }
   ],
   "source": [
    "# batchsize = 4\n",
    "embedding_vector_length = 32\n",
    "\n",
    "model = Sequential()\n",
    "model.add(Embedding(vocab_size, embedding_vector_length, input_length=max_len))\n",
    "model.add(SpatialDropout1D(0.25))\n",
    "model.add(LSTM(50, dropout=0.5, recurrent_dropout=0.5))\n",
    "model.add(Dropout(0.2))\n",
    "model.add(Dense(2, activation='softmax'))\n",
    "model.compile(loss='categorical_crossentropy', optimizer='adam',metrics=['AUC'])\n",
    "\n",
    "history = model.fit(padded_sequence, scores_cat, validation_split=0.2, \n",
    "                    epochs=20, batch_size=4, class_weight={0: 20648/5812, 1: 20648/20648})"
   ]
  },
  {
   "cell_type": "code",
   "execution_count": null,
   "metadata": {
    "id": "3XqnGNmmIRlX"
   },
   "outputs": [],
   "source": [
    "plt.plot(history.history['loss'], label='Train loss')\n",
    "plt.plot(history.history['val_loss'], label='Val Loss')\n",
    "plt.legend();"
   ]
  },
  {
   "cell_type": "code",
   "execution_count": null,
   "metadata": {
    "id": "GQ08NIqAIUM5"
   },
   "outputs": [],
   "source": [
    "# batchsize = 2\n",
    "embedding_vector_length = 32\n",
    "\n",
    "model = Sequential()\n",
    "model.add(Embedding(vocab_size, embedding_vector_length, input_length=max_len))\n",
    "model.add(SpatialDropout1D(0.25))\n",
    "model.add(LSTM(50, dropout=0.5, recurrent_dropout=0.5))\n",
    "model.add(Dropout(0.2))\n",
    "model.add(Dense(2, activation='softmax'))\n",
    "model.compile(loss='categorical_crossentropy', optimizer='adam',metrics=['AUC'])\n",
    "\n",
    "history = model.fit(padded_sequence, scores_cat, validation_split=0.2, \n",
    "                    epochs=20, batch_size=2, class_weight={0: 20648/5812, 1: 20648/20648})"
   ]
  },
  {
   "cell_type": "code",
   "execution_count": null,
   "metadata": {
    "id": "mT_8OVh7IWj7"
   },
   "outputs": [],
   "source": [
    "plt.plot(history.history['loss'], label='Train loss')\n",
    "plt.plot(history.history['val_loss'], label='Val Loss')\n",
    "plt.legend();"
   ]
  },
  {
   "cell_type": "markdown",
   "metadata": {
    "id": "_hgMLfDx7xyj"
   },
   "source": [
    "bathsize of 16 seems pretty optimal"
   ]
  },
  {
   "cell_type": "markdown",
   "metadata": {
    "id": "UPF0TG2NkpgO"
   },
   "source": [
    "# Testing output_dim"
   ]
  },
  {
   "cell_type": "code",
   "execution_count": 18,
   "metadata": {
    "colab": {
     "base_uri": "https://localhost:8080/"
    },
    "id": "xwPiKWPuIbod",
    "outputId": "e5c5d8c0-6c27-49d8-dbe1-566c239ebaf6"
   },
   "outputs": [
    {
     "name": "stdout",
     "output_type": "stream",
     "text": [
      "WARNING:tensorflow:Layer lstm_1 will not use cuDNN kernel since it doesn't meet the cuDNN kernel criteria. It will use generic GPU kernel as fallback when running on GPU\n",
      "Epoch 1/5\n",
      "1323/1323 [==============================] - 241s 181ms/step - loss: 0.8192 - auc: 0.8262 - val_loss: 0.3408 - val_auc: 0.9295\n",
      "Epoch 2/5\n",
      "1323/1323 [==============================] - 237s 179ms/step - loss: 0.5137 - auc: 0.9280 - val_loss: 0.3199 - val_auc: 0.9412\n",
      "Epoch 3/5\n",
      "1323/1323 [==============================] - 237s 179ms/step - loss: 0.4383 - auc: 0.9480 - val_loss: 0.3463 - val_auc: 0.9312\n",
      "Epoch 4/5\n",
      "1323/1323 [==============================] - 235s 178ms/step - loss: 0.4001 - auc: 0.9550 - val_loss: 0.3191 - val_auc: 0.9461\n",
      "Epoch 5/5\n",
      "1323/1323 [==============================] - 239s 180ms/step - loss: 0.3895 - auc: 0.9582 - val_loss: 0.3349 - val_auc: 0.9433\n"
     ]
    }
   ],
   "source": [
    "# embedding_vector_length refers to the output_dim (AKA embedding_dimensionality)\n",
    "# It is for the dimension of the dense embedding\n",
    "# This is the size of the vector space in which words will be embedded. \n",
    "# It defines the size of the output vectors from this layer for each word. \n",
    "# For example, it could be 32 or 100 or even larger. Test different values for your problem.\n",
    "\n",
    "# the dense embedding is that the model creates (i.e. value = 50) 50 attribute for EACH of your words --> this is called a word vector\n",
    "# meaning each of ur word has a word vector in a 50 dimension space (i.e. az + by + cx + etc etc)\n",
    "# this is then passed on to the next layer\n",
    "\n",
    "# When you create an Embedding layer, the weights for the embedding are randomly initialized (just like any other layer). \n",
    "# During training, they are gradually adjusted via backpropagation.\n",
    "# Once trained, the learned word embeddings will roughly encode similarities between words (as they were learned for the specific problem your model is trained on).\n",
    "embedding_vector_length = 50\n",
    "\n",
    "model = Sequential()\n",
    "model.add(Embedding(vocab_size, embedding_vector_length, input_length=max_len))\n",
    "\n",
    "# This version performs the same function as Dropout, however, it drops entire 1D feature maps instead of individual elements.\n",
    "# If adjacent frames within feature maps are strongly correlated (as is normally the case in early convolution layers) then regular dropout will not regularize the activations\n",
    "# and will otherwise just result in an effective learning rate decrease. In this case, SpatialDropout1D will help promote independence between feature maps and should be used instead.\n",
    "model.add(SpatialDropout1D(0.25))\n",
    "\n",
    "model.add(LSTM(50, dropout=0.5, recurrent_dropout=0.5))\n",
    "model.add(Dropout(0.2))\n",
    "model.add(Dense(2, activation='softmax'))\n",
    "model.compile(loss='categorical_crossentropy', optimizer='adam',metrics=['AUC'])\n",
    "\n",
    "history = model.fit(padded_sequence, scores_cat, validation_split=0.2, \n",
    "                    epochs=5, batch_size=16, class_weight={0: 20648/5812, 1: 20648/20648})"
   ]
  },
  {
   "cell_type": "code",
   "execution_count": 23,
   "metadata": {
    "colab": {
     "base_uri": "https://localhost:8080/"
    },
    "id": "jVLNwx9yIdP3",
    "outputId": "378a71b6-e9a9-4eb8-f061-3ffb535df656"
   },
   "outputs": [
    {
     "name": "stdout",
     "output_type": "stream",
     "text": [
      "WARNING:tensorflow:Layer lstm_5 will not use cuDNN kernel since it doesn't meet the cuDNN kernel criteria. It will use generic GPU kernel as fallback when running on GPU\n",
      "Epoch 1/5\n",
      "331/331 [==============================] - 146s 435ms/step - loss: 0.8585 - auc: 0.8002 - val_loss: 0.3292 - val_auc: 0.9336\n",
      "Epoch 2/5\n",
      "331/331 [==============================] - 144s 435ms/step - loss: 0.5071 - auc: 0.9305 - val_loss: 0.3296 - val_auc: 0.9392\n",
      "Epoch 3/5\n",
      "331/331 [==============================] - 142s 430ms/step - loss: 0.4288 - auc: 0.9492 - val_loss: 0.3534 - val_auc: 0.9351\n",
      "Epoch 4/5\n",
      "331/331 [==============================] - 143s 431ms/step - loss: 0.3802 - auc: 0.9588 - val_loss: 0.3252 - val_auc: 0.9369\n",
      "Epoch 5/5\n",
      "331/331 [==============================] - 143s 431ms/step - loss: 0.3511 - auc: 0.9656 - val_loss: 0.3335 - val_auc: 0.9425\n"
     ]
    }
   ],
   "source": [
    "embedding_vector_length = 100\n",
    "\n",
    "model = Sequential()\n",
    "model.add(Embedding(vocab_size, embedding_vector_length, input_length=max_len))\n",
    "model.add(SpatialDropout1D(0.25))\n",
    "model.add(LSTM(125, dropout=0.5, recurrent_dropout=0.5))\n",
    "model.add(Dropout(0.2))\n",
    "model.add(Dense(2, activation='softmax'))\n",
    "model.compile(loss='categorical_crossentropy', optimizer='adam',metrics=['AUC'])\n",
    "\n",
    "history = model.fit(padded_sequence, scores_cat, validation_split=0.2, \n",
    "                    epochs=5, batch_size=64, class_weight={0: 20648/5812, 1: 20648/20648})"
   ]
  },
  {
   "cell_type": "code",
   "execution_count": 24,
   "metadata": {
    "colab": {
     "base_uri": "https://localhost:8080/",
     "height": 417
    },
    "id": "D4ECLd9JwViZ",
    "outputId": "7a39905c-8071-4daa-82d8-7ee6d0dac321"
   },
   "outputs": [
    {
     "name": "stdout",
     "output_type": "stream",
     "text": [
      "Epoch 1/5\n",
      "331/331 [==============================] - 144s 434ms/step - loss: 0.3446 - auc: 0.9660 - val_loss: 0.4139 - val_auc: 0.9077\n",
      "Epoch 2/5\n",
      "253/331 [=====================>........] - ETA: 33s - loss: 0.3044 - auc: 0.9746"
     ]
    },
    {
     "ename": "KeyboardInterrupt",
     "evalue": "ignored",
     "output_type": "error",
     "traceback": [
      "\u001b[0;31m---------------------------------------------------------------------------\u001b[0m",
      "\u001b[0;31mKeyboardInterrupt\u001b[0m                         Traceback (most recent call last)",
      "\u001b[0;32m<ipython-input-24-efd5b62a7a35>\u001b[0m in \u001b[0;36m<module>\u001b[0;34m()\u001b[0m\n\u001b[1;32m      1\u001b[0m history = model.fit(padded_sequence, scores_cat, validation_split=0.2, \n\u001b[0;32m----> 2\u001b[0;31m                     epochs=5, batch_size=64, class_weight={0: 20648/5812, 1: 20648/20648})\n\u001b[0m",
      "\u001b[0;32m/usr/local/lib/python3.6/dist-packages/tensorflow/python/keras/engine/training.py\u001b[0m in \u001b[0;36mfit\u001b[0;34m(self, x, y, batch_size, epochs, verbose, callbacks, validation_split, validation_data, shuffle, class_weight, sample_weight, initial_epoch, steps_per_epoch, validation_steps, validation_batch_size, validation_freq, max_queue_size, workers, use_multiprocessing)\u001b[0m\n\u001b[1;32m   1098\u001b[0m                 _r=1):\n\u001b[1;32m   1099\u001b[0m               \u001b[0mcallbacks\u001b[0m\u001b[0;34m.\u001b[0m\u001b[0mon_train_batch_begin\u001b[0m\u001b[0;34m(\u001b[0m\u001b[0mstep\u001b[0m\u001b[0;34m)\u001b[0m\u001b[0;34m\u001b[0m\u001b[0;34m\u001b[0m\u001b[0m\n\u001b[0;32m-> 1100\u001b[0;31m               \u001b[0mtmp_logs\u001b[0m \u001b[0;34m=\u001b[0m \u001b[0mself\u001b[0m\u001b[0;34m.\u001b[0m\u001b[0mtrain_function\u001b[0m\u001b[0;34m(\u001b[0m\u001b[0miterator\u001b[0m\u001b[0;34m)\u001b[0m\u001b[0;34m\u001b[0m\u001b[0;34m\u001b[0m\u001b[0m\n\u001b[0m\u001b[1;32m   1101\u001b[0m               \u001b[0;32mif\u001b[0m \u001b[0mdata_handler\u001b[0m\u001b[0;34m.\u001b[0m\u001b[0mshould_sync\u001b[0m\u001b[0;34m:\u001b[0m\u001b[0;34m\u001b[0m\u001b[0;34m\u001b[0m\u001b[0m\n\u001b[1;32m   1102\u001b[0m                 \u001b[0mcontext\u001b[0m\u001b[0;34m.\u001b[0m\u001b[0masync_wait\u001b[0m\u001b[0;34m(\u001b[0m\u001b[0;34m)\u001b[0m\u001b[0;34m\u001b[0m\u001b[0;34m\u001b[0m\u001b[0m\n",
      "\u001b[0;32m/usr/local/lib/python3.6/dist-packages/tensorflow/python/eager/def_function.py\u001b[0m in \u001b[0;36m__call__\u001b[0;34m(self, *args, **kwds)\u001b[0m\n\u001b[1;32m    826\u001b[0m     \u001b[0mtracing_count\u001b[0m \u001b[0;34m=\u001b[0m \u001b[0mself\u001b[0m\u001b[0;34m.\u001b[0m\u001b[0mexperimental_get_tracing_count\u001b[0m\u001b[0;34m(\u001b[0m\u001b[0;34m)\u001b[0m\u001b[0;34m\u001b[0m\u001b[0;34m\u001b[0m\u001b[0m\n\u001b[1;32m    827\u001b[0m     \u001b[0;32mwith\u001b[0m \u001b[0mtrace\u001b[0m\u001b[0;34m.\u001b[0m\u001b[0mTrace\u001b[0m\u001b[0;34m(\u001b[0m\u001b[0mself\u001b[0m\u001b[0;34m.\u001b[0m\u001b[0m_name\u001b[0m\u001b[0;34m)\u001b[0m \u001b[0;32mas\u001b[0m \u001b[0mtm\u001b[0m\u001b[0;34m:\u001b[0m\u001b[0;34m\u001b[0m\u001b[0;34m\u001b[0m\u001b[0m\n\u001b[0;32m--> 828\u001b[0;31m       \u001b[0mresult\u001b[0m \u001b[0;34m=\u001b[0m \u001b[0mself\u001b[0m\u001b[0;34m.\u001b[0m\u001b[0m_call\u001b[0m\u001b[0;34m(\u001b[0m\u001b[0;34m*\u001b[0m\u001b[0margs\u001b[0m\u001b[0;34m,\u001b[0m \u001b[0;34m**\u001b[0m\u001b[0mkwds\u001b[0m\u001b[0;34m)\u001b[0m\u001b[0;34m\u001b[0m\u001b[0;34m\u001b[0m\u001b[0m\n\u001b[0m\u001b[1;32m    829\u001b[0m       \u001b[0mcompiler\u001b[0m \u001b[0;34m=\u001b[0m \u001b[0;34m\"xla\"\u001b[0m \u001b[0;32mif\u001b[0m \u001b[0mself\u001b[0m\u001b[0;34m.\u001b[0m\u001b[0m_experimental_compile\u001b[0m \u001b[0;32melse\u001b[0m \u001b[0;34m\"nonXla\"\u001b[0m\u001b[0;34m\u001b[0m\u001b[0;34m\u001b[0m\u001b[0m\n\u001b[1;32m    830\u001b[0m       \u001b[0mnew_tracing_count\u001b[0m \u001b[0;34m=\u001b[0m \u001b[0mself\u001b[0m\u001b[0;34m.\u001b[0m\u001b[0mexperimental_get_tracing_count\u001b[0m\u001b[0;34m(\u001b[0m\u001b[0;34m)\u001b[0m\u001b[0;34m\u001b[0m\u001b[0;34m\u001b[0m\u001b[0m\n",
      "\u001b[0;32m/usr/local/lib/python3.6/dist-packages/tensorflow/python/eager/def_function.py\u001b[0m in \u001b[0;36m_call\u001b[0;34m(self, *args, **kwds)\u001b[0m\n\u001b[1;32m    853\u001b[0m       \u001b[0;31m# In this case we have created variables on the first call, so we run the\u001b[0m\u001b[0;34m\u001b[0m\u001b[0;34m\u001b[0m\u001b[0;34m\u001b[0m\u001b[0m\n\u001b[1;32m    854\u001b[0m       \u001b[0;31m# defunned version which is guaranteed to never create variables.\u001b[0m\u001b[0;34m\u001b[0m\u001b[0;34m\u001b[0m\u001b[0;34m\u001b[0m\u001b[0m\n\u001b[0;32m--> 855\u001b[0;31m       \u001b[0;32mreturn\u001b[0m \u001b[0mself\u001b[0m\u001b[0;34m.\u001b[0m\u001b[0m_stateless_fn\u001b[0m\u001b[0;34m(\u001b[0m\u001b[0;34m*\u001b[0m\u001b[0margs\u001b[0m\u001b[0;34m,\u001b[0m \u001b[0;34m**\u001b[0m\u001b[0mkwds\u001b[0m\u001b[0;34m)\u001b[0m  \u001b[0;31m# pylint: disable=not-callable\u001b[0m\u001b[0;34m\u001b[0m\u001b[0;34m\u001b[0m\u001b[0m\n\u001b[0m\u001b[1;32m    856\u001b[0m     \u001b[0;32melif\u001b[0m \u001b[0mself\u001b[0m\u001b[0;34m.\u001b[0m\u001b[0m_stateful_fn\u001b[0m \u001b[0;32mis\u001b[0m \u001b[0;32mnot\u001b[0m \u001b[0;32mNone\u001b[0m\u001b[0;34m:\u001b[0m\u001b[0;34m\u001b[0m\u001b[0;34m\u001b[0m\u001b[0m\n\u001b[1;32m    857\u001b[0m       \u001b[0;31m# Release the lock early so that multiple threads can perform the call\u001b[0m\u001b[0;34m\u001b[0m\u001b[0;34m\u001b[0m\u001b[0;34m\u001b[0m\u001b[0m\n",
      "\u001b[0;32m/usr/local/lib/python3.6/dist-packages/tensorflow/python/eager/function.py\u001b[0m in \u001b[0;36m__call__\u001b[0;34m(self, *args, **kwargs)\u001b[0m\n\u001b[1;32m   2941\u001b[0m        filtered_flat_args) = self._maybe_define_function(args, kwargs)\n\u001b[1;32m   2942\u001b[0m     return graph_function._call_flat(\n\u001b[0;32m-> 2943\u001b[0;31m         filtered_flat_args, captured_inputs=graph_function.captured_inputs)  # pylint: disable=protected-access\n\u001b[0m\u001b[1;32m   2944\u001b[0m \u001b[0;34m\u001b[0m\u001b[0m\n\u001b[1;32m   2945\u001b[0m   \u001b[0;34m@\u001b[0m\u001b[0mproperty\u001b[0m\u001b[0;34m\u001b[0m\u001b[0;34m\u001b[0m\u001b[0m\n",
      "\u001b[0;32m/usr/local/lib/python3.6/dist-packages/tensorflow/python/eager/function.py\u001b[0m in \u001b[0;36m_call_flat\u001b[0;34m(self, args, captured_inputs, cancellation_manager)\u001b[0m\n\u001b[1;32m   1917\u001b[0m       \u001b[0;31m# No tape is watching; skip to running the function.\u001b[0m\u001b[0;34m\u001b[0m\u001b[0;34m\u001b[0m\u001b[0;34m\u001b[0m\u001b[0m\n\u001b[1;32m   1918\u001b[0m       return self._build_call_outputs(self._inference_function.call(\n\u001b[0;32m-> 1919\u001b[0;31m           ctx, args, cancellation_manager=cancellation_manager))\n\u001b[0m\u001b[1;32m   1920\u001b[0m     forward_backward = self._select_forward_and_backward_functions(\n\u001b[1;32m   1921\u001b[0m         \u001b[0margs\u001b[0m\u001b[0;34m,\u001b[0m\u001b[0;34m\u001b[0m\u001b[0;34m\u001b[0m\u001b[0m\n",
      "\u001b[0;32m/usr/local/lib/python3.6/dist-packages/tensorflow/python/eager/function.py\u001b[0m in \u001b[0;36mcall\u001b[0;34m(self, ctx, args, cancellation_manager)\u001b[0m\n\u001b[1;32m    558\u001b[0m               \u001b[0minputs\u001b[0m\u001b[0;34m=\u001b[0m\u001b[0margs\u001b[0m\u001b[0;34m,\u001b[0m\u001b[0;34m\u001b[0m\u001b[0;34m\u001b[0m\u001b[0m\n\u001b[1;32m    559\u001b[0m               \u001b[0mattrs\u001b[0m\u001b[0;34m=\u001b[0m\u001b[0mattrs\u001b[0m\u001b[0;34m,\u001b[0m\u001b[0;34m\u001b[0m\u001b[0;34m\u001b[0m\u001b[0m\n\u001b[0;32m--> 560\u001b[0;31m               ctx=ctx)\n\u001b[0m\u001b[1;32m    561\u001b[0m         \u001b[0;32melse\u001b[0m\u001b[0;34m:\u001b[0m\u001b[0;34m\u001b[0m\u001b[0;34m\u001b[0m\u001b[0m\n\u001b[1;32m    562\u001b[0m           outputs = execute.execute_with_cancellation(\n",
      "\u001b[0;32m/usr/local/lib/python3.6/dist-packages/tensorflow/python/eager/execute.py\u001b[0m in \u001b[0;36mquick_execute\u001b[0;34m(op_name, num_outputs, inputs, attrs, ctx, name)\u001b[0m\n\u001b[1;32m     58\u001b[0m     \u001b[0mctx\u001b[0m\u001b[0;34m.\u001b[0m\u001b[0mensure_initialized\u001b[0m\u001b[0;34m(\u001b[0m\u001b[0;34m)\u001b[0m\u001b[0;34m\u001b[0m\u001b[0;34m\u001b[0m\u001b[0m\n\u001b[1;32m     59\u001b[0m     tensors = pywrap_tfe.TFE_Py_Execute(ctx._handle, device_name, op_name,\n\u001b[0;32m---> 60\u001b[0;31m                                         inputs, attrs, num_outputs)\n\u001b[0m\u001b[1;32m     61\u001b[0m   \u001b[0;32mexcept\u001b[0m \u001b[0mcore\u001b[0m\u001b[0;34m.\u001b[0m\u001b[0m_NotOkStatusException\u001b[0m \u001b[0;32mas\u001b[0m \u001b[0me\u001b[0m\u001b[0;34m:\u001b[0m\u001b[0;34m\u001b[0m\u001b[0;34m\u001b[0m\u001b[0m\n\u001b[1;32m     62\u001b[0m     \u001b[0;32mif\u001b[0m \u001b[0mname\u001b[0m \u001b[0;32mis\u001b[0m \u001b[0;32mnot\u001b[0m \u001b[0;32mNone\u001b[0m\u001b[0;34m:\u001b[0m\u001b[0;34m\u001b[0m\u001b[0;34m\u001b[0m\u001b[0m\n",
      "\u001b[0;31mKeyboardInterrupt\u001b[0m: "
     ]
    }
   ],
   "source": [
    "history = model.fit(padded_sequence, scores_cat, validation_split=0.2, \n",
    "                    epochs=5, batch_size=64, class_weight={0: 20648/5812, 1: 20648/20648})"
   ]
  },
  {
   "cell_type": "code",
   "execution_count": 25,
   "metadata": {
    "colab": {
     "base_uri": "https://localhost:8080/"
    },
    "id": "2bJlfifL4aBN",
    "outputId": "926297e4-542c-4e4e-a041-4ff129667ccd"
   },
   "outputs": [
    {
     "name": "stdout",
     "output_type": "stream",
     "text": [
      "WARNING:tensorflow:Layer lstm_6 will not use cuDNN kernel since it doesn't meet the cuDNN kernel criteria. It will use generic GPU kernel as fallback when running on GPU\n",
      "Epoch 1/5\n",
      "331/331 [==============================] - 143s 425ms/step - loss: 0.9611 - auc: 0.7536 - val_loss: 0.3524 - val_auc: 0.9229\n",
      "Epoch 2/5\n",
      "331/331 [==============================] - 138s 416ms/step - loss: 0.6093 - auc: 0.8969 - val_loss: 0.3550 - val_auc: 0.9232\n",
      "Epoch 3/5\n",
      "331/331 [==============================] - 138s 417ms/step - loss: 0.5145 - auc: 0.9270 - val_loss: 0.3580 - val_auc: 0.9316\n",
      "Epoch 4/5\n",
      "331/331 [==============================] - 143s 431ms/step - loss: 0.4968 - auc: 0.9319 - val_loss: 0.3365 - val_auc: 0.9352\n",
      "Epoch 5/5\n",
      "331/331 [==============================] - 141s 426ms/step - loss: 0.4463 - auc: 0.9456 - val_loss: 0.3548 - val_auc: 0.9295\n"
     ]
    }
   ],
   "source": [
    "embedding_vector_length = 16\n",
    "\n",
    "model = Sequential()\n",
    "model.add(Embedding(vocab_size, embedding_vector_length, input_length=max_len))\n",
    "model.add(SpatialDropout1D(0.25))\n",
    "model.add(LSTM(50, dropout=0.5, recurrent_dropout=0.5))\n",
    "model.add(Dropout(0.2))\n",
    "model.add(Dense(2, activation='softmax'))\n",
    "model.compile(loss='categorical_crossentropy', optimizer='adam',metrics=['AUC'])\n",
    "\n",
    "history = model.fit(padded_sequence, scores_cat, validation_split=0.2, \n",
    "                    epochs=5, batch_size=64, class_weight={0: 20648/5812, 1: 20648/20648})"
   ]
  },
  {
   "cell_type": "code",
   "execution_count": 26,
   "metadata": {
    "colab": {
     "base_uri": "https://localhost:8080/"
    },
    "id": "tQF9pAIp6olJ",
    "outputId": "f68fb2dc-a523-4384-952a-1a4869a79500"
   },
   "outputs": [
    {
     "name": "stdout",
     "output_type": "stream",
     "text": [
      "Epoch 1/5\n",
      "331/331 [==============================] - 140s 424ms/step - loss: 0.4296 - auc: 0.9479 - val_loss: 0.3050 - val_auc: 0.9480\n",
      "Epoch 2/5\n",
      "331/331 [==============================] - 137s 415ms/step - loss: 0.4105 - auc: 0.9530 - val_loss: 0.3306 - val_auc: 0.9458\n",
      "Epoch 3/5\n",
      "331/331 [==============================] - 139s 421ms/step - loss: 0.3895 - auc: 0.9585 - val_loss: 0.3416 - val_auc: 0.9405\n",
      "Epoch 4/5\n",
      "331/331 [==============================] - 137s 413ms/step - loss: 0.3771 - auc: 0.9605 - val_loss: 0.3474 - val_auc: 0.9342\n",
      "Epoch 5/5\n",
      "331/331 [==============================] - 137s 413ms/step - loss: 0.3621 - auc: 0.9635 - val_loss: 0.3651 - val_auc: 0.9415\n"
     ]
    }
   ],
   "source": [
    "history = model.fit(padded_sequence, scores_cat, validation_split=0.2, \n",
    "                    epochs=5, batch_size=64, class_weight={0: 20648/5812, 1: 20648/20648})"
   ]
  },
  {
   "cell_type": "markdown",
   "metadata": {
    "id": "pbeZNJAHk3Tk"
   },
   "source": [
    "# Testing LSTM Neurons"
   ]
  },
  {
   "cell_type": "code",
   "execution_count": 19,
   "metadata": {
    "colab": {
     "base_uri": "https://localhost:8080/"
    },
    "id": "NPzjPcARw_XU",
    "outputId": "27998332-33f4-4903-a502-10f12bb4f202"
   },
   "outputs": [
    {
     "name": "stdout",
     "output_type": "stream",
     "text": [
      "Epoch 1/5\n",
      "331/331 [==============================] - 40s 113ms/step - loss: 0.9246 - auc: 0.7909 - val_loss: 0.3546 - val_auc: 0.9230\n",
      "Epoch 2/5\n",
      "331/331 [==============================] - 37s 111ms/step - loss: 0.5494 - auc: 0.9163 - val_loss: 0.3408 - val_auc: 0.9332\n",
      "Epoch 3/5\n",
      "331/331 [==============================] - 37s 112ms/step - loss: 0.4710 - auc: 0.9397 - val_loss: 0.3601 - val_auc: 0.9288\n",
      "Epoch 4/5\n",
      "331/331 [==============================] - 37s 111ms/step - loss: 0.4429 - auc: 0.9454 - val_loss: 0.3434 - val_auc: 0.9362\n",
      "Epoch 5/5\n",
      "331/331 [==============================] - 37s 111ms/step - loss: 0.4212 - auc: 0.9514 - val_loss: 0.3553 - val_auc: 0.9324\n"
     ]
    }
   ],
   "source": [
    "embedding_vector_length = 32\n",
    "\n",
    "model = Sequential()\n",
    "model.add(Embedding(vocab_size, embedding_vector_length, input_length=max_len))\n",
    "model.add(SpatialDropout1D(0.25))\n",
    "model.add(LSTM(25, dropout=0.5, recurrent_dropout=0.5))\n",
    "model.add(Dropout(0.2))\n",
    "model.add(Dense(2, activation='softmax'))\n",
    "model.compile(loss='categorical_crossentropy', optimizer='adam',metrics=['AUC'])\n",
    "\n",
    "history = model.fit(padded_sequence, scores_cat, validation_split=0.2, \n",
    "                    epochs=5, batch_size=64, class_weight={0: 20648/5812, 1: 20648/20648})"
   ]
  },
  {
   "cell_type": "markdown",
   "metadata": {
    "id": "fBSUOi_GCFfZ"
   },
   "source": [
    "25 Neuron --> best result .9362"
   ]
  },
  {
   "cell_type": "code",
   "execution_count": 20,
   "metadata": {
    "colab": {
     "base_uri": "https://localhost:8080/"
    },
    "id": "GE3nezB_iOEE",
    "outputId": "7ad13d4b-d390-4d14-a041-607b3335c07b"
   },
   "outputs": [
    {
     "name": "stdout",
     "output_type": "stream",
     "text": [
      "Epoch 1/5\n",
      "331/331 [==============================] - 87s 254ms/step - loss: 0.9181 - auc: 0.7623 - val_loss: 0.3590 - val_auc: 0.9200\n",
      "Epoch 2/5\n",
      "331/331 [==============================] - 78s 235ms/step - loss: 0.5574 - auc: 0.9143 - val_loss: 0.3225 - val_auc: 0.9372\n",
      "Epoch 3/5\n",
      "331/331 [==============================] - 77s 234ms/step - loss: 0.4760 - auc: 0.9377 - val_loss: 0.3449 - val_auc: 0.9341\n",
      "Epoch 4/5\n",
      "331/331 [==============================] - 77s 233ms/step - loss: 0.4225 - auc: 0.9498 - val_loss: 0.3280 - val_auc: 0.9358\n",
      "Epoch 5/5\n",
      "331/331 [==============================] - 77s 234ms/step - loss: 0.4137 - auc: 0.9528 - val_loss: 0.3432 - val_auc: 0.9391\n"
     ]
    }
   ],
   "source": [
    "embedding_vector_length = 32\n",
    "\n",
    "model = Sequential()\n",
    "model.add(Embedding(vocab_size, embedding_vector_length, input_length=max_len))\n",
    "model.add(SpatialDropout1D(0.25))\n",
    "model.add(LSTM(100, dropout=0.5, recurrent_dropout=0.5))\n",
    "model.add(Dropout(0.2))\n",
    "model.add(Dense(2, activation='softmax'))\n",
    "model.compile(loss='categorical_crossentropy', optimizer='adam',metrics=['AUC'])\n",
    "\n",
    "history = model.fit(padded_sequence, scores_cat, validation_split=0.2, \n",
    "                    epochs=5, batch_size=64, class_weight={0: 20648/5812, 1: 20648/20648})"
   ]
  },
  {
   "cell_type": "markdown",
   "metadata": {
    "id": "pwX3I7ESCJY5"
   },
   "source": [
    "100 neurons --> best result .9372\n",
    "\n",
    "Seems like learning rate too high"
   ]
  },
  {
   "cell_type": "code",
   "execution_count": 21,
   "metadata": {
    "colab": {
     "base_uri": "https://localhost:8080/"
    },
    "id": "LgDEYMBGiXTl",
    "outputId": "ff04d8b4-bb56-4e12-d63a-65258483ff6d"
   },
   "outputs": [
    {
     "name": "stdout",
     "output_type": "stream",
     "text": [
      "Epoch 1/5\n",
      "331/331 [==============================] - 193s 574ms/step - loss: 0.8858 - auc: 0.7744 - val_loss: 0.3407 - val_auc: 0.9297\n",
      "Epoch 2/5\n",
      "331/331 [==============================] - 190s 573ms/step - loss: 0.5562 - auc: 0.9152 - val_loss: 0.3830 - val_auc: 0.9122\n",
      "Epoch 3/5\n",
      "331/331 [==============================] - 188s 568ms/step - loss: 0.5011 - auc: 0.9301 - val_loss: 0.3363 - val_auc: 0.9342\n",
      "Epoch 4/5\n",
      "331/331 [==============================] - 188s 567ms/step - loss: 0.4387 - auc: 0.9463 - val_loss: 0.2991 - val_auc: 0.9480\n",
      "Epoch 5/5\n",
      "331/331 [==============================] - 186s 562ms/step - loss: 0.4175 - auc: 0.9529 - val_loss: 0.3152 - val_auc: 0.9457\n"
     ]
    }
   ],
   "source": [
    "embedding_vector_length = 32\n",
    "\n",
    "model = Sequential()\n",
    "model.add(Embedding(vocab_size, embedding_vector_length, input_length=max_len))\n",
    "model.add(SpatialDropout1D(0.25))\n",
    "model.add(LSTM(200, dropout=0.5, recurrent_dropout=0.5))\n",
    "model.add(Dropout(0.2))\n",
    "model.add(Dense(2, activation='softmax'))\n",
    "model.compile(loss='categorical_crossentropy', optimizer='adam',metrics=['AUC'])\n",
    "\n",
    "history = model.fit(padded_sequence, scores_cat, validation_split=0.2, \n",
    "                    epochs=5, batch_size=64, class_weight={0: 20648/5812, 1: 20648/20648})"
   ]
  },
  {
   "cell_type": "markdown",
   "metadata": {
    "id": "tCMbKIZ-Fgrh"
   },
   "source": [
    "200 Neurons --> best result .9480\n",
    "\n",
    "about the same as 50 neurons"
   ]
  },
  {
   "cell_type": "markdown",
   "metadata": {
    "id": "dA6A1loUk9J1"
   },
   "source": [
    "# Testing Number of LSTM Layers"
   ]
  },
  {
   "cell_type": "code",
   "execution_count": 22,
   "metadata": {
    "colab": {
     "base_uri": "https://localhost:8080/"
    },
    "id": "oQb-1QXLiXQ4",
    "outputId": "5cedf85a-53b3-459a-aa07-aabc0d0aacf8"
   },
   "outputs": [
    {
     "name": "stdout",
     "output_type": "stream",
     "text": [
      "Epoch 1/5\n",
      "331/331 [==============================] - 102s 297ms/step - loss: 0.8667 - auc: 0.7898 - val_loss: 0.3529 - val_auc: 0.9225\n",
      "Epoch 2/5\n",
      "331/331 [==============================] - 98s 296ms/step - loss: 0.5287 - auc: 0.9239 - val_loss: 0.3067 - val_auc: 0.9448\n",
      "Epoch 3/5\n",
      "331/331 [==============================] - 98s 296ms/step - loss: 0.4353 - auc: 0.9483 - val_loss: 0.3824 - val_auc: 0.9330\n",
      "Epoch 4/5\n",
      "331/331 [==============================] - 98s 296ms/step - loss: 0.3829 - auc: 0.9596 - val_loss: 0.3219 - val_auc: 0.9437\n",
      "Epoch 5/5\n",
      "331/331 [==============================] - 98s 296ms/step - loss: 0.3500 - auc: 0.9657 - val_loss: 0.3408 - val_auc: 0.9415\n"
     ]
    }
   ],
   "source": [
    "embedding_vector_length = 32\n",
    "\n",
    "model = Sequential()\n",
    "model.add(Embedding(vocab_size, embedding_vector_length, input_length=max_len))\n",
    "model.add(SpatialDropout1D(0.25))\n",
    "model.add(LSTM(100, dropout=0.2, return_sequences=True))\n",
    "model.add(LSTM(50, dropout=0.2, recurrent_dropout=0.2))\n",
    "model.add(Dropout(0.2))\n",
    "model.add(Dense(2, activation='softmax'))\n",
    "model.compile(loss='categorical_crossentropy', optimizer='adam',metrics=['AUC'])\n",
    "\n",
    "history = model.fit(padded_sequence, scores_cat, validation_split=0.2, \n",
    "                    epochs=5, batch_size=64, class_weight={0: 20648/5812, 1: 20648/20648})"
   ]
  },
  {
   "cell_type": "markdown",
   "metadata": {
    "id": "1ReCFtt1ItJR"
   },
   "source": [
    "Overfitting"
   ]
  },
  {
   "cell_type": "code",
   "execution_count": 23,
   "metadata": {
    "colab": {
     "base_uri": "https://localhost:8080/"
    },
    "id": "eJXdfV4xiXOA",
    "outputId": "37c9eb40-57bf-4004-c6b4-fa360eeec2bb"
   },
   "outputs": [
    {
     "name": "stdout",
     "output_type": "stream",
     "text": [
      "Epoch 1/5\n",
      "331/331 [==============================] - 321s 956ms/step - loss: 0.8137 - auc: 0.8171 - val_loss: 0.3694 - val_auc: 0.9192\n",
      "Epoch 2/5\n",
      "331/331 [==============================] - 316s 955ms/step - loss: 0.4764 - auc: 0.9375 - val_loss: 0.3279 - val_auc: 0.9363\n",
      "Epoch 3/5\n",
      "331/331 [==============================] - 316s 954ms/step - loss: 0.4077 - auc: 0.9539 - val_loss: 0.3556 - val_auc: 0.9340\n",
      "Epoch 4/5\n",
      "331/331 [==============================] - 313s 947ms/step - loss: 0.3526 - auc: 0.9645 - val_loss: 0.3162 - val_auc: 0.9422\n",
      "Epoch 5/5\n",
      "331/331 [==============================] - 312s 942ms/step - loss: 0.3199 - auc: 0.9716 - val_loss: 0.3579 - val_auc: 0.9386\n"
     ]
    }
   ],
   "source": [
    "embedding_vector_length = 100\n",
    "\n",
    "model = Sequential()\n",
    "model.add(Embedding(vocab_size, embedding_vector_length, input_length=max_len))\n",
    "model.add(SpatialDropout1D(0.2))\n",
    "model.add(LSTM(250, dropout=0.2, return_sequences=True))\n",
    "model.add(LSTM(100, dropout=0.2, recurrent_dropout=0.2))\n",
    "model.add(Dropout(0.2))\n",
    "model.add(Dense(2, activation='softmax'))\n",
    "model.compile(loss='categorical_crossentropy', optimizer='adam',metrics=['AUC'])\n",
    "\n",
    "history = model.fit(padded_sequence, scores_cat, validation_split=0.2, \n",
    "                    epochs=5, batch_size=64, class_weight={0: 20648/5812, 1: 20648/20648})"
   ]
  },
  {
   "cell_type": "markdown",
   "metadata": {
    "id": "FYZxsMvZLTmx"
   },
   "source": [
    "Overfitting\n"
   ]
  },
  {
   "cell_type": "code",
   "execution_count": 24,
   "metadata": {
    "colab": {
     "base_uri": "https://localhost:8080/"
    },
    "id": "qrVraJIoiXLa",
    "outputId": "e9613065-612b-4d7e-d1dd-2605b40d6e06"
   },
   "outputs": [
    {
     "name": "stdout",
     "output_type": "stream",
     "text": [
      "Epoch 1/5\n",
      "331/331 [==============================] - 324s 964ms/step - loss: 0.8245 - auc: 0.8049 - val_loss: 0.3884 - val_auc: 0.9058\n",
      "Epoch 2/5\n",
      "331/331 [==============================] - 317s 959ms/step - loss: 0.5153 - auc: 0.9295 - val_loss: 0.3338 - val_auc: 0.9363\n",
      "Epoch 3/5\n",
      "331/331 [==============================] - 315s 951ms/step - loss: 0.3999 - auc: 0.9568 - val_loss: 0.3602 - val_auc: 0.9333\n",
      "Epoch 4/5\n",
      "331/331 [==============================] - 319s 964ms/step - loss: 0.3516 - auc: 0.9649 - val_loss: 0.3117 - val_auc: 0.9459\n",
      "Epoch 5/5\n",
      "331/331 [==============================] - 327s 987ms/step - loss: 0.3127 - auc: 0.9725 - val_loss: 0.3543 - val_auc: 0.9376\n"
     ]
    }
   ],
   "source": [
    "embedding_vector_length = 100\n",
    "\n",
    "model = Sequential()\n",
    "model.add(Embedding(vocab_size, embedding_vector_length, input_length=max_len))\n",
    "model.add(SpatialDropout1D(0.2))\n",
    "model.add(LSTM(250, dropout=0.2, return_sequences=True))\n",
    "model.add(LSTM(100, dropout=0.2, recurrent_dropout=0.2))\n",
    "model.add(Dense(2, activation='softmax'))\n",
    "model.compile(loss='categorical_crossentropy', optimizer='adam',metrics=['AUC'])\n",
    "\n",
    "history = model.fit(padded_sequence, scores_cat, validation_split=0.2, \n",
    "                    epochs=5, batch_size=64, class_weight={0: 20648/5812, 1: 20648/20648})"
   ]
  },
  {
   "cell_type": "code",
   "execution_count": 25,
   "metadata": {
    "colab": {
     "base_uri": "https://localhost:8080/"
    },
    "id": "r-pxrQ0UiXJB",
    "outputId": "fc8522bd-2b46-4f8a-9199-a2f515876f1f"
   },
   "outputs": [
    {
     "name": "stdout",
     "output_type": "stream",
     "text": [
      "Epoch 1/5\n",
      "331/331 [==============================] - 345s 1s/step - loss: 0.8244 - auc: 0.8079 - val_loss: 0.3592 - val_auc: 0.9227\n",
      "Epoch 2/5\n",
      "331/331 [==============================] - 330s 996ms/step - loss: 0.5003 - auc: 0.9332 - val_loss: 0.3176 - val_auc: 0.9400\n",
      "Epoch 3/5\n",
      "331/331 [==============================] - 334s 1s/step - loss: 0.4002 - auc: 0.9564 - val_loss: 0.3681 - val_auc: 0.9292\n",
      "Epoch 4/5\n",
      "331/331 [==============================] - 336s 1s/step - loss: 0.3448 - auc: 0.9657 - val_loss: 0.3498 - val_auc: 0.9302\n",
      "Epoch 5/5\n",
      "331/331 [==============================] - 336s 1s/step - loss: 0.3103 - auc: 0.9722 - val_loss: 0.3666 - val_auc: 0.9400\n"
     ]
    }
   ],
   "source": [
    "embedding_vector_length = 100\n",
    "\n",
    "model = Sequential()\n",
    "model.add(Embedding(vocab_size, embedding_vector_length, input_length=max_len))\n",
    "model.add(SpatialDropout1D(0.2))\n",
    "model.add(LSTM(250, dropout=0.2, return_sequences=True))\n",
    "model.add(Dropout(0.2))\n",
    "model.add(LSTM(100, dropout=0.2, return_sequences=True))\n",
    "model.add(LSTM(50, dropout=0.2, recurrent_dropout=0.2))\n",
    "model.add(Dense(2, activation='softmax'))\n",
    "model.compile(loss='categorical_crossentropy', optimizer='adam',metrics=['AUC'])\n",
    "\n",
    "history = model.fit(padded_sequence, scores_cat, validation_split=0.2, \n",
    "                    epochs=5, batch_size=64, class_weight={0: 20648/5812, 1: 20648/20648})"
   ]
  },
  {
   "cell_type": "code",
   "execution_count": 26,
   "metadata": {
    "colab": {
     "base_uri": "https://localhost:8080/"
    },
    "id": "OaFbqArKiXGN",
    "outputId": "98c91096-97ba-483f-b3a8-6dc45c79f162"
   },
   "outputs": [
    {
     "name": "stdout",
     "output_type": "stream",
     "text": [
      "Epoch 1/5\n",
      "331/331 [==============================] - 62s 173ms/step - loss: 0.9172 - auc: 0.7760 - val_loss: 0.3644 - val_auc: 0.9183\n",
      "Epoch 2/5\n",
      "331/331 [==============================] - 57s 171ms/step - loss: 0.5625 - auc: 0.9118 - val_loss: 0.3099 - val_auc: 0.9427\n",
      "Epoch 3/5\n",
      "331/331 [==============================] - 57s 171ms/step - loss: 0.4853 - auc: 0.9373 - val_loss: 0.3428 - val_auc: 0.9370\n",
      "Epoch 4/5\n",
      "331/331 [==============================] - 57s 172ms/step - loss: 0.4472 - auc: 0.9451 - val_loss: 0.3184 - val_auc: 0.9403\n",
      "Epoch 5/5\n",
      "331/331 [==============================] - 57s 172ms/step - loss: 0.4172 - auc: 0.9527 - val_loss: 0.3683 - val_auc: 0.9306\n"
     ]
    }
   ],
   "source": [
    "embedding_vector_length = 32\n",
    "\n",
    "model = Sequential()\n",
    "model.add(Embedding(vocab_size, embedding_vector_length, input_length=max_len))\n",
    "model.add(SpatialDropout1D(0.2))\n",
    "model.add(LSTM(50, dropout=0.5, return_sequences=True))\n",
    "model.add(Dropout(0.5))\n",
    "model.add(LSTM(10, dropout=0.2, recurrent_dropout=0.2))\n",
    "model.add(Dropout(0.2))\n",
    "model.add(Dense(2, activation='softmax'))\n",
    "model.compile(loss='categorical_crossentropy', optimizer='adam',metrics=['AUC'])\n",
    "\n",
    "history = model.fit(padded_sequence, scores_cat, validation_split=0.2, \n",
    "                    epochs=5, batch_size=64, class_weight={0: 20648/5812, 1: 20648/20648})"
   ]
  },
  {
   "cell_type": "code",
   "execution_count": null,
   "metadata": {
    "id": "cFVPIUIciXD8"
   },
   "outputs": [],
   "source": []
  },
  {
   "cell_type": "code",
   "execution_count": null,
   "metadata": {
    "id": "YaiijoH_iXA3"
   },
   "outputs": [],
   "source": []
  },
  {
   "cell_type": "code",
   "execution_count": null,
   "metadata": {
    "id": "u0skeCc6iW8e"
   },
   "outputs": [],
   "source": []
  },
  {
   "cell_type": "code",
   "execution_count": null,
   "metadata": {
    "id": "JYf2BcAViW5t"
   },
   "outputs": [],
   "source": []
  },
  {
   "cell_type": "markdown",
   "metadata": {
    "id": "H5b8W1-H9YYe"
   },
   "source": [
    "# OTHERS"
   ]
  },
  {
   "cell_type": "markdown",
   "metadata": {
    "id": "cIT8a7tg9YYg"
   },
   "source": [
    "## 6. LSTM"
   ]
  },
  {
   "cell_type": "code",
   "execution_count": null,
   "metadata": {
    "id": "F0u07xQi9YYg",
    "outputId": "92c19edc-f4a0-4912-e961-7903f729350d"
   },
   "outputs": [
    {
     "name": "stdout",
     "output_type": "stream",
     "text": [
      "Model: \"sequential_1\"\n",
      "_________________________________________________________________\n",
      "Layer (type)                 Output Shape              Param #   \n",
      "=================================================================\n",
      "embedding_1 (Embedding)      (None, 125, 32)           518400    \n",
      "_________________________________________________________________\n",
      "spatial_dropout1d_1 (Spatial (None, 125, 32)           0         \n",
      "_________________________________________________________________\n",
      "lstm_1 (LSTM)                (None, 50)                16600     \n",
      "_________________________________________________________________\n",
      "dropout_1 (Dropout)          (None, 50)                0         \n",
      "_________________________________________________________________\n",
      "dense_1 (Dense)              (None, 5)                 255       \n",
      "=================================================================\n",
      "Total params: 535,255\n",
      "Trainable params: 535,255\n",
      "Non-trainable params: 0\n",
      "_________________________________________________________________\n",
      "None\n"
     ]
    }
   ],
   "source": [
    "embedding_vector_length = 32\n",
    "\n",
    "model = Sequential()\n",
    "model.add(Embedding(vocab_size, embedding_vector_length, input_length=max_len))\n",
    "model.add(SpatialDropout1D(0.25))\n",
    "model.add(LSTM(50, dropout=0.5, recurrent_dropout=0.5))\n",
    "model.add(Dropout(0.2))\n",
    "model.add(Dense(5, activation='softmax'))\n",
    "model.compile(loss='categorical_crossentropy', optimizer='adam',metrics=['accuracy'])\n",
    "\n",
    "print(model.summary())"
   ]
  },
  {
   "cell_type": "code",
   "execution_count": null,
   "metadata": {
    "id": "SSduimxk9YYh"
   },
   "outputs": [],
   "source": [
    "scores = nn_df[['score']].copy()\n",
    "\n",
    "enc = OneHotEncoder()\n",
    "scores_cat = enc.fit_transform(scores).toarray()"
   ]
  },
  {
   "cell_type": "code",
   "execution_count": null,
   "metadata": {
    "id": "9958Hyzj9YYi"
   },
   "outputs": [],
   "source": [
    "from tensorflow.keras.callbacks import EarlyStopping"
   ]
  },
  {
   "cell_type": "code",
   "execution_count": null,
   "metadata": {
    "id": "YSqvtH1q9YYk",
    "outputId": "f143c46f-b049-4d3a-b902-5eebdb6cd0c3"
   },
   "outputs": [
    {
     "name": "stdout",
     "output_type": "stream",
     "text": [
      "Epoch 1/10\n",
      "662/662 [==============================] - 55s 83ms/step - loss: 0.6255 - accuracy: 0.7633 - val_loss: 0.7371 - val_accuracy: 0.7245\n",
      "Epoch 2/10\n",
      "662/662 [==============================] - 58s 88ms/step - loss: 0.6049 - accuracy: 0.7729 - val_loss: 0.7633 - val_accuracy: 0.7254\n",
      "Epoch 3/10\n",
      "662/662 [==============================] - 64s 96ms/step - loss: 0.5929 - accuracy: 0.7756 - val_loss: 0.7939 - val_accuracy: 0.7349\n",
      "Epoch 4/10\n",
      "662/662 [==============================] - 68s 102ms/step - loss: 0.5768 - accuracy: 0.7814 - val_loss: 0.7739 - val_accuracy: 0.7326\n"
     ]
    }
   ],
   "source": [
    "earlystop_callback = EarlyStopping(monitor='val_loss', min_delta=0, patience=3)\n",
    "\n",
    "history = model.fit(padded_sequence, scores_cat, validation_split=0.2, \n",
    "                    epochs=10, batch_size=32, callbacks=[earlystop_callback])"
   ]
  },
  {
   "cell_type": "code",
   "execution_count": null,
   "metadata": {
    "id": "D_PxtJph9YYm",
    "outputId": "8e2cb1da-7288-4333-903a-00a6746a210e"
   },
   "outputs": [
    {
     "data": {
      "image/png": "[encoded data removed]",
      "text/plain": [
       "<Figure size 432x288 with 1 Axes>"
      ]
     },
     "metadata": {
      "tags": []
     },
     "output_type": "display_data"
    }
   ],
   "source": [
    "plt.plot(history.history['loss'], label='Train loss')\n",
    "plt.plot(history.history['val_loss'], label='Val Loss')\n",
    "plt.legend();"
   ]
  },
  {
   "cell_type": "code",
   "execution_count": null,
   "metadata": {
    "id": "ZGvfcwZO9YYn",
    "outputId": "9d3f7097-59b3-42cc-ae03-7574d6ee6ccf",
    "scrolled": true
   },
   "outputs": [
    {
     "data": {
      "text/html": [
       "<div>\n",
       "<style scoped>\n",
       "    .dataframe tbody tr th:only-of-type {\n",
       "        vertical-align: middle;\n",
       "    }\n",
       "\n",
       "    .dataframe tbody tr th {\n",
       "        vertical-align: top;\n",
       "    }\n",
       "\n",
       "    .dataframe thead th {\n",
       "        text-align: right;\n",
       "    }\n",
       "</style>\n",
       "<table border=\"1\" class=\"dataframe\">\n",
       "  <thead>\n",
       "    <tr style=\"text-align: right;\">\n",
       "      <th></th>\n",
       "      <th>1</th>\n",
       "      <th>2</th>\n",
       "      <th>3</th>\n",
       "      <th>4</th>\n",
       "      <th>5</th>\n",
       "    </tr>\n",
       "  </thead>\n",
       "  <tbody>\n",
       "    <tr>\n",
       "      <th>0</th>\n",
       "      <td>0.002147</td>\n",
       "      <td>0.000956</td>\n",
       "      <td>0.005166</td>\n",
       "      <td>0.081798</td>\n",
       "      <td>0.909932</td>\n",
       "    </tr>\n",
       "    <tr>\n",
       "      <th>1</th>\n",
       "      <td>0.001294</td>\n",
       "      <td>0.000639</td>\n",
       "      <td>0.004146</td>\n",
       "      <td>0.083502</td>\n",
       "      <td>0.910419</td>\n",
       "    </tr>\n",
       "    <tr>\n",
       "      <th>2</th>\n",
       "      <td>0.000138</td>\n",
       "      <td>0.000047</td>\n",
       "      <td>0.000299</td>\n",
       "      <td>0.015541</td>\n",
       "      <td>0.983976</td>\n",
       "    </tr>\n",
       "    <tr>\n",
       "      <th>3</th>\n",
       "      <td>0.000185</td>\n",
       "      <td>0.000050</td>\n",
       "      <td>0.000213</td>\n",
       "      <td>0.008002</td>\n",
       "      <td>0.991551</td>\n",
       "    </tr>\n",
       "    <tr>\n",
       "      <th>4</th>\n",
       "      <td>0.000108</td>\n",
       "      <td>0.000025</td>\n",
       "      <td>0.000099</td>\n",
       "      <td>0.003634</td>\n",
       "      <td>0.996135</td>\n",
       "    </tr>\n",
       "  </tbody>\n",
       "</table>\n",
       "</div>"
      ],
      "text/plain": [
       "          1         2         3         4         5\n",
       "0  0.002147  0.000956  0.005166  0.081798  0.909932\n",
       "1  0.001294  0.000639  0.004146  0.083502  0.910419\n",
       "2  0.000138  0.000047  0.000299  0.015541  0.983976\n",
       "3  0.000185  0.000050  0.000213  0.008002  0.991551\n",
       "4  0.000108  0.000025  0.000099  0.003634  0.996135"
      ]
     },
     "execution_count": 26,
     "metadata": {
      "tags": []
     },
     "output_type": "execute_result"
    }
   ],
   "source": [
    "probability = model.predict(padded_sequence)\n",
    "probability_df = pd.DataFrame(probability)\n",
    "probability_df.columns = ['1','2','3','4','5']\n",
    "probability_df.head()"
   ]
  },
  {
   "cell_type": "code",
   "execution_count": null,
   "metadata": {
    "id": "kcEXxjIf9YYo"
   },
   "outputs": [],
   "source": [
    "def find_prediction(row):\n",
    "    max_value = row.max()\n",
    "    \n",
    "    if row['1'] == max_value:\n",
    "        return 1\n",
    "    elif row['2'] == max_value:\n",
    "        return 2\n",
    "    elif row['3'] == max_value:\n",
    "        return 3\n",
    "    elif row['4'] == max_value:\n",
    "        return 4\n",
    "    elif row['5'] == max_value:\n",
    "        return 5"
   ]
  },
  {
   "cell_type": "code",
   "execution_count": null,
   "metadata": {
    "id": "4zxOfjqa9YYp",
    "outputId": "c9c2ae87-c9ad-45e0-a286-b46f5d5765f9"
   },
   "outputs": [
    {
     "data": {
      "text/html": [
       "<div>\n",
       "<style scoped>\n",
       "    .dataframe tbody tr th:only-of-type {\n",
       "        vertical-align: middle;\n",
       "    }\n",
       "\n",
       "    .dataframe tbody tr th {\n",
       "        vertical-align: top;\n",
       "    }\n",
       "\n",
       "    .dataframe thead th {\n",
       "        text-align: right;\n",
       "    }\n",
       "</style>\n",
       "<table border=\"1\" class=\"dataframe\">\n",
       "  <thead>\n",
       "    <tr style=\"text-align: right;\">\n",
       "      <th></th>\n",
       "      <th>1</th>\n",
       "      <th>2</th>\n",
       "      <th>3</th>\n",
       "      <th>4</th>\n",
       "      <th>5</th>\n",
       "      <th>pred</th>\n",
       "    </tr>\n",
       "  </thead>\n",
       "  <tbody>\n",
       "    <tr>\n",
       "      <th>0</th>\n",
       "      <td>0.002147</td>\n",
       "      <td>0.000956</td>\n",
       "      <td>0.005166</td>\n",
       "      <td>0.081798</td>\n",
       "      <td>0.909932</td>\n",
       "      <td>5</td>\n",
       "    </tr>\n",
       "    <tr>\n",
       "      <th>1</th>\n",
       "      <td>0.001294</td>\n",
       "      <td>0.000639</td>\n",
       "      <td>0.004146</td>\n",
       "      <td>0.083502</td>\n",
       "      <td>0.910419</td>\n",
       "      <td>5</td>\n",
       "    </tr>\n",
       "    <tr>\n",
       "      <th>2</th>\n",
       "      <td>0.000138</td>\n",
       "      <td>0.000047</td>\n",
       "      <td>0.000299</td>\n",
       "      <td>0.015541</td>\n",
       "      <td>0.983976</td>\n",
       "      <td>5</td>\n",
       "    </tr>\n",
       "    <tr>\n",
       "      <th>3</th>\n",
       "      <td>0.000185</td>\n",
       "      <td>0.000050</td>\n",
       "      <td>0.000213</td>\n",
       "      <td>0.008002</td>\n",
       "      <td>0.991551</td>\n",
       "      <td>5</td>\n",
       "    </tr>\n",
       "    <tr>\n",
       "      <th>4</th>\n",
       "      <td>0.000108</td>\n",
       "      <td>0.000025</td>\n",
       "      <td>0.000099</td>\n",
       "      <td>0.003634</td>\n",
       "      <td>0.996135</td>\n",
       "      <td>5</td>\n",
       "    </tr>\n",
       "    <tr>\n",
       "      <th>5</th>\n",
       "      <td>0.000540</td>\n",
       "      <td>0.000159</td>\n",
       "      <td>0.000704</td>\n",
       "      <td>0.013832</td>\n",
       "      <td>0.984765</td>\n",
       "      <td>5</td>\n",
       "    </tr>\n",
       "    <tr>\n",
       "      <th>6</th>\n",
       "      <td>0.002256</td>\n",
       "      <td>0.000747</td>\n",
       "      <td>0.002011</td>\n",
       "      <td>0.025352</td>\n",
       "      <td>0.969633</td>\n",
       "      <td>5</td>\n",
       "    </tr>\n",
       "    <tr>\n",
       "      <th>7</th>\n",
       "      <td>0.001328</td>\n",
       "      <td>0.000563</td>\n",
       "      <td>0.002983</td>\n",
       "      <td>0.064640</td>\n",
       "      <td>0.930486</td>\n",
       "      <td>5</td>\n",
       "    </tr>\n",
       "    <tr>\n",
       "      <th>8</th>\n",
       "      <td>0.914152</td>\n",
       "      <td>0.035656</td>\n",
       "      <td>0.018091</td>\n",
       "      <td>0.006120</td>\n",
       "      <td>0.025981</td>\n",
       "      <td>1</td>\n",
       "    </tr>\n",
       "    <tr>\n",
       "      <th>9</th>\n",
       "      <td>0.034857</td>\n",
       "      <td>0.079157</td>\n",
       "      <td>0.269308</td>\n",
       "      <td>0.407788</td>\n",
       "      <td>0.208891</td>\n",
       "      <td>4</td>\n",
       "    </tr>\n",
       "  </tbody>\n",
       "</table>\n",
       "</div>"
      ],
      "text/plain": [
       "          1         2         3         4         5  pred\n",
       "0  0.002147  0.000956  0.005166  0.081798  0.909932     5\n",
       "1  0.001294  0.000639  0.004146  0.083502  0.910419     5\n",
       "2  0.000138  0.000047  0.000299  0.015541  0.983976     5\n",
       "3  0.000185  0.000050  0.000213  0.008002  0.991551     5\n",
       "4  0.000108  0.000025  0.000099  0.003634  0.996135     5\n",
       "5  0.000540  0.000159  0.000704  0.013832  0.984765     5\n",
       "6  0.002256  0.000747  0.002011  0.025352  0.969633     5\n",
       "7  0.001328  0.000563  0.002983  0.064640  0.930486     5\n",
       "8  0.914152  0.035656  0.018091  0.006120  0.025981     1\n",
       "9  0.034857  0.079157  0.269308  0.407788  0.208891     4"
      ]
     },
     "execution_count": 28,
     "metadata": {
      "tags": []
     },
     "output_type": "execute_result"
    }
   ],
   "source": [
    "probability_df['pred'] = probability_df.apply(lambda x: find_prediction(x), axis = 1)\n",
    "\n",
    "probability_df.head(10)"
   ]
  },
  {
   "cell_type": "code",
   "execution_count": null,
   "metadata": {
    "id": "wTEMYa8f9YYp",
    "outputId": "8eb23c2b-b160-4ae4-ce8d-a49c44bea6b2"
   },
   "outputs": [
    {
     "data": {
      "image/png": "[encoded data removed]",
      "text/plain": [
       "<Figure size 504x396 with 2 Axes>"
      ]
     },
     "metadata": {
      "tags": []
     },
     "output_type": "display_data"
    }
   ],
   "source": [
    "cm = confusion_matrix(scores['score'], probability_df['pred'])\n",
    "\n",
    "plt.figure(figsize = (7, 5.5))\n",
    "sns.heatmap(cm, annot = True, fmt = '.5g', cmap = 'coolwarm', xticklabels = [1,2,3,4,5], yticklabels = [1,2,3,4,5])\n",
    "plt.title('Confusion Matrix', fontsize = 15)\n",
    "plt.ylabel('True Label')\n",
    "plt.xlabel('Predicted Label')\n",
    "plt.show()"
   ]
  },
  {
   "cell_type": "markdown",
   "metadata": {
    "id": "ddHyFW0e9YYq"
   },
   "source": [
    "## 7. LSTM (3 Categories) \n",
    "\n",
    "Trying with Positive, Neutral and Negative"
   ]
  },
  {
   "cell_type": "code",
   "execution_count": null,
   "metadata": {
    "id": "4s_rSSKa9YYr"
   },
   "outputs": [],
   "source": [
    "def positive_neutral_negative(score):\n",
    "    if score < 3:\n",
    "        return -1\n",
    "    if score ==  3:\n",
    "        return 0\n",
    "    if score > 3:\n",
    "        return 1"
   ]
  },
  {
   "cell_type": "code",
   "execution_count": null,
   "metadata": {
    "id": "OFpCaUK19YYs"
   },
   "outputs": [],
   "source": [
    "scores['pnn'] = scores['score'].apply(lambda x: positive_neutral_negative(x))"
   ]
  },
  {
   "cell_type": "code",
   "execution_count": null,
   "metadata": {
    "id": "pWcYvx8_9YYt"
   },
   "outputs": [],
   "source": [
    "enc = OneHotEncoder()\n",
    "scores_cat = enc.fit_transform(scores[['pnn']]).toarray()"
   ]
  },
  {
   "cell_type": "code",
   "execution_count": null,
   "metadata": {
    "id": "qC6iKEGr9YYt",
    "outputId": "99c1c5bd-742f-4099-b44a-cfbd60181496"
   },
   "outputs": [
    {
     "name": "stdout",
     "output_type": "stream",
     "text": [
      "Model: \"sequential_9\"\n",
      "_________________________________________________________________\n",
      "Layer (type)                 Output Shape              Param #   \n",
      "=================================================================\n",
      "embedding_9 (Embedding)      (None, 125, 32)           518400    \n",
      "_________________________________________________________________\n",
      "spatial_dropout1d_9 (Spatial (None, 125, 32)           0         \n",
      "_________________________________________________________________\n",
      "lstm_9 (LSTM)                (None, 50)                16600     \n",
      "_________________________________________________________________\n",
      "dropout_9 (Dropout)          (None, 50)                0         \n",
      "_________________________________________________________________\n",
      "dense_9 (Dense)              (None, 3)                 153       \n",
      "=================================================================\n",
      "Total params: 535,153\n",
      "Trainable params: 535,153\n",
      "Non-trainable params: 0\n",
      "_________________________________________________________________\n",
      "None\n"
     ]
    }
   ],
   "source": [
    "embedding_vector_length = 32\n",
    "\n",
    "model = Sequential()\n",
    "model.add(Embedding(vocab_size, embedding_vector_length, input_length=max_len))\n",
    "model.add(SpatialDropout1D(0.25))\n",
    "model.add(LSTM(50, dropout=0.5, recurrent_dropout=0.5))\n",
    "model.add(Dropout(0.2))\n",
    "model.add(Dense(3, activation='softmax'))\n",
    "model.compile(loss='categorical_crossentropy', optimizer='adam',metrics=['AUC'])\n",
    "\n",
    "print(model.summary())"
   ]
  },
  {
   "cell_type": "code",
   "execution_count": null,
   "metadata": {
    "id": "L9-GPMWd9YYu",
    "outputId": "f4300db3-5ee7-41ff-b354-97ea51d8b829"
   },
   "outputs": [
    {
     "name": "stdout",
     "output_type": "stream",
     "text": [
      "Epoch 1/10\n",
      "662/662 [==============================] - 57s 85ms/step - loss: 2.0944 - auc: 0.8191 - val_loss: 0.6913 - val_auc: 0.8782\n",
      "Epoch 2/10\n",
      "662/662 [==============================] - 62s 94ms/step - loss: 1.7918 - auc: 0.8945 - val_loss: 0.7461 - val_auc: 0.8519\n",
      "Epoch 3/10\n",
      "662/662 [==============================] - 67s 100ms/step - loss: 1.6366 - auc: 0.9127 - val_loss: 0.5984 - val_auc: 0.9123\n",
      "Epoch 4/10\n",
      "662/662 [==============================] - 67s 101ms/step - loss: 1.4924 - auc: 0.9258 - val_loss: 0.5366 - val_auc: 0.9252\n",
      "Epoch 5/10\n",
      "662/662 [==============================] - 67s 101ms/step - loss: 1.3891 - auc: 0.9319 - val_loss: 0.6303 - val_auc: 0.9092\n",
      "Epoch 6/10\n",
      "662/662 [==============================] - 67s 101ms/step - loss: 1.3082 - auc: 0.9389 - val_loss: 0.5790 - val_auc: 0.9215\n",
      "Epoch 7/10\n",
      "662/662 [==============================] - 66s 100ms/step - loss: 1.2383 - auc: 0.9414 - val_loss: 0.7734 - val_auc: 0.8589\n"
     ]
    }
   ],
   "source": [
    "earlystop_callback = EarlyStopping(monitor='val_loss', min_delta=0, patience=3)\n",
    "\n",
    "history = model.fit(padded_sequence, scores_cat, validation_split=0.2, \n",
    "                    epochs=10, batch_size=32, callbacks=[earlystop_callback],\n",
    "                    class_weight={0: 19305/4054, 1: 19305/1641, 2: 19305/19305})"
   ]
  },
  {
   "cell_type": "code",
   "execution_count": null,
   "metadata": {
    "id": "OUexSxmp9YYv",
    "outputId": "171e532c-1118-45fc-a4c5-1faa16b09c34"
   },
   "outputs": [
    {
     "data": {
      "image/png": "[encoded data removed]",
      "text/plain": [
       "<Figure size 432x288 with 1 Axes>"
      ]
     },
     "metadata": {
      "tags": []
     },
     "output_type": "display_data"
    }
   ],
   "source": [
    "plt.plot(history.history['loss'], label='Train loss')\n",
    "plt.plot(history.history['val_loss'], label='Val Loss')\n",
    "plt.legend();"
   ]
  },
  {
   "cell_type": "code",
   "execution_count": null,
   "metadata": {
    "id": "c2UXFyUl9YYw",
    "scrolled": true
   },
   "outputs": [],
   "source": [
    "probability = model.predict(padded_sequence)\n",
    "probability_df = pd.DataFrame(probability)"
   ]
  },
  {
   "cell_type": "code",
   "execution_count": null,
   "metadata": {
    "id": "iDG0YIp79YYw",
    "outputId": "809ec3f1-523b-4e40-cb42-fc1ff3fe5fd5"
   },
   "outputs": [
    {
     "data": {
      "text/html": [
       "<div>\n",
       "<style scoped>\n",
       "    .dataframe tbody tr th:only-of-type {\n",
       "        vertical-align: middle;\n",
       "    }\n",
       "\n",
       "    .dataframe tbody tr th {\n",
       "        vertical-align: top;\n",
       "    }\n",
       "\n",
       "    .dataframe thead th {\n",
       "        text-align: right;\n",
       "    }\n",
       "</style>\n",
       "<table border=\"1\" class=\"dataframe\">\n",
       "  <thead>\n",
       "    <tr style=\"text-align: right;\">\n",
       "      <th></th>\n",
       "      <th>0</th>\n",
       "      <th>1</th>\n",
       "      <th>2</th>\n",
       "    </tr>\n",
       "  </thead>\n",
       "  <tbody>\n",
       "    <tr>\n",
       "      <th>0</th>\n",
       "      <td>0.062604</td>\n",
       "      <td>0.538838</td>\n",
       "      <td>0.398559</td>\n",
       "    </tr>\n",
       "    <tr>\n",
       "      <th>1</th>\n",
       "      <td>0.006543</td>\n",
       "      <td>0.027045</td>\n",
       "      <td>0.966412</td>\n",
       "    </tr>\n",
       "    <tr>\n",
       "      <th>2</th>\n",
       "      <td>0.000775</td>\n",
       "      <td>0.003888</td>\n",
       "      <td>0.995337</td>\n",
       "    </tr>\n",
       "    <tr>\n",
       "      <th>3</th>\n",
       "      <td>0.001274</td>\n",
       "      <td>0.003474</td>\n",
       "      <td>0.995252</td>\n",
       "    </tr>\n",
       "    <tr>\n",
       "      <th>4</th>\n",
       "      <td>0.001330</td>\n",
       "      <td>0.004800</td>\n",
       "      <td>0.993870</td>\n",
       "    </tr>\n",
       "  </tbody>\n",
       "</table>\n",
       "</div>"
      ],
      "text/plain": [
       "          0         1         2\n",
       "0  0.062604  0.538838  0.398559\n",
       "1  0.006543  0.027045  0.966412\n",
       "2  0.000775  0.003888  0.995337\n",
       "3  0.001274  0.003474  0.995252\n",
       "4  0.001330  0.004800  0.993870"
      ]
     },
     "execution_count": 101,
     "metadata": {
      "tags": []
     },
     "output_type": "execute_result"
    }
   ],
   "source": [
    "probability_df.columns = ['0','1','2']\n",
    "probability_df.head()"
   ]
  },
  {
   "cell_type": "code",
   "execution_count": null,
   "metadata": {
    "id": "hYLgVeaY9YYx"
   },
   "outputs": [],
   "source": [
    "def find_prediction(row):\n",
    "    max_value = row.max()\n",
    "    \n",
    "    if row['0'] == max_value:\n",
    "        return -1\n",
    "    elif row['1'] == max_value:\n",
    "        return 0\n",
    "    elif row['2'] == max_value:\n",
    "        return 1"
   ]
  },
  {
   "cell_type": "code",
   "execution_count": null,
   "metadata": {
    "id": "eAHzurKO9YYy",
    "outputId": "a17f0f43-9afe-4e07-f33c-0cd21bfd35f2"
   },
   "outputs": [
    {
     "data": {
      "text/html": [
       "<div>\n",
       "<style scoped>\n",
       "    .dataframe tbody tr th:only-of-type {\n",
       "        vertical-align: middle;\n",
       "    }\n",
       "\n",
       "    .dataframe tbody tr th {\n",
       "        vertical-align: top;\n",
       "    }\n",
       "\n",
       "    .dataframe thead th {\n",
       "        text-align: right;\n",
       "    }\n",
       "</style>\n",
       "<table border=\"1\" class=\"dataframe\">\n",
       "  <thead>\n",
       "    <tr style=\"text-align: right;\">\n",
       "      <th></th>\n",
       "      <th>0</th>\n",
       "      <th>1</th>\n",
       "      <th>2</th>\n",
       "      <th>pred</th>\n",
       "    </tr>\n",
       "  </thead>\n",
       "  <tbody>\n",
       "    <tr>\n",
       "      <th>0</th>\n",
       "      <td>0.062604</td>\n",
       "      <td>0.538838</td>\n",
       "      <td>0.398559</td>\n",
       "      <td>0</td>\n",
       "    </tr>\n",
       "    <tr>\n",
       "      <th>1</th>\n",
       "      <td>0.006543</td>\n",
       "      <td>0.027045</td>\n",
       "      <td>0.966412</td>\n",
       "      <td>1</td>\n",
       "    </tr>\n",
       "    <tr>\n",
       "      <th>2</th>\n",
       "      <td>0.000775</td>\n",
       "      <td>0.003888</td>\n",
       "      <td>0.995337</td>\n",
       "      <td>1</td>\n",
       "    </tr>\n",
       "    <tr>\n",
       "      <th>3</th>\n",
       "      <td>0.001274</td>\n",
       "      <td>0.003474</td>\n",
       "      <td>0.995252</td>\n",
       "      <td>1</td>\n",
       "    </tr>\n",
       "    <tr>\n",
       "      <th>4</th>\n",
       "      <td>0.001330</td>\n",
       "      <td>0.004800</td>\n",
       "      <td>0.993870</td>\n",
       "      <td>1</td>\n",
       "    </tr>\n",
       "    <tr>\n",
       "      <th>5</th>\n",
       "      <td>0.025980</td>\n",
       "      <td>0.133576</td>\n",
       "      <td>0.840444</td>\n",
       "      <td>1</td>\n",
       "    </tr>\n",
       "    <tr>\n",
       "      <th>6</th>\n",
       "      <td>0.043854</td>\n",
       "      <td>0.177502</td>\n",
       "      <td>0.778644</td>\n",
       "      <td>1</td>\n",
       "    </tr>\n",
       "    <tr>\n",
       "      <th>7</th>\n",
       "      <td>0.000902</td>\n",
       "      <td>0.006419</td>\n",
       "      <td>0.992679</td>\n",
       "      <td>1</td>\n",
       "    </tr>\n",
       "    <tr>\n",
       "      <th>8</th>\n",
       "      <td>0.917334</td>\n",
       "      <td>0.062009</td>\n",
       "      <td>0.020657</td>\n",
       "      <td>-1</td>\n",
       "    </tr>\n",
       "    <tr>\n",
       "      <th>9</th>\n",
       "      <td>0.073933</td>\n",
       "      <td>0.870430</td>\n",
       "      <td>0.055636</td>\n",
       "      <td>0</td>\n",
       "    </tr>\n",
       "  </tbody>\n",
       "</table>\n",
       "</div>"
      ],
      "text/plain": [
       "          0         1         2  pred\n",
       "0  0.062604  0.538838  0.398559     0\n",
       "1  0.006543  0.027045  0.966412     1\n",
       "2  0.000775  0.003888  0.995337     1\n",
       "3  0.001274  0.003474  0.995252     1\n",
       "4  0.001330  0.004800  0.993870     1\n",
       "5  0.025980  0.133576  0.840444     1\n",
       "6  0.043854  0.177502  0.778644     1\n",
       "7  0.000902  0.006419  0.992679     1\n",
       "8  0.917334  0.062009  0.020657    -1\n",
       "9  0.073933  0.870430  0.055636     0"
      ]
     },
     "execution_count": 103,
     "metadata": {
      "tags": []
     },
     "output_type": "execute_result"
    }
   ],
   "source": [
    "probability_df['pred'] = probability_df.apply(lambda x: find_prediction(x), axis = 1)\n",
    "\n",
    "probability_df.head(10)"
   ]
  },
  {
   "cell_type": "code",
   "execution_count": null,
   "metadata": {
    "id": "P5IJfNUw9YYy",
    "outputId": "c840a4f0-6e21-4935-82ca-f66861267ac3"
   },
   "outputs": [
    {
     "data": {
      "image/png": "[encoded data removed]",
      "text/plain": [
       "<Figure size 504x396 with 2 Axes>"
      ]
     },
     "metadata": {
      "tags": []
     },
     "output_type": "display_data"
    }
   ],
   "source": [
    "cm = confusion_matrix(scores['pnn'], probability_df['pred'])\n",
    "\n",
    "plt.figure(figsize = (7, 5.5))\n",
    "sns.heatmap(cm, annot = True, fmt = '.5g', cmap = 'coolwarm', xticklabels = [-1,0,1], yticklabels = [-1,0,1])\n",
    "plt.title('Confusion Matrix', fontsize = 15)\n",
    "plt.ylabel('True Label')\n",
    "plt.xlabel('Predicted Label')\n",
    "plt.show()"
   ]
  }
 ],
 "metadata": {
  "colab": {
   "collapsed_sections": [
    "cIT8a7tg9YYg",
    "ddHyFW0e9YYq"
   ],
   "name": "2c_Sentiment_Analysis_Neural_Network_Models_(v1)_Tuning_Binary.ipynb.txt",
   "provenance": []
  },
  "kernelspec": {
   "display_name": "Python 3",
   "language": "python",
   "name": "python3"
  },
  "language_info": {
   "codemirror_mode": {
    "name": "ipython",
    "version": 3
   },
   "file_extension": ".py",
   "mimetype": "text/x-python",
   "name": "python",
   "nbconvert_exporter": "python",
   "pygments_lexer": "ipython3",
   "version": "3.7.9"
  },
  "toc": {
   "base_numbering": 1,
   "nav_menu": {},
   "number_sections": false,
   "sideBar": true,
   "skip_h1_title": false,
   "title_cell": "Table of Contents",
   "title_sidebar": "Contents",
   "toc_cell": false,
   "toc_position": {
    "height": "542.4px",
    "left": "1152px",
    "top": "155.533px",
    "width": "384px"
   },
   "toc_section_display": true,
   "toc_window_display": true
  }
 },
 "nbformat": 4,
 "nbformat_minor": 1
}
