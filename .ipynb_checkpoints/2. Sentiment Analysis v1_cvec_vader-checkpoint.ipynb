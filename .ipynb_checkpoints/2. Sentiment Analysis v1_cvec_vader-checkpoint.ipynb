{
 "cells": [
  {
   "cell_type": "markdown",
   "metadata": {},
   "source": [
    "https://towardsdatascience.com/fine-grained-sentiment-analysis-in-python-part-1-2697bb111ed4"
   ]
  },
  {
   "cell_type": "markdown",
   "metadata": {},
   "source": [
    "# Import Libraries"
   ]
  },
  {
   "cell_type": "code",
   "execution_count": 1,
   "metadata": {
    "ExecuteTime": {
     "end_time": "2021-01-13T14:56:12.882699Z",
     "start_time": "2021-01-13T14:56:06.308613Z"
    }
   },
   "outputs": [],
   "source": [
    "import pandas as pd\n",
    "from textblob import TextBlob\n",
    "import seaborn as sns\n",
    "import matplotlib.pyplot as plt\n",
    "\n",
    "from sklearn.metrics import accuracy_score, confusion_matrix, ConfusionMatrixDisplay\n",
    "\n",
    "from sklearn.model_selection import train_test_split\n",
    "from sklearn.feature_extraction.text import CountVectorizer, TfidfTransformer\n",
    "from sklearn.linear_model import LogisticRegression\n",
    "from sklearn.pipeline import Pipeline\n",
    "\n",
    "from sklearn.feature_extraction.text import CountVectorizer, TfidfTransformer\n",
    "from sklearn.linear_model import SGDClassifier\n",
    "from sklearn.pipeline import Pipeline\n",
    "\n",
    "from sklearn.preprocessing import OneHotEncoder\n",
    "\n",
    "import nltk\n",
    "import nltk.sentiment.sentiment_analyzer \n",
    "from nltk.sentiment.util import extract_unigram_feats, mark_negation\n",
    "\n",
    "# Build the model\n",
    "from tensorflow.keras.models import Sequential\n",
    "from tensorflow.keras.layers import LSTM, Dense, Dropout\n",
    "from tensorflow.keras.layers import SpatialDropout1D\n",
    "from tensorflow.keras.layers import Embedding"
   ]
  },
  {
   "cell_type": "code",
   "execution_count": 2,
   "metadata": {
    "ExecuteTime": {
     "end_time": "2021-01-13T14:56:13.596090Z",
     "start_time": "2021-01-13T14:56:12.884694Z"
    }
   },
   "outputs": [
    {
     "data": {
      "text/html": [
       "<div>\n",
       "<style scoped>\n",
       "    .dataframe tbody tr th:only-of-type {\n",
       "        vertical-align: middle;\n",
       "    }\n",
       "\n",
       "    .dataframe tbody tr th {\n",
       "        vertical-align: top;\n",
       "    }\n",
       "\n",
       "    .dataframe thead th {\n",
       "        text-align: right;\n",
       "    }\n",
       "</style>\n",
       "<table border=\"1\" class=\"dataframe\">\n",
       "  <thead>\n",
       "    <tr style=\"text-align: right;\">\n",
       "      <th></th>\n",
       "      <th>content</th>\n",
       "      <th>score</th>\n",
       "      <th>date</th>\n",
       "      <th>thumbsUp</th>\n",
       "      <th>source</th>\n",
       "      <th>text</th>\n",
       "      <th>length</th>\n",
       "      <th>update</th>\n",
       "    </tr>\n",
       "  </thead>\n",
       "  <tbody>\n",
       "    <tr>\n",
       "      <th>0</th>\n",
       "      <td>The graphics are gorgeous, the gameplay is inc...</td>\n",
       "      <td>5</td>\n",
       "      <td>2020-12-11 13:55:29</td>\n",
       "      <td>881.0</td>\n",
       "      <td>google_play_store</td>\n",
       "      <td>[the, graphics, are, gorgeous, the, gameplay, ...</td>\n",
       "      <td>84</td>\n",
       "      <td>1.1.2</td>\n",
       "    </tr>\n",
       "    <tr>\n",
       "      <th>1</th>\n",
       "      <td>If you love free world RPG, then this is it! T...</td>\n",
       "      <td>5</td>\n",
       "      <td>2020-12-16 18:10:47</td>\n",
       "      <td>48.0</td>\n",
       "      <td>google_play_store</td>\n",
       "      <td>[if, you, love, free, world, rpg, then, this, ...</td>\n",
       "      <td>94</td>\n",
       "      <td>1.1.2</td>\n",
       "    </tr>\n",
       "    <tr>\n",
       "      <th>2</th>\n",
       "      <td>I absolutely love the game! No complaints besi...</td>\n",
       "      <td>5</td>\n",
       "      <td>2020-12-16 00:18:43</td>\n",
       "      <td>185.0</td>\n",
       "      <td>google_play_store</td>\n",
       "      <td>[i, absolutely, love, the, game, no, complaint...</td>\n",
       "      <td>75</td>\n",
       "      <td>1.1.2</td>\n",
       "    </tr>\n",
       "    <tr>\n",
       "      <th>3</th>\n",
       "      <td>Great game. Regardless of ripoff issues and su...</td>\n",
       "      <td>4</td>\n",
       "      <td>2020-12-16 12:46:11</td>\n",
       "      <td>1.0</td>\n",
       "      <td>google_play_store</td>\n",
       "      <td>[great, game, regardless, of, ripoff, issues, ...</td>\n",
       "      <td>88</td>\n",
       "      <td>1.1.2</td>\n",
       "    </tr>\n",
       "    <tr>\n",
       "      <th>4</th>\n",
       "      <td>Amazing graphics and gameplay although a lot o...</td>\n",
       "      <td>5</td>\n",
       "      <td>2020-12-10 22:51:08</td>\n",
       "      <td>186.0</td>\n",
       "      <td>google_play_store</td>\n",
       "      <td>[amazing, graphics, and, gameplay, although, a...</td>\n",
       "      <td>86</td>\n",
       "      <td>1.1.2</td>\n",
       "    </tr>\n",
       "  </tbody>\n",
       "</table>\n",
       "</div>"
      ],
      "text/plain": [
       "                                             content  score  \\\n",
       "0  The graphics are gorgeous, the gameplay is inc...      5   \n",
       "1  If you love free world RPG, then this is it! T...      5   \n",
       "2  I absolutely love the game! No complaints besi...      5   \n",
       "3  Great game. Regardless of ripoff issues and su...      4   \n",
       "4  Amazing graphics and gameplay although a lot o...      5   \n",
       "\n",
       "                 date  thumbsUp             source  \\\n",
       "0 2020-12-11 13:55:29     881.0  google_play_store   \n",
       "1 2020-12-16 18:10:47      48.0  google_play_store   \n",
       "2 2020-12-16 00:18:43     185.0  google_play_store   \n",
       "3 2020-12-16 12:46:11       1.0  google_play_store   \n",
       "4 2020-12-10 22:51:08     186.0  google_play_store   \n",
       "\n",
       "                                                text  length update  \n",
       "0  [the, graphics, are, gorgeous, the, gameplay, ...      84  1.1.2  \n",
       "1  [if, you, love, free, world, rpg, then, this, ...      94  1.1.2  \n",
       "2  [i, absolutely, love, the, game, no, complaint...      75  1.1.2  \n",
       "3  [great, game, regardless, of, ripoff, issues, ...      88  1.1.2  \n",
       "4  [amazing, graphics, and, gameplay, although, a...      86  1.1.2  "
      ]
     },
     "execution_count": 2,
     "metadata": {},
     "output_type": "execute_result"
    }
   ],
   "source": [
    "df = pd.read_pickle('data/final_df.p')\n",
    "df.head()"
   ]
  },
  {
   "cell_type": "markdown",
   "metadata": {},
   "source": [
    "# Available Libraries"
   ]
  },
  {
   "cell_type": "markdown",
   "metadata": {},
   "source": [
    "## 1. Textblob\n",
    "TextBlob is a popular Python library for processing textual data. It is built on top of NLTK, another popular Natural Language Processing toolbox for Python. TextBlob uses a sentiment lexicon (consisting of predefined words) to assign scores for each word, which are then averaged out using a weighted average to give an overall sentence sentiment score. Three scores: “polarity”, “subjectivity” and “intensity” are calculated for each word.\n",
    "\n",
    "A sentiment lexicon can be used to discern objective facts from subjective opinions in text. \n",
    "Each word in the lexicon has scores for: \n",
    "1. polarity: negative vs. positive (-1.0 => +1.0) \n",
    "2. subjectivity: objective vs. subjective (+0.0 => +1.0) \n",
    "3. intensity: modifies next word? (x0.5 => x2.0)"
   ]
  },
  {
   "cell_type": "code",
   "execution_count": 3,
   "metadata": {
    "ExecuteTime": {
     "end_time": "2021-01-13T14:10:49.098665Z",
     "start_time": "2021-01-13T14:10:22.078994Z"
    }
   },
   "outputs": [
    {
     "data": {
      "text/html": [
       "<div>\n",
       "<style scoped>\n",
       "    .dataframe tbody tr th:only-of-type {\n",
       "        vertical-align: middle;\n",
       "    }\n",
       "\n",
       "    .dataframe tbody tr th {\n",
       "        vertical-align: top;\n",
       "    }\n",
       "\n",
       "    .dataframe thead th {\n",
       "        text-align: right;\n",
       "    }\n",
       "</style>\n",
       "<table border=\"1\" class=\"dataframe\">\n",
       "  <thead>\n",
       "    <tr style=\"text-align: right;\">\n",
       "      <th></th>\n",
       "      <th>content</th>\n",
       "      <th>score</th>\n",
       "      <th>date</th>\n",
       "      <th>thumbsUp</th>\n",
       "      <th>source</th>\n",
       "      <th>text</th>\n",
       "      <th>length</th>\n",
       "      <th>update</th>\n",
       "      <th>TB_polarity</th>\n",
       "    </tr>\n",
       "  </thead>\n",
       "  <tbody>\n",
       "    <tr>\n",
       "      <th>0</th>\n",
       "      <td>The graphics are gorgeous, the gameplay is inc...</td>\n",
       "      <td>5</td>\n",
       "      <td>2020-12-11 13:55:29</td>\n",
       "      <td>881.0</td>\n",
       "      <td>google_play_store</td>\n",
       "      <td>[the, graphics, are, gorgeous, the, gameplay, ...</td>\n",
       "      <td>84</td>\n",
       "      <td>1.1.2</td>\n",
       "      <td>0.270238</td>\n",
       "    </tr>\n",
       "    <tr>\n",
       "      <th>1</th>\n",
       "      <td>If you love free world RPG, then this is it! T...</td>\n",
       "      <td>5</td>\n",
       "      <td>2020-12-16 18:10:47</td>\n",
       "      <td>48.0</td>\n",
       "      <td>google_play_store</td>\n",
       "      <td>[if, you, love, free, world, rpg, then, this, ...</td>\n",
       "      <td>94</td>\n",
       "      <td>1.1.2</td>\n",
       "      <td>0.183889</td>\n",
       "    </tr>\n",
       "    <tr>\n",
       "      <th>2</th>\n",
       "      <td>I absolutely love the game! No complaints besi...</td>\n",
       "      <td>5</td>\n",
       "      <td>2020-12-16 00:18:43</td>\n",
       "      <td>185.0</td>\n",
       "      <td>google_play_store</td>\n",
       "      <td>[i, absolutely, love, the, game, no, complaint...</td>\n",
       "      <td>75</td>\n",
       "      <td>1.1.2</td>\n",
       "      <td>0.034921</td>\n",
       "    </tr>\n",
       "    <tr>\n",
       "      <th>3</th>\n",
       "      <td>Great game. Regardless of ripoff issues and su...</td>\n",
       "      <td>4</td>\n",
       "      <td>2020-12-16 12:46:11</td>\n",
       "      <td>1.0</td>\n",
       "      <td>google_play_store</td>\n",
       "      <td>[great, game, regardless, of, ripoff, issues, ...</td>\n",
       "      <td>88</td>\n",
       "      <td>1.1.2</td>\n",
       "      <td>0.073333</td>\n",
       "    </tr>\n",
       "    <tr>\n",
       "      <th>4</th>\n",
       "      <td>Amazing graphics and gameplay although a lot o...</td>\n",
       "      <td>5</td>\n",
       "      <td>2020-12-10 22:51:08</td>\n",
       "      <td>186.0</td>\n",
       "      <td>google_play_store</td>\n",
       "      <td>[amazing, graphics, and, gameplay, although, a...</td>\n",
       "      <td>86</td>\n",
       "      <td>1.1.2</td>\n",
       "      <td>0.381629</td>\n",
       "    </tr>\n",
       "  </tbody>\n",
       "</table>\n",
       "</div>"
      ],
      "text/plain": [
       "                                             content  score  \\\n",
       "0  The graphics are gorgeous, the gameplay is inc...      5   \n",
       "1  If you love free world RPG, then this is it! T...      5   \n",
       "2  I absolutely love the game! No complaints besi...      5   \n",
       "3  Great game. Regardless of ripoff issues and su...      4   \n",
       "4  Amazing graphics and gameplay although a lot o...      5   \n",
       "\n",
       "                 date  thumbsUp             source  \\\n",
       "0 2020-12-11 13:55:29     881.0  google_play_store   \n",
       "1 2020-12-16 18:10:47      48.0  google_play_store   \n",
       "2 2020-12-16 00:18:43     185.0  google_play_store   \n",
       "3 2020-12-16 12:46:11       1.0  google_play_store   \n",
       "4 2020-12-10 22:51:08     186.0  google_play_store   \n",
       "\n",
       "                                                text  length update  \\\n",
       "0  [the, graphics, are, gorgeous, the, gameplay, ...      84  1.1.2   \n",
       "1  [if, you, love, free, world, rpg, then, this, ...      94  1.1.2   \n",
       "2  [i, absolutely, love, the, game, no, complaint...      75  1.1.2   \n",
       "3  [great, game, regardless, of, ripoff, issues, ...      88  1.1.2   \n",
       "4  [amazing, graphics, and, gameplay, although, a...      86  1.1.2   \n",
       "\n",
       "   TB_polarity  \n",
       "0     0.270238  \n",
       "1     0.183889  \n",
       "2     0.034921  \n",
       "3     0.073333  \n",
       "4     0.381629  "
      ]
     },
     "execution_count": 3,
     "metadata": {},
     "output_type": "execute_result"
    }
   ],
   "source": [
    "df['TB_polarity'] = df['content'].apply(lambda x: TextBlob(x).sentiment.polarity)\n",
    "df.head()"
   ]
  },
  {
   "cell_type": "code",
   "execution_count": 45,
   "metadata": {
    "ExecuteTime": {
     "end_time": "2021-01-13T14:27:18.006216Z",
     "start_time": "2021-01-13T14:27:17.779195Z"
    }
   },
   "outputs": [
    {
     "data": {
      "image/png": "[encoded data removed]",
      "text/plain": [
       "<Figure size 432x288 with 1 Axes>"
      ]
     },
     "metadata": {
      "needs_background": "light"
     },
     "output_type": "display_data"
    }
   ],
   "source": [
    "sns.boxplot(x=\"score\", y=\"TB_polarity\", data=df);"
   ]
  },
  {
   "cell_type": "markdown",
   "metadata": {},
   "source": [
    "Sentiment Scoring: To convert the polarity score returned by TextBlob (a continuous-valued float in the range [-1, 1]) to a fine-grained class label (an integer), we can make use of binning. This is easily done in Pandas using the pd.cut function — it allows us to go from a continuous variable to a categorical variable by using equal sized bins in the float interval of all TextBlob scores in the results."
   ]
  },
  {
   "cell_type": "code",
   "execution_count": 5,
   "metadata": {
    "ExecuteTime": {
     "end_time": "2021-01-13T14:12:23.132602Z",
     "start_time": "2021-01-13T14:12:23.105619Z"
    }
   },
   "outputs": [],
   "source": [
    "df['TB_pred'] = pd.cut(df['TB_polarity'],\n",
    "                       bins=5,\n",
    "                       labels=[1, 2, 3, 4, 5])"
   ]
  },
  {
   "cell_type": "code",
   "execution_count": 47,
   "metadata": {
    "ExecuteTime": {
     "end_time": "2021-01-13T14:27:30.024976Z",
     "start_time": "2021-01-13T14:27:29.136523Z"
    }
   },
   "outputs": [
    {
     "data": {
      "image/png": "[encoded data removed]",
      "text/plain": [
       "<Figure size 432x288 with 1 Axes>"
      ]
     },
     "metadata": {
      "needs_background": "light"
     },
     "output_type": "display_data"
    }
   ],
   "source": [
    "sns.boxplot(x=\"TB_pred\", y=\"TB_polarity\", data=df);"
   ]
  },
  {
   "cell_type": "code",
   "execution_count": 15,
   "metadata": {
    "ExecuteTime": {
     "end_time": "2021-01-03T06:14:43.816991Z",
     "start_time": "2021-01-03T06:14:43.775516Z"
    },
    "scrolled": true
   },
   "outputs": [
    {
     "data": {
      "text/html": [
       "<div>\n",
       "<style scoped>\n",
       "    .dataframe tbody tr th:only-of-type {\n",
       "        vertical-align: middle;\n",
       "    }\n",
       "\n",
       "    .dataframe tbody tr th {\n",
       "        vertical-align: top;\n",
       "    }\n",
       "\n",
       "    .dataframe thead th {\n",
       "        text-align: right;\n",
       "    }\n",
       "</style>\n",
       "<table border=\"1\" class=\"dataframe\">\n",
       "  <thead>\n",
       "    <tr style=\"text-align: right;\">\n",
       "      <th></th>\n",
       "      <th>score</th>\n",
       "      <th>TB_pred</th>\n",
       "      <th>TB_polarity</th>\n",
       "    </tr>\n",
       "  </thead>\n",
       "  <tbody>\n",
       "    <tr>\n",
       "      <th>0</th>\n",
       "      <td>5</td>\n",
       "      <td>4</td>\n",
       "      <td>0.270238</td>\n",
       "    </tr>\n",
       "    <tr>\n",
       "      <th>1</th>\n",
       "      <td>5</td>\n",
       "      <td>3</td>\n",
       "      <td>0.183889</td>\n",
       "    </tr>\n",
       "    <tr>\n",
       "      <th>2</th>\n",
       "      <td>5</td>\n",
       "      <td>3</td>\n",
       "      <td>0.034921</td>\n",
       "    </tr>\n",
       "    <tr>\n",
       "      <th>3</th>\n",
       "      <td>4</td>\n",
       "      <td>3</td>\n",
       "      <td>0.073333</td>\n",
       "    </tr>\n",
       "    <tr>\n",
       "      <th>4</th>\n",
       "      <td>5</td>\n",
       "      <td>4</td>\n",
       "      <td>0.381629</td>\n",
       "    </tr>\n",
       "    <tr>\n",
       "      <th>5</th>\n",
       "      <td>5</td>\n",
       "      <td>3</td>\n",
       "      <td>0.150000</td>\n",
       "    </tr>\n",
       "    <tr>\n",
       "      <th>6</th>\n",
       "      <td>3</td>\n",
       "      <td>3</td>\n",
       "      <td>0.000000</td>\n",
       "    </tr>\n",
       "    <tr>\n",
       "      <th>7</th>\n",
       "      <td>4</td>\n",
       "      <td>4</td>\n",
       "      <td>0.229630</td>\n",
       "    </tr>\n",
       "    <tr>\n",
       "      <th>8</th>\n",
       "      <td>1</td>\n",
       "      <td>4</td>\n",
       "      <td>0.206944</td>\n",
       "    </tr>\n",
       "    <tr>\n",
       "      <th>9</th>\n",
       "      <td>5</td>\n",
       "      <td>3</td>\n",
       "      <td>0.122500</td>\n",
       "    </tr>\n",
       "    <tr>\n",
       "      <th>10</th>\n",
       "      <td>5</td>\n",
       "      <td>3</td>\n",
       "      <td>0.010119</td>\n",
       "    </tr>\n",
       "    <tr>\n",
       "      <th>11</th>\n",
       "      <td>2</td>\n",
       "      <td>3</td>\n",
       "      <td>-0.065972</td>\n",
       "    </tr>\n",
       "    <tr>\n",
       "      <th>12</th>\n",
       "      <td>5</td>\n",
       "      <td>3</td>\n",
       "      <td>-0.049118</td>\n",
       "    </tr>\n",
       "    <tr>\n",
       "      <th>13</th>\n",
       "      <td>5</td>\n",
       "      <td>4</td>\n",
       "      <td>0.300000</td>\n",
       "    </tr>\n",
       "    <tr>\n",
       "      <th>14</th>\n",
       "      <td>4</td>\n",
       "      <td>3</td>\n",
       "      <td>-0.151875</td>\n",
       "    </tr>\n",
       "    <tr>\n",
       "      <th>15</th>\n",
       "      <td>4</td>\n",
       "      <td>3</td>\n",
       "      <td>0.173529</td>\n",
       "    </tr>\n",
       "    <tr>\n",
       "      <th>16</th>\n",
       "      <td>5</td>\n",
       "      <td>3</td>\n",
       "      <td>0.131667</td>\n",
       "    </tr>\n",
       "    <tr>\n",
       "      <th>17</th>\n",
       "      <td>5</td>\n",
       "      <td>4</td>\n",
       "      <td>0.336607</td>\n",
       "    </tr>\n",
       "    <tr>\n",
       "      <th>18</th>\n",
       "      <td>5</td>\n",
       "      <td>3</td>\n",
       "      <td>0.142308</td>\n",
       "    </tr>\n",
       "    <tr>\n",
       "      <th>19</th>\n",
       "      <td>4</td>\n",
       "      <td>3</td>\n",
       "      <td>0.093333</td>\n",
       "    </tr>\n",
       "  </tbody>\n",
       "</table>\n",
       "</div>"
      ],
      "text/plain": [
       "    score TB_pred  TB_polarity\n",
       "0       5       4     0.270238\n",
       "1       5       3     0.183889\n",
       "2       5       3     0.034921\n",
       "3       4       3     0.073333\n",
       "4       5       4     0.381629\n",
       "5       5       3     0.150000\n",
       "6       3       3     0.000000\n",
       "7       4       4     0.229630\n",
       "8       1       4     0.206944\n",
       "9       5       3     0.122500\n",
       "10      5       3     0.010119\n",
       "11      2       3    -0.065972\n",
       "12      5       3    -0.049118\n",
       "13      5       4     0.300000\n",
       "14      4       3    -0.151875\n",
       "15      4       3     0.173529\n",
       "16      5       3     0.131667\n",
       "17      5       4     0.336607\n",
       "18      5       3     0.142308\n",
       "19      4       3     0.093333"
      ]
     },
     "execution_count": 15,
     "metadata": {},
     "output_type": "execute_result"
    }
   ],
   "source": [
    "df[['score', 'TB_pred', 'TB_polarity']].head(20)"
   ]
  },
  {
   "cell_type": "code",
   "execution_count": 17,
   "metadata": {
    "ExecuteTime": {
     "end_time": "2021-01-03T06:14:51.902942Z",
     "start_time": "2021-01-03T06:14:51.863966Z"
    }
   },
   "outputs": [
    {
     "data": {
      "text/html": [
       "<div>\n",
       "<style scoped>\n",
       "    .dataframe tbody tr th:only-of-type {\n",
       "        vertical-align: middle;\n",
       "    }\n",
       "\n",
       "    .dataframe tbody tr th {\n",
       "        vertical-align: top;\n",
       "    }\n",
       "\n",
       "    .dataframe thead th {\n",
       "        text-align: right;\n",
       "    }\n",
       "</style>\n",
       "<table border=\"1\" class=\"dataframe\">\n",
       "  <thead>\n",
       "    <tr style=\"text-align: right;\">\n",
       "      <th></th>\n",
       "      <th>count</th>\n",
       "      <th>mean</th>\n",
       "      <th>std</th>\n",
       "      <th>min</th>\n",
       "      <th>25%</th>\n",
       "      <th>50%</th>\n",
       "      <th>75%</th>\n",
       "      <th>max</th>\n",
       "    </tr>\n",
       "    <tr>\n",
       "      <th>TB_pred</th>\n",
       "      <th></th>\n",
       "      <th></th>\n",
       "      <th></th>\n",
       "      <th></th>\n",
       "      <th></th>\n",
       "      <th></th>\n",
       "      <th></th>\n",
       "      <th></th>\n",
       "    </tr>\n",
       "  </thead>\n",
       "  <tbody>\n",
       "    <tr>\n",
       "      <th>1</th>\n",
       "      <td>901.0</td>\n",
       "      <td>-0.774057</td>\n",
       "      <td>0.136225</td>\n",
       "      <td>-1.000000</td>\n",
       "      <td>-0.850000</td>\n",
       "      <td>-0.750000</td>\n",
       "      <td>-0.700000</td>\n",
       "      <td>-0.6</td>\n",
       "    </tr>\n",
       "    <tr>\n",
       "      <th>2</th>\n",
       "      <td>7285.0</td>\n",
       "      <td>-0.336163</td>\n",
       "      <td>0.095803</td>\n",
       "      <td>-0.600000</td>\n",
       "      <td>-0.400000</td>\n",
       "      <td>-0.350000</td>\n",
       "      <td>-0.250000</td>\n",
       "      <td>-0.2</td>\n",
       "    </tr>\n",
       "    <tr>\n",
       "      <th>3</th>\n",
       "      <td>46785.0</td>\n",
       "      <td>0.043840</td>\n",
       "      <td>0.098483</td>\n",
       "      <td>-0.200000</td>\n",
       "      <td>-0.001863</td>\n",
       "      <td>0.040000</td>\n",
       "      <td>0.127083</td>\n",
       "      <td>0.2</td>\n",
       "    </tr>\n",
       "    <tr>\n",
       "      <th>4</th>\n",
       "      <td>28452.0</td>\n",
       "      <td>0.353935</td>\n",
       "      <td>0.107925</td>\n",
       "      <td>0.200156</td>\n",
       "      <td>0.266667</td>\n",
       "      <td>0.322887</td>\n",
       "      <td>0.430000</td>\n",
       "      <td>0.6</td>\n",
       "    </tr>\n",
       "    <tr>\n",
       "      <th>5</th>\n",
       "      <td>5741.0</td>\n",
       "      <td>0.822127</td>\n",
       "      <td>0.139347</td>\n",
       "      <td>0.601667</td>\n",
       "      <td>0.700000</td>\n",
       "      <td>0.800000</td>\n",
       "      <td>1.000000</td>\n",
       "      <td>1.0</td>\n",
       "    </tr>\n",
       "  </tbody>\n",
       "</table>\n",
       "</div>"
      ],
      "text/plain": [
       "           count      mean       std       min       25%       50%       75%  \\\n",
       "TB_pred                                                                        \n",
       "1          901.0 -0.774057  0.136225 -1.000000 -0.850000 -0.750000 -0.700000   \n",
       "2         7285.0 -0.336163  0.095803 -0.600000 -0.400000 -0.350000 -0.250000   \n",
       "3        46785.0  0.043840  0.098483 -0.200000 -0.001863  0.040000  0.127083   \n",
       "4        28452.0  0.353935  0.107925  0.200156  0.266667  0.322887  0.430000   \n",
       "5         5741.0  0.822127  0.139347  0.601667  0.700000  0.800000  1.000000   \n",
       "\n",
       "         max  \n",
       "TB_pred       \n",
       "1       -0.6  \n",
       "2       -0.2  \n",
       "3        0.2  \n",
       "4        0.6  \n",
       "5        1.0  "
      ]
     },
     "execution_count": 17,
     "metadata": {},
     "output_type": "execute_result"
    }
   ],
   "source": [
    "df.groupby('TB_pred')['TB_polarity'].describe()"
   ]
  },
  {
   "cell_type": "code",
   "execution_count": 18,
   "metadata": {
    "ExecuteTime": {
     "end_time": "2021-01-03T06:14:54.359954Z",
     "start_time": "2021-01-03T06:14:54.340965Z"
    }
   },
   "outputs": [
    {
     "data": {
      "text/plain": [
       "0.14718944865640843"
      ]
     },
     "execution_count": 18,
     "metadata": {},
     "output_type": "execute_result"
    }
   ],
   "source": [
    "accuracy_score(df['score'], df['TB_pred'])"
   ]
  },
  {
   "cell_type": "code",
   "execution_count": 19,
   "metadata": {
    "ExecuteTime": {
     "end_time": "2021-01-03T06:14:55.005883Z",
     "start_time": "2021-01-03T06:14:54.637068Z"
    }
   },
   "outputs": [
    {
     "data": {
      "image/png": "[encoded data removed]",
      "text/plain": [
       "<Figure size 504x396 with 2 Axes>"
      ]
     },
     "metadata": {
      "needs_background": "light"
     },
     "output_type": "display_data"
    }
   ],
   "source": [
    "cm = confusion_matrix(df['score'], df['TB_pred'])\n",
    "\n",
    "plt.figure(figsize = (7, 5.5))\n",
    "sns.heatmap(cm, annot = True, fmt = '.5g', cmap = 'coolwarm', xticklabels = [1,2,3,4,5], yticklabels = [1,2,3,4,5])\n",
    "plt.ylabel('True Label')\n",
    "plt.xlabel('Predicted Label')\n",
    "plt.show()"
   ]
  },
  {
   "cell_type": "markdown",
   "metadata": {},
   "source": [
    "## 2. Vader"
   ]
  },
  {
   "cell_type": "code",
   "execution_count": 3,
   "metadata": {
    "ExecuteTime": {
     "end_time": "2021-01-13T14:56:13.642062Z",
     "start_time": "2021-01-13T14:56:13.598089Z"
    }
   },
   "outputs": [],
   "source": [
    "from nltk.sentiment.vader import SentimentIntensityAnalyzer\n",
    "vader = SentimentIntensityAnalyzer()"
   ]
  },
  {
   "cell_type": "code",
   "execution_count": 38,
   "metadata": {
    "ExecuteTime": {
     "end_time": "2021-01-13T14:26:14.788272Z",
     "start_time": "2021-01-13T14:26:14.774281Z"
    }
   },
   "outputs": [
    {
     "data": {
      "text/plain": [
       "'The graphics are gorgeous, the gameplay is incredibly smooth, and I love that there\\'s no \"wrong\" way to play: you can almost ignore story quests in favor of smaller side quests if you want, and as someone easily distracted, I love not being penalized for not \"following the rules.\" There\\'s also 0 requirement to spend money for an enjoyable experience, so you\\'re also not penalized for being unable to shell out tons of cash just to play. Love, love, love this game! ❤️'"
      ]
     },
     "execution_count": 38,
     "metadata": {},
     "output_type": "execute_result"
    }
   ],
   "source": [
    "df['content'][0]"
   ]
  },
  {
   "cell_type": "code",
   "execution_count": 39,
   "metadata": {
    "ExecuteTime": {
     "end_time": "2021-01-13T14:26:17.844095Z",
     "start_time": "2021-01-13T14:26:17.838100Z"
    }
   },
   "outputs": [
    {
     "data": {
      "text/plain": [
       "{'neg': 0.061, 'neu': 0.579, 'pos': 0.36, 'compound': 0.9879}"
      ]
     },
     "execution_count": 39,
     "metadata": {},
     "output_type": "execute_result"
    }
   ],
   "source": [
    "vader.polarity_scores(df['content'][0])"
   ]
  },
  {
   "cell_type": "code",
   "execution_count": 40,
   "metadata": {
    "ExecuteTime": {
     "end_time": "2021-01-13T14:26:22.191629Z",
     "start_time": "2021-01-13T14:26:22.179638Z"
    }
   },
   "outputs": [
    {
     "data": {
      "text/plain": [
       "{'neg': 0.049, 'neu': 0.766, 'pos': 0.185, 'compound': 0.9187}"
      ]
     },
     "execution_count": 40,
     "metadata": {},
     "output_type": "execute_result"
    }
   ],
   "source": [
    "vader.polarity_scores(df['content'][1])"
   ]
  },
  {
   "cell_type": "markdown",
   "metadata": {
    "ExecuteTime": {
     "end_time": "2021-01-02T06:25:34.610200Z",
     "start_time": "2021-01-02T06:25:34.590212Z"
    }
   },
   "source": [
    "In the above text samples, minor variations are made to the same sentence. Note that VADER breaks down sentiment intensity scores into a positive, negative and neutral component, which are then normalized and squashed to be within the range [-1, 1] as a “compound” score. As we add more exclamation marks, capitalization and emojis/emoticons, the intensity gets more and more extreme (towards +/- 1)."
   ]
  },
  {
   "cell_type": "markdown",
   "metadata": {},
   "source": [
    "Sentiment scoring: For returning discrete class values on the SST-5 dataset, we apply a similar technique as done for TextBlob — the continuous “compound” polarity score (float) is converted to a discrete value using binning through the pandas pd.cut function. This returns one of five classes for each test sample, stored as a new column in the resulting DataFrame."
   ]
  },
  {
   "cell_type": "code",
   "execution_count": null,
   "metadata": {
    "ExecuteTime": {
     "start_time": "2021-01-13T14:56:18.950Z"
    }
   },
   "outputs": [],
   "source": [
    "VD_dict_list = df['content'].apply(lambda x: vader.polarity_scores(x))"
   ]
  },
  {
   "cell_type": "code",
   "execution_count": null,
   "metadata": {
    "ExecuteTime": {
     "start_time": "2021-01-13T14:56:19.166Z"
    }
   },
   "outputs": [],
   "source": [
    "df['VD_neg'] = [VD_dict['neg'] for VD_dict in VD_polarity_dict]\n",
    "df['VD_neu'] = [VD_dict['neu'] for VD_dict in VD_polarity_dict]\n",
    "df['VD_pos'] = [VD_dict['pos'] for VD_dict in VD_polarity_dict]\n",
    "df['VD_compound'] = [VD_dict['compound'] for VD_dict in VD_polarity_dict]"
   ]
  },
  {
   "cell_type": "code",
   "execution_count": 37,
   "metadata": {
    "ExecuteTime": {
     "end_time": "2021-01-13T14:25:48.917382Z",
     "start_time": "2021-01-13T14:25:48.876407Z"
    }
   },
   "outputs": [
    {
     "data": {
      "text/html": [
       "<div>\n",
       "<style scoped>\n",
       "    .dataframe tbody tr th:only-of-type {\n",
       "        vertical-align: middle;\n",
       "    }\n",
       "\n",
       "    .dataframe tbody tr th {\n",
       "        vertical-align: top;\n",
       "    }\n",
       "\n",
       "    .dataframe thead th {\n",
       "        text-align: right;\n",
       "    }\n",
       "</style>\n",
       "<table border=\"1\" class=\"dataframe\">\n",
       "  <thead>\n",
       "    <tr style=\"text-align: right;\">\n",
       "      <th></th>\n",
       "      <th>content</th>\n",
       "      <th>score</th>\n",
       "      <th>date</th>\n",
       "      <th>thumbsUp</th>\n",
       "      <th>source</th>\n",
       "      <th>text</th>\n",
       "      <th>length</th>\n",
       "      <th>update</th>\n",
       "      <th>TB_polarity</th>\n",
       "      <th>TB_pred</th>\n",
       "      <th>VD_neg</th>\n",
       "      <th>VD_neu</th>\n",
       "      <th>VD_pos</th>\n",
       "      <th>VD_compound</th>\n",
       "    </tr>\n",
       "  </thead>\n",
       "  <tbody>\n",
       "    <tr>\n",
       "      <th>0</th>\n",
       "      <td>The graphics are gorgeous, the gameplay is inc...</td>\n",
       "      <td>5</td>\n",
       "      <td>2020-12-11 13:55:29</td>\n",
       "      <td>881.0</td>\n",
       "      <td>google_play_store</td>\n",
       "      <td>[the, graphics, are, gorgeous, the, gameplay, ...</td>\n",
       "      <td>84</td>\n",
       "      <td>1.1.2</td>\n",
       "      <td>0.270238</td>\n",
       "      <td>4</td>\n",
       "      <td>0.061</td>\n",
       "      <td>0.579</td>\n",
       "      <td>0.360</td>\n",
       "      <td>0.9879</td>\n",
       "    </tr>\n",
       "    <tr>\n",
       "      <th>1</th>\n",
       "      <td>If you love free world RPG, then this is it! T...</td>\n",
       "      <td>5</td>\n",
       "      <td>2020-12-16 18:10:47</td>\n",
       "      <td>48.0</td>\n",
       "      <td>google_play_store</td>\n",
       "      <td>[if, you, love, free, world, rpg, then, this, ...</td>\n",
       "      <td>94</td>\n",
       "      <td>1.1.2</td>\n",
       "      <td>0.183889</td>\n",
       "      <td>3</td>\n",
       "      <td>0.049</td>\n",
       "      <td>0.766</td>\n",
       "      <td>0.185</td>\n",
       "      <td>0.9187</td>\n",
       "    </tr>\n",
       "    <tr>\n",
       "      <th>2</th>\n",
       "      <td>I absolutely love the game! No complaints besi...</td>\n",
       "      <td>5</td>\n",
       "      <td>2020-12-16 00:18:43</td>\n",
       "      <td>185.0</td>\n",
       "      <td>google_play_store</td>\n",
       "      <td>[i, absolutely, love, the, game, no, complaint...</td>\n",
       "      <td>75</td>\n",
       "      <td>1.1.2</td>\n",
       "      <td>0.034921</td>\n",
       "      <td>3</td>\n",
       "      <td>0.156</td>\n",
       "      <td>0.663</td>\n",
       "      <td>0.181</td>\n",
       "      <td>0.6297</td>\n",
       "    </tr>\n",
       "    <tr>\n",
       "      <th>3</th>\n",
       "      <td>Great game. Regardless of ripoff issues and su...</td>\n",
       "      <td>4</td>\n",
       "      <td>2020-12-16 12:46:11</td>\n",
       "      <td>1.0</td>\n",
       "      <td>google_play_store</td>\n",
       "      <td>[great, game, regardless, of, ripoff, issues, ...</td>\n",
       "      <td>88</td>\n",
       "      <td>1.1.2</td>\n",
       "      <td>0.073333</td>\n",
       "      <td>3</td>\n",
       "      <td>0.115</td>\n",
       "      <td>0.639</td>\n",
       "      <td>0.245</td>\n",
       "      <td>0.9274</td>\n",
       "    </tr>\n",
       "    <tr>\n",
       "      <th>4</th>\n",
       "      <td>Amazing graphics and gameplay although a lot o...</td>\n",
       "      <td>5</td>\n",
       "      <td>2020-12-10 22:51:08</td>\n",
       "      <td>186.0</td>\n",
       "      <td>google_play_store</td>\n",
       "      <td>[amazing, graphics, and, gameplay, although, a...</td>\n",
       "      <td>86</td>\n",
       "      <td>1.1.2</td>\n",
       "      <td>0.381629</td>\n",
       "      <td>4</td>\n",
       "      <td>0.024</td>\n",
       "      <td>0.584</td>\n",
       "      <td>0.392</td>\n",
       "      <td>0.9908</td>\n",
       "    </tr>\n",
       "  </tbody>\n",
       "</table>\n",
       "</div>"
      ],
      "text/plain": [
       "                                             content  score  \\\n",
       "0  The graphics are gorgeous, the gameplay is inc...      5   \n",
       "1  If you love free world RPG, then this is it! T...      5   \n",
       "2  I absolutely love the game! No complaints besi...      5   \n",
       "3  Great game. Regardless of ripoff issues and su...      4   \n",
       "4  Amazing graphics and gameplay although a lot o...      5   \n",
       "\n",
       "                 date  thumbsUp             source  \\\n",
       "0 2020-12-11 13:55:29     881.0  google_play_store   \n",
       "1 2020-12-16 18:10:47      48.0  google_play_store   \n",
       "2 2020-12-16 00:18:43     185.0  google_play_store   \n",
       "3 2020-12-16 12:46:11       1.0  google_play_store   \n",
       "4 2020-12-10 22:51:08     186.0  google_play_store   \n",
       "\n",
       "                                                text  length update  \\\n",
       "0  [the, graphics, are, gorgeous, the, gameplay, ...      84  1.1.2   \n",
       "1  [if, you, love, free, world, rpg, then, this, ...      94  1.1.2   \n",
       "2  [i, absolutely, love, the, game, no, complaint...      75  1.1.2   \n",
       "3  [great, game, regardless, of, ripoff, issues, ...      88  1.1.2   \n",
       "4  [amazing, graphics, and, gameplay, although, a...      86  1.1.2   \n",
       "\n",
       "   TB_polarity TB_pred  VD_neg  VD_neu  VD_pos  VD_compound  \n",
       "0     0.270238       4   0.061   0.579   0.360       0.9879  \n",
       "1     0.183889       3   0.049   0.766   0.185       0.9187  \n",
       "2     0.034921       3   0.156   0.663   0.181       0.6297  \n",
       "3     0.073333       3   0.115   0.639   0.245       0.9274  \n",
       "4     0.381629       4   0.024   0.584   0.392       0.9908  "
      ]
     },
     "execution_count": 37,
     "metadata": {},
     "output_type": "execute_result"
    }
   ],
   "source": [
    "df.head()"
   ]
  },
  {
   "cell_type": "code",
   "execution_count": 46,
   "metadata": {
    "ExecuteTime": {
     "end_time": "2021-01-13T14:27:23.613093Z",
     "start_time": "2021-01-13T14:27:23.388862Z"
    }
   },
   "outputs": [
    {
     "data": {
      "image/png": "[encoded data removed]",
      "text/plain": [
       "<Figure size 432x288 with 1 Axes>"
      ]
     },
     "metadata": {
      "needs_background": "light"
     },
     "output_type": "display_data"
    }
   ],
   "source": [
    "sns.boxplot(x=\"score\", y=\"VD_compound\", data=df);"
   ]
  },
  {
   "cell_type": "code",
   "execution_count": 49,
   "metadata": {
    "ExecuteTime": {
     "end_time": "2021-01-13T14:27:41.633812Z",
     "start_time": "2021-01-13T14:27:41.613825Z"
    }
   },
   "outputs": [],
   "source": [
    "df['VD_pred'] = pd.cut(df['VD_compound'],\n",
    "                       bins=5,\n",
    "                       labels=[1, 2, 3, 4, 5])"
   ]
  },
  {
   "cell_type": "code",
   "execution_count": 50,
   "metadata": {
    "ExecuteTime": {
     "end_time": "2021-01-13T14:27:47.630745Z",
     "start_time": "2021-01-13T14:27:47.409702Z"
    }
   },
   "outputs": [
    {
     "data": {
      "image/png": "[encoded data removed]",
      "text/plain": [
       "<Figure size 432x288 with 1 Axes>"
      ]
     },
     "metadata": {
      "needs_background": "light"
     },
     "output_type": "display_data"
    }
   ],
   "source": [
    "sns.boxplot(x=\"VD_pred\", y=\"VD_compound\", data=df);"
   ]
  },
  {
   "cell_type": "code",
   "execution_count": 51,
   "metadata": {
    "ExecuteTime": {
     "end_time": "2021-01-13T14:27:52.905354Z",
     "start_time": "2021-01-13T14:27:52.881369Z"
    }
   },
   "outputs": [
    {
     "data": {
      "text/plain": [
       "0.5196544178505426"
      ]
     },
     "execution_count": 51,
     "metadata": {},
     "output_type": "execute_result"
    }
   ],
   "source": [
    "accuracy_score(df['score'], df['VD_pred'])"
   ]
  },
  {
   "cell_type": "code",
   "execution_count": 53,
   "metadata": {
    "ExecuteTime": {
     "end_time": "2021-01-13T14:35:11.161408Z",
     "start_time": "2021-01-13T14:35:10.836611Z"
    }
   },
   "outputs": [
    {
     "data": {
      "image/png": "[encoded data removed]",
      "text/plain": [
       "<Figure size 504x396 with 2 Axes>"
      ]
     },
     "metadata": {
      "needs_background": "light"
     },
     "output_type": "display_data"
    }
   ],
   "source": [
    "cm = confusion_matrix(df['score'], df['VD_pred'])\n",
    "\n",
    "plt.figure(figsize = (7, 5.5))\n",
    "sns.heatmap(cm, annot = True, fmt = '.5g', cmap = 'coolwarm', xticklabels = [1,2,3,4,5], yticklabels = [1,2,3,4,5])\n",
    "plt.ylabel('True Label')\n",
    "plt.xlabel('Predicted Label')\n",
    "plt.show()"
   ]
  },
  {
   "cell_type": "markdown",
   "metadata": {},
   "source": [
    "# Modeling (non-NN)"
   ]
  },
  {
   "cell_type": "markdown",
   "metadata": {},
   "source": [
    "## Data Preparation"
   ]
  },
  {
   "cell_type": "code",
   "execution_count": 93,
   "metadata": {
    "ExecuteTime": {
     "end_time": "2021-01-13T14:43:39.044438Z",
     "start_time": "2021-01-13T14:43:39.021452Z"
    }
   },
   "outputs": [],
   "source": [
    "model_df = df.sample(frac = 0.3, random_state = 11)"
   ]
  },
  {
   "cell_type": "code",
   "execution_count": 94,
   "metadata": {
    "ExecuteTime": {
     "end_time": "2021-01-13T14:43:39.434788Z",
     "start_time": "2021-01-13T14:43:39.288879Z"
    }
   },
   "outputs": [
    {
     "data": {
      "text/plain": [
       "<AxesSubplot:>"
      ]
     },
     "execution_count": 94,
     "metadata": {},
     "output_type": "execute_result"
    },
    {
     "data": {
      "image/png": "[encoded data removed]",
      "text/plain": [
       "<Figure size 432x288 with 1 Axes>"
      ]
     },
     "metadata": {
      "needs_background": "light"
     },
     "output_type": "display_data"
    }
   ],
   "source": [
    "model_df['score'].value_counts(normalize = True, sort = False).plot(kind='bar')"
   ]
  },
  {
   "cell_type": "code",
   "execution_count": 95,
   "metadata": {
    "ExecuteTime": {
     "end_time": "2021-01-13T14:43:40.263751Z",
     "start_time": "2021-01-13T14:43:40.246283Z"
    }
   },
   "outputs": [],
   "source": [
    "X = model_df['content'].copy()\n",
    "y = model_df['score'].copy()"
   ]
  },
  {
   "cell_type": "code",
   "execution_count": 96,
   "metadata": {
    "ExecuteTime": {
     "end_time": "2021-01-13T14:43:40.669709Z",
     "start_time": "2021-01-13T14:43:40.637729Z"
    }
   },
   "outputs": [],
   "source": [
    "X_train, X_test, y_train, y_test = train_test_split(X, y, test_size=0.2, random_state=11, stratify = y)"
   ]
  },
  {
   "cell_type": "code",
   "execution_count": 97,
   "metadata": {
    "ExecuteTime": {
     "end_time": "2021-01-13T14:43:42.159554Z",
     "start_time": "2021-01-13T14:43:40.918332Z"
    }
   },
   "outputs": [
    {
     "data": {
      "text/html": [
       "<div>\n",
       "<style scoped>\n",
       "    .dataframe tbody tr th:only-of-type {\n",
       "        vertical-align: middle;\n",
       "    }\n",
       "\n",
       "    .dataframe tbody tr th {\n",
       "        vertical-align: top;\n",
       "    }\n",
       "\n",
       "    .dataframe thead th {\n",
       "        text-align: right;\n",
       "    }\n",
       "</style>\n",
       "<table border=\"1\" class=\"dataframe\">\n",
       "  <thead>\n",
       "    <tr style=\"text-align: right;\">\n",
       "      <th></th>\n",
       "      <th>content</th>\n",
       "      <th>score</th>\n",
       "      <th>date</th>\n",
       "      <th>thumbsUp</th>\n",
       "      <th>source</th>\n",
       "      <th>text</th>\n",
       "      <th>length</th>\n",
       "      <th>update</th>\n",
       "      <th>TB_polarity</th>\n",
       "      <th>TB_pred</th>\n",
       "      <th>VD_neg</th>\n",
       "      <th>VD_neu</th>\n",
       "      <th>VD_pos</th>\n",
       "      <th>VD_compound</th>\n",
       "      <th>VD_pred</th>\n",
       "      <th>content_neg_mark</th>\n",
       "    </tr>\n",
       "  </thead>\n",
       "  <tbody>\n",
       "    <tr>\n",
       "      <th>77345</th>\n",
       "      <td>Everything is going well so far. And I sure ho...</td>\n",
       "      <td>5</td>\n",
       "      <td>2020-12-17 09:19:11</td>\n",
       "      <td>0.0</td>\n",
       "      <td>google_play_store</td>\n",
       "      <td>[everything, is, going, well, so, far, and, i,...</td>\n",
       "      <td>16</td>\n",
       "      <td>1.1.2</td>\n",
       "      <td>0.066667</td>\n",
       "      <td>3</td>\n",
       "      <td>0.000</td>\n",
       "      <td>0.517</td>\n",
       "      <td>0.483</td>\n",
       "      <td>0.8505</td>\n",
       "      <td>5</td>\n",
       "      <td>everything is going well so far and i sure hop...</td>\n",
       "    </tr>\n",
       "    <tr>\n",
       "      <th>37959</th>\n",
       "      <td>It has a good story and nice graphics</td>\n",
       "      <td>5</td>\n",
       "      <td>2020-10-01 10:40:04</td>\n",
       "      <td>0.0</td>\n",
       "      <td>google_play_store</td>\n",
       "      <td>[it, has, a, good, story, and, nice, graphics]</td>\n",
       "      <td>8</td>\n",
       "      <td>1.0.1</td>\n",
       "      <td>0.650000</td>\n",
       "      <td>5</td>\n",
       "      <td>0.000</td>\n",
       "      <td>0.467</td>\n",
       "      <td>0.533</td>\n",
       "      <td>0.6908</td>\n",
       "      <td>5</td>\n",
       "      <td>it has a good story and nice graphics</td>\n",
       "    </tr>\n",
       "    <tr>\n",
       "      <th>39815</th>\n",
       "      <td>Amazing story and even more amazing adventure</td>\n",
       "      <td>5</td>\n",
       "      <td>2020-09-30 14:41:17</td>\n",
       "      <td>0.0</td>\n",
       "      <td>google_play_store</td>\n",
       "      <td>[amazing, story, and, even, more, amazing, adv...</td>\n",
       "      <td>7</td>\n",
       "      <td>1.0.1</td>\n",
       "      <td>0.566667</td>\n",
       "      <td>4</td>\n",
       "      <td>0.000</td>\n",
       "      <td>0.276</td>\n",
       "      <td>0.724</td>\n",
       "      <td>0.8878</td>\n",
       "      <td>5</td>\n",
       "      <td>amazing story and even more amazing adventure</td>\n",
       "    </tr>\n",
       "    <tr>\n",
       "      <th>10960</th>\n",
       "      <td>This is the only mobile RPG that I'll play. It...</td>\n",
       "      <td>5</td>\n",
       "      <td>2020-10-01 16:43:14</td>\n",
       "      <td>2.0</td>\n",
       "      <td>google_play_store</td>\n",
       "      <td>[this, is, the, only, mobile, rpg, that, i, ll...</td>\n",
       "      <td>83</td>\n",
       "      <td>1.0.1</td>\n",
       "      <td>0.325463</td>\n",
       "      <td>4</td>\n",
       "      <td>0.014</td>\n",
       "      <td>0.563</td>\n",
       "      <td>0.422</td>\n",
       "      <td>0.9947</td>\n",
       "      <td>5</td>\n",
       "      <td>this is the only mobile rpg that i ll play it ...</td>\n",
       "    </tr>\n",
       "    <tr>\n",
       "      <th>57759</th>\n",
       "      <td>Absolutely love it. A wonderful game</td>\n",
       "      <td>5</td>\n",
       "      <td>2020-10-21 09:12:11</td>\n",
       "      <td>0.0</td>\n",
       "      <td>google_play_store</td>\n",
       "      <td>[absolutely, love, it, a, wonderful, game]</td>\n",
       "      <td>6</td>\n",
       "      <td>1.0.2</td>\n",
       "      <td>0.366667</td>\n",
       "      <td>4</td>\n",
       "      <td>0.000</td>\n",
       "      <td>0.262</td>\n",
       "      <td>0.738</td>\n",
       "      <td>0.8576</td>\n",
       "      <td>5</td>\n",
       "      <td>absolutely love it a wonderful game</td>\n",
       "    </tr>\n",
       "  </tbody>\n",
       "</table>\n",
       "</div>"
      ],
      "text/plain": [
       "                                                 content  score  \\\n",
       "77345  Everything is going well so far. And I sure ho...      5   \n",
       "37959              It has a good story and nice graphics      5   \n",
       "39815      Amazing story and even more amazing adventure      5   \n",
       "10960  This is the only mobile RPG that I'll play. It...      5   \n",
       "57759               Absolutely love it. A wonderful game      5   \n",
       "\n",
       "                     date  thumbsUp             source  \\\n",
       "77345 2020-12-17 09:19:11       0.0  google_play_store   \n",
       "37959 2020-10-01 10:40:04       0.0  google_play_store   \n",
       "39815 2020-09-30 14:41:17       0.0  google_play_store   \n",
       "10960 2020-10-01 16:43:14       2.0  google_play_store   \n",
       "57759 2020-10-21 09:12:11       0.0  google_play_store   \n",
       "\n",
       "                                                    text  length update  \\\n",
       "77345  [everything, is, going, well, so, far, and, i,...      16  1.1.2   \n",
       "37959     [it, has, a, good, story, and, nice, graphics]       8  1.0.1   \n",
       "39815  [amazing, story, and, even, more, amazing, adv...       7  1.0.1   \n",
       "10960  [this, is, the, only, mobile, rpg, that, i, ll...      83  1.0.1   \n",
       "57759         [absolutely, love, it, a, wonderful, game]       6  1.0.2   \n",
       "\n",
       "       TB_polarity TB_pred  VD_neg  VD_neu  VD_pos  VD_compound VD_pred  \\\n",
       "77345     0.066667       3   0.000   0.517   0.483       0.8505       5   \n",
       "37959     0.650000       5   0.000   0.467   0.533       0.6908       5   \n",
       "39815     0.566667       4   0.000   0.276   0.724       0.8878       5   \n",
       "10960     0.325463       4   0.014   0.563   0.422       0.9947       5   \n",
       "57759     0.366667       4   0.000   0.262   0.738       0.8576       5   \n",
       "\n",
       "                                        content_neg_mark  \n",
       "77345  everything is going well so far and i sure hop...  \n",
       "37959              it has a good story and nice graphics  \n",
       "39815      amazing story and even more amazing adventure  \n",
       "10960  this is the only mobile rpg that i ll play it ...  \n",
       "57759                absolutely love it a wonderful game  "
      ]
     },
     "execution_count": 97,
     "metadata": {},
     "output_type": "execute_result"
    }
   ],
   "source": [
    "model_df['content_neg_mark'] = model_df['text'].apply(lambda x: \" \".join(mark_negation(x)))\n",
    "\n",
    "model_df.head()"
   ]
  },
  {
   "cell_type": "code",
   "execution_count": 98,
   "metadata": {
    "ExecuteTime": {
     "end_time": "2021-01-13T14:43:47.596322Z",
     "start_time": "2021-01-13T14:43:47.581331Z"
    }
   },
   "outputs": [],
   "source": [
    "X_neg = model_df['content_neg_mark'].copy()\n",
    "y_neg = model_df['score'].copy()"
   ]
  },
  {
   "cell_type": "code",
   "execution_count": 99,
   "metadata": {
    "ExecuteTime": {
     "end_time": "2021-01-13T14:43:48.710570Z",
     "start_time": "2021-01-13T14:43:48.675592Z"
    }
   },
   "outputs": [],
   "source": [
    "X_train_neg, X_test_neg, y_train_neg, y_test_neg = train_test_split(X_neg, y_neg, test_size=0.2, random_state=11, stratify = y)"
   ]
  },
  {
   "cell_type": "code",
   "execution_count": 67,
   "metadata": {
    "ExecuteTime": {
     "end_time": "2021-01-13T14:37:29.880645Z",
     "start_time": "2021-01-13T14:37:29.861663Z"
    }
   },
   "outputs": [],
   "source": [
    "def test_pipeline(pipeline, X_train = X_train, y_train = y_train, X_test = X_test, y_test = y_test):\n",
    "    \n",
    "    learner = pipeline.fit(X_train, y_train)\n",
    "    \n",
    "    pred = learner.predict(X_test)\n",
    "\n",
    "    print(f\"Accuracy: {accuracy_score(y_test, pred):.4g}\")\n",
    "    \n",
    "    cm = confusion_matrix(y_test, pred)\n",
    "\n",
    "    plt.figure(figsize = (7, 5.5))\n",
    "    sns.heatmap(cm, annot = True, fmt = '.5g', cmap = 'coolwarm', xticklabels = [1,2,3,4,5], yticklabels = [1,2,3,4,5])\n",
    "    plt.title('Confusion Matrix', fontsize = 15)\n",
    "    plt.ylabel('True Label')\n",
    "    plt.xlabel('Predicted Label')\n",
    "    plt.show()"
   ]
  },
  {
   "cell_type": "code",
   "execution_count": 68,
   "metadata": {
    "ExecuteTime": {
     "end_time": "2021-01-13T14:37:30.287906Z",
     "start_time": "2021-01-13T14:37:30.274916Z"
    }
   },
   "outputs": [],
   "source": [
    "def test_neg_pipeline(pipeline, X_train = X_train_neg, y_train = y_train_neg, X_test = X_test_neg, y_test = y_test_neg):\n",
    "    \n",
    "    learner = pipeline.fit(X_train, y_train)\n",
    "    \n",
    "    pred = learner.predict(X_test)\n",
    "\n",
    "    print(f\"Accuracy: {accuracy_score(y_test, pred):.4g}\")\n",
    "    \n",
    "    cm = confusion_matrix(y_test, pred)\n",
    "\n",
    "    plt.figure(figsize = (7, 5.5))\n",
    "    sns.heatmap(cm, annot = True, fmt = '.5g', cmap = 'coolwarm', xticklabels = [1,2,3,4,5], yticklabels = [1,2,3,4,5])\n",
    "    plt.title('Confusion Matrix', fontsize = 15)\n",
    "    plt.ylabel('True Label')\n",
    "    plt.xlabel('Predicted Label')\n",
    "    plt.show()"
   ]
  },
  {
   "cell_type": "code",
   "execution_count": 69,
   "metadata": {
    "ExecuteTime": {
     "end_time": "2021-01-13T14:37:30.583807Z",
     "start_time": "2021-01-13T14:37:30.569814Z"
    }
   },
   "outputs": [],
   "source": [
    "def test_both_pipeline(pipeline):\n",
    "    \n",
    "    print('========================')\n",
    "    print('No Negation Marking')\n",
    "    print('========================')\n",
    "    test_pipeline(pipeline)\n",
    "    print('\\n\\n')\n",
    "    \n",
    "    print('========================')\n",
    "    print('With Negation Marking')\n",
    "    print('========================')\n",
    "    test_neg_pipeline(pipeline)"
   ]
  },
  {
   "cell_type": "markdown",
   "metadata": {},
   "source": [
    "## 3. Logistic Regression\n",
    "\n",
    "Moving onward from rule-based approaches, the next method attempted is a logistic regression — among the most commonly used supervised learning algorithms for classification. Logistic regression is a linear model trained on labelled data — the term linear is important because it means the algorithm only uses linear combinations (i.e. sums and not products) of inputs and parameters to produce a class prediction.\n",
    "\n",
    "Sebastian Raschka gives a very concise explanation of how the logistic regression equates to a very simple, one-layer neural network in his blog post. The input features and their weights are fed into an activation function (a sigmoid for binary classification, or a softmax for multi-class). The output of the classifier is just the index of the sigmoid/softmax vector with the highest value as the class label.\n",
    "\n",
    "For multi-class logistic regression, a one-vs-rest method is typically used — in this method, we train C separate binary classification models, where C is the number of classes. Each classifier f_c, for c ∈ {1, …, C} is trained to predict whether a sample is part of class c or not.\n",
    "\n",
    "Transforming words to features: To transform the text into features, the first step is to use scikit-learn’s CountVectorizer. This converts the entire corpus (i.e. all sentences) of our training data into a matrix of token counts. Tokens (words, punctuation symbols, etc.) are created using NLTK’s tokenizer and commonly-used stop words like “a”, “an”, “the” are removed because they do not add much value to the sentiment scoring. Next, the count matrix is converted to a TF-IDF (Term-frequency Inverse document frequency) representation. From the scikit-learn documentation:"
   ]
  },
  {
   "cell_type": "code",
   "execution_count": 100,
   "metadata": {
    "ExecuteTime": {
     "end_time": "2021-01-13T14:44:36.872596Z",
     "start_time": "2021-01-13T14:44:36.856606Z"
    }
   },
   "outputs": [],
   "source": [
    "lr_pipeline = Pipeline([('vec', CountVectorizer()),\n",
    "                        ('clf', LogisticRegression(solver='liblinear', multi_class='auto', class_weight='balanced'))])"
   ]
  },
  {
   "cell_type": "code",
   "execution_count": 101,
   "metadata": {
    "ExecuteTime": {
     "end_time": "2021-01-13T14:45:38.222234Z",
     "start_time": "2021-01-13T14:44:37.210779Z"
    }
   },
   "outputs": [
    {
     "name": "stdout",
     "output_type": "stream",
     "text": [
      "========================\n",
      "No Negation Marking\n",
      "========================\n",
      "Accuracy: 0.709\n"
     ]
    },
    {
     "data": {
      "image/png": "[encoded data removed]",
      "text/plain": [
       "<Figure size 504x396 with 2 Axes>"
      ]
     },
     "metadata": {
      "needs_background": "light"
     },
     "output_type": "display_data"
    },
    {
     "name": "stdout",
     "output_type": "stream",
     "text": [
      "\n",
      "\n",
      "\n",
      "========================\n",
      "With Negation Marking\n",
      "========================\n",
      "Accuracy: 0.7087\n"
     ]
    },
    {
     "data": {
      "image/png": "[encoded data removed]",
      "text/plain": [
       "<Figure size 504x396 with 2 Axes>"
      ]
     },
     "metadata": {
      "needs_background": "light"
     },
     "output_type": "display_data"
    }
   ],
   "source": [
    "test_both_pipeline(lr_pipeline)"
   ]
  },
  {
   "cell_type": "code",
   "execution_count": 102,
   "metadata": {
    "ExecuteTime": {
     "end_time": "2021-01-13T14:45:38.238222Z",
     "start_time": "2021-01-13T14:45:38.224231Z"
    }
   },
   "outputs": [],
   "source": [
    "lr_pipeline = Pipeline([('vec', CountVectorizer()),\n",
    "                        ('tfidf', TfidfTransformer()),\n",
    "                        ('clf', LogisticRegression(solver='liblinear', multi_class='auto', class_weight='balanced'))])"
   ]
  },
  {
   "cell_type": "code",
   "execution_count": 103,
   "metadata": {
    "ExecuteTime": {
     "end_time": "2021-01-13T14:45:53.497219Z",
     "start_time": "2021-01-13T14:45:38.241221Z"
    }
   },
   "outputs": [
    {
     "name": "stdout",
     "output_type": "stream",
     "text": [
      "========================\n",
      "No Negation Marking\n",
      "========================\n",
      "Accuracy: 0.7093\n"
     ]
    },
    {
     "data": {
      "image/png": "[encoded data removed]",
      "text/plain": [
       "<Figure size 504x396 with 2 Axes>"
      ]
     },
     "metadata": {
      "needs_background": "light"
     },
     "output_type": "display_data"
    },
    {
     "name": "stdout",
     "output_type": "stream",
     "text": [
      "\n",
      "\n",
      "\n",
      "========================\n",
      "With Negation Marking\n",
      "========================\n",
      "Accuracy: 0.7069\n"
     ]
    },
    {
     "data": {
      "image/png": "[encoded data removed]",
      "text/plain": [
       "<Figure size 504x396 with 2 Axes>"
      ]
     },
     "metadata": {
      "needs_background": "light"
     },
     "output_type": "display_data"
    }
   ],
   "source": [
    "test_both_pipeline(lr_pipeline)"
   ]
  },
  {
   "cell_type": "markdown",
   "metadata": {},
   "source": [
    "## 4. Multinomial NB"
   ]
  },
  {
   "cell_type": "code",
   "execution_count": 112,
   "metadata": {
    "ExecuteTime": {
     "end_time": "2021-01-13T14:48:06.747412Z",
     "start_time": "2021-01-13T14:48:06.726425Z"
    }
   },
   "outputs": [],
   "source": [
    "from sklearn.naive_bayes import MultinomialNB"
   ]
  },
  {
   "cell_type": "code",
   "execution_count": 117,
   "metadata": {
    "ExecuteTime": {
     "end_time": "2021-01-13T14:49:58.105269Z",
     "start_time": "2021-01-13T14:49:58.093277Z"
    }
   },
   "outputs": [],
   "source": [
    "mnb_pipeline = Pipeline([('vect', CountVectorizer()),\n",
    "                         ('mnb', MultinomialNB())])"
   ]
  },
  {
   "cell_type": "code",
   "execution_count": 118,
   "metadata": {
    "ExecuteTime": {
     "end_time": "2021-01-13T14:50:03.480610Z",
     "start_time": "2021-01-13T14:49:58.304906Z"
    }
   },
   "outputs": [
    {
     "name": "stdout",
     "output_type": "stream",
     "text": [
      "========================\n",
      "No Negation Marking\n",
      "========================\n",
      "Accuracy: 0.7236\n"
     ]
    },
    {
     "data": {
      "image/png": "[encoded data removed]",
      "text/plain": [
       "<Figure size 504x396 with 2 Axes>"
      ]
     },
     "metadata": {
      "needs_background": "light"
     },
     "output_type": "display_data"
    },
    {
     "name": "stdout",
     "output_type": "stream",
     "text": [
      "\n",
      "\n",
      "\n",
      "========================\n",
      "With Negation Marking\n",
      "========================\n",
      "Accuracy: 0.6995\n"
     ]
    },
    {
     "data": {
      "image/png": "[encoded data removed]",
      "text/plain": [
       "<Figure size 504x396 with 2 Axes>"
      ]
     },
     "metadata": {
      "needs_background": "light"
     },
     "output_type": "display_data"
    }
   ],
   "source": [
    "test_both_pipeline(mnb_pipeline)"
   ]
  },
  {
   "cell_type": "code",
   "execution_count": 115,
   "metadata": {
    "ExecuteTime": {
     "end_time": "2021-01-13T14:48:27.026768Z",
     "start_time": "2021-01-13T14:48:27.012777Z"
    }
   },
   "outputs": [],
   "source": [
    "mnb_pipeline = Pipeline([('vect', CountVectorizer()),\n",
    "                         ('tfidf', TfidfTransformer()),\n",
    "                         ('mnb', MultinomialNB())])"
   ]
  },
  {
   "cell_type": "code",
   "execution_count": 116,
   "metadata": {
    "ExecuteTime": {
     "end_time": "2021-01-13T14:48:46.090602Z",
     "start_time": "2021-01-13T14:48:27.029767Z"
    }
   },
   "outputs": [
    {
     "name": "stdout",
     "output_type": "stream",
     "text": [
      "========================\n",
      "No Negation Marking\n",
      "========================\n",
      "Accuracy: 0.7154\n"
     ]
    },
    {
     "data": {
      "image/png": "[encoded data removed]",
      "text/plain": [
       "<Figure size 504x396 with 2 Axes>"
      ]
     },
     "metadata": {
      "needs_background": "light"
     },
     "output_type": "display_data"
    },
    {
     "name": "stdout",
     "output_type": "stream",
     "text": [
      "\n",
      "\n",
      "\n",
      "========================\n",
      "With Negation Marking\n",
      "========================\n",
      "Accuracy: 0.7119\n"
     ]
    },
    {
     "data": {
      "image/png": "[encoded data removed]",
      "text/plain": [
       "<Figure size 504x396 with 2 Axes>"
      ]
     },
     "metadata": {
      "needs_background": "light"
     },
     "output_type": "display_data"
    }
   ],
   "source": [
    "test_both_pipeline(svm_pipeline)"
   ]
  },
  {
   "cell_type": "markdown",
   "metadata": {},
   "source": [
    "## 5. Support Vector Machine\n",
    "\n",
    "Support Vector Machines (SVMs) are very similar to logistic regression in terms of how they optimize a loss function to generate a decision boundary between data points. The primary difference, however, is the use of “kernel functions”, i.e. functions that transform a complex, nonlinear decision space to one that has higher dimensionality, so that an appropriate hyperplane separating the data points can be found. The SVM classifier looks to maximize the distance of each data point from this hyperplane using “support vectors” that characterize each distance as a vector.\n",
    "\n",
    "A key feature of SVMs is the fact that it uses a hinge loss rather than a logistic loss. This makes it more robust to outliers in the data, since the hinge loss does not diverge as quickly as a logistic loss.\n",
    "\n",
    "Training and sentiment scoring: The linear SVM in scikit-learn is set up using a similar pipeline as done for the logistic regression described in earlier. Once we obtain the TF-IDF representation of the training corpus, we train the SVM model by fitting it to the training data features. A hinge loss function with a stochastic gradient descent (SGD) optimizer is used, and L2 regularization is applied during training. The sentiment label is returned (using scikit-learn’s learner.predict method) as the index of the maximum class probability in the softmax output vector."
   ]
  },
  {
   "cell_type": "code",
   "execution_count": 108,
   "metadata": {
    "ExecuteTime": {
     "end_time": "2021-01-13T14:47:24.466447Z",
     "start_time": "2021-01-13T14:47:24.455456Z"
    }
   },
   "outputs": [],
   "source": [
    "svm_pipeline = Pipeline([('vec', CountVectorizer()),\n",
    "                         ('clf', SGDClassifier(\n",
    "                             loss='hinge',\n",
    "                             penalty='l2',\n",
    "                             alpha=1e-3,\n",
    "                             random_state=42,\n",
    "                             max_iter=100,\n",
    "                             learning_rate='optimal',\n",
    "                             class_weight='balanced',\n",
    "                             tol=None,)), ])"
   ]
  },
  {
   "cell_type": "code",
   "execution_count": 109,
   "metadata": {
    "ExecuteTime": {
     "end_time": "2021-01-13T14:47:44.118135Z",
     "start_time": "2021-01-13T14:47:25.094150Z"
    }
   },
   "outputs": [
    {
     "name": "stdout",
     "output_type": "stream",
     "text": [
      "========================\n",
      "No Negation Marking\n",
      "========================\n",
      "Accuracy: 0.7154\n"
     ]
    },
    {
     "data": {
      "image/png": "[encoded data removed]",
      "text/plain": [
       "<Figure size 504x396 with 2 Axes>"
      ]
     },
     "metadata": {
      "needs_background": "light"
     },
     "output_type": "display_data"
    },
    {
     "name": "stdout",
     "output_type": "stream",
     "text": [
      "\n",
      "\n",
      "\n",
      "========================\n",
      "With Negation Marking\n",
      "========================\n",
      "Accuracy: 0.7119\n"
     ]
    },
    {
     "data": {
      "image/png": "[encoded data removed]",
      "text/plain": [
       "<Figure size 504x396 with 2 Axes>"
      ]
     },
     "metadata": {
      "needs_background": "light"
     },
     "output_type": "display_data"
    }
   ],
   "source": [
    "test_both_pipeline(svm_pipeline)"
   ]
  },
  {
   "cell_type": "code",
   "execution_count": 110,
   "metadata": {
    "ExecuteTime": {
     "end_time": "2021-01-13T14:47:44.134123Z",
     "start_time": "2021-01-13T14:47:44.120131Z"
    }
   },
   "outputs": [],
   "source": [
    "lr_pipeline = Pipeline([('vec', CountVectorizer()),\n",
    "                        ('tfidf', TfidfTransformer()),\n",
    "                        ('clf', LogisticRegression(solver='liblinear', multi_class='auto', class_weight='balanced'))])"
   ]
  },
  {
   "cell_type": "code",
   "execution_count": 111,
   "metadata": {
    "ExecuteTime": {
     "end_time": "2021-01-13T14:48:46.090602Z",
     "start_time": "2021-01-13T14:48:27.029767Z"
    }
   },
   "outputs": [
    {
     "name": "stdout",
     "output_type": "stream",
     "text": [
      "========================\n",
      "No Negation Marking\n",
      "========================\n",
      "Accuracy: 0.7154\n"
     ]
    },
    {
     "data": {
      "image/png": "[encoded data removed]",
      "text/plain": [
       "<Figure size 504x396 with 2 Axes>"
      ]
     },
     "metadata": {
      "needs_background": "light"
     },
     "output_type": "display_data"
    },
    {
     "name": "stdout",
     "output_type": "stream",
     "text": [
      "\n",
      "\n",
      "\n",
      "========================\n",
      "With Negation Marking\n",
      "========================\n",
      "Accuracy: 0.7119\n"
     ]
    },
    {
     "data": {
      "image/png": "[encoded data removed]",
      "text/plain": [
       "<Figure size 504x396 with 2 Axes>"
      ]
     },
     "metadata": {
      "needs_background": "light"
     },
     "output_type": "display_data"
    }
   ],
   "source": [
    "test_both_pipeline(svm_pipeline)"
   ]
  },
  {
   "cell_type": "markdown",
   "metadata": {},
   "source": [
    "# Modeling (Neural Networks)"
   ]
  },
  {
   "cell_type": "markdown",
   "metadata": {},
   "source": [
    "## 6. LSTM"
   ]
  },
  {
   "cell_type": "code",
   "execution_count": 91,
   "metadata": {
    "ExecuteTime": {
     "end_time": "2021-01-03T07:11:28.045855Z",
     "start_time": "2021-01-03T07:11:28.025867Z"
    }
   },
   "outputs": [],
   "source": [
    "from tensorflow.keras.preprocessing.text import Tokenizer\n",
    "from tensorflow.keras.preprocessing.sequence import pad_sequences"
   ]
  },
  {
   "cell_type": "code",
   "execution_count": 54,
   "metadata": {
    "ExecuteTime": {
     "end_time": "2021-01-13T14:35:45.907179Z",
     "start_time": "2021-01-13T14:35:45.874201Z"
    }
   },
   "outputs": [],
   "source": [
    "nn_df = df.sample(frac = 0.25, random_state = 11)"
   ]
  },
  {
   "cell_type": "code",
   "execution_count": 57,
   "metadata": {
    "ExecuteTime": {
     "end_time": "2021-01-13T14:36:22.661507Z",
     "start_time": "2021-01-13T14:36:22.523968Z"
    }
   },
   "outputs": [
    {
     "data": {
      "image/png": "[encoded data removed]",
      "text/plain": [
       "<Figure size 432x288 with 1 Axes>"
      ]
     },
     "metadata": {
      "needs_background": "light"
     },
     "output_type": "display_data"
    }
   ],
   "source": [
    "nn_df['score'].value_counts(normalize=True).plot(kind='bar');"
   ]
  },
  {
   "cell_type": "code",
   "execution_count": 110,
   "metadata": {
    "ExecuteTime": {
     "end_time": "2021-01-03T07:16:15.271806Z",
     "start_time": "2021-01-03T07:16:15.256816Z"
    }
   },
   "outputs": [],
   "source": [
    "reviews = nn_df['content'].values\n",
    "\n",
    "tokenizer = Tokenizer(num_words=5000)\n",
    "tokenizer.fit_on_texts(reviews)"
   ]
  },
  {
   "cell_type": "code",
   "execution_count": 215,
   "metadata": {
    "ExecuteTime": {
     "end_time": "2021-01-03T08:29:44.811075Z",
     "start_time": "2021-01-03T08:29:44.798085Z"
    }
   },
   "outputs": [
    {
     "data": {
      "text/plain": [
       "16735"
      ]
     },
     "execution_count": 215,
     "metadata": {},
     "output_type": "execute_result"
    }
   ],
   "source": [
    "vocab_size = len(tokenizer.word_index) + 1\n",
    "vocab_size"
   ]
  },
  {
   "cell_type": "code",
   "execution_count": 112,
   "metadata": {
    "ExecuteTime": {
     "end_time": "2021-01-03T07:16:17.048302Z",
     "start_time": "2021-01-03T07:16:16.200826Z"
    }
   },
   "outputs": [],
   "source": [
    "encoded_docs = tokenizer.texts_to_sequences(reviews)\n",
    "padded_sequence = pad_sequences(encoded_docs, maxlen=200)"
   ]
  },
  {
   "cell_type": "code",
   "execution_count": 216,
   "metadata": {
    "ExecuteTime": {
     "end_time": "2021-01-03T08:30:03.508793Z",
     "start_time": "2021-01-03T08:30:03.493804Z"
    }
   },
   "outputs": [
    {
     "name": "stdout",
     "output_type": "stream",
     "text": [
      "It's unplayable, problem about this game is performance issues, all the stutter and freeze lag. The device I was using is Sony Xperia XZ2.\n",
      "[35, 548, 103, 116, 9, 2, 7, 695, 287, 42, 1, 2484, 4, 778, 176, 1, 218, 3, 54, 276, 7, 2220, 4064, 4493]\n",
      "[   0    0    0    0    0    0    0    0    0    0    0    0    0    0\n",
      "    0    0    0    0    0    0    0    0    0    0    0    0    0    0\n",
      "    0    0    0    0    0    0    0    0    0    0    0    0    0    0\n",
      "    0    0    0    0    0    0    0    0    0    0    0    0    0    0\n",
      "    0    0    0    0    0    0    0    0    0    0    0    0    0    0\n",
      "    0    0    0    0    0    0    0    0    0    0    0    0    0    0\n",
      "    0    0    0    0    0    0    0    0    0    0    0    0    0    0\n",
      "    0    0    0    0    0    0    0    0    0    0    0    0    0    0\n",
      "    0    0    0    0    0    0    0    0    0    0    0    0    0    0\n",
      "    0    0    0    0    0    0    0    0    0    0    0    0    0    0\n",
      "    0    0    0    0    0    0    0    0    0    0    0    0    0    0\n",
      "    0    0    0    0    0    0    0    0    0    0    0    0    0    0\n",
      "    0    0    0    0    0    0    0    0   35  548  103  116    9    2\n",
      "    7  695  287   42    1 2484    4  778  176    1  218    3   54  276\n",
      "    7 2220 4064 4493]\n"
     ]
    }
   ],
   "source": [
    "print(reviews[0])\n",
    "print(encoded_docs[0])\n",
    "print(padded_sequence[0])"
   ]
  },
  {
   "cell_type": "code",
   "execution_count": 177,
   "metadata": {
    "ExecuteTime": {
     "end_time": "2021-01-03T08:04:31.295787Z",
     "start_time": "2021-01-03T08:04:30.817089Z"
    }
   },
   "outputs": [
    {
     "name": "stdout",
     "output_type": "stream",
     "text": [
      "Model: \"sequential_6\"\n",
      "_________________________________________________________________\n",
      "Layer (type)                 Output Shape              Param #   \n",
      "=================================================================\n",
      "embedding_6 (Embedding)      (None, 200, 32)           535520    \n",
      "_________________________________________________________________\n",
      "spatial_dropout1d_6 (Spatial (None, 200, 32)           0         \n",
      "_________________________________________________________________\n",
      "lstm_6 (LSTM)                (None, 50)                16600     \n",
      "_________________________________________________________________\n",
      "dropout_6 (Dropout)          (None, 50)                0         \n",
      "_________________________________________________________________\n",
      "dense_6 (Dense)              (None, 5)                 255       \n",
      "=================================================================\n",
      "Total params: 552,375\n",
      "Trainable params: 552,375\n",
      "Non-trainable params: 0\n",
      "_________________________________________________________________\n",
      "None\n"
     ]
    }
   ],
   "source": [
    "embedding_vector_length = 32\n",
    "\n",
    "model = Sequential()\n",
    "model.add(Embedding(vocab_size, embedding_vector_length, input_length=200))\n",
    "model.add(SpatialDropout1D(0.25))\n",
    "model.add(LSTM(50, dropout=0.5, recurrent_dropout=0.5))\n",
    "model.add(Dropout(0.2))\n",
    "model.add(Dense(5, activation='softmax'))\n",
    "model.compile(loss='categorical_crossentropy', optimizer='adam',metrics=['accuracy'])\n",
    "\n",
    "print(model.summary())"
   ]
  },
  {
   "cell_type": "code",
   "execution_count": 163,
   "metadata": {
    "ExecuteTime": {
     "end_time": "2021-01-03T08:01:30.097993Z",
     "start_time": "2021-01-03T08:01:30.083003Z"
    }
   },
   "outputs": [],
   "source": [
    "scores = train_test_df[['score']]\n",
    "\n",
    "enc = OneHotEncoder()\n",
    "scores_cat = enc.fit_transform(scores)"
   ]
  },
  {
   "cell_type": "code",
   "execution_count": 178,
   "metadata": {
    "ExecuteTime": {
     "end_time": "2021-01-03T08:12:23.890934Z",
     "start_time": "2021-01-03T08:04:38.134006Z"
    }
   },
   "outputs": [
    {
     "name": "stdout",
     "output_type": "stream",
     "text": [
      "Train on 20000 samples, validate on 5000 samples\n",
      "Epoch 1/5\n",
      "20000/20000 [==============================] - 93s 5ms/sample - loss: 1.0044 - acc: 0.6556 - val_loss: 0.8471 - val_acc: 0.6868\n",
      "Epoch 2/5\n",
      "20000/20000 [==============================] - 96s 5ms/sample - loss: 0.8505 - acc: 0.6905 - val_loss: 0.8141 - val_acc: 0.6978\n",
      "Epoch 3/5\n",
      "20000/20000 [==============================] - 93s 5ms/sample - loss: 0.8075 - acc: 0.7056 - val_loss: 0.8104 - val_acc: 0.7034\n",
      "Epoch 4/5\n",
      "20000/20000 [==============================] - 90s 5ms/sample - loss: 0.7761 - acc: 0.7136 - val_loss: 0.7921 - val_acc: 0.7102\n",
      "Epoch 5/5\n",
      "20000/20000 [==============================] - 91s 5ms/sample - loss: 0.7540 - acc: 0.7211 - val_loss: 0.7810 - val_acc: 0.7152\n"
     ]
    }
   ],
   "source": [
    "history = model.fit(padded_sequence, scores_cat, validation_split=0.2, epochs=5, batch_size=32)"
   ]
  },
  {
   "cell_type": "code",
   "execution_count": 179,
   "metadata": {
    "ExecuteTime": {
     "end_time": "2021-01-03T08:12:33.386933Z",
     "start_time": "2021-01-03T08:12:33.184059Z"
    }
   },
   "outputs": [
    {
     "data": {
      "image/png": "[encoded data removed]",
      "text/plain": [
       "<Figure size 432x288 with 1 Axes>"
      ]
     },
     "metadata": {
      "needs_background": "light"
     },
     "output_type": "display_data"
    }
   ],
   "source": [
    "plt.plot(history.history['loss'], label='Train loss')\n",
    "plt.plot(history.history['val_loss'], label='Val Loss')\n",
    "plt.legend();"
   ]
  },
  {
   "cell_type": "code",
   "execution_count": 189,
   "metadata": {
    "ExecuteTime": {
     "end_time": "2021-01-03T08:15:55.903375Z",
     "start_time": "2021-01-03T08:15:36.127995Z"
    },
    "scrolled": true
   },
   "outputs": [],
   "source": [
    "probability = model.predict(padded_sequence)\n",
    "probability_df = pd.DataFrame(probability)\n",
    "probability_df.columns = ['1','2','3','4','5']\n",
    "probability_df.head()"
   ]
  },
  {
   "cell_type": "code",
   "execution_count": 205,
   "metadata": {
    "ExecuteTime": {
     "end_time": "2021-01-03T08:19:55.795114Z",
     "start_time": "2021-01-03T08:19:55.779122Z"
    }
   },
   "outputs": [],
   "source": [
    "def find_prediction(row):\n",
    "    max_value = row.max()\n",
    "    \n",
    "    if row['1'] == max_value:\n",
    "        return 1\n",
    "    elif row['2'] == max_value:\n",
    "        return 2\n",
    "    elif row['3'] == max_value:\n",
    "        return 3\n",
    "    elif row['4'] == max_value:\n",
    "        return 4\n",
    "    elif row['5'] == max_value:\n",
    "        return 5"
   ]
  },
  {
   "cell_type": "code",
   "execution_count": 206,
   "metadata": {
    "ExecuteTime": {
     "end_time": "2021-01-03T08:19:58.149515Z",
     "start_time": "2021-01-03T08:19:56.109068Z"
    }
   },
   "outputs": [],
   "source": [
    "probability_df['pred'] = probability_df.apply(lambda x: find_prediction(x), axis = 1)\n",
    "\n",
    "probability_df.head(10)"
   ]
  },
  {
   "cell_type": "code",
   "execution_count": 214,
   "metadata": {
    "ExecuteTime": {
     "end_time": "2021-01-03T08:21:42.996878Z",
     "start_time": "2021-01-03T08:21:42.671081Z"
    }
   },
   "outputs": [
    {
     "data": {
      "image/png": "[encoded data removed]",
      "text/plain": [
       "<Figure size 504x396 with 2 Axes>"
      ]
     },
     "metadata": {
      "needs_background": "light"
     },
     "output_type": "display_data"
    }
   ],
   "source": [
    "cm = confusion_matrix(scores['score'], probability_df['pred'])\n",
    "\n",
    "plt.figure(figsize = (7, 5.5))\n",
    "sns.heatmap(cm, annot = True, fmt = '.5g', cmap = 'coolwarm', xticklabels = [1,2,3,4,5], yticklabels = [1,2,3,4,5])\n",
    "plt.title('Confusion Matrix', fontsize = 15)\n",
    "plt.ylabel('True Label')\n",
    "plt.xlabel('Predicted Label')\n",
    "plt.show()"
   ]
  },
  {
   "cell_type": "markdown",
   "metadata": {},
   "source": [
    "## 7. LSTM (3 Categories) \n",
    "\n",
    "Trying with Positive, Neutral and Negative"
   ]
  },
  {
   "cell_type": "code",
   "execution_count": 2,
   "metadata": {
    "ExecuteTime": {
     "end_time": "2021-01-10T07:39:24.971314Z",
     "start_time": "2021-01-10T07:39:24.961323Z"
    }
   },
   "outputs": [],
   "source": [
    "def positive_neutral_negative(score):\n",
    "    if score < 3:\n",
    "        return -1\n",
    "    if score ==  3:\n",
    "        return 0\n",
    "    if score > 3:\n",
    "        return 1"
   ]
  },
  {
   "cell_type": "code",
   "execution_count": 3,
   "metadata": {
    "ExecuteTime": {
     "end_time": "2021-01-10T07:39:25.453316Z",
     "start_time": "2021-01-10T07:39:25.430330Z"
    }
   },
   "outputs": [
    {
     "ename": "NameError",
     "evalue": "name 'scores' is not defined",
     "output_type": "error",
     "traceback": [
      "\u001b[1;31m---------------------------------------------------------------------------\u001b[0m",
      "\u001b[1;31mNameError\u001b[0m                                 Traceback (most recent call last)",
      "\u001b[1;32m<ipython-input-3-ebfc476579ab>\u001b[0m in \u001b[0;36m<module>\u001b[1;34m\u001b[0m\n\u001b[1;32m----> 1\u001b[1;33m \u001b[0mscores\u001b[0m\u001b[1;33m[\u001b[0m\u001b[1;34m'pnn'\u001b[0m\u001b[1;33m]\u001b[0m \u001b[1;33m=\u001b[0m \u001b[0mscores\u001b[0m\u001b[1;33m[\u001b[0m\u001b[1;34m'score'\u001b[0m\u001b[1;33m]\u001b[0m\u001b[1;33m.\u001b[0m\u001b[0mapply\u001b[0m\u001b[1;33m(\u001b[0m\u001b[1;32mlambda\u001b[0m \u001b[0mx\u001b[0m\u001b[1;33m:\u001b[0m \u001b[0mpositive_neutral_negative\u001b[0m\u001b[1;33m(\u001b[0m\u001b[0mx\u001b[0m\u001b[1;33m)\u001b[0m\u001b[1;33m)\u001b[0m\u001b[1;33m\u001b[0m\u001b[1;33m\u001b[0m\u001b[0m\n\u001b[0m",
      "\u001b[1;31mNameError\u001b[0m: name 'scores' is not defined"
     ]
    }
   ],
   "source": [
    "scores['pnn'] = scores['score'].apply(lambda x: positive_neutral_negative(x))"
   ]
  },
  {
   "cell_type": "code",
   "execution_count": 239,
   "metadata": {
    "ExecuteTime": {
     "end_time": "2021-01-03T08:46:22.107698Z",
     "start_time": "2021-01-03T08:46:22.091705Z"
    }
   },
   "outputs": [],
   "source": [
    "scores = scores[['pnn']]\n",
    "enc = OneHotEncoder()\n",
    "scores_cat = enc.fit_transform(scores)"
   ]
  },
  {
   "cell_type": "code",
   "execution_count": 240,
   "metadata": {
    "ExecuteTime": {
     "end_time": "2021-01-03T08:46:28.035970Z",
     "start_time": "2021-01-03T08:46:28.024977Z"
    }
   },
   "outputs": [],
   "source": [
    "scores_cat=pd.DataFrame(scores_cat.toarray())"
   ]
  },
  {
   "cell_type": "code",
   "execution_count": 242,
   "metadata": {
    "ExecuteTime": {
     "end_time": "2021-01-03T08:46:57.894173Z",
     "start_time": "2021-01-03T08:46:57.872273Z"
    }
   },
   "outputs": [
    {
     "data": {
      "text/plain": [
       "0    1    2  \n",
       "0.0  0.0  1.0    19305\n",
       "     1.0  0.0     1641\n",
       "1.0  0.0  0.0     4054\n",
       "dtype: int64"
      ]
     },
     "execution_count": 242,
     "metadata": {},
     "output_type": "execute_result"
    }
   ],
   "source": [
    "scores_cat.value_counts(sort=False)"
   ]
  },
  {
   "cell_type": "code",
   "execution_count": 231,
   "metadata": {
    "ExecuteTime": {
     "end_time": "2021-01-03T08:36:11.815204Z",
     "start_time": "2021-01-03T08:36:11.354489Z"
    }
   },
   "outputs": [
    {
     "name": "stdout",
     "output_type": "stream",
     "text": [
      "Model: \"sequential_7\"\n",
      "_________________________________________________________________\n",
      "Layer (type)                 Output Shape              Param #   \n",
      "=================================================================\n",
      "embedding_7 (Embedding)      (None, 200, 32)           535520    \n",
      "_________________________________________________________________\n",
      "spatial_dropout1d_7 (Spatial (None, 200, 32)           0         \n",
      "_________________________________________________________________\n",
      "lstm_7 (LSTM)                (None, 50)                16600     \n",
      "_________________________________________________________________\n",
      "dropout_7 (Dropout)          (None, 50)                0         \n",
      "_________________________________________________________________\n",
      "dense_7 (Dense)              (None, 3)                 153       \n",
      "=================================================================\n",
      "Total params: 552,273\n",
      "Trainable params: 552,273\n",
      "Non-trainable params: 0\n",
      "_________________________________________________________________\n",
      "None\n"
     ]
    }
   ],
   "source": [
    "embedding_vector_length = 32\n",
    "\n",
    "model = Sequential()\n",
    "model.add(Embedding(vocab_size, embedding_vector_length, input_length=200))\n",
    "model.add(SpatialDropout1D(0.25))\n",
    "model.add(LSTM(50, dropout=0.5, recurrent_dropout=0.5))\n",
    "model.add(Dropout(0.2))\n",
    "model.add(Dense(3, activation='softmax'))\n",
    "model.compile(loss='categorical_crossentropy', optimizer='adam',metrics=['accuracy'])\n",
    "\n",
    "print(model.summary())"
   ]
  },
  {
   "cell_type": "code",
   "execution_count": 243,
   "metadata": {
    "ExecuteTime": {
     "end_time": "2021-01-03T08:54:48.029587Z",
     "start_time": "2021-01-03T08:47:05.291241Z"
    }
   },
   "outputs": [
    {
     "name": "stdout",
     "output_type": "stream",
     "text": [
      "Train on 20000 samples, validate on 5000 samples\n",
      "Epoch 1/5\n",
      "20000/20000 [==============================] - 97s 5ms/sample - loss: 1.8950 - acc: 0.7377 - val_loss: 0.6294 - val_acc: 0.7628\n",
      "Epoch 2/5\n",
      "20000/20000 [==============================] - 101s 5ms/sample - loss: 1.7536 - acc: 0.7558 - val_loss: 0.5817 - val_acc: 0.7728\n",
      "Epoch 3/5\n",
      "20000/20000 [==============================] - 96s 5ms/sample - loss: 1.6822 - acc: 0.7571 - val_loss: 0.6004 - val_acc: 0.7630\n",
      "Epoch 4/5\n",
      "20000/20000 [==============================] - 86s 4ms/sample - loss: 1.5877 - acc: 0.7702 - val_loss: 0.5806 - val_acc: 0.7618\n",
      "Epoch 5/5\n",
      "20000/20000 [==============================] - 82s 4ms/sample - loss: 1.5314 - acc: 0.7693 - val_loss: 0.6081 - val_acc: 0.7454\n"
     ]
    }
   ],
   "source": [
    "history = model.fit(padded_sequence, scores_cat, validation_split=0.2, epochs=5, batch_size=32, class_weight={0: 19305/4054, 1: 19305/1641, 2: 19305/19305})"
   ]
  },
  {
   "cell_type": "code",
   "execution_count": 244,
   "metadata": {
    "ExecuteTime": {
     "end_time": "2021-01-03T08:54:58.860640Z",
     "start_time": "2021-01-03T08:54:58.666760Z"
    }
   },
   "outputs": [
    {
     "data": {
      "image/png": "[encoded data removed]",
      "text/plain": [
       "<Figure size 432x288 with 1 Axes>"
      ]
     },
     "metadata": {
      "needs_background": "light"
     },
     "output_type": "display_data"
    }
   ],
   "source": [
    "plt.plot(history.history['loss'], label='Train loss')\n",
    "plt.plot(history.history['val_loss'], label='Val Loss')\n",
    "plt.legend();"
   ]
  },
  {
   "cell_type": "code",
   "execution_count": 264,
   "metadata": {
    "ExecuteTime": {
     "end_time": "2021-01-03T08:59:33.870421Z",
     "start_time": "2021-01-03T08:59:16.486841Z"
    },
    "scrolled": true
   },
   "outputs": [],
   "source": [
    "probability = model.predict(padded_sequence)\n",
    "probability_df = pd.DataFrame(probability)"
   ]
  },
  {
   "cell_type": "code",
   "execution_count": 265,
   "metadata": {
    "ExecuteTime": {
     "end_time": "2021-01-03T08:59:33.886411Z",
     "start_time": "2021-01-03T08:59:33.872419Z"
    }
   },
   "outputs": [
    {
     "data": {
      "text/html": [
       "<div>\n",
       "<style scoped>\n",
       "    .dataframe tbody tr th:only-of-type {\n",
       "        vertical-align: middle;\n",
       "    }\n",
       "\n",
       "    .dataframe tbody tr th {\n",
       "        vertical-align: top;\n",
       "    }\n",
       "\n",
       "    .dataframe thead th {\n",
       "        text-align: right;\n",
       "    }\n",
       "</style>\n",
       "<table border=\"1\" class=\"dataframe\">\n",
       "  <thead>\n",
       "    <tr style=\"text-align: right;\">\n",
       "      <th></th>\n",
       "      <th>0</th>\n",
       "      <th>1</th>\n",
       "      <th>2</th>\n",
       "    </tr>\n",
       "  </thead>\n",
       "  <tbody>\n",
       "    <tr>\n",
       "      <th>0</th>\n",
       "      <td>0.842335</td>\n",
       "      <td>0.146398</td>\n",
       "      <td>0.011266</td>\n",
       "    </tr>\n",
       "    <tr>\n",
       "      <th>1</th>\n",
       "      <td>0.174160</td>\n",
       "      <td>0.674605</td>\n",
       "      <td>0.151236</td>\n",
       "    </tr>\n",
       "    <tr>\n",
       "      <th>2</th>\n",
       "      <td>0.011202</td>\n",
       "      <td>0.017866</td>\n",
       "      <td>0.970932</td>\n",
       "    </tr>\n",
       "    <tr>\n",
       "      <th>3</th>\n",
       "      <td>0.171298</td>\n",
       "      <td>0.224892</td>\n",
       "      <td>0.603810</td>\n",
       "    </tr>\n",
       "    <tr>\n",
       "      <th>4</th>\n",
       "      <td>0.006097</td>\n",
       "      <td>0.024963</td>\n",
       "      <td>0.968940</td>\n",
       "    </tr>\n",
       "  </tbody>\n",
       "</table>\n",
       "</div>"
      ],
      "text/plain": [
       "          0         1         2\n",
       "0  0.842335  0.146398  0.011266\n",
       "1  0.174160  0.674605  0.151236\n",
       "2  0.011202  0.017866  0.970932\n",
       "3  0.171298  0.224892  0.603810\n",
       "4  0.006097  0.024963  0.968940"
      ]
     },
     "execution_count": 265,
     "metadata": {},
     "output_type": "execute_result"
    }
   ],
   "source": [
    "probability_df.columns = ['0','1','2']\n",
    "probability_df.head()"
   ]
  },
  {
   "cell_type": "code",
   "execution_count": 266,
   "metadata": {
    "ExecuteTime": {
     "end_time": "2021-01-03T08:59:33.917391Z",
     "start_time": "2021-01-03T08:59:33.889408Z"
    }
   },
   "outputs": [],
   "source": [
    "def find_prediction(row):\n",
    "    max_value = row.max()\n",
    "    \n",
    "    if row['0'] == max_value:\n",
    "        return -1\n",
    "    elif row['1'] == max_value:\n",
    "        return 0\n",
    "    elif row['2'] == max_value:\n",
    "        return 1"
   ]
  },
  {
   "cell_type": "code",
   "execution_count": 267,
   "metadata": {
    "ExecuteTime": {
     "end_time": "2021-01-03T08:59:35.848584Z",
     "start_time": "2021-01-03T08:59:33.919390Z"
    }
   },
   "outputs": [
    {
     "data": {
      "text/html": [
       "<div>\n",
       "<style scoped>\n",
       "    .dataframe tbody tr th:only-of-type {\n",
       "        vertical-align: middle;\n",
       "    }\n",
       "\n",
       "    .dataframe tbody tr th {\n",
       "        vertical-align: top;\n",
       "    }\n",
       "\n",
       "    .dataframe thead th {\n",
       "        text-align: right;\n",
       "    }\n",
       "</style>\n",
       "<table border=\"1\" class=\"dataframe\">\n",
       "  <thead>\n",
       "    <tr style=\"text-align: right;\">\n",
       "      <th></th>\n",
       "      <th>0</th>\n",
       "      <th>1</th>\n",
       "      <th>2</th>\n",
       "      <th>pred</th>\n",
       "    </tr>\n",
       "  </thead>\n",
       "  <tbody>\n",
       "    <tr>\n",
       "      <th>0</th>\n",
       "      <td>0.842335</td>\n",
       "      <td>0.146398</td>\n",
       "      <td>0.011266</td>\n",
       "      <td>-1</td>\n",
       "    </tr>\n",
       "    <tr>\n",
       "      <th>1</th>\n",
       "      <td>0.174160</td>\n",
       "      <td>0.674605</td>\n",
       "      <td>0.151236</td>\n",
       "      <td>0</td>\n",
       "    </tr>\n",
       "    <tr>\n",
       "      <th>2</th>\n",
       "      <td>0.011202</td>\n",
       "      <td>0.017866</td>\n",
       "      <td>0.970932</td>\n",
       "      <td>1</td>\n",
       "    </tr>\n",
       "    <tr>\n",
       "      <th>3</th>\n",
       "      <td>0.171298</td>\n",
       "      <td>0.224892</td>\n",
       "      <td>0.603810</td>\n",
       "      <td>1</td>\n",
       "    </tr>\n",
       "    <tr>\n",
       "      <th>4</th>\n",
       "      <td>0.006097</td>\n",
       "      <td>0.024963</td>\n",
       "      <td>0.968940</td>\n",
       "      <td>1</td>\n",
       "    </tr>\n",
       "    <tr>\n",
       "      <th>5</th>\n",
       "      <td>0.001583</td>\n",
       "      <td>0.004993</td>\n",
       "      <td>0.993424</td>\n",
       "      <td>1</td>\n",
       "    </tr>\n",
       "    <tr>\n",
       "      <th>6</th>\n",
       "      <td>0.044400</td>\n",
       "      <td>0.185680</td>\n",
       "      <td>0.769920</td>\n",
       "      <td>1</td>\n",
       "    </tr>\n",
       "    <tr>\n",
       "      <th>7</th>\n",
       "      <td>0.043006</td>\n",
       "      <td>0.392366</td>\n",
       "      <td>0.564628</td>\n",
       "      <td>1</td>\n",
       "    </tr>\n",
       "    <tr>\n",
       "      <th>8</th>\n",
       "      <td>0.002330</td>\n",
       "      <td>0.006814</td>\n",
       "      <td>0.990857</td>\n",
       "      <td>1</td>\n",
       "    </tr>\n",
       "    <tr>\n",
       "      <th>9</th>\n",
       "      <td>0.685256</td>\n",
       "      <td>0.282664</td>\n",
       "      <td>0.032080</td>\n",
       "      <td>-1</td>\n",
       "    </tr>\n",
       "  </tbody>\n",
       "</table>\n",
       "</div>"
      ],
      "text/plain": [
       "          0         1         2  pred\n",
       "0  0.842335  0.146398  0.011266    -1\n",
       "1  0.174160  0.674605  0.151236     0\n",
       "2  0.011202  0.017866  0.970932     1\n",
       "3  0.171298  0.224892  0.603810     1\n",
       "4  0.006097  0.024963  0.968940     1\n",
       "5  0.001583  0.004993  0.993424     1\n",
       "6  0.044400  0.185680  0.769920     1\n",
       "7  0.043006  0.392366  0.564628     1\n",
       "8  0.002330  0.006814  0.990857     1\n",
       "9  0.685256  0.282664  0.032080    -1"
      ]
     },
     "execution_count": 267,
     "metadata": {},
     "output_type": "execute_result"
    }
   ],
   "source": [
    "probability_df['pred'] = probability_df.apply(lambda x: find_prediction(x), axis = 1)\n",
    "\n",
    "probability_df.head(10)"
   ]
  },
  {
   "cell_type": "code",
   "execution_count": 268,
   "metadata": {
    "ExecuteTime": {
     "end_time": "2021-01-03T08:59:40.574597Z",
     "start_time": "2021-01-03T08:59:40.335744Z"
    }
   },
   "outputs": [
    {
     "data": {
      "image/png": "[encoded data removed]",
      "text/plain": [
       "<Figure size 504x396 with 2 Axes>"
      ]
     },
     "metadata": {
      "needs_background": "light"
     },
     "output_type": "display_data"
    }
   ],
   "source": [
    "cm = confusion_matrix(scores['pnn'], probability_df['pred'])\n",
    "\n",
    "plt.figure(figsize = (7, 5.5))\n",
    "sns.heatmap(cm, annot = True, fmt = '.5g', cmap = 'coolwarm', xticklabels = [-1,0,1], yticklabels = [-1,0,1])\n",
    "plt.title('Confusion Matrix', fontsize = 15)\n",
    "plt.ylabel('True Label')\n",
    "plt.xlabel('Predicted Label')\n",
    "plt.show()"
   ]
  },
  {
   "cell_type": "markdown",
   "metadata": {},
   "source": [
    "# Others"
   ]
  },
  {
   "cell_type": "code",
   "execution_count": 4,
   "metadata": {
    "ExecuteTime": {
     "end_time": "2020-12-29T03:00:49.357978Z",
     "start_time": "2020-12-29T03:00:49.281490Z"
    }
   },
   "outputs": [
    {
     "data": {
      "text/html": [
       "<div>\n",
       "<style scoped>\n",
       "    .dataframe tbody tr th:only-of-type {\n",
       "        vertical-align: middle;\n",
       "    }\n",
       "\n",
       "    .dataframe tbody tr th {\n",
       "        vertical-align: top;\n",
       "    }\n",
       "\n",
       "    .dataframe thead tr th {\n",
       "        text-align: left;\n",
       "    }\n",
       "\n",
       "    .dataframe thead tr:last-of-type th {\n",
       "        text-align: right;\n",
       "    }\n",
       "</style>\n",
       "<table border=\"1\" class=\"dataframe\">\n",
       "  <thead>\n",
       "    <tr>\n",
       "      <th></th>\n",
       "      <th colspan=\"8\" halign=\"left\">polarity</th>\n",
       "      <th colspan=\"8\" halign=\"left\">subjectivity</th>\n",
       "    </tr>\n",
       "    <tr>\n",
       "      <th></th>\n",
       "      <th>count</th>\n",
       "      <th>mean</th>\n",
       "      <th>std</th>\n",
       "      <th>min</th>\n",
       "      <th>25%</th>\n",
       "      <th>50%</th>\n",
       "      <th>75%</th>\n",
       "      <th>max</th>\n",
       "      <th>count</th>\n",
       "      <th>mean</th>\n",
       "      <th>std</th>\n",
       "      <th>min</th>\n",
       "      <th>25%</th>\n",
       "      <th>50%</th>\n",
       "      <th>75%</th>\n",
       "      <th>max</th>\n",
       "    </tr>\n",
       "    <tr>\n",
       "      <th>score</th>\n",
       "      <th></th>\n",
       "      <th></th>\n",
       "      <th></th>\n",
       "      <th></th>\n",
       "      <th></th>\n",
       "      <th></th>\n",
       "      <th></th>\n",
       "      <th></th>\n",
       "      <th></th>\n",
       "      <th></th>\n",
       "      <th></th>\n",
       "      <th></th>\n",
       "      <th></th>\n",
       "      <th></th>\n",
       "      <th></th>\n",
       "      <th></th>\n",
       "    </tr>\n",
       "  </thead>\n",
       "  <tbody>\n",
       "    <tr>\n",
       "      <th>1</th>\n",
       "      <td>11741.0</td>\n",
       "      <td>-0.094105</td>\n",
       "      <td>0.262862</td>\n",
       "      <td>-1.0</td>\n",
       "      <td>-0.225000</td>\n",
       "      <td>-0.029167</td>\n",
       "      <td>0.008333</td>\n",
       "      <td>1.0</td>\n",
       "      <td>11741.0</td>\n",
       "      <td>0.404354</td>\n",
       "      <td>0.249013</td>\n",
       "      <td>0.0</td>\n",
       "      <td>0.266667</td>\n",
       "      <td>0.431944</td>\n",
       "      <td>0.557143</td>\n",
       "      <td>1.0</td>\n",
       "    </tr>\n",
       "    <tr>\n",
       "      <th>2</th>\n",
       "      <td>3551.0</td>\n",
       "      <td>-0.028086</td>\n",
       "      <td>0.234338</td>\n",
       "      <td>-1.0</td>\n",
       "      <td>-0.137500</td>\n",
       "      <td>0.000000</td>\n",
       "      <td>0.091667</td>\n",
       "      <td>1.0</td>\n",
       "      <td>3551.0</td>\n",
       "      <td>0.449495</td>\n",
       "      <td>0.207566</td>\n",
       "      <td>0.0</td>\n",
       "      <td>0.377778</td>\n",
       "      <td>0.473854</td>\n",
       "      <td>0.567137</td>\n",
       "      <td>1.0</td>\n",
       "    </tr>\n",
       "    <tr>\n",
       "      <th>3</th>\n",
       "      <td>6139.0</td>\n",
       "      <td>0.023203</td>\n",
       "      <td>0.238115</td>\n",
       "      <td>-1.0</td>\n",
       "      <td>-0.089087</td>\n",
       "      <td>0.000000</td>\n",
       "      <td>0.150000</td>\n",
       "      <td>1.0</td>\n",
       "      <td>6139.0</td>\n",
       "      <td>0.463227</td>\n",
       "      <td>0.208378</td>\n",
       "      <td>0.0</td>\n",
       "      <td>0.393899</td>\n",
       "      <td>0.490000</td>\n",
       "      <td>0.581667</td>\n",
       "      <td>1.0</td>\n",
       "    </tr>\n",
       "    <tr>\n",
       "      <th>4</th>\n",
       "      <td>11260.0</td>\n",
       "      <td>0.117292</td>\n",
       "      <td>0.241213</td>\n",
       "      <td>-1.0</td>\n",
       "      <td>0.000000</td>\n",
       "      <td>0.100000</td>\n",
       "      <td>0.232292</td>\n",
       "      <td>1.0</td>\n",
       "      <td>11260.0</td>\n",
       "      <td>0.497978</td>\n",
       "      <td>0.207167</td>\n",
       "      <td>0.0</td>\n",
       "      <td>0.411301</td>\n",
       "      <td>0.516667</td>\n",
       "      <td>0.611938</td>\n",
       "      <td>1.0</td>\n",
       "    </tr>\n",
       "    <tr>\n",
       "      <th>5</th>\n",
       "      <td>63979.0</td>\n",
       "      <td>0.219335</td>\n",
       "      <td>0.287973</td>\n",
       "      <td>-1.0</td>\n",
       "      <td>0.000000</td>\n",
       "      <td>0.200000</td>\n",
       "      <td>0.350000</td>\n",
       "      <td>1.0</td>\n",
       "      <td>63979.0</td>\n",
       "      <td>0.501942</td>\n",
       "      <td>0.241629</td>\n",
       "      <td>0.0</td>\n",
       "      <td>0.400000</td>\n",
       "      <td>0.532292</td>\n",
       "      <td>0.650000</td>\n",
       "      <td>1.0</td>\n",
       "    </tr>\n",
       "  </tbody>\n",
       "</table>\n",
       "</div>"
      ],
      "text/plain": [
       "      polarity                                                              \\\n",
       "         count      mean       std  min       25%       50%       75%  max   \n",
       "score                                                                        \n",
       "1      11741.0 -0.094105  0.262862 -1.0 -0.225000 -0.029167  0.008333  1.0   \n",
       "2       3551.0 -0.028086  0.234338 -1.0 -0.137500  0.000000  0.091667  1.0   \n",
       "3       6139.0  0.023203  0.238115 -1.0 -0.089087  0.000000  0.150000  1.0   \n",
       "4      11260.0  0.117292  0.241213 -1.0  0.000000  0.100000  0.232292  1.0   \n",
       "5      63979.0  0.219335  0.287973 -1.0  0.000000  0.200000  0.350000  1.0   \n",
       "\n",
       "      subjectivity                                                              \n",
       "             count      mean       std  min       25%       50%       75%  max  \n",
       "score                                                                           \n",
       "1          11741.0  0.404354  0.249013  0.0  0.266667  0.431944  0.557143  1.0  \n",
       "2           3551.0  0.449495  0.207566  0.0  0.377778  0.473854  0.567137  1.0  \n",
       "3           6139.0  0.463227  0.208378  0.0  0.393899  0.490000  0.581667  1.0  \n",
       "4          11260.0  0.497978  0.207167  0.0  0.411301  0.516667  0.611938  1.0  \n",
       "5          63979.0  0.501942  0.241629  0.0  0.400000  0.532292  0.650000  1.0  "
      ]
     },
     "execution_count": 4,
     "metadata": {},
     "output_type": "execute_result"
    }
   ],
   "source": [
    "df.groupby('score')[['polarity', 'subjectivity']].describe()"
   ]
  },
  {
   "cell_type": "code",
   "execution_count": 5,
   "metadata": {
    "ExecuteTime": {
     "end_time": "2020-12-29T03:00:49.373969Z",
     "start_time": "2020-12-29T03:00:49.358978Z"
    }
   },
   "outputs": [],
   "source": [
    "data = df.iloc[:1000].copy()"
   ]
  },
  {
   "cell_type": "code",
   "execution_count": 6,
   "metadata": {
    "ExecuteTime": {
     "end_time": "2020-12-29T03:00:49.623474Z",
     "start_time": "2020-12-29T03:00:49.375728Z"
    }
   },
   "outputs": [
    {
     "data": {
      "text/plain": [
       "<AxesSubplot:xlabel='polarity', ylabel='score'>"
      ]
     },
     "execution_count": 6,
     "metadata": {},
     "output_type": "execute_result"
    },
    {
     "data": {
      "image/png": "[encoded data removed]",
      "text/plain": [
       "<Figure size 432x288 with 1 Axes>"
      ]
     },
     "metadata": {
      "needs_background": "light"
     },
     "output_type": "display_data"
    }
   ],
   "source": [
    "sns.boxplot(x = df['polarity'], y = df['score'], orient = 'h')"
   ]
  },
  {
   "cell_type": "code",
   "execution_count": 7,
   "metadata": {
    "ExecuteTime": {
     "end_time": "2020-12-29T03:00:49.830476Z",
     "start_time": "2020-12-29T03:00:49.624479Z"
    }
   },
   "outputs": [
    {
     "data": {
      "text/plain": [
       "<AxesSubplot:xlabel='subjectivity', ylabel='score'>"
      ]
     },
     "execution_count": 7,
     "metadata": {},
     "output_type": "execute_result"
    },
    {
     "data": {
      "image/png": "[encoded data removed]",
      "text/plain": [
       "<Figure size 432x288 with 1 Axes>"
      ]
     },
     "metadata": {
      "needs_background": "light"
     },
     "output_type": "display_data"
    }
   ],
   "source": [
    "sns.boxplot(x = df['subjectivity'], y = df['score'], orient = 'h')"
   ]
  },
  {
   "cell_type": "code",
   "execution_count": null,
   "metadata": {},
   "outputs": [],
   "source": []
  }
 ],
 "metadata": {
  "kernelspec": {
   "display_name": "Python 3",
   "language": "python",
   "name": "python3"
  },
  "language_info": {
   "codemirror_mode": {
    "name": "ipython",
    "version": 3
   },
   "file_extension": ".py",
   "mimetype": "text/x-python",
   "name": "python",
   "nbconvert_exporter": "python",
   "pygments_lexer": "ipython3",
   "version": "3.7.9"
  },
  "toc": {
   "base_numbering": 1,
   "nav_menu": {},
   "number_sections": false,
   "sideBar": true,
   "skip_h1_title": false,
   "title_cell": "Table of Contents",
   "title_sidebar": "Contents",
   "toc_cell": false,
   "toc_position": {
    "height": "calc(100% - 180px)",
    "left": "10px",
    "top": "150px",
    "width": "384px"
   },
   "toc_section_display": true,
   "toc_window_display": true
  }
 },
 "nbformat": 4,
 "nbformat_minor": 4
}
