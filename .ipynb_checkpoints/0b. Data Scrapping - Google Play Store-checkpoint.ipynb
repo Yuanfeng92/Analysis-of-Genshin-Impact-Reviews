{
 "cells": [
  {
   "cell_type": "code",
   "execution_count": null,
   "metadata": {
    "cell_id": "00000-f44810ad-a196-4ecc-a8bc-2e1a31d968ef",
    "deepnote_cell_type": "code",
    "execution_millis": 5,
    "execution_start": 1608192215909,
    "output_cleared": false,
    "source_hash": "f318d4c5",
    "tags": []
   },
   "outputs": [],
   "source": [
    "from google_play_scraper import app\n",
    "from google_play_scraper import Sort, reviews_all\n",
    "import numpy as np\n",
    "import pandas as pd\n",
    "from datetime import date, datetime"
   ]
  },
  {
   "cell_type": "markdown",
   "metadata": {},
   "source": [
    "The issue with the Google Play Store scraper is that there is a random factor to the scrapping. This is likely because Google Play Store server side is trying to detect scrapper and stop the process. \n",
    "\n",
    "Hence, I will use a loop and a function to continuously run the scraper to obtain a dataset that has more than 100,000 reviews."
   ]
  },
  {
   "cell_type": "code",
   "execution_count": null,
   "metadata": {
    "cell_id": "00002-6adc9c18-515a-4693-8946-c71432bb91e1",
    "deepnote_cell_type": "code",
    "execution_millis": 1,
    "execution_start": 1608192554146,
    "output_cleared": false,
    "source_hash": "5878f12",
    "tags": []
   },
   "outputs": [],
   "source": [
    "def continuous_scrapper(avg, std):\n",
    "\n",
    "    wait_time = abs(np.random.normal(avg, std))\n",
    "\n",
    "    result = reviews_all('com.miHoYo.GenshinImpact',\n",
    "        sleep_milliseconds=wait_time,  # defaults to 0\n",
    "        lang='en',  # defaults to 'en'\n",
    "        country='us',  # defaults to 'us'\n",
    "        sort=Sort.MOST_RELEVANT,  # defaults to Sort.MOST_RELEVANT\n",
    "    )\n",
    "\n",
    "    reviews_df = pd.DataFrame(result).drop_duplicates('reviewId')\n",
    "\n",
    "    num_records = len(reviews_df)\n",
    "\n",
    "    if num_records > 15_000:\n",
    "\n",
    "        now = datetime.now().strftime(\"%d_%b_%H%M\")\n",
    "        reviews_df.to_csv(f'scrapper_{len(reviews_df)}_{now}.csv', index=False)\n",
    "\n",
    "        print(f'{num_records} records found! <csv saved>')"
   ]
  },
  {
   "cell_type": "code",
   "execution_count": null,
   "metadata": {
    "cell_id": "00003-cdfb7902-f029-4000-ac7e-d377e1f5d846",
    "deepnote_cell_type": "code",
    "execution_millis": 96610736,
    "execution_start": 1608193894690,
    "output_cleared": false,
    "scrolled": true,
    "source_hash": "b8317161",
    "tags": []
   },
   "outputs": [
    {
     "name": "stdout",
     "output_type": "stream",
     "text": [
      "101230 records found! <csv saved>\n",
      "96640 records found! <csv saved>\n",
      "100336 records found! <csv saved>\n",
      "100879 records found! <csv saved>\n",
      "97816 records found! <csv saved>\n",
      "102291 records found! <csv saved>\n",
      "101028 records found! <csv saved>\n",
      "101523 records found! <csv saved>\n",
      "101214 records found! <csv saved>\n",
      "101775 records found! <csv saved>\n",
      "100060 records found! <csv saved>\n",
      "100388 records found! <csv saved>\n",
      "99633 records found! <csv saved>\n",
      "101689 records found! <csv saved>\n",
      "101835 records found! <csv saved>\n",
      "101755 records found! <csv saved>\n",
      "98176 records found! <csv saved>\n",
      "98930 records found! <csv saved>\n",
      "102411 records found! <csv saved>\n",
      "100711 records found! <csv saved>\n",
      "101766 records found! <csv saved>\n",
      "102016 records found! <csv saved>\n",
      "97829 records found! <csv saved>\n",
      "99003 records found! <csv saved>\n",
      "100061 records found! <csv saved>\n",
      "99898 records found! <csv saved>\n",
      "101414 records found! <csv saved>\n",
      "100490 records found! <csv saved>\n",
      "101359 records found! <csv saved>\n",
      "101879 records found! <csv saved>\n",
      "101101 records found! <csv saved>\n",
      "100729 records found! <csv saved>\n",
      "101003 records found! <csv saved>\n",
      "102503 records found! <csv saved>\n",
      "102193 records found! <csv saved>\n",
      "99959 records found! <csv saved>\n",
      "101277 records found! <csv saved>\n",
      "101932 records found! <csv saved>\n",
      "102582 records found! <csv saved>\n",
      "101818 records found! <csv saved>\n",
      "99676 records found! <csv saved>\n",
      "100794 records found! <csv saved>\n",
      "99782 records found! <csv saved>\n",
      "101304 records found! <csv saved>\n",
      "101983 records found! <csv saved>\n",
      "99390 records found! <csv saved>\n"
     ]
    },
    {
     "ename": "KeyboardInterrupt",
     "evalue": "",
     "output_type": "error",
     "traceback": [
      "\u001b[0;31m---------------------------------------------------------------------------\u001b[0m",
      "\u001b[0;31mKeyboardInterrupt\u001b[0m                         Traceback (most recent call last)",
      "\u001b[0;32m<ipython-input-9-63816801371d>\u001b[0m in \u001b[0;36m<module>\u001b[0;34m\u001b[0m\n\u001b[1;32m      1\u001b[0m \u001b[0;32mfor\u001b[0m \u001b[0mi\u001b[0m \u001b[0;32min\u001b[0m \u001b[0mrange\u001b[0m\u001b[0;34m(\u001b[0m\u001b[0;36m100_000\u001b[0m\u001b[0;34m)\u001b[0m\u001b[0;34m:\u001b[0m\u001b[0;34m\u001b[0m\u001b[0;34m\u001b[0m\u001b[0m\n\u001b[0;32m----> 2\u001b[0;31m     \u001b[0mcontinuous_scrapper\u001b[0m\u001b[0;34m(\u001b[0m\u001b[0;36m2000\u001b[0m\u001b[0;34m,\u001b[0m \u001b[0;36m4000\u001b[0m\u001b[0;34m)\u001b[0m\u001b[0;34m\u001b[0m\u001b[0;34m\u001b[0m\u001b[0m\n\u001b[0m",
      "\u001b[0;32m<ipython-input-7-ca9e4e97b313>\u001b[0m in \u001b[0;36mcontinuous_scrapper\u001b[0;34m(avg, std)\u001b[0m\n\u001b[1;32m      7\u001b[0m         \u001b[0mlang\u001b[0m\u001b[0;34m=\u001b[0m\u001b[0;34m'en'\u001b[0m\u001b[0;34m,\u001b[0m  \u001b[0;31m# defaults to 'en'\u001b[0m\u001b[0;34m\u001b[0m\u001b[0;34m\u001b[0m\u001b[0m\n\u001b[1;32m      8\u001b[0m         \u001b[0mcountry\u001b[0m\u001b[0;34m=\u001b[0m\u001b[0;34m'us'\u001b[0m\u001b[0;34m,\u001b[0m  \u001b[0;31m# defaults to 'us'\u001b[0m\u001b[0;34m\u001b[0m\u001b[0;34m\u001b[0m\u001b[0m\n\u001b[0;32m----> 9\u001b[0;31m         \u001b[0msort\u001b[0m\u001b[0;34m=\u001b[0m\u001b[0mSort\u001b[0m\u001b[0;34m.\u001b[0m\u001b[0mMOST_RELEVANT\u001b[0m\u001b[0;34m,\u001b[0m  \u001b[0;31m# defaults to Sort.MOST_RELEVANT\u001b[0m\u001b[0;34m\u001b[0m\u001b[0;34m\u001b[0m\u001b[0m\n\u001b[0m\u001b[1;32m     10\u001b[0m     )\n\u001b[1;32m     11\u001b[0m \u001b[0;34m\u001b[0m\u001b[0m\n",
      "\u001b[0;32m/opt/venv/lib/python3.7/site-packages/google_play_scraper/features/reviews.py\u001b[0m in \u001b[0;36mreviews_all\u001b[0;34m(app_id, sleep_milliseconds, **kwargs)\u001b[0m\n\u001b[1;32m    161\u001b[0m \u001b[0;34m\u001b[0m\u001b[0m\n\u001b[1;32m    162\u001b[0m         \u001b[0;32mif\u001b[0m \u001b[0msleep_milliseconds\u001b[0m\u001b[0;34m:\u001b[0m\u001b[0;34m\u001b[0m\u001b[0;34m\u001b[0m\u001b[0m\n\u001b[0;32m--> 163\u001b[0;31m             \u001b[0msleep\u001b[0m\u001b[0;34m(\u001b[0m\u001b[0msleep_milliseconds\u001b[0m \u001b[0;34m/\u001b[0m \u001b[0;36m1000\u001b[0m\u001b[0;34m)\u001b[0m\u001b[0;34m\u001b[0m\u001b[0;34m\u001b[0m\u001b[0m\n\u001b[0m\u001b[1;32m    164\u001b[0m \u001b[0;34m\u001b[0m\u001b[0m\n\u001b[1;32m    165\u001b[0m     \u001b[0;32mreturn\u001b[0m \u001b[0mresult\u001b[0m\u001b[0;34m\u001b[0m\u001b[0;34m\u001b[0m\u001b[0m\n",
      "\u001b[0;31mKeyboardInterrupt\u001b[0m: "
     ]
    }
   ],
   "source": [
    "# after some testing, it is found that an avg of 2000ms and std of 4000ms results in a good amount of reviews scrapped.\n",
    "\n",
    "for i in range(100):\n",
    "    continuous_scrapper(2000, 4000)  "
   ]
  },
  {
   "cell_type": "code",
   "execution_count": null,
   "metadata": {
    "cell_id": "00005-b43867bc-1c65-467e-934a-7f20481ddec8",
    "deepnote_cell_type": "code",
    "tags": []
   },
   "outputs": [],
   "source": []
  }
 ],
 "metadata": {
  "deepnote_execution_queue": [],
  "deepnote_notebook_id": "d4d9079b-f2d2-4f38-9c39-84e4f531702a",
  "kernelspec": {
   "display_name": "Python 3",
   "language": "python",
   "name": "python3"
  },
  "language_info": {
   "codemirror_mode": {
    "name": "ipython",
    "version": 3
   },
   "file_extension": ".py",
   "mimetype": "text/x-python",
   "name": "python",
   "nbconvert_exporter": "python",
   "pygments_lexer": "ipython3",
   "version": "3.7.9"
  },
  "toc": {
   "base_numbering": 1,
   "nav_menu": {},
   "number_sections": false,
   "sideBar": true,
   "skip_h1_title": false,
   "title_cell": "Table of Contents",
   "title_sidebar": "Contents",
   "toc_cell": false,
   "toc_position": {},
   "toc_section_display": true,
   "toc_window_display": false
  }
 },
 "nbformat": 4,
 "nbformat_minor": 2
}
