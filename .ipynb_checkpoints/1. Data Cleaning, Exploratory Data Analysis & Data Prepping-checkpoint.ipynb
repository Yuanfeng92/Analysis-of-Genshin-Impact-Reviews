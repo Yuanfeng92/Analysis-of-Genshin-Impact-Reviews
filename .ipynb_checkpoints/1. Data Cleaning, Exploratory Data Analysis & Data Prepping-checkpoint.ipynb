{
 "cells": [
  {
   "cell_type": "markdown",
   "metadata": {},
   "source": [
    "- Vader\n",
    "- Compare the NER against other type of games"
   ]
  },
  {
   "cell_type": "markdown",
   "metadata": {},
   "source": [
    "# Import Libraries and Dataset"
   ]
  },
  {
   "cell_type": "code",
   "execution_count": 1,
   "metadata": {
    "ExecuteTime": {
     "end_time": "2021-01-12T08:54:12.205690Z",
     "start_time": "2021-01-12T08:54:05.718800Z"
    }
   },
   "outputs": [],
   "source": [
    "import pandas as pd\n",
    "import numpy as np\n",
    "import matplotlib.pyplot as plt\n",
    "import seaborn as sns\n",
    "sns.set_style('whitegrid')\n",
    "\n",
    "import re\n",
    "\n",
    "import nltk\n",
    "from nltk.tokenize import TweetTokenizer, RegexpTokenizer\n",
    "from nltk.corpus import wordnet\n",
    "from nltk.stem import WordNetLemmatizer\n",
    "\n",
    "import enchant\n",
    "\n",
    "from datetime import datetime, timedelta"
   ]
  },
  {
   "cell_type": "code",
   "execution_count": 147,
   "metadata": {
    "ExecuteTime": {
     "end_time": "2021-01-10T16:57:27.564760Z",
     "start_time": "2021-01-10T16:57:27.479814Z"
    }
   },
   "outputs": [
    {
     "data": {
      "text/html": [
       "<div>\n",
       "<style scoped>\n",
       "    .dataframe tbody tr th:only-of-type {\n",
       "        vertical-align: middle;\n",
       "    }\n",
       "\n",
       "    .dataframe tbody tr th {\n",
       "        vertical-align: top;\n",
       "    }\n",
       "\n",
       "    .dataframe thead th {\n",
       "        text-align: right;\n",
       "    }\n",
       "</style>\n",
       "<table border=\"1\" class=\"dataframe\">\n",
       "  <thead>\n",
       "    <tr style=\"text-align: right;\">\n",
       "      <th></th>\n",
       "      <th>content</th>\n",
       "      <th>score</th>\n",
       "      <th>date</th>\n",
       "      <th>thumbsUp</th>\n",
       "      <th>source</th>\n",
       "    </tr>\n",
       "  </thead>\n",
       "  <tbody>\n",
       "    <tr>\n",
       "      <th>0</th>\n",
       "      <td>The graphics are gorgeous, the gameplay is inc...</td>\n",
       "      <td>5</td>\n",
       "      <td>2020-12-11 13:55:29</td>\n",
       "      <td>881.0</td>\n",
       "      <td>google_play_store</td>\n",
       "    </tr>\n",
       "    <tr>\n",
       "      <th>1</th>\n",
       "      <td>If you love free world RPG, then this is it! T...</td>\n",
       "      <td>5</td>\n",
       "      <td>2020-12-16 18:10:47</td>\n",
       "      <td>48.0</td>\n",
       "      <td>google_play_store</td>\n",
       "    </tr>\n",
       "    <tr>\n",
       "      <th>2</th>\n",
       "      <td>I absolutely love the game! No complaints besi...</td>\n",
       "      <td>5</td>\n",
       "      <td>2020-12-16 00:18:43</td>\n",
       "      <td>185.0</td>\n",
       "      <td>google_play_store</td>\n",
       "    </tr>\n",
       "    <tr>\n",
       "      <th>3</th>\n",
       "      <td>Great game. Regardless of ripoff issues and su...</td>\n",
       "      <td>4</td>\n",
       "      <td>2020-12-16 12:46:11</td>\n",
       "      <td>1.0</td>\n",
       "      <td>google_play_store</td>\n",
       "    </tr>\n",
       "    <tr>\n",
       "      <th>4</th>\n",
       "      <td>Amazing graphics and gameplay although a lot o...</td>\n",
       "      <td>5</td>\n",
       "      <td>2020-12-10 22:51:08</td>\n",
       "      <td>186.0</td>\n",
       "      <td>google_play_store</td>\n",
       "    </tr>\n",
       "  </tbody>\n",
       "</table>\n",
       "</div>"
      ],
      "text/plain": [
       "                                             content  score  \\\n",
       "0  The graphics are gorgeous, the gameplay is inc...      5   \n",
       "1  If you love free world RPG, then this is it! T...      5   \n",
       "2  I absolutely love the game! No complaints besi...      5   \n",
       "3  Great game. Regardless of ripoff issues and su...      4   \n",
       "4  Amazing graphics and gameplay although a lot o...      5   \n",
       "\n",
       "                 date  thumbsUp             source  \n",
       "0 2020-12-11 13:55:29     881.0  google_play_store  \n",
       "1 2020-12-16 18:10:47      48.0  google_play_store  \n",
       "2 2020-12-16 00:18:43     185.0  google_play_store  \n",
       "3 2020-12-16 12:46:11       1.0  google_play_store  \n",
       "4 2020-12-10 22:51:08     186.0  google_play_store  "
      ]
     },
     "execution_count": 147,
     "metadata": {},
     "output_type": "execute_result"
    }
   ],
   "source": [
    "combined_df = pd.read_pickle('data/combined_df.p')\n",
    "\n",
    "df = combined_df.copy()\n",
    "\n",
    "df.head()"
   ]
  },
  {
   "cell_type": "code",
   "execution_count": 148,
   "metadata": {
    "ExecuteTime": {
     "end_time": "2021-01-10T16:57:27.754810Z",
     "start_time": "2021-01-10T16:57:27.726829Z"
    }
   },
   "outputs": [
    {
     "data": {
      "text/plain": [
       "google_play_store    0.898274\n",
       "apple_app_store      0.101726\n",
       "Name: source, dtype: float64"
      ]
     },
     "execution_count": 148,
     "metadata": {},
     "output_type": "execute_result"
    }
   ],
   "source": [
    "df['source'].value_counts(normalize = True)"
   ]
  },
  {
   "cell_type": "code",
   "execution_count": 149,
   "metadata": {
    "ExecuteTime": {
     "end_time": "2021-01-10T16:57:28.411357Z",
     "start_time": "2021-01-10T16:57:28.381373Z"
    }
   },
   "outputs": [
    {
     "name": "stdout",
     "output_type": "stream",
     "text": [
      "<class 'pandas.core.frame.DataFrame'>\n",
      "RangeIndex: 114199 entries, 0 to 114198\n",
      "Data columns (total 5 columns):\n",
      " #   Column    Non-Null Count   Dtype         \n",
      "---  ------    --------------   -----         \n",
      " 0   content   114199 non-null  object        \n",
      " 1   score     114199 non-null  int64         \n",
      " 2   date      114199 non-null  datetime64[ns]\n",
      " 3   thumbsUp  102582 non-null  float64       \n",
      " 4   source    114199 non-null  object        \n",
      "dtypes: datetime64[ns](1), float64(1), int64(1), object(2)\n",
      "memory usage: 4.4+ MB\n"
     ]
    }
   ],
   "source": [
    "df.info()"
   ]
  },
  {
   "cell_type": "code",
   "execution_count": 150,
   "metadata": {
    "ExecuteTime": {
     "end_time": "2021-01-10T16:57:28.677277Z",
     "start_time": "2021-01-10T16:57:28.646297Z"
    }
   },
   "outputs": [
    {
     "data": {
      "text/plain": [
       "content         0\n",
       "score           0\n",
       "date            0\n",
       "thumbsUp    11617\n",
       "source          0\n",
       "dtype: int64"
      ]
     },
     "execution_count": 150,
     "metadata": {},
     "output_type": "execute_result"
    }
   ],
   "source": [
    "df.isnull().sum()"
   ]
  },
  {
   "cell_type": "code",
   "execution_count": 151,
   "metadata": {
    "ExecuteTime": {
     "end_time": "2021-01-10T16:57:29.083589Z",
     "start_time": "2021-01-10T16:57:28.901188Z"
    }
   },
   "outputs": [
    {
     "data": {
      "text/plain": [
       "<AxesSubplot:>"
      ]
     },
     "execution_count": 151,
     "metadata": {},
     "output_type": "execute_result"
    },
    {
     "data": {
      "image/png": "[encoded data removed]",
      "text/plain": [
       "<Figure size 432x288 with 1 Axes>"
      ]
     },
     "metadata": {},
     "output_type": "display_data"
    }
   ],
   "source": [
    "df['score'].value_counts(normalize = True, sort = False).plot(kind = 'bar')"
   ]
  },
  {
   "cell_type": "code",
   "execution_count": 152,
   "metadata": {
    "ExecuteTime": {
     "end_time": "2021-01-10T16:57:29.831196Z",
     "start_time": "2021-01-10T16:57:29.664906Z"
    }
   },
   "outputs": [
    {
     "data": {
      "text/plain": [
       "<AxesSubplot:>"
      ]
     },
     "execution_count": 152,
     "metadata": {},
     "output_type": "execute_result"
    },
    {
     "data": {
      "image/png": "[encoded data removed]",
      "text/plain": [
       "<Figure size 432x288 with 1 Axes>"
      ]
     },
     "metadata": {},
     "output_type": "display_data"
    }
   ],
   "source": [
    "df['source'].value_counts(normalize = True, sort = False).plot(kind = 'barh')"
   ]
  },
  {
   "cell_type": "markdown",
   "metadata": {},
   "source": [
    "# Data Cleaning"
   ]
  },
  {
   "cell_type": "markdown",
   "metadata": {},
   "source": [
    "## Length of Reviews"
   ]
  },
  {
   "cell_type": "code",
   "execution_count": 155,
   "metadata": {
    "ExecuteTime": {
     "end_time": "2021-01-10T16:57:38.619279Z",
     "start_time": "2021-01-10T16:57:38.603289Z"
    }
   },
   "outputs": [],
   "source": [
    "# define simple text processing function\n",
    "def simple_text_processing(text):\n",
    "\n",
    "    # remove non-letters\n",
    "    letters_only = re.sub(\"[^a-zA-Z]\", \" \", text)\n",
    "\n",
    "    # convert each word to lower case\n",
    "    words = letters_only.lower().split()\n",
    "                        \n",
    "    return words"
   ]
  },
  {
   "cell_type": "code",
   "execution_count": 108,
   "metadata": {
    "ExecuteTime": {
     "end_time": "2021-01-10T16:30:10.252813Z",
     "start_time": "2021-01-10T16:30:10.241823Z"
    },
    "deletable": false,
    "editable": false,
    "run_control": {
     "frozen": true
    }
   },
   "outputs": [],
   "source": [
    "def get_sent_post(sentence):\n",
    "    word_tag = nltk.pos_tag(sentence)\n",
    "\n",
    "    new_word_tag = []\n",
    "\n",
    "    for word, tag in word_tag:\n",
    "        new_tag = tag[0]\n",
    "        tag_dict = {\"J\": wordnet.ADJ,\n",
    "                    \"N\": wordnet.NOUN,\n",
    "                    \"V\": wordnet.VERB,\n",
    "                    \"R\": wordnet.ADV}\n",
    "\n",
    "        new_word_tag.append((word, tag_dict.get(new_tag, wordnet.NOUN)))\n",
    "    \n",
    "    return new_word_tag\n",
    "\n",
    "# define simple text processing function\n",
    "def simple_text_processing(text):\n",
    "\n",
    "    # remove non-letters\n",
    "    letters_only = re.sub(\"[^a-zA-Z]\", \" \", text)\n",
    "\n",
    "    # convert each word to lower case\n",
    "    words = letters_only.lower().split()\n",
    "    \n",
    "    lemmatizer = WordNetLemmatizer()\n",
    "\n",
    "    # using NLTK's lemmatizer as it returns words into their base forms\n",
    "    # it performs better than many other lemmatizer (and stemmers) as it takes into account the part-of-speech of the word\n",
    "    texts_out = [lemmatizer.lemmatize(word, pos) for word, pos in get_sent_post(words)]\n",
    "                        \n",
    "    return texts_out"
   ]
  },
  {
   "cell_type": "code",
   "execution_count": 156,
   "metadata": {
    "ExecuteTime": {
     "end_time": "2021-01-10T16:57:41.779234Z",
     "start_time": "2021-01-10T16:57:40.227454Z"
    }
   },
   "outputs": [],
   "source": [
    "df['text'] = df['content'].map(lambda x: simple_text_processing(x))\n",
    "\n",
    "df['length'] = df['text'].apply(lambda x: len(x))"
   ]
  },
  {
   "cell_type": "code",
   "execution_count": 157,
   "metadata": {
    "ExecuteTime": {
     "end_time": "2021-01-10T16:57:43.224759Z",
     "start_time": "2021-01-10T16:57:43.026884Z"
    }
   },
   "outputs": [
    {
     "data": {
      "image/png": "[encoded data removed]",
      "text/plain": [
       "<Figure size 1152x288 with 1 Axes>"
      ]
     },
     "metadata": {},
     "output_type": "display_data"
    }
   ],
   "source": [
    "plt.figure(figsize = (16, 4))\n",
    "sns.boxplot(x = 'length', orient = 'h', data = df)\n",
    "plt.show()"
   ]
  },
  {
   "cell_type": "code",
   "execution_count": 158,
   "metadata": {
    "ExecuteTime": {
     "end_time": "2021-01-10T16:57:44.720128Z",
     "start_time": "2021-01-10T16:57:44.699140Z"
    }
   },
   "outputs": [
    {
     "data": {
      "text/plain": [
       "count    114199.000000\n",
       "mean         22.427674\n",
       "std          30.777231\n",
       "min           0.000000\n",
       "25%           4.000000\n",
       "50%          11.000000\n",
       "75%          30.000000\n",
       "max        1095.000000\n",
       "Name: length, dtype: float64"
      ]
     },
     "execution_count": 158,
     "metadata": {},
     "output_type": "execute_result"
    }
   ],
   "source": [
    "df['length'].describe()"
   ]
  },
  {
   "cell_type": "code",
   "execution_count": 159,
   "metadata": {
    "ExecuteTime": {
     "end_time": "2021-01-10T16:57:46.276010Z",
     "start_time": "2021-01-10T16:57:46.100107Z"
    }
   },
   "outputs": [
    {
     "data": {
      "image/png": "[encoded data removed]",
      "text/plain": [
       "<Figure size 432x288 with 1 Axes>"
      ]
     },
     "metadata": {},
     "output_type": "display_data"
    },
    {
     "name": "stdout",
     "output_type": "stream",
     "text": [
      "14761 records with text length more than 50\n"
     ]
    }
   ],
   "source": [
    "# number of rows with text length more than 50\n",
    "df[df['length'] > 50]['score'].value_counts(normalize = True, sort = False).plot(kind = 'bar')\n",
    "plt.show()\n",
    "\n",
    "print(f\"{df[df['length'] > 50].shape[0]} records with text length more than 50\")"
   ]
  },
  {
   "cell_type": "markdown",
   "metadata": {},
   "source": [
    "There are too many records with text length more than 50. This may result in an unnecessary loss of information."
   ]
  },
  {
   "cell_type": "code",
   "execution_count": 160,
   "metadata": {
    "ExecuteTime": {
     "end_time": "2021-01-10T16:57:47.596518Z",
     "start_time": "2021-01-10T16:57:47.431676Z"
    }
   },
   "outputs": [
    {
     "data": {
      "image/png": "[encoded data removed]",
      "text/plain": [
       "<Figure size 432x288 with 1 Axes>"
      ]
     },
     "metadata": {},
     "output_type": "display_data"
    },
    {
     "name": "stdout",
     "output_type": "stream",
     "text": [
      "1712 records with text length more than 100\n"
     ]
    }
   ],
   "source": [
    "# score distribution of rows with text length more than 100\n",
    "df[df['length'] > 100]['score'].value_counts(normalize = True, sort = False).plot(kind = 'bar')\n",
    "plt.show()\n",
    "\n",
    "print(f\"{df[df['length'] > 100].shape[0]} records with text length more than 100\")"
   ]
  },
  {
   "cell_type": "code",
   "execution_count": 161,
   "metadata": {
    "ExecuteTime": {
     "end_time": "2021-01-10T16:57:48.454243Z",
     "start_time": "2021-01-10T16:57:48.261544Z"
    }
   },
   "outputs": [
    {
     "data": {
      "image/png": "[encoded data removed]",
      "text/plain": [
       "<Figure size 432x288 with 1 Axes>"
      ]
     },
     "metadata": {},
     "output_type": "display_data"
    }
   ],
   "source": [
    "# source distribution of rows with text length more than 100\n",
    "df[df['length'] > 100]['source'].value_counts(normalize = True, sort = False).plot(kind = 'barh')\n",
    "plt.show()"
   ]
  },
  {
   "cell_type": "code",
   "execution_count": 162,
   "metadata": {
    "ExecuteTime": {
     "end_time": "2021-01-10T16:57:48.831574Z",
     "start_time": "2021-01-10T16:57:48.656683Z"
    }
   },
   "outputs": [
    {
     "data": {
      "image/png": "[encoded data removed]",
      "text/plain": [
       "<Figure size 432x288 with 1 Axes>"
      ]
     },
     "metadata": {},
     "output_type": "display_data"
    },
    {
     "name": "stdout",
     "output_type": "stream",
     "text": [
      "21334 records with text length less than 3\n"
     ]
    }
   ],
   "source": [
    "# score distribution of rows with text length less than 3\n",
    "df[df['length'] < 3]['score'].value_counts(normalize = True, sort = False).plot(kind = 'bar')\n",
    "plt.show()\n",
    "\n",
    "print(f\"{df[df['length'] < 3].shape[0]} records with text length less than 3\")"
   ]
  },
  {
   "cell_type": "code",
   "execution_count": 163,
   "metadata": {
    "ExecuteTime": {
     "end_time": "2021-01-10T16:57:49.163406Z",
     "start_time": "2021-01-10T16:57:48.972524Z"
    }
   },
   "outputs": [
    {
     "data": {
      "image/png": "[encoded data removed]",
      "text/plain": [
       "<Figure size 432x288 with 1 Axes>"
      ]
     },
     "metadata": {},
     "output_type": "display_data"
    }
   ],
   "source": [
    "# source distribution of rows with text length less than 3\n",
    "df[df['length'] < 3]['source'].value_counts(normalize = True, sort = False).plot(kind = 'barh')\n",
    "plt.show()"
   ]
  },
  {
   "cell_type": "code",
   "execution_count": 164,
   "metadata": {
    "ExecuteTime": {
     "end_time": "2021-01-10T16:57:49.931943Z",
     "start_time": "2021-01-10T16:57:49.745742Z"
    }
   },
   "outputs": [
    {
     "data": {
      "image/png": "[encoded data removed]",
      "text/plain": [
       "<Figure size 432x288 with 1 Axes>"
      ]
     },
     "metadata": {},
     "output_type": "display_data"
    },
    {
     "name": "stdout",
     "output_type": "stream",
     "text": [
      "91153 records with text length between 3 to 100\n"
     ]
    }
   ],
   "source": [
    "# score distribution of rows with text length between 3 to 100\n",
    "df[df['length'].between(3, 100)]['score'].value_counts(normalize = True, sort = False).plot(kind = 'bar')\n",
    "plt.show()\n",
    "\n",
    "print(f\"{df[df['length'].between(3, 100)].shape[0]} records with text length between 3 to 100\")"
   ]
  },
  {
   "cell_type": "code",
   "execution_count": 165,
   "metadata": {
    "ExecuteTime": {
     "end_time": "2021-01-10T16:57:50.748485Z",
     "start_time": "2021-01-10T16:57:50.573849Z"
    }
   },
   "outputs": [
    {
     "data": {
      "image/png": "[encoded data removed]",
      "text/plain": [
       "<Figure size 432x288 with 1 Axes>"
      ]
     },
     "metadata": {},
     "output_type": "display_data"
    }
   ],
   "source": [
    "df[df['length'].between(3, 100)]['source'].value_counts(normalize = True, sort = False).plot(kind = 'barh')\n",
    "plt.show()"
   ]
  },
  {
   "cell_type": "markdown",
   "metadata": {},
   "source": [
    "Distribution is similar to original distribution. \n",
    "\n",
    "Dataset **imbalance is slightly improved** as the number of 5 stars reviews dropped. This is likely due to the removal of posts with text length less than 3."
   ]
  },
  {
   "cell_type": "code",
   "execution_count": 166,
   "metadata": {
    "ExecuteTime": {
     "end_time": "2021-01-10T16:57:51.979530Z",
     "start_time": "2021-01-10T16:57:51.916572Z"
    }
   },
   "outputs": [
    {
     "data": {
      "text/html": [
       "<div>\n",
       "<style scoped>\n",
       "    .dataframe tbody tr th:only-of-type {\n",
       "        vertical-align: middle;\n",
       "    }\n",
       "\n",
       "    .dataframe tbody tr th {\n",
       "        vertical-align: top;\n",
       "    }\n",
       "\n",
       "    .dataframe thead th {\n",
       "        text-align: right;\n",
       "    }\n",
       "</style>\n",
       "<table border=\"1\" class=\"dataframe\">\n",
       "  <thead>\n",
       "    <tr style=\"text-align: right;\">\n",
       "      <th></th>\n",
       "      <th>content</th>\n",
       "      <th>score</th>\n",
       "      <th>date</th>\n",
       "      <th>thumbsUp</th>\n",
       "      <th>source</th>\n",
       "      <th>text</th>\n",
       "      <th>length</th>\n",
       "    </tr>\n",
       "  </thead>\n",
       "  <tbody>\n",
       "    <tr>\n",
       "      <th>0</th>\n",
       "      <td>The graphics are gorgeous, the gameplay is inc...</td>\n",
       "      <td>5</td>\n",
       "      <td>2020-12-11 13:55:29</td>\n",
       "      <td>881.0</td>\n",
       "      <td>google_play_store</td>\n",
       "      <td>[the, graphics, are, gorgeous, the, gameplay, ...</td>\n",
       "      <td>84</td>\n",
       "    </tr>\n",
       "    <tr>\n",
       "      <th>1</th>\n",
       "      <td>If you love free world RPG, then this is it! T...</td>\n",
       "      <td>5</td>\n",
       "      <td>2020-12-16 18:10:47</td>\n",
       "      <td>48.0</td>\n",
       "      <td>google_play_store</td>\n",
       "      <td>[if, you, love, free, world, rpg, then, this, ...</td>\n",
       "      <td>94</td>\n",
       "    </tr>\n",
       "    <tr>\n",
       "      <th>2</th>\n",
       "      <td>I absolutely love the game! No complaints besi...</td>\n",
       "      <td>5</td>\n",
       "      <td>2020-12-16 00:18:43</td>\n",
       "      <td>185.0</td>\n",
       "      <td>google_play_store</td>\n",
       "      <td>[i, absolutely, love, the, game, no, complaint...</td>\n",
       "      <td>75</td>\n",
       "    </tr>\n",
       "    <tr>\n",
       "      <th>3</th>\n",
       "      <td>Great game. Regardless of ripoff issues and su...</td>\n",
       "      <td>4</td>\n",
       "      <td>2020-12-16 12:46:11</td>\n",
       "      <td>1.0</td>\n",
       "      <td>google_play_store</td>\n",
       "      <td>[great, game, regardless, of, ripoff, issues, ...</td>\n",
       "      <td>88</td>\n",
       "    </tr>\n",
       "    <tr>\n",
       "      <th>4</th>\n",
       "      <td>Amazing graphics and gameplay although a lot o...</td>\n",
       "      <td>5</td>\n",
       "      <td>2020-12-10 22:51:08</td>\n",
       "      <td>186.0</td>\n",
       "      <td>google_play_store</td>\n",
       "      <td>[amazing, graphics, and, gameplay, although, a...</td>\n",
       "      <td>86</td>\n",
       "    </tr>\n",
       "  </tbody>\n",
       "</table>\n",
       "</div>"
      ],
      "text/plain": [
       "                                             content  score  \\\n",
       "0  The graphics are gorgeous, the gameplay is inc...      5   \n",
       "1  If you love free world RPG, then this is it! T...      5   \n",
       "2  I absolutely love the game! No complaints besi...      5   \n",
       "3  Great game. Regardless of ripoff issues and su...      4   \n",
       "4  Amazing graphics and gameplay although a lot o...      5   \n",
       "\n",
       "                 date  thumbsUp             source  \\\n",
       "0 2020-12-11 13:55:29     881.0  google_play_store   \n",
       "1 2020-12-16 18:10:47      48.0  google_play_store   \n",
       "2 2020-12-16 00:18:43     185.0  google_play_store   \n",
       "3 2020-12-16 12:46:11       1.0  google_play_store   \n",
       "4 2020-12-10 22:51:08     186.0  google_play_store   \n",
       "\n",
       "                                                text  length  \n",
       "0  [the, graphics, are, gorgeous, the, gameplay, ...      84  \n",
       "1  [if, you, love, free, world, rpg, then, this, ...      94  \n",
       "2  [i, absolutely, love, the, game, no, complaint...      75  \n",
       "3  [great, game, regardless, of, ripoff, issues, ...      88  \n",
       "4  [amazing, graphics, and, gameplay, although, a...      86  "
      ]
     },
     "execution_count": 166,
     "metadata": {},
     "output_type": "execute_result"
    }
   ],
   "source": [
    "df = df[df['length'].between(3, 100)].copy()\n",
    "\n",
    "df.reset_index(drop = True, inplace = True)\n",
    "\n",
    "df.head()"
   ]
  },
  {
   "cell_type": "markdown",
   "metadata": {},
   "source": [
    "## Duplicates"
   ]
  },
  {
   "cell_type": "code",
   "execution_count": 167,
   "metadata": {
    "ExecuteTime": {
     "end_time": "2021-01-10T16:57:53.072377Z",
     "start_time": "2021-01-10T16:57:52.974438Z"
    }
   },
   "outputs": [
    {
     "data": {
      "text/html": [
       "<div>\n",
       "<style scoped>\n",
       "    .dataframe tbody tr th:only-of-type {\n",
       "        vertical-align: middle;\n",
       "    }\n",
       "\n",
       "    .dataframe tbody tr th {\n",
       "        vertical-align: top;\n",
       "    }\n",
       "\n",
       "    .dataframe thead th {\n",
       "        text-align: right;\n",
       "    }\n",
       "</style>\n",
       "<table border=\"1\" class=\"dataframe\">\n",
       "  <thead>\n",
       "    <tr style=\"text-align: right;\">\n",
       "      <th></th>\n",
       "      <th>content</th>\n",
       "      <th>score</th>\n",
       "      <th>date</th>\n",
       "      <th>thumbsUp</th>\n",
       "      <th>source</th>\n",
       "      <th>text</th>\n",
       "      <th>length</th>\n",
       "    </tr>\n",
       "  </thead>\n",
       "  <tbody>\n",
       "    <tr>\n",
       "      <th>82637</th>\n",
       "      <td>Excitement I can’t wait to play this game and ...</td>\n",
       "      <td>5</td>\n",
       "      <td>2020-09-28 15:06:04</td>\n",
       "      <td>NaN</td>\n",
       "      <td>apple_app_store</td>\n",
       "      <td>[excitement, i, can, t, wait, to, play, this, ...</td>\n",
       "      <td>40</td>\n",
       "    </tr>\n",
       "    <tr>\n",
       "      <th>82638</th>\n",
       "      <td>Excitement I can’t wait to play this game and ...</td>\n",
       "      <td>5</td>\n",
       "      <td>2020-09-28 15:06:04</td>\n",
       "      <td>NaN</td>\n",
       "      <td>apple_app_store</td>\n",
       "      <td>[excitement, i, can, t, wait, to, play, this, ...</td>\n",
       "      <td>40</td>\n",
       "    </tr>\n",
       "    <tr>\n",
       "      <th>83133</th>\n",
       "      <td>I recommend downloading. I haven't found a fun...</td>\n",
       "      <td>5</td>\n",
       "      <td>2020-10-18 22:31:34</td>\n",
       "      <td>NaN</td>\n",
       "      <td>apple_app_store</td>\n",
       "      <td>[i, recommend, downloading, i, haven, t, found...</td>\n",
       "      <td>33</td>\n",
       "    </tr>\n",
       "    <tr>\n",
       "      <th>83134</th>\n",
       "      <td>I recommend downloading. I haven't found a fun...</td>\n",
       "      <td>5</td>\n",
       "      <td>2020-10-18 22:31:34</td>\n",
       "      <td>NaN</td>\n",
       "      <td>apple_app_store</td>\n",
       "      <td>[i, recommend, downloading, i, haven, t, found...</td>\n",
       "      <td>33</td>\n",
       "    </tr>\n",
       "    <tr>\n",
       "      <th>83135</th>\n",
       "      <td>I recommend downloading. I haven't found a fun...</td>\n",
       "      <td>5</td>\n",
       "      <td>2020-10-18 22:31:34</td>\n",
       "      <td>NaN</td>\n",
       "      <td>apple_app_store</td>\n",
       "      <td>[i, recommend, downloading, i, haven, t, found...</td>\n",
       "      <td>33</td>\n",
       "    </tr>\n",
       "    <tr>\n",
       "      <th>87720</th>\n",
       "      <td>Best game ever! I love this game, it’s so fun ...</td>\n",
       "      <td>5</td>\n",
       "      <td>2020-11-08 01:04:16</td>\n",
       "      <td>NaN</td>\n",
       "      <td>apple_app_store</td>\n",
       "      <td>[best, game, ever, i, love, this, game, it, s,...</td>\n",
       "      <td>23</td>\n",
       "    </tr>\n",
       "    <tr>\n",
       "      <th>87721</th>\n",
       "      <td>Best game ever! I love this game, it’s so fun ...</td>\n",
       "      <td>5</td>\n",
       "      <td>2020-11-08 01:04:16</td>\n",
       "      <td>NaN</td>\n",
       "      <td>apple_app_store</td>\n",
       "      <td>[best, game, ever, i, love, this, game, it, s,...</td>\n",
       "      <td>23</td>\n",
       "    </tr>\n",
       "    <tr>\n",
       "      <th>88310</th>\n",
       "      <td>Good game It’s a good game but I can’t see mos...</td>\n",
       "      <td>3</td>\n",
       "      <td>2020-09-29 23:25:30</td>\n",
       "      <td>NaN</td>\n",
       "      <td>apple_app_store</td>\n",
       "      <td>[good, game, it, s, a, good, game, but, i, can...</td>\n",
       "      <td>21</td>\n",
       "    </tr>\n",
       "    <tr>\n",
       "      <th>88314</th>\n",
       "      <td>Good game It’s a good game but I can’t see mos...</td>\n",
       "      <td>3</td>\n",
       "      <td>2020-09-29 23:25:30</td>\n",
       "      <td>NaN</td>\n",
       "      <td>apple_app_store</td>\n",
       "      <td>[good, game, it, s, a, good, game, but, i, can...</td>\n",
       "      <td>21</td>\n",
       "    </tr>\n",
       "    <tr>\n",
       "      <th>88472</th>\n",
       "      <td>Bug fixes pls I don’t know what it is but Ther...</td>\n",
       "      <td>1</td>\n",
       "      <td>2020-10-10 22:59:48</td>\n",
       "      <td>NaN</td>\n",
       "      <td>apple_app_store</td>\n",
       "      <td>[bug, fixes, pls, i, don, t, know, what, it, i...</td>\n",
       "      <td>33</td>\n",
       "    </tr>\n",
       "    <tr>\n",
       "      <th>88473</th>\n",
       "      <td>Bug fixes pls I don’t know what it is but Ther...</td>\n",
       "      <td>1</td>\n",
       "      <td>2020-10-10 22:59:48</td>\n",
       "      <td>NaN</td>\n",
       "      <td>apple_app_store</td>\n",
       "      <td>[bug, fixes, pls, i, don, t, know, what, it, i...</td>\n",
       "      <td>33</td>\n",
       "    </tr>\n",
       "    <tr>\n",
       "      <th>91102</th>\n",
       "      <td>Hooked! This is the only phone game that has m...</td>\n",
       "      <td>5</td>\n",
       "      <td>2020-12-11 16:05:40</td>\n",
       "      <td>NaN</td>\n",
       "      <td>apple_app_store</td>\n",
       "      <td>[hooked, this, is, the, only, phone, game, tha...</td>\n",
       "      <td>38</td>\n",
       "    </tr>\n",
       "    <tr>\n",
       "      <th>91104</th>\n",
       "      <td>Hooked! This is the only phone game that has m...</td>\n",
       "      <td>5</td>\n",
       "      <td>2020-12-11 16:05:40</td>\n",
       "      <td>NaN</td>\n",
       "      <td>apple_app_store</td>\n",
       "      <td>[hooked, this, is, the, only, phone, game, tha...</td>\n",
       "      <td>38</td>\n",
       "    </tr>\n",
       "  </tbody>\n",
       "</table>\n",
       "</div>"
      ],
      "text/plain": [
       "                                                 content  score  \\\n",
       "82637  Excitement I can’t wait to play this game and ...      5   \n",
       "82638  Excitement I can’t wait to play this game and ...      5   \n",
       "83133  I recommend downloading. I haven't found a fun...      5   \n",
       "83134  I recommend downloading. I haven't found a fun...      5   \n",
       "83135  I recommend downloading. I haven't found a fun...      5   \n",
       "87720  Best game ever! I love this game, it’s so fun ...      5   \n",
       "87721  Best game ever! I love this game, it’s so fun ...      5   \n",
       "88310  Good game It’s a good game but I can’t see mos...      3   \n",
       "88314  Good game It’s a good game but I can’t see mos...      3   \n",
       "88472  Bug fixes pls I don’t know what it is but Ther...      1   \n",
       "88473  Bug fixes pls I don’t know what it is but Ther...      1   \n",
       "91102  Hooked! This is the only phone game that has m...      5   \n",
       "91104  Hooked! This is the only phone game that has m...      5   \n",
       "\n",
       "                     date  thumbsUp           source  \\\n",
       "82637 2020-09-28 15:06:04       NaN  apple_app_store   \n",
       "82638 2020-09-28 15:06:04       NaN  apple_app_store   \n",
       "83133 2020-10-18 22:31:34       NaN  apple_app_store   \n",
       "83134 2020-10-18 22:31:34       NaN  apple_app_store   \n",
       "83135 2020-10-18 22:31:34       NaN  apple_app_store   \n",
       "87720 2020-11-08 01:04:16       NaN  apple_app_store   \n",
       "87721 2020-11-08 01:04:16       NaN  apple_app_store   \n",
       "88310 2020-09-29 23:25:30       NaN  apple_app_store   \n",
       "88314 2020-09-29 23:25:30       NaN  apple_app_store   \n",
       "88472 2020-10-10 22:59:48       NaN  apple_app_store   \n",
       "88473 2020-10-10 22:59:48       NaN  apple_app_store   \n",
       "91102 2020-12-11 16:05:40       NaN  apple_app_store   \n",
       "91104 2020-12-11 16:05:40       NaN  apple_app_store   \n",
       "\n",
       "                                                    text  length  \n",
       "82637  [excitement, i, can, t, wait, to, play, this, ...      40  \n",
       "82638  [excitement, i, can, t, wait, to, play, this, ...      40  \n",
       "83133  [i, recommend, downloading, i, haven, t, found...      33  \n",
       "83134  [i, recommend, downloading, i, haven, t, found...      33  \n",
       "83135  [i, recommend, downloading, i, haven, t, found...      33  \n",
       "87720  [best, game, ever, i, love, this, game, it, s,...      23  \n",
       "87721  [best, game, ever, i, love, this, game, it, s,...      23  \n",
       "88310  [good, game, it, s, a, good, game, but, i, can...      21  \n",
       "88314  [good, game, it, s, a, good, game, but, i, can...      21  \n",
       "88472  [bug, fixes, pls, i, don, t, know, what, it, i...      33  \n",
       "88473  [bug, fixes, pls, i, don, t, know, what, it, i...      33  \n",
       "91102  [hooked, this, is, the, only, phone, game, tha...      38  \n",
       "91104  [hooked, this, is, the, only, phone, game, tha...      38  "
      ]
     },
     "execution_count": 167,
     "metadata": {},
     "output_type": "execute_result"
    }
   ],
   "source": [
    "df[df.duplicated(['content', 'date'], keep = False)]"
   ]
  },
  {
   "cell_type": "code",
   "execution_count": 168,
   "metadata": {
    "ExecuteTime": {
     "end_time": "2021-01-10T16:57:53.607777Z",
     "start_time": "2021-01-10T16:57:53.504844Z"
    }
   },
   "outputs": [
    {
     "data": {
      "text/html": [
       "<div>\n",
       "<style scoped>\n",
       "    .dataframe tbody tr th:only-of-type {\n",
       "        vertical-align: middle;\n",
       "    }\n",
       "\n",
       "    .dataframe tbody tr th {\n",
       "        vertical-align: top;\n",
       "    }\n",
       "\n",
       "    .dataframe thead th {\n",
       "        text-align: right;\n",
       "    }\n",
       "</style>\n",
       "<table border=\"1\" class=\"dataframe\">\n",
       "  <thead>\n",
       "    <tr style=\"text-align: right;\">\n",
       "      <th></th>\n",
       "      <th>content</th>\n",
       "      <th>score</th>\n",
       "      <th>date</th>\n",
       "      <th>thumbsUp</th>\n",
       "      <th>source</th>\n",
       "      <th>text</th>\n",
       "      <th>length</th>\n",
       "    </tr>\n",
       "  </thead>\n",
       "  <tbody>\n",
       "    <tr>\n",
       "      <th>0</th>\n",
       "      <td>The graphics are gorgeous, the gameplay is inc...</td>\n",
       "      <td>5</td>\n",
       "      <td>2020-12-11 13:55:29</td>\n",
       "      <td>881.0</td>\n",
       "      <td>google_play_store</td>\n",
       "      <td>[the, graphics, are, gorgeous, the, gameplay, ...</td>\n",
       "      <td>84</td>\n",
       "    </tr>\n",
       "    <tr>\n",
       "      <th>1</th>\n",
       "      <td>If you love free world RPG, then this is it! T...</td>\n",
       "      <td>5</td>\n",
       "      <td>2020-12-16 18:10:47</td>\n",
       "      <td>48.0</td>\n",
       "      <td>google_play_store</td>\n",
       "      <td>[if, you, love, free, world, rpg, then, this, ...</td>\n",
       "      <td>94</td>\n",
       "    </tr>\n",
       "    <tr>\n",
       "      <th>2</th>\n",
       "      <td>I absolutely love the game! No complaints besi...</td>\n",
       "      <td>5</td>\n",
       "      <td>2020-12-16 00:18:43</td>\n",
       "      <td>185.0</td>\n",
       "      <td>google_play_store</td>\n",
       "      <td>[i, absolutely, love, the, game, no, complaint...</td>\n",
       "      <td>75</td>\n",
       "    </tr>\n",
       "    <tr>\n",
       "      <th>3</th>\n",
       "      <td>Great game. Regardless of ripoff issues and su...</td>\n",
       "      <td>4</td>\n",
       "      <td>2020-12-16 12:46:11</td>\n",
       "      <td>1.0</td>\n",
       "      <td>google_play_store</td>\n",
       "      <td>[great, game, regardless, of, ripoff, issues, ...</td>\n",
       "      <td>88</td>\n",
       "    </tr>\n",
       "    <tr>\n",
       "      <th>4</th>\n",
       "      <td>Amazing graphics and gameplay although a lot o...</td>\n",
       "      <td>5</td>\n",
       "      <td>2020-12-10 22:51:08</td>\n",
       "      <td>186.0</td>\n",
       "      <td>google_play_store</td>\n",
       "      <td>[amazing, graphics, and, gameplay, although, a...</td>\n",
       "      <td>86</td>\n",
       "    </tr>\n",
       "  </tbody>\n",
       "</table>\n",
       "</div>"
      ],
      "text/plain": [
       "                                             content  score  \\\n",
       "0  The graphics are gorgeous, the gameplay is inc...      5   \n",
       "1  If you love free world RPG, then this is it! T...      5   \n",
       "2  I absolutely love the game! No complaints besi...      5   \n",
       "3  Great game. Regardless of ripoff issues and su...      4   \n",
       "4  Amazing graphics and gameplay although a lot o...      5   \n",
       "\n",
       "                 date  thumbsUp             source  \\\n",
       "0 2020-12-11 13:55:29     881.0  google_play_store   \n",
       "1 2020-12-16 18:10:47      48.0  google_play_store   \n",
       "2 2020-12-16 00:18:43     185.0  google_play_store   \n",
       "3 2020-12-16 12:46:11       1.0  google_play_store   \n",
       "4 2020-12-10 22:51:08     186.0  google_play_store   \n",
       "\n",
       "                                                text  length  \n",
       "0  [the, graphics, are, gorgeous, the, gameplay, ...      84  \n",
       "1  [if, you, love, free, world, rpg, then, this, ...      94  \n",
       "2  [i, absolutely, love, the, game, no, complaint...      75  \n",
       "3  [great, game, regardless, of, ripoff, issues, ...      88  \n",
       "4  [amazing, graphics, and, gameplay, although, a...      86  "
      ]
     },
     "execution_count": 168,
     "metadata": {},
     "output_type": "execute_result"
    }
   ],
   "source": [
    "df.drop_duplicates(['content', 'date'], inplace = True)\n",
    "\n",
    "df.reset_index(drop = True, inplace = True)\n",
    "\n",
    "df.head()"
   ]
  },
  {
   "cell_type": "markdown",
   "metadata": {},
   "source": [
    "## Removing Non-English Posts"
   ]
  },
  {
   "cell_type": "code",
   "execution_count": 29,
   "metadata": {
    "ExecuteTime": {
     "end_time": "2021-01-11T09:12:02.903290Z",
     "start_time": "2021-01-11T09:12:02.895296Z"
    }
   },
   "outputs": [
    {
     "data": {
      "text/plain": [
       "False"
      ]
     },
     "execution_count": 29,
     "metadata": {},
     "output_type": "execute_result"
    }
   ],
   "source": [
    "en_dict = enchant.Dict(\"en_US\")\n",
    "en_dict.check(\"Hello it is me\")"
   ]
  },
  {
   "cell_type": "code",
   "execution_count": 40,
   "metadata": {
    "ExecuteTime": {
     "end_time": "2021-01-11T10:20:38.724993Z",
     "start_time": "2021-01-11T10:11:06.606429Z"
    }
   },
   "outputs": [],
   "source": [
    "df['english_words'] = df['text'].apply(lambda x: [en_dict.check(word) for word in x])\n",
    "\n",
    "df['pct_english_words'] = df['english_words'].apply(lambda x: x.count(True) / len(x))"
   ]
  },
  {
   "cell_type": "code",
   "execution_count": 41,
   "metadata": {
    "ExecuteTime": {
     "end_time": "2021-01-11T10:20:38.740978Z",
     "start_time": "2021-01-11T10:20:38.726988Z"
    }
   },
   "outputs": [
    {
     "data": {
      "text/plain": [
       "count    91146.000000\n",
       "mean         0.931544\n",
       "std          0.131405\n",
       "min          0.000000\n",
       "25%          0.920455\n",
       "50%          0.975610\n",
       "75%          1.000000\n",
       "max          1.000000\n",
       "Name: pct_english_words, dtype: float64"
      ]
     },
     "execution_count": 41,
     "metadata": {},
     "output_type": "execute_result"
    }
   ],
   "source": [
    "df['pct_english_words'].describe()"
   ]
  },
  {
   "cell_type": "code",
   "execution_count": 42,
   "metadata": {
    "ExecuteTime": {
     "end_time": "2021-01-11T10:20:38.931841Z",
     "start_time": "2021-01-11T10:20:38.742978Z"
    }
   },
   "outputs": [
    {
     "data": {
      "text/plain": [
       "<AxesSubplot:xlabel='pct_english_words'>"
      ]
     },
     "execution_count": 42,
     "metadata": {},
     "output_type": "execute_result"
    },
    {
     "data": {
      "image/png": "[encoded data removed]",
      "text/plain": [
       "<Figure size 432x288 with 1 Axes>"
      ]
     },
     "metadata": {},
     "output_type": "display_data"
    }
   ],
   "source": [
    "sns.boxplot(data=df, x=\"pct_english_words\", hue=\"source\", orient = 'h')"
   ]
  },
  {
   "cell_type": "markdown",
   "metadata": {},
   "source": [
    "Chỉ cho được 4 sao vì ko thể thanh toán google\n",
    "--> \n",
    "ch, cho, c, sao, v, ko, th, thanh, to, n,"
   ]
  },
  {
   "cell_type": "code",
   "execution_count": 43,
   "metadata": {
    "ExecuteTime": {
     "end_time": "2021-01-11T10:20:38.979811Z",
     "start_time": "2021-01-11T10:20:38.933840Z"
    }
   },
   "outputs": [
    {
     "data": {
      "text/html": [
       "<div>\n",
       "<style scoped>\n",
       "    .dataframe tbody tr th:only-of-type {\n",
       "        vertical-align: middle;\n",
       "    }\n",
       "\n",
       "    .dataframe tbody tr th {\n",
       "        vertical-align: top;\n",
       "    }\n",
       "\n",
       "    .dataframe thead th {\n",
       "        text-align: right;\n",
       "    }\n",
       "</style>\n",
       "<table border=\"1\" class=\"dataframe\">\n",
       "  <thead>\n",
       "    <tr style=\"text-align: right;\">\n",
       "      <th></th>\n",
       "      <th>content</th>\n",
       "      <th>score</th>\n",
       "      <th>date</th>\n",
       "      <th>thumbsUp</th>\n",
       "      <th>source</th>\n",
       "      <th>text</th>\n",
       "      <th>length</th>\n",
       "      <th>split_text</th>\n",
       "      <th>english_words</th>\n",
       "      <th>pct_english_words</th>\n",
       "    </tr>\n",
       "  </thead>\n",
       "  <tbody>\n",
       "    <tr>\n",
       "      <th>79031</th>\n",
       "      <td>Game android paling kece, grafiknya kayak di p...</td>\n",
       "      <td>5</td>\n",
       "      <td>2020-10-09 15:23:12</td>\n",
       "      <td>0.0</td>\n",
       "      <td>google_play_store</td>\n",
       "      <td>[game, android, paling, kece, grafiknya, kayak...</td>\n",
       "      <td>22</td>\n",
       "      <td>[game, android, paling, kece, grafiknya, kayak...</td>\n",
       "      <td>[True, True, True, False, False, True, True, T...</td>\n",
       "      <td>0.590909</td>\n",
       "    </tr>\n",
       "    <tr>\n",
       "      <th>80643</th>\n",
       "      <td>🎤sawarasenai🥰kimi😸wa⛓shoujo👻na💅no?✨böKù🌸Wâ🧚ÿAR...</td>\n",
       "      <td>5</td>\n",
       "      <td>2020-11-07 00:02:40</td>\n",
       "      <td>0.0</td>\n",
       "      <td>google_play_store</td>\n",
       "      <td>[sawarasenai, kimi, wa, shoujo, na, no, b, k, ...</td>\n",
       "      <td>17</td>\n",
       "      <td>[🎤sawarasenai🥰kimi😸wa⛓shoujo👻na💅no, ✨bökù🌸wâ🧚ÿ...</td>\n",
       "      <td>[False, False, False, False, False, True, True...</td>\n",
       "      <td>0.588235</td>\n",
       "    </tr>\n",
       "    <tr>\n",
       "      <th>60113</th>\n",
       "      <td>As of 2020/09/27 downloading palang, will try ...</td>\n",
       "      <td>5</td>\n",
       "      <td>2020-09-27 04:44:01</td>\n",
       "      <td>0.0</td>\n",
       "      <td>google_play_store</td>\n",
       "      <td>[as, of, downloading, palang, will, try, this,...</td>\n",
       "      <td>17</td>\n",
       "      <td>[as, of, /, /, downloading, palang, will, try,...</td>\n",
       "      <td>[True, True, True, False, True, True, True, Tr...</td>\n",
       "      <td>0.588235</td>\n",
       "    </tr>\n",
       "    <tr>\n",
       "      <th>40082</th>\n",
       "      <td>sangat menyeronokkan..rasanya seperti anda men...</td>\n",
       "      <td>5</td>\n",
       "      <td>2020-11-19 03:42:46</td>\n",
       "      <td>0.0</td>\n",
       "      <td>google_play_store</td>\n",
       "      <td>[sangat, menyeronokkan, rasanya, seperti, anda...</td>\n",
       "      <td>17</td>\n",
       "      <td>[sangat, menyeronokkan, rasanya, seperti, anda...</td>\n",
       "      <td>[False, False, False, False, False, False, Tru...</td>\n",
       "      <td>0.588235</td>\n",
       "    </tr>\n",
       "    <tr>\n",
       "      <th>19821</th>\n",
       "      <td>Tolong di perbaiki server Asia :) download lan...</td>\n",
       "      <td>5</td>\n",
       "      <td>2020-12-07 12:27:38</td>\n",
       "      <td>0.0</td>\n",
       "      <td>google_play_store</td>\n",
       "      <td>[tolong, di, perbaiki, server, asia, download,...</td>\n",
       "      <td>12</td>\n",
       "      <td>[tolong, di, perbaiki, server, asia, download,...</td>\n",
       "      <td>[False, True, False, True, False, True, False,...</td>\n",
       "      <td>0.583333</td>\n",
       "    </tr>\n",
       "    <tr>\n",
       "      <th>76341</th>\n",
       "      <td>Tis is so amizing and so satisfaying so pls do...</td>\n",
       "      <td>5</td>\n",
       "      <td>2020-12-16 05:31:01</td>\n",
       "      <td>0.0</td>\n",
       "      <td>google_play_store</td>\n",
       "      <td>[tis, is, so, amizing, and, so, satisfaying, s...</td>\n",
       "      <td>12</td>\n",
       "      <td>[tis, is, so, amizing, and, so, satisfaying, s...</td>\n",
       "      <td>[False, True, True, False, True, True, False, ...</td>\n",
       "      <td>0.583333</td>\n",
       "    </tr>\n",
       "    <tr>\n",
       "      <th>79396</th>\n",
       "      <td>Chỉ cho được 4 sao vì ko thể thanh toán google...</td>\n",
       "      <td>4</td>\n",
       "      <td>2020-10-04 06:05:52</td>\n",
       "      <td>0.0</td>\n",
       "      <td>google_play_store</td>\n",
       "      <td>[ch, cho, c, sao, v, ko, th, thanh, to, n, goo...</td>\n",
       "      <td>12</td>\n",
       "      <td>[chỉ, cho, được, sao, vì, ko, thể, thanh, toán...</td>\n",
       "      <td>[True, False, True, False, True, False, False,...</td>\n",
       "      <td>0.583333</td>\n",
       "    </tr>\n",
       "    <tr>\n",
       "      <th>71587</th>\n",
       "      <td>Kek rng didnt gib me a loli but gave a mona in...</td>\n",
       "      <td>4</td>\n",
       "      <td>2020-10-01 04:03:58</td>\n",
       "      <td>0.0</td>\n",
       "      <td>google_play_store</td>\n",
       "      <td>[kek, rng, didnt, gib, me, a, loli, but, gave,...</td>\n",
       "      <td>12</td>\n",
       "      <td>[kek, rng, didnt, gib, me, a, loli, but, gave,...</td>\n",
       "      <td>[False, False, False, True, True, True, False,...</td>\n",
       "      <td>0.583333</td>\n",
       "    </tr>\n",
       "    <tr>\n",
       "      <th>72398</th>\n",
       "      <td>Can I get legendry caracter ok pls I am a kid ...</td>\n",
       "      <td>5</td>\n",
       "      <td>2020-10-20 14:39:26</td>\n",
       "      <td>0.0</td>\n",
       "      <td>google_play_store</td>\n",
       "      <td>[can, i, get, legendry, caracter, ok, pls, i, ...</td>\n",
       "      <td>12</td>\n",
       "      <td>[can, i, get, legendry, caracter, ok, pls, i, ...</td>\n",
       "      <td>[True, True, True, False, False, False, False,...</td>\n",
       "      <td>0.583333</td>\n",
       "    </tr>\n",
       "    <tr>\n",
       "      <th>38181</th>\n",
       "      <td>Amazing RPG game!! Running perfectly smooth at...</td>\n",
       "      <td>5</td>\n",
       "      <td>2020-10-06 07:16:30</td>\n",
       "      <td>0.0</td>\n",
       "      <td>google_play_store</td>\n",
       "      <td>[amazing, rpg, game, running, perfectly, smoot...</td>\n",
       "      <td>12</td>\n",
       "      <td>[amazing, rpg, game, running, perfectly, smoot...</td>\n",
       "      <td>[True, False, True, True, True, True, True, Tr...</td>\n",
       "      <td>0.583333</td>\n",
       "    </tr>\n",
       "  </tbody>\n",
       "</table>\n",
       "</div>"
      ],
      "text/plain": [
       "                                                 content  score  \\\n",
       "79031  Game android paling kece, grafiknya kayak di p...      5   \n",
       "80643  🎤sawarasenai🥰kimi😸wa⛓shoujo👻na💅no?✨böKù🌸Wâ🧚ÿAR...      5   \n",
       "60113  As of 2020/09/27 downloading palang, will try ...      5   \n",
       "40082  sangat menyeronokkan..rasanya seperti anda men...      5   \n",
       "19821  Tolong di perbaiki server Asia :) download lan...      5   \n",
       "76341  Tis is so amizing and so satisfaying so pls do...      5   \n",
       "79396  Chỉ cho được 4 sao vì ko thể thanh toán google...      4   \n",
       "71587  Kek rng didnt gib me a loli but gave a mona in...      4   \n",
       "72398  Can I get legendry caracter ok pls I am a kid ...      5   \n",
       "38181  Amazing RPG game!! Running perfectly smooth at...      5   \n",
       "\n",
       "                     date  thumbsUp             source  \\\n",
       "79031 2020-10-09 15:23:12       0.0  google_play_store   \n",
       "80643 2020-11-07 00:02:40       0.0  google_play_store   \n",
       "60113 2020-09-27 04:44:01       0.0  google_play_store   \n",
       "40082 2020-11-19 03:42:46       0.0  google_play_store   \n",
       "19821 2020-12-07 12:27:38       0.0  google_play_store   \n",
       "76341 2020-12-16 05:31:01       0.0  google_play_store   \n",
       "79396 2020-10-04 06:05:52       0.0  google_play_store   \n",
       "71587 2020-10-01 04:03:58       0.0  google_play_store   \n",
       "72398 2020-10-20 14:39:26       0.0  google_play_store   \n",
       "38181 2020-10-06 07:16:30       0.0  google_play_store   \n",
       "\n",
       "                                                    text  length  \\\n",
       "79031  [game, android, paling, kece, grafiknya, kayak...      22   \n",
       "80643  [sawarasenai, kimi, wa, shoujo, na, no, b, k, ...      17   \n",
       "60113  [as, of, downloading, palang, will, try, this,...      17   \n",
       "40082  [sangat, menyeronokkan, rasanya, seperti, anda...      17   \n",
       "19821  [tolong, di, perbaiki, server, asia, download,...      12   \n",
       "76341  [tis, is, so, amizing, and, so, satisfaying, s...      12   \n",
       "79396  [ch, cho, c, sao, v, ko, th, thanh, to, n, goo...      12   \n",
       "71587  [kek, rng, didnt, gib, me, a, loli, but, gave,...      12   \n",
       "72398  [can, i, get, legendry, caracter, ok, pls, i, ...      12   \n",
       "38181  [amazing, rpg, game, running, perfectly, smoot...      12   \n",
       "\n",
       "                                              split_text  \\\n",
       "79031  [game, android, paling, kece, grafiknya, kayak...   \n",
       "80643  [🎤sawarasenai🥰kimi😸wa⛓shoujo👻na💅no, ✨bökù🌸wâ🧚ÿ...   \n",
       "60113  [as, of, /, /, downloading, palang, will, try,...   \n",
       "40082  [sangat, menyeronokkan, rasanya, seperti, anda...   \n",
       "19821  [tolong, di, perbaiki, server, asia, download,...   \n",
       "76341  [tis, is, so, amizing, and, so, satisfaying, s...   \n",
       "79396  [chỉ, cho, được, sao, vì, ko, thể, thanh, toán...   \n",
       "71587  [kek, rng, didnt, gib, me, a, loli, but, gave,...   \n",
       "72398  [can, i, get, legendry, caracter, ok, pls, i, ...   \n",
       "38181  [amazing, rpg, game, running, perfectly, smoot...   \n",
       "\n",
       "                                           english_words  pct_english_words  \n",
       "79031  [True, True, True, False, False, True, True, T...           0.590909  \n",
       "80643  [False, False, False, False, False, True, True...           0.588235  \n",
       "60113  [True, True, True, False, True, True, True, Tr...           0.588235  \n",
       "40082  [False, False, False, False, False, False, Tru...           0.588235  \n",
       "19821  [False, True, False, True, False, True, False,...           0.583333  \n",
       "76341  [False, True, True, False, True, True, False, ...           0.583333  \n",
       "79396  [True, False, True, False, True, False, False,...           0.583333  \n",
       "71587  [False, False, False, True, True, True, False,...           0.583333  \n",
       "72398  [True, True, True, False, False, False, False,...           0.583333  \n",
       "38181  [True, False, True, True, True, True, True, Tr...           0.583333  "
      ]
     },
     "execution_count": 43,
     "metadata": {},
     "output_type": "execute_result"
    }
   ],
   "source": [
    "df[df['pct_english_words'] < 0.6].sort_values('pct_english_words', ascending = False).head(10)"
   ]
  },
  {
   "cell_type": "code",
   "execution_count": 44,
   "metadata": {
    "ExecuteTime": {
     "end_time": "2021-01-11T10:20:39.027781Z",
     "start_time": "2021-01-11T10:20:38.981810Z"
    }
   },
   "outputs": [
    {
     "data": {
      "text/html": [
       "<div>\n",
       "<style scoped>\n",
       "    .dataframe tbody tr th:only-of-type {\n",
       "        vertical-align: middle;\n",
       "    }\n",
       "\n",
       "    .dataframe tbody tr th {\n",
       "        vertical-align: top;\n",
       "    }\n",
       "\n",
       "    .dataframe thead th {\n",
       "        text-align: right;\n",
       "    }\n",
       "</style>\n",
       "<table border=\"1\" class=\"dataframe\">\n",
       "  <thead>\n",
       "    <tr style=\"text-align: right;\">\n",
       "      <th></th>\n",
       "      <th>content</th>\n",
       "      <th>score</th>\n",
       "      <th>date</th>\n",
       "      <th>thumbsUp</th>\n",
       "      <th>source</th>\n",
       "      <th>text</th>\n",
       "      <th>length</th>\n",
       "      <th>split_text</th>\n",
       "      <th>english_words</th>\n",
       "      <th>pct_english_words</th>\n",
       "    </tr>\n",
       "  </thead>\n",
       "  <tbody>\n",
       "    <tr>\n",
       "      <th>61393</th>\n",
       "      <td>Gacha rates ruined everything lol. 0.6 percent...</td>\n",
       "      <td>1</td>\n",
       "      <td>2020-10-07 04:13:49</td>\n",
       "      <td>3.0</td>\n",
       "      <td>google_play_store</td>\n",
       "      <td>[gacha, rates, ruined, everything, lol, percen...</td>\n",
       "      <td>17</td>\n",
       "      <td>[gacha, rates, ruined, everything, lol, percen...</td>\n",
       "      <td>[False, True, True, True, False, True, True, F...</td>\n",
       "      <td>0.647059</td>\n",
       "    </tr>\n",
       "    <tr>\n",
       "      <th>35967</th>\n",
       "      <td>Nice graphic, nice story, nice rpg keep the wi...</td>\n",
       "      <td>5</td>\n",
       "      <td>2020-09-30 23:29:20</td>\n",
       "      <td>0.0</td>\n",
       "      <td>google_play_store</td>\n",
       "      <td>[nice, graphic, nice, story, nice, rpg, keep, ...</td>\n",
       "      <td>17</td>\n",
       "      <td>[nice, graphic, nice, story, nice, rpg, keep, ...</td>\n",
       "      <td>[True, True, True, True, True, False, True, Tr...</td>\n",
       "      <td>0.647059</td>\n",
       "    </tr>\n",
       "    <tr>\n",
       "      <th>39406</th>\n",
       "      <td>still the best mihiyo game.its a mass open wor...</td>\n",
       "      <td>5</td>\n",
       "      <td>2020-09-28 23:26:30</td>\n",
       "      <td>0.0</td>\n",
       "      <td>google_play_store</td>\n",
       "      <td>[still, the, best, mihiyo, game, its, a, mass,...</td>\n",
       "      <td>48</td>\n",
       "      <td>[still, the, best, mihiyo, game, its, a, mass,...</td>\n",
       "      <td>[True, True, True, False, True, True, True, Tr...</td>\n",
       "      <td>0.645833</td>\n",
       "    </tr>\n",
       "    <tr>\n",
       "      <th>56810</th>\n",
       "      <td>Plss make ps4 loginable with mihoyo account fa...</td>\n",
       "      <td>5</td>\n",
       "      <td>2020-09-30 06:59:09</td>\n",
       "      <td>0.0</td>\n",
       "      <td>google_play_store</td>\n",
       "      <td>[plss, make, ps, loginable, with, mihoyo, acco...</td>\n",
       "      <td>14</td>\n",
       "      <td>[plss, make, ps, loginable, with, mihoyo, acco...</td>\n",
       "      <td>[False, True, True, False, True, False, True, ...</td>\n",
       "      <td>0.642857</td>\n",
       "    </tr>\n",
       "    <tr>\n",
       "      <th>78783</th>\n",
       "      <td>Enquanto não ajustarem os preços e os rates es...</td>\n",
       "      <td>1</td>\n",
       "      <td>2020-11-08 07:24:46</td>\n",
       "      <td>1.0</td>\n",
       "      <td>google_play_store</td>\n",
       "      <td>[enquanto, n, o, ajustarem, os, pre, os, e, os...</td>\n",
       "      <td>14</td>\n",
       "      <td>[enquanto, não, ajustarem, os, preços, e, os, ...</td>\n",
       "      <td>[False, True, True, False, True, False, True, ...</td>\n",
       "      <td>0.642857</td>\n",
       "    </tr>\n",
       "    <tr>\n",
       "      <th>45474</th>\n",
       "      <td>Amazing game thankyou and pls make 60fps on an...</td>\n",
       "      <td>5</td>\n",
       "      <td>2020-09-29 09:13:56</td>\n",
       "      <td>0.0</td>\n",
       "      <td>google_play_store</td>\n",
       "      <td>[amazing, game, thankyou, and, pls, make, fps,...</td>\n",
       "      <td>14</td>\n",
       "      <td>[amazing, game, thankyou, and, pls, make, fps,...</td>\n",
       "      <td>[True, True, False, True, False, True, True, T...</td>\n",
       "      <td>0.642857</td>\n",
       "    </tr>\n",
       "    <tr>\n",
       "      <th>51349</th>\n",
       "      <td>Genshin Impact is Soo Awesome! 💕 This app is K...</td>\n",
       "      <td>5</td>\n",
       "      <td>2020-12-02 15:21:26</td>\n",
       "      <td>0.0</td>\n",
       "      <td>google_play_store</td>\n",
       "      <td>[genshin, impact, is, soo, awesome, this, app,...</td>\n",
       "      <td>14</td>\n",
       "      <td>[genshin, impact, is, soo, awesome, 💕, this, a...</td>\n",
       "      <td>[False, True, True, False, True, True, True, T...</td>\n",
       "      <td>0.642857</td>\n",
       "    </tr>\n",
       "    <tr>\n",
       "      <th>40727</th>\n",
       "      <td>Why im allwest stuck and freezeng 93ms but fre...</td>\n",
       "      <td>1</td>\n",
       "      <td>2020-10-06 07:30:05</td>\n",
       "      <td>0.0</td>\n",
       "      <td>google_play_store</td>\n",
       "      <td>[why, im, allwest, stuck, and, freezeng, ms, b...</td>\n",
       "      <td>14</td>\n",
       "      <td>[why, im, allwest, stuck, and, freezeng, ms, b...</td>\n",
       "      <td>[True, False, False, True, True, False, True, ...</td>\n",
       "      <td>0.642857</td>\n",
       "    </tr>\n",
       "    <tr>\n",
       "      <th>53513</th>\n",
       "      <td>THE GAME IS ABSOLUTELY BEAUTIFULLLL!!!! IM BEI...</td>\n",
       "      <td>5</td>\n",
       "      <td>2020-09-29 01:45:32</td>\n",
       "      <td>0.0</td>\n",
       "      <td>google_play_store</td>\n",
       "      <td>[the, game, is, absolutely, beautifullll, im, ...</td>\n",
       "      <td>14</td>\n",
       "      <td>[the, game, is, absolutely, beautifullll, im, ...</td>\n",
       "      <td>[True, True, True, True, False, False, True, F...</td>\n",
       "      <td>0.642857</td>\n",
       "    </tr>\n",
       "    <tr>\n",
       "      <th>51982</th>\n",
       "      <td>Nice game.. your know what cooking.. BBOOOMMM!...</td>\n",
       "      <td>5</td>\n",
       "      <td>2020-10-06 14:11:36</td>\n",
       "      <td>0.0</td>\n",
       "      <td>google_play_store</td>\n",
       "      <td>[nice, game, your, know, what, cooking, bbooom...</td>\n",
       "      <td>11</td>\n",
       "      <td>[nice, game, your, know, what, cooking, bbooom...</td>\n",
       "      <td>[True, True, True, True, True, True, False, Fa...</td>\n",
       "      <td>0.636364</td>\n",
       "    </tr>\n",
       "  </tbody>\n",
       "</table>\n",
       "</div>"
      ],
      "text/plain": [
       "                                                 content  score  \\\n",
       "61393  Gacha rates ruined everything lol. 0.6 percent...      1   \n",
       "35967  Nice graphic, nice story, nice rpg keep the wi...      5   \n",
       "39406  still the best mihiyo game.its a mass open wor...      5   \n",
       "56810  Plss make ps4 loginable with mihoyo account fa...      5   \n",
       "78783  Enquanto não ajustarem os preços e os rates es...      1   \n",
       "45474  Amazing game thankyou and pls make 60fps on an...      5   \n",
       "51349  Genshin Impact is Soo Awesome! 💕 This app is K...      5   \n",
       "40727  Why im allwest stuck and freezeng 93ms but fre...      1   \n",
       "53513  THE GAME IS ABSOLUTELY BEAUTIFULLLL!!!! IM BEI...      5   \n",
       "51982  Nice game.. your know what cooking.. BBOOOMMM!...      5   \n",
       "\n",
       "                     date  thumbsUp             source  \\\n",
       "61393 2020-10-07 04:13:49       3.0  google_play_store   \n",
       "35967 2020-09-30 23:29:20       0.0  google_play_store   \n",
       "39406 2020-09-28 23:26:30       0.0  google_play_store   \n",
       "56810 2020-09-30 06:59:09       0.0  google_play_store   \n",
       "78783 2020-11-08 07:24:46       1.0  google_play_store   \n",
       "45474 2020-09-29 09:13:56       0.0  google_play_store   \n",
       "51349 2020-12-02 15:21:26       0.0  google_play_store   \n",
       "40727 2020-10-06 07:30:05       0.0  google_play_store   \n",
       "53513 2020-09-29 01:45:32       0.0  google_play_store   \n",
       "51982 2020-10-06 14:11:36       0.0  google_play_store   \n",
       "\n",
       "                                                    text  length  \\\n",
       "61393  [gacha, rates, ruined, everything, lol, percen...      17   \n",
       "35967  [nice, graphic, nice, story, nice, rpg, keep, ...      17   \n",
       "39406  [still, the, best, mihiyo, game, its, a, mass,...      48   \n",
       "56810  [plss, make, ps, loginable, with, mihoyo, acco...      14   \n",
       "78783  [enquanto, n, o, ajustarem, os, pre, os, e, os...      14   \n",
       "45474  [amazing, game, thankyou, and, pls, make, fps,...      14   \n",
       "51349  [genshin, impact, is, soo, awesome, this, app,...      14   \n",
       "40727  [why, im, allwest, stuck, and, freezeng, ms, b...      14   \n",
       "53513  [the, game, is, absolutely, beautifullll, im, ...      14   \n",
       "51982  [nice, game, your, know, what, cooking, bbooom...      11   \n",
       "\n",
       "                                              split_text  \\\n",
       "61393  [gacha, rates, ruined, everything, lol, percen...   \n",
       "35967  [nice, graphic, nice, story, nice, rpg, keep, ...   \n",
       "39406  [still, the, best, mihiyo, game, its, a, mass,...   \n",
       "56810  [plss, make, ps, loginable, with, mihoyo, acco...   \n",
       "78783  [enquanto, não, ajustarem, os, preços, e, os, ...   \n",
       "45474  [amazing, game, thankyou, and, pls, make, fps,...   \n",
       "51349  [genshin, impact, is, soo, awesome, 💕, this, a...   \n",
       "40727  [why, im, allwest, stuck, and, freezeng, ms, b...   \n",
       "53513  [the, game, is, absolutely, beautifullll, im, ...   \n",
       "51982  [nice, game, your, know, what, cooking, bbooom...   \n",
       "\n",
       "                                           english_words  pct_english_words  \n",
       "61393  [False, True, True, True, False, True, True, F...           0.647059  \n",
       "35967  [True, True, True, True, True, False, True, Tr...           0.647059  \n",
       "39406  [True, True, True, False, True, True, True, Tr...           0.645833  \n",
       "56810  [False, True, True, False, True, False, True, ...           0.642857  \n",
       "78783  [False, True, True, False, True, False, True, ...           0.642857  \n",
       "45474  [True, True, False, True, False, True, True, T...           0.642857  \n",
       "51349  [False, True, True, False, True, True, True, T...           0.642857  \n",
       "40727  [True, False, False, True, True, False, True, ...           0.642857  \n",
       "53513  [True, True, True, True, False, False, True, F...           0.642857  \n",
       "51982  [True, True, True, True, True, True, False, Fa...           0.636364  "
      ]
     },
     "execution_count": 44,
     "metadata": {},
     "output_type": "execute_result"
    }
   ],
   "source": [
    "df[df['pct_english_words'] < 0.65].sort_values('pct_english_words', ascending = False).head(10)"
   ]
  },
  {
   "cell_type": "code",
   "execution_count": 45,
   "metadata": {
    "ExecuteTime": {
     "end_time": "2021-01-11T10:20:39.075751Z",
     "start_time": "2021-01-11T10:20:39.028780Z"
    }
   },
   "outputs": [
    {
     "data": {
      "text/html": [
       "<div>\n",
       "<style scoped>\n",
       "    .dataframe tbody tr th:only-of-type {\n",
       "        vertical-align: middle;\n",
       "    }\n",
       "\n",
       "    .dataframe tbody tr th {\n",
       "        vertical-align: top;\n",
       "    }\n",
       "\n",
       "    .dataframe thead th {\n",
       "        text-align: right;\n",
       "    }\n",
       "</style>\n",
       "<table border=\"1\" class=\"dataframe\">\n",
       "  <thead>\n",
       "    <tr style=\"text-align: right;\">\n",
       "      <th></th>\n",
       "      <th>content</th>\n",
       "      <th>score</th>\n",
       "      <th>date</th>\n",
       "      <th>thumbsUp</th>\n",
       "      <th>source</th>\n",
       "      <th>text</th>\n",
       "      <th>length</th>\n",
       "      <th>split_text</th>\n",
       "      <th>english_words</th>\n",
       "      <th>pct_english_words</th>\n",
       "    </tr>\n",
       "  </thead>\n",
       "  <tbody>\n",
       "    <tr>\n",
       "      <th>78160</th>\n",
       "      <td>Camera quá tệ, chế độ tự động phóng to thu nhỏ...</td>\n",
       "      <td>2</td>\n",
       "      <td>2020-11-20 06:45:53</td>\n",
       "      <td>0.0</td>\n",
       "      <td>google_play_store</td>\n",
       "      <td>[camera, qu, t, ch, t, ng, ph, ng, to, thu, nh...</td>\n",
       "      <td>33</td>\n",
       "      <td>[camera, quá, tệ, chế, độ, tự, động, phóng, to...</td>\n",
       "      <td>[True, True, True, True, True, False, False, F...</td>\n",
       "      <td>0.696970</td>\n",
       "    </tr>\n",
       "    <tr>\n",
       "      <th>90791</th>\n",
       "      <td>Quick question Is the add on youtube the voice...</td>\n",
       "      <td>5</td>\n",
       "      <td>2020-12-08 01:34:01</td>\n",
       "      <td>NaN</td>\n",
       "      <td>apple_app_store</td>\n",
       "      <td>[quick, question, is, the, add, on, youtube, t...</td>\n",
       "      <td>23</td>\n",
       "      <td>[quick, question, is, the, add, on, youtube, t...</td>\n",
       "      <td>[True, True, True, True, True, True, False, Tr...</td>\n",
       "      <td>0.695652</td>\n",
       "    </tr>\n",
       "    <tr>\n",
       "      <th>36538</th>\n",
       "      <td>Best open world RPG hack and slash Great detai...</td>\n",
       "      <td>5</td>\n",
       "      <td>2020-09-28 05:07:21</td>\n",
       "      <td>0.0</td>\n",
       "      <td>google_play_store</td>\n",
       "      <td>[best, open, world, rpg, hack, and, slash, gre...</td>\n",
       "      <td>23</td>\n",
       "      <td>[best, open, world, rpg, hack, and, slash, gre...</td>\n",
       "      <td>[True, True, True, False, True, True, True, Tr...</td>\n",
       "      <td>0.695652</td>\n",
       "    </tr>\n",
       "    <tr>\n",
       "      <th>36186</th>\n",
       "      <td>Mihoyo is real mthr fkr, just for 60 primogems...</td>\n",
       "      <td>1</td>\n",
       "      <td>2020-12-09 21:11:01</td>\n",
       "      <td>2.0</td>\n",
       "      <td>google_play_store</td>\n",
       "      <td>[mihoyo, is, real, mthr, fkr, just, for, primo...</td>\n",
       "      <td>23</td>\n",
       "      <td>[mihoyo, is, real, mthr, fkr, just, for, primo...</td>\n",
       "      <td>[False, True, True, False, False, True, True, ...</td>\n",
       "      <td>0.695652</td>\n",
       "    </tr>\n",
       "    <tr>\n",
       "      <th>30211</th>\n",
       "      <td>The game is ultra good but ther is gatcha so i...</td>\n",
       "      <td>5</td>\n",
       "      <td>2020-11-22 23:26:35</td>\n",
       "      <td>0.0</td>\n",
       "      <td>google_play_store</td>\n",
       "      <td>[the, game, is, ultra, good, but, ther, is, ga...</td>\n",
       "      <td>36</td>\n",
       "      <td>[the, game, is, ultra, good, but, ther, is, ga...</td>\n",
       "      <td>[True, True, True, True, True, True, False, Tr...</td>\n",
       "      <td>0.694444</td>\n",
       "    </tr>\n",
       "    <tr>\n",
       "      <th>90358</th>\n",
       "      <td>Wtff its not downloading 😂 The game isn’t down...</td>\n",
       "      <td>1</td>\n",
       "      <td>2020-10-04 13:20:10</td>\n",
       "      <td>NaN</td>\n",
       "      <td>apple_app_store</td>\n",
       "      <td>[wtff, its, not, downloading, the, game, isn, ...</td>\n",
       "      <td>13</td>\n",
       "      <td>[wtff, its, not, downloading, 😂, the, game, is...</td>\n",
       "      <td>[False, True, True, True, True, True, False, T...</td>\n",
       "      <td>0.692308</td>\n",
       "    </tr>\n",
       "    <tr>\n",
       "      <th>89130</th>\n",
       "      <td>Poggers It’s pretty neato burrito if you ask m...</td>\n",
       "      <td>4</td>\n",
       "      <td>2020-10-06 14:48:46</td>\n",
       "      <td>NaN</td>\n",
       "      <td>apple_app_store</td>\n",
       "      <td>[poggers, it, s, pretty, neato, burrito, if, y...</td>\n",
       "      <td>13</td>\n",
       "      <td>[poggers, it’s, pretty, neato, burrito, if, yo...</td>\n",
       "      <td>[False, True, True, True, False, True, True, T...</td>\n",
       "      <td>0.692308</td>\n",
       "    </tr>\n",
       "    <tr>\n",
       "      <th>59203</th>\n",
       "      <td>Why TF everyone hates the stamina ofc they hav...</td>\n",
       "      <td>5</td>\n",
       "      <td>2020-10-13 06:04:10</td>\n",
       "      <td>0.0</td>\n",
       "      <td>google_play_store</td>\n",
       "      <td>[why, tf, everyone, hates, the, stamina, ofc, ...</td>\n",
       "      <td>13</td>\n",
       "      <td>[why, tf, everyone, hates, the, stamina, ofc, ...</td>\n",
       "      <td>[True, False, True, True, True, True, False, T...</td>\n",
       "      <td>0.692308</td>\n",
       "    </tr>\n",
       "    <tr>\n",
       "      <th>31638</th>\n",
       "      <td>Please buff zhongli, why base attack zhongli w...</td>\n",
       "      <td>1</td>\n",
       "      <td>2020-12-05 09:11:41</td>\n",
       "      <td>1.0</td>\n",
       "      <td>google_play_store</td>\n",
       "      <td>[please, buff, zhongli, why, base, attack, zho...</td>\n",
       "      <td>13</td>\n",
       "      <td>[please, buff, zhongli, why, base, attack, zho...</td>\n",
       "      <td>[True, True, False, True, True, True, False, T...</td>\n",
       "      <td>0.692308</td>\n",
       "    </tr>\n",
       "    <tr>\n",
       "      <th>32889</th>\n",
       "      <td>Boring. No PVP. SOLO GAMING. LOOKS LIKE SOLO A...</td>\n",
       "      <td>1</td>\n",
       "      <td>2020-10-01 07:37:00</td>\n",
       "      <td>0.0</td>\n",
       "      <td>google_play_store</td>\n",
       "      <td>[boring, no, pvp, solo, gaming, looks, like, s...</td>\n",
       "      <td>13</td>\n",
       "      <td>[boring, no, pvp, solo, gaming, looks, like, s...</td>\n",
       "      <td>[True, True, False, True, True, True, True, Tr...</td>\n",
       "      <td>0.692308</td>\n",
       "    </tr>\n",
       "  </tbody>\n",
       "</table>\n",
       "</div>"
      ],
      "text/plain": [
       "                                                 content  score  \\\n",
       "78160  Camera quá tệ, chế độ tự động phóng to thu nhỏ...      2   \n",
       "90791  Quick question Is the add on youtube the voice...      5   \n",
       "36538  Best open world RPG hack and slash Great detai...      5   \n",
       "36186  Mihoyo is real mthr fkr, just for 60 primogems...      1   \n",
       "30211  The game is ultra good but ther is gatcha so i...      5   \n",
       "90358  Wtff its not downloading 😂 The game isn’t down...      1   \n",
       "89130  Poggers It’s pretty neato burrito if you ask m...      4   \n",
       "59203  Why TF everyone hates the stamina ofc they hav...      5   \n",
       "31638  Please buff zhongli, why base attack zhongli w...      1   \n",
       "32889  Boring. No PVP. SOLO GAMING. LOOKS LIKE SOLO A...      1   \n",
       "\n",
       "                     date  thumbsUp             source  \\\n",
       "78160 2020-11-20 06:45:53       0.0  google_play_store   \n",
       "90791 2020-12-08 01:34:01       NaN    apple_app_store   \n",
       "36538 2020-09-28 05:07:21       0.0  google_play_store   \n",
       "36186 2020-12-09 21:11:01       2.0  google_play_store   \n",
       "30211 2020-11-22 23:26:35       0.0  google_play_store   \n",
       "90358 2020-10-04 13:20:10       NaN    apple_app_store   \n",
       "89130 2020-10-06 14:48:46       NaN    apple_app_store   \n",
       "59203 2020-10-13 06:04:10       0.0  google_play_store   \n",
       "31638 2020-12-05 09:11:41       1.0  google_play_store   \n",
       "32889 2020-10-01 07:37:00       0.0  google_play_store   \n",
       "\n",
       "                                                    text  length  \\\n",
       "78160  [camera, qu, t, ch, t, ng, ph, ng, to, thu, nh...      33   \n",
       "90791  [quick, question, is, the, add, on, youtube, t...      23   \n",
       "36538  [best, open, world, rpg, hack, and, slash, gre...      23   \n",
       "36186  [mihoyo, is, real, mthr, fkr, just, for, primo...      23   \n",
       "30211  [the, game, is, ultra, good, but, ther, is, ga...      36   \n",
       "90358  [wtff, its, not, downloading, the, game, isn, ...      13   \n",
       "89130  [poggers, it, s, pretty, neato, burrito, if, y...      13   \n",
       "59203  [why, tf, everyone, hates, the, stamina, ofc, ...      13   \n",
       "31638  [please, buff, zhongli, why, base, attack, zho...      13   \n",
       "32889  [boring, no, pvp, solo, gaming, looks, like, s...      13   \n",
       "\n",
       "                                              split_text  \\\n",
       "78160  [camera, quá, tệ, chế, độ, tự, động, phóng, to...   \n",
       "90791  [quick, question, is, the, add, on, youtube, t...   \n",
       "36538  [best, open, world, rpg, hack, and, slash, gre...   \n",
       "36186  [mihoyo, is, real, mthr, fkr, just, for, primo...   \n",
       "30211  [the, game, is, ultra, good, but, ther, is, ga...   \n",
       "90358  [wtff, its, not, downloading, 😂, the, game, is...   \n",
       "89130  [poggers, it’s, pretty, neato, burrito, if, yo...   \n",
       "59203  [why, tf, everyone, hates, the, stamina, ofc, ...   \n",
       "31638  [please, buff, zhongli, why, base, attack, zho...   \n",
       "32889  [boring, no, pvp, solo, gaming, looks, like, s...   \n",
       "\n",
       "                                           english_words  pct_english_words  \n",
       "78160  [True, True, True, True, True, False, False, F...           0.696970  \n",
       "90791  [True, True, True, True, True, True, False, Tr...           0.695652  \n",
       "36538  [True, True, True, False, True, True, True, Tr...           0.695652  \n",
       "36186  [False, True, True, False, False, True, True, ...           0.695652  \n",
       "30211  [True, True, True, True, True, True, False, Tr...           0.694444  \n",
       "90358  [False, True, True, True, True, True, False, T...           0.692308  \n",
       "89130  [False, True, True, True, False, True, True, T...           0.692308  \n",
       "59203  [True, False, True, True, True, True, False, T...           0.692308  \n",
       "31638  [True, True, False, True, True, True, False, T...           0.692308  \n",
       "32889  [True, True, False, True, True, True, True, Tr...           0.692308  "
      ]
     },
     "execution_count": 45,
     "metadata": {},
     "output_type": "execute_result"
    }
   ],
   "source": [
    "df[df['pct_english_words'] < 0.7].sort_values('pct_english_words', ascending = False).head(10)"
   ]
  },
  {
   "cell_type": "markdown",
   "metadata": {},
   "source": [
    "Cần phải ưu tiên hơn cho người chơi --> [c, n, ph, i, u, ti, n, h, n, cho, ng, i, ch 74% english word\n",
    "\n",
    "Nhân vật cute sinh hoạt khá giống  --> nh, n, v, t, cute, sinh, ho, t, kh, gi, ng 74%\n",
    "\n",
    "Đổi tk cái nó đứng ở màn hình Kiểm --> i, tk, c, i, n, ng, m, n, h, nh, ki, m,"
   ]
  },
  {
   "cell_type": "code",
   "execution_count": 46,
   "metadata": {
    "ExecuteTime": {
     "end_time": "2021-01-11T10:20:39.123722Z",
     "start_time": "2021-01-11T10:20:39.076751Z"
    }
   },
   "outputs": [
    {
     "data": {
      "text/html": [
       "<div>\n",
       "<style scoped>\n",
       "    .dataframe tbody tr th:only-of-type {\n",
       "        vertical-align: middle;\n",
       "    }\n",
       "\n",
       "    .dataframe tbody tr th {\n",
       "        vertical-align: top;\n",
       "    }\n",
       "\n",
       "    .dataframe thead th {\n",
       "        text-align: right;\n",
       "    }\n",
       "</style>\n",
       "<table border=\"1\" class=\"dataframe\">\n",
       "  <thead>\n",
       "    <tr style=\"text-align: right;\">\n",
       "      <th></th>\n",
       "      <th>content</th>\n",
       "      <th>score</th>\n",
       "      <th>date</th>\n",
       "      <th>thumbsUp</th>\n",
       "      <th>source</th>\n",
       "      <th>text</th>\n",
       "      <th>length</th>\n",
       "      <th>split_text</th>\n",
       "      <th>english_words</th>\n",
       "      <th>pct_english_words</th>\n",
       "    </tr>\n",
       "  </thead>\n",
       "  <tbody>\n",
       "    <tr>\n",
       "      <th>42642</th>\n",
       "      <td>Hi developer I personally Loved this game and ...</td>\n",
       "      <td>3</td>\n",
       "      <td>2020-11-04 04:59:24</td>\n",
       "      <td>0.0</td>\n",
       "      <td>google_play_store</td>\n",
       "      <td>[hi, developer, i, personally, loved, this, ga...</td>\n",
       "      <td>79</td>\n",
       "      <td>[hi, developer, i, personally, loved, this, ga...</td>\n",
       "      <td>[True, True, True, True, True, True, True, Tru...</td>\n",
       "      <td>0.746835</td>\n",
       "    </tr>\n",
       "    <tr>\n",
       "      <th>78240</th>\n",
       "      <td>Cần phải ưu tiên hơn cho người chơi bằng smart...</td>\n",
       "      <td>5</td>\n",
       "      <td>2020-12-10 13:12:24</td>\n",
       "      <td>0.0</td>\n",
       "      <td>google_play_store</td>\n",
       "      <td>[c, n, ph, i, u, ti, n, h, n, cho, ng, i, ch, ...</td>\n",
       "      <td>35</td>\n",
       "      <td>[cần, phải, ưu, tiên, hơn, cho, người, chơi, b...</td>\n",
       "      <td>[True, True, False, True, True, True, True, Tr...</td>\n",
       "      <td>0.742857</td>\n",
       "    </tr>\n",
       "    <tr>\n",
       "      <th>70242</th>\n",
       "      <td>Reset 100 timess more, never get diluc. Only m...</td>\n",
       "      <td>1</td>\n",
       "      <td>2020-10-07 04:42:19</td>\n",
       "      <td>1.0</td>\n",
       "      <td>google_play_store</td>\n",
       "      <td>[reset, timess, more, never, get, diluc, only,...</td>\n",
       "      <td>27</td>\n",
       "      <td>[reset, timess, more, never, get, diluc, only,...</td>\n",
       "      <td>[True, False, True, True, True, False, True, F...</td>\n",
       "      <td>0.740741</td>\n",
       "    </tr>\n",
       "    <tr>\n",
       "      <th>78209</th>\n",
       "      <td>Ủa đhs tự nhiên đang đánh quái gần hết máu sắp...</td>\n",
       "      <td>3</td>\n",
       "      <td>2020-11-24 15:40:46</td>\n",
       "      <td>0.0</td>\n",
       "      <td>google_play_store</td>\n",
       "      <td>[a, hs, t, nhi, n, ang, nh, qu, i, g, n, h, t,...</td>\n",
       "      <td>77</td>\n",
       "      <td>[ủa, đhs, tự, nhiên, đang, đánh, quái, gần, hế...</td>\n",
       "      <td>[True, False, True, False, True, False, False,...</td>\n",
       "      <td>0.740260</td>\n",
       "    </tr>\n",
       "    <tr>\n",
       "      <th>79379</th>\n",
       "      <td>Nhân vật cute sinh hoạt khá giống đời thực nhậ...</td>\n",
       "      <td>5</td>\n",
       "      <td>2020-10-09 13:45:08</td>\n",
       "      <td>0.0</td>\n",
       "      <td>google_play_store</td>\n",
       "      <td>[nh, n, v, t, cute, sinh, ho, t, kh, gi, ng, i...</td>\n",
       "      <td>23</td>\n",
       "      <td>[nhân, vật, cute, sinh, hoạt, khá, giống, đời,...</td>\n",
       "      <td>[False, True, True, True, True, True, True, Tr...</td>\n",
       "      <td>0.739130</td>\n",
       "    </tr>\n",
       "    <tr>\n",
       "      <th>36198</th>\n",
       "      <td>Awesome game also canyou guys add genshin to t...</td>\n",
       "      <td>5</td>\n",
       "      <td>2020-09-30 11:55:56</td>\n",
       "      <td>0.0</td>\n",
       "      <td>google_play_store</td>\n",
       "      <td>[awesome, game, also, canyou, guys, add, gensh...</td>\n",
       "      <td>23</td>\n",
       "      <td>[awesome, game, also, canyou, guys, add, gensh...</td>\n",
       "      <td>[True, True, True, False, True, True, False, T...</td>\n",
       "      <td>0.739130</td>\n",
       "    </tr>\n",
       "    <tr>\n",
       "      <th>30038</th>\n",
       "      <td>Love the game but pls increase the resen cap a...</td>\n",
       "      <td>5</td>\n",
       "      <td>2020-10-22 14:01:36</td>\n",
       "      <td>0.0</td>\n",
       "      <td>google_play_store</td>\n",
       "      <td>[love, the, game, but, pls, increase, the, res...</td>\n",
       "      <td>46</td>\n",
       "      <td>[love, the, game, but, pls, increase, the, res...</td>\n",
       "      <td>[True, True, True, True, False, True, True, Fa...</td>\n",
       "      <td>0.739130</td>\n",
       "    </tr>\n",
       "    <tr>\n",
       "      <th>9645</th>\n",
       "      <td>i had a bug in the game account im lvl 25 and ...</td>\n",
       "      <td>1</td>\n",
       "      <td>2020-12-09 17:16:34</td>\n",
       "      <td>0.0</td>\n",
       "      <td>google_play_store</td>\n",
       "      <td>[i, had, a, bug, in, the, game, account, im, l...</td>\n",
       "      <td>23</td>\n",
       "      <td>[i, had, a, bug, in, the, game, account, im, l...</td>\n",
       "      <td>[True, True, True, True, True, True, True, Tru...</td>\n",
       "      <td>0.739130</td>\n",
       "    </tr>\n",
       "    <tr>\n",
       "      <th>90873</th>\n",
       "      <td>Spotify and SoundCloud I wish Genshin Impact a...</td>\n",
       "      <td>4</td>\n",
       "      <td>2020-11-04 18:36:53</td>\n",
       "      <td>NaN</td>\n",
       "      <td>apple_app_store</td>\n",
       "      <td>[spotify, and, soundcloud, i, wish, genshin, i...</td>\n",
       "      <td>19</td>\n",
       "      <td>[spotify, and, soundcloud, i, wish, genshin, i...</td>\n",
       "      <td>[False, True, False, True, True, False, True, ...</td>\n",
       "      <td>0.736842</td>\n",
       "    </tr>\n",
       "    <tr>\n",
       "      <th>79143</th>\n",
       "      <td>Tôi ko mua hàng được trong game. Game cứ hiện ...</td>\n",
       "      <td>5</td>\n",
       "      <td>2020-10-04 00:36:27</td>\n",
       "      <td>0.0</td>\n",
       "      <td>google_play_store</td>\n",
       "      <td>[t, i, ko, mua, h, ng, c, trong, game, game, c...</td>\n",
       "      <td>38</td>\n",
       "      <td>[tôi, ko, mua, hàng, được, trong, game, game, ...</td>\n",
       "      <td>[True, True, False, False, True, False, True, ...</td>\n",
       "      <td>0.736842</td>\n",
       "    </tr>\n",
       "  </tbody>\n",
       "</table>\n",
       "</div>"
      ],
      "text/plain": [
       "                                                 content  score  \\\n",
       "42642  Hi developer I personally Loved this game and ...      3   \n",
       "78240  Cần phải ưu tiên hơn cho người chơi bằng smart...      5   \n",
       "70242  Reset 100 timess more, never get diluc. Only m...      1   \n",
       "78209  Ủa đhs tự nhiên đang đánh quái gần hết máu sắp...      3   \n",
       "79379  Nhân vật cute sinh hoạt khá giống đời thực nhậ...      5   \n",
       "36198  Awesome game also canyou guys add genshin to t...      5   \n",
       "30038  Love the game but pls increase the resen cap a...      5   \n",
       "9645   i had a bug in the game account im lvl 25 and ...      1   \n",
       "90873  Spotify and SoundCloud I wish Genshin Impact a...      4   \n",
       "79143  Tôi ko mua hàng được trong game. Game cứ hiện ...      5   \n",
       "\n",
       "                     date  thumbsUp             source  \\\n",
       "42642 2020-11-04 04:59:24       0.0  google_play_store   \n",
       "78240 2020-12-10 13:12:24       0.0  google_play_store   \n",
       "70242 2020-10-07 04:42:19       1.0  google_play_store   \n",
       "78209 2020-11-24 15:40:46       0.0  google_play_store   \n",
       "79379 2020-10-09 13:45:08       0.0  google_play_store   \n",
       "36198 2020-09-30 11:55:56       0.0  google_play_store   \n",
       "30038 2020-10-22 14:01:36       0.0  google_play_store   \n",
       "9645  2020-12-09 17:16:34       0.0  google_play_store   \n",
       "90873 2020-11-04 18:36:53       NaN    apple_app_store   \n",
       "79143 2020-10-04 00:36:27       0.0  google_play_store   \n",
       "\n",
       "                                                    text  length  \\\n",
       "42642  [hi, developer, i, personally, loved, this, ga...      79   \n",
       "78240  [c, n, ph, i, u, ti, n, h, n, cho, ng, i, ch, ...      35   \n",
       "70242  [reset, timess, more, never, get, diluc, only,...      27   \n",
       "78209  [a, hs, t, nhi, n, ang, nh, qu, i, g, n, h, t,...      77   \n",
       "79379  [nh, n, v, t, cute, sinh, ho, t, kh, gi, ng, i...      23   \n",
       "36198  [awesome, game, also, canyou, guys, add, gensh...      23   \n",
       "30038  [love, the, game, but, pls, increase, the, res...      46   \n",
       "9645   [i, had, a, bug, in, the, game, account, im, l...      23   \n",
       "90873  [spotify, and, soundcloud, i, wish, genshin, i...      19   \n",
       "79143  [t, i, ko, mua, h, ng, c, trong, game, game, c...      38   \n",
       "\n",
       "                                              split_text  \\\n",
       "42642  [hi, developer, i, personally, loved, this, ga...   \n",
       "78240  [cần, phải, ưu, tiên, hơn, cho, người, chơi, b...   \n",
       "70242  [reset, timess, more, never, get, diluc, only,...   \n",
       "78209  [ủa, đhs, tự, nhiên, đang, đánh, quái, gần, hế...   \n",
       "79379  [nhân, vật, cute, sinh, hoạt, khá, giống, đời,...   \n",
       "36198  [awesome, game, also, canyou, guys, add, gensh...   \n",
       "30038  [love, the, game, but, pls, increase, the, res...   \n",
       "9645   [i, had, a, bug, in, the, game, account, im, l...   \n",
       "90873  [spotify, and, soundcloud, i, wish, genshin, i...   \n",
       "79143  [tôi, ko, mua, hàng, được, trong, game, game, ...   \n",
       "\n",
       "                                           english_words  pct_english_words  \n",
       "42642  [True, True, True, True, True, True, True, Tru...           0.746835  \n",
       "78240  [True, True, False, True, True, True, True, Tr...           0.742857  \n",
       "70242  [True, False, True, True, True, False, True, F...           0.740741  \n",
       "78209  [True, False, True, False, True, False, False,...           0.740260  \n",
       "79379  [False, True, True, True, True, True, True, Tr...           0.739130  \n",
       "36198  [True, True, True, False, True, True, False, T...           0.739130  \n",
       "30038  [True, True, True, True, False, True, True, Fa...           0.739130  \n",
       "9645   [True, True, True, True, True, True, True, Tru...           0.739130  \n",
       "90873  [False, True, False, True, True, False, True, ...           0.736842  \n",
       "79143  [True, True, False, False, True, False, True, ...           0.736842  "
      ]
     },
     "execution_count": 46,
     "metadata": {},
     "output_type": "execute_result"
    }
   ],
   "source": [
    "df[df['pct_english_words'] < 0.75].sort_values('pct_english_words', ascending = False).head(10)"
   ]
  },
  {
   "cell_type": "markdown",
   "metadata": {},
   "source": [
    "### Split Word"
   ]
  },
  {
   "cell_type": "code",
   "execution_count": 47,
   "metadata": {
    "ExecuteTime": {
     "end_time": "2021-01-11T10:20:39.139712Z",
     "start_time": "2021-01-11T10:20:39.125722Z"
    }
   },
   "outputs": [],
   "source": [
    "# define simple text processing function\n",
    "def simple_word_splitter(text):\n",
    "\n",
    "    # remove non-letters\n",
    "    letters_only = re.sub(\"[\\d\\s~@#$^*()_+=[\\]{}|\\\\,.!?:-]\", \" \", text)\n",
    "\n",
    "    # convert each word to lower case\n",
    "    words = letters_only.lower().split()\n",
    "                        \n",
    "    return words"
   ]
  },
  {
   "cell_type": "code",
   "execution_count": 48,
   "metadata": {
    "ExecuteTime": {
     "end_time": "2021-01-11T10:20:40.790871Z",
     "start_time": "2021-01-11T10:20:39.141712Z"
    }
   },
   "outputs": [],
   "source": [
    "df['split_text'] = df['content'].apply(lambda x: simple_word_splitter(x))"
   ]
  },
  {
   "cell_type": "code",
   "execution_count": 49,
   "metadata": {
    "ExecuteTime": {
     "end_time": "2021-01-11T10:30:18.019092Z",
     "start_time": "2021-01-11T10:20:40.792870Z"
    }
   },
   "outputs": [],
   "source": [
    "df['english_words_split'] = df['split_text'].apply(lambda x: [en_dict.check(word) for word in x])\n",
    "\n",
    "df['pct_english_words_split'] = df['english_words_split'].apply(lambda x: x.count(True) / len(x))"
   ]
  },
  {
   "cell_type": "code",
   "execution_count": 50,
   "metadata": {
    "ExecuteTime": {
     "end_time": "2021-01-11T10:30:18.035086Z",
     "start_time": "2021-01-11T10:30:18.021094Z"
    }
   },
   "outputs": [
    {
     "data": {
      "text/plain": [
       "count    91146.000000\n",
       "mean         0.918255\n",
       "std          0.141338\n",
       "min          0.000000\n",
       "25%          0.900000\n",
       "50%          0.962264\n",
       "75%          1.000000\n",
       "max          1.000000\n",
       "Name: pct_english_words_split, dtype: float64"
      ]
     },
     "execution_count": 50,
     "metadata": {},
     "output_type": "execute_result"
    }
   ],
   "source": [
    "df['pct_english_words_split'].describe()"
   ]
  },
  {
   "cell_type": "code",
   "execution_count": 51,
   "metadata": {
    "ExecuteTime": {
     "end_time": "2021-01-11T10:30:18.226468Z",
     "start_time": "2021-01-11T10:30:18.037084Z"
    }
   },
   "outputs": [
    {
     "data": {
      "text/plain": [
       "<AxesSubplot:xlabel='pct_english_words_split'>"
      ]
     },
     "execution_count": 51,
     "metadata": {},
     "output_type": "execute_result"
    },
    {
     "data": {
      "image/png": "[encoded data removed]",
      "text/plain": [
       "<Figure size 432x288 with 1 Axes>"
      ]
     },
     "metadata": {},
     "output_type": "display_data"
    }
   ],
   "source": [
    "sns.boxplot(data=df, x=\"pct_english_words_split\", hue=\"source\", orient = 'h')"
   ]
  },
  {
   "cell_type": "code",
   "execution_count": 7,
   "metadata": {
    "ExecuteTime": {
     "end_time": "2021-01-12T08:55:12.101094Z",
     "start_time": "2021-01-12T08:55:12.078108Z"
    }
   },
   "outputs": [
    {
     "data": {
      "text/html": [
       "<div>\n",
       "<style scoped>\n",
       "    .dataframe tbody tr th:only-of-type {\n",
       "        vertical-align: middle;\n",
       "    }\n",
       "\n",
       "    .dataframe tbody tr th {\n",
       "        vertical-align: top;\n",
       "    }\n",
       "\n",
       "    .dataframe thead th {\n",
       "        text-align: right;\n",
       "    }\n",
       "</style>\n",
       "<table border=\"1\" class=\"dataframe\">\n",
       "  <thead>\n",
       "    <tr style=\"text-align: right;\">\n",
       "      <th></th>\n",
       "      <th>content</th>\n",
       "      <th>split_text</th>\n",
       "    </tr>\n",
       "  </thead>\n",
       "  <tbody>\n",
       "    <tr>\n",
       "      <th>90753</th>\n",
       "      <td>No compatible con control bluetooth E tratado ...</td>\n",
       "      <td>[no, compatible, con, control, bluetooth, e, t...</td>\n",
       "    </tr>\n",
       "    <tr>\n",
       "      <th>79031</th>\n",
       "      <td>Game android paling kece, grafiknya kayak di p...</td>\n",
       "      <td>[game, android, paling, kece, grafiknya, kayak...</td>\n",
       "    </tr>\n",
       "    <tr>\n",
       "      <th>40082</th>\n",
       "      <td>sangat menyeronokkan..rasanya seperti anda men...</td>\n",
       "      <td>[sangat, menyeronokkan, rasanya, seperti, anda...</td>\n",
       "    </tr>\n",
       "    <tr>\n",
       "      <th>78790</th>\n",
       "      <td>Game MMORPG yang berbeda dengan game yamg lain...</td>\n",
       "      <td>[game, mmorpg, yang, berbeda, dengan, game, ya...</td>\n",
       "    </tr>\n",
       "    <tr>\n",
       "      <th>19821</th>\n",
       "      <td>Tolong di perbaiki server Asia :) download lan...</td>\n",
       "      <td>[tolong, di, perbaiki, server, asia, download,...</td>\n",
       "    </tr>\n",
       "    <tr>\n",
       "      <th>72398</th>\n",
       "      <td>Can I get legendry caracter ok pls I am a kid ...</td>\n",
       "      <td>[can, i, get, legendry, caracter, ok, pls, i, ...</td>\n",
       "    </tr>\n",
       "    <tr>\n",
       "      <th>76341</th>\n",
       "      <td>Tis is so amizing and so satisfaying so pls do...</td>\n",
       "      <td>[tis, is, so, amizing, and, so, satisfaying, s...</td>\n",
       "    </tr>\n",
       "    <tr>\n",
       "      <th>79060</th>\n",
       "      <td>Payah. Udah di link di user center sama email,...</td>\n",
       "      <td>[payah, udah, di, link, di, user, center, sama...</td>\n",
       "    </tr>\n",
       "    <tr>\n",
       "      <th>71587</th>\n",
       "      <td>Kek rng didnt gib me a loli but gave a mona in...</td>\n",
       "      <td>[kek, rng, didnt, gib, me, a, loli, but, gave,...</td>\n",
       "    </tr>\n",
       "    <tr>\n",
       "      <th>64800</th>\n",
       "      <td>This game its good gharpic its goodヾ(＾-＾)ノi li...</td>\n",
       "      <td>[this, game, its, good, gharpic, its, goodヾ, ＾...</td>\n",
       "    </tr>\n",
       "  </tbody>\n",
       "</table>\n",
       "</div>"
      ],
      "text/plain": [
       "                                                 content  \\\n",
       "90753  No compatible con control bluetooth E tratado ...   \n",
       "79031  Game android paling kece, grafiknya kayak di p...   \n",
       "40082  sangat menyeronokkan..rasanya seperti anda men...   \n",
       "78790  Game MMORPG yang berbeda dengan game yamg lain...   \n",
       "19821  Tolong di perbaiki server Asia :) download lan...   \n",
       "72398  Can I get legendry caracter ok pls I am a kid ...   \n",
       "76341  Tis is so amizing and so satisfaying so pls do...   \n",
       "79060  Payah. Udah di link di user center sama email,...   \n",
       "71587  Kek rng didnt gib me a loli but gave a mona in...   \n",
       "64800  This game its good gharpic its goodヾ(＾-＾)ノi li...   \n",
       "\n",
       "                                              split_text  \n",
       "90753  [no, compatible, con, control, bluetooth, e, t...  \n",
       "79031  [game, android, paling, kece, grafiknya, kayak...  \n",
       "40082  [sangat, menyeronokkan, rasanya, seperti, anda...  \n",
       "78790  [game, mmorpg, yang, berbeda, dengan, game, ya...  \n",
       "19821  [tolong, di, perbaiki, server, asia, download,...  \n",
       "72398  [can, i, get, legendry, caracter, ok, pls, i, ...  \n",
       "76341  [tis, is, so, amizing, and, so, satisfaying, s...  \n",
       "79060  [payah, udah, di, link, di, user, center, sama...  \n",
       "71587  [kek, rng, didnt, gib, me, a, loli, but, gave,...  \n",
       "64800  [this, game, its, good, gharpic, its, goodヾ, ＾...  "
      ]
     },
     "execution_count": 7,
     "metadata": {},
     "output_type": "execute_result"
    }
   ],
   "source": [
    "df[df['pct_english_words_split'] < 0.6].sort_values('pct_english_words_split', ascending = False)[['content', 'split_text']].head(10)"
   ]
  },
  {
   "cell_type": "code",
   "execution_count": 8,
   "metadata": {
    "ExecuteTime": {
     "end_time": "2021-01-12T08:55:21.916357Z",
     "start_time": "2021-01-12T08:55:21.888376Z"
    }
   },
   "outputs": [
    {
     "data": {
      "text/html": [
       "<div>\n",
       "<style scoped>\n",
       "    .dataframe tbody tr th:only-of-type {\n",
       "        vertical-align: middle;\n",
       "    }\n",
       "\n",
       "    .dataframe tbody tr th {\n",
       "        vertical-align: top;\n",
       "    }\n",
       "\n",
       "    .dataframe thead th {\n",
       "        text-align: right;\n",
       "    }\n",
       "</style>\n",
       "<table border=\"1\" class=\"dataframe\">\n",
       "  <thead>\n",
       "    <tr style=\"text-align: right;\">\n",
       "      <th></th>\n",
       "      <th>content</th>\n",
       "      <th>split_text</th>\n",
       "    </tr>\n",
       "  </thead>\n",
       "  <tbody>\n",
       "    <tr>\n",
       "      <th>44394</th>\n",
       "      <td>Android, iOS, PC &amp; PS4 ✓ Open-world solo play ...</td>\n",
       "      <td>[android, ios, pc, &amp;, ps, ✓, open, world, solo...</td>\n",
       "    </tr>\n",
       "    <tr>\n",
       "      <th>35512</th>\n",
       "      <td>Please change \"worship statue\" to other word l...</td>\n",
       "      <td>[please, change, \"worship, statue\", to, other,...</td>\n",
       "    </tr>\n",
       "    <tr>\n",
       "      <th>61393</th>\n",
       "      <td>Gacha rates ruined everything lol. 0.6 percent...</td>\n",
       "      <td>[gacha, rates, ruined, everything, lol, percen...</td>\n",
       "    </tr>\n",
       "    <tr>\n",
       "      <th>54037</th>\n",
       "      <td>Buat emak2 yang review gamenya dgn kata2 anakn...</td>\n",
       "      <td>[buat, emak, yang, review, gamenya, dgn, kata,...</td>\n",
       "    </tr>\n",
       "    <tr>\n",
       "      <th>37422</th>\n",
       "      <td>اللعبه رائعه وتنقصها اللغه العربيه. The Game n...</td>\n",
       "      <td>[اللعبه, رائعه, وتنقصها, اللغه, العربيه, the, ...</td>\n",
       "    </tr>\n",
       "    <tr>\n",
       "      <th>63376</th>\n",
       "      <td>It's 5GB, dude ITS 5GB! Pokemon Sun for 3DS is...</td>\n",
       "      <td>[it's, gb, dude, its, gb, pokemon, sun, for, d...</td>\n",
       "    </tr>\n",
       "    <tr>\n",
       "      <th>37347</th>\n",
       "      <td>Botw quality but with icing on the cake RPG el...</td>\n",
       "      <td>[botw, quality, but, with, icing, on, the, cak...</td>\n",
       "    </tr>\n",
       "    <tr>\n",
       "      <th>35967</th>\n",
       "      <td>Nice graphic, nice story, nice rpg keep the wi...</td>\n",
       "      <td>[nice, graphic, nice, story, nice, rpg, keep, ...</td>\n",
       "    </tr>\n",
       "    <tr>\n",
       "      <th>39406</th>\n",
       "      <td>still the best mihiyo game.its a mass open wor...</td>\n",
       "      <td>[still, the, best, mihiyo, game, its, a, mass,...</td>\n",
       "    </tr>\n",
       "    <tr>\n",
       "      <th>58702</th>\n",
       "      <td>Stamina based game. 0/5 . P2w system 0/5 chine...</td>\n",
       "      <td>[stamina, based, game, /, p, w, system, /, chi...</td>\n",
       "    </tr>\n",
       "  </tbody>\n",
       "</table>\n",
       "</div>"
      ],
      "text/plain": [
       "                                                 content  \\\n",
       "44394  Android, iOS, PC & PS4 ✓ Open-world solo play ...   \n",
       "35512  Please change \"worship statue\" to other word l...   \n",
       "61393  Gacha rates ruined everything lol. 0.6 percent...   \n",
       "54037  Buat emak2 yang review gamenya dgn kata2 anakn...   \n",
       "37422  اللعبه رائعه وتنقصها اللغه العربيه. The Game n...   \n",
       "63376  It's 5GB, dude ITS 5GB! Pokemon Sun for 3DS is...   \n",
       "37347  Botw quality but with icing on the cake RPG el...   \n",
       "35967  Nice graphic, nice story, nice rpg keep the wi...   \n",
       "39406  still the best mihiyo game.its a mass open wor...   \n",
       "58702  Stamina based game. 0/5 . P2w system 0/5 chine...   \n",
       "\n",
       "                                              split_text  \n",
       "44394  [android, ios, pc, &, ps, ✓, open, world, solo...  \n",
       "35512  [please, change, \"worship, statue\", to, other,...  \n",
       "61393  [gacha, rates, ruined, everything, lol, percen...  \n",
       "54037  [buat, emak, yang, review, gamenya, dgn, kata,...  \n",
       "37422  [اللعبه, رائعه, وتنقصها, اللغه, العربيه, the, ...  \n",
       "63376  [it's, gb, dude, its, gb, pokemon, sun, for, d...  \n",
       "37347  [botw, quality, but, with, icing, on, the, cak...  \n",
       "35967  [nice, graphic, nice, story, nice, rpg, keep, ...  \n",
       "39406  [still, the, best, mihiyo, game, its, a, mass,...  \n",
       "58702  [stamina, based, game, /, p, w, system, /, chi...  "
      ]
     },
     "execution_count": 8,
     "metadata": {},
     "output_type": "execute_result"
    }
   ],
   "source": [
    "df[df['pct_english_words_split'] < 0.65].sort_values('pct_english_words_split', ascending = False)[['content', 'split_text']].head(10)"
   ]
  },
  {
   "cell_type": "code",
   "execution_count": 9,
   "metadata": {
    "ExecuteTime": {
     "end_time": "2021-01-12T08:55:30.080925Z",
     "start_time": "2021-01-12T08:55:30.048946Z"
    }
   },
   "outputs": [
    {
     "data": {
      "text/html": [
       "<div>\n",
       "<style scoped>\n",
       "    .dataframe tbody tr th:only-of-type {\n",
       "        vertical-align: middle;\n",
       "    }\n",
       "\n",
       "    .dataframe tbody tr th {\n",
       "        vertical-align: top;\n",
       "    }\n",
       "\n",
       "    .dataframe thead th {\n",
       "        text-align: right;\n",
       "    }\n",
       "</style>\n",
       "<table border=\"1\" class=\"dataframe\">\n",
       "  <thead>\n",
       "    <tr style=\"text-align: right;\">\n",
       "      <th></th>\n",
       "      <th>content</th>\n",
       "      <th>split_text</th>\n",
       "    </tr>\n",
       "  </thead>\n",
       "  <tbody>\n",
       "    <tr>\n",
       "      <th>90791</th>\n",
       "      <td>Quick question Is the add on youtube the voice...</td>\n",
       "      <td>[quick, question, is, the, add, on, youtube, t...</td>\n",
       "    </tr>\n",
       "    <tr>\n",
       "      <th>36538</th>\n",
       "      <td>Best open world RPG hack and slash Great detai...</td>\n",
       "      <td>[best, open, world, rpg, hack, and, slash, gre...</td>\n",
       "    </tr>\n",
       "    <tr>\n",
       "      <th>30211</th>\n",
       "      <td>The game is ultra good but ther is gatcha so i...</td>\n",
       "      <td>[the, game, is, ultra, good, but, ther, is, ga...</td>\n",
       "    </tr>\n",
       "    <tr>\n",
       "      <th>37362</th>\n",
       "      <td>One of the best RPG game. haha lol and also it...</td>\n",
       "      <td>[one, of, the, best, rpg, game, haha, lol, and...</td>\n",
       "    </tr>\n",
       "    <tr>\n",
       "      <th>53399</th>\n",
       "      <td>Plays alot like BOTW and its great, im haveing...</td>\n",
       "      <td>[plays, alot, like, botw, and, its, great, im,...</td>\n",
       "    </tr>\n",
       "    <tr>\n",
       "      <th>24693</th>\n",
       "      <td>Just love the memes. Great gameplay and ARA-AR...</td>\n",
       "      <td>[just, love, the, memes, great, gameplay, and,...</td>\n",
       "    </tr>\n",
       "    <tr>\n",
       "      <th>89444</th>\n",
       "      <td>Too heavy I’m unable to play even when i’m usi...</td>\n",
       "      <td>[too, heavy, i’m, unable, to, play, even, when...</td>\n",
       "    </tr>\n",
       "    <tr>\n",
       "      <th>39004</th>\n",
       "      <td>Love it, now give me childe &gt;:''''( Ok i got c...</td>\n",
       "      <td>[love, it, now, give, me, childe, &gt;, '''', ok,...</td>\n",
       "    </tr>\n",
       "    <tr>\n",
       "      <th>32889</th>\n",
       "      <td>Boring. No PVP. SOLO GAMING. LOOKS LIKE SOLO A...</td>\n",
       "      <td>[boring, no, pvp, solo, gaming, looks, like, s...</td>\n",
       "    </tr>\n",
       "    <tr>\n",
       "      <th>56919</th>\n",
       "      <td>paimon is so cute&lt;3 I'd love to have my own pa...</td>\n",
       "      <td>[paimon, is, so, cute&lt;, i'd, love, to, have, m...</td>\n",
       "    </tr>\n",
       "  </tbody>\n",
       "</table>\n",
       "</div>"
      ],
      "text/plain": [
       "                                                 content  \\\n",
       "90791  Quick question Is the add on youtube the voice...   \n",
       "36538  Best open world RPG hack and slash Great detai...   \n",
       "30211  The game is ultra good but ther is gatcha so i...   \n",
       "37362  One of the best RPG game. haha lol and also it...   \n",
       "53399  Plays alot like BOTW and its great, im haveing...   \n",
       "24693  Just love the memes. Great gameplay and ARA-AR...   \n",
       "89444  Too heavy I’m unable to play even when i’m usi...   \n",
       "39004  Love it, now give me childe >:''''( Ok i got c...   \n",
       "32889  Boring. No PVP. SOLO GAMING. LOOKS LIKE SOLO A...   \n",
       "56919  paimon is so cute<3 I'd love to have my own pa...   \n",
       "\n",
       "                                              split_text  \n",
       "90791  [quick, question, is, the, add, on, youtube, t...  \n",
       "36538  [best, open, world, rpg, hack, and, slash, gre...  \n",
       "30211  [the, game, is, ultra, good, but, ther, is, ga...  \n",
       "37362  [one, of, the, best, rpg, game, haha, lol, and...  \n",
       "53399  [plays, alot, like, botw, and, its, great, im,...  \n",
       "24693  [just, love, the, memes, great, gameplay, and,...  \n",
       "89444  [too, heavy, i’m, unable, to, play, even, when...  \n",
       "39004  [love, it, now, give, me, childe, >, '''', ok,...  \n",
       "32889  [boring, no, pvp, solo, gaming, looks, like, s...  \n",
       "56919  [paimon, is, so, cute<, i'd, love, to, have, m...  "
      ]
     },
     "execution_count": 9,
     "metadata": {},
     "output_type": "execute_result"
    }
   ],
   "source": [
    "df[df['pct_english_words_split'] < 0.7].sort_values('pct_english_words_split', ascending = False)[['content', 'split_text']].head(10)"
   ]
  },
  {
   "cell_type": "code",
   "execution_count": 10,
   "metadata": {
    "ExecuteTime": {
     "end_time": "2021-01-12T08:55:57.851004Z",
     "start_time": "2021-01-12T08:55:57.809030Z"
    }
   },
   "outputs": [
    {
     "data": {
      "text/html": [
       "<div>\n",
       "<style scoped>\n",
       "    .dataframe tbody tr th:only-of-type {\n",
       "        vertical-align: middle;\n",
       "    }\n",
       "\n",
       "    .dataframe tbody tr th {\n",
       "        vertical-align: top;\n",
       "    }\n",
       "\n",
       "    .dataframe thead th {\n",
       "        text-align: right;\n",
       "    }\n",
       "</style>\n",
       "<table border=\"1\" class=\"dataframe\">\n",
       "  <thead>\n",
       "    <tr style=\"text-align: right;\">\n",
       "      <th></th>\n",
       "      <th>content</th>\n",
       "      <th>split_text</th>\n",
       "    </tr>\n",
       "  </thead>\n",
       "  <tbody>\n",
       "    <tr>\n",
       "      <th>85088</th>\n",
       "      <td>Bro this game is awsome I preorderd the game, ...</td>\n",
       "      <td>[bro, this, game, is, awsome, i, preorderd, th...</td>\n",
       "    </tr>\n",
       "    <tr>\n",
       "      <th>45342</th>\n",
       "      <td>PLSSS FIX THISS😭😭, idk what happened but when ...</td>\n",
       "      <td>[plsss, fix, thiss😭😭, idk, what, happened, but...</td>\n",
       "    </tr>\n",
       "    <tr>\n",
       "      <th>28718</th>\n",
       "      <td>Klee gacha is trash. This game is worst than H...</td>\n",
       "      <td>[klee, gacha, is, trash, this, game, is, worst...</td>\n",
       "    </tr>\n",
       "    <tr>\n",
       "      <th>36341</th>\n",
       "      <td>That's good. Graphics 10/10 Voice Actress 9/10...</td>\n",
       "      <td>[that's, good, graphics, /, voice, actress, /,...</td>\n",
       "    </tr>\n",
       "    <tr>\n",
       "      <th>45823</th>\n",
       "      <td>After update, gpu always rises to above 75% wh...</td>\n",
       "      <td>[after, update, gpu, always, rises, to, above,...</td>\n",
       "    </tr>\n",
       "    <tr>\n",
       "      <th>6371</th>\n",
       "      <td>The game wasss soooo gooood But the problme is...</td>\n",
       "      <td>[the, game, wasss, soooo, gooood, but, the, pr...</td>\n",
       "    </tr>\n",
       "    <tr>\n",
       "      <th>70242</th>\n",
       "      <td>Reset 100 timess more, never get diluc. Only m...</td>\n",
       "      <td>[reset, timess, more, never, get, diluc, only,...</td>\n",
       "    </tr>\n",
       "    <tr>\n",
       "      <th>52216</th>\n",
       "      <td>One of best game ever in playstore. Storyline ...</td>\n",
       "      <td>[one, of, best, game, ever, in, playstore, sto...</td>\n",
       "    </tr>\n",
       "    <tr>\n",
       "      <th>48897</th>\n",
       "      <td>WAIFUUUUUS, 10/10 BESS GAME PAIMON BRUHHH Only...</td>\n",
       "      <td>[waifuuuuus, /, bess, game, paimon, bruhhh, on...</td>\n",
       "    </tr>\n",
       "    <tr>\n",
       "      <th>39501</th>\n",
       "      <td>I hope it's worth the wait. I've been waiting ...</td>\n",
       "      <td>[i, hope, it's, worth, the, wait, i've, been, ...</td>\n",
       "    </tr>\n",
       "  </tbody>\n",
       "</table>\n",
       "</div>"
      ],
      "text/plain": [
       "                                                 content  \\\n",
       "85088  Bro this game is awsome I preorderd the game, ...   \n",
       "45342  PLSSS FIX THISS😭😭, idk what happened but when ...   \n",
       "28718  Klee gacha is trash. This game is worst than H...   \n",
       "36341  That's good. Graphics 10/10 Voice Actress 9/10...   \n",
       "45823  After update, gpu always rises to above 75% wh...   \n",
       "6371   The game wasss soooo gooood But the problme is...   \n",
       "70242  Reset 100 timess more, never get diluc. Only m...   \n",
       "52216  One of best game ever in playstore. Storyline ...   \n",
       "48897  WAIFUUUUUS, 10/10 BESS GAME PAIMON BRUHHH Only...   \n",
       "39501  I hope it's worth the wait. I've been waiting ...   \n",
       "\n",
       "                                              split_text  \n",
       "85088  [bro, this, game, is, awsome, i, preorderd, th...  \n",
       "45342  [plsss, fix, thiss😭😭, idk, what, happened, but...  \n",
       "28718  [klee, gacha, is, trash, this, game, is, worst...  \n",
       "36341  [that's, good, graphics, /, voice, actress, /,...  \n",
       "45823  [after, update, gpu, always, rises, to, above,...  \n",
       "6371   [the, game, wasss, soooo, gooood, but, the, pr...  \n",
       "70242  [reset, timess, more, never, get, diluc, only,...  \n",
       "52216  [one, of, best, game, ever, in, playstore, sto...  \n",
       "48897  [waifuuuuus, /, bess, game, paimon, bruhhh, on...  \n",
       "39501  [i, hope, it's, worth, the, wait, i've, been, ...  "
      ]
     },
     "execution_count": 10,
     "metadata": {},
     "output_type": "execute_result"
    }
   ],
   "source": [
    "df[df['pct_english_words_split'] < 0.75].sort_values('pct_english_words_split', ascending = False)[['content', 'split_text']].head(10)"
   ]
  },
  {
   "cell_type": "markdown",
   "metadata": {},
   "source": [
    "# HERE"
   ]
  },
  {
   "cell_type": "code",
   "execution_count": 57,
   "metadata": {
    "ExecuteTime": {
     "end_time": "2021-01-11T11:00:22.983495Z",
     "start_time": "2021-01-11T11:00:21.407198Z"
    }
   },
   "outputs": [],
   "source": [
    "df.to_pickle('data/temp_df.p')"
   ]
  },
  {
   "cell_type": "code",
   "execution_count": 2,
   "metadata": {
    "ExecuteTime": {
     "end_time": "2021-01-12T08:54:14.449164Z",
     "start_time": "2021-01-12T08:54:12.207688Z"
    }
   },
   "outputs": [],
   "source": [
    "df = pd.read_pickle('data/temp_df.p')"
   ]
  },
  {
   "cell_type": "code",
   "execution_count": 13,
   "metadata": {
    "ExecuteTime": {
     "end_time": "2021-01-12T08:57:04.766268Z",
     "start_time": "2021-01-12T08:57:04.482282Z"
    }
   },
   "outputs": [
    {
     "data": {
      "image/png": "[encoded data removed]",
      "text/plain": [
       "<Figure size 432x288 with 1 Axes>"
      ]
     },
     "metadata": {},
     "output_type": "display_data"
    }
   ],
   "source": [
    "df[df['pct_english_words_split'] < 0.6]['source'].value_counts(normalize = True, sort = False).plot(kind = 'barh')\n",
    "plt.show()"
   ]
  },
  {
   "cell_type": "code",
   "execution_count": 14,
   "metadata": {
    "ExecuteTime": {
     "end_time": "2021-01-12T08:57:39.947825Z",
     "start_time": "2021-01-12T08:57:39.936833Z"
    }
   },
   "outputs": [
    {
     "data": {
      "text/plain": [
       "Int64Index([ 7831, 19147, 19744, 19821, 22312, 23700, 24660, 28291, 28427,\n",
       "            28794,\n",
       "            ...\n",
       "            90830, 90916, 90937, 90949, 90975, 90990, 91025, 91075, 91095,\n",
       "            91137],\n",
       "           dtype='int64', length=2947)"
      ]
     },
     "execution_count": 14,
     "metadata": {},
     "output_type": "execute_result"
    }
   ],
   "source": [
    "df[df['pct_english_words_split'] < 0.6].index"
   ]
  },
  {
   "cell_type": "code",
   "execution_count": 15,
   "metadata": {
    "ExecuteTime": {
     "end_time": "2021-01-12T08:57:52.172952Z",
     "start_time": "2021-01-12T08:57:52.120988Z"
    }
   },
   "outputs": [],
   "source": [
    "df.drop(index = df[df['pct_english_words_split'] < 0.6].index, inplace = True)\n",
    "\n",
    "df.reset_index(drop = True, inplace = True)\n",
    "\n",
    "df.head()"
   ]
  },
  {
   "cell_type": "code",
   "execution_count": 18,
   "metadata": {
    "ExecuteTime": {
     "end_time": "2021-01-12T08:58:31.281900Z",
     "start_time": "2021-01-12T08:58:31.273904Z"
    }
   },
   "outputs": [
    {
     "data": {
      "text/plain": [
       "(88199, 12)"
      ]
     },
     "execution_count": 18,
     "metadata": {},
     "output_type": "execute_result"
    }
   ],
   "source": [
    "df.shape"
   ]
  },
  {
   "cell_type": "code",
   "execution_count": 19,
   "metadata": {
    "ExecuteTime": {
     "end_time": "2021-01-12T08:59:17.562340Z",
     "start_time": "2021-01-12T08:59:17.499378Z"
    }
   },
   "outputs": [
    {
     "data": {
      "text/html": [
       "<div>\n",
       "<style scoped>\n",
       "    .dataframe tbody tr th:only-of-type {\n",
       "        vertical-align: middle;\n",
       "    }\n",
       "\n",
       "    .dataframe tbody tr th {\n",
       "        vertical-align: top;\n",
       "    }\n",
       "\n",
       "    .dataframe thead th {\n",
       "        text-align: right;\n",
       "    }\n",
       "</style>\n",
       "<table border=\"1\" class=\"dataframe\">\n",
       "  <thead>\n",
       "    <tr style=\"text-align: right;\">\n",
       "      <th></th>\n",
       "      <th>content</th>\n",
       "      <th>score</th>\n",
       "      <th>date</th>\n",
       "      <th>thumbsUp</th>\n",
       "      <th>source</th>\n",
       "      <th>text</th>\n",
       "      <th>length</th>\n",
       "      <th>split_text</th>\n",
       "      <th>english_words</th>\n",
       "      <th>pct_english_words</th>\n",
       "      <th>english_words_split</th>\n",
       "      <th>pct_english_words_split</th>\n",
       "    </tr>\n",
       "  </thead>\n",
       "  <tbody>\n",
       "    <tr>\n",
       "      <th>0</th>\n",
       "      <td>The graphics are gorgeous, the gameplay is inc...</td>\n",
       "      <td>5</td>\n",
       "      <td>2020-12-11 13:55:29</td>\n",
       "      <td>881.0</td>\n",
       "      <td>google_play_store</td>\n",
       "      <td>[the, graphics, are, gorgeous, the, gameplay, ...</td>\n",
       "      <td>84</td>\n",
       "      <td>[the, graphics, are, gorgeous, the, gameplay, ...</td>\n",
       "      <td>[True, True, True, True, True, False, True, Tr...</td>\n",
       "      <td>0.988095</td>\n",
       "      <td>[True, True, True, True, True, False, True, Tr...</td>\n",
       "      <td>0.939759</td>\n",
       "    </tr>\n",
       "    <tr>\n",
       "      <th>1</th>\n",
       "      <td>If you love free world RPG, then this is it! T...</td>\n",
       "      <td>5</td>\n",
       "      <td>2020-12-16 18:10:47</td>\n",
       "      <td>48.0</td>\n",
       "      <td>google_play_store</td>\n",
       "      <td>[if, you, love, free, world, rpg, then, this, ...</td>\n",
       "      <td>94</td>\n",
       "      <td>[if, you, love, free, world, rpg, then, this, ...</td>\n",
       "      <td>[True, True, True, True, True, False, True, Tr...</td>\n",
       "      <td>0.978723</td>\n",
       "      <td>[True, True, True, True, True, False, True, Tr...</td>\n",
       "      <td>0.956989</td>\n",
       "    </tr>\n",
       "    <tr>\n",
       "      <th>2</th>\n",
       "      <td>I absolutely love the game! No complaints besi...</td>\n",
       "      <td>5</td>\n",
       "      <td>2020-12-16 00:18:43</td>\n",
       "      <td>185.0</td>\n",
       "      <td>google_play_store</td>\n",
       "      <td>[i, absolutely, love, the, game, no, complaint...</td>\n",
       "      <td>75</td>\n",
       "      <td>[i, absolutely, love, the, game, no, complaint...</td>\n",
       "      <td>[True, True, True, True, True, True, True, Tru...</td>\n",
       "      <td>1.000000</td>\n",
       "      <td>[True, True, True, True, True, True, True, Tru...</td>\n",
       "      <td>0.986111</td>\n",
       "    </tr>\n",
       "    <tr>\n",
       "      <th>3</th>\n",
       "      <td>Great game. Regardless of ripoff issues and su...</td>\n",
       "      <td>4</td>\n",
       "      <td>2020-12-16 12:46:11</td>\n",
       "      <td>1.0</td>\n",
       "      <td>google_play_store</td>\n",
       "      <td>[great, game, regardless, of, ripoff, issues, ...</td>\n",
       "      <td>88</td>\n",
       "      <td>[great, game, regardless, of, ripoff, issues, ...</td>\n",
       "      <td>[True, True, True, True, True, True, True, Tru...</td>\n",
       "      <td>0.988636</td>\n",
       "      <td>[True, True, True, True, True, True, True, Tru...</td>\n",
       "      <td>0.977528</td>\n",
       "    </tr>\n",
       "    <tr>\n",
       "      <th>4</th>\n",
       "      <td>Amazing graphics and gameplay although a lot o...</td>\n",
       "      <td>5</td>\n",
       "      <td>2020-12-10 22:51:08</td>\n",
       "      <td>186.0</td>\n",
       "      <td>google_play_store</td>\n",
       "      <td>[amazing, graphics, and, gameplay, although, a...</td>\n",
       "      <td>86</td>\n",
       "      <td>[amazing, graphics, and, gameplay, although, a...</td>\n",
       "      <td>[True, True, True, False, True, True, True, Tr...</td>\n",
       "      <td>0.953488</td>\n",
       "      <td>[True, True, True, False, True, True, True, Tr...</td>\n",
       "      <td>0.939759</td>\n",
       "    </tr>\n",
       "  </tbody>\n",
       "</table>\n",
       "</div>"
      ],
      "text/plain": [
       "                                             content  score  \\\n",
       "0  The graphics are gorgeous, the gameplay is inc...      5   \n",
       "1  If you love free world RPG, then this is it! T...      5   \n",
       "2  I absolutely love the game! No complaints besi...      5   \n",
       "3  Great game. Regardless of ripoff issues and su...      4   \n",
       "4  Amazing graphics and gameplay although a lot o...      5   \n",
       "\n",
       "                 date  thumbsUp             source  \\\n",
       "0 2020-12-11 13:55:29     881.0  google_play_store   \n",
       "1 2020-12-16 18:10:47      48.0  google_play_store   \n",
       "2 2020-12-16 00:18:43     185.0  google_play_store   \n",
       "3 2020-12-16 12:46:11       1.0  google_play_store   \n",
       "4 2020-12-10 22:51:08     186.0  google_play_store   \n",
       "\n",
       "                                                text  length  \\\n",
       "0  [the, graphics, are, gorgeous, the, gameplay, ...      84   \n",
       "1  [if, you, love, free, world, rpg, then, this, ...      94   \n",
       "2  [i, absolutely, love, the, game, no, complaint...      75   \n",
       "3  [great, game, regardless, of, ripoff, issues, ...      88   \n",
       "4  [amazing, graphics, and, gameplay, although, a...      86   \n",
       "\n",
       "                                          split_text  \\\n",
       "0  [the, graphics, are, gorgeous, the, gameplay, ...   \n",
       "1  [if, you, love, free, world, rpg, then, this, ...   \n",
       "2  [i, absolutely, love, the, game, no, complaint...   \n",
       "3  [great, game, regardless, of, ripoff, issues, ...   \n",
       "4  [amazing, graphics, and, gameplay, although, a...   \n",
       "\n",
       "                                       english_words  pct_english_words  \\\n",
       "0  [True, True, True, True, True, False, True, Tr...           0.988095   \n",
       "1  [True, True, True, True, True, False, True, Tr...           0.978723   \n",
       "2  [True, True, True, True, True, True, True, Tru...           1.000000   \n",
       "3  [True, True, True, True, True, True, True, Tru...           0.988636   \n",
       "4  [True, True, True, False, True, True, True, Tr...           0.953488   \n",
       "\n",
       "                                 english_words_split  pct_english_words_split  \n",
       "0  [True, True, True, True, True, False, True, Tr...                 0.939759  \n",
       "1  [True, True, True, True, True, False, True, Tr...                 0.956989  \n",
       "2  [True, True, True, True, True, True, True, Tru...                 0.986111  \n",
       "3  [True, True, True, True, True, True, True, Tru...                 0.977528  \n",
       "4  [True, True, True, False, True, True, True, Tr...                 0.939759  "
      ]
     },
     "execution_count": 19,
     "metadata": {},
     "output_type": "execute_result"
    }
   ],
   "source": [
    "df.head()"
   ]
  },
  {
   "cell_type": "code",
   "execution_count": 20,
   "metadata": {
    "ExecuteTime": {
     "end_time": "2021-01-12T08:59:49.874007Z",
     "start_time": "2021-01-12T08:59:49.867011Z"
    }
   },
   "outputs": [
    {
     "data": {
      "text/plain": [
       "Index(['content', 'score', 'date', 'thumbsUp', 'source', 'text', 'length',\n",
       "       'split_text', 'english_words', 'pct_english_words',\n",
       "       'english_words_split', 'pct_english_words_split'],\n",
       "      dtype='object')"
      ]
     },
     "execution_count": 20,
     "metadata": {},
     "output_type": "execute_result"
    }
   ],
   "source": [
    "df.columns"
   ]
  },
  {
   "cell_type": "code",
   "execution_count": 21,
   "metadata": {
    "ExecuteTime": {
     "end_time": "2021-01-12T09:04:40.624898Z",
     "start_time": "2021-01-12T09:04:40.588921Z"
    }
   },
   "outputs": [],
   "source": [
    "df.drop(columns = ['split_text', 'english_words', 'pct_english_words', 'english_words_split', 'pct_english_words_split'], inplace = True)"
   ]
  },
  {
   "cell_type": "code",
   "execution_count": 22,
   "metadata": {
    "ExecuteTime": {
     "end_time": "2021-01-12T09:04:46.583206Z",
     "start_time": "2021-01-12T09:04:46.555224Z"
    }
   },
   "outputs": [
    {
     "data": {
      "text/html": [
       "<div>\n",
       "<style scoped>\n",
       "    .dataframe tbody tr th:only-of-type {\n",
       "        vertical-align: middle;\n",
       "    }\n",
       "\n",
       "    .dataframe tbody tr th {\n",
       "        vertical-align: top;\n",
       "    }\n",
       "\n",
       "    .dataframe thead th {\n",
       "        text-align: right;\n",
       "    }\n",
       "</style>\n",
       "<table border=\"1\" class=\"dataframe\">\n",
       "  <thead>\n",
       "    <tr style=\"text-align: right;\">\n",
       "      <th></th>\n",
       "      <th>content</th>\n",
       "      <th>score</th>\n",
       "      <th>date</th>\n",
       "      <th>thumbsUp</th>\n",
       "      <th>source</th>\n",
       "      <th>text</th>\n",
       "      <th>length</th>\n",
       "    </tr>\n",
       "  </thead>\n",
       "  <tbody>\n",
       "    <tr>\n",
       "      <th>0</th>\n",
       "      <td>The graphics are gorgeous, the gameplay is inc...</td>\n",
       "      <td>5</td>\n",
       "      <td>2020-12-11 13:55:29</td>\n",
       "      <td>881.0</td>\n",
       "      <td>google_play_store</td>\n",
       "      <td>[the, graphics, are, gorgeous, the, gameplay, ...</td>\n",
       "      <td>84</td>\n",
       "    </tr>\n",
       "    <tr>\n",
       "      <th>1</th>\n",
       "      <td>If you love free world RPG, then this is it! T...</td>\n",
       "      <td>5</td>\n",
       "      <td>2020-12-16 18:10:47</td>\n",
       "      <td>48.0</td>\n",
       "      <td>google_play_store</td>\n",
       "      <td>[if, you, love, free, world, rpg, then, this, ...</td>\n",
       "      <td>94</td>\n",
       "    </tr>\n",
       "    <tr>\n",
       "      <th>2</th>\n",
       "      <td>I absolutely love the game! No complaints besi...</td>\n",
       "      <td>5</td>\n",
       "      <td>2020-12-16 00:18:43</td>\n",
       "      <td>185.0</td>\n",
       "      <td>google_play_store</td>\n",
       "      <td>[i, absolutely, love, the, game, no, complaint...</td>\n",
       "      <td>75</td>\n",
       "    </tr>\n",
       "    <tr>\n",
       "      <th>3</th>\n",
       "      <td>Great game. Regardless of ripoff issues and su...</td>\n",
       "      <td>4</td>\n",
       "      <td>2020-12-16 12:46:11</td>\n",
       "      <td>1.0</td>\n",
       "      <td>google_play_store</td>\n",
       "      <td>[great, game, regardless, of, ripoff, issues, ...</td>\n",
       "      <td>88</td>\n",
       "    </tr>\n",
       "    <tr>\n",
       "      <th>4</th>\n",
       "      <td>Amazing graphics and gameplay although a lot o...</td>\n",
       "      <td>5</td>\n",
       "      <td>2020-12-10 22:51:08</td>\n",
       "      <td>186.0</td>\n",
       "      <td>google_play_store</td>\n",
       "      <td>[amazing, graphics, and, gameplay, although, a...</td>\n",
       "      <td>86</td>\n",
       "    </tr>\n",
       "  </tbody>\n",
       "</table>\n",
       "</div>"
      ],
      "text/plain": [
       "                                             content  score  \\\n",
       "0  The graphics are gorgeous, the gameplay is inc...      5   \n",
       "1  If you love free world RPG, then this is it! T...      5   \n",
       "2  I absolutely love the game! No complaints besi...      5   \n",
       "3  Great game. Regardless of ripoff issues and su...      4   \n",
       "4  Amazing graphics and gameplay although a lot o...      5   \n",
       "\n",
       "                 date  thumbsUp             source  \\\n",
       "0 2020-12-11 13:55:29     881.0  google_play_store   \n",
       "1 2020-12-16 18:10:47      48.0  google_play_store   \n",
       "2 2020-12-16 00:18:43     185.0  google_play_store   \n",
       "3 2020-12-16 12:46:11       1.0  google_play_store   \n",
       "4 2020-12-10 22:51:08     186.0  google_play_store   \n",
       "\n",
       "                                                text  length  \n",
       "0  [the, graphics, are, gorgeous, the, gameplay, ...      84  \n",
       "1  [if, you, love, free, world, rpg, then, this, ...      94  \n",
       "2  [i, absolutely, love, the, game, no, complaint...      75  \n",
       "3  [great, game, regardless, of, ripoff, issues, ...      88  \n",
       "4  [amazing, graphics, and, gameplay, although, a...      86  "
      ]
     },
     "execution_count": 22,
     "metadata": {},
     "output_type": "execute_result"
    }
   ],
   "source": [
    "df.head()"
   ]
  },
  {
   "cell_type": "markdown",
   "metadata": {},
   "source": [
    "# Feature Engineering"
   ]
  },
  {
   "cell_type": "markdown",
   "metadata": {},
   "source": [
    "## Update Number\n",
    "Genshin Impact has a big update every 6 weeks. In between the 6 weeks, there will be a small update on the 4th week. The updates in the dataset are as follow:\n",
    "\n",
    "- Sep 27: 1.0.1 (Base game release)\n",
    "- Oct 21: 1.0.2 \n",
    "- Nov 11: 1.1.1 (First Big update)\n",
    "- Dec 02: 1.1.2\n",
    "\n",
    "As the players' feedback might change following changes that have been made during the updates, it will be useful to create the \"Update\" column. We can use this to breakdown the analysis of the dataset."
   ]
  },
  {
   "cell_type": "code",
   "execution_count": 24,
   "metadata": {
    "ExecuteTime": {
     "end_time": "2021-01-12T09:05:00.653365Z",
     "start_time": "2021-01-12T09:04:59.767905Z"
    }
   },
   "outputs": [],
   "source": [
    "def find_update(date):\n",
    "    if date > datetime(2020, 12, 2):\n",
    "        return \"1.1.2\"\n",
    "    elif date > datetime(2020, 11, 11):\n",
    "        return \"1.1.1\"\n",
    "    elif date > datetime(2020, 10, 21):\n",
    "        return \"1.0.2\"\n",
    "    else:\n",
    "        return \"1.0.1\"\n",
    "    \n",
    "df['update'] = df['date'].apply(lambda x: find_update(x))"
   ]
  },
  {
   "cell_type": "code",
   "execution_count": 25,
   "metadata": {
    "ExecuteTime": {
     "end_time": "2021-01-12T09:05:01.139014Z",
     "start_time": "2021-01-12T09:05:01.123023Z"
    }
   },
   "outputs": [
    {
     "data": {
      "text/plain": [
       "1.0.1    0.580562\n",
       "1.0.2    0.179571\n",
       "1.1.1    0.149854\n",
       "1.1.2    0.090012\n",
       "Name: update, dtype: float64"
      ]
     },
     "execution_count": 25,
     "metadata": {},
     "output_type": "execute_result"
    }
   ],
   "source": [
    "df['update'].value_counts(normalize = True,)"
   ]
  },
  {
   "cell_type": "code",
   "execution_count": 26,
   "metadata": {
    "ExecuteTime": {
     "end_time": "2021-01-12T09:05:07.136476Z",
     "start_time": "2021-01-12T09:05:07.114490Z"
    }
   },
   "outputs": [
    {
     "data": {
      "text/html": [
       "<div>\n",
       "<style scoped>\n",
       "    .dataframe tbody tr th:only-of-type {\n",
       "        vertical-align: middle;\n",
       "    }\n",
       "\n",
       "    .dataframe tbody tr th {\n",
       "        vertical-align: top;\n",
       "    }\n",
       "\n",
       "    .dataframe thead th {\n",
       "        text-align: right;\n",
       "    }\n",
       "</style>\n",
       "<table border=\"1\" class=\"dataframe\">\n",
       "  <thead>\n",
       "    <tr style=\"text-align: right;\">\n",
       "      <th></th>\n",
       "      <th>content</th>\n",
       "      <th>score</th>\n",
       "      <th>date</th>\n",
       "      <th>thumbsUp</th>\n",
       "      <th>source</th>\n",
       "      <th>text</th>\n",
       "      <th>length</th>\n",
       "      <th>update</th>\n",
       "    </tr>\n",
       "  </thead>\n",
       "  <tbody>\n",
       "    <tr>\n",
       "      <th>0</th>\n",
       "      <td>The graphics are gorgeous, the gameplay is inc...</td>\n",
       "      <td>5</td>\n",
       "      <td>2020-12-11 13:55:29</td>\n",
       "      <td>881.0</td>\n",
       "      <td>google_play_store</td>\n",
       "      <td>[the, graphics, are, gorgeous, the, gameplay, ...</td>\n",
       "      <td>84</td>\n",
       "      <td>1.1.2</td>\n",
       "    </tr>\n",
       "    <tr>\n",
       "      <th>1</th>\n",
       "      <td>If you love free world RPG, then this is it! T...</td>\n",
       "      <td>5</td>\n",
       "      <td>2020-12-16 18:10:47</td>\n",
       "      <td>48.0</td>\n",
       "      <td>google_play_store</td>\n",
       "      <td>[if, you, love, free, world, rpg, then, this, ...</td>\n",
       "      <td>94</td>\n",
       "      <td>1.1.2</td>\n",
       "    </tr>\n",
       "    <tr>\n",
       "      <th>2</th>\n",
       "      <td>I absolutely love the game! No complaints besi...</td>\n",
       "      <td>5</td>\n",
       "      <td>2020-12-16 00:18:43</td>\n",
       "      <td>185.0</td>\n",
       "      <td>google_play_store</td>\n",
       "      <td>[i, absolutely, love, the, game, no, complaint...</td>\n",
       "      <td>75</td>\n",
       "      <td>1.1.2</td>\n",
       "    </tr>\n",
       "    <tr>\n",
       "      <th>3</th>\n",
       "      <td>Great game. Regardless of ripoff issues and su...</td>\n",
       "      <td>4</td>\n",
       "      <td>2020-12-16 12:46:11</td>\n",
       "      <td>1.0</td>\n",
       "      <td>google_play_store</td>\n",
       "      <td>[great, game, regardless, of, ripoff, issues, ...</td>\n",
       "      <td>88</td>\n",
       "      <td>1.1.2</td>\n",
       "    </tr>\n",
       "    <tr>\n",
       "      <th>4</th>\n",
       "      <td>Amazing graphics and gameplay although a lot o...</td>\n",
       "      <td>5</td>\n",
       "      <td>2020-12-10 22:51:08</td>\n",
       "      <td>186.0</td>\n",
       "      <td>google_play_store</td>\n",
       "      <td>[amazing, graphics, and, gameplay, although, a...</td>\n",
       "      <td>86</td>\n",
       "      <td>1.1.2</td>\n",
       "    </tr>\n",
       "  </tbody>\n",
       "</table>\n",
       "</div>"
      ],
      "text/plain": [
       "                                             content  score  \\\n",
       "0  The graphics are gorgeous, the gameplay is inc...      5   \n",
       "1  If you love free world RPG, then this is it! T...      5   \n",
       "2  I absolutely love the game! No complaints besi...      5   \n",
       "3  Great game. Regardless of ripoff issues and su...      4   \n",
       "4  Amazing graphics and gameplay although a lot o...      5   \n",
       "\n",
       "                 date  thumbsUp             source  \\\n",
       "0 2020-12-11 13:55:29     881.0  google_play_store   \n",
       "1 2020-12-16 18:10:47      48.0  google_play_store   \n",
       "2 2020-12-16 00:18:43     185.0  google_play_store   \n",
       "3 2020-12-16 12:46:11       1.0  google_play_store   \n",
       "4 2020-12-10 22:51:08     186.0  google_play_store   \n",
       "\n",
       "                                                text  length update  \n",
       "0  [the, graphics, are, gorgeous, the, gameplay, ...      84  1.1.2  \n",
       "1  [if, you, love, free, world, rpg, then, this, ...      94  1.1.2  \n",
       "2  [i, absolutely, love, the, game, no, complaint...      75  1.1.2  \n",
       "3  [great, game, regardless, of, ripoff, issues, ...      88  1.1.2  \n",
       "4  [amazing, graphics, and, gameplay, although, a...      86  1.1.2  "
      ]
     },
     "execution_count": 26,
     "metadata": {},
     "output_type": "execute_result"
    }
   ],
   "source": [
    "df.head()"
   ]
  },
  {
   "cell_type": "code",
   "execution_count": 27,
   "metadata": {
    "ExecuteTime": {
     "end_time": "2021-01-12T09:05:33.462243Z",
     "start_time": "2021-01-12T09:05:33.413274Z"
    }
   },
   "outputs": [
    {
     "name": "stdout",
     "output_type": "stream",
     "text": [
      "<class 'pandas.core.frame.DataFrame'>\n",
      "RangeIndex: 88199 entries, 0 to 88198\n",
      "Data columns (total 8 columns):\n",
      " #   Column    Non-Null Count  Dtype         \n",
      "---  ------    --------------  -----         \n",
      " 0   content   88199 non-null  object        \n",
      " 1   score     88199 non-null  int64         \n",
      " 2   date      88199 non-null  datetime64[ns]\n",
      " 3   thumbsUp  78276 non-null  float64       \n",
      " 4   source    88199 non-null  object        \n",
      " 5   text      88199 non-null  object        \n",
      " 6   length    88199 non-null  int64         \n",
      " 7   update    88199 non-null  object        \n",
      "dtypes: datetime64[ns](1), float64(1), int64(2), object(4)\n",
      "memory usage: 5.4+ MB\n"
     ]
    }
   ],
   "source": [
    "df.info()"
   ]
  },
  {
   "cell_type": "markdown",
   "metadata": {},
   "source": [
    "# Exploring the Dataset"
   ]
  },
  {
   "cell_type": "code",
   "execution_count": 37,
   "metadata": {
    "ExecuteTime": {
     "end_time": "2021-01-10T08:09:55.520624Z",
     "start_time": "2021-01-10T08:09:55.491642Z"
    }
   },
   "outputs": [
    {
     "data": {
      "text/html": [
       "<div>\n",
       "<style scoped>\n",
       "    .dataframe tbody tr th:only-of-type {\n",
       "        vertical-align: middle;\n",
       "    }\n",
       "\n",
       "    .dataframe tbody tr th {\n",
       "        vertical-align: top;\n",
       "    }\n",
       "\n",
       "    .dataframe thead th {\n",
       "        text-align: right;\n",
       "    }\n",
       "</style>\n",
       "<table border=\"1\" class=\"dataframe\">\n",
       "  <thead>\n",
       "    <tr style=\"text-align: right;\">\n",
       "      <th></th>\n",
       "      <th>content</th>\n",
       "      <th>score</th>\n",
       "      <th>date</th>\n",
       "      <th>thumbsUp</th>\n",
       "      <th>source</th>\n",
       "      <th>update</th>\n",
       "      <th>text</th>\n",
       "    </tr>\n",
       "  </thead>\n",
       "  <tbody>\n",
       "    <tr>\n",
       "      <th>0</th>\n",
       "      <td>The graphics are gorgeous, the gameplay is inc...</td>\n",
       "      <td>5</td>\n",
       "      <td>2020-12-11 13:55:29</td>\n",
       "      <td>881.0</td>\n",
       "      <td>google_play_store</td>\n",
       "      <td>1.1.2</td>\n",
       "      <td>[The, graphics, are, gorgeous, ,, the, gamepla...</td>\n",
       "    </tr>\n",
       "    <tr>\n",
       "      <th>1</th>\n",
       "      <td>If you love free world RPG, then this is it! T...</td>\n",
       "      <td>5</td>\n",
       "      <td>2020-12-16 18:10:47</td>\n",
       "      <td>48.0</td>\n",
       "      <td>google_play_store</td>\n",
       "      <td>1.1.2</td>\n",
       "      <td>[If, you, love, free, world, RPG, ,, then, thi...</td>\n",
       "    </tr>\n",
       "    <tr>\n",
       "      <th>2</th>\n",
       "      <td>I absolutely love the game! No complaints besi...</td>\n",
       "      <td>5</td>\n",
       "      <td>2020-12-16 00:18:43</td>\n",
       "      <td>185.0</td>\n",
       "      <td>google_play_store</td>\n",
       "      <td>1.1.2</td>\n",
       "      <td>[I, absolutely, love, the, game, !, No, compla...</td>\n",
       "    </tr>\n",
       "    <tr>\n",
       "      <th>3</th>\n",
       "      <td>Great game. Regardless of ripoff issues and su...</td>\n",
       "      <td>4</td>\n",
       "      <td>2020-12-16 12:46:11</td>\n",
       "      <td>1.0</td>\n",
       "      <td>google_play_store</td>\n",
       "      <td>1.1.2</td>\n",
       "      <td>[Great, game, ., Regardless, of, ripoff, issue...</td>\n",
       "    </tr>\n",
       "    <tr>\n",
       "      <th>4</th>\n",
       "      <td>Amazing graphics and gameplay although a lot o...</td>\n",
       "      <td>5</td>\n",
       "      <td>2020-12-10 22:51:08</td>\n",
       "      <td>186.0</td>\n",
       "      <td>google_play_store</td>\n",
       "      <td>1.1.2</td>\n",
       "      <td>[Amazing, graphics, and, gameplay, although, a...</td>\n",
       "    </tr>\n",
       "  </tbody>\n",
       "</table>\n",
       "</div>"
      ],
      "text/plain": [
       "                                             content  score  \\\n",
       "0  The graphics are gorgeous, the gameplay is inc...      5   \n",
       "1  If you love free world RPG, then this is it! T...      5   \n",
       "2  I absolutely love the game! No complaints besi...      5   \n",
       "3  Great game. Regardless of ripoff issues and su...      4   \n",
       "4  Amazing graphics and gameplay although a lot o...      5   \n",
       "\n",
       "                 date  thumbsUp             source update  \\\n",
       "0 2020-12-11 13:55:29     881.0  google_play_store  1.1.2   \n",
       "1 2020-12-16 18:10:47      48.0  google_play_store  1.1.2   \n",
       "2 2020-12-16 00:18:43     185.0  google_play_store  1.1.2   \n",
       "3 2020-12-16 12:46:11       1.0  google_play_store  1.1.2   \n",
       "4 2020-12-10 22:51:08     186.0  google_play_store  1.1.2   \n",
       "\n",
       "                                                text  \n",
       "0  [The, graphics, are, gorgeous, ,, the, gamepla...  \n",
       "1  [If, you, love, free, world, RPG, ,, then, thi...  \n",
       "2  [I, absolutely, love, the, game, !, No, compla...  \n",
       "3  [Great, game, ., Regardless, of, ripoff, issue...  \n",
       "4  [Amazing, graphics, and, gameplay, although, a...  "
      ]
     },
     "execution_count": 37,
     "metadata": {},
     "output_type": "execute_result"
    }
   ],
   "source": [
    "df.head()"
   ]
  },
  {
   "cell_type": "code",
   "execution_count": 28,
   "metadata": {
    "ExecuteTime": {
     "end_time": "2021-01-12T09:06:35.712045Z",
     "start_time": "2021-01-12T09:06:35.541945Z"
    }
   },
   "outputs": [
    {
     "data": {
      "image/png": "[encoded data removed]",
      "text/plain": [
       "<Figure size 432x288 with 1 Axes>"
      ]
     },
     "metadata": {},
     "output_type": "display_data"
    }
   ],
   "source": [
    "df['score'].value_counts(normalize = True, sort = False).plot(kind='bar')\n",
    "plt.show()"
   ]
  },
  {
   "cell_type": "code",
   "execution_count": 29,
   "metadata": {
    "ExecuteTime": {
     "end_time": "2021-01-12T09:07:03.721786Z",
     "start_time": "2021-01-12T09:07:03.522909Z"
    }
   },
   "outputs": [
    {
     "data": {
      "image/png": "[encoded data removed]",
      "text/plain": [
       "<Figure size 432x288 with 1 Axes>"
      ]
     },
     "metadata": {},
     "output_type": "display_data"
    }
   ],
   "source": [
    "df[df['source'] == 'google_play_store']['score'].value_counts(normalize = True, sort = False).plot(kind='bar')\n",
    "plt.show()"
   ]
  },
  {
   "cell_type": "code",
   "execution_count": 30,
   "metadata": {
    "ExecuteTime": {
     "end_time": "2021-01-12T09:07:06.297619Z",
     "start_time": "2021-01-12T09:07:06.125722Z"
    }
   },
   "outputs": [
    {
     "data": {
      "image/png": "[encoded data removed]",
      "text/plain": [
       "<Figure size 432x288 with 1 Axes>"
      ]
     },
     "metadata": {},
     "output_type": "display_data"
    }
   ],
   "source": [
    "df[df['source'] == 'apple_app_store']['score'].value_counts(normalize = True, sort = False).plot(kind='bar')\n",
    "plt.show()"
   ]
  },
  {
   "cell_type": "code",
   "execution_count": 36,
   "metadata": {
    "ExecuteTime": {
     "end_time": "2021-01-12T09:28:37.478953Z",
     "start_time": "2021-01-12T09:28:37.320052Z"
    }
   },
   "outputs": [
    {
     "data": {
      "image/png": "[encoded data removed]",
      "text/plain": [
       "<Figure size 432x288 with 1 Axes>"
      ]
     },
     "metadata": {},
     "output_type": "display_data"
    }
   ],
   "source": [
    "df['update'].value_counts(normalize = True, sort = False).sort_index().plot(kind='bar')\n",
    "plt.show()"
   ]
  },
  {
   "cell_type": "code",
   "execution_count": 37,
   "metadata": {
    "ExecuteTime": {
     "end_time": "2021-01-12T09:28:42.818061Z",
     "start_time": "2021-01-12T09:28:42.628890Z"
    }
   },
   "outputs": [
    {
     "data": {
      "image/png": "[encoded data removed]",
      "text/plain": [
       "<Figure size 432x288 with 1 Axes>"
      ]
     },
     "metadata": {},
     "output_type": "display_data"
    }
   ],
   "source": [
    "df[df['source'] == 'google_play_store']['update'].value_counts(normalize = True, sort = False).sort_index().plot(kind='bar')\n",
    "plt.show()"
   ]
  },
  {
   "cell_type": "code",
   "execution_count": 38,
   "metadata": {
    "ExecuteTime": {
     "end_time": "2021-01-12T09:28:45.851006Z",
     "start_time": "2021-01-12T09:28:45.682043Z"
    }
   },
   "outputs": [
    {
     "data": {
      "image/png": "[encoded data removed]",
      "text/plain": [
       "<Figure size 432x288 with 1 Axes>"
      ]
     },
     "metadata": {},
     "output_type": "display_data"
    }
   ],
   "source": [
    "df[df['source'] == 'apple_app_store']['update'].value_counts(normalize = True, sort = False).sort_index().plot(kind='bar')\n",
    "plt.show()"
   ]
  },
  {
   "cell_type": "code",
   "execution_count": 69,
   "metadata": {
    "ExecuteTime": {
     "end_time": "2020-12-29T15:47:41.256320Z",
     "start_time": "2020-12-29T15:47:41.230335Z"
    }
   },
   "outputs": [
    {
     "data": {
      "text/plain": [
       "google_play_store    0.997718\n",
       "apple_app_store      0.002282\n",
       "Name: source, dtype: float64"
      ]
     },
     "execution_count": 69,
     "metadata": {},
     "output_type": "execute_result"
    }
   ],
   "source": [
    "duplicated_content['source'].value_counts(normalize = True)"
   ]
  },
  {
   "cell_type": "code",
   "execution_count": 70,
   "metadata": {
    "ExecuteTime": {
     "end_time": "2020-12-29T15:47:41.273309Z",
     "start_time": "2020-12-29T15:47:41.258318Z"
    }
   },
   "outputs": [
    {
     "data": {
      "text/plain": [
       "google_play_store    17489\n",
       "apple_app_store         40\n",
       "Name: source, dtype: int64"
      ]
     },
     "execution_count": 70,
     "metadata": {},
     "output_type": "execute_result"
    }
   ],
   "source": [
    "duplicated_content['source'].value_counts()"
   ]
  },
  {
   "cell_type": "code",
   "execution_count": 75,
   "metadata": {
    "ExecuteTime": {
     "end_time": "2020-12-29T15:47:41.636178Z",
     "start_time": "2020-12-29T15:47:41.595203Z"
    }
   },
   "outputs": [
    {
     "data": {
      "text/html": [
       "<div>\n",
       "<style scoped>\n",
       "    .dataframe tbody tr th:only-of-type {\n",
       "        vertical-align: middle;\n",
       "    }\n",
       "\n",
       "    .dataframe tbody tr th {\n",
       "        vertical-align: top;\n",
       "    }\n",
       "\n",
       "    .dataframe thead th {\n",
       "        text-align: right;\n",
       "    }\n",
       "</style>\n",
       "<table border=\"1\" class=\"dataframe\">\n",
       "  <thead>\n",
       "    <tr style=\"text-align: right;\">\n",
       "      <th></th>\n",
       "      <th>content</th>\n",
       "      <th>score</th>\n",
       "      <th>date</th>\n",
       "      <th>thumbsUp</th>\n",
       "      <th>source</th>\n",
       "      <th>year</th>\n",
       "      <th>month</th>\n",
       "      <th>day</th>\n",
       "    </tr>\n",
       "  </thead>\n",
       "  <tbody>\n",
       "    <tr>\n",
       "      <th>0</th>\n",
       "      <td>The graphics are gorgeous, the gameplay is inc...</td>\n",
       "      <td>5</td>\n",
       "      <td>2020-12-11 13:55:29</td>\n",
       "      <td>881.0</td>\n",
       "      <td>google_play_store</td>\n",
       "      <td>2020</td>\n",
       "      <td>12</td>\n",
       "      <td>11</td>\n",
       "    </tr>\n",
       "    <tr>\n",
       "      <th>1</th>\n",
       "      <td>If you love free world RPG, then this is it! T...</td>\n",
       "      <td>5</td>\n",
       "      <td>2020-12-16 18:10:47</td>\n",
       "      <td>48.0</td>\n",
       "      <td>google_play_store</td>\n",
       "      <td>2020</td>\n",
       "      <td>12</td>\n",
       "      <td>16</td>\n",
       "    </tr>\n",
       "    <tr>\n",
       "      <th>2</th>\n",
       "      <td>I absolutely love the game! No complaints besi...</td>\n",
       "      <td>5</td>\n",
       "      <td>2020-12-16 00:18:43</td>\n",
       "      <td>185.0</td>\n",
       "      <td>google_play_store</td>\n",
       "      <td>2020</td>\n",
       "      <td>12</td>\n",
       "      <td>16</td>\n",
       "    </tr>\n",
       "    <tr>\n",
       "      <th>3</th>\n",
       "      <td>Great game. Regardless of ripoff issues and su...</td>\n",
       "      <td>4</td>\n",
       "      <td>2020-12-16 12:46:11</td>\n",
       "      <td>1.0</td>\n",
       "      <td>google_play_store</td>\n",
       "      <td>2020</td>\n",
       "      <td>12</td>\n",
       "      <td>16</td>\n",
       "    </tr>\n",
       "    <tr>\n",
       "      <th>4</th>\n",
       "      <td>Amazing graphics and gameplay although a lot o...</td>\n",
       "      <td>5</td>\n",
       "      <td>2020-12-10 22:51:08</td>\n",
       "      <td>186.0</td>\n",
       "      <td>google_play_store</td>\n",
       "      <td>2020</td>\n",
       "      <td>12</td>\n",
       "      <td>10</td>\n",
       "    </tr>\n",
       "    <tr>\n",
       "      <th>...</th>\n",
       "      <td>...</td>\n",
       "      <td>...</td>\n",
       "      <td>...</td>\n",
       "      <td>...</td>\n",
       "      <td>...</td>\n",
       "      <td>...</td>\n",
       "      <td>...</td>\n",
       "      <td>...</td>\n",
       "    </tr>\n",
       "    <tr>\n",
       "      <th>114194</th>\n",
       "      <td>It makes me really sad I love the idea of this...</td>\n",
       "      <td>1</td>\n",
       "      <td>2020-12-10 17:32:25</td>\n",
       "      <td>NaN</td>\n",
       "      <td>apple_app_store</td>\n",
       "      <td>2020</td>\n",
       "      <td>12</td>\n",
       "      <td>10</td>\n",
       "    </tr>\n",
       "    <tr>\n",
       "      <th>114195</th>\n",
       "      <td>Amazing Beautiful Game, amazing graphic and ga...</td>\n",
       "      <td>5</td>\n",
       "      <td>2020-12-10 16:11:31</td>\n",
       "      <td>NaN</td>\n",
       "      <td>apple_app_store</td>\n",
       "      <td>2020</td>\n",
       "      <td>12</td>\n",
       "      <td>10</td>\n",
       "    </tr>\n",
       "    <tr>\n",
       "      <th>114196</th>\n",
       "      <td>terrible character design since Nov the qualit...</td>\n",
       "      <td>1</td>\n",
       "      <td>2020-12-10 17:15:05</td>\n",
       "      <td>NaN</td>\n",
       "      <td>apple_app_store</td>\n",
       "      <td>2020</td>\n",
       "      <td>12</td>\n",
       "      <td>10</td>\n",
       "    </tr>\n",
       "    <tr>\n",
       "      <th>114197</th>\n",
       "      <td>My favorite mobile game in 2020! I can't belie...</td>\n",
       "      <td>5</td>\n",
       "      <td>2020-12-10 15:47:40</td>\n",
       "      <td>NaN</td>\n",
       "      <td>apple_app_store</td>\n",
       "      <td>2020</td>\n",
       "      <td>12</td>\n",
       "      <td>10</td>\n",
       "    </tr>\n",
       "    <tr>\n",
       "      <th>114198</th>\n",
       "      <td>predatory predatory gacha system + crappy resi...</td>\n",
       "      <td>1</td>\n",
       "      <td>2020-12-10 15:37:31</td>\n",
       "      <td>NaN</td>\n",
       "      <td>apple_app_store</td>\n",
       "      <td>2020</td>\n",
       "      <td>12</td>\n",
       "      <td>10</td>\n",
       "    </tr>\n",
       "  </tbody>\n",
       "</table>\n",
       "<p>114199 rows × 8 columns</p>\n",
       "</div>"
      ],
      "text/plain": [
       "                                                  content  score  \\\n",
       "0       The graphics are gorgeous, the gameplay is inc...      5   \n",
       "1       If you love free world RPG, then this is it! T...      5   \n",
       "2       I absolutely love the game! No complaints besi...      5   \n",
       "3       Great game. Regardless of ripoff issues and su...      4   \n",
       "4       Amazing graphics and gameplay although a lot o...      5   \n",
       "...                                                   ...    ...   \n",
       "114194  It makes me really sad I love the idea of this...      1   \n",
       "114195  Amazing Beautiful Game, amazing graphic and ga...      5   \n",
       "114196  terrible character design since Nov the qualit...      1   \n",
       "114197  My favorite mobile game in 2020! I can't belie...      5   \n",
       "114198  predatory predatory gacha system + crappy resi...      1   \n",
       "\n",
       "                      date  thumbsUp             source  year  month  day  \n",
       "0      2020-12-11 13:55:29     881.0  google_play_store  2020     12   11  \n",
       "1      2020-12-16 18:10:47      48.0  google_play_store  2020     12   16  \n",
       "2      2020-12-16 00:18:43     185.0  google_play_store  2020     12   16  \n",
       "3      2020-12-16 12:46:11       1.0  google_play_store  2020     12   16  \n",
       "4      2020-12-10 22:51:08     186.0  google_play_store  2020     12   10  \n",
       "...                    ...       ...                ...   ...    ...  ...  \n",
       "114194 2020-12-10 17:32:25       NaN    apple_app_store  2020     12   10  \n",
       "114195 2020-12-10 16:11:31       NaN    apple_app_store  2020     12   10  \n",
       "114196 2020-12-10 17:15:05       NaN    apple_app_store  2020     12   10  \n",
       "114197 2020-12-10 15:47:40       NaN    apple_app_store  2020     12   10  \n",
       "114198 2020-12-10 15:37:31       NaN    apple_app_store  2020     12   10  \n",
       "\n",
       "[114199 rows x 8 columns]"
      ]
     },
     "execution_count": 75,
     "metadata": {},
     "output_type": "execute_result"
    }
   ],
   "source": [
    "combined_df"
   ]
  },
  {
   "cell_type": "markdown",
   "metadata": {},
   "source": [
    "# Saving the Final Dataset"
   ]
  },
  {
   "cell_type": "code",
   "execution_count": 12,
   "metadata": {
    "ExecuteTime": {
     "end_time": "2020-12-31T04:35:47.962680Z",
     "start_time": "2020-12-31T04:35:46.933121Z"
    }
   },
   "outputs": [],
   "source": [
    "df.to_pickle('data/final_df.p')"
   ]
  },
  {
   "cell_type": "markdown",
   "metadata": {},
   "source": [
    "# Others"
   ]
  },
  {
   "cell_type": "markdown",
   "metadata": {
    "deletable": false,
    "editable": false,
    "run_control": {
     "frozen": true
    }
   },
   "source": [
    "### TweetTokenizing"
   ]
  },
  {
   "cell_type": "markdown",
   "metadata": {
    "deletable": false,
    "editable": false,
    "run_control": {
     "frozen": true
    }
   },
   "source": [
    "I am using the NLTK's TweetTokenizer to tokenize the words. This tokenizer is a sentiment-aware tokenizer which will help to retain information better than normal tokenization + stemming or lemmatization."
   ]
  },
  {
   "cell_type": "code",
   "execution_count": 32,
   "metadata": {
    "ExecuteTime": {
     "end_time": "2021-01-10T08:06:37.567393Z",
     "start_time": "2021-01-10T08:06:37.547393Z"
    },
    "deletable": false,
    "editable": false,
    "run_control": {
     "frozen": true
    }
   },
   "outputs": [
    {
     "data": {
      "text/plain": [
       "['This',\n",
       " 'is',\n",
       " 'a',\n",
       " 'cooool',\n",
       " '#dummysmiley',\n",
       " ':',\n",
       " ':-)',\n",
       " ':-P',\n",
       " '<3',\n",
       " 'and',\n",
       " 'some',\n",
       " 'arrows',\n",
       " '<',\n",
       " '>',\n",
       " '->',\n",
       " '<--']"
      ]
     },
     "execution_count": 32,
     "metadata": {},
     "output_type": "execute_result"
    }
   ],
   "source": [
    "tokenizer = TweetTokenizer()\n",
    "s0 = \"This is a cooool #dummysmiley: :-) :-P <3 and some arrows < > -> <--\"\n",
    "tokenizer.tokenize(s0)"
   ]
  },
  {
   "cell_type": "code",
   "execution_count": 34,
   "metadata": {
    "ExecuteTime": {
     "end_time": "2021-01-10T08:07:05.843500Z",
     "start_time": "2021-01-10T08:06:49.716782Z"
    },
    "deletable": false,
    "editable": false,
    "run_control": {
     "frozen": true
    }
   },
   "outputs": [],
   "source": [
    "df['text'] = df['content'].map(lambda x: tokenizer.tokenize(x))"
   ]
  },
  {
   "cell_type": "code",
   "execution_count": 64,
   "metadata": {
    "ExecuteTime": {
     "end_time": "2021-01-10T08:32:37.430480Z",
     "start_time": "2021-01-10T08:32:37.391505Z"
    },
    "deletable": false,
    "editable": false,
    "run_control": {
     "frozen": true
    }
   },
   "outputs": [
    {
     "data": {
      "text/html": [
       "<div>\n",
       "<style scoped>\n",
       "    .dataframe tbody tr th:only-of-type {\n",
       "        vertical-align: middle;\n",
       "    }\n",
       "\n",
       "    .dataframe tbody tr th {\n",
       "        vertical-align: top;\n",
       "    }\n",
       "\n",
       "    .dataframe thead th {\n",
       "        text-align: right;\n",
       "    }\n",
       "</style>\n",
       "<table border=\"1\" class=\"dataframe\">\n",
       "  <thead>\n",
       "    <tr style=\"text-align: right;\">\n",
       "      <th></th>\n",
       "      <th>content</th>\n",
       "      <th>score</th>\n",
       "      <th>date</th>\n",
       "      <th>thumbsUp</th>\n",
       "      <th>source</th>\n",
       "      <th>update</th>\n",
       "      <th>text</th>\n",
       "      <th>length</th>\n",
       "    </tr>\n",
       "  </thead>\n",
       "  <tbody>\n",
       "    <tr>\n",
       "      <th>0</th>\n",
       "      <td>The graphics are gorgeous, the gameplay is inc...</td>\n",
       "      <td>5</td>\n",
       "      <td>2020-12-11 13:55:29</td>\n",
       "      <td>881.0</td>\n",
       "      <td>google_play_store</td>\n",
       "      <td>1.1.2</td>\n",
       "      <td>[the, graphics, are, gorgeous, the, gameplay, ...</td>\n",
       "      <td>84</td>\n",
       "    </tr>\n",
       "    <tr>\n",
       "      <th>1</th>\n",
       "      <td>If you love free world RPG, then this is it! T...</td>\n",
       "      <td>5</td>\n",
       "      <td>2020-12-16 18:10:47</td>\n",
       "      <td>48.0</td>\n",
       "      <td>google_play_store</td>\n",
       "      <td>1.1.2</td>\n",
       "      <td>[if, you, love, free, world, rpg, then, this, ...</td>\n",
       "      <td>94</td>\n",
       "    </tr>\n",
       "    <tr>\n",
       "      <th>2</th>\n",
       "      <td>I absolutely love the game! No complaints besi...</td>\n",
       "      <td>5</td>\n",
       "      <td>2020-12-16 00:18:43</td>\n",
       "      <td>185.0</td>\n",
       "      <td>google_play_store</td>\n",
       "      <td>1.1.2</td>\n",
       "      <td>[i, absolutely, love, the, game, no, complaint...</td>\n",
       "      <td>75</td>\n",
       "    </tr>\n",
       "    <tr>\n",
       "      <th>3</th>\n",
       "      <td>Great game. Regardless of ripoff issues and su...</td>\n",
       "      <td>4</td>\n",
       "      <td>2020-12-16 12:46:11</td>\n",
       "      <td>1.0</td>\n",
       "      <td>google_play_store</td>\n",
       "      <td>1.1.2</td>\n",
       "      <td>[great, game, regardless, of, ripoff, issues, ...</td>\n",
       "      <td>88</td>\n",
       "    </tr>\n",
       "    <tr>\n",
       "      <th>4</th>\n",
       "      <td>Amazing graphics and gameplay although a lot o...</td>\n",
       "      <td>5</td>\n",
       "      <td>2020-12-10 22:51:08</td>\n",
       "      <td>186.0</td>\n",
       "      <td>google_play_store</td>\n",
       "      <td>1.1.2</td>\n",
       "      <td>[amazing, graphics, and, gameplay, although, a...</td>\n",
       "      <td>86</td>\n",
       "    </tr>\n",
       "  </tbody>\n",
       "</table>\n",
       "</div>"
      ],
      "text/plain": [
       "                                             content  score  \\\n",
       "0  The graphics are gorgeous, the gameplay is inc...      5   \n",
       "1  If you love free world RPG, then this is it! T...      5   \n",
       "2  I absolutely love the game! No complaints besi...      5   \n",
       "3  Great game. Regardless of ripoff issues and su...      4   \n",
       "4  Amazing graphics and gameplay although a lot o...      5   \n",
       "\n",
       "                 date  thumbsUp             source update  \\\n",
       "0 2020-12-11 13:55:29     881.0  google_play_store  1.1.2   \n",
       "1 2020-12-16 18:10:47      48.0  google_play_store  1.1.2   \n",
       "2 2020-12-16 00:18:43     185.0  google_play_store  1.1.2   \n",
       "3 2020-12-16 12:46:11       1.0  google_play_store  1.1.2   \n",
       "4 2020-12-10 22:51:08     186.0  google_play_store  1.1.2   \n",
       "\n",
       "                                                text  length  \n",
       "0  [the, graphics, are, gorgeous, the, gameplay, ...      84  \n",
       "1  [if, you, love, free, world, rpg, then, this, ...      94  \n",
       "2  [i, absolutely, love, the, game, no, complaint...      75  \n",
       "3  [great, game, regardless, of, ripoff, issues, ...      88  \n",
       "4  [amazing, graphics, and, gameplay, although, a...      86  "
      ]
     },
     "execution_count": 64,
     "metadata": {},
     "output_type": "execute_result"
    }
   ],
   "source": [
    "df.head()"
   ]
  },
  {
   "cell_type": "code",
   "execution_count": 65,
   "metadata": {
    "ExecuteTime": {
     "end_time": "2021-01-10T08:32:38.223886Z",
     "start_time": "2021-01-10T08:32:38.195901Z"
    },
    "deletable": false,
    "editable": false,
    "run_control": {
     "frozen": true
    }
   },
   "outputs": [
    {
     "data": {
      "text/html": [
       "<div>\n",
       "<style scoped>\n",
       "    .dataframe tbody tr th:only-of-type {\n",
       "        vertical-align: middle;\n",
       "    }\n",
       "\n",
       "    .dataframe tbody tr th {\n",
       "        vertical-align: top;\n",
       "    }\n",
       "\n",
       "    .dataframe thead th {\n",
       "        text-align: right;\n",
       "    }\n",
       "</style>\n",
       "<table border=\"1\" class=\"dataframe\">\n",
       "  <thead>\n",
       "    <tr style=\"text-align: right;\">\n",
       "      <th></th>\n",
       "      <th>content</th>\n",
       "      <th>score</th>\n",
       "      <th>date</th>\n",
       "      <th>thumbsUp</th>\n",
       "      <th>source</th>\n",
       "      <th>update</th>\n",
       "      <th>text</th>\n",
       "      <th>length</th>\n",
       "    </tr>\n",
       "  </thead>\n",
       "  <tbody>\n",
       "    <tr>\n",
       "      <th>114194</th>\n",
       "      <td>It makes me really sad I love the idea of this...</td>\n",
       "      <td>1</td>\n",
       "      <td>2020-12-10 17:32:25</td>\n",
       "      <td>NaN</td>\n",
       "      <td>apple_app_store</td>\n",
       "      <td>1.1.2</td>\n",
       "      <td>[it, makes, me, really, sad, i, love, the, ide...</td>\n",
       "      <td>70</td>\n",
       "    </tr>\n",
       "    <tr>\n",
       "      <th>114195</th>\n",
       "      <td>Amazing Beautiful Game, amazing graphic and ga...</td>\n",
       "      <td>5</td>\n",
       "      <td>2020-12-10 16:11:31</td>\n",
       "      <td>NaN</td>\n",
       "      <td>apple_app_store</td>\n",
       "      <td>1.1.2</td>\n",
       "      <td>[amazing, beautiful, game, amazing, graphic, a...</td>\n",
       "      <td>22</td>\n",
       "    </tr>\n",
       "    <tr>\n",
       "      <th>114196</th>\n",
       "      <td>terrible character design since Nov the qualit...</td>\n",
       "      <td>1</td>\n",
       "      <td>2020-12-10 17:15:05</td>\n",
       "      <td>NaN</td>\n",
       "      <td>apple_app_store</td>\n",
       "      <td>1.1.2</td>\n",
       "      <td>[terrible, character, design, since, nov, the,...</td>\n",
       "      <td>13</td>\n",
       "    </tr>\n",
       "    <tr>\n",
       "      <th>114197</th>\n",
       "      <td>My favorite mobile game in 2020! I can't belie...</td>\n",
       "      <td>5</td>\n",
       "      <td>2020-12-10 15:47:40</td>\n",
       "      <td>NaN</td>\n",
       "      <td>apple_app_store</td>\n",
       "      <td>1.1.2</td>\n",
       "      <td>[my, favorite, mobile, game, in, i, can, t, be...</td>\n",
       "      <td>13</td>\n",
       "    </tr>\n",
       "    <tr>\n",
       "      <th>114198</th>\n",
       "      <td>predatory predatory gacha system + crappy resi...</td>\n",
       "      <td>1</td>\n",
       "      <td>2020-12-10 15:37:31</td>\n",
       "      <td>NaN</td>\n",
       "      <td>apple_app_store</td>\n",
       "      <td>1.1.2</td>\n",
       "      <td>[predatory, predatory, gacha, system, crappy, ...</td>\n",
       "      <td>18</td>\n",
       "    </tr>\n",
       "  </tbody>\n",
       "</table>\n",
       "</div>"
      ],
      "text/plain": [
       "                                                  content  score  \\\n",
       "114194  It makes me really sad I love the idea of this...      1   \n",
       "114195  Amazing Beautiful Game, amazing graphic and ga...      5   \n",
       "114196  terrible character design since Nov the qualit...      1   \n",
       "114197  My favorite mobile game in 2020! I can't belie...      5   \n",
       "114198  predatory predatory gacha system + crappy resi...      1   \n",
       "\n",
       "                      date  thumbsUp           source update  \\\n",
       "114194 2020-12-10 17:32:25       NaN  apple_app_store  1.1.2   \n",
       "114195 2020-12-10 16:11:31       NaN  apple_app_store  1.1.2   \n",
       "114196 2020-12-10 17:15:05       NaN  apple_app_store  1.1.2   \n",
       "114197 2020-12-10 15:47:40       NaN  apple_app_store  1.1.2   \n",
       "114198 2020-12-10 15:37:31       NaN  apple_app_store  1.1.2   \n",
       "\n",
       "                                                     text  length  \n",
       "114194  [it, makes, me, really, sad, i, love, the, ide...      70  \n",
       "114195  [amazing, beautiful, game, amazing, graphic, a...      22  \n",
       "114196  [terrible, character, design, since, nov, the,...      13  \n",
       "114197  [my, favorite, mobile, game, in, i, can, t, be...      13  \n",
       "114198  [predatory, predatory, gacha, system, crappy, ...      18  "
      ]
     },
     "execution_count": 65,
     "metadata": {},
     "output_type": "execute_result"
    }
   ],
   "source": [
    "df.tail()"
   ]
  },
  {
   "cell_type": "markdown",
   "metadata": {},
   "source": [
    "## Length of Review"
   ]
  },
  {
   "cell_type": "code",
   "execution_count": 72,
   "metadata": {
    "ExecuteTime": {
     "end_time": "2021-01-10T16:17:11.136537Z",
     "start_time": "2021-01-10T16:17:10.933743Z"
    }
   },
   "outputs": [
    {
     "data": {
      "image/png": "[encoded data removed]",
      "text/plain": [
       "<Figure size 1152x288 with 1 Axes>"
      ]
     },
     "metadata": {},
     "output_type": "display_data"
    }
   ],
   "source": [
    "plt.figure(figsize = (16, 4))\n",
    "sns.boxplot(x = 'length', orient = 'h', data = df)\n",
    "plt.show()"
   ]
  },
  {
   "cell_type": "code",
   "execution_count": 74,
   "metadata": {
    "ExecuteTime": {
     "end_time": "2021-01-10T16:17:30.839266Z",
     "start_time": "2021-01-10T16:17:30.827273Z"
    }
   },
   "outputs": [
    {
     "data": {
      "text/plain": [
       "count    114199.000000\n",
       "mean         22.427674\n",
       "std          30.777231\n",
       "min           0.000000\n",
       "25%           4.000000\n",
       "50%          11.000000\n",
       "75%          30.000000\n",
       "max        1095.000000\n",
       "Name: length, dtype: float64"
      ]
     },
     "execution_count": 74,
     "metadata": {},
     "output_type": "execute_result"
    }
   ],
   "source": [
    "df['length'].describe()"
   ]
  },
  {
   "cell_type": "code",
   "execution_count": 75,
   "metadata": {
    "ExecuteTime": {
     "end_time": "2021-01-10T16:17:43.199557Z",
     "start_time": "2021-01-10T16:17:43.014482Z"
    }
   },
   "outputs": [
    {
     "data": {
      "image/png": "[encoded data removed]",
      "text/plain": [
       "<Figure size 432x288 with 1 Axes>"
      ]
     },
     "metadata": {},
     "output_type": "display_data"
    },
    {
     "name": "stdout",
     "output_type": "stream",
     "text": [
      "14761 records with text length more than 50\n"
     ]
    }
   ],
   "source": [
    "# number of rows with text length more than 50\n",
    "df[df['length'] > 50]['score'].value_counts(normalize = True, sort = False).plot(kind = 'bar')\n",
    "plt.show()\n",
    "\n",
    "print(f\"{df[df['length'] > 50].shape[0]} records with text length more than 50\")"
   ]
  },
  {
   "cell_type": "markdown",
   "metadata": {},
   "source": [
    "There are too many records with text length more than 50. This may result in an unnecessary loss of information."
   ]
  },
  {
   "cell_type": "code",
   "execution_count": 76,
   "metadata": {
    "ExecuteTime": {
     "end_time": "2021-01-10T16:18:01.895744Z",
     "start_time": "2021-01-10T16:18:01.736841Z"
    }
   },
   "outputs": [
    {
     "data": {
      "image/png": "[encoded data removed]",
      "text/plain": [
       "<Figure size 432x288 with 1 Axes>"
      ]
     },
     "metadata": {},
     "output_type": "display_data"
    },
    {
     "name": "stdout",
     "output_type": "stream",
     "text": [
      "1712 records with text length more than 100\n"
     ]
    }
   ],
   "source": [
    "# score distribution of rows with text length more than 100\n",
    "df[df['length'] > 100]['score'].value_counts(normalize = True, sort = False).plot(kind = 'bar')\n",
    "plt.show()\n",
    "\n",
    "print(f\"{df[df['length'] > 100].shape[0]} records with text length more than 100\")"
   ]
  },
  {
   "cell_type": "code",
   "execution_count": 78,
   "metadata": {
    "ExecuteTime": {
     "end_time": "2021-01-10T16:18:49.613204Z",
     "start_time": "2021-01-10T16:18:49.419326Z"
    }
   },
   "outputs": [
    {
     "data": {
      "image/png": "[encoded data removed]",
      "text/plain": [
       "<Figure size 432x288 with 1 Axes>"
      ]
     },
     "metadata": {},
     "output_type": "display_data"
    }
   ],
   "source": [
    "# source distribution of rows with text length more than 100\n",
    "df[df['length'] > 100]['source'].value_counts(normalize = True, sort = False).plot(kind = 'barh')\n",
    "plt.show()"
   ]
  },
  {
   "cell_type": "code",
   "execution_count": 79,
   "metadata": {
    "ExecuteTime": {
     "end_time": "2021-01-10T16:18:57.197840Z",
     "start_time": "2021-01-10T16:18:57.042270Z"
    }
   },
   "outputs": [
    {
     "data": {
      "image/png": "[encoded data removed]",
      "text/plain": [
       "<Figure size 432x288 with 1 Axes>"
      ]
     },
     "metadata": {},
     "output_type": "display_data"
    },
    {
     "name": "stdout",
     "output_type": "stream",
     "text": [
      "21334 records with text length less than 3\n"
     ]
    }
   ],
   "source": [
    "# score distribution of rows with text length less than 3\n",
    "df[df['length'] < 3]['score'].value_counts(normalize = True, sort = False).plot(kind = 'bar')\n",
    "plt.show()\n",
    "\n",
    "print(f\"{df[df['length'] < 3].shape[0]} records with text length less than 3\")"
   ]
  },
  {
   "cell_type": "code",
   "execution_count": 80,
   "metadata": {
    "ExecuteTime": {
     "end_time": "2021-01-10T16:19:03.316483Z",
     "start_time": "2021-01-10T16:19:03.144500Z"
    }
   },
   "outputs": [
    {
     "data": {
      "image/png": "[encoded data removed]",
      "text/plain": [
       "<Figure size 432x288 with 1 Axes>"
      ]
     },
     "metadata": {},
     "output_type": "display_data"
    }
   ],
   "source": [
    "# source distribution of rows with text length less than 3\n",
    "df[df['length'] < 3]['source'].value_counts(normalize = True, sort = False).plot(kind = 'barh')\n",
    "plt.show()"
   ]
  },
  {
   "cell_type": "code",
   "execution_count": 18,
   "metadata": {
    "ExecuteTime": {
     "end_time": "2021-01-10T15:18:57.627128Z",
     "start_time": "2021-01-10T15:18:57.404265Z"
    }
   },
   "outputs": [
    {
     "data": {
      "image/png": "[encoded data removed]",
      "text/plain": [
       "<Figure size 432x288 with 1 Axes>"
      ]
     },
     "metadata": {},
     "output_type": "display_data"
    },
    {
     "name": "stdout",
     "output_type": "stream",
     "text": [
      "91153 records with text length between 3 to 100\n"
     ]
    }
   ],
   "source": [
    "# score distribution of rows with text length between 3 to 100\n",
    "df[df['length'].between(3, 100)]['score'].value_counts(normalize = True, sort = False).plot(kind = 'bar')\n",
    "plt.show()\n",
    "\n",
    "print(f\"{df[df['length'].between(3, 100)].shape[0]} records with text length between 3 to 100\")"
   ]
  },
  {
   "cell_type": "code",
   "execution_count": 19,
   "metadata": {
    "ExecuteTime": {
     "end_time": "2021-01-10T15:18:57.834000Z",
     "start_time": "2021-01-10T15:18:57.629126Z"
    }
   },
   "outputs": [
    {
     "data": {
      "image/png": "[encoded data removed]",
      "text/plain": [
       "<Figure size 432x288 with 1 Axes>"
      ]
     },
     "metadata": {},
     "output_type": "display_data"
    }
   ],
   "source": [
    "df[df['length'].between(3, 100)]['source'].value_counts(normalize = True, sort = False).plot(kind = 'barh')\n",
    "plt.show()"
   ]
  },
  {
   "cell_type": "markdown",
   "metadata": {},
   "source": [
    "Distribution is similar to original distribution. \n",
    "\n",
    "Dataset **imbalance is slightly improved** as the number of 5 stars reviews dropped. This is likely due to the removal of posts with text length less than 3."
   ]
  },
  {
   "cell_type": "code",
   "execution_count": 20,
   "metadata": {
    "ExecuteTime": {
     "end_time": "2021-01-10T15:18:57.897962Z",
     "start_time": "2021-01-10T15:18:57.835999Z"
    }
   },
   "outputs": [
    {
     "data": {
      "text/html": [
       "<div>\n",
       "<style scoped>\n",
       "    .dataframe tbody tr th:only-of-type {\n",
       "        vertical-align: middle;\n",
       "    }\n",
       "\n",
       "    .dataframe tbody tr th {\n",
       "        vertical-align: top;\n",
       "    }\n",
       "\n",
       "    .dataframe thead th {\n",
       "        text-align: right;\n",
       "    }\n",
       "</style>\n",
       "<table border=\"1\" class=\"dataframe\">\n",
       "  <thead>\n",
       "    <tr style=\"text-align: right;\">\n",
       "      <th></th>\n",
       "      <th>content</th>\n",
       "      <th>score</th>\n",
       "      <th>date</th>\n",
       "      <th>thumbsUp</th>\n",
       "      <th>source</th>\n",
       "      <th>text</th>\n",
       "      <th>length</th>\n",
       "    </tr>\n",
       "  </thead>\n",
       "  <tbody>\n",
       "    <tr>\n",
       "      <th>0</th>\n",
       "      <td>The graphics are gorgeous, the gameplay is inc...</td>\n",
       "      <td>5</td>\n",
       "      <td>2020-12-11 13:55:29</td>\n",
       "      <td>881.0</td>\n",
       "      <td>google_play_store</td>\n",
       "      <td>[the, graphics, are, gorgeous, the, gameplay, ...</td>\n",
       "      <td>84</td>\n",
       "    </tr>\n",
       "    <tr>\n",
       "      <th>1</th>\n",
       "      <td>If you love free world RPG, then this is it! T...</td>\n",
       "      <td>5</td>\n",
       "      <td>2020-12-16 18:10:47</td>\n",
       "      <td>48.0</td>\n",
       "      <td>google_play_store</td>\n",
       "      <td>[if, you, love, free, world, rpg, then, this, ...</td>\n",
       "      <td>94</td>\n",
       "    </tr>\n",
       "    <tr>\n",
       "      <th>2</th>\n",
       "      <td>I absolutely love the game! No complaints besi...</td>\n",
       "      <td>5</td>\n",
       "      <td>2020-12-16 00:18:43</td>\n",
       "      <td>185.0</td>\n",
       "      <td>google_play_store</td>\n",
       "      <td>[i, absolutely, love, the, game, no, complaint...</td>\n",
       "      <td>75</td>\n",
       "    </tr>\n",
       "    <tr>\n",
       "      <th>3</th>\n",
       "      <td>Great game. Regardless of ripoff issues and su...</td>\n",
       "      <td>4</td>\n",
       "      <td>2020-12-16 12:46:11</td>\n",
       "      <td>1.0</td>\n",
       "      <td>google_play_store</td>\n",
       "      <td>[great, game, regardless, of, ripoff, issues, ...</td>\n",
       "      <td>88</td>\n",
       "    </tr>\n",
       "    <tr>\n",
       "      <th>4</th>\n",
       "      <td>Amazing graphics and gameplay although a lot o...</td>\n",
       "      <td>5</td>\n",
       "      <td>2020-12-10 22:51:08</td>\n",
       "      <td>186.0</td>\n",
       "      <td>google_play_store</td>\n",
       "      <td>[amazing, graphics, and, gameplay, although, a...</td>\n",
       "      <td>86</td>\n",
       "    </tr>\n",
       "  </tbody>\n",
       "</table>\n",
       "</div>"
      ],
      "text/plain": [
       "                                             content  score  \\\n",
       "0  The graphics are gorgeous, the gameplay is inc...      5   \n",
       "1  If you love free world RPG, then this is it! T...      5   \n",
       "2  I absolutely love the game! No complaints besi...      5   \n",
       "3  Great game. Regardless of ripoff issues and su...      4   \n",
       "4  Amazing graphics and gameplay although a lot o...      5   \n",
       "\n",
       "                 date  thumbsUp             source  \\\n",
       "0 2020-12-11 13:55:29     881.0  google_play_store   \n",
       "1 2020-12-16 18:10:47      48.0  google_play_store   \n",
       "2 2020-12-16 00:18:43     185.0  google_play_store   \n",
       "3 2020-12-16 12:46:11       1.0  google_play_store   \n",
       "4 2020-12-10 22:51:08     186.0  google_play_store   \n",
       "\n",
       "                                                text  length  \n",
       "0  [the, graphics, are, gorgeous, the, gameplay, ...      84  \n",
       "1  [if, you, love, free, world, rpg, then, this, ...      94  \n",
       "2  [i, absolutely, love, the, game, no, complaint...      75  \n",
       "3  [great, game, regardless, of, ripoff, issues, ...      88  \n",
       "4  [amazing, graphics, and, gameplay, although, a...      86  "
      ]
     },
     "execution_count": 20,
     "metadata": {},
     "output_type": "execute_result"
    }
   ],
   "source": [
    "df = df[df['length'].between(3, 100)].copy()\n",
    "\n",
    "df.reset_index(drop = True, inplace = True)\n",
    "\n",
    "df.head()"
   ]
  }
 ],
 "metadata": {
  "kernelspec": {
   "display_name": "Python 3",
   "language": "python",
   "name": "python3"
  },
  "language_info": {
   "codemirror_mode": {
    "name": "ipython",
    "version": 3
   },
   "file_extension": ".py",
   "mimetype": "text/x-python",
   "name": "python",
   "nbconvert_exporter": "python",
   "pygments_lexer": "ipython3",
   "version": "3.7.9"
  },
  "toc": {
   "base_numbering": 1,
   "nav_menu": {},
   "number_sections": false,
   "sideBar": true,
   "skip_h1_title": false,
   "title_cell": "Table of Contents",
   "title_sidebar": "Contents",
   "toc_cell": false,
   "toc_position": {
    "height": "calc(100% - 180px)",
    "left": "10px",
    "top": "150px",
    "width": "384px"
   },
   "toc_section_display": true,
   "toc_window_display": true
  }
 },
 "nbformat": 4,
 "nbformat_minor": 4
}
