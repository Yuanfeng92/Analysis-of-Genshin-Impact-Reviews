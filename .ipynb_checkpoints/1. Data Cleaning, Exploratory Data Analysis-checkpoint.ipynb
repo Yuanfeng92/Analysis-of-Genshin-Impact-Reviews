{
 "cells": [
  {
   "cell_type": "markdown",
   "metadata": {},
   "source": [
    "# Genshin Impact Reviews Analysis\n",
    "## 1. Data Cleaning and Exploratory Data Analysis\n",
    "\n",
    "## Problem Statement\n",
    "This projects will examine the reviews of Genshin Impact from both the Google Play store and Apple App store. \n",
    "\n",
    "**What is Genshin Impact?**\n",
    "\n",
    "The two main characteristic of Genshin Impact are:\n",
    "1. Massive Open World Action RPG\n",
    "2. Free-to-Play Gacha Game\n",
    "\n",
    "The game was released on PC(Windows), PlayStation 4, Android and iOS on September 28, 2020. The game was very well-received after its release, obtaining very favorable receptions and  over 17 million downloads in the first week. The popularity of the game can be seen from the fact that, in the first two months, the game generated close to US\\\\$400 million. In contrast, according to miHoYo co-founder Liu Wei, Genshin Impact has a development and marketing budget of more than US$100 million.\n",
    "\n",
    "Aside from that, the game was awarded both App Store's \"iPhone Game of the Year\" and Google Play's \"Best Game of 2020\", this shows the popularity of the game despite being released in the last quarter of 2020.\n",
    "\n",
    "### Aim of Project\n",
    "The aim of this project is to:\n",
    "1. Create a model that **categorizes the reviews into different categories** for various teams to handle (i.e. Technical team, development team, etc)\n",
    "2. Create a model that **classifies reviews based on its sentiment**, this will be useful to sort through non-rated reviews, such as reviews, feedbacks and suggestions from other channels.\n",
    "\n",
    "In order to achieve the aims specified above, I will:\n",
    "1. **Train multiple topic modeling models** and examine the **coherence score and representative text** to ensure that the **topics are well defined** and suitable for the purpose\n",
    "2. **Test different sentiment analysis tools and classification models** to classify the reviews. I will use appropriate metrics to evaluate the performance of the models (such as Accuracy, F1-score, etc).\n",
    "\n",
    "With the above information, I will analyze how the topics raised by users \n",
    "\n",
    "## Data Information\n",
    "This projects makes use of two datasets scrapped from Google Play Store and Apple App Store (US store for both datasets). \n",
    "\n",
    "1. The dataset from **Google Play Store contains 102,582 reviews**.\n",
    "2. The dataset from **Apple App Store contains 11,617 reviews**.\n",
    "\n",
    "Both datasets have already been **combined to form one final dataset** that will be used from this notebook onwards. Below is the data dictionary of the combined dataset. \n",
    "\n",
    "**Data Dictionary**\n",
    "\n",
    "|Feature|Type|Description|\n",
    "|---|---|---|\n",
    "|content|object|The text of the review| \n",
    "|score|int64|The rating with the review| \n",
    "|date|datetime64|The date and time the review was posted| \n",
    "|thumbsUp|float64|The number of people who gave \"Thumbs Up\" for the review*| \n",
    "|source|object|Which App Store the review originated|| \n",
    "\n",
    "*thumbsUp is only applicable for reviews from Google Play Store"
   ]
  },
  {
   "cell_type": "markdown",
   "metadata": {},
   "source": [
    "# Import Libraries and Dataset"
   ]
  },
  {
   "cell_type": "code",
   "execution_count": 1,
   "metadata": {
    "ExecuteTime": {
     "end_time": "2021-01-26T15:12:12.619303Z",
     "start_time": "2021-01-26T15:12:09.908457Z"
    }
   },
   "outputs": [],
   "source": [
    "import pandas as pd\n",
    "import numpy as np\n",
    "import matplotlib.pyplot as plt\n",
    "import seaborn as sns\n",
    "sns.set_style('whitegrid')\n",
    "\n",
    "import re\n",
    "\n",
    "import nltk\n",
    "from nltk.tokenize import TweetTokenizer, RegexpTokenizer\n",
    "from nltk.corpus import wordnet\n",
    "from nltk.stem import WordNetLemmatizer\n",
    "from nltk.corpus import stopwords\n",
    "\n",
    "import enchant\n",
    "\n",
    "from datetime import datetime\n",
    "\n",
    "from sklearn.feature_extraction.text import CountVectorizer, TfidfVectorizer"
   ]
  },
  {
   "cell_type": "code",
   "execution_count": 2,
   "metadata": {
    "ExecuteTime": {
     "end_time": "2021-01-26T15:12:12.840676Z",
     "start_time": "2021-01-26T15:12:12.621301Z"
    }
   },
   "outputs": [
    {
     "data": {
      "text/html": [
       "<div>\n",
       "<style scoped>\n",
       "    .dataframe tbody tr th:only-of-type {\n",
       "        vertical-align: middle;\n",
       "    }\n",
       "\n",
       "    .dataframe tbody tr th {\n",
       "        vertical-align: top;\n",
       "    }\n",
       "\n",
       "    .dataframe thead th {\n",
       "        text-align: right;\n",
       "    }\n",
       "</style>\n",
       "<table border=\"1\" class=\"dataframe\">\n",
       "  <thead>\n",
       "    <tr style=\"text-align: right;\">\n",
       "      <th></th>\n",
       "      <th>content</th>\n",
       "      <th>score</th>\n",
       "      <th>date</th>\n",
       "      <th>thumbsUp</th>\n",
       "      <th>source</th>\n",
       "    </tr>\n",
       "  </thead>\n",
       "  <tbody>\n",
       "    <tr>\n",
       "      <th>0</th>\n",
       "      <td>The graphics are gorgeous, the gameplay is inc...</td>\n",
       "      <td>5</td>\n",
       "      <td>2020-12-11 13:55:29</td>\n",
       "      <td>881.0</td>\n",
       "      <td>google_play_store</td>\n",
       "    </tr>\n",
       "    <tr>\n",
       "      <th>1</th>\n",
       "      <td>If you love free world RPG, then this is it! T...</td>\n",
       "      <td>5</td>\n",
       "      <td>2020-12-16 18:10:47</td>\n",
       "      <td>48.0</td>\n",
       "      <td>google_play_store</td>\n",
       "    </tr>\n",
       "    <tr>\n",
       "      <th>2</th>\n",
       "      <td>I absolutely love the game! No complaints besi...</td>\n",
       "      <td>5</td>\n",
       "      <td>2020-12-16 00:18:43</td>\n",
       "      <td>185.0</td>\n",
       "      <td>google_play_store</td>\n",
       "    </tr>\n",
       "    <tr>\n",
       "      <th>3</th>\n",
       "      <td>Great game. Regardless of ripoff issues and su...</td>\n",
       "      <td>4</td>\n",
       "      <td>2020-12-16 12:46:11</td>\n",
       "      <td>1.0</td>\n",
       "      <td>google_play_store</td>\n",
       "    </tr>\n",
       "    <tr>\n",
       "      <th>4</th>\n",
       "      <td>Amazing graphics and gameplay although a lot o...</td>\n",
       "      <td>5</td>\n",
       "      <td>2020-12-10 22:51:08</td>\n",
       "      <td>186.0</td>\n",
       "      <td>google_play_store</td>\n",
       "    </tr>\n",
       "  </tbody>\n",
       "</table>\n",
       "</div>"
      ],
      "text/plain": [
       "                                             content  score  \\\n",
       "0  The graphics are gorgeous, the gameplay is inc...      5   \n",
       "1  If you love free world RPG, then this is it! T...      5   \n",
       "2  I absolutely love the game! No complaints besi...      5   \n",
       "3  Great game. Regardless of ripoff issues and su...      4   \n",
       "4  Amazing graphics and gameplay although a lot o...      5   \n",
       "\n",
       "                 date  thumbsUp             source  \n",
       "0 2020-12-11 13:55:29     881.0  google_play_store  \n",
       "1 2020-12-16 18:10:47      48.0  google_play_store  \n",
       "2 2020-12-16 00:18:43     185.0  google_play_store  \n",
       "3 2020-12-16 12:46:11       1.0  google_play_store  \n",
       "4 2020-12-10 22:51:08     186.0  google_play_store  "
      ]
     },
     "execution_count": 2,
     "metadata": {},
     "output_type": "execute_result"
    }
   ],
   "source": [
    "combined_df = pd.read_pickle('data/combined_df.p')\n",
    "\n",
    "df = combined_df.copy()\n",
    "\n",
    "df.head()"
   ]
  },
  {
   "cell_type": "code",
   "execution_count": 3,
   "metadata": {
    "ExecuteTime": {
     "end_time": "2021-01-26T15:12:14.449889Z",
     "start_time": "2021-01-26T15:12:14.421424Z"
    }
   },
   "outputs": [
    {
     "data": {
      "text/plain": [
       "google_play_store    102582\n",
       "apple_app_store       11617\n",
       "Name: source, dtype: int64"
      ]
     },
     "execution_count": 3,
     "metadata": {},
     "output_type": "execute_result"
    }
   ],
   "source": [
    "df['source'].value_counts(normalize = True)"
   ]
  },
  {
   "cell_type": "code",
   "execution_count": 4,
   "metadata": {
    "ExecuteTime": {
     "end_time": "2021-01-26T00:25:47.192866Z",
     "start_time": "2021-01-26T00:25:47.148417Z"
    }
   },
   "outputs": [
    {
     "name": "stdout",
     "output_type": "stream",
     "text": [
      "<class 'pandas.core.frame.DataFrame'>\n",
      "RangeIndex: 114199 entries, 0 to 114198\n",
      "Data columns (total 5 columns):\n",
      " #   Column    Non-Null Count   Dtype         \n",
      "---  ------    --------------   -----         \n",
      " 0   content   114199 non-null  object        \n",
      " 1   score     114199 non-null  int64         \n",
      " 2   date      114199 non-null  datetime64[ns]\n",
      " 3   thumbsUp  102582 non-null  float64       \n",
      " 4   source    114199 non-null  object        \n",
      "dtypes: datetime64[ns](1), float64(1), int64(1), object(2)\n",
      "memory usage: 4.4+ MB\n"
     ]
    }
   ],
   "source": [
    "df.info()"
   ]
  },
  {
   "cell_type": "code",
   "execution_count": 5,
   "metadata": {
    "ExecuteTime": {
     "end_time": "2021-01-26T00:25:47.223847Z",
     "start_time": "2021-01-26T00:25:47.194864Z"
    }
   },
   "outputs": [
    {
     "data": {
      "text/plain": [
       "content         0\n",
       "score           0\n",
       "date            0\n",
       "thumbsUp    11617\n",
       "source          0\n",
       "dtype: int64"
      ]
     },
     "execution_count": 5,
     "metadata": {},
     "output_type": "execute_result"
    }
   ],
   "source": [
    "df.isnull().sum()"
   ]
  },
  {
   "cell_type": "code",
   "execution_count": 6,
   "metadata": {
    "ExecuteTime": {
     "end_time": "2021-01-26T00:25:47.254827Z",
     "start_time": "2021-01-26T00:25:47.225846Z"
    }
   },
   "outputs": [],
   "source": [
    "orig_ratings_distr = df['score'].value_counts(normalize = True, sort = False)\n",
    "orig_source_distr = df['source'].value_counts(normalize = True, sort = False)"
   ]
  },
  {
   "cell_type": "code",
   "execution_count": 7,
   "metadata": {
    "ExecuteTime": {
     "end_time": "2021-01-26T00:25:47.555740Z",
     "start_time": "2021-01-26T00:25:47.255827Z"
    }
   },
   "outputs": [
    {
     "data": {
      "image/png": "[encoded data removed]",
      "text/plain": [
       "<Figure size 432x288 with 1 Axes>"
      ]
     },
     "metadata": {},
     "output_type": "display_data"
    }
   ],
   "source": [
    "orig_ratings_distr.plot(kind = 'bar')\n",
    "plt.title('Reviews Rating Distribution', fontsize = 15)\n",
    "plt.xlabel('Rating')\n",
    "plt.ylabel('Percentage of Reviews')\n",
    "plt.show()"
   ]
  },
  {
   "cell_type": "code",
   "execution_count": 8,
   "metadata": {
    "ExecuteTime": {
     "end_time": "2021-01-26T00:25:47.746621Z",
     "start_time": "2021-01-26T00:25:47.558737Z"
    }
   },
   "outputs": [
    {
     "data": {
      "image/png": "[encoded data removed]",
      "text/plain": [
       "<Figure size 432x288 with 1 Axes>"
      ]
     },
     "metadata": {},
     "output_type": "display_data"
    }
   ],
   "source": [
    "orig_source_distr.plot(kind = 'barh')\n",
    "plt.title('Reviews Source Distribution', fontsize = 15)\n",
    "plt.xlabel('Percentage of Reviews')\n",
    "plt.show()"
   ]
  },
  {
   "cell_type": "markdown",
   "metadata": {},
   "source": [
    "# Data Cleaning"
   ]
  },
  {
   "cell_type": "markdown",
   "metadata": {},
   "source": [
    "## Length of Reviews"
   ]
  },
  {
   "cell_type": "code",
   "execution_count": 9,
   "metadata": {
    "ExecuteTime": {
     "end_time": "2021-01-26T00:25:47.762611Z",
     "start_time": "2021-01-26T00:25:47.749620Z"
    }
   },
   "outputs": [],
   "source": [
    "# define simple text processing function\n",
    "def simple_text_processing(text):\n",
    "\n",
    "    # remove non-letters\n",
    "    letters_only = re.sub(\"[^a-zA-Z]\", \" \", text)\n",
    "\n",
    "    # convert each word to lower case\n",
    "    words = letters_only.lower().split()\n",
    "                        \n",
    "    return words"
   ]
  },
  {
   "cell_type": "code",
   "execution_count": 10,
   "metadata": {
    "ExecuteTime": {
     "end_time": "2021-01-26T00:25:49.353504Z",
     "start_time": "2021-01-26T00:25:47.764610Z"
    }
   },
   "outputs": [],
   "source": [
    "df['text'] = df['content'].map(lambda x: simple_text_processing(x))\n",
    "\n",
    "df['length'] = df['text'].apply(lambda x: len(x))"
   ]
  },
  {
   "cell_type": "code",
   "execution_count": 11,
   "metadata": {
    "ExecuteTime": {
     "end_time": "2021-01-26T00:25:49.608236Z",
     "start_time": "2021-01-26T00:25:49.356502Z"
    }
   },
   "outputs": [
    {
     "data": {
      "image/png": "[encoded data removed]",
      "text/plain": [
       "<Figure size 1152x288 with 1 Axes>"
      ]
     },
     "metadata": {},
     "output_type": "display_data"
    }
   ],
   "source": [
    "plt.figure(figsize = (16, 4))\n",
    "sns.boxplot(x = 'length', orient = 'h', data = df)\n",
    "plt.title('Reviews Length Distribution', fontsize = 15)\n",
    "plt.xlabel('Review Length')\n",
    "plt.show()"
   ]
  },
  {
   "cell_type": "code",
   "execution_count": 12,
   "metadata": {
    "ExecuteTime": {
     "end_time": "2021-01-26T00:25:49.624226Z",
     "start_time": "2021-01-26T00:25:49.609235Z"
    }
   },
   "outputs": [
    {
     "data": {
      "text/plain": [
       "count    114199.000000\n",
       "mean         22.427674\n",
       "std          30.777231\n",
       "min           0.000000\n",
       "25%           4.000000\n",
       "50%          11.000000\n",
       "75%          30.000000\n",
       "max        1095.000000\n",
       "Name: length, dtype: float64"
      ]
     },
     "execution_count": 12,
     "metadata": {},
     "output_type": "execute_result"
    }
   ],
   "source": [
    "df['length'].describe()"
   ]
  },
  {
   "cell_type": "markdown",
   "metadata": {},
   "source": [
    "Majority of the texts have length between **0 to 100**. I will explore a good value as lower and upper limit to cut off the outliers.\n",
    "\n",
    "Note: There are reviews with text length of 0 because the text processing had removed all non-letters."
   ]
  },
  {
   "cell_type": "code",
   "execution_count": 13,
   "metadata": {
    "ExecuteTime": {
     "end_time": "2021-01-26T00:25:49.656206Z",
     "start_time": "2021-01-26T00:25:49.626225Z"
    }
   },
   "outputs": [
    {
     "name": "stdout",
     "output_type": "stream",
     "text": [
      "14761 records with more than 50 words\n"
     ]
    }
   ],
   "source": [
    "print(f\"{df[df['length'] > 50].shape[0]} records with more than 50 words\")"
   ]
  },
  {
   "cell_type": "code",
   "execution_count": 14,
   "metadata": {
    "ExecuteTime": {
     "end_time": "2021-01-26T00:25:49.671200Z",
     "start_time": "2021-01-26T00:25:49.658205Z"
    }
   },
   "outputs": [
    {
     "name": "stdout",
     "output_type": "stream",
     "text": [
      "1712 records with more than 100 words\n"
     ]
    }
   ],
   "source": [
    "print(f\"{df[df['length'] > 100].shape[0]} records with more than 100 words\")"
   ]
  },
  {
   "cell_type": "markdown",
   "metadata": {},
   "source": [
    "Having an upper limit of 50 will drop too may records, I will use the upper limit of 100 words instead"
   ]
  },
  {
   "cell_type": "code",
   "execution_count": 15,
   "metadata": {
    "ExecuteTime": {
     "end_time": "2021-01-26T00:25:49.863082Z",
     "start_time": "2021-01-26T00:25:49.673200Z"
    }
   },
   "outputs": [
    {
     "data": {
      "image/png": "[encoded data removed]",
      "text/plain": [
       "<Figure size 432x288 with 1 Axes>"
      ]
     },
     "metadata": {},
     "output_type": "display_data"
    }
   ],
   "source": [
    "# score distribution of rows with text length more than 100\n",
    "df[df['length'] > 100]['score'].value_counts(normalize = True, sort = False).plot(kind = 'bar')\n",
    "plt.title('Reviews Rating Distribution (Reviews > 100 Words)', fontsize = 15)\n",
    "plt.xlabel('Rating')\n",
    "plt.ylabel('Percentage of Reviews')\n",
    "plt.show()"
   ]
  },
  {
   "cell_type": "code",
   "execution_count": 16,
   "metadata": {
    "ExecuteTime": {
     "end_time": "2021-01-26T00:25:50.242848Z",
     "start_time": "2021-01-26T00:25:49.865082Z"
    }
   },
   "outputs": [
    {
     "data": {
      "image/png": "[encoded data removed]",
      "text/plain": [
       "<Figure size 432x288 with 1 Axes>"
      ]
     },
     "metadata": {},
     "output_type": "display_data"
    }
   ],
   "source": [
    "# source distribution of rows with text length more than 100\n",
    "df[df['length'] > 100]['source'].value_counts(normalize = True, sort = False).plot(kind = 'barh')\n",
    "plt.title('Reviews Source Distribution (Reviews > 100 Words)', fontsize = 15)\n",
    "plt.xlabel('Percentage of Reviews')\n",
    "plt.show()"
   ]
  },
  {
   "cell_type": "code",
   "execution_count": 17,
   "metadata": {
    "ExecuteTime": {
     "end_time": "2021-01-26T00:25:50.257838Z",
     "start_time": "2021-01-26T00:25:50.243847Z"
    }
   },
   "outputs": [
    {
     "name": "stdout",
     "output_type": "stream",
     "text": [
      "21334 records with text length less than 3\n"
     ]
    }
   ],
   "source": [
    "print(f\"{df[df['length'] < 3].shape[0]} records with text length less than 3\")"
   ]
  },
  {
   "cell_type": "markdown",
   "metadata": {},
   "source": [
    "Having a lower limit of less than 3 words will result in dropping a huge portion of the dataset already. However, these short reviews are unlikely to be very beneficial to the modeling and analysis, and hence will be dropped."
   ]
  },
  {
   "cell_type": "code",
   "execution_count": 18,
   "metadata": {
    "ExecuteTime": {
     "end_time": "2021-01-26T00:25:50.446917Z",
     "start_time": "2021-01-26T00:25:50.259839Z"
    }
   },
   "outputs": [
    {
     "data": {
      "image/png": "[encoded data removed]",
      "text/plain": [
       "<Figure size 432x288 with 1 Axes>"
      ]
     },
     "metadata": {},
     "output_type": "display_data"
    }
   ],
   "source": [
    "# score distribution of rows with text length less than 3\n",
    "df[df['length'] < 3]['score'].value_counts(normalize = True, sort = False).plot(kind = 'bar')\n",
    "plt.title('Reviews Rating Distribution (Reviews < 3 Words)', fontsize = 15)\n",
    "plt.xlabel('Rating')\n",
    "plt.ylabel('Percentage of Reviews')\n",
    "plt.show()"
   ]
  },
  {
   "cell_type": "code",
   "execution_count": 19,
   "metadata": {
    "ExecuteTime": {
     "end_time": "2021-01-26T00:25:50.638664Z",
     "start_time": "2021-01-26T00:25:50.448920Z"
    }
   },
   "outputs": [
    {
     "data": {
      "image/png": "[encoded data removed]",
      "text/plain": [
       "<Figure size 432x288 with 1 Axes>"
      ]
     },
     "metadata": {},
     "output_type": "display_data"
    }
   ],
   "source": [
    "# source distribution of rows with text length less than 3\n",
    "df[df['length'] < 3]['source'].value_counts(normalize = True, sort = False).plot(kind = 'barh')\n",
    "plt.title('Reviews Source Distribution (Reviews < 3 Words)', fontsize = 15)\n",
    "plt.xlabel('Percentage of Reviews')\n",
    "plt.show()"
   ]
  },
  {
   "cell_type": "code",
   "execution_count": 20,
   "metadata": {
    "ExecuteTime": {
     "end_time": "2021-01-26T00:25:50.845536Z",
     "start_time": "2021-01-26T00:25:50.640663Z"
    }
   },
   "outputs": [
    {
     "data": {
      "image/png": "[encoded data removed]",
      "text/plain": [
       "<Figure size 432x288 with 1 Axes>"
      ]
     },
     "metadata": {},
     "output_type": "display_data"
    },
    {
     "name": "stdout",
     "output_type": "stream",
     "text": [
      "91153 records with text length between 3 to 100\n"
     ]
    }
   ],
   "source": [
    "# score distribution of rows with text length between 3 to 100\n",
    "df[df['length'].between(3, 100)]['score'].value_counts(normalize = True, sort = False).plot(kind = 'bar')\n",
    "plt.title('Reviews Rating Distribution (Remaining Reviews)', fontsize = 15)\n",
    "plt.xlabel('Rating')\n",
    "plt.ylabel('Percentage of Reviews')\n",
    "plt.show()\n",
    "\n",
    "print(f\"{df[df['length'].between(3, 100)].shape[0]} records with text length between 3 to 100\")"
   ]
  },
  {
   "cell_type": "code",
   "execution_count": 21,
   "metadata": {
    "ExecuteTime": {
     "end_time": "2021-01-26T00:25:51.036425Z",
     "start_time": "2021-01-26T00:25:50.847536Z"
    }
   },
   "outputs": [
    {
     "data": {
      "image/png": "[encoded data removed]",
      "text/plain": [
       "<Figure size 432x288 with 1 Axes>"
      ]
     },
     "metadata": {},
     "output_type": "display_data"
    }
   ],
   "source": [
    "df[df['length'].between(3, 100)]['source'].value_counts(normalize = True, sort = False).plot(kind = 'barh')\n",
    "plt.title('Reviews Source Distribution (Remaining Reviews)', fontsize = 15)\n",
    "plt.xlabel('Percentage of Reviews')\n",
    "plt.show()"
   ]
  },
  {
   "cell_type": "markdown",
   "metadata": {},
   "source": [
    "The **imbalance in the rating distribution is slightly improved** as the number of 5 stars reviews fell. This is due to the removal of posts with text length less than 3, which had a huge proportion of reviews with more than 5 stars.\n",
    "\n",
    "The reviews source distribution remains similar."
   ]
  },
  {
   "cell_type": "code",
   "execution_count": 22,
   "metadata": {
    "ExecuteTime": {
     "end_time": "2021-01-26T00:25:51.100406Z",
     "start_time": "2021-01-26T00:25:51.038424Z"
    }
   },
   "outputs": [
    {
     "data": {
      "text/html": [
       "<div>\n",
       "<style scoped>\n",
       "    .dataframe tbody tr th:only-of-type {\n",
       "        vertical-align: middle;\n",
       "    }\n",
       "\n",
       "    .dataframe tbody tr th {\n",
       "        vertical-align: top;\n",
       "    }\n",
       "\n",
       "    .dataframe thead th {\n",
       "        text-align: right;\n",
       "    }\n",
       "</style>\n",
       "<table border=\"1\" class=\"dataframe\">\n",
       "  <thead>\n",
       "    <tr style=\"text-align: right;\">\n",
       "      <th></th>\n",
       "      <th>content</th>\n",
       "      <th>score</th>\n",
       "      <th>date</th>\n",
       "      <th>thumbsUp</th>\n",
       "      <th>source</th>\n",
       "      <th>text</th>\n",
       "      <th>length</th>\n",
       "    </tr>\n",
       "  </thead>\n",
       "  <tbody>\n",
       "    <tr>\n",
       "      <th>0</th>\n",
       "      <td>The graphics are gorgeous, the gameplay is inc...</td>\n",
       "      <td>5</td>\n",
       "      <td>2020-12-11 13:55:29</td>\n",
       "      <td>881.0</td>\n",
       "      <td>google_play_store</td>\n",
       "      <td>[the, graphics, are, gorgeous, the, gameplay, ...</td>\n",
       "      <td>84</td>\n",
       "    </tr>\n",
       "    <tr>\n",
       "      <th>1</th>\n",
       "      <td>If you love free world RPG, then this is it! T...</td>\n",
       "      <td>5</td>\n",
       "      <td>2020-12-16 18:10:47</td>\n",
       "      <td>48.0</td>\n",
       "      <td>google_play_store</td>\n",
       "      <td>[if, you, love, free, world, rpg, then, this, ...</td>\n",
       "      <td>94</td>\n",
       "    </tr>\n",
       "    <tr>\n",
       "      <th>2</th>\n",
       "      <td>I absolutely love the game! No complaints besi...</td>\n",
       "      <td>5</td>\n",
       "      <td>2020-12-16 00:18:43</td>\n",
       "      <td>185.0</td>\n",
       "      <td>google_play_store</td>\n",
       "      <td>[i, absolutely, love, the, game, no, complaint...</td>\n",
       "      <td>75</td>\n",
       "    </tr>\n",
       "    <tr>\n",
       "      <th>3</th>\n",
       "      <td>Great game. Regardless of ripoff issues and su...</td>\n",
       "      <td>4</td>\n",
       "      <td>2020-12-16 12:46:11</td>\n",
       "      <td>1.0</td>\n",
       "      <td>google_play_store</td>\n",
       "      <td>[great, game, regardless, of, ripoff, issues, ...</td>\n",
       "      <td>88</td>\n",
       "    </tr>\n",
       "    <tr>\n",
       "      <th>4</th>\n",
       "      <td>Amazing graphics and gameplay although a lot o...</td>\n",
       "      <td>5</td>\n",
       "      <td>2020-12-10 22:51:08</td>\n",
       "      <td>186.0</td>\n",
       "      <td>google_play_store</td>\n",
       "      <td>[amazing, graphics, and, gameplay, although, a...</td>\n",
       "      <td>86</td>\n",
       "    </tr>\n",
       "  </tbody>\n",
       "</table>\n",
       "</div>"
      ],
      "text/plain": [
       "                                             content  score  \\\n",
       "0  The graphics are gorgeous, the gameplay is inc...      5   \n",
       "1  If you love free world RPG, then this is it! T...      5   \n",
       "2  I absolutely love the game! No complaints besi...      5   \n",
       "3  Great game. Regardless of ripoff issues and su...      4   \n",
       "4  Amazing graphics and gameplay although a lot o...      5   \n",
       "\n",
       "                 date  thumbsUp             source  \\\n",
       "0 2020-12-11 13:55:29     881.0  google_play_store   \n",
       "1 2020-12-16 18:10:47      48.0  google_play_store   \n",
       "2 2020-12-16 00:18:43     185.0  google_play_store   \n",
       "3 2020-12-16 12:46:11       1.0  google_play_store   \n",
       "4 2020-12-10 22:51:08     186.0  google_play_store   \n",
       "\n",
       "                                                text  length  \n",
       "0  [the, graphics, are, gorgeous, the, gameplay, ...      84  \n",
       "1  [if, you, love, free, world, rpg, then, this, ...      94  \n",
       "2  [i, absolutely, love, the, game, no, complaint...      75  \n",
       "3  [great, game, regardless, of, ripoff, issues, ...      88  \n",
       "4  [amazing, graphics, and, gameplay, although, a...      86  "
      ]
     },
     "execution_count": 22,
     "metadata": {},
     "output_type": "execute_result"
    }
   ],
   "source": [
    "df = df[df['length'].between(3, 100)].copy()\n",
    "\n",
    "df.reset_index(drop = True, inplace = True)\n",
    "\n",
    "df.head()"
   ]
  },
  {
   "cell_type": "markdown",
   "metadata": {},
   "source": [
    "## Duplicates\n",
    "I will drop duplicate reviews which has the same content and are posted at the same time as these are likely due to system error.\n",
    "\n",
    "For duplicate reviews with same content but posted at different times, they will not be dropped. This is because the reviews could be different people writing the same content. This is especially true for shorter reviews."
   ]
  },
  {
   "cell_type": "code",
   "execution_count": 23,
   "metadata": {
    "ExecuteTime": {
     "end_time": "2021-01-26T00:25:51.225329Z",
     "start_time": "2021-01-26T00:25:51.106403Z"
    }
   },
   "outputs": [
    {
     "data": {
      "text/html": [
       "<div>\n",
       "<style scoped>\n",
       "    .dataframe tbody tr th:only-of-type {\n",
       "        vertical-align: middle;\n",
       "    }\n",
       "\n",
       "    .dataframe tbody tr th {\n",
       "        vertical-align: top;\n",
       "    }\n",
       "\n",
       "    .dataframe thead th {\n",
       "        text-align: right;\n",
       "    }\n",
       "</style>\n",
       "<table border=\"1\" class=\"dataframe\">\n",
       "  <thead>\n",
       "    <tr style=\"text-align: right;\">\n",
       "      <th></th>\n",
       "      <th>content</th>\n",
       "      <th>score</th>\n",
       "      <th>date</th>\n",
       "      <th>thumbsUp</th>\n",
       "      <th>source</th>\n",
       "      <th>text</th>\n",
       "      <th>length</th>\n",
       "    </tr>\n",
       "  </thead>\n",
       "  <tbody>\n",
       "    <tr>\n",
       "      <th>82637</th>\n",
       "      <td>Excitement I can’t wait to play this game and ...</td>\n",
       "      <td>5</td>\n",
       "      <td>2020-09-28 15:06:04</td>\n",
       "      <td>NaN</td>\n",
       "      <td>apple_app_store</td>\n",
       "      <td>[excitement, i, can, t, wait, to, play, this, ...</td>\n",
       "      <td>40</td>\n",
       "    </tr>\n",
       "    <tr>\n",
       "      <th>82638</th>\n",
       "      <td>Excitement I can’t wait to play this game and ...</td>\n",
       "      <td>5</td>\n",
       "      <td>2020-09-28 15:06:04</td>\n",
       "      <td>NaN</td>\n",
       "      <td>apple_app_store</td>\n",
       "      <td>[excitement, i, can, t, wait, to, play, this, ...</td>\n",
       "      <td>40</td>\n",
       "    </tr>\n",
       "    <tr>\n",
       "      <th>83133</th>\n",
       "      <td>I recommend downloading. I haven't found a fun...</td>\n",
       "      <td>5</td>\n",
       "      <td>2020-10-18 22:31:34</td>\n",
       "      <td>NaN</td>\n",
       "      <td>apple_app_store</td>\n",
       "      <td>[i, recommend, downloading, i, haven, t, found...</td>\n",
       "      <td>33</td>\n",
       "    </tr>\n",
       "    <tr>\n",
       "      <th>83134</th>\n",
       "      <td>I recommend downloading. I haven't found a fun...</td>\n",
       "      <td>5</td>\n",
       "      <td>2020-10-18 22:31:34</td>\n",
       "      <td>NaN</td>\n",
       "      <td>apple_app_store</td>\n",
       "      <td>[i, recommend, downloading, i, haven, t, found...</td>\n",
       "      <td>33</td>\n",
       "    </tr>\n",
       "    <tr>\n",
       "      <th>83135</th>\n",
       "      <td>I recommend downloading. I haven't found a fun...</td>\n",
       "      <td>5</td>\n",
       "      <td>2020-10-18 22:31:34</td>\n",
       "      <td>NaN</td>\n",
       "      <td>apple_app_store</td>\n",
       "      <td>[i, recommend, downloading, i, haven, t, found...</td>\n",
       "      <td>33</td>\n",
       "    </tr>\n",
       "    <tr>\n",
       "      <th>87720</th>\n",
       "      <td>Best game ever! I love this game, it’s so fun ...</td>\n",
       "      <td>5</td>\n",
       "      <td>2020-11-08 01:04:16</td>\n",
       "      <td>NaN</td>\n",
       "      <td>apple_app_store</td>\n",
       "      <td>[best, game, ever, i, love, this, game, it, s,...</td>\n",
       "      <td>23</td>\n",
       "    </tr>\n",
       "    <tr>\n",
       "      <th>87721</th>\n",
       "      <td>Best game ever! I love this game, it’s so fun ...</td>\n",
       "      <td>5</td>\n",
       "      <td>2020-11-08 01:04:16</td>\n",
       "      <td>NaN</td>\n",
       "      <td>apple_app_store</td>\n",
       "      <td>[best, game, ever, i, love, this, game, it, s,...</td>\n",
       "      <td>23</td>\n",
       "    </tr>\n",
       "    <tr>\n",
       "      <th>88310</th>\n",
       "      <td>Good game It’s a good game but I can’t see mos...</td>\n",
       "      <td>3</td>\n",
       "      <td>2020-09-29 23:25:30</td>\n",
       "      <td>NaN</td>\n",
       "      <td>apple_app_store</td>\n",
       "      <td>[good, game, it, s, a, good, game, but, i, can...</td>\n",
       "      <td>21</td>\n",
       "    </tr>\n",
       "    <tr>\n",
       "      <th>88314</th>\n",
       "      <td>Good game It’s a good game but I can’t see mos...</td>\n",
       "      <td>3</td>\n",
       "      <td>2020-09-29 23:25:30</td>\n",
       "      <td>NaN</td>\n",
       "      <td>apple_app_store</td>\n",
       "      <td>[good, game, it, s, a, good, game, but, i, can...</td>\n",
       "      <td>21</td>\n",
       "    </tr>\n",
       "    <tr>\n",
       "      <th>88472</th>\n",
       "      <td>Bug fixes pls I don’t know what it is but Ther...</td>\n",
       "      <td>1</td>\n",
       "      <td>2020-10-10 22:59:48</td>\n",
       "      <td>NaN</td>\n",
       "      <td>apple_app_store</td>\n",
       "      <td>[bug, fixes, pls, i, don, t, know, what, it, i...</td>\n",
       "      <td>33</td>\n",
       "    </tr>\n",
       "    <tr>\n",
       "      <th>88473</th>\n",
       "      <td>Bug fixes pls I don’t know what it is but Ther...</td>\n",
       "      <td>1</td>\n",
       "      <td>2020-10-10 22:59:48</td>\n",
       "      <td>NaN</td>\n",
       "      <td>apple_app_store</td>\n",
       "      <td>[bug, fixes, pls, i, don, t, know, what, it, i...</td>\n",
       "      <td>33</td>\n",
       "    </tr>\n",
       "    <tr>\n",
       "      <th>91102</th>\n",
       "      <td>Hooked! This is the only phone game that has m...</td>\n",
       "      <td>5</td>\n",
       "      <td>2020-12-11 16:05:40</td>\n",
       "      <td>NaN</td>\n",
       "      <td>apple_app_store</td>\n",
       "      <td>[hooked, this, is, the, only, phone, game, tha...</td>\n",
       "      <td>38</td>\n",
       "    </tr>\n",
       "    <tr>\n",
       "      <th>91104</th>\n",
       "      <td>Hooked! This is the only phone game that has m...</td>\n",
       "      <td>5</td>\n",
       "      <td>2020-12-11 16:05:40</td>\n",
       "      <td>NaN</td>\n",
       "      <td>apple_app_store</td>\n",
       "      <td>[hooked, this, is, the, only, phone, game, tha...</td>\n",
       "      <td>38</td>\n",
       "    </tr>\n",
       "  </tbody>\n",
       "</table>\n",
       "</div>"
      ],
      "text/plain": [
       "                                                 content  score  \\\n",
       "82637  Excitement I can’t wait to play this game and ...      5   \n",
       "82638  Excitement I can’t wait to play this game and ...      5   \n",
       "83133  I recommend downloading. I haven't found a fun...      5   \n",
       "83134  I recommend downloading. I haven't found a fun...      5   \n",
       "83135  I recommend downloading. I haven't found a fun...      5   \n",
       "87720  Best game ever! I love this game, it’s so fun ...      5   \n",
       "87721  Best game ever! I love this game, it’s so fun ...      5   \n",
       "88310  Good game It’s a good game but I can’t see mos...      3   \n",
       "88314  Good game It’s a good game but I can’t see mos...      3   \n",
       "88472  Bug fixes pls I don’t know what it is but Ther...      1   \n",
       "88473  Bug fixes pls I don’t know what it is but Ther...      1   \n",
       "91102  Hooked! This is the only phone game that has m...      5   \n",
       "91104  Hooked! This is the only phone game that has m...      5   \n",
       "\n",
       "                     date  thumbsUp           source  \\\n",
       "82637 2020-09-28 15:06:04       NaN  apple_app_store   \n",
       "82638 2020-09-28 15:06:04       NaN  apple_app_store   \n",
       "83133 2020-10-18 22:31:34       NaN  apple_app_store   \n",
       "83134 2020-10-18 22:31:34       NaN  apple_app_store   \n",
       "83135 2020-10-18 22:31:34       NaN  apple_app_store   \n",
       "87720 2020-11-08 01:04:16       NaN  apple_app_store   \n",
       "87721 2020-11-08 01:04:16       NaN  apple_app_store   \n",
       "88310 2020-09-29 23:25:30       NaN  apple_app_store   \n",
       "88314 2020-09-29 23:25:30       NaN  apple_app_store   \n",
       "88472 2020-10-10 22:59:48       NaN  apple_app_store   \n",
       "88473 2020-10-10 22:59:48       NaN  apple_app_store   \n",
       "91102 2020-12-11 16:05:40       NaN  apple_app_store   \n",
       "91104 2020-12-11 16:05:40       NaN  apple_app_store   \n",
       "\n",
       "                                                    text  length  \n",
       "82637  [excitement, i, can, t, wait, to, play, this, ...      40  \n",
       "82638  [excitement, i, can, t, wait, to, play, this, ...      40  \n",
       "83133  [i, recommend, downloading, i, haven, t, found...      33  \n",
       "83134  [i, recommend, downloading, i, haven, t, found...      33  \n",
       "83135  [i, recommend, downloading, i, haven, t, found...      33  \n",
       "87720  [best, game, ever, i, love, this, game, it, s,...      23  \n",
       "87721  [best, game, ever, i, love, this, game, it, s,...      23  \n",
       "88310  [good, game, it, s, a, good, game, but, i, can...      21  \n",
       "88314  [good, game, it, s, a, good, game, but, i, can...      21  \n",
       "88472  [bug, fixes, pls, i, don, t, know, what, it, i...      33  \n",
       "88473  [bug, fixes, pls, i, don, t, know, what, it, i...      33  \n",
       "91102  [hooked, this, is, the, only, phone, game, tha...      38  \n",
       "91104  [hooked, this, is, the, only, phone, game, tha...      38  "
      ]
     },
     "execution_count": 23,
     "metadata": {},
     "output_type": "execute_result"
    }
   ],
   "source": [
    "df[df.duplicated(['content', 'date'], keep = False)]"
   ]
  },
  {
   "cell_type": "code",
   "execution_count": 24,
   "metadata": {
    "ExecuteTime": {
     "end_time": "2021-01-26T00:25:51.334262Z",
     "start_time": "2021-01-26T00:25:51.227329Z"
    }
   },
   "outputs": [
    {
     "data": {
      "text/html": [
       "<div>\n",
       "<style scoped>\n",
       "    .dataframe tbody tr th:only-of-type {\n",
       "        vertical-align: middle;\n",
       "    }\n",
       "\n",
       "    .dataframe tbody tr th {\n",
       "        vertical-align: top;\n",
       "    }\n",
       "\n",
       "    .dataframe thead th {\n",
       "        text-align: right;\n",
       "    }\n",
       "</style>\n",
       "<table border=\"1\" class=\"dataframe\">\n",
       "  <thead>\n",
       "    <tr style=\"text-align: right;\">\n",
       "      <th></th>\n",
       "      <th>content</th>\n",
       "      <th>score</th>\n",
       "      <th>date</th>\n",
       "      <th>thumbsUp</th>\n",
       "      <th>source</th>\n",
       "      <th>text</th>\n",
       "      <th>length</th>\n",
       "    </tr>\n",
       "  </thead>\n",
       "  <tbody>\n",
       "    <tr>\n",
       "      <th>0</th>\n",
       "      <td>The graphics are gorgeous, the gameplay is inc...</td>\n",
       "      <td>5</td>\n",
       "      <td>2020-12-11 13:55:29</td>\n",
       "      <td>881.0</td>\n",
       "      <td>google_play_store</td>\n",
       "      <td>[the, graphics, are, gorgeous, the, gameplay, ...</td>\n",
       "      <td>84</td>\n",
       "    </tr>\n",
       "    <tr>\n",
       "      <th>1</th>\n",
       "      <td>If you love free world RPG, then this is it! T...</td>\n",
       "      <td>5</td>\n",
       "      <td>2020-12-16 18:10:47</td>\n",
       "      <td>48.0</td>\n",
       "      <td>google_play_store</td>\n",
       "      <td>[if, you, love, free, world, rpg, then, this, ...</td>\n",
       "      <td>94</td>\n",
       "    </tr>\n",
       "    <tr>\n",
       "      <th>2</th>\n",
       "      <td>I absolutely love the game! No complaints besi...</td>\n",
       "      <td>5</td>\n",
       "      <td>2020-12-16 00:18:43</td>\n",
       "      <td>185.0</td>\n",
       "      <td>google_play_store</td>\n",
       "      <td>[i, absolutely, love, the, game, no, complaint...</td>\n",
       "      <td>75</td>\n",
       "    </tr>\n",
       "    <tr>\n",
       "      <th>3</th>\n",
       "      <td>Great game. Regardless of ripoff issues and su...</td>\n",
       "      <td>4</td>\n",
       "      <td>2020-12-16 12:46:11</td>\n",
       "      <td>1.0</td>\n",
       "      <td>google_play_store</td>\n",
       "      <td>[great, game, regardless, of, ripoff, issues, ...</td>\n",
       "      <td>88</td>\n",
       "    </tr>\n",
       "    <tr>\n",
       "      <th>4</th>\n",
       "      <td>Amazing graphics and gameplay although a lot o...</td>\n",
       "      <td>5</td>\n",
       "      <td>2020-12-10 22:51:08</td>\n",
       "      <td>186.0</td>\n",
       "      <td>google_play_store</td>\n",
       "      <td>[amazing, graphics, and, gameplay, although, a...</td>\n",
       "      <td>86</td>\n",
       "    </tr>\n",
       "  </tbody>\n",
       "</table>\n",
       "</div>"
      ],
      "text/plain": [
       "                                             content  score  \\\n",
       "0  The graphics are gorgeous, the gameplay is inc...      5   \n",
       "1  If you love free world RPG, then this is it! T...      5   \n",
       "2  I absolutely love the game! No complaints besi...      5   \n",
       "3  Great game. Regardless of ripoff issues and su...      4   \n",
       "4  Amazing graphics and gameplay although a lot o...      5   \n",
       "\n",
       "                 date  thumbsUp             source  \\\n",
       "0 2020-12-11 13:55:29     881.0  google_play_store   \n",
       "1 2020-12-16 18:10:47      48.0  google_play_store   \n",
       "2 2020-12-16 00:18:43     185.0  google_play_store   \n",
       "3 2020-12-16 12:46:11       1.0  google_play_store   \n",
       "4 2020-12-10 22:51:08     186.0  google_play_store   \n",
       "\n",
       "                                                text  length  \n",
       "0  [the, graphics, are, gorgeous, the, gameplay, ...      84  \n",
       "1  [if, you, love, free, world, rpg, then, this, ...      94  \n",
       "2  [i, absolutely, love, the, game, no, complaint...      75  \n",
       "3  [great, game, regardless, of, ripoff, issues, ...      88  \n",
       "4  [amazing, graphics, and, gameplay, although, a...      86  "
      ]
     },
     "execution_count": 24,
     "metadata": {},
     "output_type": "execute_result"
    }
   ],
   "source": [
    "df.drop_duplicates(['content', 'date'], inplace = True)\n",
    "\n",
    "df.reset_index(drop = True, inplace = True)\n",
    "\n",
    "df.head()"
   ]
  },
  {
   "cell_type": "markdown",
   "metadata": {},
   "source": [
    "## Removing Non-English Posts"
   ]
  },
  {
   "cell_type": "code",
   "execution_count": 25,
   "metadata": {
    "ExecuteTime": {
     "end_time": "2021-01-26T00:25:51.460522Z",
     "start_time": "2021-01-26T00:25:51.336261Z"
    }
   },
   "outputs": [
    {
     "data": {
      "text/plain": [
       "True"
      ]
     },
     "execution_count": 25,
     "metadata": {},
     "output_type": "execute_result"
    }
   ],
   "source": [
    "en_dict = enchant.Dict(\"en_US\")\n",
    "en_dict.check(\"Hello\")"
   ]
  },
  {
   "cell_type": "code",
   "execution_count": 26,
   "metadata": {
    "ExecuteTime": {
     "end_time": "2021-01-26T00:25:51.476511Z",
     "start_time": "2021-01-26T00:25:51.462520Z"
    }
   },
   "outputs": [
    {
     "data": {
      "text/plain": [
       "False"
      ]
     },
     "execution_count": 26,
     "metadata": {},
     "output_type": "execute_result"
    }
   ],
   "source": [
    "en_dict.check(\"grafiknya\")"
   ]
  },
  {
   "cell_type": "markdown",
   "metadata": {},
   "source": [
    "The **enchant library** has a **check** function that is able to check if a word is English.\n",
    "\n",
    "I will use the this function to:\n",
    "1. Check if the tokenized words are English\n",
    "2. Find the percentage of English word to total number of words. \n",
    "\n",
    "After the percentage of English words is obtained, I will remove reviews under a certain percentage threshold.\n",
    "\n",
    "*Post-project note*: This could potentially be more easily accomplished using the SpaCy LanguageDetector module."
   ]
  },
  {
   "cell_type": "code",
   "execution_count": 27,
   "metadata": {
    "ExecuteTime": {
     "end_time": "2021-01-26T00:35:26.616374Z",
     "start_time": "2021-01-26T00:25:51.478510Z"
    }
   },
   "outputs": [],
   "source": [
    "df['english'] = df['text'].apply(lambda x: [en_dict.check(word) for word in x])\n",
    "\n",
    "df['pct_english'] = df['english'].apply(lambda x: x.count(True) / len(x))"
   ]
  },
  {
   "cell_type": "code",
   "execution_count": 28,
   "metadata": {
    "ExecuteTime": {
     "end_time": "2021-01-26T00:35:26.647358Z",
     "start_time": "2021-01-26T00:35:26.618378Z"
    }
   },
   "outputs": [
    {
     "data": {
      "text/plain": [
       "count    91146.000000\n",
       "mean         0.931544\n",
       "std          0.131405\n",
       "min          0.000000\n",
       "25%          0.920455\n",
       "50%          0.975610\n",
       "75%          1.000000\n",
       "max          1.000000\n",
       "Name: pct_english, dtype: float64"
      ]
     },
     "execution_count": 28,
     "metadata": {},
     "output_type": "execute_result"
    }
   ],
   "source": [
    "df['pct_english'].describe()"
   ]
  },
  {
   "cell_type": "code",
   "execution_count": 29,
   "metadata": {
    "ExecuteTime": {
     "end_time": "2021-01-26T00:35:26.885215Z",
     "start_time": "2021-01-26T00:35:26.649358Z"
    }
   },
   "outputs": [
    {
     "data": {
      "image/png": "[encoded data removed]",
      "text/plain": [
       "<Figure size 1152x288 with 1 Axes>"
      ]
     },
     "metadata": {},
     "output_type": "display_data"
    }
   ],
   "source": [
    "plt.figure(figsize = (16, 4))\n",
    "sns.boxplot(data=df, x=\"pct_english\", hue=\"source\", orient = 'h')\n",
    "plt.title('Percentage of English Words of Reviews', fontsize = 16)\n",
    "plt.xlabel('Percentage', fontsize = 12)\n",
    "plt.show()"
   ]
  },
  {
   "cell_type": "markdown",
   "metadata": {},
   "source": [
    "Majority of the texts are English."
   ]
  },
  {
   "cell_type": "code",
   "execution_count": 30,
   "metadata": {
    "ExecuteTime": {
     "end_time": "2021-01-26T00:35:26.948109Z",
     "start_time": "2021-01-26T00:35:26.886213Z"
    }
   },
   "outputs": [
    {
     "data": {
      "text/html": [
       "<div>\n",
       "<style scoped>\n",
       "    .dataframe tbody tr th:only-of-type {\n",
       "        vertical-align: middle;\n",
       "    }\n",
       "\n",
       "    .dataframe tbody tr th {\n",
       "        vertical-align: top;\n",
       "    }\n",
       "\n",
       "    .dataframe thead th {\n",
       "        text-align: right;\n",
       "    }\n",
       "</style>\n",
       "<table border=\"1\" class=\"dataframe\">\n",
       "  <thead>\n",
       "    <tr style=\"text-align: right;\">\n",
       "      <th></th>\n",
       "      <th>content</th>\n",
       "      <th>text</th>\n",
       "      <th>english</th>\n",
       "      <th>pct_english</th>\n",
       "    </tr>\n",
       "  </thead>\n",
       "  <tbody>\n",
       "    <tr>\n",
       "      <th>79031</th>\n",
       "      <td>Game android paling kece, grafiknya kayak di p...</td>\n",
       "      <td>[game, android, paling, kece, grafiknya, kayak...</td>\n",
       "      <td>[True, True, True, False, False, True, True, T...</td>\n",
       "      <td>0.590909</td>\n",
       "    </tr>\n",
       "    <tr>\n",
       "      <th>80643</th>\n",
       "      <td>🎤sawarasenai🥰kimi😸wa⛓shoujo👻na💅no?✨böKù🌸Wâ🧚ÿAR...</td>\n",
       "      <td>[sawarasenai, kimi, wa, shoujo, na, no, b, k, ...</td>\n",
       "      <td>[False, False, False, False, False, True, True...</td>\n",
       "      <td>0.588235</td>\n",
       "    </tr>\n",
       "    <tr>\n",
       "      <th>60113</th>\n",
       "      <td>As of 2020/09/27 downloading palang, will try ...</td>\n",
       "      <td>[as, of, downloading, palang, will, try, this,...</td>\n",
       "      <td>[True, True, True, False, True, True, True, Tr...</td>\n",
       "      <td>0.588235</td>\n",
       "    </tr>\n",
       "    <tr>\n",
       "      <th>40082</th>\n",
       "      <td>sangat menyeronokkan..rasanya seperti anda men...</td>\n",
       "      <td>[sangat, menyeronokkan, rasanya, seperti, anda...</td>\n",
       "      <td>[False, False, False, False, False, False, Tru...</td>\n",
       "      <td>0.588235</td>\n",
       "    </tr>\n",
       "    <tr>\n",
       "      <th>19821</th>\n",
       "      <td>Tolong di perbaiki server Asia :) download lan...</td>\n",
       "      <td>[tolong, di, perbaiki, server, asia, download,...</td>\n",
       "      <td>[False, True, False, True, False, True, False,...</td>\n",
       "      <td>0.583333</td>\n",
       "    </tr>\n",
       "    <tr>\n",
       "      <th>76341</th>\n",
       "      <td>Tis is so amizing and so satisfaying so pls do...</td>\n",
       "      <td>[tis, is, so, amizing, and, so, satisfaying, s...</td>\n",
       "      <td>[False, True, True, False, True, True, False, ...</td>\n",
       "      <td>0.583333</td>\n",
       "    </tr>\n",
       "    <tr>\n",
       "      <th>79396</th>\n",
       "      <td>Chỉ cho được 4 sao vì ko thể thanh toán google...</td>\n",
       "      <td>[ch, cho, c, sao, v, ko, th, thanh, to, n, goo...</td>\n",
       "      <td>[True, False, True, False, True, False, False,...</td>\n",
       "      <td>0.583333</td>\n",
       "    </tr>\n",
       "    <tr>\n",
       "      <th>71587</th>\n",
       "      <td>Kek rng didnt gib me a loli but gave a mona in...</td>\n",
       "      <td>[kek, rng, didnt, gib, me, a, loli, but, gave,...</td>\n",
       "      <td>[False, False, False, True, True, True, False,...</td>\n",
       "      <td>0.583333</td>\n",
       "    </tr>\n",
       "    <tr>\n",
       "      <th>72398</th>\n",
       "      <td>Can I get legendry caracter ok pls I am a kid ...</td>\n",
       "      <td>[can, i, get, legendry, caracter, ok, pls, i, ...</td>\n",
       "      <td>[True, True, True, False, False, False, False,...</td>\n",
       "      <td>0.583333</td>\n",
       "    </tr>\n",
       "    <tr>\n",
       "      <th>38181</th>\n",
       "      <td>Amazing RPG game!! Running perfectly smooth at...</td>\n",
       "      <td>[amazing, rpg, game, running, perfectly, smoot...</td>\n",
       "      <td>[True, False, True, True, True, True, True, Tr...</td>\n",
       "      <td>0.583333</td>\n",
       "    </tr>\n",
       "  </tbody>\n",
       "</table>\n",
       "</div>"
      ],
      "text/plain": [
       "                                                 content  \\\n",
       "79031  Game android paling kece, grafiknya kayak di p...   \n",
       "80643  🎤sawarasenai🥰kimi😸wa⛓shoujo👻na💅no?✨böKù🌸Wâ🧚ÿAR...   \n",
       "60113  As of 2020/09/27 downloading palang, will try ...   \n",
       "40082  sangat menyeronokkan..rasanya seperti anda men...   \n",
       "19821  Tolong di perbaiki server Asia :) download lan...   \n",
       "76341  Tis is so amizing and so satisfaying so pls do...   \n",
       "79396  Chỉ cho được 4 sao vì ko thể thanh toán google...   \n",
       "71587  Kek rng didnt gib me a loli but gave a mona in...   \n",
       "72398  Can I get legendry caracter ok pls I am a kid ...   \n",
       "38181  Amazing RPG game!! Running perfectly smooth at...   \n",
       "\n",
       "                                                    text  \\\n",
       "79031  [game, android, paling, kece, grafiknya, kayak...   \n",
       "80643  [sawarasenai, kimi, wa, shoujo, na, no, b, k, ...   \n",
       "60113  [as, of, downloading, palang, will, try, this,...   \n",
       "40082  [sangat, menyeronokkan, rasanya, seperti, anda...   \n",
       "19821  [tolong, di, perbaiki, server, asia, download,...   \n",
       "76341  [tis, is, so, amizing, and, so, satisfaying, s...   \n",
       "79396  [ch, cho, c, sao, v, ko, th, thanh, to, n, goo...   \n",
       "71587  [kek, rng, didnt, gib, me, a, loli, but, gave,...   \n",
       "72398  [can, i, get, legendry, caracter, ok, pls, i, ...   \n",
       "38181  [amazing, rpg, game, running, perfectly, smoot...   \n",
       "\n",
       "                                                 english  pct_english  \n",
       "79031  [True, True, True, False, False, True, True, T...     0.590909  \n",
       "80643  [False, False, False, False, False, True, True...     0.588235  \n",
       "60113  [True, True, True, False, True, True, True, Tr...     0.588235  \n",
       "40082  [False, False, False, False, False, False, Tru...     0.588235  \n",
       "19821  [False, True, False, True, False, True, False,...     0.583333  \n",
       "76341  [False, True, True, False, True, True, False, ...     0.583333  \n",
       "79396  [True, False, True, False, True, False, False,...     0.583333  \n",
       "71587  [False, False, False, True, True, True, False,...     0.583333  \n",
       "72398  [True, True, True, False, False, False, False,...     0.583333  \n",
       "38181  [True, False, True, True, True, True, True, Tr...     0.583333  "
      ]
     },
     "execution_count": 30,
     "metadata": {},
     "output_type": "execute_result"
    }
   ],
   "source": [
    "df[df['pct_english'] < 0.6].sort_values('pct_english', ascending = False).head(10)[['content', 'text', 'english', 'pct_english']]"
   ]
  },
  {
   "cell_type": "code",
   "execution_count": 31,
   "metadata": {
    "ExecuteTime": {
     "end_time": "2021-01-26T00:35:26.995318Z",
     "start_time": "2021-01-26T00:35:26.951110Z"
    }
   },
   "outputs": [
    {
     "data": {
      "text/html": [
       "<div>\n",
       "<style scoped>\n",
       "    .dataframe tbody tr th:only-of-type {\n",
       "        vertical-align: middle;\n",
       "    }\n",
       "\n",
       "    .dataframe tbody tr th {\n",
       "        vertical-align: top;\n",
       "    }\n",
       "\n",
       "    .dataframe thead th {\n",
       "        text-align: right;\n",
       "    }\n",
       "</style>\n",
       "<table border=\"1\" class=\"dataframe\">\n",
       "  <thead>\n",
       "    <tr style=\"text-align: right;\">\n",
       "      <th></th>\n",
       "      <th>content</th>\n",
       "      <th>text</th>\n",
       "      <th>english</th>\n",
       "      <th>pct_english</th>\n",
       "    </tr>\n",
       "  </thead>\n",
       "  <tbody>\n",
       "    <tr>\n",
       "      <th>61393</th>\n",
       "      <td>Gacha rates ruined everything lol. 0.6 percent...</td>\n",
       "      <td>[gacha, rates, ruined, everything, lol, percen...</td>\n",
       "      <td>[False, True, True, True, False, True, True, F...</td>\n",
       "      <td>0.647059</td>\n",
       "    </tr>\n",
       "    <tr>\n",
       "      <th>35967</th>\n",
       "      <td>Nice graphic, nice story, nice rpg keep the wi...</td>\n",
       "      <td>[nice, graphic, nice, story, nice, rpg, keep, ...</td>\n",
       "      <td>[True, True, True, True, True, False, True, Tr...</td>\n",
       "      <td>0.647059</td>\n",
       "    </tr>\n",
       "    <tr>\n",
       "      <th>39406</th>\n",
       "      <td>still the best mihiyo game.its a mass open wor...</td>\n",
       "      <td>[still, the, best, mihiyo, game, its, a, mass,...</td>\n",
       "      <td>[True, True, True, False, True, True, True, Tr...</td>\n",
       "      <td>0.645833</td>\n",
       "    </tr>\n",
       "    <tr>\n",
       "      <th>56810</th>\n",
       "      <td>Plss make ps4 loginable with mihoyo account fa...</td>\n",
       "      <td>[plss, make, ps, loginable, with, mihoyo, acco...</td>\n",
       "      <td>[False, True, True, False, True, False, True, ...</td>\n",
       "      <td>0.642857</td>\n",
       "    </tr>\n",
       "    <tr>\n",
       "      <th>78783</th>\n",
       "      <td>Enquanto não ajustarem os preços e os rates es...</td>\n",
       "      <td>[enquanto, n, o, ajustarem, os, pre, os, e, os...</td>\n",
       "      <td>[False, True, True, False, True, False, True, ...</td>\n",
       "      <td>0.642857</td>\n",
       "    </tr>\n",
       "    <tr>\n",
       "      <th>45474</th>\n",
       "      <td>Amazing game thankyou and pls make 60fps on an...</td>\n",
       "      <td>[amazing, game, thankyou, and, pls, make, fps,...</td>\n",
       "      <td>[True, True, False, True, False, True, True, T...</td>\n",
       "      <td>0.642857</td>\n",
       "    </tr>\n",
       "    <tr>\n",
       "      <th>51349</th>\n",
       "      <td>Genshin Impact is Soo Awesome! 💕 This app is K...</td>\n",
       "      <td>[genshin, impact, is, soo, awesome, this, app,...</td>\n",
       "      <td>[False, True, True, False, True, True, True, T...</td>\n",
       "      <td>0.642857</td>\n",
       "    </tr>\n",
       "    <tr>\n",
       "      <th>40727</th>\n",
       "      <td>Why im allwest stuck and freezeng 93ms but fre...</td>\n",
       "      <td>[why, im, allwest, stuck, and, freezeng, ms, b...</td>\n",
       "      <td>[True, False, False, True, True, False, True, ...</td>\n",
       "      <td>0.642857</td>\n",
       "    </tr>\n",
       "    <tr>\n",
       "      <th>53513</th>\n",
       "      <td>THE GAME IS ABSOLUTELY BEAUTIFULLLL!!!! IM BEI...</td>\n",
       "      <td>[the, game, is, absolutely, beautifullll, im, ...</td>\n",
       "      <td>[True, True, True, True, False, False, True, F...</td>\n",
       "      <td>0.642857</td>\n",
       "    </tr>\n",
       "    <tr>\n",
       "      <th>51982</th>\n",
       "      <td>Nice game.. your know what cooking.. BBOOOMMM!...</td>\n",
       "      <td>[nice, game, your, know, what, cooking, bbooom...</td>\n",
       "      <td>[True, True, True, True, True, True, False, Fa...</td>\n",
       "      <td>0.636364</td>\n",
       "    </tr>\n",
       "  </tbody>\n",
       "</table>\n",
       "</div>"
      ],
      "text/plain": [
       "                                                 content  \\\n",
       "61393  Gacha rates ruined everything lol. 0.6 percent...   \n",
       "35967  Nice graphic, nice story, nice rpg keep the wi...   \n",
       "39406  still the best mihiyo game.its a mass open wor...   \n",
       "56810  Plss make ps4 loginable with mihoyo account fa...   \n",
       "78783  Enquanto não ajustarem os preços e os rates es...   \n",
       "45474  Amazing game thankyou and pls make 60fps on an...   \n",
       "51349  Genshin Impact is Soo Awesome! 💕 This app is K...   \n",
       "40727  Why im allwest stuck and freezeng 93ms but fre...   \n",
       "53513  THE GAME IS ABSOLUTELY BEAUTIFULLLL!!!! IM BEI...   \n",
       "51982  Nice game.. your know what cooking.. BBOOOMMM!...   \n",
       "\n",
       "                                                    text  \\\n",
       "61393  [gacha, rates, ruined, everything, lol, percen...   \n",
       "35967  [nice, graphic, nice, story, nice, rpg, keep, ...   \n",
       "39406  [still, the, best, mihiyo, game, its, a, mass,...   \n",
       "56810  [plss, make, ps, loginable, with, mihoyo, acco...   \n",
       "78783  [enquanto, n, o, ajustarem, os, pre, os, e, os...   \n",
       "45474  [amazing, game, thankyou, and, pls, make, fps,...   \n",
       "51349  [genshin, impact, is, soo, awesome, this, app,...   \n",
       "40727  [why, im, allwest, stuck, and, freezeng, ms, b...   \n",
       "53513  [the, game, is, absolutely, beautifullll, im, ...   \n",
       "51982  [nice, game, your, know, what, cooking, bbooom...   \n",
       "\n",
       "                                                 english  pct_english  \n",
       "61393  [False, True, True, True, False, True, True, F...     0.647059  \n",
       "35967  [True, True, True, True, True, False, True, Tr...     0.647059  \n",
       "39406  [True, True, True, False, True, True, True, Tr...     0.645833  \n",
       "56810  [False, True, True, False, True, False, True, ...     0.642857  \n",
       "78783  [False, True, True, False, True, False, True, ...     0.642857  \n",
       "45474  [True, True, False, True, False, True, True, T...     0.642857  \n",
       "51349  [False, True, True, False, True, True, True, T...     0.642857  \n",
       "40727  [True, False, False, True, True, False, True, ...     0.642857  \n",
       "53513  [True, True, True, True, False, False, True, F...     0.642857  \n",
       "51982  [True, True, True, True, True, True, False, Fa...     0.636364  "
      ]
     },
     "execution_count": 31,
     "metadata": {},
     "output_type": "execute_result"
    }
   ],
   "source": [
    "df[df['pct_english'] < 0.65].sort_values('pct_english', ascending = False).head(10)[['content', 'text', 'english', 'pct_english']]"
   ]
  },
  {
   "cell_type": "code",
   "execution_count": 32,
   "metadata": {
    "ExecuteTime": {
     "end_time": "2021-01-26T00:35:27.027298Z",
     "start_time": "2021-01-26T00:35:26.996317Z"
    }
   },
   "outputs": [
    {
     "data": {
      "text/html": [
       "<div>\n",
       "<style scoped>\n",
       "    .dataframe tbody tr th:only-of-type {\n",
       "        vertical-align: middle;\n",
       "    }\n",
       "\n",
       "    .dataframe tbody tr th {\n",
       "        vertical-align: top;\n",
       "    }\n",
       "\n",
       "    .dataframe thead th {\n",
       "        text-align: right;\n",
       "    }\n",
       "</style>\n",
       "<table border=\"1\" class=\"dataframe\">\n",
       "  <thead>\n",
       "    <tr style=\"text-align: right;\">\n",
       "      <th></th>\n",
       "      <th>content</th>\n",
       "      <th>text</th>\n",
       "      <th>english</th>\n",
       "      <th>pct_english</th>\n",
       "    </tr>\n",
       "  </thead>\n",
       "  <tbody>\n",
       "    <tr>\n",
       "      <th>78160</th>\n",
       "      <td>Camera quá tệ, chế độ tự động phóng to thu nhỏ...</td>\n",
       "      <td>[camera, qu, t, ch, t, ng, ph, ng, to, thu, nh...</td>\n",
       "      <td>[True, True, True, True, True, False, False, F...</td>\n",
       "      <td>0.696970</td>\n",
       "    </tr>\n",
       "    <tr>\n",
       "      <th>90791</th>\n",
       "      <td>Quick question Is the add on youtube the voice...</td>\n",
       "      <td>[quick, question, is, the, add, on, youtube, t...</td>\n",
       "      <td>[True, True, True, True, True, True, False, Tr...</td>\n",
       "      <td>0.695652</td>\n",
       "    </tr>\n",
       "    <tr>\n",
       "      <th>36538</th>\n",
       "      <td>Best open world RPG hack and slash Great detai...</td>\n",
       "      <td>[best, open, world, rpg, hack, and, slash, gre...</td>\n",
       "      <td>[True, True, True, False, True, True, True, Tr...</td>\n",
       "      <td>0.695652</td>\n",
       "    </tr>\n",
       "    <tr>\n",
       "      <th>36186</th>\n",
       "      <td>Mihoyo is real mthr fkr, just for 60 primogems...</td>\n",
       "      <td>[mihoyo, is, real, mthr, fkr, just, for, primo...</td>\n",
       "      <td>[False, True, True, False, False, True, True, ...</td>\n",
       "      <td>0.695652</td>\n",
       "    </tr>\n",
       "    <tr>\n",
       "      <th>30211</th>\n",
       "      <td>The game is ultra good but ther is gatcha so i...</td>\n",
       "      <td>[the, game, is, ultra, good, but, ther, is, ga...</td>\n",
       "      <td>[True, True, True, True, True, True, False, Tr...</td>\n",
       "      <td>0.694444</td>\n",
       "    </tr>\n",
       "    <tr>\n",
       "      <th>90358</th>\n",
       "      <td>Wtff its not downloading 😂 The game isn’t down...</td>\n",
       "      <td>[wtff, its, not, downloading, the, game, isn, ...</td>\n",
       "      <td>[False, True, True, True, True, True, False, T...</td>\n",
       "      <td>0.692308</td>\n",
       "    </tr>\n",
       "    <tr>\n",
       "      <th>89130</th>\n",
       "      <td>Poggers It’s pretty neato burrito if you ask m...</td>\n",
       "      <td>[poggers, it, s, pretty, neato, burrito, if, y...</td>\n",
       "      <td>[False, True, True, True, False, True, True, T...</td>\n",
       "      <td>0.692308</td>\n",
       "    </tr>\n",
       "    <tr>\n",
       "      <th>59203</th>\n",
       "      <td>Why TF everyone hates the stamina ofc they hav...</td>\n",
       "      <td>[why, tf, everyone, hates, the, stamina, ofc, ...</td>\n",
       "      <td>[True, False, True, True, True, True, False, T...</td>\n",
       "      <td>0.692308</td>\n",
       "    </tr>\n",
       "    <tr>\n",
       "      <th>31638</th>\n",
       "      <td>Please buff zhongli, why base attack zhongli w...</td>\n",
       "      <td>[please, buff, zhongli, why, base, attack, zho...</td>\n",
       "      <td>[True, True, False, True, True, True, False, T...</td>\n",
       "      <td>0.692308</td>\n",
       "    </tr>\n",
       "    <tr>\n",
       "      <th>32889</th>\n",
       "      <td>Boring. No PVP. SOLO GAMING. LOOKS LIKE SOLO A...</td>\n",
       "      <td>[boring, no, pvp, solo, gaming, looks, like, s...</td>\n",
       "      <td>[True, True, False, True, True, True, True, Tr...</td>\n",
       "      <td>0.692308</td>\n",
       "    </tr>\n",
       "  </tbody>\n",
       "</table>\n",
       "</div>"
      ],
      "text/plain": [
       "                                                 content  \\\n",
       "78160  Camera quá tệ, chế độ tự động phóng to thu nhỏ...   \n",
       "90791  Quick question Is the add on youtube the voice...   \n",
       "36538  Best open world RPG hack and slash Great detai...   \n",
       "36186  Mihoyo is real mthr fkr, just for 60 primogems...   \n",
       "30211  The game is ultra good but ther is gatcha so i...   \n",
       "90358  Wtff its not downloading 😂 The game isn’t down...   \n",
       "89130  Poggers It’s pretty neato burrito if you ask m...   \n",
       "59203  Why TF everyone hates the stamina ofc they hav...   \n",
       "31638  Please buff zhongli, why base attack zhongli w...   \n",
       "32889  Boring. No PVP. SOLO GAMING. LOOKS LIKE SOLO A...   \n",
       "\n",
       "                                                    text  \\\n",
       "78160  [camera, qu, t, ch, t, ng, ph, ng, to, thu, nh...   \n",
       "90791  [quick, question, is, the, add, on, youtube, t...   \n",
       "36538  [best, open, world, rpg, hack, and, slash, gre...   \n",
       "36186  [mihoyo, is, real, mthr, fkr, just, for, primo...   \n",
       "30211  [the, game, is, ultra, good, but, ther, is, ga...   \n",
       "90358  [wtff, its, not, downloading, the, game, isn, ...   \n",
       "89130  [poggers, it, s, pretty, neato, burrito, if, y...   \n",
       "59203  [why, tf, everyone, hates, the, stamina, ofc, ...   \n",
       "31638  [please, buff, zhongli, why, base, attack, zho...   \n",
       "32889  [boring, no, pvp, solo, gaming, looks, like, s...   \n",
       "\n",
       "                                                 english  pct_english  \n",
       "78160  [True, True, True, True, True, False, False, F...     0.696970  \n",
       "90791  [True, True, True, True, True, True, False, Tr...     0.695652  \n",
       "36538  [True, True, True, False, True, True, True, Tr...     0.695652  \n",
       "36186  [False, True, True, False, False, True, True, ...     0.695652  \n",
       "30211  [True, True, True, True, True, True, False, Tr...     0.694444  \n",
       "90358  [False, True, True, True, True, True, False, T...     0.692308  \n",
       "89130  [False, True, True, True, False, True, True, T...     0.692308  \n",
       "59203  [True, False, True, True, True, True, False, T...     0.692308  \n",
       "31638  [True, True, False, True, True, True, False, T...     0.692308  \n",
       "32889  [True, True, False, True, True, True, True, Tr...     0.692308  "
      ]
     },
     "execution_count": 32,
     "metadata": {},
     "output_type": "execute_result"
    }
   ],
   "source": [
    "df[df['pct_english'] < 0.7].sort_values('pct_english', ascending = False).head(10)[['content', 'text', 'english', 'pct_english']]"
   ]
  },
  {
   "cell_type": "code",
   "execution_count": 33,
   "metadata": {
    "ExecuteTime": {
     "end_time": "2021-01-26T00:35:27.075268Z",
     "start_time": "2021-01-26T00:35:27.029297Z"
    }
   },
   "outputs": [
    {
     "data": {
      "text/html": [
       "<div>\n",
       "<style scoped>\n",
       "    .dataframe tbody tr th:only-of-type {\n",
       "        vertical-align: middle;\n",
       "    }\n",
       "\n",
       "    .dataframe tbody tr th {\n",
       "        vertical-align: top;\n",
       "    }\n",
       "\n",
       "    .dataframe thead th {\n",
       "        text-align: right;\n",
       "    }\n",
       "</style>\n",
       "<table border=\"1\" class=\"dataframe\">\n",
       "  <thead>\n",
       "    <tr style=\"text-align: right;\">\n",
       "      <th></th>\n",
       "      <th>content</th>\n",
       "      <th>text</th>\n",
       "      <th>english</th>\n",
       "      <th>pct_english</th>\n",
       "    </tr>\n",
       "  </thead>\n",
       "  <tbody>\n",
       "    <tr>\n",
       "      <th>42642</th>\n",
       "      <td>Hi developer I personally Loved this game and ...</td>\n",
       "      <td>[hi, developer, i, personally, loved, this, ga...</td>\n",
       "      <td>[True, True, True, True, True, True, True, Tru...</td>\n",
       "      <td>0.746835</td>\n",
       "    </tr>\n",
       "    <tr>\n",
       "      <th>78240</th>\n",
       "      <td>Cần phải ưu tiên hơn cho người chơi bằng smart...</td>\n",
       "      <td>[c, n, ph, i, u, ti, n, h, n, cho, ng, i, ch, ...</td>\n",
       "      <td>[True, True, False, True, True, True, True, Tr...</td>\n",
       "      <td>0.742857</td>\n",
       "    </tr>\n",
       "    <tr>\n",
       "      <th>70242</th>\n",
       "      <td>Reset 100 timess more, never get diluc. Only m...</td>\n",
       "      <td>[reset, timess, more, never, get, diluc, only,...</td>\n",
       "      <td>[True, False, True, True, True, False, True, F...</td>\n",
       "      <td>0.740741</td>\n",
       "    </tr>\n",
       "    <tr>\n",
       "      <th>78209</th>\n",
       "      <td>Ủa đhs tự nhiên đang đánh quái gần hết máu sắp...</td>\n",
       "      <td>[a, hs, t, nhi, n, ang, nh, qu, i, g, n, h, t,...</td>\n",
       "      <td>[True, False, True, False, True, False, False,...</td>\n",
       "      <td>0.740260</td>\n",
       "    </tr>\n",
       "    <tr>\n",
       "      <th>79379</th>\n",
       "      <td>Nhân vật cute sinh hoạt khá giống đời thực nhậ...</td>\n",
       "      <td>[nh, n, v, t, cute, sinh, ho, t, kh, gi, ng, i...</td>\n",
       "      <td>[False, True, True, True, True, True, True, Tr...</td>\n",
       "      <td>0.739130</td>\n",
       "    </tr>\n",
       "    <tr>\n",
       "      <th>36198</th>\n",
       "      <td>Awesome game also canyou guys add genshin to t...</td>\n",
       "      <td>[awesome, game, also, canyou, guys, add, gensh...</td>\n",
       "      <td>[True, True, True, False, True, True, False, T...</td>\n",
       "      <td>0.739130</td>\n",
       "    </tr>\n",
       "    <tr>\n",
       "      <th>30038</th>\n",
       "      <td>Love the game but pls increase the resen cap a...</td>\n",
       "      <td>[love, the, game, but, pls, increase, the, res...</td>\n",
       "      <td>[True, True, True, True, False, True, True, Fa...</td>\n",
       "      <td>0.739130</td>\n",
       "    </tr>\n",
       "    <tr>\n",
       "      <th>9645</th>\n",
       "      <td>i had a bug in the game account im lvl 25 and ...</td>\n",
       "      <td>[i, had, a, bug, in, the, game, account, im, l...</td>\n",
       "      <td>[True, True, True, True, True, True, True, Tru...</td>\n",
       "      <td>0.739130</td>\n",
       "    </tr>\n",
       "    <tr>\n",
       "      <th>90873</th>\n",
       "      <td>Spotify and SoundCloud I wish Genshin Impact a...</td>\n",
       "      <td>[spotify, and, soundcloud, i, wish, genshin, i...</td>\n",
       "      <td>[False, True, False, True, True, False, True, ...</td>\n",
       "      <td>0.736842</td>\n",
       "    </tr>\n",
       "    <tr>\n",
       "      <th>79143</th>\n",
       "      <td>Tôi ko mua hàng được trong game. Game cứ hiện ...</td>\n",
       "      <td>[t, i, ko, mua, h, ng, c, trong, game, game, c...</td>\n",
       "      <td>[True, True, False, False, True, False, True, ...</td>\n",
       "      <td>0.736842</td>\n",
       "    </tr>\n",
       "  </tbody>\n",
       "</table>\n",
       "</div>"
      ],
      "text/plain": [
       "                                                 content  \\\n",
       "42642  Hi developer I personally Loved this game and ...   \n",
       "78240  Cần phải ưu tiên hơn cho người chơi bằng smart...   \n",
       "70242  Reset 100 timess more, never get diluc. Only m...   \n",
       "78209  Ủa đhs tự nhiên đang đánh quái gần hết máu sắp...   \n",
       "79379  Nhân vật cute sinh hoạt khá giống đời thực nhậ...   \n",
       "36198  Awesome game also canyou guys add genshin to t...   \n",
       "30038  Love the game but pls increase the resen cap a...   \n",
       "9645   i had a bug in the game account im lvl 25 and ...   \n",
       "90873  Spotify and SoundCloud I wish Genshin Impact a...   \n",
       "79143  Tôi ko mua hàng được trong game. Game cứ hiện ...   \n",
       "\n",
       "                                                    text  \\\n",
       "42642  [hi, developer, i, personally, loved, this, ga...   \n",
       "78240  [c, n, ph, i, u, ti, n, h, n, cho, ng, i, ch, ...   \n",
       "70242  [reset, timess, more, never, get, diluc, only,...   \n",
       "78209  [a, hs, t, nhi, n, ang, nh, qu, i, g, n, h, t,...   \n",
       "79379  [nh, n, v, t, cute, sinh, ho, t, kh, gi, ng, i...   \n",
       "36198  [awesome, game, also, canyou, guys, add, gensh...   \n",
       "30038  [love, the, game, but, pls, increase, the, res...   \n",
       "9645   [i, had, a, bug, in, the, game, account, im, l...   \n",
       "90873  [spotify, and, soundcloud, i, wish, genshin, i...   \n",
       "79143  [t, i, ko, mua, h, ng, c, trong, game, game, c...   \n",
       "\n",
       "                                                 english  pct_english  \n",
       "42642  [True, True, True, True, True, True, True, Tru...     0.746835  \n",
       "78240  [True, True, False, True, True, True, True, Tr...     0.742857  \n",
       "70242  [True, False, True, True, True, False, True, F...     0.740741  \n",
       "78209  [True, False, True, False, True, False, False,...     0.740260  \n",
       "79379  [False, True, True, True, True, True, True, Tr...     0.739130  \n",
       "36198  [True, True, True, False, True, True, False, T...     0.739130  \n",
       "30038  [True, True, True, True, False, True, True, Fa...     0.739130  \n",
       "9645   [True, True, True, True, True, True, True, Tru...     0.739130  \n",
       "90873  [False, True, False, True, True, False, True, ...     0.736842  \n",
       "79143  [True, True, False, False, True, False, True, ...     0.736842  "
      ]
     },
     "execution_count": 33,
     "metadata": {},
     "output_type": "execute_result"
    }
   ],
   "source": [
    "df[df['pct_english'] < 0.75].sort_values('pct_english', ascending = False).head(10)[['content', 'text', 'english', 'pct_english']]"
   ]
  },
  {
   "cell_type": "markdown",
   "metadata": {},
   "source": [
    "Even for reviews above **60% English words** (even up to **75% English words**), there are **a lot of reviews that are not English**. And the problem with that is that, in these reviews, that are also a large number of actual English reviews.\n",
    "\n",
    "The non-English reviews that are giving high percent of English words are largely Vietnamese reviews. The problem is that **when tokenizing, Vietnamese words are being split into their one or two letters \"tokens\"** (after the non-letters are removed) and **these tokens are recognised as English words**.\n",
    "\n",
    "For example:\n",
    "- Cần phải ưu tiên ...        --> c, n, ph, i, u, ti, n ...         ==> identified as 6 English words out of 7\n",
    "- Nhân vật cute sinh hoạt ... --> nh, n, v, t, cute, sinh, ho, t... ==> identified as 7 English words out of 8\n",
    "\n",
    "As such, I will need to tokenize the text again, splitting only on punctuations and white spaces."
   ]
  },
  {
   "cell_type": "markdown",
   "metadata": {},
   "source": [
    "### Split Word"
   ]
  },
  {
   "cell_type": "code",
   "execution_count": 34,
   "metadata": {
    "ExecuteTime": {
     "end_time": "2021-01-26T00:35:27.091259Z",
     "start_time": "2021-01-26T00:35:27.077267Z"
    }
   },
   "outputs": [],
   "source": [
    "# define simple text processing function\n",
    "def simple_word_splitter(text):\n",
    "\n",
    "    # remove non-letters\n",
    "    letters_only = re.sub(\"[\\d\\s~@#$^*()_+=[\\]{}|\\\\,.!?:-]\", \" \", text)\n",
    "\n",
    "    # convert each word to lower case\n",
    "    words = letters_only.lower().split()\n",
    "                        \n",
    "    return words"
   ]
  },
  {
   "cell_type": "code",
   "execution_count": 35,
   "metadata": {
    "ExecuteTime": {
     "end_time": "2021-01-26T00:35:28.913070Z",
     "start_time": "2021-01-26T00:35:27.093258Z"
    }
   },
   "outputs": [],
   "source": [
    "df['text_split'] = df['content'].apply(lambda x: simple_word_splitter(x))"
   ]
  },
  {
   "cell_type": "code",
   "execution_count": 36,
   "metadata": {
    "ExecuteTime": {
     "end_time": "2021-01-26T00:45:25.682773Z",
     "start_time": "2021-01-26T00:35:28.916072Z"
    }
   },
   "outputs": [],
   "source": [
    "df['english_split'] = df['text_split'].apply(lambda x: [en_dict.check(word) for word in x])\n",
    "\n",
    "df['pct_english_split'] = df['english_split'].apply(lambda x: x.count(True) / len(x))"
   ]
  },
  {
   "cell_type": "code",
   "execution_count": 37,
   "metadata": {
    "ExecuteTime": {
     "end_time": "2021-01-26T00:45:25.698763Z",
     "start_time": "2021-01-26T00:45:25.684771Z"
    }
   },
   "outputs": [
    {
     "data": {
      "text/plain": [
       "count    91146.000000\n",
       "mean         0.918255\n",
       "std          0.141338\n",
       "min          0.000000\n",
       "25%          0.900000\n",
       "50%          0.962264\n",
       "75%          1.000000\n",
       "max          1.000000\n",
       "Name: pct_english_split, dtype: float64"
      ]
     },
     "execution_count": 37,
     "metadata": {},
     "output_type": "execute_result"
    }
   ],
   "source": [
    "df['pct_english_split'].describe()"
   ]
  },
  {
   "cell_type": "code",
   "execution_count": 38,
   "metadata": {
    "ExecuteTime": {
     "end_time": "2021-01-26T00:45:25.905141Z",
     "start_time": "2021-01-26T00:45:25.700763Z"
    }
   },
   "outputs": [
    {
     "data": {
      "image/png": "[encoded data removed]",
      "text/plain": [
       "<Figure size 1152x288 with 1 Axes>"
      ]
     },
     "metadata": {},
     "output_type": "display_data"
    }
   ],
   "source": [
    "plt.figure(figsize = (16, 4))\n",
    "sns.boxplot(data=df, x=\"pct_english_split\", hue=\"source\", orient = 'h')\n",
    "plt.title('Percentage of English Words of Reviews', fontsize = 15)\n",
    "plt.xlabel('Percentage', fontsize = 12)\n",
    "plt.show()"
   ]
  },
  {
   "cell_type": "markdown",
   "metadata": {},
   "source": [
    "Distribution looks similar."
   ]
  },
  {
   "cell_type": "code",
   "execution_count": 39,
   "metadata": {
    "ExecuteTime": {
     "end_time": "2021-01-26T00:45:25.984823Z",
     "start_time": "2021-01-26T00:45:25.907144Z"
    }
   },
   "outputs": [
    {
     "data": {
      "text/html": [
       "<div>\n",
       "<style scoped>\n",
       "    .dataframe tbody tr th:only-of-type {\n",
       "        vertical-align: middle;\n",
       "    }\n",
       "\n",
       "    .dataframe tbody tr th {\n",
       "        vertical-align: top;\n",
       "    }\n",
       "\n",
       "    .dataframe thead th {\n",
       "        text-align: right;\n",
       "    }\n",
       "</style>\n",
       "<table border=\"1\" class=\"dataframe\">\n",
       "  <thead>\n",
       "    <tr style=\"text-align: right;\">\n",
       "      <th></th>\n",
       "      <th>content</th>\n",
       "      <th>text_split</th>\n",
       "      <th>english_split</th>\n",
       "      <th>pct_english_split</th>\n",
       "    </tr>\n",
       "  </thead>\n",
       "  <tbody>\n",
       "    <tr>\n",
       "      <th>90753</th>\n",
       "      <td>No compatible con control bluetooth E tratado ...</td>\n",
       "      <td>[no, compatible, con, control, bluetooth, e, t...</td>\n",
       "      <td>[True, True, True, True, False, True, False, T...</td>\n",
       "      <td>0.592593</td>\n",
       "    </tr>\n",
       "    <tr>\n",
       "      <th>79031</th>\n",
       "      <td>Game android paling kece, grafiknya kayak di p...</td>\n",
       "      <td>[game, android, paling, kece, grafiknya, kayak...</td>\n",
       "      <td>[True, True, True, False, False, True, True, T...</td>\n",
       "      <td>0.590909</td>\n",
       "    </tr>\n",
       "    <tr>\n",
       "      <th>40082</th>\n",
       "      <td>sangat menyeronokkan..rasanya seperti anda men...</td>\n",
       "      <td>[sangat, menyeronokkan, rasanya, seperti, anda...</td>\n",
       "      <td>[False, False, False, False, False, False, Tru...</td>\n",
       "      <td>0.588235</td>\n",
       "    </tr>\n",
       "    <tr>\n",
       "      <th>78790</th>\n",
       "      <td>Game MMORPG yang berbeda dengan game yamg lain...</td>\n",
       "      <td>[game, mmorpg, yang, berbeda, dengan, game, ya...</td>\n",
       "      <td>[True, False, True, False, False, True, False,...</td>\n",
       "      <td>0.583333</td>\n",
       "    </tr>\n",
       "    <tr>\n",
       "      <th>19821</th>\n",
       "      <td>Tolong di perbaiki server Asia :) download lan...</td>\n",
       "      <td>[tolong, di, perbaiki, server, asia, download,...</td>\n",
       "      <td>[False, True, False, True, False, True, False,...</td>\n",
       "      <td>0.583333</td>\n",
       "    </tr>\n",
       "    <tr>\n",
       "      <th>72398</th>\n",
       "      <td>Can I get legendry caracter ok pls I am a kid ...</td>\n",
       "      <td>[can, i, get, legendry, caracter, ok, pls, i, ...</td>\n",
       "      <td>[True, True, True, False, False, False, False,...</td>\n",
       "      <td>0.583333</td>\n",
       "    </tr>\n",
       "    <tr>\n",
       "      <th>76341</th>\n",
       "      <td>Tis is so amizing and so satisfaying so pls do...</td>\n",
       "      <td>[tis, is, so, amizing, and, so, satisfaying, s...</td>\n",
       "      <td>[False, True, True, False, True, True, False, ...</td>\n",
       "      <td>0.583333</td>\n",
       "    </tr>\n",
       "    <tr>\n",
       "      <th>79060</th>\n",
       "      <td>Payah. Udah di link di user center sama email,...</td>\n",
       "      <td>[payah, udah, di, link, di, user, center, sama...</td>\n",
       "      <td>[False, False, True, True, True, True, True, F...</td>\n",
       "      <td>0.583333</td>\n",
       "    </tr>\n",
       "    <tr>\n",
       "      <th>71587</th>\n",
       "      <td>Kek rng didnt gib me a loli but gave a mona in...</td>\n",
       "      <td>[kek, rng, didnt, gib, me, a, loli, but, gave,...</td>\n",
       "      <td>[False, False, False, True, True, True, False,...</td>\n",
       "      <td>0.583333</td>\n",
       "    </tr>\n",
       "    <tr>\n",
       "      <th>64800</th>\n",
       "      <td>This game its good gharpic its goodヾ(＾-＾)ノi li...</td>\n",
       "      <td>[this, game, its, good, gharpic, its, goodヾ, ＾...</td>\n",
       "      <td>[True, True, True, True, False, True, False, F...</td>\n",
       "      <td>0.583333</td>\n",
       "    </tr>\n",
       "  </tbody>\n",
       "</table>\n",
       "</div>"
      ],
      "text/plain": [
       "                                                 content  \\\n",
       "90753  No compatible con control bluetooth E tratado ...   \n",
       "79031  Game android paling kece, grafiknya kayak di p...   \n",
       "40082  sangat menyeronokkan..rasanya seperti anda men...   \n",
       "78790  Game MMORPG yang berbeda dengan game yamg lain...   \n",
       "19821  Tolong di perbaiki server Asia :) download lan...   \n",
       "72398  Can I get legendry caracter ok pls I am a kid ...   \n",
       "76341  Tis is so amizing and so satisfaying so pls do...   \n",
       "79060  Payah. Udah di link di user center sama email,...   \n",
       "71587  Kek rng didnt gib me a loli but gave a mona in...   \n",
       "64800  This game its good gharpic its goodヾ(＾-＾)ノi li...   \n",
       "\n",
       "                                              text_split  \\\n",
       "90753  [no, compatible, con, control, bluetooth, e, t...   \n",
       "79031  [game, android, paling, kece, grafiknya, kayak...   \n",
       "40082  [sangat, menyeronokkan, rasanya, seperti, anda...   \n",
       "78790  [game, mmorpg, yang, berbeda, dengan, game, ya...   \n",
       "19821  [tolong, di, perbaiki, server, asia, download,...   \n",
       "72398  [can, i, get, legendry, caracter, ok, pls, i, ...   \n",
       "76341  [tis, is, so, amizing, and, so, satisfaying, s...   \n",
       "79060  [payah, udah, di, link, di, user, center, sama...   \n",
       "71587  [kek, rng, didnt, gib, me, a, loli, but, gave,...   \n",
       "64800  [this, game, its, good, gharpic, its, goodヾ, ＾...   \n",
       "\n",
       "                                           english_split  pct_english_split  \n",
       "90753  [True, True, True, True, False, True, False, T...           0.592593  \n",
       "79031  [True, True, True, False, False, True, True, T...           0.590909  \n",
       "40082  [False, False, False, False, False, False, Tru...           0.588235  \n",
       "78790  [True, False, True, False, False, True, False,...           0.583333  \n",
       "19821  [False, True, False, True, False, True, False,...           0.583333  \n",
       "72398  [True, True, True, False, False, False, False,...           0.583333  \n",
       "76341  [False, True, True, False, True, True, False, ...           0.583333  \n",
       "79060  [False, False, True, True, True, True, True, F...           0.583333  \n",
       "71587  [False, False, False, True, True, True, False,...           0.583333  \n",
       "64800  [True, True, True, True, False, True, False, F...           0.583333  "
      ]
     },
     "execution_count": 39,
     "metadata": {},
     "output_type": "execute_result"
    }
   ],
   "source": [
    "df[df['pct_english_split'] < 0.6].sort_values('pct_english_split', ascending = False)[['content', 'text_split', 'english_split', 'pct_english_split']].head(10)"
   ]
  },
  {
   "cell_type": "code",
   "execution_count": 40,
   "metadata": {
    "ExecuteTime": {
     "end_time": "2021-01-26T00:45:26.031470Z",
     "start_time": "2021-01-26T00:45:25.986825Z"
    }
   },
   "outputs": [
    {
     "data": {
      "text/html": [
       "<div>\n",
       "<style scoped>\n",
       "    .dataframe tbody tr th:only-of-type {\n",
       "        vertical-align: middle;\n",
       "    }\n",
       "\n",
       "    .dataframe tbody tr th {\n",
       "        vertical-align: top;\n",
       "    }\n",
       "\n",
       "    .dataframe thead th {\n",
       "        text-align: right;\n",
       "    }\n",
       "</style>\n",
       "<table border=\"1\" class=\"dataframe\">\n",
       "  <thead>\n",
       "    <tr style=\"text-align: right;\">\n",
       "      <th></th>\n",
       "      <th>content</th>\n",
       "      <th>text_split</th>\n",
       "      <th>english_split</th>\n",
       "      <th>pct_english_split</th>\n",
       "    </tr>\n",
       "  </thead>\n",
       "  <tbody>\n",
       "    <tr>\n",
       "      <th>44394</th>\n",
       "      <td>Android, iOS, PC &amp; PS4 ✓ Open-world solo play ...</td>\n",
       "      <td>[android, ios, pc, &amp;, ps, ✓, open, world, solo...</td>\n",
       "      <td>[True, False, True, False, True, False, True, ...</td>\n",
       "      <td>0.648649</td>\n",
       "    </tr>\n",
       "    <tr>\n",
       "      <th>35512</th>\n",
       "      <td>Please change \"worship statue\" to other word l...</td>\n",
       "      <td>[please, change, \"worship, statue\", to, other,...</td>\n",
       "      <td>[True, True, False, False, True, True, True, T...</td>\n",
       "      <td>0.647059</td>\n",
       "    </tr>\n",
       "    <tr>\n",
       "      <th>61393</th>\n",
       "      <td>Gacha rates ruined everything lol. 0.6 percent...</td>\n",
       "      <td>[gacha, rates, ruined, everything, lol, percen...</td>\n",
       "      <td>[False, True, True, True, False, True, True, F...</td>\n",
       "      <td>0.647059</td>\n",
       "    </tr>\n",
       "    <tr>\n",
       "      <th>54037</th>\n",
       "      <td>Buat emak2 yang review gamenya dgn kata2 anakn...</td>\n",
       "      <td>[buat, emak, yang, review, gamenya, dgn, kata,...</td>\n",
       "      <td>[False, False, True, True, False, False, False...</td>\n",
       "      <td>0.647059</td>\n",
       "    </tr>\n",
       "    <tr>\n",
       "      <th>37422</th>\n",
       "      <td>اللعبه رائعه وتنقصها اللغه العربيه. The Game n...</td>\n",
       "      <td>[اللعبه, رائعه, وتنقصها, اللغه, العربيه, the, ...</td>\n",
       "      <td>[False, False, False, False, False, True, True...</td>\n",
       "      <td>0.647059</td>\n",
       "    </tr>\n",
       "    <tr>\n",
       "      <th>63376</th>\n",
       "      <td>It's 5GB, dude ITS 5GB! Pokemon Sun for 3DS is...</td>\n",
       "      <td>[it's, gb, dude, its, gb, pokemon, sun, for, d...</td>\n",
       "      <td>[True, False, True, True, False, False, True, ...</td>\n",
       "      <td>0.647059</td>\n",
       "    </tr>\n",
       "    <tr>\n",
       "      <th>37347</th>\n",
       "      <td>Botw quality but with icing on the cake RPG el...</td>\n",
       "      <td>[botw, quality, but, with, icing, on, the, cak...</td>\n",
       "      <td>[False, True, True, True, True, True, True, Tr...</td>\n",
       "      <td>0.647059</td>\n",
       "    </tr>\n",
       "    <tr>\n",
       "      <th>35967</th>\n",
       "      <td>Nice graphic, nice story, nice rpg keep the wi...</td>\n",
       "      <td>[nice, graphic, nice, story, nice, rpg, keep, ...</td>\n",
       "      <td>[True, True, True, True, True, False, True, Tr...</td>\n",
       "      <td>0.647059</td>\n",
       "    </tr>\n",
       "    <tr>\n",
       "      <th>39406</th>\n",
       "      <td>still the best mihiyo game.its a mass open wor...</td>\n",
       "      <td>[still, the, best, mihiyo, game, its, a, mass,...</td>\n",
       "      <td>[True, True, True, False, True, True, True, Tr...</td>\n",
       "      <td>0.645833</td>\n",
       "    </tr>\n",
       "    <tr>\n",
       "      <th>58702</th>\n",
       "      <td>Stamina based game. 0/5 . P2w system 0/5 chine...</td>\n",
       "      <td>[stamina, based, game, /, p, w, system, /, chi...</td>\n",
       "      <td>[True, True, True, False, True, True, True, Fa...</td>\n",
       "      <td>0.642857</td>\n",
       "    </tr>\n",
       "  </tbody>\n",
       "</table>\n",
       "</div>"
      ],
      "text/plain": [
       "                                                 content  \\\n",
       "44394  Android, iOS, PC & PS4 ✓ Open-world solo play ...   \n",
       "35512  Please change \"worship statue\" to other word l...   \n",
       "61393  Gacha rates ruined everything lol. 0.6 percent...   \n",
       "54037  Buat emak2 yang review gamenya dgn kata2 anakn...   \n",
       "37422  اللعبه رائعه وتنقصها اللغه العربيه. The Game n...   \n",
       "63376  It's 5GB, dude ITS 5GB! Pokemon Sun for 3DS is...   \n",
       "37347  Botw quality but with icing on the cake RPG el...   \n",
       "35967  Nice graphic, nice story, nice rpg keep the wi...   \n",
       "39406  still the best mihiyo game.its a mass open wor...   \n",
       "58702  Stamina based game. 0/5 . P2w system 0/5 chine...   \n",
       "\n",
       "                                              text_split  \\\n",
       "44394  [android, ios, pc, &, ps, ✓, open, world, solo...   \n",
       "35512  [please, change, \"worship, statue\", to, other,...   \n",
       "61393  [gacha, rates, ruined, everything, lol, percen...   \n",
       "54037  [buat, emak, yang, review, gamenya, dgn, kata,...   \n",
       "37422  [اللعبه, رائعه, وتنقصها, اللغه, العربيه, the, ...   \n",
       "63376  [it's, gb, dude, its, gb, pokemon, sun, for, d...   \n",
       "37347  [botw, quality, but, with, icing, on, the, cak...   \n",
       "35967  [nice, graphic, nice, story, nice, rpg, keep, ...   \n",
       "39406  [still, the, best, mihiyo, game, its, a, mass,...   \n",
       "58702  [stamina, based, game, /, p, w, system, /, chi...   \n",
       "\n",
       "                                           english_split  pct_english_split  \n",
       "44394  [True, False, True, False, True, False, True, ...           0.648649  \n",
       "35512  [True, True, False, False, True, True, True, T...           0.647059  \n",
       "61393  [False, True, True, True, False, True, True, F...           0.647059  \n",
       "54037  [False, False, True, True, False, False, False...           0.647059  \n",
       "37422  [False, False, False, False, False, True, True...           0.647059  \n",
       "63376  [True, False, True, True, False, False, True, ...           0.647059  \n",
       "37347  [False, True, True, True, True, True, True, Tr...           0.647059  \n",
       "35967  [True, True, True, True, True, False, True, Tr...           0.647059  \n",
       "39406  [True, True, True, False, True, True, True, Tr...           0.645833  \n",
       "58702  [True, True, True, False, True, True, True, Fa...           0.642857  "
      ]
     },
     "execution_count": 40,
     "metadata": {},
     "output_type": "execute_result"
    }
   ],
   "source": [
    "df[df['pct_english_split'] < 0.65].sort_values('pct_english_split', ascending = False)[['content', 'text_split', 'english_split', 'pct_english_split']].head(10)"
   ]
  },
  {
   "cell_type": "code",
   "execution_count": 41,
   "metadata": {
    "ExecuteTime": {
     "end_time": "2021-01-26T00:45:26.078282Z",
     "start_time": "2021-01-26T00:45:26.033469Z"
    }
   },
   "outputs": [
    {
     "data": {
      "text/html": [
       "<div>\n",
       "<style scoped>\n",
       "    .dataframe tbody tr th:only-of-type {\n",
       "        vertical-align: middle;\n",
       "    }\n",
       "\n",
       "    .dataframe tbody tr th {\n",
       "        vertical-align: top;\n",
       "    }\n",
       "\n",
       "    .dataframe thead th {\n",
       "        text-align: right;\n",
       "    }\n",
       "</style>\n",
       "<table border=\"1\" class=\"dataframe\">\n",
       "  <thead>\n",
       "    <tr style=\"text-align: right;\">\n",
       "      <th></th>\n",
       "      <th>content</th>\n",
       "      <th>text_split</th>\n",
       "      <th>english_split</th>\n",
       "      <th>pct_english_split</th>\n",
       "    </tr>\n",
       "  </thead>\n",
       "  <tbody>\n",
       "    <tr>\n",
       "      <th>90791</th>\n",
       "      <td>Quick question Is the add on youtube the voice...</td>\n",
       "      <td>[quick, question, is, the, add, on, youtube, t...</td>\n",
       "      <td>[True, True, True, True, True, True, False, Tr...</td>\n",
       "      <td>0.695652</td>\n",
       "    </tr>\n",
       "    <tr>\n",
       "      <th>36538</th>\n",
       "      <td>Best open world RPG hack and slash Great detai...</td>\n",
       "      <td>[best, open, world, rpg, hack, and, slash, gre...</td>\n",
       "      <td>[True, True, True, False, True, True, True, Tr...</td>\n",
       "      <td>0.695652</td>\n",
       "    </tr>\n",
       "    <tr>\n",
       "      <th>30211</th>\n",
       "      <td>The game is ultra good but ther is gatcha so i...</td>\n",
       "      <td>[the, game, is, ultra, good, but, ther, is, ga...</td>\n",
       "      <td>[True, True, True, True, True, True, False, Tr...</td>\n",
       "      <td>0.694444</td>\n",
       "    </tr>\n",
       "    <tr>\n",
       "      <th>37362</th>\n",
       "      <td>One of the best RPG game. haha lol and also it...</td>\n",
       "      <td>[one, of, the, best, rpg, game, haha, lol, and...</td>\n",
       "      <td>[True, True, True, True, False, True, False, F...</td>\n",
       "      <td>0.692308</td>\n",
       "    </tr>\n",
       "    <tr>\n",
       "      <th>53399</th>\n",
       "      <td>Plays alot like BOTW and its great, im haveing...</td>\n",
       "      <td>[plays, alot, like, botw, and, its, great, im,...</td>\n",
       "      <td>[True, False, True, False, True, True, True, F...</td>\n",
       "      <td>0.692308</td>\n",
       "    </tr>\n",
       "    <tr>\n",
       "      <th>24693</th>\n",
       "      <td>Just love the memes. Great gameplay and ARA-AR...</td>\n",
       "      <td>[just, love, the, memes, great, gameplay, and,...</td>\n",
       "      <td>[True, True, True, True, True, False, True, Fa...</td>\n",
       "      <td>0.692308</td>\n",
       "    </tr>\n",
       "    <tr>\n",
       "      <th>89444</th>\n",
       "      <td>Too heavy I’m unable to play even when i’m usi...</td>\n",
       "      <td>[too, heavy, i’m, unable, to, play, even, when...</td>\n",
       "      <td>[True, True, False, True, True, True, True, Tr...</td>\n",
       "      <td>0.692308</td>\n",
       "    </tr>\n",
       "    <tr>\n",
       "      <th>39004</th>\n",
       "      <td>Love it, now give me childe &gt;:''''( Ok i got c...</td>\n",
       "      <td>[love, it, now, give, me, childe, &gt;, '''', ok,...</td>\n",
       "      <td>[True, True, True, True, True, True, False, Fa...</td>\n",
       "      <td>0.692308</td>\n",
       "    </tr>\n",
       "    <tr>\n",
       "      <th>32889</th>\n",
       "      <td>Boring. No PVP. SOLO GAMING. LOOKS LIKE SOLO A...</td>\n",
       "      <td>[boring, no, pvp, solo, gaming, looks, like, s...</td>\n",
       "      <td>[True, True, False, True, True, True, True, Tr...</td>\n",
       "      <td>0.692308</td>\n",
       "    </tr>\n",
       "    <tr>\n",
       "      <th>56919</th>\n",
       "      <td>paimon is so cute&lt;3 I'd love to have my own pa...</td>\n",
       "      <td>[paimon, is, so, cute&lt;, i'd, love, to, have, m...</td>\n",
       "      <td>[False, True, True, False, False, True, True, ...</td>\n",
       "      <td>0.692308</td>\n",
       "    </tr>\n",
       "  </tbody>\n",
       "</table>\n",
       "</div>"
      ],
      "text/plain": [
       "                                                 content  \\\n",
       "90791  Quick question Is the add on youtube the voice...   \n",
       "36538  Best open world RPG hack and slash Great detai...   \n",
       "30211  The game is ultra good but ther is gatcha so i...   \n",
       "37362  One of the best RPG game. haha lol and also it...   \n",
       "53399  Plays alot like BOTW and its great, im haveing...   \n",
       "24693  Just love the memes. Great gameplay and ARA-AR...   \n",
       "89444  Too heavy I’m unable to play even when i’m usi...   \n",
       "39004  Love it, now give me childe >:''''( Ok i got c...   \n",
       "32889  Boring. No PVP. SOLO GAMING. LOOKS LIKE SOLO A...   \n",
       "56919  paimon is so cute<3 I'd love to have my own pa...   \n",
       "\n",
       "                                              text_split  \\\n",
       "90791  [quick, question, is, the, add, on, youtube, t...   \n",
       "36538  [best, open, world, rpg, hack, and, slash, gre...   \n",
       "30211  [the, game, is, ultra, good, but, ther, is, ga...   \n",
       "37362  [one, of, the, best, rpg, game, haha, lol, and...   \n",
       "53399  [plays, alot, like, botw, and, its, great, im,...   \n",
       "24693  [just, love, the, memes, great, gameplay, and,...   \n",
       "89444  [too, heavy, i’m, unable, to, play, even, when...   \n",
       "39004  [love, it, now, give, me, childe, >, '''', ok,...   \n",
       "32889  [boring, no, pvp, solo, gaming, looks, like, s...   \n",
       "56919  [paimon, is, so, cute<, i'd, love, to, have, m...   \n",
       "\n",
       "                                           english_split  pct_english_split  \n",
       "90791  [True, True, True, True, True, True, False, Tr...           0.695652  \n",
       "36538  [True, True, True, False, True, True, True, Tr...           0.695652  \n",
       "30211  [True, True, True, True, True, True, False, Tr...           0.694444  \n",
       "37362  [True, True, True, True, False, True, False, F...           0.692308  \n",
       "53399  [True, False, True, False, True, True, True, F...           0.692308  \n",
       "24693  [True, True, True, True, True, False, True, Fa...           0.692308  \n",
       "89444  [True, True, False, True, True, True, True, Tr...           0.692308  \n",
       "39004  [True, True, True, True, True, True, False, Fa...           0.692308  \n",
       "32889  [True, True, False, True, True, True, True, Tr...           0.692308  \n",
       "56919  [False, True, True, False, False, True, True, ...           0.692308  "
      ]
     },
     "execution_count": 41,
     "metadata": {},
     "output_type": "execute_result"
    }
   ],
   "source": [
    "df[df['pct_english_split'] < 0.7].sort_values('pct_english_split', ascending = False)[['content', 'text_split', 'english_split', 'pct_english_split']].head(10)"
   ]
  },
  {
   "cell_type": "code",
   "execution_count": 42,
   "metadata": {
    "ExecuteTime": {
     "end_time": "2021-01-26T00:45:26.125459Z",
     "start_time": "2021-01-26T00:45:26.080284Z"
    }
   },
   "outputs": [
    {
     "data": {
      "text/html": [
       "<div>\n",
       "<style scoped>\n",
       "    .dataframe tbody tr th:only-of-type {\n",
       "        vertical-align: middle;\n",
       "    }\n",
       "\n",
       "    .dataframe tbody tr th {\n",
       "        vertical-align: top;\n",
       "    }\n",
       "\n",
       "    .dataframe thead th {\n",
       "        text-align: right;\n",
       "    }\n",
       "</style>\n",
       "<table border=\"1\" class=\"dataframe\">\n",
       "  <thead>\n",
       "    <tr style=\"text-align: right;\">\n",
       "      <th></th>\n",
       "      <th>content</th>\n",
       "      <th>text_split</th>\n",
       "      <th>english_split</th>\n",
       "      <th>pct_english_split</th>\n",
       "    </tr>\n",
       "  </thead>\n",
       "  <tbody>\n",
       "    <tr>\n",
       "      <th>85088</th>\n",
       "      <td>Bro this game is awsome I preorderd the game, ...</td>\n",
       "      <td>[bro, this, game, is, awsome, i, preorderd, th...</td>\n",
       "      <td>[True, True, True, True, False, True, False, T...</td>\n",
       "      <td>0.743590</td>\n",
       "    </tr>\n",
       "    <tr>\n",
       "      <th>45342</th>\n",
       "      <td>PLSSS FIX THISS😭😭, idk what happened but when ...</td>\n",
       "      <td>[plsss, fix, thiss😭😭, idk, what, happened, but...</td>\n",
       "      <td>[False, True, False, False, True, True, True, ...</td>\n",
       "      <td>0.743590</td>\n",
       "    </tr>\n",
       "    <tr>\n",
       "      <th>28718</th>\n",
       "      <td>Klee gacha is trash. This game is worst than H...</td>\n",
       "      <td>[klee, gacha, is, trash, this, game, is, worst...</td>\n",
       "      <td>[False, False, True, True, True, True, True, T...</td>\n",
       "      <td>0.742857</td>\n",
       "    </tr>\n",
       "    <tr>\n",
       "      <th>36341</th>\n",
       "      <td>That's good. Graphics 10/10 Voice Actress 9/10...</td>\n",
       "      <td>[that's, good, graphics, /, voice, actress, /,...</td>\n",
       "      <td>[True, True, True, False, True, True, False, F...</td>\n",
       "      <td>0.741935</td>\n",
       "    </tr>\n",
       "    <tr>\n",
       "      <th>45823</th>\n",
       "      <td>After update, gpu always rises to above 75% wh...</td>\n",
       "      <td>[after, update, gpu, always, rises, to, above,...</td>\n",
       "      <td>[True, True, False, True, True, True, True, Fa...</td>\n",
       "      <td>0.741935</td>\n",
       "    </tr>\n",
       "    <tr>\n",
       "      <th>6371</th>\n",
       "      <td>The game wasss soooo gooood But the problme is...</td>\n",
       "      <td>[the, game, wasss, soooo, gooood, but, the, pr...</td>\n",
       "      <td>[True, True, False, False, False, True, True, ...</td>\n",
       "      <td>0.740741</td>\n",
       "    </tr>\n",
       "    <tr>\n",
       "      <th>70242</th>\n",
       "      <td>Reset 100 timess more, never get diluc. Only m...</td>\n",
       "      <td>[reset, timess, more, never, get, diluc, only,...</td>\n",
       "      <td>[True, False, True, True, True, False, True, F...</td>\n",
       "      <td>0.740741</td>\n",
       "    </tr>\n",
       "    <tr>\n",
       "      <th>52216</th>\n",
       "      <td>One of best game ever in playstore. Storyline ...</td>\n",
       "      <td>[one, of, best, game, ever, in, playstore, sto...</td>\n",
       "      <td>[True, True, True, True, True, True, False, Tr...</td>\n",
       "      <td>0.739130</td>\n",
       "    </tr>\n",
       "    <tr>\n",
       "      <th>48897</th>\n",
       "      <td>WAIFUUUUUS, 10/10 BESS GAME PAIMON BRUHHH Only...</td>\n",
       "      <td>[waifuuuuus, /, bess, game, paimon, bruhhh, on...</td>\n",
       "      <td>[False, False, False, True, False, False, True...</td>\n",
       "      <td>0.739130</td>\n",
       "    </tr>\n",
       "    <tr>\n",
       "      <th>39501</th>\n",
       "      <td>I hope it's worth the wait. I've been waiting ...</td>\n",
       "      <td>[i, hope, it's, worth, the, wait, i've, been, ...</td>\n",
       "      <td>[True, True, True, True, True, True, False, Tr...</td>\n",
       "      <td>0.739130</td>\n",
       "    </tr>\n",
       "  </tbody>\n",
       "</table>\n",
       "</div>"
      ],
      "text/plain": [
       "                                                 content  \\\n",
       "85088  Bro this game is awsome I preorderd the game, ...   \n",
       "45342  PLSSS FIX THISS😭😭, idk what happened but when ...   \n",
       "28718  Klee gacha is trash. This game is worst than H...   \n",
       "36341  That's good. Graphics 10/10 Voice Actress 9/10...   \n",
       "45823  After update, gpu always rises to above 75% wh...   \n",
       "6371   The game wasss soooo gooood But the problme is...   \n",
       "70242  Reset 100 timess more, never get diluc. Only m...   \n",
       "52216  One of best game ever in playstore. Storyline ...   \n",
       "48897  WAIFUUUUUS, 10/10 BESS GAME PAIMON BRUHHH Only...   \n",
       "39501  I hope it's worth the wait. I've been waiting ...   \n",
       "\n",
       "                                              text_split  \\\n",
       "85088  [bro, this, game, is, awsome, i, preorderd, th...   \n",
       "45342  [plsss, fix, thiss😭😭, idk, what, happened, but...   \n",
       "28718  [klee, gacha, is, trash, this, game, is, worst...   \n",
       "36341  [that's, good, graphics, /, voice, actress, /,...   \n",
       "45823  [after, update, gpu, always, rises, to, above,...   \n",
       "6371   [the, game, wasss, soooo, gooood, but, the, pr...   \n",
       "70242  [reset, timess, more, never, get, diluc, only,...   \n",
       "52216  [one, of, best, game, ever, in, playstore, sto...   \n",
       "48897  [waifuuuuus, /, bess, game, paimon, bruhhh, on...   \n",
       "39501  [i, hope, it's, worth, the, wait, i've, been, ...   \n",
       "\n",
       "                                           english_split  pct_english_split  \n",
       "85088  [True, True, True, True, False, True, False, T...           0.743590  \n",
       "45342  [False, True, False, False, True, True, True, ...           0.743590  \n",
       "28718  [False, False, True, True, True, True, True, T...           0.742857  \n",
       "36341  [True, True, True, False, True, True, False, F...           0.741935  \n",
       "45823  [True, True, False, True, True, True, True, Fa...           0.741935  \n",
       "6371   [True, True, False, False, False, True, True, ...           0.740741  \n",
       "70242  [True, False, True, True, True, False, True, F...           0.740741  \n",
       "52216  [True, True, True, True, True, True, False, Tr...           0.739130  \n",
       "48897  [False, False, False, True, False, False, True...           0.739130  \n",
       "39501  [True, True, True, True, True, True, False, Tr...           0.739130  "
      ]
     },
     "execution_count": 42,
     "metadata": {},
     "output_type": "execute_result"
    }
   ],
   "source": [
    "df[df['pct_english_split'] < 0.75].sort_values('pct_english_split', ascending = False)[['content', 'text_split', 'english_split', 'pct_english_split']].head(10)"
   ]
  },
  {
   "cell_type": "markdown",
   "metadata": {},
   "source": [
    "After the change, there are **almost no non-English reviews** from when looking at reviews consisting of **more than 60% English**. This is much better than previously achieved. \n",
    "\n",
    "**60% will be the threshold for removal of non-English reviews**."
   ]
  },
  {
   "cell_type": "code",
   "execution_count": 43,
   "metadata": {
    "ExecuteTime": {
     "end_time": "2021-01-26T00:45:26.332809Z",
     "start_time": "2021-01-26T00:45:26.127461Z"
    }
   },
   "outputs": [
    {
     "data": {
      "image/png": "[encoded data removed]",
      "text/plain": [
       "<Figure size 432x288 with 1 Axes>"
      ]
     },
     "metadata": {},
     "output_type": "display_data"
    }
   ],
   "source": [
    "df[df['pct_english_split'] < 0.6]['score'].value_counts(normalize = True, sort = False).plot(kind = 'bar')\n",
    "plt.title('Reviews Rating Distribution (Non-English Reviews)', fontsize = 15)\n",
    "plt.xlabel('Rating')\n",
    "plt.ylabel('Percentage of Reviews')\n",
    "plt.show()"
   ]
  },
  {
   "cell_type": "code",
   "execution_count": 44,
   "metadata": {
    "ExecuteTime": {
     "end_time": "2021-01-26T00:45:26.538361Z",
     "start_time": "2021-01-26T00:45:26.334807Z"
    }
   },
   "outputs": [
    {
     "data": {
      "image/png": "[encoded data removed]",
      "text/plain": [
       "<Figure size 432x288 with 1 Axes>"
      ]
     },
     "metadata": {},
     "output_type": "display_data"
    }
   ],
   "source": [
    "df[df['pct_english_split'] < 0.6]['source'].value_counts(normalize = True, sort = False).plot(kind = 'barh')\n",
    "plt.title('Reviews Source Distribution (Non-English Reviews)', fontsize = 15)\n",
    "plt.xlabel('Percentage of Reviews')\n",
    "plt.show()"
   ]
  },
  {
   "cell_type": "markdown",
   "metadata": {},
   "source": [
    "There is a **greater percentage of non-English reviews from Google Play Store**.\n",
    "\n",
    "The ratings distribution is similar to the original distribution."
   ]
  },
  {
   "cell_type": "code",
   "execution_count": 45,
   "metadata": {
    "ExecuteTime": {
     "end_time": "2021-01-26T00:45:26.632817Z",
     "start_time": "2021-01-26T00:45:26.540363Z"
    }
   },
   "outputs": [
    {
     "data": {
      "text/html": [
       "<div>\n",
       "<style scoped>\n",
       "    .dataframe tbody tr th:only-of-type {\n",
       "        vertical-align: middle;\n",
       "    }\n",
       "\n",
       "    .dataframe tbody tr th {\n",
       "        vertical-align: top;\n",
       "    }\n",
       "\n",
       "    .dataframe thead th {\n",
       "        text-align: right;\n",
       "    }\n",
       "</style>\n",
       "<table border=\"1\" class=\"dataframe\">\n",
       "  <thead>\n",
       "    <tr style=\"text-align: right;\">\n",
       "      <th></th>\n",
       "      <th>content</th>\n",
       "      <th>score</th>\n",
       "      <th>date</th>\n",
       "      <th>thumbsUp</th>\n",
       "      <th>source</th>\n",
       "      <th>text</th>\n",
       "      <th>length</th>\n",
       "      <th>english</th>\n",
       "      <th>pct_english</th>\n",
       "      <th>text_split</th>\n",
       "      <th>english_split</th>\n",
       "      <th>pct_english_split</th>\n",
       "    </tr>\n",
       "  </thead>\n",
       "  <tbody>\n",
       "    <tr>\n",
       "      <th>0</th>\n",
       "      <td>The graphics are gorgeous, the gameplay is inc...</td>\n",
       "      <td>5</td>\n",
       "      <td>2020-12-11 13:55:29</td>\n",
       "      <td>881.0</td>\n",
       "      <td>google_play_store</td>\n",
       "      <td>[the, graphics, are, gorgeous, the, gameplay, ...</td>\n",
       "      <td>84</td>\n",
       "      <td>[True, True, True, True, True, False, True, Tr...</td>\n",
       "      <td>0.988095</td>\n",
       "      <td>[the, graphics, are, gorgeous, the, gameplay, ...</td>\n",
       "      <td>[True, True, True, True, True, False, True, Tr...</td>\n",
       "      <td>0.939759</td>\n",
       "    </tr>\n",
       "    <tr>\n",
       "      <th>1</th>\n",
       "      <td>If you love free world RPG, then this is it! T...</td>\n",
       "      <td>5</td>\n",
       "      <td>2020-12-16 18:10:47</td>\n",
       "      <td>48.0</td>\n",
       "      <td>google_play_store</td>\n",
       "      <td>[if, you, love, free, world, rpg, then, this, ...</td>\n",
       "      <td>94</td>\n",
       "      <td>[True, True, True, True, True, False, True, Tr...</td>\n",
       "      <td>0.978723</td>\n",
       "      <td>[if, you, love, free, world, rpg, then, this, ...</td>\n",
       "      <td>[True, True, True, True, True, False, True, Tr...</td>\n",
       "      <td>0.956989</td>\n",
       "    </tr>\n",
       "    <tr>\n",
       "      <th>2</th>\n",
       "      <td>I absolutely love the game! No complaints besi...</td>\n",
       "      <td>5</td>\n",
       "      <td>2020-12-16 00:18:43</td>\n",
       "      <td>185.0</td>\n",
       "      <td>google_play_store</td>\n",
       "      <td>[i, absolutely, love, the, game, no, complaint...</td>\n",
       "      <td>75</td>\n",
       "      <td>[True, True, True, True, True, True, True, Tru...</td>\n",
       "      <td>1.000000</td>\n",
       "      <td>[i, absolutely, love, the, game, no, complaint...</td>\n",
       "      <td>[True, True, True, True, True, True, True, Tru...</td>\n",
       "      <td>0.986111</td>\n",
       "    </tr>\n",
       "    <tr>\n",
       "      <th>3</th>\n",
       "      <td>Great game. Regardless of ripoff issues and su...</td>\n",
       "      <td>4</td>\n",
       "      <td>2020-12-16 12:46:11</td>\n",
       "      <td>1.0</td>\n",
       "      <td>google_play_store</td>\n",
       "      <td>[great, game, regardless, of, ripoff, issues, ...</td>\n",
       "      <td>88</td>\n",
       "      <td>[True, True, True, True, True, True, True, Tru...</td>\n",
       "      <td>0.988636</td>\n",
       "      <td>[great, game, regardless, of, ripoff, issues, ...</td>\n",
       "      <td>[True, True, True, True, True, True, True, Tru...</td>\n",
       "      <td>0.977528</td>\n",
       "    </tr>\n",
       "    <tr>\n",
       "      <th>4</th>\n",
       "      <td>Amazing graphics and gameplay although a lot o...</td>\n",
       "      <td>5</td>\n",
       "      <td>2020-12-10 22:51:08</td>\n",
       "      <td>186.0</td>\n",
       "      <td>google_play_store</td>\n",
       "      <td>[amazing, graphics, and, gameplay, although, a...</td>\n",
       "      <td>86</td>\n",
       "      <td>[True, True, True, False, True, True, True, Tr...</td>\n",
       "      <td>0.953488</td>\n",
       "      <td>[amazing, graphics, and, gameplay, although, a...</td>\n",
       "      <td>[True, True, True, False, True, True, True, Tr...</td>\n",
       "      <td>0.939759</td>\n",
       "    </tr>\n",
       "  </tbody>\n",
       "</table>\n",
       "</div>"
      ],
      "text/plain": [
       "                                             content  score  \\\n",
       "0  The graphics are gorgeous, the gameplay is inc...      5   \n",
       "1  If you love free world RPG, then this is it! T...      5   \n",
       "2  I absolutely love the game! No complaints besi...      5   \n",
       "3  Great game. Regardless of ripoff issues and su...      4   \n",
       "4  Amazing graphics and gameplay although a lot o...      5   \n",
       "\n",
       "                 date  thumbsUp             source  \\\n",
       "0 2020-12-11 13:55:29     881.0  google_play_store   \n",
       "1 2020-12-16 18:10:47      48.0  google_play_store   \n",
       "2 2020-12-16 00:18:43     185.0  google_play_store   \n",
       "3 2020-12-16 12:46:11       1.0  google_play_store   \n",
       "4 2020-12-10 22:51:08     186.0  google_play_store   \n",
       "\n",
       "                                                text  length  \\\n",
       "0  [the, graphics, are, gorgeous, the, gameplay, ...      84   \n",
       "1  [if, you, love, free, world, rpg, then, this, ...      94   \n",
       "2  [i, absolutely, love, the, game, no, complaint...      75   \n",
       "3  [great, game, regardless, of, ripoff, issues, ...      88   \n",
       "4  [amazing, graphics, and, gameplay, although, a...      86   \n",
       "\n",
       "                                             english  pct_english  \\\n",
       "0  [True, True, True, True, True, False, True, Tr...     0.988095   \n",
       "1  [True, True, True, True, True, False, True, Tr...     0.978723   \n",
       "2  [True, True, True, True, True, True, True, Tru...     1.000000   \n",
       "3  [True, True, True, True, True, True, True, Tru...     0.988636   \n",
       "4  [True, True, True, False, True, True, True, Tr...     0.953488   \n",
       "\n",
       "                                          text_split  \\\n",
       "0  [the, graphics, are, gorgeous, the, gameplay, ...   \n",
       "1  [if, you, love, free, world, rpg, then, this, ...   \n",
       "2  [i, absolutely, love, the, game, no, complaint...   \n",
       "3  [great, game, regardless, of, ripoff, issues, ...   \n",
       "4  [amazing, graphics, and, gameplay, although, a...   \n",
       "\n",
       "                                       english_split  pct_english_split  \n",
       "0  [True, True, True, True, True, False, True, Tr...           0.939759  \n",
       "1  [True, True, True, True, True, False, True, Tr...           0.956989  \n",
       "2  [True, True, True, True, True, True, True, Tru...           0.986111  \n",
       "3  [True, True, True, True, True, True, True, Tru...           0.977528  \n",
       "4  [True, True, True, False, True, True, True, Tr...           0.939759  "
      ]
     },
     "execution_count": 45,
     "metadata": {},
     "output_type": "execute_result"
    }
   ],
   "source": [
    "df.drop(index = df[df['pct_english_split'] < 0.6].index, inplace = True)\n",
    "\n",
    "df.reset_index(drop = True, inplace = True)\n",
    "\n",
    "df.head()"
   ]
  },
  {
   "cell_type": "code",
   "execution_count": 46,
   "metadata": {
    "ExecuteTime": {
     "end_time": "2021-01-26T00:45:26.648939Z",
     "start_time": "2021-01-26T00:45:26.634947Z"
    }
   },
   "outputs": [
    {
     "data": {
      "text/plain": [
       "(88199, 12)"
      ]
     },
     "execution_count": 46,
     "metadata": {},
     "output_type": "execute_result"
    }
   ],
   "source": [
    "df.shape"
   ]
  },
  {
   "cell_type": "code",
   "execution_count": 47,
   "metadata": {
    "ExecuteTime": {
     "end_time": "2021-01-26T00:45:26.664928Z",
     "start_time": "2021-01-26T00:45:26.650938Z"
    }
   },
   "outputs": [
    {
     "data": {
      "text/plain": [
       "Index(['content', 'score', 'date', 'thumbsUp', 'source', 'text', 'length',\n",
       "       'english', 'pct_english', 'text_split', 'english_split',\n",
       "       'pct_english_split'],\n",
       "      dtype='object')"
      ]
     },
     "execution_count": 47,
     "metadata": {},
     "output_type": "execute_result"
    }
   ],
   "source": [
    "df.columns"
   ]
  },
  {
   "cell_type": "code",
   "execution_count": 48,
   "metadata": {
    "ExecuteTime": {
     "end_time": "2021-01-26T00:45:26.695654Z",
     "start_time": "2021-01-26T00:45:26.666928Z"
    }
   },
   "outputs": [],
   "source": [
    "df.drop(columns = ['english', 'pct_english', 'text_split', 'english_split', 'pct_english_split'], inplace = True)"
   ]
  },
  {
   "cell_type": "markdown",
   "metadata": {},
   "source": [
    "# Feature Engineering"
   ]
  },
  {
   "cell_type": "markdown",
   "metadata": {},
   "source": [
    "## Update Number\n",
    "Genshin Impact has a big update every 6 weeks. In between the 6 weeks, there will be a small update on after 3 weeks. The updates in the dataset are as follow:\n",
    "\n",
    "- Sep 27: 1.0.1 (Base game release)\n",
    "- Oct 21: 1.0.2 \n",
    "- Nov 11: 1.1.1 (First Big update)\n",
    "- Dec 02: 1.1.2\n",
    "\n",
    "As the players' feedback might change following changes that have been made during the updates, it will be useful to create the \"Update\" column. We can use this to breakdown the analysis of the dataset."
   ]
  },
  {
   "cell_type": "code",
   "execution_count": 49,
   "metadata": {
    "ExecuteTime": {
     "end_time": "2021-01-26T00:45:27.393880Z",
     "start_time": "2021-01-26T00:45:26.697604Z"
    }
   },
   "outputs": [],
   "source": [
    "def find_update(date):\n",
    "    if date > datetime(2020, 12, 2):\n",
    "        return \"1.1.2\"\n",
    "    elif date > datetime(2020, 11, 11):\n",
    "        return \"1.1.1\"\n",
    "    elif date > datetime(2020, 10, 21):\n",
    "        return \"1.0.2\"\n",
    "    else:\n",
    "        return \"1.0.1\"\n",
    "    \n",
    "df['update'] = df['date'].apply(lambda x: find_update(x))"
   ]
  },
  {
   "cell_type": "code",
   "execution_count": 50,
   "metadata": {
    "ExecuteTime": {
     "end_time": "2021-01-26T00:45:27.424511Z",
     "start_time": "2021-01-26T00:45:27.394884Z"
    }
   },
   "outputs": [
    {
     "data": {
      "text/html": [
       "<div>\n",
       "<style scoped>\n",
       "    .dataframe tbody tr th:only-of-type {\n",
       "        vertical-align: middle;\n",
       "    }\n",
       "\n",
       "    .dataframe tbody tr th {\n",
       "        vertical-align: top;\n",
       "    }\n",
       "\n",
       "    .dataframe thead th {\n",
       "        text-align: right;\n",
       "    }\n",
       "</style>\n",
       "<table border=\"1\" class=\"dataframe\">\n",
       "  <thead>\n",
       "    <tr style=\"text-align: right;\">\n",
       "      <th></th>\n",
       "      <th>content</th>\n",
       "      <th>score</th>\n",
       "      <th>date</th>\n",
       "      <th>thumbsUp</th>\n",
       "      <th>source</th>\n",
       "      <th>text</th>\n",
       "      <th>length</th>\n",
       "      <th>update</th>\n",
       "    </tr>\n",
       "  </thead>\n",
       "  <tbody>\n",
       "    <tr>\n",
       "      <th>0</th>\n",
       "      <td>The graphics are gorgeous, the gameplay is inc...</td>\n",
       "      <td>5</td>\n",
       "      <td>2020-12-11 13:55:29</td>\n",
       "      <td>881.0</td>\n",
       "      <td>google_play_store</td>\n",
       "      <td>[the, graphics, are, gorgeous, the, gameplay, ...</td>\n",
       "      <td>84</td>\n",
       "      <td>1.1.2</td>\n",
       "    </tr>\n",
       "    <tr>\n",
       "      <th>1</th>\n",
       "      <td>If you love free world RPG, then this is it! T...</td>\n",
       "      <td>5</td>\n",
       "      <td>2020-12-16 18:10:47</td>\n",
       "      <td>48.0</td>\n",
       "      <td>google_play_store</td>\n",
       "      <td>[if, you, love, free, world, rpg, then, this, ...</td>\n",
       "      <td>94</td>\n",
       "      <td>1.1.2</td>\n",
       "    </tr>\n",
       "    <tr>\n",
       "      <th>2</th>\n",
       "      <td>I absolutely love the game! No complaints besi...</td>\n",
       "      <td>5</td>\n",
       "      <td>2020-12-16 00:18:43</td>\n",
       "      <td>185.0</td>\n",
       "      <td>google_play_store</td>\n",
       "      <td>[i, absolutely, love, the, game, no, complaint...</td>\n",
       "      <td>75</td>\n",
       "      <td>1.1.2</td>\n",
       "    </tr>\n",
       "    <tr>\n",
       "      <th>3</th>\n",
       "      <td>Great game. Regardless of ripoff issues and su...</td>\n",
       "      <td>4</td>\n",
       "      <td>2020-12-16 12:46:11</td>\n",
       "      <td>1.0</td>\n",
       "      <td>google_play_store</td>\n",
       "      <td>[great, game, regardless, of, ripoff, issues, ...</td>\n",
       "      <td>88</td>\n",
       "      <td>1.1.2</td>\n",
       "    </tr>\n",
       "    <tr>\n",
       "      <th>4</th>\n",
       "      <td>Amazing graphics and gameplay although a lot o...</td>\n",
       "      <td>5</td>\n",
       "      <td>2020-12-10 22:51:08</td>\n",
       "      <td>186.0</td>\n",
       "      <td>google_play_store</td>\n",
       "      <td>[amazing, graphics, and, gameplay, although, a...</td>\n",
       "      <td>86</td>\n",
       "      <td>1.1.2</td>\n",
       "    </tr>\n",
       "  </tbody>\n",
       "</table>\n",
       "</div>"
      ],
      "text/plain": [
       "                                             content  score  \\\n",
       "0  The graphics are gorgeous, the gameplay is inc...      5   \n",
       "1  If you love free world RPG, then this is it! T...      5   \n",
       "2  I absolutely love the game! No complaints besi...      5   \n",
       "3  Great game. Regardless of ripoff issues and su...      4   \n",
       "4  Amazing graphics and gameplay although a lot o...      5   \n",
       "\n",
       "                 date  thumbsUp             source  \\\n",
       "0 2020-12-11 13:55:29     881.0  google_play_store   \n",
       "1 2020-12-16 18:10:47      48.0  google_play_store   \n",
       "2 2020-12-16 00:18:43     185.0  google_play_store   \n",
       "3 2020-12-16 12:46:11       1.0  google_play_store   \n",
       "4 2020-12-10 22:51:08     186.0  google_play_store   \n",
       "\n",
       "                                                text  length update  \n",
       "0  [the, graphics, are, gorgeous, the, gameplay, ...      84  1.1.2  \n",
       "1  [if, you, love, free, world, rpg, then, this, ...      94  1.1.2  \n",
       "2  [i, absolutely, love, the, game, no, complaint...      75  1.1.2  \n",
       "3  [great, game, regardless, of, ripoff, issues, ...      88  1.1.2  \n",
       "4  [amazing, graphics, and, gameplay, although, a...      86  1.1.2  "
      ]
     },
     "execution_count": 50,
     "metadata": {},
     "output_type": "execute_result"
    }
   ],
   "source": [
    "df.head()"
   ]
  },
  {
   "cell_type": "code",
   "execution_count": 51,
   "metadata": {
    "ExecuteTime": {
     "end_time": "2021-01-26T00:45:27.456488Z",
     "start_time": "2021-01-26T00:45:27.426508Z"
    }
   },
   "outputs": [
    {
     "data": {
      "text/plain": [
       "1.0.1    0.580562\n",
       "1.0.2    0.179571\n",
       "1.1.1    0.149854\n",
       "1.1.2    0.090012\n",
       "Name: update, dtype: float64"
      ]
     },
     "execution_count": 51,
     "metadata": {},
     "output_type": "execute_result"
    }
   ],
   "source": [
    "df['update'].value_counts(normalize = True,)"
   ]
  },
  {
   "cell_type": "code",
   "execution_count": 52,
   "metadata": {
    "ExecuteTime": {
     "end_time": "2021-01-26T00:45:27.504471Z",
     "start_time": "2021-01-26T00:45:27.458487Z"
    }
   },
   "outputs": [
    {
     "name": "stdout",
     "output_type": "stream",
     "text": [
      "<class 'pandas.core.frame.DataFrame'>\n",
      "RangeIndex: 88199 entries, 0 to 88198\n",
      "Data columns (total 8 columns):\n",
      " #   Column    Non-Null Count  Dtype         \n",
      "---  ------    --------------  -----         \n",
      " 0   content   88199 non-null  object        \n",
      " 1   score     88199 non-null  int64         \n",
      " 2   date      88199 non-null  datetime64[ns]\n",
      " 3   thumbsUp  78276 non-null  float64       \n",
      " 4   source    88199 non-null  object        \n",
      " 5   text      88199 non-null  object        \n",
      " 6   length    88199 non-null  int64         \n",
      " 7   update    88199 non-null  object        \n",
      "dtypes: datetime64[ns](1), float64(1), int64(2), object(4)\n",
      "memory usage: 5.4+ MB\n"
     ]
    }
   ],
   "source": [
    "df.info()"
   ]
  },
  {
   "cell_type": "markdown",
   "metadata": {},
   "source": [
    "# Exploring the Dataset"
   ]
  },
  {
   "cell_type": "code",
   "execution_count": 53,
   "metadata": {
    "ExecuteTime": {
     "end_time": "2021-01-26T00:47:13.847357Z",
     "start_time": "2021-01-26T00:47:13.817375Z"
    }
   },
   "outputs": [
    {
     "data": {
      "text/html": [
       "<div>\n",
       "<style scoped>\n",
       "    .dataframe tbody tr th:only-of-type {\n",
       "        vertical-align: middle;\n",
       "    }\n",
       "\n",
       "    .dataframe tbody tr th {\n",
       "        vertical-align: top;\n",
       "    }\n",
       "\n",
       "    .dataframe thead th {\n",
       "        text-align: right;\n",
       "    }\n",
       "</style>\n",
       "<table border=\"1\" class=\"dataframe\">\n",
       "  <thead>\n",
       "    <tr style=\"text-align: right;\">\n",
       "      <th></th>\n",
       "      <th>content</th>\n",
       "      <th>score</th>\n",
       "      <th>date</th>\n",
       "      <th>thumbsUp</th>\n",
       "      <th>source</th>\n",
       "      <th>text</th>\n",
       "      <th>length</th>\n",
       "      <th>update</th>\n",
       "    </tr>\n",
       "  </thead>\n",
       "  <tbody>\n",
       "    <tr>\n",
       "      <th>0</th>\n",
       "      <td>The graphics are gorgeous, the gameplay is inc...</td>\n",
       "      <td>5</td>\n",
       "      <td>2020-12-11 13:55:29</td>\n",
       "      <td>881.0</td>\n",
       "      <td>google_play_store</td>\n",
       "      <td>[the, graphics, are, gorgeous, the, gameplay, ...</td>\n",
       "      <td>84</td>\n",
       "      <td>1.1.2</td>\n",
       "    </tr>\n",
       "    <tr>\n",
       "      <th>1</th>\n",
       "      <td>If you love free world RPG, then this is it! T...</td>\n",
       "      <td>5</td>\n",
       "      <td>2020-12-16 18:10:47</td>\n",
       "      <td>48.0</td>\n",
       "      <td>google_play_store</td>\n",
       "      <td>[if, you, love, free, world, rpg, then, this, ...</td>\n",
       "      <td>94</td>\n",
       "      <td>1.1.2</td>\n",
       "    </tr>\n",
       "    <tr>\n",
       "      <th>2</th>\n",
       "      <td>I absolutely love the game! No complaints besi...</td>\n",
       "      <td>5</td>\n",
       "      <td>2020-12-16 00:18:43</td>\n",
       "      <td>185.0</td>\n",
       "      <td>google_play_store</td>\n",
       "      <td>[i, absolutely, love, the, game, no, complaint...</td>\n",
       "      <td>75</td>\n",
       "      <td>1.1.2</td>\n",
       "    </tr>\n",
       "    <tr>\n",
       "      <th>3</th>\n",
       "      <td>Great game. Regardless of ripoff issues and su...</td>\n",
       "      <td>4</td>\n",
       "      <td>2020-12-16 12:46:11</td>\n",
       "      <td>1.0</td>\n",
       "      <td>google_play_store</td>\n",
       "      <td>[great, game, regardless, of, ripoff, issues, ...</td>\n",
       "      <td>88</td>\n",
       "      <td>1.1.2</td>\n",
       "    </tr>\n",
       "    <tr>\n",
       "      <th>4</th>\n",
       "      <td>Amazing graphics and gameplay although a lot o...</td>\n",
       "      <td>5</td>\n",
       "      <td>2020-12-10 22:51:08</td>\n",
       "      <td>186.0</td>\n",
       "      <td>google_play_store</td>\n",
       "      <td>[amazing, graphics, and, gameplay, although, a...</td>\n",
       "      <td>86</td>\n",
       "      <td>1.1.2</td>\n",
       "    </tr>\n",
       "  </tbody>\n",
       "</table>\n",
       "</div>"
      ],
      "text/plain": [
       "                                             content  score  \\\n",
       "0  The graphics are gorgeous, the gameplay is inc...      5   \n",
       "1  If you love free world RPG, then this is it! T...      5   \n",
       "2  I absolutely love the game! No complaints besi...      5   \n",
       "3  Great game. Regardless of ripoff issues and su...      4   \n",
       "4  Amazing graphics and gameplay although a lot o...      5   \n",
       "\n",
       "                 date  thumbsUp             source  \\\n",
       "0 2020-12-11 13:55:29     881.0  google_play_store   \n",
       "1 2020-12-16 18:10:47      48.0  google_play_store   \n",
       "2 2020-12-16 00:18:43     185.0  google_play_store   \n",
       "3 2020-12-16 12:46:11       1.0  google_play_store   \n",
       "4 2020-12-10 22:51:08     186.0  google_play_store   \n",
       "\n",
       "                                                text  length update  \n",
       "0  [the, graphics, are, gorgeous, the, gameplay, ...      84  1.1.2  \n",
       "1  [if, you, love, free, world, rpg, then, this, ...      94  1.1.2  \n",
       "2  [i, absolutely, love, the, game, no, complaint...      75  1.1.2  \n",
       "3  [great, game, regardless, of, ripoff, issues, ...      88  1.1.2  \n",
       "4  [amazing, graphics, and, gameplay, although, a...      86  1.1.2  "
      ]
     },
     "execution_count": 53,
     "metadata": {},
     "output_type": "execute_result"
    }
   ],
   "source": [
    "df.head()"
   ]
  },
  {
   "cell_type": "markdown",
   "metadata": {},
   "source": [
    "### Score Distribution"
   ]
  },
  {
   "cell_type": "code",
   "execution_count": 54,
   "metadata": {
    "ExecuteTime": {
     "end_time": "2021-01-26T00:47:18.761917Z",
     "start_time": "2021-01-26T00:47:18.583028Z"
    }
   },
   "outputs": [
    {
     "data": {
      "image/png": "[encoded data removed]",
      "text/plain": [
       "<Figure size 432x288 with 1 Axes>"
      ]
     },
     "metadata": {},
     "output_type": "display_data"
    }
   ],
   "source": [
    "df['score'].value_counts(normalize = True, sort = False).plot(kind='bar')\n",
    "plt.title('Reviews Rating Distribution (Remaining)', fontsize = 15)\n",
    "plt.xlabel('Rating')\n",
    "plt.ylabel('Percentage of Reviews')\n",
    "plt.show()"
   ]
  },
  {
   "cell_type": "code",
   "execution_count": 70,
   "metadata": {
    "ExecuteTime": {
     "end_time": "2021-01-26T00:55:21.456985Z",
     "start_time": "2021-01-26T00:55:21.195146Z"
    }
   },
   "outputs": [
    {
     "data": {
      "image/png": "[encoded data removed]",
      "text/plain": [
       "<Figure size 432x288 with 1 Axes>"
      ]
     },
     "metadata": {},
     "output_type": "display_data"
    }
   ],
   "source": [
    "sns.barplot(x = 'score', y = 'content', data = df.groupby(['source', 'score'])[['content']].count().reset_index(), hue = 'source')\n",
    "plt.title('Reviews Rating Distribution (by Source)', fontsize = 15)\n",
    "plt.xlabel('Rating')\n",
    "plt.ylabel('Number of Reviews')\n",
    "plt.show()"
   ]
  },
  {
   "cell_type": "code",
   "execution_count": 110,
   "metadata": {
    "ExecuteTime": {
     "end_time": "2021-01-26T02:20:13.886643Z",
     "start_time": "2021-01-26T02:20:13.791699Z"
    }
   },
   "outputs": [
    {
     "data": {
      "text/html": [
       "<div>\n",
       "<style scoped>\n",
       "    .dataframe tbody tr th:only-of-type {\n",
       "        vertical-align: middle;\n",
       "    }\n",
       "\n",
       "    .dataframe tbody tr th {\n",
       "        vertical-align: top;\n",
       "    }\n",
       "\n",
       "    .dataframe thead th {\n",
       "        text-align: right;\n",
       "    }\n",
       "</style>\n",
       "<table border=\"1\" class=\"dataframe\">\n",
       "  <thead>\n",
       "    <tr style=\"text-align: right;\">\n",
       "      <th></th>\n",
       "      <th>source</th>\n",
       "      <th>score</th>\n",
       "      <th>content</th>\n",
       "      <th>normalized_count</th>\n",
       "    </tr>\n",
       "  </thead>\n",
       "  <tbody>\n",
       "    <tr>\n",
       "      <th>0</th>\n",
       "      <td>apple_app_store</td>\n",
       "      <td>1</td>\n",
       "      <td>2196</td>\n",
       "      <td>0.221304</td>\n",
       "    </tr>\n",
       "    <tr>\n",
       "      <th>1</th>\n",
       "      <td>apple_app_store</td>\n",
       "      <td>2</td>\n",
       "      <td>525</td>\n",
       "      <td>0.052907</td>\n",
       "    </tr>\n",
       "    <tr>\n",
       "      <th>2</th>\n",
       "      <td>apple_app_store</td>\n",
       "      <td>3</td>\n",
       "      <td>850</td>\n",
       "      <td>0.085660</td>\n",
       "    </tr>\n",
       "    <tr>\n",
       "      <th>3</th>\n",
       "      <td>apple_app_store</td>\n",
       "      <td>4</td>\n",
       "      <td>1281</td>\n",
       "      <td>0.129094</td>\n",
       "    </tr>\n",
       "    <tr>\n",
       "      <th>4</th>\n",
       "      <td>apple_app_store</td>\n",
       "      <td>5</td>\n",
       "      <td>5071</td>\n",
       "      <td>0.511035</td>\n",
       "    </tr>\n",
       "    <tr>\n",
       "      <th>5</th>\n",
       "      <td>google_play_store</td>\n",
       "      <td>1</td>\n",
       "      <td>8421</td>\n",
       "      <td>0.107581</td>\n",
       "    </tr>\n",
       "    <tr>\n",
       "      <th>6</th>\n",
       "      <td>google_play_store</td>\n",
       "      <td>2</td>\n",
       "      <td>2776</td>\n",
       "      <td>0.035464</td>\n",
       "    </tr>\n",
       "    <tr>\n",
       "      <th>7</th>\n",
       "      <td>google_play_store</td>\n",
       "      <td>3</td>\n",
       "      <td>4906</td>\n",
       "      <td>0.062676</td>\n",
       "    </tr>\n",
       "    <tr>\n",
       "      <th>8</th>\n",
       "      <td>google_play_store</td>\n",
       "      <td>4</td>\n",
       "      <td>9282</td>\n",
       "      <td>0.118580</td>\n",
       "    </tr>\n",
       "    <tr>\n",
       "      <th>9</th>\n",
       "      <td>google_play_store</td>\n",
       "      <td>5</td>\n",
       "      <td>52891</td>\n",
       "      <td>0.675699</td>\n",
       "    </tr>\n",
       "  </tbody>\n",
       "</table>\n",
       "</div>"
      ],
      "text/plain": [
       "              source  score  content  normalized_count\n",
       "0    apple_app_store      1     2196          0.221304\n",
       "1    apple_app_store      2      525          0.052907\n",
       "2    apple_app_store      3      850          0.085660\n",
       "3    apple_app_store      4     1281          0.129094\n",
       "4    apple_app_store      5     5071          0.511035\n",
       "5  google_play_store      1     8421          0.107581\n",
       "6  google_play_store      2     2776          0.035464\n",
       "7  google_play_store      3     4906          0.062676\n",
       "8  google_play_store      4     9282          0.118580\n",
       "9  google_play_store      5    52891          0.675699"
      ]
     },
     "execution_count": 110,
     "metadata": {},
     "output_type": "execute_result"
    }
   ],
   "source": [
    "temp_df = df.groupby(['source', 'score'])[['content']].count().reset_index()\n",
    "\n",
    "apple_app_store_total = len(df[df['source'] == 'apple_app_store'])\n",
    "google_play_store_total = len(df[df['source'] == 'google_play_store'])\n",
    "\n",
    "temp_df['normalized_count'] = temp_df.apply(lambda x: x.content/apple_app_store_total if x.source == 'apple_app_store' else x.content/google_play_store_total, axis = 1)\n",
    "\n",
    "temp_df"
   ]
  },
  {
   "cell_type": "code",
   "execution_count": 115,
   "metadata": {
    "ExecuteTime": {
     "end_time": "2021-01-26T02:25:22.895968Z",
     "start_time": "2021-01-26T02:25:22.587227Z"
    }
   },
   "outputs": [
    {
     "data": {
      "image/png": "[encoded data removed]",
      "text/plain": [
       "<Figure size 432x288 with 1 Axes>"
      ]
     },
     "metadata": {},
     "output_type": "display_data"
    }
   ],
   "source": [
    "sns.barplot(x = 'score', y = 'normalized_count', data = temp_df, hue = 'source')\n",
    "plt.title('Reviews Rating Distribution (Normalized, by Source)', fontsize = 15)\n",
    "plt.xlabel('Rating')\n",
    "plt.ylabel('Percentage of Reviews')\n",
    "plt.show()"
   ]
  },
  {
   "cell_type": "markdown",
   "metadata": {},
   "source": [
    "### Update Distribution"
   ]
  },
  {
   "cell_type": "code",
   "execution_count": 117,
   "metadata": {
    "ExecuteTime": {
     "end_time": "2021-01-26T02:25:38.187625Z",
     "start_time": "2021-01-26T02:25:37.979753Z"
    }
   },
   "outputs": [
    {
     "data": {
      "image/png": "[encoded data removed]",
      "text/plain": [
       "<Figure size 432x288 with 1 Axes>"
      ]
     },
     "metadata": {},
     "output_type": "display_data"
    }
   ],
   "source": [
    "df['update'].value_counts(normalize = True, sort = False).sort_index().plot(kind='bar')\n",
    "plt.title('Reviews Update Distribution', fontsize = 15)\n",
    "plt.xlabel('Update')\n",
    "plt.ylabel('Percentage of Reviews')\n",
    "plt.show()"
   ]
  },
  {
   "cell_type": "code",
   "execution_count": 120,
   "metadata": {
    "ExecuteTime": {
     "end_time": "2021-01-26T02:26:53.687893Z",
     "start_time": "2021-01-26T02:26:53.587955Z"
    }
   },
   "outputs": [
    {
     "data": {
      "text/html": [
       "<div>\n",
       "<style scoped>\n",
       "    .dataframe tbody tr th:only-of-type {\n",
       "        vertical-align: middle;\n",
       "    }\n",
       "\n",
       "    .dataframe tbody tr th {\n",
       "        vertical-align: top;\n",
       "    }\n",
       "\n",
       "    .dataframe thead th {\n",
       "        text-align: right;\n",
       "    }\n",
       "</style>\n",
       "<table border=\"1\" class=\"dataframe\">\n",
       "  <thead>\n",
       "    <tr style=\"text-align: right;\">\n",
       "      <th></th>\n",
       "      <th>source</th>\n",
       "      <th>update</th>\n",
       "      <th>content</th>\n",
       "      <th>normalized_count</th>\n",
       "    </tr>\n",
       "  </thead>\n",
       "  <tbody>\n",
       "    <tr>\n",
       "      <th>0</th>\n",
       "      <td>apple_app_store</td>\n",
       "      <td>1.0.1</td>\n",
       "      <td>5909</td>\n",
       "      <td>0.595485</td>\n",
       "    </tr>\n",
       "    <tr>\n",
       "      <th>1</th>\n",
       "      <td>apple_app_store</td>\n",
       "      <td>1.0.2</td>\n",
       "      <td>2105</td>\n",
       "      <td>0.212133</td>\n",
       "    </tr>\n",
       "    <tr>\n",
       "      <th>2</th>\n",
       "      <td>apple_app_store</td>\n",
       "      <td>1.1.1</td>\n",
       "      <td>1277</td>\n",
       "      <td>0.128691</td>\n",
       "    </tr>\n",
       "    <tr>\n",
       "      <th>3</th>\n",
       "      <td>apple_app_store</td>\n",
       "      <td>1.1.2</td>\n",
       "      <td>632</td>\n",
       "      <td>0.063690</td>\n",
       "    </tr>\n",
       "    <tr>\n",
       "      <th>4</th>\n",
       "      <td>google_play_store</td>\n",
       "      <td>1.0.1</td>\n",
       "      <td>45296</td>\n",
       "      <td>0.578670</td>\n",
       "    </tr>\n",
       "    <tr>\n",
       "      <th>5</th>\n",
       "      <td>google_play_store</td>\n",
       "      <td>1.0.2</td>\n",
       "      <td>13733</td>\n",
       "      <td>0.175443</td>\n",
       "    </tr>\n",
       "    <tr>\n",
       "      <th>6</th>\n",
       "      <td>google_play_store</td>\n",
       "      <td>1.1.1</td>\n",
       "      <td>11940</td>\n",
       "      <td>0.152537</td>\n",
       "    </tr>\n",
       "    <tr>\n",
       "      <th>7</th>\n",
       "      <td>google_play_store</td>\n",
       "      <td>1.1.2</td>\n",
       "      <td>7307</td>\n",
       "      <td>0.093349</td>\n",
       "    </tr>\n",
       "  </tbody>\n",
       "</table>\n",
       "</div>"
      ],
      "text/plain": [
       "              source update  content  normalized_count\n",
       "0    apple_app_store  1.0.1     5909          0.595485\n",
       "1    apple_app_store  1.0.2     2105          0.212133\n",
       "2    apple_app_store  1.1.1     1277          0.128691\n",
       "3    apple_app_store  1.1.2      632          0.063690\n",
       "4  google_play_store  1.0.1    45296          0.578670\n",
       "5  google_play_store  1.0.2    13733          0.175443\n",
       "6  google_play_store  1.1.1    11940          0.152537\n",
       "7  google_play_store  1.1.2     7307          0.093349"
      ]
     },
     "execution_count": 120,
     "metadata": {},
     "output_type": "execute_result"
    }
   ],
   "source": [
    "temp_df = df.groupby(['source', 'update'])[['content']].count().reset_index()\n",
    "\n",
    "apple_app_store_total = len(df[df['source'] == 'apple_app_store'])\n",
    "google_play_store_total = len(df[df['source'] == 'google_play_store'])\n",
    "\n",
    "temp_df['normalized_count'] = temp_df.apply(lambda x: x.content/apple_app_store_total if x.source == 'apple_app_store' else x.content/google_play_store_total, axis = 1)\n",
    "\n",
    "temp_df"
   ]
  },
  {
   "cell_type": "code",
   "execution_count": 122,
   "metadata": {
    "ExecuteTime": {
     "end_time": "2021-01-26T02:27:42.048640Z",
     "start_time": "2021-01-26T02:27:41.788801Z"
    }
   },
   "outputs": [
    {
     "data": {
      "image/png": "[encoded data removed]",
      "text/plain": [
       "<Figure size 432x288 with 1 Axes>"
      ]
     },
     "metadata": {},
     "output_type": "display_data"
    }
   ],
   "source": [
    "sns.barplot(x = 'update', y = 'normalized_count', data = temp_df, hue = 'source')\n",
    "plt.title('Reviews Update Distribution (Normalized, by Source)', fontsize = 15)\n",
    "plt.xlabel('Update')\n",
    "plt.ylabel('Percentage of Reviews')\n",
    "plt.show()"
   ]
  },
  {
   "cell_type": "markdown",
   "metadata": {},
   "source": [
    "### Thumbs Up Distribution"
   ]
  },
  {
   "cell_type": "code",
   "execution_count": 175,
   "metadata": {
    "ExecuteTime": {
     "end_time": "2021-01-26T03:08:35.377942Z",
     "start_time": "2021-01-26T03:08:35.343964Z"
    },
    "scrolled": true
   },
   "outputs": [
    {
     "data": {
      "text/plain": [
       "5.087127599775155"
      ]
     },
     "execution_count": 175,
     "metadata": {},
     "output_type": "execute_result"
    }
   ],
   "source": [
    "# percentage of thumbsUp more than 1 in all records with thumbsUp\n",
    "len(df[df['thumbsUp'] > 1])/len(df[df['thumbsUp'].notnull()]) * 100"
   ]
  },
  {
   "cell_type": "code",
   "execution_count": 176,
   "metadata": {
    "ExecuteTime": {
     "end_time": "2021-01-26T03:10:00.010988Z",
     "start_time": "2021-01-26T03:09:59.810112Z"
    }
   },
   "outputs": [
    {
     "data": {
      "image/png": "[encoded data removed]",
      "text/plain": [
       "<Figure size 432x288 with 1 Axes>"
      ]
     },
     "metadata": {},
     "output_type": "display_data"
    }
   ],
   "source": [
    "df[df['thumbsUp'] > 1]['score'].value_counts(normalize = True, sort = False).sort_index().plot(kind = 'bar')\n",
    "plt.title('Distribution of Reviews with > 1 Thumbs Up (by Rating)', fontsize = 15)\n",
    "plt.xlabel('Rating')\n",
    "plt.ylabel('Percentage of Reviews')\n",
    "plt.show()"
   ]
  },
  {
   "cell_type": "code",
   "execution_count": 178,
   "metadata": {
    "ExecuteTime": {
     "end_time": "2021-01-26T03:10:20.785776Z",
     "start_time": "2021-01-26T03:10:20.526937Z"
    }
   },
   "outputs": [
    {
     "data": {
      "image/png": "[encoded data removed]",
      "text/plain": [
       "<Figure size 1152x288 with 1 Axes>"
      ]
     },
     "metadata": {},
     "output_type": "display_data"
    }
   ],
   "source": [
    "plt.figure(figsize = (16, 4))\n",
    "sns.boxplot(y = 'score', x = 'thumbsUp', data = df[df['thumbsUp'] > 1], orient = 'h')\n",
    "plt.title('Number of Thumbs Up by Rating (> 1 Thumbs Up)', fontsize = 15)\n",
    "plt.xlabel('Number of Thumbs Up')\n",
    "plt.ylabel('Rating')\n",
    "plt.show()"
   ]
  },
  {
   "cell_type": "markdown",
   "metadata": {
    "ExecuteTime": {
     "end_time": "2021-01-19T01:44:44.694862Z",
     "start_time": "2021-01-19T01:44:44.687866Z"
    }
   },
   "source": [
    "### Top N-Words"
   ]
  },
  {
   "cell_type": "code",
   "execution_count": 123,
   "metadata": {
    "ExecuteTime": {
     "end_time": "2021-01-26T02:27:50.669896Z",
     "start_time": "2021-01-26T02:27:50.633920Z"
    }
   },
   "outputs": [
    {
     "data": {
      "text/html": [
       "<div>\n",
       "<style scoped>\n",
       "    .dataframe tbody tr th:only-of-type {\n",
       "        vertical-align: middle;\n",
       "    }\n",
       "\n",
       "    .dataframe tbody tr th {\n",
       "        vertical-align: top;\n",
       "    }\n",
       "\n",
       "    .dataframe thead th {\n",
       "        text-align: right;\n",
       "    }\n",
       "</style>\n",
       "<table border=\"1\" class=\"dataframe\">\n",
       "  <thead>\n",
       "    <tr style=\"text-align: right;\">\n",
       "      <th></th>\n",
       "      <th>content</th>\n",
       "      <th>score</th>\n",
       "      <th>date</th>\n",
       "      <th>thumbsUp</th>\n",
       "      <th>source</th>\n",
       "      <th>text</th>\n",
       "      <th>length</th>\n",
       "      <th>update</th>\n",
       "    </tr>\n",
       "  </thead>\n",
       "  <tbody>\n",
       "    <tr>\n",
       "      <th>0</th>\n",
       "      <td>The graphics are gorgeous, the gameplay is inc...</td>\n",
       "      <td>5</td>\n",
       "      <td>2020-12-11 13:55:29</td>\n",
       "      <td>881.0</td>\n",
       "      <td>google_play_store</td>\n",
       "      <td>[the, graphics, are, gorgeous, the, gameplay, ...</td>\n",
       "      <td>84</td>\n",
       "      <td>1.1.2</td>\n",
       "    </tr>\n",
       "    <tr>\n",
       "      <th>1</th>\n",
       "      <td>If you love free world RPG, then this is it! T...</td>\n",
       "      <td>5</td>\n",
       "      <td>2020-12-16 18:10:47</td>\n",
       "      <td>48.0</td>\n",
       "      <td>google_play_store</td>\n",
       "      <td>[if, you, love, free, world, rpg, then, this, ...</td>\n",
       "      <td>94</td>\n",
       "      <td>1.1.2</td>\n",
       "    </tr>\n",
       "    <tr>\n",
       "      <th>2</th>\n",
       "      <td>I absolutely love the game! No complaints besi...</td>\n",
       "      <td>5</td>\n",
       "      <td>2020-12-16 00:18:43</td>\n",
       "      <td>185.0</td>\n",
       "      <td>google_play_store</td>\n",
       "      <td>[i, absolutely, love, the, game, no, complaint...</td>\n",
       "      <td>75</td>\n",
       "      <td>1.1.2</td>\n",
       "    </tr>\n",
       "    <tr>\n",
       "      <th>3</th>\n",
       "      <td>Great game. Regardless of ripoff issues and su...</td>\n",
       "      <td>4</td>\n",
       "      <td>2020-12-16 12:46:11</td>\n",
       "      <td>1.0</td>\n",
       "      <td>google_play_store</td>\n",
       "      <td>[great, game, regardless, of, ripoff, issues, ...</td>\n",
       "      <td>88</td>\n",
       "      <td>1.1.2</td>\n",
       "    </tr>\n",
       "    <tr>\n",
       "      <th>4</th>\n",
       "      <td>Amazing graphics and gameplay although a lot o...</td>\n",
       "      <td>5</td>\n",
       "      <td>2020-12-10 22:51:08</td>\n",
       "      <td>186.0</td>\n",
       "      <td>google_play_store</td>\n",
       "      <td>[amazing, graphics, and, gameplay, although, a...</td>\n",
       "      <td>86</td>\n",
       "      <td>1.1.2</td>\n",
       "    </tr>\n",
       "  </tbody>\n",
       "</table>\n",
       "</div>"
      ],
      "text/plain": [
       "                                             content  score  \\\n",
       "0  The graphics are gorgeous, the gameplay is inc...      5   \n",
       "1  If you love free world RPG, then this is it! T...      5   \n",
       "2  I absolutely love the game! No complaints besi...      5   \n",
       "3  Great game. Regardless of ripoff issues and su...      4   \n",
       "4  Amazing graphics and gameplay although a lot o...      5   \n",
       "\n",
       "                 date  thumbsUp             source  \\\n",
       "0 2020-12-11 13:55:29     881.0  google_play_store   \n",
       "1 2020-12-16 18:10:47      48.0  google_play_store   \n",
       "2 2020-12-16 00:18:43     185.0  google_play_store   \n",
       "3 2020-12-16 12:46:11       1.0  google_play_store   \n",
       "4 2020-12-10 22:51:08     186.0  google_play_store   \n",
       "\n",
       "                                                text  length update  \n",
       "0  [the, graphics, are, gorgeous, the, gameplay, ...      84  1.1.2  \n",
       "1  [if, you, love, free, world, rpg, then, this, ...      94  1.1.2  \n",
       "2  [i, absolutely, love, the, game, no, complaint...      75  1.1.2  \n",
       "3  [great, game, regardless, of, ripoff, issues, ...      88  1.1.2  \n",
       "4  [amazing, graphics, and, gameplay, although, a...      86  1.1.2  "
      ]
     },
     "execution_count": 123,
     "metadata": {},
     "output_type": "execute_result"
    }
   ],
   "source": [
    "df.head()"
   ]
  },
  {
   "cell_type": "code",
   "execution_count": 135,
   "metadata": {
    "ExecuteTime": {
     "end_time": "2021-01-26T02:36:30.852079Z",
     "start_time": "2021-01-26T02:36:30.842085Z"
    }
   },
   "outputs": [],
   "source": [
    "# create a function that will return the top N most frequent k-gram words\n",
    "# it also takes in the stopwords if needed, default is set to None\n",
    "def top_n_kgram_words(corpus, n, k, stopwords=None):\n",
    "\n",
    "    cvec = CountVectorizer(ngram_range=(k, k), stop_words=stopwords).fit(corpus)\n",
    "\n",
    "    bag_of_words = cvec.transform(corpus)\n",
    "\n",
    "    words_appearance = bag_of_words.sum(axis=0)\n",
    "\n",
    "    words_freq = [(word, words_appearance[0, index])\n",
    "                  for word, index in cvec.vocabulary_.items()]\n",
    "    words_freq = sorted(words_freq, key=lambda x: x[1], reverse=True)\n",
    "\n",
    "    return words_freq[:n]\n",
    "\n",
    "# create a function that will plot barplots of the top N most frequent k-gram words\n",
    "# it also takes in the stopwords if needed, default is set to None\n",
    "def plot_top_n_kgram_words(corpus, n, k, stopwords, title, palette = 'Blues_r'):\n",
    "    \n",
    "    data = top_n_kgram_words(corpus, n, k, stopwords=stopwords)\n",
    "\n",
    "    temp_df = pd.DataFrame(data = data, columns = ['Word', 'Frequency'])\n",
    "\n",
    "    plt.figure(figsize=(8, 2+(n/2)))\n",
    "    sns.barplot(data=temp_df, y='Word', x='Frequency', palette = palette)\n",
    "    plt.title(title, fontsize=20)\n",
    "    plt.ylabel('')\n",
    "    plt.xlabel('')\n",
    "\n",
    "    plt.show()"
   ]
  },
  {
   "cell_type": "code",
   "execution_count": 179,
   "metadata": {
    "ExecuteTime": {
     "end_time": "2021-01-26T03:20:21.479087Z",
     "start_time": "2021-01-26T03:20:16.987339Z"
    }
   },
   "outputs": [
    {
     "data": {
      "image/png": "[encoded data removed]",
      "text/plain": [
       "<Figure size 576x504 with 1 Axes>"
      ]
     },
     "metadata": {},
     "output_type": "display_data"
    }
   ],
   "source": [
    "plot_top_n_kgram_words(df['content'], 10, 1, 'english', 'Top 10 Words')"
   ]
  },
  {
   "cell_type": "markdown",
   "metadata": {},
   "source": [
    "The words 'game', 'play' and 'just' are highly common words that are not helpful for our understanding. I will remove them and look at the top words again."
   ]
  },
  {
   "cell_type": "code",
   "execution_count": 181,
   "metadata": {
    "ExecuteTime": {
     "end_time": "2021-01-26T03:20:41.081386Z",
     "start_time": "2021-01-26T03:20:41.073390Z"
    },
    "scrolled": true
   },
   "outputs": [],
   "source": [
    "stop_words = set(stopwords.words('english'))\n",
    "stop_words.update([\"game\", \"just\", \"play\"])"
   ]
  },
  {
   "cell_type": "code",
   "execution_count": 132,
   "metadata": {
    "ExecuteTime": {
     "end_time": "2021-01-26T02:29:23.617301Z",
     "start_time": "2021-01-26T02:29:18.379376Z"
    }
   },
   "outputs": [
    {
     "data": {
      "image/png": "[encoded data removed]",
      "text/plain": [
       "<Figure size 576x504 with 1 Axes>"
      ]
     },
     "metadata": {},
     "output_type": "display_data"
    }
   ],
   "source": [
    "plot_top_n_kgram_words(df['content'], 10, 1, stop_words, 'Top 10 Words (Stopwords Removed)')"
   ]
  },
  {
   "cell_type": "code",
   "execution_count": 129,
   "metadata": {
    "ExecuteTime": {
     "end_time": "2021-01-26T02:28:55.568553Z",
     "start_time": "2021-01-26T02:28:45.883102Z"
    }
   },
   "outputs": [
    {
     "data": {
      "image/png": "[encoded data removed]",
      "text/plain": [
       "<Figure size 576x504 with 1 Axes>"
      ]
     },
     "metadata": {},
     "output_type": "display_data"
    }
   ],
   "source": [
    "plot_top_n_kgram_words(df['content'], 10, 2, stop_words, 'Top 10 Bi-grams Words (Stopwords Removed)')"
   ]
  },
  {
   "cell_type": "code",
   "execution_count": 130,
   "metadata": {
    "ExecuteTime": {
     "end_time": "2021-01-26T02:29:07.326254Z",
     "start_time": "2021-01-26T02:28:55.572550Z"
    }
   },
   "outputs": [
    {
     "data": {
      "image/png": "[encoded data removed]",
      "text/plain": [
       "<Figure size 576x504 with 1 Axes>"
      ]
     },
     "metadata": {},
     "output_type": "display_data"
    }
   ],
   "source": [
    "plot_top_n_kgram_words(df['content'], 10, 3, stop_words, 'Top 10 Tri-grams Words (Stopwords Removed)')"
   ]
  },
  {
   "cell_type": "code",
   "execution_count": 131,
   "metadata": {
    "ExecuteTime": {
     "end_time": "2021-01-26T02:29:18.377376Z",
     "start_time": "2021-01-26T02:29:07.328253Z"
    }
   },
   "outputs": [
    {
     "data": {
      "image/png": "[encoded data removed]",
      "text/plain": [
       "<Figure size 576x504 with 1 Axes>"
      ]
     },
     "metadata": {},
     "output_type": "display_data"
    }
   ],
   "source": [
    "plot_top_n_kgram_words(df['content'], 10, 4, stop_words, 'Top 10 Quad-grams Words (Stopwords Removed)')"
   ]
  },
  {
   "cell_type": "markdown",
   "metadata": {},
   "source": [
    "#### Negative Posts"
   ]
  },
  {
   "cell_type": "code",
   "execution_count": 183,
   "metadata": {
    "ExecuteTime": {
     "end_time": "2021-01-26T03:20:50.438526Z",
     "start_time": "2021-01-26T03:20:49.560689Z"
    }
   },
   "outputs": [
    {
     "data": {
      "image/png": "[encoded data removed]",
      "text/plain": [
       "<Figure size 576x504 with 1 Axes>"
      ]
     },
     "metadata": {},
     "output_type": "display_data"
    }
   ],
   "source": [
    "plot_top_n_kgram_words(df[df['score'] == 1]['content'], 10, 1, stop_words, 'Top 10 Words', 'Reds_r')"
   ]
  },
  {
   "cell_type": "markdown",
   "metadata": {},
   "source": [
    "The words 'even', 'like' and 'please' are highly common words that are not helpful for our understanding. I will remove them and look at the top words again."
   ]
  },
  {
   "cell_type": "code",
   "execution_count": 147,
   "metadata": {
    "ExecuteTime": {
     "end_time": "2021-01-26T02:39:48.209599Z",
     "start_time": "2021-01-26T02:39:48.192611Z"
    },
    "scrolled": true
   },
   "outputs": [],
   "source": [
    "stop_words.update([\"even\", \"like\", \"please\"])"
   ]
  },
  {
   "cell_type": "code",
   "execution_count": 148,
   "metadata": {
    "ExecuteTime": {
     "end_time": "2021-01-26T02:39:51.502070Z",
     "start_time": "2021-01-26T02:39:50.504688Z"
    }
   },
   "outputs": [
    {
     "data": {
      "image/png": "[encoded data removed]",
      "text/plain": [
       "<Figure size 576x504 with 1 Axes>"
      ]
     },
     "metadata": {},
     "output_type": "display_data"
    }
   ],
   "source": [
    "plot_top_n_kgram_words(df[df['score'] == 1]['content'], 10, 1, stop_words, 'Top 10 Words (Stopwords Removed)', 'Reds_r')"
   ]
  },
  {
   "cell_type": "code",
   "execution_count": 149,
   "metadata": {
    "ExecuteTime": {
     "end_time": "2021-01-26T02:40:01.850631Z",
     "start_time": "2021-01-26T02:40:00.125696Z"
    }
   },
   "outputs": [
    {
     "data": {
      "image/png": "[encoded data removed]",
      "text/plain": [
       "<Figure size 576x504 with 1 Axes>"
      ]
     },
     "metadata": {},
     "output_type": "display_data"
    }
   ],
   "source": [
    "plot_top_n_kgram_words(df[df['score'] == 1]['content'], 10, 2, stop_words, 'Top 10 Bi-grams Words (Stopwords Removed)', 'Reds_r')"
   ]
  },
  {
   "cell_type": "code",
   "execution_count": 150,
   "metadata": {
    "ExecuteTime": {
     "end_time": "2021-01-26T02:40:12.435777Z",
     "start_time": "2021-01-26T02:40:10.661873Z"
    }
   },
   "outputs": [
    {
     "data": {
      "image/png": "[encoded data removed]",
      "text/plain": [
       "<Figure size 576x504 with 1 Axes>"
      ]
     },
     "metadata": {},
     "output_type": "display_data"
    }
   ],
   "source": [
    "plot_top_n_kgram_words(df[df['score'] == 1]['content'], 10, 3, stop_words, 'Top 10 Tri-grams Words (Stopwords Removed)', 'Reds_r')"
   ]
  },
  {
   "cell_type": "code",
   "execution_count": 151,
   "metadata": {
    "ExecuteTime": {
     "end_time": "2021-01-26T02:40:14.776336Z",
     "start_time": "2021-01-26T02:40:13.010426Z"
    }
   },
   "outputs": [
    {
     "data": {
      "image/png": "[encoded data removed]",
      "text/plain": [
       "<Figure size 576x504 with 1 Axes>"
      ]
     },
     "metadata": {},
     "output_type": "display_data"
    }
   ],
   "source": [
    "plot_top_n_kgram_words(df[df['score'] == 1]['content'], 10, 4, stop_words, 'Top 10 Quad-grams Words (Stopwords Removed)', 'Reds_r')"
   ]
  },
  {
   "cell_type": "markdown",
   "metadata": {},
   "source": [
    "# Saving the Final Dataset"
   ]
  },
  {
   "cell_type": "code",
   "execution_count": 39,
   "metadata": {
    "ExecuteTime": {
     "end_time": "2021-01-12T09:29:50.927050Z",
     "start_time": "2021-01-12T09:29:50.182926Z"
    },
    "deletable": false,
    "editable": false,
    "run_control": {
     "frozen": true
    }
   },
   "outputs": [],
   "source": [
    "df.to_pickle('data/final_df.p')"
   ]
  }
 ],
 "metadata": {
  "kernelspec": {
   "display_name": "Python 3",
   "language": "python",
   "name": "python3"
  },
  "language_info": {
   "codemirror_mode": {
    "name": "ipython",
    "version": 3
   },
   "file_extension": ".py",
   "mimetype": "text/x-python",
   "name": "python",
   "nbconvert_exporter": "python",
   "pygments_lexer": "ipython3",
   "version": "3.7.9"
  },
  "toc": {
   "base_numbering": 1,
   "nav_menu": {},
   "number_sections": false,
   "sideBar": true,
   "skip_h1_title": false,
   "title_cell": "Table of Contents",
   "title_sidebar": "Contents",
   "toc_cell": false,
   "toc_position": {
    "height": "calc(100% - 180px)",
    "left": "10px",
    "top": "150px",
    "width": "279.767px"
   },
   "toc_section_display": true,
   "toc_window_display": true
  }
 },
 "nbformat": 4,
 "nbformat_minor": 4
}
