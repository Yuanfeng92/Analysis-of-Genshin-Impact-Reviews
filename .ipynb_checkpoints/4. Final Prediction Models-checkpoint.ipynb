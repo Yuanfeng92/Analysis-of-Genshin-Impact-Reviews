{
 "cells": [
  {
   "cell_type": "markdown",
   "id": "damaged-performer",
   "metadata": {},
   "source": [
    "# Genshin Impact Reviews Analysis\n",
    "## 4. Prediction Models\n",
    "In this notebook, I will write the functions:\n",
    "1. Predict whether a review is positive or negative \n",
    "2. Categorize the topic of the review based on the update version and whether it is positive or negative"
   ]
  },
  {
   "cell_type": "markdown",
   "id": "together-looking",
   "metadata": {},
   "source": [
    "# Import Libraries "
   ]
  },
  {
   "cell_type": "code",
   "execution_count": 1,
   "id": "opposite-hebrew",
   "metadata": {
    "ExecuteTime": {
     "end_time": "2021-01-26T08:14:39.155327Z",
     "start_time": "2021-01-26T08:14:31.028074Z"
    }
   },
   "outputs": [],
   "source": [
    "import pickle\n",
    "import pandas as pd\n",
    "\n",
    "import tensorflow as tf\n",
    "from tensorflow.keras.preprocessing.sequence import pad_sequences\n",
    "\n",
    "import gensim, spacy\n",
    "import gensim.corpora as corpora\n",
    "\n",
    "import nltk\n",
    "from nltk.corpus import wordnet\n",
    "from nltk.corpus import stopwords\n",
    "from nltk.tokenize import TweetTokenizer\n",
    "from gensim.utils import simple_preprocess\n",
    "from nltk.stem import WordNetLemmatizer\n",
    "\n",
    "stop_words = set(stopwords.words('english'))\n",
    "stop_words.update([\"game\", \"just\", \"play\", \"would\", \"could\"])"
   ]
  },
  {
   "cell_type": "markdown",
   "id": "public-siemens",
   "metadata": {},
   "source": [
    "# Load Models"
   ]
  },
  {
   "cell_type": "markdown",
   "id": "equal-syndicate",
   "metadata": {},
   "source": [
    "## LSTM Model"
   ]
  },
  {
   "cell_type": "code",
   "execution_count": 2,
   "id": "fiscal-nursery",
   "metadata": {
    "ExecuteTime": {
     "end_time": "2021-01-26T08:14:45.726993Z",
     "start_time": "2021-01-26T08:14:39.157324Z"
    }
   },
   "outputs": [],
   "source": [
    "with open('models/LSTM_model_tokenizer.pkl', 'rb') as f:\n",
    "    data = pickle.load(f)\n",
    "    new_tokenizer = data['tokenizer']\n",
    "    vocab_size = data['vocab_size']\n",
    "    max_len = data['max_len']\n",
    "    \n",
    "new_model = tf.keras.models.load_model('models/LSTM_model')"
   ]
  },
  {
   "cell_type": "code",
   "execution_count": 25,
   "id": "bound-bunch",
   "metadata": {
    "ExecuteTime": {
     "end_time": "2021-01-26T08:30:38.052539Z",
     "start_time": "2021-01-26T08:30:38.042546Z"
    }
   },
   "outputs": [],
   "source": [
    "def predict_pos_neg(review, threshold = 0.1):\n",
    "    \n",
    "    review = [review]\n",
    "\n",
    "    padded_review = pad_sequences(new_tokenizer.texts_to_sequences(review), maxlen = max_len)\n",
    "    \n",
    "    pred = new_model.predict(padded_review)[0][1]\n",
    "    \n",
    "    if pred < 0.5 - threshold:\n",
    "        return ('negative', pred)\n",
    "    \n",
    "    elif pred > 0.5 + threshold:\n",
    "        return ('positive', pred)\n",
    "    \n",
    "    else:\n",
    "        return ('neutral', pred)"
   ]
  },
  {
   "cell_type": "markdown",
   "id": "finite-recovery",
   "metadata": {},
   "source": [
    "## LDA Model"
   ]
  },
  {
   "cell_type": "code",
   "execution_count": 4,
   "id": "unnecessary-fancy",
   "metadata": {
    "ExecuteTime": {
     "end_time": "2021-01-26T08:14:46.164870Z",
     "start_time": "2021-01-26T08:14:45.745976Z"
    }
   },
   "outputs": [],
   "source": [
    "model_112_pos = {'model': gensim.models.LdaModel.load('models/112_pos.model'),\n",
    "                'id2word': corpora.Dictionary.load('models/112_pos.model.id2word')}\n",
    "\n",
    "model_112_neg = {'model': gensim.models.LdaModel.load('models/112_neg.model'),\n",
    "                'id2word': corpora.Dictionary.load('models/112_neg.model.id2word')}\n",
    "\n",
    "model_111_pos = {'model': gensim.models.LdaModel.load('models/111_pos.model'),\n",
    "                'id2word': corpora.Dictionary.load('models/111_pos.model.id2word')}\n",
    "\n",
    "model_111_neg = {'model': gensim.models.LdaModel.load('models/111_neg.model'),\n",
    "                'id2word': corpora.Dictionary.load('models/111_neg.model.id2word')}\n",
    "\n",
    "model_102_pos = {'model': gensim.models.LdaModel.load('models/102_pos.model'),\n",
    "                'id2word': corpora.Dictionary.load('models/102_pos.model.id2word')}\n",
    "\n",
    "model_102_neg = {'model': gensim.models.LdaModel.load('models/102_neg.model'),\n",
    "                'id2word': corpora.Dictionary.load('models/102_neg.model.id2word')}\n",
    "\n",
    "model_101_pos = {'model': gensim.models.LdaModel.load('models/101_pos.model'),\n",
    "                'id2word': corpora.Dictionary.load('models/101_pos.model.id2word')}\n",
    "\n",
    "model_101_neg = {'model': gensim.models.LdaModel.load('models/101_neg.model'),\n",
    "                'id2word': corpora.Dictionary.load('models/101_neg.model.id2word')}\n",
    "\n",
    "model_112 = {'pos': model_112_pos,\n",
    "             'neg': model_112_neg}\n",
    "\n",
    "model_111 = {'pos': model_111_pos,\n",
    "             'neg': model_111_neg}\n",
    "\n",
    "model_102 = {'pos': model_102_pos,\n",
    "             'neg': model_102_neg}\n",
    "\n",
    "model_101 = {'pos': model_101_pos,\n",
    "             'neg': model_101_neg}\n",
    "\n",
    "model_dict = {'112': model_112,\n",
    "              '111': model_111,\n",
    "              '102': model_102,\n",
    "              '101': model_101}"
   ]
  },
  {
   "cell_type": "code",
   "execution_count": 5,
   "id": "committed-knight",
   "metadata": {
    "ExecuteTime": {
     "end_time": "2021-01-26T08:14:46.180862Z",
     "start_time": "2021-01-26T08:14:46.165870Z"
    }
   },
   "outputs": [],
   "source": [
    "topics_112_pos = {0: 'Suggestions',\n",
    "                  1: 'Character System',\n",
    "                  2: 'Technical Issues',\n",
    "                  3: 'Love for Game'}\n",
    "\n",
    "topics_112_neg = {0: 'Complaints on Game Systems',\n",
    "                  1: 'Account Security Issues',\n",
    "                  2: 'Technical Issues'}\n",
    "\n",
    "topics_111_pos = {0: 'Love for Game (Graphics)',\n",
    "                  1: 'Love for Game (Free Mobile RPG)',\n",
    "                  2: 'Character System',\n",
    "                  3: 'Technical Issues'}\n",
    "\n",
    "topics_111_neg = {0: 'Technical Issues (Bugs & Lags)',\n",
    "                  1: 'Storage Issues',\n",
    "                  2: 'Complaints on Game Systems',\n",
    "                  3: 'Technical Issues (Mobile Optimization & Account Security)'}\n",
    "\n",
    "topics_102_pos = {0: 'Love for Game (Graphics)',\n",
    "                  1: 'Character System',\n",
    "                  2: 'Love for Game (Mobile RPG)',\n",
    "                  3: 'Technical Issues'}\n",
    "\n",
    "topics_102_neg = {0: 'Control Issues',\n",
    "                  1: 'Technical Issues',\n",
    "                  2: 'Complaints on Game Systems (Character Rates)',\n",
    "                  3: 'Complaints on Game Systems (Resin Systems)'}\n",
    "\n",
    "\n",
    "topics_101_pos = {0: 'Love for Game (Free Mobile RPG)',\n",
    "                  1: 'Praises & Anticipation',\n",
    "                  2: 'Technical Issues',\n",
    "                  3: 'Love for Game (Graphics)'}\n",
    "\n",
    "topics_101_neg = {0: 'Technical Issues (Bugs, Crash and Lags)',\n",
    "                  1: 'Complaints on Game Systems',\n",
    "                  2: 'Technical Issues (Bad Mobile Performance)'}\n",
    "\n",
    "topics_112 = {'pos': topics_112_pos,\n",
    "              'neg': topics_112_neg}\n",
    "\n",
    "topics_111 = {'pos': topics_111_pos,\n",
    "              'neg': topics_111_neg}\n",
    "\n",
    "topics_102 = {'pos': topics_102_pos,\n",
    "              'neg': topics_102_neg}\n",
    "\n",
    "topics_101 = {'pos': topics_101_pos,\n",
    "              'neg': topics_101_neg}\n",
    "\n",
    "topics_dict = {'112': topics_112,\n",
    "               '111': topics_111,\n",
    "               '102': topics_102,\n",
    "               '101': topics_101}"
   ]
  },
  {
   "cell_type": "code",
   "execution_count": 6,
   "id": "surgical-contact",
   "metadata": {
    "ExecuteTime": {
     "end_time": "2021-01-26T08:14:46.212465Z",
     "start_time": "2021-01-26T08:14:46.183859Z"
    }
   },
   "outputs": [],
   "source": [
    "# tweet tokenizer\n",
    "def get_sent_post(sentence):\n",
    "    word_tag = nltk.pos_tag(sentence)\n",
    "\n",
    "    new_word_tag = []\n",
    "\n",
    "    for word, tag in word_tag:\n",
    "        new_tag = tag[0]\n",
    "        tag_dict = {\"J\": wordnet.ADJ,\n",
    "                    \"N\": wordnet.NOUN,\n",
    "                    \"V\": wordnet.VERB,\n",
    "                    \"R\": wordnet.ADV}\n",
    "\n",
    "        new_word_tag.append((word, tag_dict.get(new_tag, wordnet.NOUN)))\n",
    "    \n",
    "    return new_word_tag\n",
    "\n",
    "def process_words(data, stop_words_list = stop_words, allowed_postags=['NOUN', 'ADJ', 'VERB', 'ADV', 'PROPN']):\n",
    "    \"\"\"Remove Stopwords, Form Bigrams, Trigrams and Lemmatization\"\"\"\n",
    "    \n",
    "    tokenizer = TweetTokenizer()\n",
    "    texts = [tokenizer.tokenize(doc) for doc in data]\n",
    "    \n",
    "    # build the bigram and trigram models by automatically detecting common phrases / multiword expressions\n",
    "    # min_count ignores all words and bigrams with total count less than the number\n",
    "    # threshold affects the number of phrases that will be created (higher threshold = fewer phrases)\n",
    "    bigram = gensim.models.Phrases(texts, min_count=5, threshold=100)\n",
    "    trigram = gensim.models.Phrases(bigram[texts], threshold=100)\n",
    "\n",
    "    # a phrases object is for learning bigrams (and multiword expressions), not for processing\n",
    "    # for processing, need to use a phraser object\n",
    "    bigram_mod = gensim.models.phrases.Phraser(bigram)\n",
    "    trigram_mod = gensim.models.phrases.Phraser(trigram)\n",
    "    \n",
    "    # removes stopwords, lowercases, tokenizes, de-accents and \n",
    "    # removes words that are too short or too long in the text if word not in stop_words\n",
    "    texts = [[word for word in simple_preprocess(str(doc), deacc=True) if word not in stop_words_list] for doc in texts]\n",
    " \n",
    "    # combines bi-gram phrases\n",
    "    texts = [bigram_mod[doc] for doc in texts]\n",
    "    \n",
    "    # combines tri-gram phrases\n",
    "    texts = [trigram_mod[bigram_mod[doc]] for doc in texts]\n",
    "    \n",
    "    texts_out = []\n",
    "    \n",
    "    # loads the spacy 'en_core_web_sm' model to get the type of pos tags for each word\n",
    "    # disabling 'parser' and 'ner' for faster processing (keeping only tagger component)\n",
    "    nlp = spacy.load('en_core_web_sm', disable=['parser', 'ner'])\n",
    "    \n",
    "    for sent in texts:\n",
    "        \n",
    "        # join the words together and process the it using the nlp model\n",
    "        doc = nlp(\" \".join(sent)) \n",
    "        \n",
    "        # only keep the word if it is in the allowed pos tags\n",
    "        texts_out.append([token for token in doc if token.pos_ in allowed_postags])\n",
    "    \n",
    "\n",
    "    # using NLTK's lemmatizer as it returns words into their base forms\n",
    "    # it performs better than many other lemmatizer (and stemmers) as it takes into account the part-of-speech of the word\n",
    "    texts_out = [[word for word in simple_preprocess(str(doc))] for doc in texts_out]\n",
    "\n",
    "    lemmatizer = WordNetLemmatizer()\n",
    "    texts_out = [[lemmatizer.lemmatize(word, pos) for word, pos in get_sent_post(sentence)] for sentence in texts_out]\n",
    "    \n",
    "    # remove stopwords again after lemmatizing\n",
    "    texts_out = [[word for word in doc if word not in stop_words_list] for doc in texts_out]\n",
    "        \n",
    "    return texts_out"
   ]
  },
  {
   "cell_type": "code",
   "execution_count": 41,
   "id": "amber-protection",
   "metadata": {
    "ExecuteTime": {
     "end_time": "2021-01-26T08:35:02.663176Z",
     "start_time": "2021-01-26T08:35:02.643191Z"
    }
   },
   "outputs": [],
   "source": [
    "def predict_topic(review, update, pos_neg, threshold = 0.1):\n",
    "    \n",
    "    processed_sentence = process_words(pd.Series(review))\n",
    "    \n",
    "    sentence_bow = model_dict[update][pos_neg]['id2word'].doc2bow(processed_sentence[0])\n",
    "    \n",
    "    sentence_pred = model_dict[update][pos_neg]['model'].get_document_topics(sentence_bow)\n",
    "    sentence_pred.sort(key=lambda tup: tup[1], reverse = True)\n",
    "    \n",
    "    top_2_topics = [(topics_dict[update][pos_neg][tup[0]], tup[1]) for tup in sentence_pred[:2]]\n",
    "    \n",
    "    if top_2_topics[0][1] - top_2_topics[1][1] < threshold:\n",
    "        return [tup[0] for tup in top_2_topics]\n",
    "    \n",
    "    else:\n",
    "        return top_2_topics[0][0]"
   ]
  },
  {
   "cell_type": "markdown",
   "id": "enormous-newark",
   "metadata": {},
   "source": [
    "# Testing Prediction Functions"
   ]
  },
  {
   "cell_type": "markdown",
   "id": "solar-fitness",
   "metadata": {},
   "source": [
    "## Neutral Reviews"
   ]
  },
  {
   "cell_type": "code",
   "execution_count": 8,
   "id": "comparable-treatment",
   "metadata": {
    "ExecuteTime": {
     "end_time": "2021-01-26T08:14:46.244449Z",
     "start_time": "2021-01-26T08:14:46.230458Z"
    }
   },
   "outputs": [],
   "source": [
    "neu_line = \"\"\"\n",
    "The game is truly one of the best in it's genre. the world is fun to explore, the combat is quite engaging! \n",
    "The biggest issue, I have with this game is The Resin System! \n",
    "It feels too restrictive, and heavily halts the players progression in becoming stronger and upgrading their characters. \n",
    "All the fun content requires you to have resin, and there's not enough ways to refill resin Reasonably. \n",
    "I often end my play sessions unsatifised because I just wanted to play and farm a bit more\n",
    "\"\"\""
   ]
  },
  {
   "cell_type": "code",
   "execution_count": 26,
   "id": "administrative-catch",
   "metadata": {
    "ExecuteTime": {
     "end_time": "2021-01-26T08:30:41.465796Z",
     "start_time": "2021-01-26T08:30:41.407831Z"
    },
    "scrolled": true
   },
   "outputs": [
    {
     "data": {
      "text/plain": [
       "('neutral', 0.51674)"
      ]
     },
     "execution_count": 26,
     "metadata": {},
     "output_type": "execute_result"
    }
   ],
   "source": [
    "predict_pos_neg(neu_line)"
   ]
  },
  {
   "cell_type": "code",
   "execution_count": 27,
   "id": "characteristic-consent",
   "metadata": {
    "ExecuteTime": {
     "end_time": "2021-01-26T08:30:42.823780Z",
     "start_time": "2021-01-26T08:30:42.764807Z"
    }
   },
   "outputs": [
    {
     "data": {
      "text/plain": [
       "('positive', 0.51674)"
      ]
     },
     "execution_count": 27,
     "metadata": {},
     "output_type": "execute_result"
    }
   ],
   "source": [
    "predict_pos_neg(neu_line, threshold = 0)"
   ]
  },
  {
   "cell_type": "code",
   "execution_count": 43,
   "id": "taken-ebony",
   "metadata": {
    "ExecuteTime": {
     "end_time": "2021-01-26T08:35:09.904072Z",
     "start_time": "2021-01-26T08:35:09.260468Z"
    }
   },
   "outputs": [
    {
     "data": {
      "text/plain": [
       "['Character System', 'Suggestions']"
      ]
     },
     "execution_count": 43,
     "metadata": {},
     "output_type": "execute_result"
    }
   ],
   "source": [
    "predict_topic(neu_line, update = '112', pos_neg = 'pos')"
   ]
  },
  {
   "cell_type": "markdown",
   "id": "rubber-brain",
   "metadata": {},
   "source": [
    "## Positive Reviews"
   ]
  },
  {
   "cell_type": "code",
   "execution_count": 12,
   "id": "laughing-douglas",
   "metadata": {
    "ExecuteTime": {
     "end_time": "2021-01-26T08:14:50.701186Z",
     "start_time": "2021-01-26T08:14:50.687193Z"
    }
   },
   "outputs": [],
   "source": [
    "pos_line = \"\"\"\n",
    "The game is truly one of the best in it's genre. the world is fun to explore, the combat is quite engaging! \n",
    "\"\"\""
   ]
  },
  {
   "cell_type": "code",
   "execution_count": 28,
   "id": "cultural-conflict",
   "metadata": {
    "ExecuteTime": {
     "end_time": "2021-01-26T08:30:46.002501Z",
     "start_time": "2021-01-26T08:30:45.942532Z"
    }
   },
   "outputs": [
    {
     "data": {
      "text/plain": [
       "('positive', 0.9994367)"
      ]
     },
     "execution_count": 28,
     "metadata": {},
     "output_type": "execute_result"
    }
   ],
   "source": [
    "predict_pos_neg(pos_line)"
   ]
  },
  {
   "cell_type": "code",
   "execution_count": 42,
   "id": "impossible-cooperation",
   "metadata": {
    "ExecuteTime": {
     "end_time": "2021-01-26T08:35:06.417402Z",
     "start_time": "2021-01-26T08:35:05.568034Z"
    }
   },
   "outputs": [
    {
     "data": {
      "text/plain": [
       "'Love for Game'"
      ]
     },
     "execution_count": 42,
     "metadata": {},
     "output_type": "execute_result"
    }
   ],
   "source": [
    "predict_topic(pos_line, update = '112', pos_neg = 'pos')"
   ]
  },
  {
   "cell_type": "markdown",
   "id": "focal-reporter",
   "metadata": {},
   "source": [
    "## Negative Reviews"
   ]
  },
  {
   "cell_type": "code",
   "execution_count": 15,
   "id": "attached-outside",
   "metadata": {
    "ExecuteTime": {
     "end_time": "2021-01-26T08:14:51.434398Z",
     "start_time": "2021-01-26T08:14:51.420411Z"
    }
   },
   "outputs": [],
   "source": [
    "neg_line = \"\"\"\n",
    "The biggest issue, I have with this game is The Resin System! \n",
    "It feels too restrictive, and heavily halts the players progression in becoming stronger and upgrading their characters. \n",
    "All the fun content requires you to have resin, and there's not enough ways to refill resin Reasonably. \n",
    "I often end my play sessions unsatifised because I just wanted to play and farm a bit more\n",
    "\"\"\""
   ]
  },
  {
   "cell_type": "code",
   "execution_count": 29,
   "id": "smoking-chassis",
   "metadata": {
    "ExecuteTime": {
     "end_time": "2021-01-26T08:30:49.645969Z",
     "start_time": "2021-01-26T08:30:49.585740Z"
    }
   },
   "outputs": [
    {
     "data": {
      "text/plain": [
       "('negative', 0.10333362)"
      ]
     },
     "execution_count": 29,
     "metadata": {},
     "output_type": "execute_result"
    }
   ],
   "source": [
    "predict_pos_neg(neg_line)"
   ]
  },
  {
   "cell_type": "code",
   "execution_count": 44,
   "id": "czech-mortgage",
   "metadata": {
    "ExecuteTime": {
     "end_time": "2021-01-26T08:35:16.841837Z",
     "start_time": "2021-01-26T08:35:16.201759Z"
    }
   },
   "outputs": [
    {
     "data": {
      "text/plain": [
       "'Complaints on Game Systems'"
      ]
     },
     "execution_count": 44,
     "metadata": {},
     "output_type": "execute_result"
    }
   ],
   "source": [
    "predict_topic(neg_line, update = '112', pos_neg = 'neg')"
   ]
  },
  {
   "cell_type": "markdown",
   "id": "complimentary-tourist",
   "metadata": {},
   "source": [
    "## Other Reviews"
   ]
  },
  {
   "cell_type": "code",
   "execution_count": 18,
   "id": "disciplinary-pipeline",
   "metadata": {
    "ExecuteTime": {
     "end_time": "2021-01-26T08:14:52.166120Z",
     "start_time": "2021-01-26T08:14:52.152130Z"
    }
   },
   "outputs": [],
   "source": [
    "review_1 = \"I wish I could give this game more stars. This game is beyond excellent! There is not one bad thing I can say about this game, it is everything I have ever wanted in a mobile game. I'm addicted to it and love the cute anime style!!\""
   ]
  },
  {
   "cell_type": "code",
   "execution_count": null,
   "id": "tribal-illinois",
   "metadata": {},
   "outputs": [],
   "source": []
  }
 ],
 "metadata": {
  "kernelspec": {
   "display_name": "Python 3",
   "language": "python",
   "name": "python3"
  },
  "language_info": {
   "codemirror_mode": {
    "name": "ipython",
    "version": 3
   },
   "file_extension": ".py",
   "mimetype": "text/x-python",
   "name": "python",
   "nbconvert_exporter": "python",
   "pygments_lexer": "ipython3",
   "version": "3.7.9"
  },
  "toc": {
   "base_numbering": 1,
   "nav_menu": {},
   "number_sections": false,
   "sideBar": true,
   "skip_h1_title": false,
   "title_cell": "Table of Contents",
   "title_sidebar": "Contents",
   "toc_cell": false,
   "toc_position": {
    "height": "calc(100% - 180px)",
    "left": "10px",
    "top": "150px",
    "width": "263px"
   },
   "toc_section_display": true,
   "toc_window_display": true
  }
 },
 "nbformat": 4,
 "nbformat_minor": 5
}
