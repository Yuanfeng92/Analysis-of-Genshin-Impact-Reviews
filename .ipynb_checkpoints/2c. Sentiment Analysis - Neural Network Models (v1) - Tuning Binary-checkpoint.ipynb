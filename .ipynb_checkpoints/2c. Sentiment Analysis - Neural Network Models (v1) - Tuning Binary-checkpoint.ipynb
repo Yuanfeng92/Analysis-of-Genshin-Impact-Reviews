{
 "cells": [
  {
   "cell_type": "markdown",
   "metadata": {},
   "source": [
    "https://towardsdatascience.com/fine-grained-sentiment-analysis-in-python-part-1-2697bb111ed4"
   ]
  },
  {
   "cell_type": "markdown",
   "metadata": {},
   "source": [
    "# Import Libraries"
   ]
  },
  {
   "cell_type": "code",
   "execution_count": 1,
   "metadata": {
    "ExecuteTime": {
     "end_time": "2021-01-14T06:46:32.527855Z",
     "start_time": "2021-01-14T06:46:29.257862Z"
    }
   },
   "outputs": [],
   "source": [
    "import pandas as pd\n",
    "import seaborn as sns\n",
    "import matplotlib.pyplot as plt\n",
    "\n",
    "from sklearn.metrics import accuracy_score, confusion_matrix, ConfusionMatrixDisplay\n",
    "\n",
    "from sklearn.model_selection import train_test_split\n",
    "from sklearn.feature_extraction.text import CountVectorizer, TfidfTransformer\n",
    "from sklearn.linear_model import LogisticRegression\n",
    "from sklearn.pipeline import Pipeline\n",
    "\n",
    "from sklearn.feature_extraction.text import CountVectorizer, TfidfTransformer\n",
    "from sklearn.linear_model import SGDClassifier\n",
    "from sklearn.pipeline import Pipeline\n",
    "from sklearn.naive_bayes import MultinomialNB\n",
    "\n",
    "from sklearn.preprocessing import OneHotEncoder\n",
    "\n",
    "import nltk\n",
    "import nltk.sentiment.sentiment_analyzer \n",
    "from nltk.sentiment.util import extract_unigram_feats, mark_negation\n",
    "\n",
    "# Build the model\n",
    "from tensorflow.keras.models import Sequential\n",
    "from tensorflow.keras.layers import LSTM, Dense, Dropout\n",
    "from tensorflow.keras.layers import SpatialDropout1D\n",
    "from tensorflow.keras.layers import Embedding\n",
    "from tensorflow.keras.callbacks import EarlyStopping\n",
    "\n",
    "from tensorflow.keras.preprocessing.text import Tokenizer\n",
    "from tensorflow.keras.preprocessing.sequence import pad_sequences"
   ]
  },
  {
   "cell_type": "code",
   "execution_count": 2,
   "metadata": {
    "ExecuteTime": {
     "end_time": "2021-01-14T06:46:32.876617Z",
     "start_time": "2021-01-14T06:46:32.529854Z"
    }
   },
   "outputs": [
    {
     "data": {
      "text/html": [
       "<div>\n",
       "<style scoped>\n",
       "    .dataframe tbody tr th:only-of-type {\n",
       "        vertical-align: middle;\n",
       "    }\n",
       "\n",
       "    .dataframe tbody tr th {\n",
       "        vertical-align: top;\n",
       "    }\n",
       "\n",
       "    .dataframe thead th {\n",
       "        text-align: right;\n",
       "    }\n",
       "</style>\n",
       "<table border=\"1\" class=\"dataframe\">\n",
       "  <thead>\n",
       "    <tr style=\"text-align: right;\">\n",
       "      <th></th>\n",
       "      <th>content</th>\n",
       "      <th>score</th>\n",
       "      <th>date</th>\n",
       "      <th>thumbsUp</th>\n",
       "      <th>source</th>\n",
       "      <th>text</th>\n",
       "      <th>length</th>\n",
       "      <th>update</th>\n",
       "      <th>TB_polarity</th>\n",
       "      <th>TB_pred</th>\n",
       "      <th>VD_neg</th>\n",
       "      <th>VD_neu</th>\n",
       "      <th>VD_pos</th>\n",
       "      <th>VD_compound</th>\n",
       "      <th>VD_pred</th>\n",
       "    </tr>\n",
       "  </thead>\n",
       "  <tbody>\n",
       "    <tr>\n",
       "      <th>0</th>\n",
       "      <td>The graphics are gorgeous, the gameplay is inc...</td>\n",
       "      <td>5</td>\n",
       "      <td>2020-12-11 13:55:29</td>\n",
       "      <td>881.0</td>\n",
       "      <td>google_play_store</td>\n",
       "      <td>[the, graphics, are, gorgeous, the, gameplay, ...</td>\n",
       "      <td>84</td>\n",
       "      <td>1.1.2</td>\n",
       "      <td>0.270238</td>\n",
       "      <td>4</td>\n",
       "      <td>0.061</td>\n",
       "      <td>0.579</td>\n",
       "      <td>0.360</td>\n",
       "      <td>0.9879</td>\n",
       "      <td>5</td>\n",
       "    </tr>\n",
       "    <tr>\n",
       "      <th>1</th>\n",
       "      <td>If you love free world RPG, then this is it! T...</td>\n",
       "      <td>5</td>\n",
       "      <td>2020-12-16 18:10:47</td>\n",
       "      <td>48.0</td>\n",
       "      <td>google_play_store</td>\n",
       "      <td>[if, you, love, free, world, rpg, then, this, ...</td>\n",
       "      <td>94</td>\n",
       "      <td>1.1.2</td>\n",
       "      <td>0.183889</td>\n",
       "      <td>3</td>\n",
       "      <td>0.049</td>\n",
       "      <td>0.766</td>\n",
       "      <td>0.185</td>\n",
       "      <td>0.9187</td>\n",
       "      <td>5</td>\n",
       "    </tr>\n",
       "    <tr>\n",
       "      <th>2</th>\n",
       "      <td>I absolutely love the game! No complaints besi...</td>\n",
       "      <td>5</td>\n",
       "      <td>2020-12-16 00:18:43</td>\n",
       "      <td>185.0</td>\n",
       "      <td>google_play_store</td>\n",
       "      <td>[i, absolutely, love, the, game, no, complaint...</td>\n",
       "      <td>75</td>\n",
       "      <td>1.1.2</td>\n",
       "      <td>0.034921</td>\n",
       "      <td>3</td>\n",
       "      <td>0.156</td>\n",
       "      <td>0.663</td>\n",
       "      <td>0.181</td>\n",
       "      <td>0.6297</td>\n",
       "      <td>5</td>\n",
       "    </tr>\n",
       "    <tr>\n",
       "      <th>3</th>\n",
       "      <td>Great game. Regardless of ripoff issues and su...</td>\n",
       "      <td>4</td>\n",
       "      <td>2020-12-16 12:46:11</td>\n",
       "      <td>1.0</td>\n",
       "      <td>google_play_store</td>\n",
       "      <td>[great, game, regardless, of, ripoff, issues, ...</td>\n",
       "      <td>88</td>\n",
       "      <td>1.1.2</td>\n",
       "      <td>0.073333</td>\n",
       "      <td>3</td>\n",
       "      <td>0.115</td>\n",
       "      <td>0.639</td>\n",
       "      <td>0.245</td>\n",
       "      <td>0.9274</td>\n",
       "      <td>5</td>\n",
       "    </tr>\n",
       "    <tr>\n",
       "      <th>4</th>\n",
       "      <td>Amazing graphics and gameplay although a lot o...</td>\n",
       "      <td>5</td>\n",
       "      <td>2020-12-10 22:51:08</td>\n",
       "      <td>186.0</td>\n",
       "      <td>google_play_store</td>\n",
       "      <td>[amazing, graphics, and, gameplay, although, a...</td>\n",
       "      <td>86</td>\n",
       "      <td>1.1.2</td>\n",
       "      <td>0.381629</td>\n",
       "      <td>4</td>\n",
       "      <td>0.024</td>\n",
       "      <td>0.584</td>\n",
       "      <td>0.392</td>\n",
       "      <td>0.9908</td>\n",
       "      <td>5</td>\n",
       "    </tr>\n",
       "  </tbody>\n",
       "</table>\n",
       "</div>"
      ],
      "text/plain": [
       "                                             content  score  \\\n",
       "0  The graphics are gorgeous, the gameplay is inc...      5   \n",
       "1  If you love free world RPG, then this is it! T...      5   \n",
       "2  I absolutely love the game! No complaints besi...      5   \n",
       "3  Great game. Regardless of ripoff issues and su...      4   \n",
       "4  Amazing graphics and gameplay although a lot o...      5   \n",
       "\n",
       "                 date  thumbsUp             source  \\\n",
       "0 2020-12-11 13:55:29     881.0  google_play_store   \n",
       "1 2020-12-16 18:10:47      48.0  google_play_store   \n",
       "2 2020-12-16 00:18:43     185.0  google_play_store   \n",
       "3 2020-12-16 12:46:11       1.0  google_play_store   \n",
       "4 2020-12-10 22:51:08     186.0  google_play_store   \n",
       "\n",
       "                                                text  length update  \\\n",
       "0  [the, graphics, are, gorgeous, the, gameplay, ...      84  1.1.2   \n",
       "1  [if, you, love, free, world, rpg, then, this, ...      94  1.1.2   \n",
       "2  [i, absolutely, love, the, game, no, complaint...      75  1.1.2   \n",
       "3  [great, game, regardless, of, ripoff, issues, ...      88  1.1.2   \n",
       "4  [amazing, graphics, and, gameplay, although, a...      86  1.1.2   \n",
       "\n",
       "   TB_polarity TB_pred  VD_neg  VD_neu  VD_pos  VD_compound VD_pred  \n",
       "0     0.270238       4   0.061   0.579   0.360       0.9879       5  \n",
       "1     0.183889       3   0.049   0.766   0.185       0.9187       5  \n",
       "2     0.034921       3   0.156   0.663   0.181       0.6297       5  \n",
       "3     0.073333       3   0.115   0.639   0.245       0.9274       5  \n",
       "4     0.381629       4   0.024   0.584   0.392       0.9908       5  "
      ]
     },
     "execution_count": 2,
     "metadata": {},
     "output_type": "execute_result"
    }
   ],
   "source": [
    "df = pd.read_pickle('data/final_df_TB_vader.p')\n",
    "df.head()"
   ]
  },
  {
   "cell_type": "markdown",
   "metadata": {},
   "source": [
    "# Modeling (Neural Networks)"
   ]
  },
  {
   "cell_type": "markdown",
   "metadata": {},
   "source": [
    "## Data Preparation"
   ]
  },
  {
   "cell_type": "code",
   "execution_count": 3,
   "metadata": {
    "ExecuteTime": {
     "end_time": "2021-01-14T06:46:32.908672Z",
     "start_time": "2021-01-14T06:46:32.877531Z"
    }
   },
   "outputs": [],
   "source": [
    "nn_df = df.sample(frac = 0.3, random_state = 11)"
   ]
  },
  {
   "cell_type": "code",
   "execution_count": 4,
   "metadata": {
    "ExecuteTime": {
     "end_time": "2021-01-14T06:46:33.254244Z",
     "start_time": "2021-01-14T06:46:32.909588Z"
    }
   },
   "outputs": [
    {
     "data": {
      "image/png": "[encoded data removed]",
      "text/plain": [
       "<Figure size 432x288 with 1 Axes>"
      ]
     },
     "metadata": {
      "needs_background": "light"
     },
     "output_type": "display_data"
    }
   ],
   "source": [
    "nn_df['score'].value_counts(normalize=True).plot(kind='bar');"
   ]
  },
  {
   "cell_type": "code",
   "execution_count": 5,
   "metadata": {
    "ExecuteTime": {
     "end_time": "2021-01-14T06:46:34.328664Z",
     "start_time": "2021-01-14T06:46:33.691952Z"
    }
   },
   "outputs": [],
   "source": [
    "reviews = nn_df['content'].values\n",
    "\n",
    "tokenizer = Tokenizer(num_words=7000)\n",
    "tokenizer.fit_on_texts(reviews)"
   ]
  },
  {
   "cell_type": "code",
   "execution_count": 6,
   "metadata": {
    "ExecuteTime": {
     "end_time": "2021-01-14T06:46:36.614846Z",
     "start_time": "2021-01-14T06:46:36.597831Z"
    }
   },
   "outputs": [
    {
     "data": {
      "text/plain": [
       "16200"
      ]
     },
     "execution_count": 6,
     "metadata": {},
     "output_type": "execute_result"
    }
   ],
   "source": [
    "vocab_size = len(tokenizer.word_index) + 1\n",
    "vocab_size"
   ]
  },
  {
   "cell_type": "code",
   "execution_count": 7,
   "metadata": {
    "ExecuteTime": {
     "end_time": "2021-01-14T06:46:38.043468Z",
     "start_time": "2021-01-14T06:46:37.460895Z"
    }
   },
   "outputs": [],
   "source": [
    "max_len = 100\n",
    "\n",
    "encoded_docs = tokenizer.texts_to_sequences(reviews)\n",
    "padded_sequence = pad_sequences(encoded_docs, maxlen=max_len)"
   ]
  },
  {
   "cell_type": "code",
   "execution_count": 8,
   "metadata": {
    "ExecuteTime": {
     "end_time": "2021-01-14T06:46:39.669987Z",
     "start_time": "2021-01-14T06:46:39.660015Z"
    }
   },
   "outputs": [
    {
     "name": "stdout",
     "output_type": "stream",
     "text": [
      "Everything is going well so far. And I sure hope you this game could support controllers\n",
      "[117, 6, 300, 98, 14, 74, 4, 3, 323, 103, 15, 9, 2, 129, 108, 1072]\n",
      "[   0    0    0    0    0    0    0    0    0    0    0    0    0    0\n",
      "    0    0    0    0    0    0    0    0    0    0    0    0    0    0\n",
      "    0    0    0    0    0    0    0    0    0    0    0    0    0    0\n",
      "    0    0    0    0    0    0    0    0    0    0    0    0    0    0\n",
      "    0    0    0    0    0    0    0    0    0    0    0    0    0    0\n",
      "    0    0    0    0    0    0    0    0    0    0    0    0    0    0\n",
      "  117    6  300   98   14   74    4    3  323  103   15    9    2  129\n",
      "  108 1072]\n"
     ]
    }
   ],
   "source": [
    "print(reviews[0])\n",
    "print(encoded_docs[0])\n",
    "print(padded_sequence[0])"
   ]
  },
  {
   "cell_type": "markdown",
   "metadata": {},
   "source": [
    "## 7. LSTM (2 Categories) \n",
    "\n",
    "Trying with Positive and Negative\n",
    "\n",
    "With score = 3 considered as Negative"
   ]
  },
  {
   "cell_type": "code",
   "execution_count": 9,
   "metadata": {
    "ExecuteTime": {
     "end_time": "2021-01-14T06:46:41.741334Z",
     "start_time": "2021-01-14T06:46:41.722482Z"
    }
   },
   "outputs": [],
   "source": [
    "scores = nn_df[['score']].copy()\n",
    "\n",
    "def positive_negative(score):\n",
    "    if score <= 3:\n",
    "        return 0\n",
    "    if score > 3:\n",
    "        return 1\n",
    "    \n",
    "scores['pn'] = scores['score'].apply(lambda x: positive_negative(x))"
   ]
  },
  {
   "cell_type": "code",
   "execution_count": 10,
   "metadata": {
    "ExecuteTime": {
     "end_time": "2021-01-14T06:46:42.131166Z",
     "start_time": "2021-01-14T06:46:42.110184Z"
    }
   },
   "outputs": [
    {
     "data": {
      "text/plain": [
       "77345    1\n",
       "37959    1\n",
       "39815    1\n",
       "10960    1\n",
       "57759    1\n",
       "        ..\n",
       "58739    1\n",
       "29322    0\n",
       "1444     1\n",
       "3495     1\n",
       "20627    1\n",
       "Name: pn, Length: 26460, dtype: int64"
      ]
     },
     "execution_count": 10,
     "metadata": {},
     "output_type": "execute_result"
    }
   ],
   "source": [
    "scores['pn']"
   ]
  },
  {
   "cell_type": "code",
   "execution_count": 11,
   "metadata": {
    "ExecuteTime": {
     "end_time": "2021-01-14T06:46:45.011425Z",
     "start_time": "2021-01-14T06:46:44.998440Z"
    }
   },
   "outputs": [],
   "source": [
    "enc = OneHotEncoder()\n",
    "scores_cat = enc.fit_transform(scores[['pn']]).toarray()"
   ]
  },
  {
   "cell_type": "code",
   "execution_count": 12,
   "metadata": {
    "ExecuteTime": {
     "end_time": "2021-01-14T06:46:45.992989Z",
     "start_time": "2021-01-14T06:46:45.970041Z"
    }
   },
   "outputs": [
    {
     "data": {
      "text/plain": [
       "0    1  \n",
       "0.0  1.0    20648\n",
       "1.0  0.0     5812\n",
       "dtype: int64"
      ]
     },
     "execution_count": 12,
     "metadata": {},
     "output_type": "execute_result"
    }
   ],
   "source": [
    "pd.DataFrame(scores_cat).value_counts()"
   ]
  },
  {
   "cell_type": "code",
   "execution_count": 78,
   "metadata": {
    "ExecuteTime": {
     "end_time": "2021-01-14T06:32:54.035007Z",
     "start_time": "2021-01-14T06:32:53.818600Z"
    }
   },
   "outputs": [
    {
     "name": "stdout",
     "output_type": "stream",
     "text": [
      "Model: \"sequential_11\"\n",
      "_________________________________________________________________\n",
      "Layer (type)                 Output Shape              Param #   \n",
      "=================================================================\n",
      "embedding_11 (Embedding)     (None, 100, 32)           518400    \n",
      "_________________________________________________________________\n",
      "spatial_dropout1d_11 (Spatia (None, 100, 32)           0         \n",
      "_________________________________________________________________\n",
      "lstm_12 (LSTM)               (None, 50)                16600     \n",
      "_________________________________________________________________\n",
      "dropout_11 (Dropout)         (None, 50)                0         \n",
      "_________________________________________________________________\n",
      "dense_10 (Dense)             (None, 2)                 102       \n",
      "=================================================================\n",
      "Total params: 535,102\n",
      "Trainable params: 535,102\n",
      "Non-trainable params: 0\n",
      "_________________________________________________________________\n",
      "None\n"
     ]
    }
   ],
   "source": [
    "embedding_vector_length = 32\n",
    "\n",
    "model = Sequential()\n",
    "model.add(Embedding(vocab_size, embedding_vector_length, input_length=max_len))\n",
    "model.add(SpatialDropout1D(0.25))\n",
    "model.add(LSTM(50, dropout=0.5, recurrent_dropout=0.5))\n",
    "model.add(Dropout(0.2))\n",
    "model.add(Dense(2, activation='softmax'))\n",
    "model.compile(loss='categorical_crossentropy', optimizer='adam',metrics=['AUC'])\n",
    "\n",
    "print(model.summary())"
   ]
  },
  {
   "cell_type": "code",
   "execution_count": 79,
   "metadata": {
    "ExecuteTime": {
     "end_time": "2021-01-14T06:37:37.660520Z",
     "start_time": "2021-01-14T06:32:55.418986Z"
    }
   },
   "outputs": [
    {
     "name": "stdout",
     "output_type": "stream",
     "text": [
      "Epoch 1/5\n",
      "662/662 [==============================] - 52s 78ms/step - loss: 0.7311 - auc: 0.8527 - val_loss: 0.3309 - val_auc: 0.9326\n",
      "Epoch 2/5\n",
      "662/662 [==============================] - 57s 85ms/step - loss: 0.5268 - auc: 0.9238 - val_loss: 0.3595 - val_auc: 0.9213\n",
      "Epoch 3/5\n",
      "662/662 [==============================] - 57s 86ms/step - loss: 0.4675 - auc: 0.9397 - val_loss: 0.3342 - val_auc: 0.9396\n",
      "Epoch 4/5\n",
      "662/662 [==============================] - 57s 86ms/step - loss: 0.4226 - auc: 0.9513 - val_loss: 0.3222 - val_auc: 0.9427\n",
      "Epoch 5/5\n",
      "662/662 [==============================] - 57s 86ms/step - loss: 0.3995 - auc: 0.9557 - val_loss: 0.3443 - val_auc: 0.9396\n"
     ]
    }
   ],
   "source": [
    "earlystop_callback = EarlyStopping(monitor='val_loss', min_delta=0, patience=3)\n",
    "\n",
    "history = model.fit(padded_sequence, scores_cat, validation_split=0.2, \n",
    "                    epochs=5, batch_size=32, callbacks=[earlystop_callback],\n",
    "                    class_weight={0: 20648/5812, 1: 20648/20648})"
   ]
  },
  {
   "cell_type": "code",
   "execution_count": 80,
   "metadata": {
    "ExecuteTime": {
     "end_time": "2021-01-14T06:37:37.943178Z",
     "start_time": "2021-01-14T06:37:37.666515Z"
    }
   },
   "outputs": [
    {
     "data": {
      "image/png": "[encoded data removed]",
      "text/plain": [
       "<Figure size 432x288 with 1 Axes>"
      ]
     },
     "metadata": {
      "needs_background": "light"
     },
     "output_type": "display_data"
    }
   ],
   "source": [
    "plt.plot(history.history['loss'], label='Train loss')\n",
    "plt.plot(history.history['val_loss'], label='Val Loss')\n",
    "plt.legend();"
   ]
  },
  {
   "cell_type": "code",
   "execution_count": 81,
   "metadata": {
    "ExecuteTime": {
     "end_time": "2021-01-14T06:37:46.213316Z",
     "start_time": "2021-01-14T06:37:37.945176Z"
    },
    "scrolled": true
   },
   "outputs": [],
   "source": [
    "probability = model.predict(padded_sequence)\n",
    "probability_df = pd.DataFrame(probability)"
   ]
  },
  {
   "cell_type": "code",
   "execution_count": 82,
   "metadata": {
    "ExecuteTime": {
     "end_time": "2021-01-14T06:37:46.277306Z",
     "start_time": "2021-01-14T06:37:46.219313Z"
    }
   },
   "outputs": [
    {
     "ename": "ValueError",
     "evalue": "Length mismatch: Expected axis has 2 elements, new values have 1 elements",
     "output_type": "error",
     "traceback": [
      "\u001b[1;31m---------------------------------------------------------------------------\u001b[0m",
      "\u001b[1;31mValueError\u001b[0m                                Traceback (most recent call last)",
      "\u001b[1;32m<ipython-input-82-77da712901c0>\u001b[0m in \u001b[0;36m<module>\u001b[1;34m\u001b[0m\n\u001b[1;32m----> 1\u001b[1;33m \u001b[0mprobability_df\u001b[0m\u001b[1;33m.\u001b[0m\u001b[0mcolumns\u001b[0m \u001b[1;33m=\u001b[0m \u001b[1;33m[\u001b[0m\u001b[1;34m'probability'\u001b[0m\u001b[1;33m]\u001b[0m\u001b[1;33m\u001b[0m\u001b[1;33m\u001b[0m\u001b[0m\n\u001b[0m\u001b[0;32m      2\u001b[0m \u001b[0mprobability_df\u001b[0m\u001b[1;33m.\u001b[0m\u001b[0mhead\u001b[0m\u001b[1;33m(\u001b[0m\u001b[1;33m)\u001b[0m\u001b[1;33m\u001b[0m\u001b[1;33m\u001b[0m\u001b[0m\n",
      "\u001b[1;32m~\\anaconda3\\lib\\site-packages\\pandas\\core\\generic.py\u001b[0m in \u001b[0;36m__setattr__\u001b[1;34m(self, name, value)\u001b[0m\n\u001b[0;32m   5471\u001b[0m         \u001b[1;32mtry\u001b[0m\u001b[1;33m:\u001b[0m\u001b[1;33m\u001b[0m\u001b[1;33m\u001b[0m\u001b[0m\n\u001b[0;32m   5472\u001b[0m             \u001b[0mobject\u001b[0m\u001b[1;33m.\u001b[0m\u001b[0m__getattribute__\u001b[0m\u001b[1;33m(\u001b[0m\u001b[0mself\u001b[0m\u001b[1;33m,\u001b[0m \u001b[0mname\u001b[0m\u001b[1;33m)\u001b[0m\u001b[1;33m\u001b[0m\u001b[1;33m\u001b[0m\u001b[0m\n\u001b[1;32m-> 5473\u001b[1;33m             \u001b[1;32mreturn\u001b[0m \u001b[0mobject\u001b[0m\u001b[1;33m.\u001b[0m\u001b[0m__setattr__\u001b[0m\u001b[1;33m(\u001b[0m\u001b[0mself\u001b[0m\u001b[1;33m,\u001b[0m \u001b[0mname\u001b[0m\u001b[1;33m,\u001b[0m \u001b[0mvalue\u001b[0m\u001b[1;33m)\u001b[0m\u001b[1;33m\u001b[0m\u001b[1;33m\u001b[0m\u001b[0m\n\u001b[0m\u001b[0;32m   5474\u001b[0m         \u001b[1;32mexcept\u001b[0m \u001b[0mAttributeError\u001b[0m\u001b[1;33m:\u001b[0m\u001b[1;33m\u001b[0m\u001b[1;33m\u001b[0m\u001b[0m\n\u001b[0;32m   5475\u001b[0m             \u001b[1;32mpass\u001b[0m\u001b[1;33m\u001b[0m\u001b[1;33m\u001b[0m\u001b[0m\n",
      "\u001b[1;32mpandas\\_libs\\properties.pyx\u001b[0m in \u001b[0;36mpandas._libs.properties.AxisProperty.__set__\u001b[1;34m()\u001b[0m\n",
      "\u001b[1;32m~\\anaconda3\\lib\\site-packages\\pandas\\core\\generic.py\u001b[0m in \u001b[0;36m_set_axis\u001b[1;34m(self, axis, labels)\u001b[0m\n\u001b[0;32m    665\u001b[0m     \u001b[1;32mdef\u001b[0m \u001b[0m_set_axis\u001b[0m\u001b[1;33m(\u001b[0m\u001b[0mself\u001b[0m\u001b[1;33m,\u001b[0m \u001b[0maxis\u001b[0m\u001b[1;33m:\u001b[0m \u001b[0mint\u001b[0m\u001b[1;33m,\u001b[0m \u001b[0mlabels\u001b[0m\u001b[1;33m:\u001b[0m \u001b[0mIndex\u001b[0m\u001b[1;33m)\u001b[0m \u001b[1;33m->\u001b[0m \u001b[1;32mNone\u001b[0m\u001b[1;33m:\u001b[0m\u001b[1;33m\u001b[0m\u001b[1;33m\u001b[0m\u001b[0m\n\u001b[0;32m    666\u001b[0m         \u001b[0mlabels\u001b[0m \u001b[1;33m=\u001b[0m \u001b[0mensure_index\u001b[0m\u001b[1;33m(\u001b[0m\u001b[0mlabels\u001b[0m\u001b[1;33m)\u001b[0m\u001b[1;33m\u001b[0m\u001b[1;33m\u001b[0m\u001b[0m\n\u001b[1;32m--> 667\u001b[1;33m         \u001b[0mself\u001b[0m\u001b[1;33m.\u001b[0m\u001b[0m_mgr\u001b[0m\u001b[1;33m.\u001b[0m\u001b[0mset_axis\u001b[0m\u001b[1;33m(\u001b[0m\u001b[0maxis\u001b[0m\u001b[1;33m,\u001b[0m \u001b[0mlabels\u001b[0m\u001b[1;33m)\u001b[0m\u001b[1;33m\u001b[0m\u001b[1;33m\u001b[0m\u001b[0m\n\u001b[0m\u001b[0;32m    668\u001b[0m         \u001b[0mself\u001b[0m\u001b[1;33m.\u001b[0m\u001b[0m_clear_item_cache\u001b[0m\u001b[1;33m(\u001b[0m\u001b[1;33m)\u001b[0m\u001b[1;33m\u001b[0m\u001b[1;33m\u001b[0m\u001b[0m\n\u001b[0;32m    669\u001b[0m \u001b[1;33m\u001b[0m\u001b[0m\n",
      "\u001b[1;32m~\\anaconda3\\lib\\site-packages\\pandas\\core\\internals\\managers.py\u001b[0m in \u001b[0;36mset_axis\u001b[1;34m(self, axis, new_labels)\u001b[0m\n\u001b[0;32m    218\u001b[0m \u001b[1;33m\u001b[0m\u001b[0m\n\u001b[0;32m    219\u001b[0m         \u001b[1;32mif\u001b[0m \u001b[0mnew_len\u001b[0m \u001b[1;33m!=\u001b[0m \u001b[0mold_len\u001b[0m\u001b[1;33m:\u001b[0m\u001b[1;33m\u001b[0m\u001b[1;33m\u001b[0m\u001b[0m\n\u001b[1;32m--> 220\u001b[1;33m             raise ValueError(\n\u001b[0m\u001b[0;32m    221\u001b[0m                 \u001b[1;34mf\"Length mismatch: Expected axis has {old_len} elements, new \"\u001b[0m\u001b[1;33m\u001b[0m\u001b[1;33m\u001b[0m\u001b[0m\n\u001b[0;32m    222\u001b[0m                 \u001b[1;34mf\"values have {new_len} elements\"\u001b[0m\u001b[1;33m\u001b[0m\u001b[1;33m\u001b[0m\u001b[0m\n",
      "\u001b[1;31mValueError\u001b[0m: Length mismatch: Expected axis has 2 elements, new values have 1 elements"
     ]
    }
   ],
   "source": [
    "probability_df.columns = ['probability']\n",
    "probability_df.head()"
   ]
  },
  {
   "cell_type": "code",
   "execution_count": null,
   "metadata": {
    "ExecuteTime": {
     "end_time": "2021-01-14T06:37:46.279304Z",
     "start_time": "2021-01-14T06:32:58.347Z"
    }
   },
   "outputs": [],
   "source": [
    "def find_prediction(x):\n",
    "    if x > 0.5:\n",
    "        return 1\n",
    "    else:\n",
    "        return 0"
   ]
  },
  {
   "cell_type": "code",
   "execution_count": null,
   "metadata": {
    "ExecuteTime": {
     "end_time": "2021-01-14T06:37:46.280302Z",
     "start_time": "2021-01-14T06:33:00.361Z"
    }
   },
   "outputs": [],
   "source": [
    "probability_df['pred'] = probability_df['probability'].apply(lambda x: find_prediction(x))\n",
    "\n",
    "probability_df.head(10)"
   ]
  },
  {
   "cell_type": "code",
   "execution_count": null,
   "metadata": {
    "ExecuteTime": {
     "end_time": "2021-01-14T06:37:46.281299Z",
     "start_time": "2021-01-14T06:33:00.914Z"
    }
   },
   "outputs": [],
   "source": [
    "cm = confusion_matrix(scores['pn'], probability_df['pred'])\n",
    "\n",
    "plt.figure(figsize = (7, 5.5))\n",
    "sns.heatmap(cm, annot = True, fmt = '.5g', cmap = 'coolwarm', xticklabels = [0,1], yticklabels = [0,1])\n",
    "plt.title('Confusion Matrix', fontsize = 15)\n",
    "plt.ylabel('True Label')\n",
    "plt.xlabel('Predicted Label')\n",
    "plt.show()"
   ]
  },
  {
   "cell_type": "markdown",
   "metadata": {},
   "source": [
    "# Testing Whether to use Softmax/cat or Sigmoid/bi"
   ]
  },
  {
   "cell_type": "code",
   "execution_count": 13,
   "metadata": {
    "ExecuteTime": {
     "end_time": "2021-01-14T06:56:00.408931Z",
     "start_time": "2021-01-14T06:47:22.116504Z"
    }
   },
   "outputs": [
    {
     "name": "stdout",
     "output_type": "stream",
     "text": [
      "Epoch 1/10\n",
      "662/662 [==============================] - 45s 68ms/step - loss: 0.7358 - auc: 0.8509 - val_loss: 0.4013 - val_auc: 0.9000\n",
      "Epoch 2/10\n",
      "662/662 [==============================] - 48s 73ms/step - loss: 0.5398 - auc: 0.9193 - val_loss: 0.4357 - val_auc: 0.8882\n",
      "Epoch 3/10\n",
      "662/662 [==============================] - 51s 77ms/step - loss: 0.4818 - auc: 0.9366 - val_loss: 0.3797 - val_auc: 0.9168\n",
      "Epoch 4/10\n",
      "662/662 [==============================] - 53s 80ms/step - loss: 0.4314 - auc: 0.9493 - val_loss: 0.3089 - val_auc: 0.9439\n",
      "Epoch 5/10\n",
      "662/662 [==============================] - 53s 79ms/step - loss: 0.4009 - auc: 0.9553 - val_loss: 0.3281 - val_auc: 0.9433\n",
      "Epoch 6/10\n",
      "662/662 [==============================] - 53s 80ms/step - loss: 0.3716 - auc: 0.9619 - val_loss: 0.3365 - val_auc: 0.9397\n",
      "Epoch 7/10\n",
      "662/662 [==============================] - 53s 80ms/step - loss: 0.3607 - auc: 0.9634 - val_loss: 0.3392 - val_auc: 0.9417\n",
      "Epoch 8/10\n",
      "662/662 [==============================] - 53s 81ms/step - loss: 0.3436 - auc: 0.9674 - val_loss: 0.3440 - val_auc: 0.9433\n",
      "Epoch 9/10\n",
      "662/662 [==============================] - 53s 80ms/step - loss: 0.3321 - auc: 0.9696 - val_loss: 0.3942 - val_auc: 0.9355\n",
      "Epoch 10/10\n",
      "662/662 [==============================] - 52s 79ms/step - loss: 0.3187 - auc: 0.9715 - val_loss: 0.3890 - val_auc: 0.9418\n"
     ]
    }
   ],
   "source": [
    "# softmax + categorical\n",
    "embedding_vector_length = 32\n",
    "\n",
    "model = Sequential()\n",
    "model.add(Embedding(vocab_size, embedding_vector_length, input_length=max_len))\n",
    "model.add(SpatialDropout1D(0.25))\n",
    "model.add(LSTM(50, dropout=0.5, recurrent_dropout=0.5))\n",
    "model.add(Dropout(0.2))\n",
    "model.add(Dense(2, activation='softmax'))\n",
    "model.compile(loss='categorical_crossentropy', optimizer='adam',metrics=['AUC'])\n",
    "\n",
    "history = model.fit(padded_sequence, scores_cat, validation_split=0.2, \n",
    "                    epochs=10, batch_size=32, class_weight={0: 20648/5812, 1: 20648/20648})"
   ]
  },
  {
   "cell_type": "code",
   "execution_count": 14,
   "metadata": {
    "ExecuteTime": {
     "end_time": "2021-01-14T06:56:00.631388Z",
     "start_time": "2021-01-14T06:56:00.410916Z"
    }
   },
   "outputs": [
    {
     "data": {
      "image/png": "[encoded data removed]",
      "text/plain": [
       "<Figure size 432x288 with 1 Axes>"
      ]
     },
     "metadata": {
      "needs_background": "light"
     },
     "output_type": "display_data"
    }
   ],
   "source": [
    "plt.plot(history.history['loss'], label='Train loss')\n",
    "plt.plot(history.history['val_loss'], label='Val Loss')\n",
    "plt.legend();"
   ]
  },
  {
   "cell_type": "code",
   "execution_count": 15,
   "metadata": {
    "ExecuteTime": {
     "end_time": "2021-01-14T07:04:56.358667Z",
     "start_time": "2021-01-14T06:56:00.634343Z"
    }
   },
   "outputs": [
    {
     "name": "stdout",
     "output_type": "stream",
     "text": [
      "Epoch 1/10\n",
      "662/662 [==============================] - 54s 81ms/step - loss: 0.7269 - auc: 0.8539 - val_loss: 0.3663 - val_auc: 0.9166\n",
      "Epoch 2/10\n",
      "662/662 [==============================] - 53s 80ms/step - loss: 0.5439 - auc: 0.9194 - val_loss: 0.3328 - val_auc: 0.9327\n",
      "Epoch 3/10\n",
      "662/662 [==============================] - 53s 80ms/step - loss: 0.4728 - auc: 0.9381 - val_loss: 0.3631 - val_auc: 0.9247\n",
      "Epoch 4/10\n",
      "662/662 [==============================] - 52s 79ms/step - loss: 0.4417 - auc: 0.9460 - val_loss: 0.3160 - val_auc: 0.9441\n",
      "Epoch 5/10\n",
      "662/662 [==============================] - 53s 80ms/step - loss: 0.4179 - auc: 0.9509 - val_loss: 0.3826 - val_auc: 0.9250\n",
      "Epoch 6/10\n",
      "662/662 [==============================] - 52s 79ms/step - loss: 0.3875 - auc: 0.9583 - val_loss: 0.3520 - val_auc: 0.9425\n",
      "Epoch 7/10\n",
      "662/662 [==============================] - 54s 81ms/step - loss: 0.3666 - auc: 0.9633 - val_loss: 0.3480 - val_auc: 0.9422\n",
      "Epoch 8/10\n",
      "662/662 [==============================] - 54s 82ms/step - loss: 0.3493 - auc: 0.9665 - val_loss: 0.3297 - val_auc: 0.9471\n",
      "Epoch 9/10\n",
      "662/662 [==============================] - 53s 81ms/step - loss: 0.3401 - auc: 0.9671 - val_loss: 0.3315 - val_auc: 0.9474\n",
      "Epoch 10/10\n",
      "662/662 [==============================] - 53s 81ms/step - loss: 0.3172 - auc: 0.9718 - val_loss: 0.3616 - val_auc: 0.9418\n"
     ]
    }
   ],
   "source": [
    "# sigmoid + binary  --> not correct \n",
    "embedding_vector_length = 32\n",
    "\n",
    "model = Sequential()\n",
    "model.add(Embedding(vocab_size, embedding_vector_length, input_length=max_len))\n",
    "model.add(SpatialDropout1D(0.25))\n",
    "model.add(LSTM(50, dropout=0.5, recurrent_dropout=0.5))\n",
    "model.add(Dropout(0.2))\n",
    "model.add(Dense(2, activation='sigmoid'))\n",
    "model.compile(loss='binary_crossentropy', optimizer='adam',metrics=['AUC'])\n",
    "\n",
    "history = model.fit(padded_sequence, scores_cat, validation_split=0.2, \n",
    "                    epochs=10, batch_size=32, class_weight={0: 20648/5812, 1: 20648/20648})"
   ]
  },
  {
   "cell_type": "code",
   "execution_count": 16,
   "metadata": {
    "ExecuteTime": {
     "end_time": "2021-01-14T07:04:56.564903Z",
     "start_time": "2021-01-14T07:04:56.360668Z"
    }
   },
   "outputs": [
    {
     "data": {
      "image/png": "[encoded data removed]",
      "text/plain": [
       "<Figure size 432x288 with 1 Axes>"
      ]
     },
     "metadata": {
      "needs_background": "light"
     },
     "output_type": "display_data"
    }
   ],
   "source": [
    "plt.plot(history.history['loss'], label='Train loss')\n",
    "plt.plot(history.history['val_loss'], label='Val Loss')\n",
    "plt.legend();"
   ]
  },
  {
   "cell_type": "code",
   "execution_count": 25,
   "metadata": {
    "ExecuteTime": {
     "end_time": "2021-01-14T08:03:49.146630Z",
     "start_time": "2021-01-14T07:53:06.230294Z"
    }
   },
   "outputs": [
    {
     "name": "stdout",
     "output_type": "stream",
     "text": [
      "Epoch 1/10\n",
      "662/662 [==============================] - 68s 102ms/step - loss: 0.7332 - auc: 0.8589 - val_loss: 0.3390 - val_auc: 0.9151\n",
      "Epoch 2/10\n",
      "662/662 [==============================] - 63s 95ms/step - loss: 0.5298 - auc: 0.9253 - val_loss: 0.3333 - val_auc: 0.9255\n",
      "Epoch 3/10\n",
      "662/662 [==============================] - 76s 115ms/step - loss: 0.4737 - auc: 0.9396 - val_loss: 0.3462 - val_auc: 0.9271\n",
      "Epoch 4/10\n",
      "662/662 [==============================] - 92s 139ms/step - loss: 0.4384 - auc: 0.9478 - val_loss: 0.3121 - val_auc: 0.9279\n",
      "Epoch 5/10\n",
      "662/662 [==============================] - 66s 100ms/step - loss: 0.4045 - auc: 0.9552 - val_loss: 0.3159 - val_auc: 0.9288\n",
      "Epoch 6/10\n",
      "662/662 [==============================] - 77s 117ms/step - loss: 0.3740 - auc: 0.9615 - val_loss: 0.3421 - val_auc: 0.9273\n",
      "Epoch 7/10\n",
      "662/662 [==============================] - 46s 69ms/step - loss: 0.3570 - auc: 0.9645 - val_loss: 0.3610 - val_auc: 0.9211\n",
      "Epoch 8/10\n",
      "662/662 [==============================] - 46s 69ms/step - loss: 0.3405 - auc: 0.9677 - val_loss: 0.3438 - val_auc: 0.9234\n",
      "Epoch 9/10\n",
      "662/662 [==============================] - 50s 76ms/step - loss: 0.3302 - auc: 0.9695 - val_loss: 0.3678 - val_auc: 0.9261\n",
      "Epoch 10/10\n",
      "662/662 [==============================] - 53s 80ms/step - loss: 0.3240 - auc: 0.9705 - val_loss: 0.3600 - val_auc: 0.9216\n"
     ]
    }
   ],
   "source": [
    "# sigmoid + binary + no one hot encode\n",
    "embedding_vector_length = 32\n",
    "\n",
    "model = Sequential()\n",
    "model.add(Embedding(vocab_size, embedding_vector_length, input_length=max_len))\n",
    "model.add(SpatialDropout1D(0.25))\n",
    "model.add(LSTM(50, dropout=0.5, recurrent_dropout=0.5))\n",
    "model.add(Dropout(0.2))\n",
    "model.add(Dense(1, activation='sigmoid'))\n",
    "model.compile(loss='binary_crossentropy', optimizer='adam', metrics=['AUC'])\n",
    "\n",
    "history = model.fit(padded_sequence, scores['pn'], validation_split=0.2, \n",
    "                    epochs=10, batch_size=32, class_weight={0:20648/5812, 1: 1})"
   ]
  },
  {
   "cell_type": "code",
   "execution_count": 26,
   "metadata": {
    "ExecuteTime": {
     "end_time": "2021-01-14T08:03:49.348107Z",
     "start_time": "2021-01-14T08:03:49.149625Z"
    }
   },
   "outputs": [
    {
     "data": {
      "image/png": "[encoded data removed]",
      "text/plain": [
       "<Figure size 432x288 with 1 Axes>"
      ]
     },
     "metadata": {
      "needs_background": "light"
     },
     "output_type": "display_data"
    }
   ],
   "source": [
    "plt.plot(history.history['loss'], label='Train loss')\n",
    "plt.plot(history.history['val_loss'], label='Val Loss')\n",
    "plt.legend();"
   ]
  },
  {
   "cell_type": "code",
   "execution_count": null,
   "metadata": {
    "ExecuteTime": {
     "end_time": "2021-01-14T07:53:04.173573Z",
     "start_time": "2021-01-14T07:43:43.154Z"
    },
    "scrolled": true
   },
   "outputs": [],
   "source": [
    "probability = model.predict(padded_sequence)\n",
    "probability_df = pd.DataFrame(probability)"
   ]
  },
  {
   "cell_type": "code",
   "execution_count": null,
   "metadata": {
    "ExecuteTime": {
     "end_time": "2021-01-14T07:53:04.174571Z",
     "start_time": "2021-01-14T07:43:43.338Z"
    }
   },
   "outputs": [],
   "source": [
    "probability_df.columns = ['probability']\n",
    "probability_df.head()"
   ]
  },
  {
   "cell_type": "code",
   "execution_count": null,
   "metadata": {
    "ExecuteTime": {
     "end_time": "2021-01-14T06:37:46.279304Z",
     "start_time": "2021-01-14T06:32:58.347Z"
    }
   },
   "outputs": [],
   "source": [
    "def find_prediction(x):\n",
    "    if x > 0.5:\n",
    "        return 1\n",
    "    else:\n",
    "        return 0"
   ]
  },
  {
   "cell_type": "code",
   "execution_count": null,
   "metadata": {
    "ExecuteTime": {
     "end_time": "2021-01-14T06:37:46.280302Z",
     "start_time": "2021-01-14T06:33:00.361Z"
    }
   },
   "outputs": [],
   "source": [
    "probability_df['pred'] = probability_df['probability'].apply(lambda x: find_prediction(x))\n",
    "\n",
    "probability_df.head(10)"
   ]
  },
  {
   "cell_type": "code",
   "execution_count": null,
   "metadata": {
    "ExecuteTime": {
     "end_time": "2021-01-14T06:37:46.281299Z",
     "start_time": "2021-01-14T06:33:00.914Z"
    }
   },
   "outputs": [],
   "source": [
    "cm = confusion_matrix(scores['pn'], probability_df['pred'])\n",
    "\n",
    "plt.figure(figsize = (7, 5.5))\n",
    "sns.heatmap(cm, annot = True, fmt = '.5g', cmap = 'coolwarm', xticklabels = [0,1], yticklabels = [0,1])\n",
    "plt.title('Confusion Matrix', fontsize = 15)\n",
    "plt.ylabel('True Label')\n",
    "plt.xlabel('Predicted Label')\n",
    "plt.show()"
   ]
  },
  {
   "cell_type": "markdown",
   "metadata": {},
   "source": [
    "The model using softmax and categorical_crossentropy performed better than the model using sigmoid and binary_crossentropy despite the target being a binary target.\n",
    "\n",
    "This could be because of the way the error functions are calculated. The loss function categorical_crossentropy return a probability for each category while binary_crossentropy returns a value of either 0 or 1. As a result, categorical_crossentropy could end up giving a better (smaller) error which then improves the propogation process, this may be especially true with reviews which are less straightforward in terms of whether it is a positive or negative (noise).\n",
    "\n",
    "As a result, I will proceed with using softmax and categorical_crossentropy."
   ]
  },
  {
   "cell_type": "markdown",
   "metadata": {},
   "source": [
    "# Testing batch_size"
   ]
  },
  {
   "cell_type": "code",
   "execution_count": 29,
   "metadata": {
    "ExecuteTime": {
     "end_time": "2021-01-14T08:14:33.052597Z",
     "start_time": "2021-01-14T08:08:27.161072Z"
    }
   },
   "outputs": [
    {
     "name": "stdout",
     "output_type": "stream",
     "text": [
      "Epoch 1/5\n",
      "1323/1323 [==============================] - 63s 47ms/step - loss: 0.7083 - auc: 0.8623 - val_loss: 0.3372 - val_auc: 0.9303\n",
      "Epoch 2/5\n",
      "1323/1323 [==============================] - 65s 49ms/step - loss: 0.5388 - auc: 0.9198 - val_loss: 0.3751 - val_auc: 0.9141\n",
      "Epoch 3/5\n",
      "1323/1323 [==============================] - 74s 56ms/step - loss: 0.4717 - auc: 0.9401 - val_loss: 0.3302 - val_auc: 0.9404\n",
      "Epoch 4/5\n",
      "1323/1323 [==============================] - 79s 60ms/step - loss: 0.4424 - auc: 0.9462 - val_loss: 0.3052 - val_auc: 0.9512\n",
      "Epoch 5/5\n",
      "1323/1323 [==============================] - 83s 62ms/step - loss: 0.4023 - auc: 0.9563 - val_loss: 0.3478 - val_auc: 0.9345\n"
     ]
    }
   ],
   "source": [
    "# batchsize = 16\n",
    "embedding_vector_length = 32\n",
    "\n",
    "model = Sequential()\n",
    "model.add(Embedding(vocab_size, embedding_vector_length, input_length=max_len))\n",
    "model.add(SpatialDropout1D(0.25))\n",
    "model.add(LSTM(50, dropout=0.5, recurrent_dropout=0.5))\n",
    "model.add(Dropout(0.2))\n",
    "model.add(Dense(2, activation='softmax'))\n",
    "model.compile(loss='categorical_crossentropy', optimizer='adam',metrics=['AUC'])\n",
    "\n",
    "history = model.fit(padded_sequence, scores_cat, validation_split=0.2, \n",
    "                    epochs=5, batch_size=16, class_weight={0: 20648/5812, 1: 20648/20648})"
   ]
  },
  {
   "cell_type": "code",
   "execution_count": 30,
   "metadata": {
    "ExecuteTime": {
     "end_time": "2021-01-14T08:14:33.292010Z",
     "start_time": "2021-01-14T08:14:33.054584Z"
    }
   },
   "outputs": [
    {
     "data": {
      "image/png": "[encoded data removed]",
      "text/plain": [
       "<Figure size 432x288 with 1 Axes>"
      ]
     },
     "metadata": {
      "needs_background": "light"
     },
     "output_type": "display_data"
    }
   ],
   "source": [
    "plt.plot(history.history['loss'], label='Train loss')\n",
    "plt.plot(history.history['val_loss'], label='Val Loss')\n",
    "plt.legend();"
   ]
  },
  {
   "cell_type": "code",
   "execution_count": 31,
   "metadata": {
    "ExecuteTime": {
     "end_time": "2021-01-14T08:19:06.581598Z",
     "start_time": "2021-01-14T08:17:14.492601Z"
    }
   },
   "outputs": [
    {
     "name": "stdout",
     "output_type": "stream",
     "text": [
      "Epoch 1/5\n",
      "331/331 [==============================] - 32s 98ms/step - loss: 0.7795 - auc: 0.8332 - val_loss: 0.4088 - val_auc: 0.8958\n",
      "Epoch 2/5\n",
      "331/331 [==============================] - 31s 95ms/step - loss: 0.5485 - auc: 0.9178 - val_loss: 0.3642 - val_auc: 0.9174\n",
      "Epoch 3/5\n",
      "331/331 [==============================] - 32s 96ms/step - loss: 0.4818 - auc: 0.9361 - val_loss: 0.3160 - val_auc: 0.9434\n",
      "Epoch 4/5\n",
      "331/331 [==============================] - 31s 92ms/step - loss: 0.4454 - auc: 0.9464 - val_loss: 0.3285 - val_auc: 0.9368\n",
      "Epoch 5/5\n",
      "331/331 [==============================] - 30s 91ms/step - loss: 0.4099 - auc: 0.9533 - val_loss: 0.3096 - val_auc: 0.9479\n"
     ]
    }
   ],
   "source": [
    "# batchsize = 64\n",
    "embedding_vector_length = 32\n",
    "\n",
    "model = Sequential()\n",
    "model.add(Embedding(vocab_size, embedding_vector_length, input_length=max_len))\n",
    "model.add(SpatialDropout1D(0.25))\n",
    "model.add(LSTM(50, dropout=0.5, recurrent_dropout=0.5))\n",
    "model.add(Dropout(0.2))\n",
    "model.add(Dense(2, activation='softmax'))\n",
    "model.compile(loss='categorical_crossentropy', optimizer='adam',metrics=['AUC'])\n",
    "\n",
    "history = model.fit(padded_sequence, scores_cat, validation_split=0.2, \n",
    "                    epochs=5, batch_size=64, class_weight={0: 20648/5812, 1: 20648/20648})"
   ]
  },
  {
   "cell_type": "code",
   "execution_count": 32,
   "metadata": {
    "ExecuteTime": {
     "end_time": "2021-01-14T08:19:06.863198Z",
     "start_time": "2021-01-14T08:19:06.583593Z"
    }
   },
   "outputs": [
    {
     "data": {
      "image/png": "[encoded data removed]",
      "text/plain": [
       "<Figure size 432x288 with 1 Axes>"
      ]
     },
     "metadata": {
      "needs_background": "light"
     },
     "output_type": "display_data"
    }
   ],
   "source": [
    "plt.plot(history.history['loss'], label='Train loss')\n",
    "plt.plot(history.history['val_loss'], label='Val Loss')\n",
    "plt.legend();"
   ]
  },
  {
   "cell_type": "code",
   "execution_count": 33,
   "metadata": {
    "ExecuteTime": {
     "end_time": "2021-01-14T08:19:06.581598Z",
     "start_time": "2021-01-14T08:17:14.492601Z"
    }
   },
   "outputs": [
    {
     "name": "stdout",
     "output_type": "stream",
     "text": [
      "Epoch 1/5\n",
      "166/166 [==============================] - 21s 128ms/step - loss: 0.8467 - auc: 0.7928 - val_loss: 0.3995 - val_auc: 0.9012\n",
      "Epoch 2/5\n",
      "166/166 [==============================] - 21s 124ms/step - loss: 0.5726 - auc: 0.9107 - val_loss: 0.3728 - val_auc: 0.9149\n",
      "Epoch 3/5\n",
      "166/166 [==============================] - 22s 130ms/step - loss: 0.4957 - auc: 0.9331 - val_loss: 0.3474 - val_auc: 0.9300\n",
      "Epoch 4/5\n",
      "166/166 [==============================] - 21s 128ms/step - loss: 0.4573 - auc: 0.9429 - val_loss: 0.3121 - val_auc: 0.9419\n",
      "Epoch 5/5\n",
      "166/166 [==============================] - 24s 146ms/step - loss: 0.4227 - auc: 0.9506 - val_loss: 0.3800 - val_auc: 0.9187\n"
     ]
    }
   ],
   "source": [
    "# batchsize = 128\n",
    "embedding_vector_length = 32\n",
    "\n",
    "model = Sequential()\n",
    "model.add(Embedding(vocab_size, embedding_vector_length, input_length=max_len))\n",
    "model.add(SpatialDropout1D(0.25))\n",
    "model.add(LSTM(50, dropout=0.5, recurrent_dropout=0.5))\n",
    "model.add(Dropout(0.2))\n",
    "model.add(Dense(2, activation='softmax'))\n",
    "model.compile(loss='categorical_crossentropy', optimizer='adam',metrics=['AUC'])\n",
    "\n",
    "history = model.fit(padded_sequence, scores_cat, validation_split=0.2, \n",
    "                    epochs=5, batch_size=128, class_weight={0: 20648/5812, 1: 20648/20648})"
   ]
  },
  {
   "cell_type": "code",
   "execution_count": 34,
   "metadata": {
    "ExecuteTime": {
     "end_time": "2021-01-14T08:19:06.863198Z",
     "start_time": "2021-01-14T08:19:06.583593Z"
    }
   },
   "outputs": [
    {
     "data": {
      "image/png": "[encoded data removed]",
      "text/plain": [
       "<Figure size 432x288 with 1 Axes>"
      ]
     },
     "metadata": {
      "needs_background": "light"
     },
     "output_type": "display_data"
    }
   ],
   "source": [
    "plt.plot(history.history['loss'], label='Train loss')\n",
    "plt.plot(history.history['val_loss'], label='Val Loss')\n",
    "plt.legend();"
   ]
  },
  {
   "cell_type": "code",
   "execution_count": 35,
   "metadata": {
    "ExecuteTime": {
     "end_time": "2021-01-14T08:44:25.383444Z",
     "start_time": "2021-01-14T08:33:00.755074Z"
    }
   },
   "outputs": [
    {
     "name": "stdout",
     "output_type": "stream",
     "text": [
      "Epoch 1/5\n",
      "2646/2646 [==============================] - 120s 45ms/step - loss: 0.7069 - auc: 0.8611 - val_loss: 0.3321 - val_auc: 0.9338\n",
      "Epoch 2/5\n",
      "2646/2646 [==============================] - 135s 51ms/step - loss: 0.5313 - auc: 0.9241 - val_loss: 0.3555 - val_auc: 0.9223\n",
      "Epoch 3/5\n",
      "2646/2646 [==============================] - 143s 54ms/step - loss: 0.4703 - auc: 0.9402 - val_loss: 0.3473 - val_auc: 0.9382\n",
      "Epoch 4/5\n",
      "2646/2646 [==============================] - 143s 54ms/step - loss: 0.4294 - auc: 0.9502 - val_loss: 0.3351 - val_auc: 0.9379\n",
      "Epoch 5/5\n",
      "2646/2646 [==============================] - 141s 53ms/step - loss: 0.4072 - auc: 0.9550 - val_loss: 0.3137 - val_auc: 0.9463\n"
     ]
    }
   ],
   "source": [
    "# batchsize = 8\n",
    "embedding_vector_length = 32\n",
    "\n",
    "model = Sequential()\n",
    "model.add(Embedding(vocab_size, embedding_vector_length, input_length=max_len))\n",
    "model.add(SpatialDropout1D(0.25))\n",
    "model.add(LSTM(50, dropout=0.5, recurrent_dropout=0.5))\n",
    "model.add(Dropout(0.2))\n",
    "model.add(Dense(2, activation='softmax'))\n",
    "model.compile(loss='categorical_crossentropy', optimizer='adam',metrics=['AUC'])\n",
    "\n",
    "history = model.fit(padded_sequence, scores_cat, validation_split=0.2, \n",
    "                    epochs=5, batch_size=8, class_weight={0: 20648/5812, 1: 20648/20648})"
   ]
  },
  {
   "cell_type": "code",
   "execution_count": 36,
   "metadata": {
    "ExecuteTime": {
     "end_time": "2021-01-14T08:44:25.618875Z",
     "start_time": "2021-01-14T08:44:25.386437Z"
    }
   },
   "outputs": [
    {
     "data": {
      "image/png": "[encoded data removed]",
      "text/plain": [
       "<Figure size 432x288 with 1 Axes>"
      ]
     },
     "metadata": {
      "needs_background": "light"
     },
     "output_type": "display_data"
    }
   ],
   "source": [
    "plt.plot(history.history['loss'], label='Train loss')\n",
    "plt.plot(history.history['val_loss'], label='Val Loss')\n",
    "plt.legend();"
   ]
  },
  {
   "cell_type": "code",
   "execution_count": null,
   "metadata": {
    "ExecuteTime": {
     "end_time": "2021-01-14T08:44:25.383444Z",
     "start_time": "2021-01-14T08:33:00.755074Z"
    }
   },
   "outputs": [
    {
     "name": "stdout",
     "output_type": "stream",
     "text": [
      "Epoch 1/5\n",
      "5292/5292 [==============================] - 265s 50ms/step - loss: 0.6914 - auc: 0.8693 - val_loss: 0.3559 - val_auc: 0.9231\n",
      "Epoch 2/5\n",
      "5292/5292 [==============================] - 262s 49ms/step - loss: 0.5351 - auc: 0.9223 - val_loss: 0.3050 - val_auc: 0.9436\n",
      "Epoch 3/5\n",
      "5292/5292 [==============================] - 257s 49ms/step - loss: 0.4789 - auc: 0.9378 - val_loss: 0.3155 - val_auc: 0.9398\n",
      "Epoch 4/5\n",
      "5292/5292 [==============================] - 269s 51ms/step - loss: 0.4522 - auc: 0.9458 - val_loss: 0.3153 - val_auc: 0.9488\n",
      "Epoch 5/5\n",
      "1213/5292 [=====>........................] - ETA: 3:32 - loss: 0.3858 - auc: 0.9605"
     ]
    }
   ],
   "source": [
    "# batchsize = 4\n",
    "embedding_vector_length = 32\n",
    "\n",
    "model = Sequential()\n",
    "model.add(Embedding(vocab_size, embedding_vector_length, input_length=max_len))\n",
    "model.add(SpatialDropout1D(0.25))\n",
    "model.add(LSTM(50, dropout=0.5, recurrent_dropout=0.5))\n",
    "model.add(Dropout(0.2))\n",
    "model.add(Dense(2, activation='softmax'))\n",
    "model.compile(loss='categorical_crossentropy', optimizer='adam',metrics=['AUC'])\n",
    "\n",
    "history = model.fit(padded_sequence, scores_cat, validation_split=0.2, \n",
    "                    epochs=5, batch_size=4, class_weight={0: 20648/5812, 1: 20648/20648})"
   ]
  },
  {
   "cell_type": "code",
   "execution_count": null,
   "metadata": {
    "ExecuteTime": {
     "end_time": "2021-01-14T08:44:25.618875Z",
     "start_time": "2021-01-14T08:44:25.386437Z"
    }
   },
   "outputs": [],
   "source": [
    "plt.plot(history.history['loss'], label='Train loss')\n",
    "plt.plot(history.history['val_loss'], label='Val Loss')\n",
    "plt.legend();"
   ]
  },
  {
   "cell_type": "markdown",
   "metadata": {},
   "source": [
    "# OTHERS"
   ]
  },
  {
   "cell_type": "markdown",
   "metadata": {},
   "source": [
    "## 6. LSTM"
   ]
  },
  {
   "cell_type": "code",
   "execution_count": 19,
   "metadata": {
    "ExecuteTime": {
     "end_time": "2021-01-14T01:18:29.885574Z",
     "start_time": "2021-01-14T01:18:29.674285Z"
    }
   },
   "outputs": [
    {
     "name": "stdout",
     "output_type": "stream",
     "text": [
      "Model: \"sequential_1\"\n",
      "_________________________________________________________________\n",
      "Layer (type)                 Output Shape              Param #   \n",
      "=================================================================\n",
      "embedding_1 (Embedding)      (None, 125, 32)           518400    \n",
      "_________________________________________________________________\n",
      "spatial_dropout1d_1 (Spatial (None, 125, 32)           0         \n",
      "_________________________________________________________________\n",
      "lstm_1 (LSTM)                (None, 50)                16600     \n",
      "_________________________________________________________________\n",
      "dropout_1 (Dropout)          (None, 50)                0         \n",
      "_________________________________________________________________\n",
      "dense_1 (Dense)              (None, 5)                 255       \n",
      "=================================================================\n",
      "Total params: 535,255\n",
      "Trainable params: 535,255\n",
      "Non-trainable params: 0\n",
      "_________________________________________________________________\n",
      "None\n"
     ]
    }
   ],
   "source": [
    "embedding_vector_length = 32\n",
    "\n",
    "model = Sequential()\n",
    "model.add(Embedding(vocab_size, embedding_vector_length, input_length=max_len))\n",
    "model.add(SpatialDropout1D(0.25))\n",
    "model.add(LSTM(50, dropout=0.5, recurrent_dropout=0.5))\n",
    "model.add(Dropout(0.2))\n",
    "model.add(Dense(5, activation='softmax'))\n",
    "model.compile(loss='categorical_crossentropy', optimizer='adam',metrics=['accuracy'])\n",
    "\n",
    "print(model.summary())"
   ]
  },
  {
   "cell_type": "code",
   "execution_count": 51,
   "metadata": {
    "ExecuteTime": {
     "end_time": "2021-01-14T02:14:36.666699Z",
     "start_time": "2021-01-14T02:14:36.644730Z"
    }
   },
   "outputs": [],
   "source": [
    "scores = nn_df[['score']].copy()\n",
    "\n",
    "enc = OneHotEncoder()\n",
    "scores_cat = enc.fit_transform(scores).toarray()"
   ]
  },
  {
   "cell_type": "code",
   "execution_count": 23,
   "metadata": {
    "ExecuteTime": {
     "end_time": "2021-01-14T01:50:11.868260Z",
     "start_time": "2021-01-14T01:50:11.749534Z"
    }
   },
   "outputs": [],
   "source": [
    "from tensorflow.keras.callbacks import EarlyStopping"
   ]
  },
  {
   "cell_type": "code",
   "execution_count": 24,
   "metadata": {
    "ExecuteTime": {
     "end_time": "2021-01-14T01:54:16.973792Z",
     "start_time": "2021-01-14T01:50:12.310934Z"
    }
   },
   "outputs": [
    {
     "name": "stdout",
     "output_type": "stream",
     "text": [
      "Epoch 1/10\n",
      "662/662 [==============================] - 55s 83ms/step - loss: 0.6255 - accuracy: 0.7633 - val_loss: 0.7371 - val_accuracy: 0.7245\n",
      "Epoch 2/10\n",
      "662/662 [==============================] - 58s 88ms/step - loss: 0.6049 - accuracy: 0.7729 - val_loss: 0.7633 - val_accuracy: 0.7254\n",
      "Epoch 3/10\n",
      "662/662 [==============================] - 64s 96ms/step - loss: 0.5929 - accuracy: 0.7756 - val_loss: 0.7939 - val_accuracy: 0.7349\n",
      "Epoch 4/10\n",
      "662/662 [==============================] - 68s 102ms/step - loss: 0.5768 - accuracy: 0.7814 - val_loss: 0.7739 - val_accuracy: 0.7326\n"
     ]
    }
   ],
   "source": [
    "earlystop_callback = EarlyStopping(monitor='val_loss', min_delta=0, patience=3)\n",
    "\n",
    "history = model.fit(padded_sequence, scores_cat, validation_split=0.2, \n",
    "                    epochs=10, batch_size=32, callbacks=[earlystop_callback])"
   ]
  },
  {
   "cell_type": "code",
   "execution_count": 25,
   "metadata": {
    "ExecuteTime": {
     "end_time": "2021-01-14T01:54:17.194205Z",
     "start_time": "2021-01-14T01:54:16.975788Z"
    }
   },
   "outputs": [
    {
     "data": {
      "image/png": "[encoded data removed]",
      "text/plain": [
       "<Figure size 432x288 with 1 Axes>"
      ]
     },
     "metadata": {
      "needs_background": "light"
     },
     "output_type": "display_data"
    }
   ],
   "source": [
    "plt.plot(history.history['loss'], label='Train loss')\n",
    "plt.plot(history.history['val_loss'], label='Val Loss')\n",
    "plt.legend();"
   ]
  },
  {
   "cell_type": "code",
   "execution_count": 26,
   "metadata": {
    "ExecuteTime": {
     "end_time": "2021-01-14T01:56:22.201787Z",
     "start_time": "2021-01-14T01:56:15.225495Z"
    },
    "scrolled": true
   },
   "outputs": [
    {
     "data": {
      "text/html": [
       "<div>\n",
       "<style scoped>\n",
       "    .dataframe tbody tr th:only-of-type {\n",
       "        vertical-align: middle;\n",
       "    }\n",
       "\n",
       "    .dataframe tbody tr th {\n",
       "        vertical-align: top;\n",
       "    }\n",
       "\n",
       "    .dataframe thead th {\n",
       "        text-align: right;\n",
       "    }\n",
       "</style>\n",
       "<table border=\"1\" class=\"dataframe\">\n",
       "  <thead>\n",
       "    <tr style=\"text-align: right;\">\n",
       "      <th></th>\n",
       "      <th>1</th>\n",
       "      <th>2</th>\n",
       "      <th>3</th>\n",
       "      <th>4</th>\n",
       "      <th>5</th>\n",
       "    </tr>\n",
       "  </thead>\n",
       "  <tbody>\n",
       "    <tr>\n",
       "      <th>0</th>\n",
       "      <td>0.002147</td>\n",
       "      <td>0.000956</td>\n",
       "      <td>0.005166</td>\n",
       "      <td>0.081798</td>\n",
       "      <td>0.909932</td>\n",
       "    </tr>\n",
       "    <tr>\n",
       "      <th>1</th>\n",
       "      <td>0.001294</td>\n",
       "      <td>0.000639</td>\n",
       "      <td>0.004146</td>\n",
       "      <td>0.083502</td>\n",
       "      <td>0.910419</td>\n",
       "    </tr>\n",
       "    <tr>\n",
       "      <th>2</th>\n",
       "      <td>0.000138</td>\n",
       "      <td>0.000047</td>\n",
       "      <td>0.000299</td>\n",
       "      <td>0.015541</td>\n",
       "      <td>0.983976</td>\n",
       "    </tr>\n",
       "    <tr>\n",
       "      <th>3</th>\n",
       "      <td>0.000185</td>\n",
       "      <td>0.000050</td>\n",
       "      <td>0.000213</td>\n",
       "      <td>0.008002</td>\n",
       "      <td>0.991551</td>\n",
       "    </tr>\n",
       "    <tr>\n",
       "      <th>4</th>\n",
       "      <td>0.000108</td>\n",
       "      <td>0.000025</td>\n",
       "      <td>0.000099</td>\n",
       "      <td>0.003634</td>\n",
       "      <td>0.996135</td>\n",
       "    </tr>\n",
       "  </tbody>\n",
       "</table>\n",
       "</div>"
      ],
      "text/plain": [
       "          1         2         3         4         5\n",
       "0  0.002147  0.000956  0.005166  0.081798  0.909932\n",
       "1  0.001294  0.000639  0.004146  0.083502  0.910419\n",
       "2  0.000138  0.000047  0.000299  0.015541  0.983976\n",
       "3  0.000185  0.000050  0.000213  0.008002  0.991551\n",
       "4  0.000108  0.000025  0.000099  0.003634  0.996135"
      ]
     },
     "execution_count": 26,
     "metadata": {},
     "output_type": "execute_result"
    }
   ],
   "source": [
    "probability = model.predict(padded_sequence)\n",
    "probability_df = pd.DataFrame(probability)\n",
    "probability_df.columns = ['1','2','3','4','5']\n",
    "probability_df.head()"
   ]
  },
  {
   "cell_type": "code",
   "execution_count": 27,
   "metadata": {
    "ExecuteTime": {
     "end_time": "2021-01-14T01:56:22.217744Z",
     "start_time": "2021-01-14T01:56:22.204779Z"
    }
   },
   "outputs": [],
   "source": [
    "def find_prediction(row):\n",
    "    max_value = row.max()\n",
    "    \n",
    "    if row['1'] == max_value:\n",
    "        return 1\n",
    "    elif row['2'] == max_value:\n",
    "        return 2\n",
    "    elif row['3'] == max_value:\n",
    "        return 3\n",
    "    elif row['4'] == max_value:\n",
    "        return 4\n",
    "    elif row['5'] == max_value:\n",
    "        return 5"
   ]
  },
  {
   "cell_type": "code",
   "execution_count": 28,
   "metadata": {
    "ExecuteTime": {
     "end_time": "2021-01-14T01:56:23.563269Z",
     "start_time": "2021-01-14T01:56:22.221734Z"
    }
   },
   "outputs": [
    {
     "data": {
      "text/html": [
       "<div>\n",
       "<style scoped>\n",
       "    .dataframe tbody tr th:only-of-type {\n",
       "        vertical-align: middle;\n",
       "    }\n",
       "\n",
       "    .dataframe tbody tr th {\n",
       "        vertical-align: top;\n",
       "    }\n",
       "\n",
       "    .dataframe thead th {\n",
       "        text-align: right;\n",
       "    }\n",
       "</style>\n",
       "<table border=\"1\" class=\"dataframe\">\n",
       "  <thead>\n",
       "    <tr style=\"text-align: right;\">\n",
       "      <th></th>\n",
       "      <th>1</th>\n",
       "      <th>2</th>\n",
       "      <th>3</th>\n",
       "      <th>4</th>\n",
       "      <th>5</th>\n",
       "      <th>pred</th>\n",
       "    </tr>\n",
       "  </thead>\n",
       "  <tbody>\n",
       "    <tr>\n",
       "      <th>0</th>\n",
       "      <td>0.002147</td>\n",
       "      <td>0.000956</td>\n",
       "      <td>0.005166</td>\n",
       "      <td>0.081798</td>\n",
       "      <td>0.909932</td>\n",
       "      <td>5</td>\n",
       "    </tr>\n",
       "    <tr>\n",
       "      <th>1</th>\n",
       "      <td>0.001294</td>\n",
       "      <td>0.000639</td>\n",
       "      <td>0.004146</td>\n",
       "      <td>0.083502</td>\n",
       "      <td>0.910419</td>\n",
       "      <td>5</td>\n",
       "    </tr>\n",
       "    <tr>\n",
       "      <th>2</th>\n",
       "      <td>0.000138</td>\n",
       "      <td>0.000047</td>\n",
       "      <td>0.000299</td>\n",
       "      <td>0.015541</td>\n",
       "      <td>0.983976</td>\n",
       "      <td>5</td>\n",
       "    </tr>\n",
       "    <tr>\n",
       "      <th>3</th>\n",
       "      <td>0.000185</td>\n",
       "      <td>0.000050</td>\n",
       "      <td>0.000213</td>\n",
       "      <td>0.008002</td>\n",
       "      <td>0.991551</td>\n",
       "      <td>5</td>\n",
       "    </tr>\n",
       "    <tr>\n",
       "      <th>4</th>\n",
       "      <td>0.000108</td>\n",
       "      <td>0.000025</td>\n",
       "      <td>0.000099</td>\n",
       "      <td>0.003634</td>\n",
       "      <td>0.996135</td>\n",
       "      <td>5</td>\n",
       "    </tr>\n",
       "    <tr>\n",
       "      <th>5</th>\n",
       "      <td>0.000540</td>\n",
       "      <td>0.000159</td>\n",
       "      <td>0.000704</td>\n",
       "      <td>0.013832</td>\n",
       "      <td>0.984765</td>\n",
       "      <td>5</td>\n",
       "    </tr>\n",
       "    <tr>\n",
       "      <th>6</th>\n",
       "      <td>0.002256</td>\n",
       "      <td>0.000747</td>\n",
       "      <td>0.002011</td>\n",
       "      <td>0.025352</td>\n",
       "      <td>0.969633</td>\n",
       "      <td>5</td>\n",
       "    </tr>\n",
       "    <tr>\n",
       "      <th>7</th>\n",
       "      <td>0.001328</td>\n",
       "      <td>0.000563</td>\n",
       "      <td>0.002983</td>\n",
       "      <td>0.064640</td>\n",
       "      <td>0.930486</td>\n",
       "      <td>5</td>\n",
       "    </tr>\n",
       "    <tr>\n",
       "      <th>8</th>\n",
       "      <td>0.914152</td>\n",
       "      <td>0.035656</td>\n",
       "      <td>0.018091</td>\n",
       "      <td>0.006120</td>\n",
       "      <td>0.025981</td>\n",
       "      <td>1</td>\n",
       "    </tr>\n",
       "    <tr>\n",
       "      <th>9</th>\n",
       "      <td>0.034857</td>\n",
       "      <td>0.079157</td>\n",
       "      <td>0.269308</td>\n",
       "      <td>0.407788</td>\n",
       "      <td>0.208891</td>\n",
       "      <td>4</td>\n",
       "    </tr>\n",
       "  </tbody>\n",
       "</table>\n",
       "</div>"
      ],
      "text/plain": [
       "          1         2         3         4         5  pred\n",
       "0  0.002147  0.000956  0.005166  0.081798  0.909932     5\n",
       "1  0.001294  0.000639  0.004146  0.083502  0.910419     5\n",
       "2  0.000138  0.000047  0.000299  0.015541  0.983976     5\n",
       "3  0.000185  0.000050  0.000213  0.008002  0.991551     5\n",
       "4  0.000108  0.000025  0.000099  0.003634  0.996135     5\n",
       "5  0.000540  0.000159  0.000704  0.013832  0.984765     5\n",
       "6  0.002256  0.000747  0.002011  0.025352  0.969633     5\n",
       "7  0.001328  0.000563  0.002983  0.064640  0.930486     5\n",
       "8  0.914152  0.035656  0.018091  0.006120  0.025981     1\n",
       "9  0.034857  0.079157  0.269308  0.407788  0.208891     4"
      ]
     },
     "execution_count": 28,
     "metadata": {},
     "output_type": "execute_result"
    }
   ],
   "source": [
    "probability_df['pred'] = probability_df.apply(lambda x: find_prediction(x), axis = 1)\n",
    "\n",
    "probability_df.head(10)"
   ]
  },
  {
   "cell_type": "code",
   "execution_count": 29,
   "metadata": {
    "ExecuteTime": {
     "end_time": "2021-01-14T01:56:23.906335Z",
     "start_time": "2021-01-14T01:56:23.565224Z"
    }
   },
   "outputs": [
    {
     "data": {
      "image/png": "[encoded data removed]",
      "text/plain": [
       "<Figure size 504x396 with 2 Axes>"
      ]
     },
     "metadata": {
      "needs_background": "light"
     },
     "output_type": "display_data"
    }
   ],
   "source": [
    "cm = confusion_matrix(scores['score'], probability_df['pred'])\n",
    "\n",
    "plt.figure(figsize = (7, 5.5))\n",
    "sns.heatmap(cm, annot = True, fmt = '.5g', cmap = 'coolwarm', xticklabels = [1,2,3,4,5], yticklabels = [1,2,3,4,5])\n",
    "plt.title('Confusion Matrix', fontsize = 15)\n",
    "plt.ylabel('True Label')\n",
    "plt.xlabel('Predicted Label')\n",
    "plt.show()"
   ]
  },
  {
   "cell_type": "markdown",
   "metadata": {},
   "source": [
    "## 7. LSTM (3 Categories) \n",
    "\n",
    "Trying with Positive, Neutral and Negative"
   ]
  },
  {
   "cell_type": "code",
   "execution_count": 94,
   "metadata": {
    "ExecuteTime": {
     "end_time": "2021-01-14T03:21:23.520628Z",
     "start_time": "2021-01-14T03:21:23.508482Z"
    }
   },
   "outputs": [],
   "source": [
    "def positive_neutral_negative(score):\n",
    "    if score < 3:\n",
    "        return -1\n",
    "    if score ==  3:\n",
    "        return 0\n",
    "    if score > 3:\n",
    "        return 1"
   ]
  },
  {
   "cell_type": "code",
   "execution_count": 95,
   "metadata": {
    "ExecuteTime": {
     "end_time": "2021-01-14T03:21:23.932518Z",
     "start_time": "2021-01-14T03:21:23.909540Z"
    }
   },
   "outputs": [],
   "source": [
    "scores['pnn'] = scores['score'].apply(lambda x: positive_neutral_negative(x))"
   ]
  },
  {
   "cell_type": "code",
   "execution_count": 96,
   "metadata": {
    "ExecuteTime": {
     "end_time": "2021-01-14T03:21:24.387991Z",
     "start_time": "2021-01-14T03:21:24.369007Z"
    }
   },
   "outputs": [],
   "source": [
    "enc = OneHotEncoder()\n",
    "scores_cat = enc.fit_transform(scores[['pnn']]).toarray()"
   ]
  },
  {
   "cell_type": "code",
   "execution_count": 97,
   "metadata": {
    "ExecuteTime": {
     "end_time": "2021-01-14T03:21:25.543102Z",
     "start_time": "2021-01-14T03:21:25.322241Z"
    }
   },
   "outputs": [
    {
     "name": "stdout",
     "output_type": "stream",
     "text": [
      "Model: \"sequential_9\"\n",
      "_________________________________________________________________\n",
      "Layer (type)                 Output Shape              Param #   \n",
      "=================================================================\n",
      "embedding_9 (Embedding)      (None, 125, 32)           518400    \n",
      "_________________________________________________________________\n",
      "spatial_dropout1d_9 (Spatial (None, 125, 32)           0         \n",
      "_________________________________________________________________\n",
      "lstm_9 (LSTM)                (None, 50)                16600     \n",
      "_________________________________________________________________\n",
      "dropout_9 (Dropout)          (None, 50)                0         \n",
      "_________________________________________________________________\n",
      "dense_9 (Dense)              (None, 3)                 153       \n",
      "=================================================================\n",
      "Total params: 535,153\n",
      "Trainable params: 535,153\n",
      "Non-trainable params: 0\n",
      "_________________________________________________________________\n",
      "None\n"
     ]
    }
   ],
   "source": [
    "embedding_vector_length = 32\n",
    "\n",
    "model = Sequential()\n",
    "model.add(Embedding(vocab_size, embedding_vector_length, input_length=max_len))\n",
    "model.add(SpatialDropout1D(0.25))\n",
    "model.add(LSTM(50, dropout=0.5, recurrent_dropout=0.5))\n",
    "model.add(Dropout(0.2))\n",
    "model.add(Dense(3, activation='softmax'))\n",
    "model.compile(loss='categorical_crossentropy', optimizer='adam',metrics=['AUC'])\n",
    "\n",
    "print(model.summary())"
   ]
  },
  {
   "cell_type": "code",
   "execution_count": 98,
   "metadata": {
    "ExecuteTime": {
     "end_time": "2021-01-14T03:29:00.934275Z",
     "start_time": "2021-01-14T03:21:26.472462Z"
    }
   },
   "outputs": [
    {
     "name": "stdout",
     "output_type": "stream",
     "text": [
      "Epoch 1/10\n",
      "662/662 [==============================] - 57s 85ms/step - loss: 2.0944 - auc: 0.8191 - val_loss: 0.6913 - val_auc: 0.8782\n",
      "Epoch 2/10\n",
      "662/662 [==============================] - 62s 94ms/step - loss: 1.7918 - auc: 0.8945 - val_loss: 0.7461 - val_auc: 0.8519\n",
      "Epoch 3/10\n",
      "662/662 [==============================] - 67s 100ms/step - loss: 1.6366 - auc: 0.9127 - val_loss: 0.5984 - val_auc: 0.9123\n",
      "Epoch 4/10\n",
      "662/662 [==============================] - 67s 101ms/step - loss: 1.4924 - auc: 0.9258 - val_loss: 0.5366 - val_auc: 0.9252\n",
      "Epoch 5/10\n",
      "662/662 [==============================] - 67s 101ms/step - loss: 1.3891 - auc: 0.9319 - val_loss: 0.6303 - val_auc: 0.9092\n",
      "Epoch 6/10\n",
      "662/662 [==============================] - 67s 101ms/step - loss: 1.3082 - auc: 0.9389 - val_loss: 0.5790 - val_auc: 0.9215\n",
      "Epoch 7/10\n",
      "662/662 [==============================] - 66s 100ms/step - loss: 1.2383 - auc: 0.9414 - val_loss: 0.7734 - val_auc: 0.8589\n"
     ]
    }
   ],
   "source": [
    "earlystop_callback = EarlyStopping(monitor='val_loss', min_delta=0, patience=3)\n",
    "\n",
    "history = model.fit(padded_sequence, scores_cat, validation_split=0.2, \n",
    "                    epochs=10, batch_size=32, callbacks=[earlystop_callback],\n",
    "                    class_weight={0: 19305/4054, 1: 19305/1641, 2: 19305/19305})"
   ]
  },
  {
   "cell_type": "code",
   "execution_count": 99,
   "metadata": {
    "ExecuteTime": {
     "end_time": "2021-01-14T03:29:01.182986Z",
     "start_time": "2021-01-14T03:29:00.940260Z"
    }
   },
   "outputs": [
    {
     "data": {
      "image/png": "[encoded data removed]",
      "text/plain": [
       "<Figure size 432x288 with 1 Axes>"
      ]
     },
     "metadata": {
      "needs_background": "light"
     },
     "output_type": "display_data"
    }
   ],
   "source": [
    "plt.plot(history.history['loss'], label='Train loss')\n",
    "plt.plot(history.history['val_loss'], label='Val Loss')\n",
    "plt.legend();"
   ]
  },
  {
   "cell_type": "code",
   "execution_count": 100,
   "metadata": {
    "ExecuteTime": {
     "end_time": "2021-01-14T03:29:10.681684Z",
     "start_time": "2021-01-14T03:29:01.186981Z"
    },
    "scrolled": true
   },
   "outputs": [],
   "source": [
    "probability = model.predict(padded_sequence)\n",
    "probability_df = pd.DataFrame(probability)"
   ]
  },
  {
   "cell_type": "code",
   "execution_count": 101,
   "metadata": {
    "ExecuteTime": {
     "end_time": "2021-01-14T03:29:10.697151Z",
     "start_time": "2021-01-14T03:29:10.683673Z"
    }
   },
   "outputs": [
    {
     "data": {
      "text/html": [
       "<div>\n",
       "<style scoped>\n",
       "    .dataframe tbody tr th:only-of-type {\n",
       "        vertical-align: middle;\n",
       "    }\n",
       "\n",
       "    .dataframe tbody tr th {\n",
       "        vertical-align: top;\n",
       "    }\n",
       "\n",
       "    .dataframe thead th {\n",
       "        text-align: right;\n",
       "    }\n",
       "</style>\n",
       "<table border=\"1\" class=\"dataframe\">\n",
       "  <thead>\n",
       "    <tr style=\"text-align: right;\">\n",
       "      <th></th>\n",
       "      <th>0</th>\n",
       "      <th>1</th>\n",
       "      <th>2</th>\n",
       "    </tr>\n",
       "  </thead>\n",
       "  <tbody>\n",
       "    <tr>\n",
       "      <th>0</th>\n",
       "      <td>0.062604</td>\n",
       "      <td>0.538838</td>\n",
       "      <td>0.398559</td>\n",
       "    </tr>\n",
       "    <tr>\n",
       "      <th>1</th>\n",
       "      <td>0.006543</td>\n",
       "      <td>0.027045</td>\n",
       "      <td>0.966412</td>\n",
       "    </tr>\n",
       "    <tr>\n",
       "      <th>2</th>\n",
       "      <td>0.000775</td>\n",
       "      <td>0.003888</td>\n",
       "      <td>0.995337</td>\n",
       "    </tr>\n",
       "    <tr>\n",
       "      <th>3</th>\n",
       "      <td>0.001274</td>\n",
       "      <td>0.003474</td>\n",
       "      <td>0.995252</td>\n",
       "    </tr>\n",
       "    <tr>\n",
       "      <th>4</th>\n",
       "      <td>0.001330</td>\n",
       "      <td>0.004800</td>\n",
       "      <td>0.993870</td>\n",
       "    </tr>\n",
       "  </tbody>\n",
       "</table>\n",
       "</div>"
      ],
      "text/plain": [
       "          0         1         2\n",
       "0  0.062604  0.538838  0.398559\n",
       "1  0.006543  0.027045  0.966412\n",
       "2  0.000775  0.003888  0.995337\n",
       "3  0.001274  0.003474  0.995252\n",
       "4  0.001330  0.004800  0.993870"
      ]
     },
     "execution_count": 101,
     "metadata": {},
     "output_type": "execute_result"
    }
   ],
   "source": [
    "probability_df.columns = ['0','1','2']\n",
    "probability_df.head()"
   ]
  },
  {
   "cell_type": "code",
   "execution_count": 102,
   "metadata": {
    "ExecuteTime": {
     "end_time": "2021-01-14T03:29:10.712622Z",
     "start_time": "2021-01-14T03:29:10.698671Z"
    }
   },
   "outputs": [],
   "source": [
    "def find_prediction(row):\n",
    "    max_value = row.max()\n",
    "    \n",
    "    if row['0'] == max_value:\n",
    "        return -1\n",
    "    elif row['1'] == max_value:\n",
    "        return 0\n",
    "    elif row['2'] == max_value:\n",
    "        return 1"
   ]
  },
  {
   "cell_type": "code",
   "execution_count": 103,
   "metadata": {
    "ExecuteTime": {
     "end_time": "2021-01-14T03:29:11.867435Z",
     "start_time": "2021-01-14T03:29:10.714619Z"
    }
   },
   "outputs": [
    {
     "data": {
      "text/html": [
       "<div>\n",
       "<style scoped>\n",
       "    .dataframe tbody tr th:only-of-type {\n",
       "        vertical-align: middle;\n",
       "    }\n",
       "\n",
       "    .dataframe tbody tr th {\n",
       "        vertical-align: top;\n",
       "    }\n",
       "\n",
       "    .dataframe thead th {\n",
       "        text-align: right;\n",
       "    }\n",
       "</style>\n",
       "<table border=\"1\" class=\"dataframe\">\n",
       "  <thead>\n",
       "    <tr style=\"text-align: right;\">\n",
       "      <th></th>\n",
       "      <th>0</th>\n",
       "      <th>1</th>\n",
       "      <th>2</th>\n",
       "      <th>pred</th>\n",
       "    </tr>\n",
       "  </thead>\n",
       "  <tbody>\n",
       "    <tr>\n",
       "      <th>0</th>\n",
       "      <td>0.062604</td>\n",
       "      <td>0.538838</td>\n",
       "      <td>0.398559</td>\n",
       "      <td>0</td>\n",
       "    </tr>\n",
       "    <tr>\n",
       "      <th>1</th>\n",
       "      <td>0.006543</td>\n",
       "      <td>0.027045</td>\n",
       "      <td>0.966412</td>\n",
       "      <td>1</td>\n",
       "    </tr>\n",
       "    <tr>\n",
       "      <th>2</th>\n",
       "      <td>0.000775</td>\n",
       "      <td>0.003888</td>\n",
       "      <td>0.995337</td>\n",
       "      <td>1</td>\n",
       "    </tr>\n",
       "    <tr>\n",
       "      <th>3</th>\n",
       "      <td>0.001274</td>\n",
       "      <td>0.003474</td>\n",
       "      <td>0.995252</td>\n",
       "      <td>1</td>\n",
       "    </tr>\n",
       "    <tr>\n",
       "      <th>4</th>\n",
       "      <td>0.001330</td>\n",
       "      <td>0.004800</td>\n",
       "      <td>0.993870</td>\n",
       "      <td>1</td>\n",
       "    </tr>\n",
       "    <tr>\n",
       "      <th>5</th>\n",
       "      <td>0.025980</td>\n",
       "      <td>0.133576</td>\n",
       "      <td>0.840444</td>\n",
       "      <td>1</td>\n",
       "    </tr>\n",
       "    <tr>\n",
       "      <th>6</th>\n",
       "      <td>0.043854</td>\n",
       "      <td>0.177502</td>\n",
       "      <td>0.778644</td>\n",
       "      <td>1</td>\n",
       "    </tr>\n",
       "    <tr>\n",
       "      <th>7</th>\n",
       "      <td>0.000902</td>\n",
       "      <td>0.006419</td>\n",
       "      <td>0.992679</td>\n",
       "      <td>1</td>\n",
       "    </tr>\n",
       "    <tr>\n",
       "      <th>8</th>\n",
       "      <td>0.917334</td>\n",
       "      <td>0.062009</td>\n",
       "      <td>0.020657</td>\n",
       "      <td>-1</td>\n",
       "    </tr>\n",
       "    <tr>\n",
       "      <th>9</th>\n",
       "      <td>0.073933</td>\n",
       "      <td>0.870430</td>\n",
       "      <td>0.055636</td>\n",
       "      <td>0</td>\n",
       "    </tr>\n",
       "  </tbody>\n",
       "</table>\n",
       "</div>"
      ],
      "text/plain": [
       "          0         1         2  pred\n",
       "0  0.062604  0.538838  0.398559     0\n",
       "1  0.006543  0.027045  0.966412     1\n",
       "2  0.000775  0.003888  0.995337     1\n",
       "3  0.001274  0.003474  0.995252     1\n",
       "4  0.001330  0.004800  0.993870     1\n",
       "5  0.025980  0.133576  0.840444     1\n",
       "6  0.043854  0.177502  0.778644     1\n",
       "7  0.000902  0.006419  0.992679     1\n",
       "8  0.917334  0.062009  0.020657    -1\n",
       "9  0.073933  0.870430  0.055636     0"
      ]
     },
     "execution_count": 103,
     "metadata": {},
     "output_type": "execute_result"
    }
   ],
   "source": [
    "probability_df['pred'] = probability_df.apply(lambda x: find_prediction(x), axis = 1)\n",
    "\n",
    "probability_df.head(10)"
   ]
  },
  {
   "cell_type": "code",
   "execution_count": 104,
   "metadata": {
    "ExecuteTime": {
     "end_time": "2021-01-14T03:29:12.074220Z",
     "start_time": "2021-01-14T03:29:11.869079Z"
    }
   },
   "outputs": [
    {
     "data": {
      "image/png": "[encoded data removed]",
      "text/plain": [
       "<Figure size 504x396 with 2 Axes>"
      ]
     },
     "metadata": {
      "needs_background": "light"
     },
     "output_type": "display_data"
    }
   ],
   "source": [
    "cm = confusion_matrix(scores['pnn'], probability_df['pred'])\n",
    "\n",
    "plt.figure(figsize = (7, 5.5))\n",
    "sns.heatmap(cm, annot = True, fmt = '.5g', cmap = 'coolwarm', xticklabels = [-1,0,1], yticklabels = [-1,0,1])\n",
    "plt.title('Confusion Matrix', fontsize = 15)\n",
    "plt.ylabel('True Label')\n",
    "plt.xlabel('Predicted Label')\n",
    "plt.show()"
   ]
  }
 ],
 "metadata": {
  "kernelspec": {
   "display_name": "Python 3",
   "language": "python",
   "name": "python3"
  },
  "language_info": {
   "codemirror_mode": {
    "name": "ipython",
    "version": 3
   },
   "file_extension": ".py",
   "mimetype": "text/x-python",
   "name": "python",
   "nbconvert_exporter": "python",
   "pygments_lexer": "ipython3",
   "version": "3.8.5"
  },
  "toc": {
   "base_numbering": 1,
   "nav_menu": {},
   "number_sections": false,
   "sideBar": true,
   "skip_h1_title": false,
   "title_cell": "Table of Contents",
   "title_sidebar": "Contents",
   "toc_cell": false,
   "toc_position": {
    "height": "542.4px",
    "left": "1152px",
    "top": "155.533px",
    "width": "384px"
   },
   "toc_section_display": true,
   "toc_window_display": true
  }
 },
 "nbformat": 4,
 "nbformat_minor": 4
}
