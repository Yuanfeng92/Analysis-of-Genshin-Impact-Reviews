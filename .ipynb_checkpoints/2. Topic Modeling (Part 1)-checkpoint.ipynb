{
 "cells": [
  {
   "cell_type": "markdown",
   "metadata": {},
   "source": [
    "# Genshin Impact Reviews Analysis\n",
    "## 2. Topic Modeling (Part 1)\n",
    "\n",
    "In this notebook, I will use the technique of topic modeling to split the reviews into general topics/categories that can be then sent to different team for their analysis."
   ]
  },
  {
   "cell_type": "markdown",
   "metadata": {},
   "source": [
    "# Import Libraries and Datasets"
   ]
  },
  {
   "cell_type": "code",
   "execution_count": 1,
   "metadata": {
    "ExecuteTime": {
     "end_time": "2021-01-19T07:48:03.660918Z",
     "start_time": "2021-01-19T07:47:57.843447Z"
    }
   },
   "outputs": [],
   "source": [
    "import numpy as np\n",
    "import pandas as pd\n",
    "import math\n",
    "\n",
    "import gensim, spacy\n",
    "import gensim.corpora as corpora\n",
    "from gensim.utils import simple_preprocess\n",
    "from gensim.models import CoherenceModel\n",
    "\n",
    "import nltk\n",
    "from nltk.corpus import wordnet\n",
    "from nltk.stem import WordNetLemmatizer\n",
    "from nltk.tokenize import TweetTokenizer\n",
    "from nltk.corpus import stopwords\n",
    "stop_words = set(stopwords.words('english'))\n",
    "stop_words.update([\"game\", \"just\", \"play\", \"would\", \"could\"])\n",
    "\n",
    "import matplotlib.pyplot as plt"
   ]
  },
  {
   "cell_type": "code",
   "execution_count": 2,
   "metadata": {
    "ExecuteTime": {
     "end_time": "2021-01-19T07:48:04.454495Z",
     "start_time": "2021-01-19T07:48:03.662880Z"
    }
   },
   "outputs": [],
   "source": [
    "# Import Dataset\n",
    "df = pd.read_pickle('data/final_df.p')"
   ]
  },
  {
   "cell_type": "code",
   "execution_count": 3,
   "metadata": {
    "ExecuteTime": {
     "end_time": "2021-01-19T07:48:04.500953Z",
     "start_time": "2021-01-19T07:48:04.456980Z"
    }
   },
   "outputs": [
    {
     "data": {
      "text/html": [
       "<div>\n",
       "<style scoped>\n",
       "    .dataframe tbody tr th:only-of-type {\n",
       "        vertical-align: middle;\n",
       "    }\n",
       "\n",
       "    .dataframe tbody tr th {\n",
       "        vertical-align: top;\n",
       "    }\n",
       "\n",
       "    .dataframe thead th {\n",
       "        text-align: right;\n",
       "    }\n",
       "</style>\n",
       "<table border=\"1\" class=\"dataframe\">\n",
       "  <thead>\n",
       "    <tr style=\"text-align: right;\">\n",
       "      <th></th>\n",
       "      <th>content</th>\n",
       "      <th>score</th>\n",
       "      <th>date</th>\n",
       "      <th>thumbsUp</th>\n",
       "      <th>source</th>\n",
       "      <th>text</th>\n",
       "      <th>length</th>\n",
       "      <th>update</th>\n",
       "    </tr>\n",
       "  </thead>\n",
       "  <tbody>\n",
       "    <tr>\n",
       "      <th>0</th>\n",
       "      <td>The graphics are gorgeous, the gameplay is incredibly smooth, and I love that there's no \"wrong\"...</td>\n",
       "      <td>5</td>\n",
       "      <td>2020-12-11 13:55:29</td>\n",
       "      <td>881.0</td>\n",
       "      <td>google_play_store</td>\n",
       "      <td>[the, graphics, are, gorgeous, the, gameplay, is, incredibly, smooth, and, i, love, that, there,...</td>\n",
       "      <td>84</td>\n",
       "      <td>1.1.2</td>\n",
       "    </tr>\n",
       "    <tr>\n",
       "      <th>1</th>\n",
       "      <td>If you love free world RPG, then this is it! This is the game, you have been searching for... Gr...</td>\n",
       "      <td>5</td>\n",
       "      <td>2020-12-16 18:10:47</td>\n",
       "      <td>48.0</td>\n",
       "      <td>google_play_store</td>\n",
       "      <td>[if, you, love, free, world, rpg, then, this, is, it, this, is, the, game, you, have, been, sear...</td>\n",
       "      <td>94</td>\n",
       "      <td>1.1.2</td>\n",
       "    </tr>\n",
       "    <tr>\n",
       "      <th>2</th>\n",
       "      <td>I absolutely love the game! No complaints besides (not even a complaint) that when I turn to a c...</td>\n",
       "      <td>5</td>\n",
       "      <td>2020-12-16 00:18:43</td>\n",
       "      <td>185.0</td>\n",
       "      <td>google_play_store</td>\n",
       "      <td>[i, absolutely, love, the, game, no, complaints, besides, not, even, a, complaint, that, when, i...</td>\n",
       "      <td>75</td>\n",
       "      <td>1.1.2</td>\n",
       "    </tr>\n",
       "    <tr>\n",
       "      <th>3</th>\n",
       "      <td>Great game. Regardless of ripoff issues and such, this is by far the greatest mobile game that w...</td>\n",
       "      <td>4</td>\n",
       "      <td>2020-12-16 12:46:11</td>\n",
       "      <td>1.0</td>\n",
       "      <td>google_play_store</td>\n",
       "      <td>[great, game, regardless, of, ripoff, issues, and, such, this, is, by, far, the, greatest, mobil...</td>\n",
       "      <td>88</td>\n",
       "      <td>1.1.2</td>\n",
       "    </tr>\n",
       "    <tr>\n",
       "      <th>4</th>\n",
       "      <td>Amazing graphics and gameplay although a lot of GB it's worth it absolutely extraordinary ( ꈍᴗꈍ)...</td>\n",
       "      <td>5</td>\n",
       "      <td>2020-12-10 22:51:08</td>\n",
       "      <td>186.0</td>\n",
       "      <td>google_play_store</td>\n",
       "      <td>[amazing, graphics, and, gameplay, although, a, lot, of, gb, it, s, worth, it, absolutely, extra...</td>\n",
       "      <td>86</td>\n",
       "      <td>1.1.2</td>\n",
       "    </tr>\n",
       "  </tbody>\n",
       "</table>\n",
       "</div>"
      ],
      "text/plain": [
       "                                                                                               content  \\\n",
       "0  The graphics are gorgeous, the gameplay is incredibly smooth, and I love that there's no \"wrong\"...   \n",
       "1  If you love free world RPG, then this is it! This is the game, you have been searching for... Gr...   \n",
       "2  I absolutely love the game! No complaints besides (not even a complaint) that when I turn to a c...   \n",
       "3  Great game. Regardless of ripoff issues and such, this is by far the greatest mobile game that w...   \n",
       "4  Amazing graphics and gameplay although a lot of GB it's worth it absolutely extraordinary ( ꈍᴗꈍ)...   \n",
       "\n",
       "   score                date  thumbsUp             source  \\\n",
       "0      5 2020-12-11 13:55:29     881.0  google_play_store   \n",
       "1      5 2020-12-16 18:10:47      48.0  google_play_store   \n",
       "2      5 2020-12-16 00:18:43     185.0  google_play_store   \n",
       "3      4 2020-12-16 12:46:11       1.0  google_play_store   \n",
       "4      5 2020-12-10 22:51:08     186.0  google_play_store   \n",
       "\n",
       "                                                                                                  text  \\\n",
       "0  [the, graphics, are, gorgeous, the, gameplay, is, incredibly, smooth, and, i, love, that, there,...   \n",
       "1  [if, you, love, free, world, rpg, then, this, is, it, this, is, the, game, you, have, been, sear...   \n",
       "2  [i, absolutely, love, the, game, no, complaints, besides, not, even, a, complaint, that, when, i...   \n",
       "3  [great, game, regardless, of, ripoff, issues, and, such, this, is, by, far, the, greatest, mobil...   \n",
       "4  [amazing, graphics, and, gameplay, although, a, lot, of, gb, it, s, worth, it, absolutely, extra...   \n",
       "\n",
       "   length update  \n",
       "0      84  1.1.2  \n",
       "1      94  1.1.2  \n",
       "2      75  1.1.2  \n",
       "3      88  1.1.2  \n",
       "4      86  1.1.2  "
      ]
     },
     "execution_count": 3,
     "metadata": {},
     "output_type": "execute_result"
    }
   ],
   "source": [
    "df.head()"
   ]
  },
  {
   "cell_type": "code",
   "execution_count": 4,
   "metadata": {
    "ExecuteTime": {
     "end_time": "2021-01-19T07:48:04.532932Z",
     "start_time": "2021-01-19T07:48:04.502952Z"
    }
   },
   "outputs": [],
   "source": [
    "df['pos_neg'] = df['score'].apply(lambda x: 'pos' if x > 3 else 'neg')"
   ]
  },
  {
   "cell_type": "markdown",
   "metadata": {},
   "source": [
    "# Defining Functions"
   ]
  },
  {
   "cell_type": "code",
   "execution_count": 5,
   "metadata": {
    "ExecuteTime": {
     "end_time": "2021-01-19T07:48:04.564914Z",
     "start_time": "2021-01-19T07:48:04.536931Z"
    }
   },
   "outputs": [],
   "source": [
    "# define function to get the pos of words in the sentence\n",
    "def get_sent_post(sentence):\n",
    "    word_tag = nltk.pos_tag(sentence)\n",
    "\n",
    "    new_word_tag = []\n",
    "\n",
    "    for word, tag in word_tag:\n",
    "        new_tag = tag[0]\n",
    "        tag_dict = {\"J\": wordnet.ADJ,\n",
    "                    \"N\": wordnet.NOUN,\n",
    "                    \"V\": wordnet.VERB,\n",
    "                    \"R\": wordnet.ADV}\n",
    "\n",
    "        new_word_tag.append((word, tag_dict.get(new_tag, wordnet.NOUN)))\n",
    "    \n",
    "    return new_word_tag\n",
    "\n",
    "# define function to conduct word pre-processing on the dataset\n",
    "# includes tokenizing, removing stopwords, creating bigrams and trigrams and lemmatization\n",
    "def process_words(data, stop_words_list = stop_words, allowed_postags=['NOUN', 'ADJ', 'VERB', 'ADV', 'PROPN']):\n",
    "    \n",
    "    tokenizer = TweetTokenizer()\n",
    "    texts = [tokenizer.tokenize(doc) for doc in data]\n",
    "    \n",
    "    # build the bigram and trigram models by automatically detecting common phrases / multiword expressions\n",
    "    # min_count ignores all words and bigrams with total count less than the number\n",
    "    # threshold affects the number of phrases that will be created (higher threshold = fewer phrases)\n",
    "    bigram = gensim.models.Phrases(texts, min_count=5, threshold=100)\n",
    "    trigram = gensim.models.Phrases(bigram[texts], threshold=100)\n",
    "\n",
    "    # a phrases object is for learning bigrams (and multiword expressions), not for processing\n",
    "    # for processing, need to use a phraser object\n",
    "    bigram_mod = gensim.models.phrases.Phraser(bigram)\n",
    "    trigram_mod = gensim.models.phrases.Phraser(trigram)\n",
    "    \n",
    "    # removes stopwords, lowercases, tokenizes, de-accents and \n",
    "    # removes words that are too short or too long in the text if word not in stop_words\n",
    "    texts = [[word for word in simple_preprocess(str(doc), deacc=True) if word not in stop_words_list] for doc in texts]\n",
    " \n",
    "    # combines bi-gram phrases\n",
    "    texts = [bigram_mod[doc] for doc in texts]\n",
    "    \n",
    "    # combines tri-gram phrases\n",
    "    texts = [trigram_mod[bigram_mod[doc]] for doc in texts]\n",
    "    \n",
    "    texts_out = []\n",
    "    \n",
    "    # loads the spacy 'en_core_web_sm' model to get the type of pos tags for each word\n",
    "    # disabling 'parser' and 'ner' for faster processing (keeping only tagger component)\n",
    "    nlp = spacy.load('en_core_web_sm', disable=['parser', 'ner'])\n",
    "    \n",
    "    for sent in texts:\n",
    "        \n",
    "        # join the words together and process the it using the nlp model\n",
    "        doc = nlp(\" \".join(sent)) \n",
    "        \n",
    "        # only keep the word if it is in the allowed pos tags\n",
    "        texts_out.append([token for token in doc if token.pos_ in allowed_postags])\n",
    "    \n",
    "\n",
    "    # using NLTK's lemmatizer as it returns words into their base forms\n",
    "    # it performs better than many other lemmatizer (and stemmers) as it takes into account the part-of-speech of the word\n",
    "    texts_out = [[word for word in simple_preprocess(str(doc))] for doc in texts_out]\n",
    "\n",
    "    lemmatizer = WordNetLemmatizer()\n",
    "    texts_out = [[lemmatizer.lemmatize(word, pos) for word, pos in get_sent_post(sentence)] for sentence in texts_out]\n",
    "    \n",
    "    # remove stopwords again after lemmatizing\n",
    "    texts_out = [[word for word in doc if word not in stop_words_list] for doc in texts_out]\n",
    "        \n",
    "    return texts_out"
   ]
  },
  {
   "cell_type": "code",
   "execution_count": 6,
   "metadata": {
    "ExecuteTime": {
     "end_time": "2021-01-19T07:48:04.580903Z",
     "start_time": "2021-01-19T07:48:04.568912Z"
    }
   },
   "outputs": [],
   "source": [
    "# define a function to run the LDA model\n",
    "def run_ldamodel(n_topics, corpus, id2word):\n",
    "\n",
    "    model = gensim.models.ldamodel.LdaModel(corpus=corpus,\n",
    "                                            id2word=id2word,\n",
    "                                            num_topics=n_topics,\n",
    "                                            random_state=11,\n",
    "                                            chunksize=500,\n",
    "                                            passes=10,\n",
    "                                            iterations=100,\n",
    "                                            per_word_topics=True)\n",
    "    \n",
    "    return model"
   ]
  },
  {
   "cell_type": "code",
   "execution_count": 7,
   "metadata": {
    "ExecuteTime": {
     "end_time": "2021-01-19T07:48:04.596894Z",
     "start_time": "2021-01-19T07:48:04.583902Z"
    }
   },
   "outputs": [],
   "source": [
    "# define a function to create a dataframe that combines the dominant topic, percent contribution and keywords with the original dataset\n",
    "def create_topic_df(ldamodel, corpus, data_df):\n",
    "    \n",
    "    # initialize output dataframe\n",
    "    sent_topics_df = pd.DataFrame()\n",
    "    \n",
    "    # create a list of the words in the topic\n",
    "    topic_dict = dict()\n",
    "\n",
    "    for i in range(len(ldamodel.print_topics())):\n",
    "        wp = ldamodel.show_topic(i)\n",
    "        topic_dict[i] = \", \".join([word for word, prop in wp])\n",
    "\n",
    "    # get main topic in each document\n",
    "    for i, row_list in enumerate(ldamodel[corpus]):\n",
    "        \n",
    "        # get the list of topics in each review\n",
    "        row = row_list[0] if ldamodel.per_word_topics else row_list            \n",
    "        \n",
    "        # sort the topics in order of weightage\n",
    "        row = sorted(row, key=lambda x: (x[1]), reverse=True)\n",
    "        \n",
    "        # get the dominant topic, perc contribution and keywords for each document\n",
    "        for j, (topic_num, prop_topic) in enumerate(row):\n",
    "            if j == 0:  \n",
    "                sent_topics_df = sent_topics_df.append(pd.Series([int(topic_num), round(prop_topic,4), \n",
    "                                                                  topic_dict[topic_num]]), ignore_index=True)\n",
    "            else:\n",
    "                break\n",
    "    \n",
    "    # rename the columns\n",
    "    sent_topics_df.columns = ['Dominant_Topic', 'Perc_Contribution', 'Keywords']\n",
    "\n",
    "    # Add original text to the end of the output\n",
    "    data_df.reset_index(inplace=True, drop=True)\n",
    "    sent_topics_df = pd.concat([sent_topics_df, data_df], axis=1)\n",
    "    \n",
    "    return(sent_topics_df)"
   ]
  },
  {
   "cell_type": "code",
   "execution_count": 8,
   "metadata": {
    "ExecuteTime": {
     "end_time": "2021-01-19T07:48:04.612884Z",
     "start_time": "2021-01-19T07:48:04.599892Z"
    }
   },
   "outputs": [],
   "source": [
    "# define function to look through the n top representative texts\n",
    "def representative_text(df, n_posts = 10):\n",
    "    \n",
    "    for i in range(int(df['Dominant_Topic'].max()+1)):\n",
    "        \n",
    "        temp_df = df[df['Dominant_Topic'] == i].copy()\n",
    "        temp_df.sort_values('Perc_Contribution', ascending = False, inplace = True)\n",
    "        \n",
    "        print(f\"Top {n_posts} texts for Topic {i+1}\")\n",
    "        print(f\"Keywords: {temp_df['Keywords'].iloc[0]}\")\n",
    "        print(f\"=======================================================================================\")\n",
    "                       \n",
    "        for i, row in enumerate(temp_df['content'].iloc[:n_posts]):\n",
    "            print(f\"No {i+1}. {row}\")\n",
    "            \n",
    "        print('\\n\\n')"
   ]
  },
  {
   "cell_type": "code",
   "execution_count": 9,
   "metadata": {
    "ExecuteTime": {
     "end_time": "2021-01-19T07:48:04.628874Z",
     "start_time": "2021-01-19T07:48:04.616881Z"
    }
   },
   "outputs": [],
   "source": [
    "# define function to plot the distribution of each topic across the different ratings\n",
    "def topic_rating_distribution(df):\n",
    "    num_topics = int(df['Dominant_Topic'].max()+1)\n",
    "\n",
    "    num_rows = math.ceil(num_topics/2)\n",
    "\n",
    "    fig, ax = plt.subplots(num_rows, 2, figsize=(12,num_rows*4), sharey = True)\n",
    "\n",
    "    plot = 0\n",
    "\n",
    "    for i in range(num_topics):\n",
    "        axis = ax[plot//2][plot%2]\n",
    "        df[df['Dominant_Topic'] == i]['score'].value_counts().sort_index().plot(kind='bar', ax = axis)\n",
    "        axis.set_title(f'Topic {i + 1}', fontsize = 15)\n",
    "        axis.set_ylabel('')\n",
    "        axis.set_xlabel('Review Rating')\n",
    "        plot += 1\n",
    "\n",
    "    plt.tight_layout()"
   ]
  },
  {
   "cell_type": "code",
   "execution_count": 10,
   "metadata": {
    "ExecuteTime": {
     "end_time": "2021-01-19T07:48:04.643865Z",
     "start_time": "2021-01-19T07:48:04.630874Z"
    }
   },
   "outputs": [],
   "source": [
    "# define function to compute the coherence score of the LDA model\n",
    "def compute_coherence(ldamodel, processed_texts, id2word, coherence='c_v'):\n",
    "    \n",
    "    coherence_model_lda = CoherenceModel(model = ldamodel, \n",
    "                                         texts = processed_texts, \n",
    "                                         dictionary = id2word, \n",
    "                                         coherence = coherence)\n",
    "\n",
    "    coherence_lda = coherence_model_lda.get_coherence()\n",
    "\n",
    "    print('Coherence Score: ', round(coherence_lda, 3))"
   ]
  },
  {
   "cell_type": "code",
   "execution_count": 11,
   "metadata": {
    "ExecuteTime": {
     "end_time": "2021-01-19T07:48:04.659855Z",
     "start_time": "2021-01-19T07:48:04.645864Z"
    }
   },
   "outputs": [],
   "source": [
    "# define function to compute the coherence score of the LDA model across a range of topic numbers\n",
    "# plot the coherence score against the number of topics\n",
    "# this function will be used to determine optimal number topics for each LDA model\n",
    "def compute_coherence_values(processed_texts, id2word, corpus, limit, start=3, step=1):\n",
    "\n",
    "    coherence_values = []\n",
    "    model_list = []\n",
    "    topic_range = range(start, limit, step)\n",
    "\n",
    "    for num_topics in topic_range:\n",
    "\n",
    "        lda_model = gensim.models.ldamodel.LdaModel(corpus=corpus,\n",
    "                                                    id2word=id2word,\n",
    "                                                    num_topics=num_topics,\n",
    "                                                    random_state=11,\n",
    "                                                    chunksize=500,\n",
    "                                                    passes=10,\n",
    "                                                    iterations=100,\n",
    "                                                    per_word_topics=True)\n",
    "\n",
    "        model_list.append(lda_model)\n",
    "\n",
    "        coherencemodel = CoherenceModel(model=lda_model,\n",
    "                                        texts=processed_texts,\n",
    "                                        dictionary=id2word,\n",
    "                                        coherence='c_v')\n",
    "\n",
    "        coherence_values.append(coherencemodel.get_coherence())\n",
    "\n",
    "    plt.plot(topic_range, coherence_values)\n",
    "    plt.xlabel(\"Num Topics\")\n",
    "    plt.ylabel(\"Coherence score\")\n",
    "    plt.show()\n",
    "\n",
    "    return model_list, coherence_values"
   ]
  },
  {
   "cell_type": "code",
   "execution_count": 12,
   "metadata": {
    "ExecuteTime": {
     "end_time": "2021-01-19T07:48:04.675847Z",
     "start_time": "2021-01-19T07:48:04.661854Z"
    }
   },
   "outputs": [],
   "source": [
    " def n_topics_ldamodel(n_topics, title, processed_texts, corpus, id2word, data_df, n_posts=7):\n",
    "    \n",
    "    print(title)\n",
    "    print(f\"{n_topics} Topics\")\n",
    "    print('----------------------------------')\n",
    "\n",
    "    lda_model = run_ldamodel(n_topics, corpus = corpus, id2word = id2word)\n",
    "\n",
    "    compute_coherence(ldamodel = lda_model, processed_texts = processed_texts, id2word = id2word)\n",
    "    \n",
    "    print('\\n')\n",
    "\n",
    "    topic_df = create_topic_df(ldamodel = lda_model, corpus = corpus, data_df = data_df)\n",
    "\n",
    "    representative_text(topic_df, n_posts)"
   ]
  },
  {
   "cell_type": "markdown",
   "metadata": {},
   "source": [
    "# Coherence Score for All Models\n",
    "I will be using LDA (Latent Dirichlet Analysis) for the topic modeling. It is an **unsupervised learning model**, hence, I do not know the optimal number of topics for the model to split the datasets into. \n",
    "\n",
    "However, what I can do is to run the datasets through the model with different number of topics and compare some metrics produced with any specific number of topics. The metrics to use here will be Coherence Score.\n",
    "\n",
    "\\\n",
    "**What is Coherence Score?**\n",
    "\n",
    "Coherence score is one of the most common metrics to evaluate topic models. It measures how semantically similar are the high scoring keywords of each topics. \n",
    "\n",
    "Hence, a good model (with a high coherence score) will create topics consisting of very similar keywords, resulting in very defined topics. A not-so-good model, on the other hand, will create topics consisting of wide range of keywords, resulting in less defined, and perhaps, overlapping topics.\n",
    "\n",
    "\\\n",
    "**Splitting the Dataset**\n",
    "\n",
    "For the topic modeling, I will split the dataset up by **2 attributes**:\n",
    "1. **The Update Version**\n",
    "2. **Positive/Negative reviews**\n",
    "\n",
    "The reason for this is there will likely be some differences in the topics at these different batches. This will results in a total of **8 different datasets for topic modeling**.\n",
    "\n",
    "For splitting the dataset into positive/negative review, I will split them in the following manner:\n",
    "- Reviews with ratings 1 to 3: Negative\n",
    "- Reviews with ratings 4 and 5: Positive\n",
    "\n",
    "\\\n",
    "**Process**\n",
    "\n",
    "1. After splitting the dataset by update and positive/negative, I have a total of **8 different datasets**. \n",
    "2. I will train these 8 datasets with **2 to 7 topics** and **plot the coherence score**.\n",
    "3. I will compare the coherence score and **pick the number of topics that produces high coherence score**."
   ]
  },
  {
   "cell_type": "code",
   "execution_count": 15,
   "metadata": {
    "ExecuteTime": {
     "end_time": "2021-01-18T06:09:14.829226Z",
     "start_time": "2021-01-18T05:25:28.033505Z"
    },
    "deletable": false,
    "editable": false,
    "run_control": {
     "frozen": true
    },
    "scrolled": false
   },
   "outputs": [
    {
     "name": "stdout",
     "output_type": "stream",
     "text": [
      "=============================================\n",
      "1.1.2 Update - Pos reviews\n",
      "=============================================\n"
     ]
    },
    {
     "data": {
      "image/png": "[encoded data removed]",
      "text/plain": [
       "<Figure size 432x288 with 1 Axes>"
      ]
     },
     "metadata": {
      "needs_background": "light"
     },
     "output_type": "display_data"
    },
    {
     "name": "stdout",
     "output_type": "stream",
     "text": [
      "\n",
      "=============================================\n",
      "1.1.2 Update - Neg reviews\n",
      "=============================================\n"
     ]
    },
    {
     "data": {
      "image/png": "[encoded data removed]",
      "text/plain": [
       "<Figure size 432x288 with 1 Axes>"
      ]
     },
     "metadata": {
      "needs_background": "light"
     },
     "output_type": "display_data"
    },
    {
     "name": "stdout",
     "output_type": "stream",
     "text": [
      "\n",
      "=============================================\n",
      "1.1.1 Update - Pos reviews\n",
      "=============================================\n"
     ]
    },
    {
     "data": {
      "image/png": "[encoded data removed]",
      "text/plain": [
       "<Figure size 432x288 with 1 Axes>"
      ]
     },
     "metadata": {
      "needs_background": "light"
     },
     "output_type": "display_data"
    },
    {
     "name": "stdout",
     "output_type": "stream",
     "text": [
      "\n",
      "=============================================\n",
      "1.1.1 Update - Neg reviews\n",
      "=============================================\n"
     ]
    },
    {
     "data": {
      "image/png": "[encoded data removed]",
      "text/plain": [
       "<Figure size 432x288 with 1 Axes>"
      ]
     },
     "metadata": {
      "needs_background": "light"
     },
     "output_type": "display_data"
    },
    {
     "name": "stdout",
     "output_type": "stream",
     "text": [
      "\n",
      "=============================================\n",
      "1.0.2 Update - Pos reviews\n",
      "=============================================\n"
     ]
    },
    {
     "data": {
      "image/png": "[encoded data removed]",
      "text/plain": [
       "<Figure size 432x288 with 1 Axes>"
      ]
     },
     "metadata": {
      "needs_background": "light"
     },
     "output_type": "display_data"
    },
    {
     "name": "stdout",
     "output_type": "stream",
     "text": [
      "\n",
      "=============================================\n",
      "1.0.2 Update - Neg reviews\n",
      "=============================================\n"
     ]
    },
    {
     "data": {
      "image/png": "[encoded data removed]",
      "text/plain": [
       "<Figure size 432x288 with 1 Axes>"
      ]
     },
     "metadata": {
      "needs_background": "light"
     },
     "output_type": "display_data"
    },
    {
     "name": "stdout",
     "output_type": "stream",
     "text": [
      "\n",
      "=============================================\n",
      "1.0.1 Update - Pos reviews\n",
      "=============================================\n"
     ]
    },
    {
     "data": {
      "image/png": "[encoded data removed]",
      "text/plain": [
       "<Figure size 432x288 with 1 Axes>"
      ]
     },
     "metadata": {
      "needs_background": "light"
     },
     "output_type": "display_data"
    },
    {
     "name": "stdout",
     "output_type": "stream",
     "text": [
      "\n",
      "=============================================\n",
      "1.0.1 Update - Neg reviews\n",
      "=============================================\n"
     ]
    },
    {
     "data": {
      "image/png": "[encoded data removed]",
      "text/plain": [
       "<Figure size 432x288 with 1 Axes>"
      ]
     },
     "metadata": {
      "needs_background": "light"
     },
     "output_type": "display_data"
    },
    {
     "name": "stdout",
     "output_type": "stream",
     "text": [
      "\n"
     ]
    }
   ],
   "source": [
    "# stopwords = new list [stopwords added and some changes]\n",
    "for update in df['update'].unique():\n",
    "    for pn in df['pos_neg'].unique():\n",
    "        print(\"=============================================\")\n",
    "        print(f\"{update} Update - {pn.capitalize()} reviews\")\n",
    "        print(\"=============================================\")\n",
    "        data = df.loc[(df['update'] == update) & (df['pos_neg'] == pn)]\n",
    "        data_ready = process_words(data['content'])\n",
    "\n",
    "        # create a new dictionary of interger numbers and unique words in the entire dataset\n",
    "        id2word = corpora.Dictionary(data_ready)\n",
    "\n",
    "        # create the term document frequency corpus\n",
    "        corpus = [id2word.doc2bow(text) for text in data_ready]\n",
    "\n",
    "        _, _ = compute_coherence_values(processed_texts = data_ready, \n",
    "                                        id2word = id2word,\n",
    "                                        corpus = corpus,\n",
    "                                        limit=8)\n",
    "        \n",
    "        print(\"\")"
   ]
  },
  {
   "cell_type": "markdown",
   "metadata": {},
   "source": [
    "## Optimal Number of Topics for All Models\n",
    "From the coherence score, I will pick **2 or 3 optimal number of topics for each combination** to look through how well split are the different topics.\n",
    "\n",
    "Among the 2 or 3 optimal number of topics, I will pick **at least one number less than or equal to 4**. This is to ensure that there is at least one representation of fewer number of topics as the **aim for the topic modeling is to split the reviews into general categories** to direct them to different teams.\n",
    "\n",
    "As such, the following number of topics are chosen for each Update and Positive Negative combination based on the above coherence score plots:\n",
    "1. Update 1.1.2 Positive: 4, 5 and 7\n",
    "2. Update 1.1.2 Negative: 3 and 5\n",
    "3. Update 1.1.1 Positive: 4 and 6\n",
    "4. Update 1.1.1 Negative: 4 and 6\n",
    "5. Update 1.0.2 Positive: 4 and 6\n",
    "6. Update 1.0.2 Negative: 3 and 4\n",
    "7. Update 1.0.1 Positive: 4 and 6\n",
    "8. Update 1.0.1 Negative: 3, 4 and 7\n",
    "\n",
    "I will examine the **keywords and texts** of each model to determine what is the optimal number of topics for each dataset."
   ]
  },
  {
   "cell_type": "markdown",
   "metadata": {},
   "source": [
    "# Update 1.1.2, Positive Reviews"
   ]
  },
  {
   "cell_type": "code",
   "execution_count": 18,
   "metadata": {
    "ExecuteTime": {
     "end_time": "2021-01-18T07:19:02.149593Z",
     "start_time": "2021-01-18T07:18:31.217220Z"
    }
   },
   "outputs": [],
   "source": [
    "data = df.loc[(df['update'] == '1.1.2') & (df['pos_neg'] == 'pos')]\n",
    "\n",
    "data_ready = process_words(data['content'])\n",
    "\n",
    "# create a new dictionary of interger numbers and unique words in the entire dataset\n",
    "id2word = corpora.Dictionary(data_ready)\n",
    "\n",
    "# create the term document frequency corpus\n",
    "corpus = [id2word.doc2bow(text) for text in data_ready]"
   ]
  },
  {
   "cell_type": "markdown",
   "metadata": {},
   "source": [
    "## 4 Topics"
   ]
  },
  {
   "cell_type": "code",
   "execution_count": 19,
   "metadata": {
    "ExecuteTime": {
     "end_time": "2021-01-18T07:19:54.667160Z",
     "start_time": "2021-01-18T07:19:02.151599Z"
    },
    "scrolled": false
   },
   "outputs": [
    {
     "name": "stdout",
     "output_type": "stream",
     "text": [
      "Update 1.1.2, Positive Reviews\n",
      "4 Topics\n",
      "----------------------------------\n",
      "Coherence Score:  0.432\n",
      "\n",
      "\n",
      "Top 7 texts for Topic 1\n",
      "Keywords: time, system, make, resin, fun, player, friend, server, day, co_op\n",
      "=======================================================================================\n",
      "No 1. Wish you can send a massages to your friends. To be arrange time and date to play co-op. Specially if they are from another country and having a voice chat would be better because its hard to chat while in battle . you gonna die. Like texting and driving. Yup. Please on the next update, include the voice chat system. #wewantvoicechat\n",
      "No 2. E un joc bun de oare ce e pe stilul me controalele la fel e un joc bun grafica o recomand #foarte bun# 😇😇😇😇😚😇 T t Tt T T 5 5 5 65 55 5 5 R R R r r t tt T T T T T T R 5 5 5 5 5 5 5 4 1 2 3 4 5 6 7 89 0 12 3 4 5 6 7 8 90 1 0 1 23 45 667 890 3 1 1 4 5 6 7 89 1 34 5 6 7 9 9 9 Lol lol\n",
      "No 3. Hi idk if this is a bug or not but please fix the aiming system! I can't aim properly and i hope u fix it soon its a great game overall but i would like to add bow users to my party\n",
      "No 4. Can you fix the leveling because my xp has reached the level up quota. My level should be at level 26 but it stuck at level 25. If you fix this bug I'm very greatful.\n",
      "No 5. there's a bug, the electro boss suddenly disappeared after the boss shooting some blocks (my english is bad, sorry)\n",
      "No 6. Theres a bug on domain submerged valley IV. The shield of the last abyss mage does not go down. Please fix this.\n",
      "No 7. Dear,Developers I am in stuck in cape cope and I took the portal thing but im not at adventure rank 20 to go through the gate. What do I do?\n",
      "\n",
      "\n",
      "\n",
      "Top 7 texts for Topic 2\n",
      "Keywords: character, love, get, nice, star, give, much, really, good, wish\n",
      "=======================================================================================\n",
      "No 1. Nice nice game nad story even you only have 4 stars hero you can also play the game well you don't need 5 star hero to play it you just need to upgrade your 4 star hero to get stronger there are also 4 star hero that can rival a 5star hero like fischl beido and nigguang and others haha god bless hope you have a good day in gatcha baner for today's event 😊\n",
      "No 2. Very great game but could you separate the characters and weapons on the wanderlust invocation wishes on separate banners? Cuz the probability of the characters are ridiculously low and i haven't been getting any 5 star characters on that banner and instead i got 5 star weapons. It'd be great if you do that! Overall, game is super duper gigantamax dynamax great i'd give this game a 10/10\n",
      "No 3. I absolutely love the game! No complaints besides (not even a complaint) that when I turn to a certain angle when the character is up against a rock or a wall, I can see eternal damnation and their demons (inside the character) and it scares me. It's nothing. I'm just really jumpy. But amazing game! Amazing content. Keep doing what you're doing and come out with this game on the switch soon!\n",
      "No 4. This game is just so good and also it is kind of hard to get more characters because of how much hard it is to collect primogems but I don't mind it since the new event gave me two five stars and also genshin impact is trying to make this game better and it keeps getting better and better :)\n",
      "No 5. It's superb for an anime fan like me i love it so much 😍😍😍 ang the scenery takes your breath away 😍😍😍 you will not be bored staying home because of covid. Nice work mihoyo and of all staffs 😁😁😍😍💪💪💪 I really appreciate it so so so much. Thank you for making this beautiful game 😍😍😍\n",
      "No 6. This is entirely personal preference, but I loved the game and enjoying every bit of it. I didn't like Honkai Impact much (also strictly according to personal likings). This game has everything I love in a game and also gives SAO vibes 🤫🤭 Really love it!\n",
      "No 7. Awesome game ,I just wish to receive more primo gems or fate to be able getting wishes frequently without spending to much money, aside of that keep up the good work and good content!\n",
      "\n",
      "\n",
      "\n",
      "Top 7 texts for Topic 3\n",
      "Keywords: phone, good, say, fix, really, great, need, get, lag, problem\n",
      "=======================================================================================\n",
      "No 1. A great game with minor problems. A audio issues keeps coming up on multiple android devices including Samsung galaxy A51 and my Samsung galaxy tab s6 lite. Very scratchy audio performance even on low settings. To fix try screen recorder paused. Please fix this , other then this sound problem game runs perfect.\n",
      "No 2. Love it but... I honestly love this game. However when I was trying to link my account, I ended up creating a new account and now everytime I log in with Game Center, my process would be gone because it’s a new account. I have no idea how to get my process back and I’m honestly upset since I worked hard on leveling up and saving up. Please fix this.\n",
      "No 3. Playing on a galaxy tab s6 256gb 8gb ram, and the game audio is really bad and choppy. A friend's galaxy note 10 was running fine, but after the update 1.1 the game's audio became choppy too. Please fix this issue asap because the audio experience is really horrendous.\n",
      "No 4. I feel like am ina different world now wowwwww but i have 1 thing to ask plzz can u stop deleting the 8 gb whenever i uninstall the game coz it took long to download and wvwrytime i download or delete i have to download 8 gb is impossible so plz do the thing\n",
      "No 5. I was really happy playing this game until I update it this morning and when I open it, it wanted me to download the resources again? Like why? I check my files and the games file resources are still here.. Please fix this, km really disappointed because I just downloaded this game yesterday I only played it once, and I don't want to waste another 5gb. Please.\n",
      "No 6. Game is great, 1 main thing to improve is scenes preformance, they lag even on great high end phones, I just bought this phone 2 days ago (galaxy s10+, has some good specs) and it lags. on slightly older phones the scenes straight up freeze.\n",
      "No 7. There's so much to say about the reason why I love this game! BUT the only issue I have is that I have two accounts now and would like to delete one so I can link my email to the account I want to use. That's why I hope there will be a possibility in the future that we can delete our accounts on our own as fast as possible or maybe another way to solve this.\n",
      "\n",
      "\n",
      "\n",
      "Top 7 texts for Topic 4\n",
      "Keywords: best, love, good, graphic, ever, amaze, great, mobile, really, fun\n",
      "=======================================================================================\n",
      "No 1. This is probably the best rpg game I have ever played in my entire life. The graphics, music and lore are amazing, I can't even believe that this game is free to play. Overall I love this game, it's amazing, would definitely recommend this game.\n",
      "No 2. Best mobile game I’ve played BY FAR I absolutely love this game! It’s story and character design are amazing, and the graphics and animation are incredible! I would recommend this game to anyone, regardless of their opinion on anime-styled games!\n",
      "No 3. Seriously such a well made game, the story, the characters and graphics are stunning! You get so invested it can be addicting!! (in a good way) Great game, keep up the amazing work!!\n",
      "No 4. Best Mobile game ever! Immersive gameplay, amazing graphics, and amazing characters. Genshin impact is truly the best mobile game ever.\n",
      "No 5. Periodt. THIS.IS.AMAZING. I'm in love with the gameeeee it's so addicting, Amazing *chef kiss* AAAAAAA I LOVE THE CREATOR, Totally recommend this✨🥰\n",
      "No 6. This is an amazing leap in Mobil gaming loved the game waiting forward to experience the entire gameplay This is by far the most amazing open world game I have ever played\n",
      "No 7. Real console experience in mobile! Surprising attention to details! Can be played really for free and not pay-to-win! Loved it so much!!!\n",
      "\n",
      "\n",
      "\n"
     ]
    }
   ],
   "source": [
    "n_topics_ldamodel(4, 'Update 1.1.2, Positive Reviews', data_ready, corpus, id2word, data)"
   ]
  },
  {
   "cell_type": "markdown",
   "metadata": {},
   "source": [
    "## 5 Topics"
   ]
  },
  {
   "cell_type": "code",
   "execution_count": 20,
   "metadata": {
    "ExecuteTime": {
     "end_time": "2021-01-18T07:20:46.180032Z",
     "start_time": "2021-01-18T07:19:54.670157Z"
    },
    "scrolled": false
   },
   "outputs": [
    {
     "name": "stdout",
     "output_type": "stream",
     "text": [
      "Update 1.1.2, Positive Reviews\n",
      "5 Topics\n",
      "----------------------------------\n",
      "Coherence Score:  0.445\n",
      "\n",
      "\n",
      "Top 7 texts for Topic 1\n",
      "Keywords: stuff, quest, time, server, fun, bug, word, botw, problem, make\n",
      "=======================================================================================\n",
      "No 1. E un joc bun de oare ce e pe stilul me controalele la fel e un joc bun grafica o recomand #foarte bun# 😇😇😇😇😚😇 T t Tt T T 5 5 5 65 55 5 5 R R R r r t tt T T T T T T R 5 5 5 5 5 5 5 4 1 2 3 4 5 6 7 89 0 12 3 4 5 6 7 8 90 1 0 1 23 45 667 890 3 1 1 4 5 6 7 89 1 34 5 6 7 9 9 9 Lol lol\n",
      "No 2. Can you fix the leveling because my xp has reached the level up quota. My level should be at level 26 but it stuck at level 25. If you fix this bug I'm very greatful.\n",
      "No 3. Dear,Developers I am in stuck in cape cope and I took the portal thing but im not at adventure rank 20 to go through the gate. What do I do?\n",
      "No 4. make server malaysia please becauce server asia ping 120ms++\n",
      "No 5. Fun, but material and stuff is hard to come by\n",
      "No 6. its fan bat it to lagi topley\n",
      "No 7. smetimes bug with the camera not moving\n",
      "\n",
      "\n",
      "\n",
      "Top 7 texts for Topic 2\n",
      "Keywords: love, character, much, nice, get, amaze, really, star, awesome, give\n",
      "=======================================================================================\n",
      "No 1. Nice nice game nad story even you only have 4 stars hero you can also play the game well you don't need 5 star hero to play it you just need to upgrade your 4 star hero to get stronger there are also 4 star hero that can rival a 5star hero like fischl beido and nigguang and others haha god bless hope you have a good day in gatcha baner for today's event 😊\n",
      "No 2. This is entirely personal preference, but I loved the game and enjoying every bit of it. I didn't like Honkai Impact much (also strictly according to personal likings). This game has everything I love in a game and also gives SAO vibes 🤫🤭 Really love it!\n",
      "No 3. Graphics are nice but this game is clearly pay to win or you need some insane luck. Primogems are pretty okay to earn but I hope it gets easier.\n",
      "No 4. I love this game soo soo much but my luck in wishes is very low😔 couldn't even get 5* characters but that's okay..i love the game either way\n",
      "No 5. I love the game it is so fun to play i love getting new characters and doing quests i really love the game i really recomend it\n",
      "No 6. I love the storyline and the characters, it has been a long time for me to be such indulged in one game. Enjoying it a lot. Thank you, nice job.\n",
      "No 7. Really good It’s so fun if you like legend of Zelda breath of the wild and anime you’ll love this game it’s so fun and addicting\n",
      "\n",
      "\n",
      "\n",
      "Top 7 texts for Topic 3\n",
      "Keywords: phone, fix, good, take, download, love, lag, say, know, need\n",
      "=======================================================================================\n",
      "No 1. I love this game super but my problem is i need a big lode of data i don't have a wifi i can't play this if i don't have lode of data while im updating it it's so slow because my internet is slow i feel sad if i can't play this anymore because i love it im very sad beacaue it will update tommorrow☹\n",
      "No 2. Slow loading on Huawei Nova 3i I have many space for storage but the it load slow ,its not on my internet problem ,please fix this.TQ for taking your time to read.\n",
      "No 3. I have played for almost 3 month and having a good time, now i cant login using my google account because of parameter error...please assist on troubleshooting this problem...Thank you.\n",
      "No 4. how do I do this pls fix this:( I try hard I tell my mom I played and sum days ago when I go to Genshin it says log in and my mom do it and then it do it all but it did not worked pls fix this I’m sad I can’t play this game :(\n",
      "No 5. I love it so muchhh! The only problem is, the game so much GB needed. I almost stop playing because my storage couldn't handle the memory needed. So I uninstalled my other games for it.\n",
      "No 6. I deleted some of my apps and I still can’t play how I’m not a Karen I want to play it but I won’t let me i says no space I deleted some of my apps this muss be a bug or a glitch\n",
      "No 7. Very great game over all but i just want to say that pls fix the server in PH cause no matter how i play on wifi or data i experience some lag on my ms around 200-300 ms pls fix it\n",
      "\n",
      "\n",
      "\n",
      "Top 7 texts for Topic 4\n",
      "Keywords: best, good, ever, graphic, amaze, great, love, mobile, fun, really\n",
      "=======================================================================================\n",
      "No 1. Best Mobile game ever! Immersive gameplay, amazing graphics, and amazing characters. Genshin impact is truly the best mobile game ever.\n",
      "No 2. One of the best mobile games out there. Great story, interesting world, large selection of characters and great rpg mechanics.\n",
      "No 3. So good great graphics and I don't usually like rpgs or open world mobile games but the controls feel so smooth would recommend.\n",
      "No 4. Loveee i.The graphics are Amazing!I love the gameplay and the whole story,the controls are easier than I thought.I recommend this game\n",
      "No 5. Very good game . Would recommend it for sure .Good graphics, pleasant music,and pretty good story. Loving it.\n",
      "No 6. Interesting mobile game Amazing, AAA game graphics and amazing gameplay. This is something you would see on a computer! Amazing can’t wait to play more\n",
      "No 7. The best game ever awesome graphics , cool storyline , easy to leran controls. Overall it's the best\n",
      "\n",
      "\n",
      "\n",
      "Top 7 texts for Topic 5\n",
      "Keywords: good, great, make, well, mobile, add, get, really, work, player\n",
      "=======================================================================================\n",
      "No 1. I am a YouTuber, KevGuuey, and I have been enjoying the game as a F2P player since around global public launch. The thing is if you are going down this road, you need to be efficient and conservative on materials, mora, artifacts and weapon upgrades, which party members are worth the leveling up for 2 teams for the Abyss, and especially using primogems on what is important. Other than these downsides, the game is quite enjoyable but I hope they actually do something to make co-op more fun.\n",
      "No 2. Great but it be better for the game to have a strengthen account security as well as stop putting all strength of 5 star characters in constellation. Also please strengthen the geo characters or have an elemental reaction as well as improve the animation like honakai hahahaha Overall great experience except the above\n",
      "No 3. Graphics is like that of Pokemon Sword and Shield. Gameplay is like of Dragon Nest though instead of focusing on one Character you'll have to focus on 4 Characters as a party. Combat gameplay is like that of Evergrace 2 in Playstation. **Doesn't have openworld chat** Though other players can join your party 3* Day playing this game\n",
      "No 4. This game is Semi-mmo. It is not full mmo just thought many people get confused about it and thought it was full mmo. Anyway, this game raised the bar to mobile gaming platform so high that playing other open world games seemed pale in comparison.\n",
      "No 5. Its a great game and i have a suggestion. Why don't make a trading system so player can trade items they did not use but other player use. And i think this is neccesary because lots of people have materials they dont need but others player need and the other way too.\n",
      "No 6. They should add an option to message friend to join his world, because low level player cannot join high level player, so if he need some help, he message an player in his friends list and his friend joins.\n",
      "No 7. The camera zooms in by itself some times, the stamina system needs improving and the gacha rates could be a bit better for the F2P players. Everything else is top tier, graphics, world, characters, voice acting and combat are all fantastic.\n",
      "\n",
      "\n",
      "\n"
     ]
    }
   ],
   "source": [
    "n_topics_ldamodel(5, 'Update 1.1.2, Positive Reviews', data_ready, corpus, id2word, data)"
   ]
  },
  {
   "cell_type": "markdown",
   "metadata": {},
   "source": [
    "## 7 Topics"
   ]
  },
  {
   "cell_type": "code",
   "execution_count": 21,
   "metadata": {
    "ExecuteTime": {
     "end_time": "2021-01-18T07:21:36.902975Z",
     "start_time": "2021-01-18T07:20:46.182031Z"
    },
    "scrolled": false
   },
   "outputs": [
    {
     "name": "stdout",
     "output_type": "stream",
     "text": [
      "Update 1.1.2, Positive Reviews\n",
      "7 Topics\n",
      "----------------------------------\n",
      "Coherence Score:  0.457\n",
      "\n",
      "\n",
      "Top 7 texts for Topic 1\n",
      "Keywords: download, time, take, long, fun, friend, day, iphone, worth, make\n",
      "=======================================================================================\n",
      "No 1. E un joc bun de oare ce e pe stilul me controalele la fel e un joc bun grafica o recomand #foarte bun# 😇😇😇😇😚😇 T t Tt T T 5 5 5 65 55 5 5 R R R r r t tt T T T T T T R 5 5 5 5 5 5 5 4 1 2 3 4 5 6 7 89 0 12 3 4 5 6 7 8 90 1 0 1 23 45 667 890 3 1 1 4 5 6 7 89 1 34 5 6 7 9 9 9 Lol lol\n",
      "No 2. make server malaysia please becauce server asia ping 120ms++\n",
      "No 3. It was good and all the stuffs but the only problem is it takes so long to download in the start\n",
      "No 4. ITSS GOOD AT START BUT U WILL GET BORING AFTERWARDS\n",
      "No 5. Its a really fun game but if youre a FP2 it takes a lot of grinding\n",
      "No 6. Take too long to download in-game data\n",
      "No 7. Over all, it has been nothing but swor... I mean FUN, hehe\n",
      "\n",
      "\n",
      "\n",
      "Top 7 texts for Topic 2\n",
      "Keywords: love, really, much, nice, character, fun, good, get, awesome, amaze\n",
      "=======================================================================================\n",
      "No 1. This is entirely personal preference, but I loved the game and enjoying every bit of it. I didn't like Honkai Impact much (also strictly according to personal likings). This game has everything I love in a game and also gives SAO vibes 🤫🤭 Really love it!\n",
      "No 2. Its beautiful! It has very beautiful graphics with fun stories and characters To my fellow genshin players: ehe te nandayo?!\n",
      "No 3. I love the game it is so fun to play i love getting new characters and doing quests i really love the game i really recomend it\n",
      "No 4. I just love how the game plays out and how it's an adventure game and i love the game's designs like for the characters and map and i love the updates so i can't wait for the 1.2 update so 5☆\n",
      "No 5. Its story is very good and it's graphic is very good. Mihoyo please created a new character with big oppai\n",
      "No 6. Love the game, Can we have a gender change item in the game? Also a rollback item would be really nice :)\n",
      "No 7. I really love this game so so much! I enjoy paly with it and the design characters was awesome !!\n",
      "\n",
      "\n",
      "\n",
      "Top 7 texts for Topic 3\n",
      "Keywords: phone, fix, lag, say, good, problem, account, love, want, get\n",
      "=======================================================================================\n",
      "No 1. Good but I think this game is quite good! In fact I’m already in love. But the thing is, how can I fully enjoy if it’s always going to be laggy. :(\n",
      "No 2. This game is so good. I hope my phone can handle the future update because i really want to continue playing this game until the end.\n",
      "No 3. I love this game but I can't re login and I don't wanna lose all my progress I made I tried logging in and I get a parameter error.\n",
      "No 4. Oh man,i play this game in my brother phone but i can't because my phone is old version,i wish i can buy phone soon that i can play this too! P.s: This is game is lit🔥\n",
      "No 5. Pleas fix it after update after clear dungeon always force close snapdrag 865\n",
      "No 6. i get my account back in less than a week. but sorry, 1 ★ feel disapointed to your account security and run away.\n",
      "No 7. Its a great game but when u try login in now i only get parametet error .please help ,i dont want to lose all my progress\n",
      "\n",
      "\n",
      "\n",
      "Top 7 texts for Topic 4\n",
      "Keywords: best, good, ever, graphic, amaze, great, mobile, love, story, cool\n",
      "=======================================================================================\n",
      "No 1. Best Open world game ever on mobile. The storyline is pretty good and unique and the music sounds very magical and perfectly blended in the whole scenario of the game . It's free to play is another great thing about the game . Awesome graphics . Best game on Playstore .\n",
      "No 2. Best Mobile game ever! Immersive gameplay, amazing graphics, and amazing characters. Genshin impact is truly the best mobile game ever.\n",
      "No 3. -Top notched graphic -Fun to play styles -Open world exploration -Cool storyline -Cute characters And what's more, free to play! Definitely recommend this game.\n",
      "No 4. Great I would like to say that this is an amazing RPG mobile game, the graphics are phenomenal the gameplay is amazing although I haven’t made it into the game too far but I love it\n",
      "No 5. Very good game overall, really like the asthitic looks of characters. Story quest are very entertaining. Vast open world; its just beautiful.\n",
      "No 6. So good great graphics and I don't usually like rpgs or open world mobile games but the controls feel so smooth would recommend.\n",
      "No 7. Loveee i.The graphics are Amazing!I love the gameplay and the whole story,the controls are easier than I thought.I recommend this game\n",
      "\n",
      "\n",
      "\n",
      "Top 7 texts for Topic 5\n",
      "Keywords: mobile, good, great, really, app, well, pc, phone, gb, update\n",
      "=======================================================================================\n",
      "No 1. Impressive game Improve better quality for pc and resolution Improve better resolution for phone Improve performance Ect\n",
      "No 2. every thing is pretty well made, but can the cutscenes run smoother? I sometimes get stuck during one and after the visuals are reloaded, the cutscenes are over.\n",
      "No 3. Good game, though it looks like zelda botw. I play botw too but i have no problem with it, still enjoying it. Easy to play, and good graphic.\n",
      "No 4. I mean, a mobile game with PS graphics for free? Of course it's five stars. This is a dream come true\n",
      "No 5. Great game. I play on PC. My mobile cannot handle it. In future I will also try to play genshin on mobile.\n",
      "No 6. As good or better than Breath of the wild and free...and on mobile and PS4!? Impressive\n",
      "No 7. C'mon breath of zelda : mobile version can't be bad by any means.\n",
      "\n",
      "\n",
      "\n",
      "Top 7 texts for Topic 6\n",
      "Keywords: star, give, character, get, player, make, favorite, great, thing, resin\n",
      "=======================================================================================\n",
      "No 1. Why not other than gatcha rate there is nothing that bad also if you are crying for gatcha rates then you haven't played any gatcha games even in pubg you need to spend around 500-1000$ for one mythic limited set 😑 and you are saying this games gatcha rates sucks at least this game gives you a 4 star Character at 10 poll and 75-90 guarantee 5star which is good for free to play players like me 😁\n",
      "No 2. Omg soooooooooooo funnnn but little content and bad gacha rate and slow resin recharge !!!\n",
      "No 3. Give me Tartaglia for an additional star because the rates suck so bad i only have 1 5star with multiple days played\n",
      "No 4. Sensational storyline and gameplay. Just wish that they made the resin and pity system better for f2p players.\n",
      "No 5. I LOVE THIS GAME TO THE MAXXXXX. 🎤ˢᵃʷᵃʳᵃˢᵉⁿᵃⁱ🥰ᵏⁱᵐⁱ😺ʷᵃ⛓ˢʰᵒᵘʲᵒ👻ⁿᵃ💅🏼ⁿᵒ?✨ᵇᵒᵏᵘ🌸ʷᵃ🧚ʸᵃʳⁱᶜʰⁱⁿ🤴ᵇⁱᶜᶜʰⁱ😾ⁿᵒ😩ᵒˢᵘ🚣ᵈᵃ🎉ʸᵒ💦. all the characters are pretty as well as the overall gameplay and co-op modes. THANKYOU MIHOYO- YOU GAVE ME A WILL TO LIVE.\n",
      "No 6. I LIKE THE MECHANICS OF THIS GAME I DONT NEED TO EXPLAIN EVERY DETAILS WHY THIS IS A PERFECT GAME FOR ME BUT THERES ONE THING I CAN SAY THIS IS A GAME THAT I WANT FOR A LONGGGGGGGGGGGGG TIME\n",
      "No 7. I would have left a 5 star but since the resin cooldown is too slow and the rates for a 5 star wish is too low.\n",
      "\n",
      "\n",
      "\n",
      "Top 7 texts for Topic 7\n",
      "Keywords: gacha, need, get, character, pull, want, level, system, high, make\n",
      "=======================================================================================\n",
      "No 1. Great game, no kidding, RNGs are great overall, in gacha, in artifacts main stats and subs stats :D kappa\n",
      "No 2. It is enjoyable but if you're f2p there's a low low low chance of getting a 5* Weapon and character\n",
      "No 3. I want to lower my world level to play this game casually.\n",
      "No 4. Sets a new standard for gacha game quality.\n",
      "No 5. I want to play more but now I realize I want to play some real player\n",
      "No 6. suggestion for improvement is to have more options with regards to the camera angle and to not aggressively roll the camera angle whenever the character is doing an action\n",
      "No 7. F2p friendly if you have a boosted luck on your life\n",
      "\n",
      "\n",
      "\n"
     ]
    }
   ],
   "source": [
    "n_topics_ldamodel(7, 'Update 1.1.2, Positive Reviews', data_ready, corpus, id2word, data)"
   ]
  },
  {
   "cell_type": "markdown",
   "metadata": {},
   "source": [
    "## Analysis for Update 1.1.2 Positive Review - Chosen: 4 Topics\n",
    "\n",
    "4 Topics\n",
    "1. Suggestions (Resins, Coop, other improvements)\n",
    "2. Topics on Characters system\n",
    "3. Technical Issues (bugs, lags)\n",
    "4. Love for the game: emphasis on graphics and gameplay\n",
    "\n",
    "5 Topics\n",
    "1. Technical Issues (bug)\n",
    "2. Topics on Characters system\n",
    "3. Storage size issues and Technical issues (lag, server ping)\n",
    "4. Love for the game: emphasis on graphics and gameplay\n",
    "5. Suggestions (gameplay)\n",
    "\n",
    "7 Topics\n",
    "1. Storage size issues\n",
    "2. Topics on Characters system\n",
    "3. Technical Issues (bug, lags, account secruity)\n",
    "4. Love for the game: emphasis on graphics and gameplay\n",
    "5. Love for the game: emphasis on mobile and free\n",
    "6. Complains on Gacha and Resin systems\n",
    "7. Complains on Gacha and other suggestions\n",
    "\n",
    "Both **5 and 7 topics have some overlapping topics**, hence **4 topics is the optimal number of topics chosen**."
   ]
  },
  {
   "cell_type": "markdown",
   "metadata": {},
   "source": [
    "# Patch 1.1.2, Negative Reviews"
   ]
  },
  {
   "cell_type": "code",
   "execution_count": 49,
   "metadata": {
    "ExecuteTime": {
     "end_time": "2021-01-18T08:18:44.588979Z",
     "start_time": "2021-01-18T08:18:26.255232Z"
    }
   },
   "outputs": [],
   "source": [
    "data = df.loc[(df['update'] == '1.1.2') & (df['pos_neg'] == 'neg')]\n",
    "\n",
    "data_ready = process_words(data['content'])\n",
    "\n",
    "# create a new dictionary of interger numbers and unique words in the entire dataset\n",
    "id2word = corpora.Dictionary(data_ready)\n",
    "\n",
    "# create the term document frequency corpus\n",
    "corpus = [id2word.doc2bow(text) for text in data_ready]"
   ]
  },
  {
   "cell_type": "markdown",
   "metadata": {},
   "source": [
    "## 3 Topics"
   ]
  },
  {
   "cell_type": "code",
   "execution_count": 23,
   "metadata": {
    "ExecuteTime": {
     "end_time": "2021-01-18T07:22:24.746933Z",
     "start_time": "2021-01-18T07:21:55.624967Z"
    },
    "scrolled": false
   },
   "outputs": [
    {
     "name": "stdout",
     "output_type": "stream",
     "text": [
      "Update 1.1.2, Negative Reviews\n",
      "3 Topics\n",
      "----------------------------------\n",
      "Coherence Score:  0.321\n",
      "\n",
      "\n",
      "Top 7 texts for Topic 1\n",
      "Keywords: star, character, make, money, bad, zhongli, even, get, time, really\n",
      "=======================================================================================\n",
      "No 1. Used to think this was the best gacha I'ver ever played until impotent Zhongli was released. Along with the other weak Liyue 5-star characters and this whole Liyue \"B***F*\" drama blew up everywhere. I thought Mihoyo was a Chinese company trying to singlehandedly export some Chinese culture but instead they keep telling us how great Mondstadt is and how weak and obsolete Liyue is in comparison. The gacha rate is ridiculously expensive already and you give us a 3-star Zhongli disguised as 5-star?\n",
      "No 2. MHY releases hype trailers and blatantly misleading live streams to sell underwhelming high-rarity characters (worse than lower rarity characters in almost all fronts) and then has the gall to ignore player feedback and condescend to them saying essentially \"[Zhongli] is working as intended, please learn how to build him properly.\" For a pve game, increasing underperforming characters' power to be on par with others of similar rarity hurts no one, but MHY is too prideful and greedy for that.\n",
      "No 3. Monetization is ruining this game. I don't mind spending money, but I want to respected as a player, not a walking wallet. Progress is heavily gated behind stamina. Important parts of 5 star chars are gated behind paywalls heavily. This is really evident with the new 5 star, who without his kit can hardly compete with 4 star chars. You maybe need to spend thousands to make this 5 star char complete. If the game continues to go in this direction, I cannot see a bright future.\n",
      "No 4. Zhongli Recently released 5 star character was released under-tuned, and as a result, underpowered. Even as a support, he pales in comparison to lower rarity characters. Mihoyo holds much of Zhongli’s power behind constellations that require multiple dupes (AKA hundreds to thousands of dollars). Disappointed. This is an excellent game, but if 5 star characters continue to be poorly designed and their true power gated behind severe pay walls, I won’t be playing much longer.\n",
      "No 5. 5 star heroes never easy or cheap to own. Zhongli is the new 5 star hero they released and his so called \"support\" unit (they never said when advertised), but his potential are being locked in the constellation. Which means we will never get a full potential hero unless you whale (A LOT). This behaviour is become a trend for MHY, which means we may only get a 30% potential of a 5 star hero in the future if we just roll a single unit for it. Rating it 3 star for now because of their greedy.\n",
      "No 6. Don't waste your money for this game, not recommended for people with addiction problem. the gatcha droprates is horrible, game progression gated with paywall. Even to level up your character's talent is gated with weekly bos item that u might found at about 2 years grinding. And Zhongli is bad for 5* char worth about 200 usd! Mihoyo you are a greedy predator in this industry. Check reddit and their forums first! See how much people complain and Mihoyo not even bat an eye\n",
      "No 7. Best single player experience atleast. Gacha part of this game is bad since you must rely on some constellation levels, its even worse for Zhongli because of locked behind paywall support. This is the first gacha game I played where characters are gone until they do another event summon, so goodbye Venti/Klee/Childe and new 4stars. The resin system has been raised by only 40 more. Battle pass on top of this extreme gacha? Pushing it. $100 = 50 rolls a big no. Buff Zhongli\n",
      "\n",
      "\n",
      "\n",
      "Top 7 texts for Topic 2\n",
      "Keywords: quest, account, add, design, feature, abandon, nov, go, great, security\n",
      "=======================================================================================\n",
      "No 1. They actually have a Chinese Communist Party PR shill trying to mislead people on Reddit on how \"good\" the state of the game is currently at. The company is also secretly sending gems to streamers to influence people in spending more money in the game, bypassing the promotion label law due to secrecy & non currency exchange. Why is the company acting so suspicious? Hiring CCP as shills should be a red flag due to CCP influence & spyware.\n",
      "No 2. Edit: There are so many people saying they got hacked and received ridiculous response from your CS saying they cannot recover the account because the hacker purchase new stuffs. I am scared that I will lose my account and considering to not purchase anymore. Please fix the security and the account recovery rules.\n",
      "No 3. We are using google login (google play game) to play the game and there is no option to redeem any code since the official website doesnt provide option for google login its UNFAIR. If use our google email to login or register to the website it will create a new game account.\n",
      "No 4. My account got hacked then when I contacted support to reclaim my account, I can provide all information about my account except one single purchase bill (give all other bills) and Mihoyo support said no. I'm very dissappointed with how Mihoyo support players problems!\n",
      "No 5. Decent game but lacks basic security features like two factor authentication. People getting hacked and/or notifications about others trying to hack them left and right. Will consider changing rating when basic security features are added.\n",
      "No 6. Hello mihoyo, i hope you can help me fix the issue i encountered, i'm trying to purchase the gnosis hymm, but i encounterer a problem with my google play, and then after i tried to process another transaction it says \" failed to get product information\" hope you can help me.\n",
      "No 7. I previously posted a review that magically vanished overnight (no notification). This game is a lottery in more way than one! If you Google \"genshin impact account error\" you'll see what I mean. Overall the game itself is good, but it's just too unstable and you may wake up one day with your account locked out and no support.\n",
      "\n",
      "\n",
      "\n",
      "Top 7 texts for Topic 3\n",
      "Keywords: ca, good, storage, system, fix, able, predatory, graphic, say, phone\n",
      "=======================================================================================\n",
      "No 1. Can't finish the data resources so waste of time. I already at 4GB away to reach 7GB data resource. I left to the game because it says it will continue to download in background, so it does. The real thing is it vanished in my notifications l bar then when I open the app it restarts the download but when I look in the application manager it stores about 4GB why???? I have 10GB free storage and it said insufficient because the download data resource restarted. What a waste. Can you fix this ???\n",
      "No 2. This bug is starting to annoy me..sometimes when using pyro(fire) attack, a random environmental electro effect triggers, then it get me blown off and fell down, no wonder I kept getting blown off whenever I use fire skill sometimes while battling enemies. It happens even not in battle, example when I use Klee I throw a bomb and I saw purple Electro effect the moment the bomb explodes sometimes.\n",
      "No 3. Please make it run fine for all kinds of phones. I am using realme 5 with 128gb storage ang 1/4 of my phone storage is in use and the game still lags, crash and my phone is over heating. The longest time I played the game is 28mins and it crashes all the time. Please fix it. I really love the game and it's a fun game. As of december 5,2020 9:19pm PH time. My phone hangs longer yhan before twice today because of over heating. Take note, I only played the game for 15mins. Please do something.\n",
      "No 4. since the last update i got to play it in my mobile phone though there are still bugs and laggy moments especially in water battle areas and it makes it difficult to finish a quest because of its laggy-ness some of their skills doesn't come out or they may act like doing it but it doesn't come out also when I attack slimes in waters I slide out too far— as in SLIDE not walk or run while Im frozen in act of attacking the battles in water are just laggy af :) pls fix this\n",
      "No 5. This game is poorly optimized which makes the game unplayable. The game stutters each time it is streaming and loading assets in the background. Even on a Mi 10 rooted for performance phone equipped with a Snapdragon 865 chipset this game runs poorly. The 30 FPS mode is not correctly frame paced and is not smooth. The developer needs to reduce the draw distance and run the game with the Vulkun API. And fix the 30 FPS mode so it looks smooth.\n",
      "No 6. The game looks amazing, but its unplayable for all but extreme high-end phones. I have a medium-end phone (Blackview BV9100) and its a stuttering, unplayable experience even when all settings are turned down as low as they can go. Also, both times ive installed the game ive had weird texture glitches. The first time the ground didnt show, and the second time the thing that flies through the sky in the beginning didn't show properly.\n",
      "No 7. The game is good and the story line is nice but how come Everytime I face Dvalin the screen just glitches? My phone is Infinix HOT 9 play and it was a bit compatible at first but when I faced Dvalin, it just glitches not to mention Everytime I fight in a nearby lake, river, ocean, the game just lags and gets delayed. The timer on the challenge still goes normally but the cool down of my skills are really delayed despite my internet connection being stable. Right now, I'm having troublewithcutsce\n",
      "\n",
      "\n",
      "\n"
     ]
    }
   ],
   "source": [
    "n_topics_ldamodel(3, 'Update 1.1.2, Negative Reviews', data_ready, corpus, id2word, data)"
   ]
  },
  {
   "cell_type": "markdown",
   "metadata": {},
   "source": [
    "## 5 Topics"
   ]
  },
  {
   "cell_type": "code",
   "execution_count": 24,
   "metadata": {
    "ExecuteTime": {
     "end_time": "2021-01-18T07:25:11.049759Z",
     "start_time": "2021-01-18T07:23:47.046594Z"
    },
    "scrolled": false
   },
   "outputs": [
    {
     "name": "stdout",
     "output_type": "stream",
     "text": [
      "Update 1.1.2, Negative Reviews\n",
      "5 Topics\n",
      "----------------------------------\n",
      "Coherence Score:  0.394\n",
      "\n",
      "\n",
      "Top 7 texts for Topic 1\n",
      "Keywords: star, character, make, money, zhongli, time, even, want, really, much\n",
      "=======================================================================================\n",
      "No 1. Good game but monetization is getting out of hand. The recent update introduces a 5star character kit locked behind a constellation 6. (if u have no idea of what constellation is, it is basically getting another duplicate of that hero, and 6 is how many dupes u need). Based on the current trend, if no changes are in place, future heros might see even more obvious kits being locked behind paywall. Please do not start this game if u hv no discipline on your wallet.\n",
      "No 2. The story of the game is very good. I usually play this game like 1~2 hours a day. It's your choice to grind hard or play casually. However, there's an issue with the recent release of character. Zhongli (5*), the God of Geo who is supposed to be a \"support\" character is being outshined of 4* characters. His core abilities are being locked behind a paywall, and it is affecting the community greatly. I'm afraid this trend will continue and the company will release these kind of characters.\n",
      "No 3. Everything was bad, unbalanced heroes drop rate, to many bugs. The game is made for pay to win to progress. If you guys are f2p, dont instal it im telling you guys. This game is pure luck for f2p. Dont waste your time playing these. I can't believe this game have 4.5 rating i believe the rating was fake. Well after doing almost 100 wish still I don't get any 5 star character, this game was trash, dont ever play this..... Its pure luck game!!!!!!!\n",
      "No 4. It makes me really sad I love the idea of this game but no matter how hard I try I never pull a character, I don’t think it’s fair to make us spend so much money to ~ maybe ~ get a 5 star (or even 4 star) I just wanna have the same opportunities that gamers with a lot of money have, because they can roll however many times they want.\n",
      "No 5. Still waiting for 2 Factor Authentication to be implemented. Genesis Crystals cost way too much. Zhongli's kit needs a fix/buff as he's only half functional and can't even do his job properly as a support (seriously?). A part of me wishes I could trade him in for 4* dupes. Resin takes too long to recover. Guess I'll revert to f2p from now on.\n",
      "No 6. Can’t believe you make ZhongLi so weak!! He is the first character I love so much in a game, the first game ever I spent $300 USD for him, it's not about money but the feelings that someone you loved so much being called rubbish or the worst 5 Star even a 4 stars is better than him!! -5 Stars until he get what's he deserves!!\n",
      "No 7. Game is great and everything is wonderful, until you spend some time on this game then you understand the limits they put on f2p players, then you really start to hate the game, because to get 5 stars weapons or characters you need to spend alot of money and its not worth because you will never get the characters of weapons that you actually want .\n",
      "\n",
      "\n",
      "\n",
      "Top 7 texts for Topic 2\n",
      "Keywords: account, get, security, fix, issue, hack, mihoyo, back, player, problem\n",
      "=======================================================================================\n",
      "No 1. Controls are broken on large tablets. I get it doesn't have controller support but it also doesn't let u adjust the touch controls. It uses a fixed joystick for moving instead of drawing the joystick wherever u first touch the screen. What's worse is the positioning clearly wasn't set up for large tablets. Instead of being on the far left side of the screen it's closer to the center. The only way to move is to use your pointer finger as its unreachable with ur thumb. Really disappointed smh.\n",
      "No 2. Too many security issues that allow hackers to take control of your account despite linked email or phone number. Takes forever to respond on customer service. Also, if you don't contact them every two days or so when they say your ticket is in the queue, the ticket will be closed for inaction, starting the process over again. Until I get my account back and these security issues are fixed, I stand by this rating since it is pointless how much you like the game when you can lose your account so easily due to Mihoyo's security issues\n",
      "No 3. Account was hacked due to their poor security, takes long time to get help, customer service is a gach, like in the game, you either get lucky or unlucky and wait days or week for response/resolution from what others with hacked accounts hace experienced (myself included). Some wait days for resolution while others take weeks to a month. CS also is inconsistent some say something, others say something else. Until it changes rating will remain unchanged.\n",
      "No 4. Fun while it lasted. But then one night I get a message, Logged on another device. Changed passwords made a ticket but you banned me for what the hacker did to my account, its been over a week no response its bs and I want it fixed and thensome or refund all purchases. The hackers stole logon information directly from your website you're at fault there are write ups on the exploit you supposedly fixed that let people use login tokens but you didnt reset affected accounts ?\n",
      "No 5. The game is really good and fun to play! But there is a massive problem. There are way to many people saying their accounts are getting hacked. The numbers of complaints are concerning. Even tho the game is great, people might as well just stop playing so they have less of a risk to getting hacked.\n",
      "No 6. Hi I love this game and everything about it but I've recently been logged out of my account unwillingly and now I can't log back in? I've emailed the customer support emails but it's been days and still no response. It says that the account doesn't have enough verified security information (something along those lines) and it really hurts to lose my AR 43 account that I've spent some money on :(\n",
      "No 7. I previously posted a review that magically vanished overnight (no notification). This game is a lottery in more way than one! If you Google \"genshin impact account error\" you'll see what I mean. Overall the game itself is good, but it's just too unstable and you may wake up one day with your account locked out and no support.\n",
      "\n",
      "\n",
      "\n",
      "Top 7 texts for Topic 3\n",
      "Keywords: system, ca, predatory, able, gacha, great, good, graphic, resin, thing\n",
      "=======================================================================================\n",
      "No 1. predatory predatory gacha system + crappy resin system. these amazing graphics and soundtracks are wasted on this cash grab.\n",
      "No 2. Good but We should be able to quit world quest I have been stuck on one for a week because I cant do it and now I cant play with my friends at all so I have stopped playing completely\n",
      "No 3. Great game but... If I’m a fire type I should not have to be able to take damage from my own attacks that is the dumbest thing in the game and it should be changed\n",
      "No 4. MY FREAKING PROGREES WAS ERASED!! I HAD TO FREAKING RESTART AND I PLAYED THIS GAME SINCE THE RELASE!! I FU**ING HATE THIS!!!\n",
      "No 5. An Storybook for 4 years old children :) Very good animations and graphic!\n",
      "No 6. Pay to win but has a good graphics and a good story\n",
      "No 7. After the 1.1 update there's been a bug on aiming where i can't move my skills and the bow\n",
      "\n",
      "\n",
      "\n",
      "Top 7 texts for Topic 4\n",
      "Keywords: terrible, design, nov, bad, phone, go, character, fix, lag, good\n",
      "=======================================================================================\n",
      "No 1. Although it has good audio and visuals with interesting story and characters, the game is annoyingly buggy and laggy. Controls also don't work properly. Difficulty spikes up really fast and extremely steep. Its only good at the beginning and then fades suddenly. At first, it is enjoyable.. But now is has become more like a chore and an unbearable struggle.\n",
      "No 2. It is good but its annoying that the game has too much graphics even if i lowest it make it compatible with low end devices so they can enjoy the game too even if its low its lag every time and sometimes crashes and fps drop please do it\n",
      "No 3. Story line was okay but gameplay is very poor control are not good and fps drop very fast I have 6gb ram mobile Plz fix all problems\n",
      "No 4. The game is very good and exciting. But for some reason the sound in this game has not been working. The sound is a bit kragaly, and only works when i have a Bluetooth connected speaker or headphones\n",
      "No 5. Poorly optimised for my phone when my phone have the capability to play in high graphics. And multiplayer mode is really terrible, full of limitations.\n",
      "No 6. The game is extremely laggy. My phone has the recommended spec SDM845 and yet it lags with the lowest settings.the graphics needs to be optimize.\n",
      "No 7. This game is really good but after the update, my phone always crash and also even though my network has no problem this game always lag\n",
      "\n",
      "\n",
      "\n",
      "Top 7 texts for Topic 5\n",
      "Keywords: quest, storage, add, feature, abandon, say, download, start, great, fine\n",
      "=======================================================================================\n",
      "No 1. Wow it take so long to download then it say I don't have space I have like 7 gb free then it download like 1 gb then say oh sorry you don't have space tha heck I have 6 gb of space pls fix this\n",
      "No 2. Add an abandon quest feature The game is great and all but there has to be an “abandon quest” feature. I accidentally started a quest and now I can’t play with my friends anymore, please add it so I can play with them again\n",
      "No 3. I downloaded this game. It was of 7.6 GB. Now when I am opening the game, it says download 7.6Gb. waht about the one that I downloaded earlier ???\n",
      "No 4. Can you add some pets please? 🥺🥺 Also can you allow cross-server coop??? Please😭😭😭😭😭\n",
      "No 5. When you finish downloading the app, you will download more resources when you enter the 7gb + app\n",
      "No 6. Ah yes, Anime of The Wild Totally has nothing in common to the Legend of Zelda Breath of The Wild\n",
      "No 7. Great game... But need to start servers in India. Playing with a red ping is not so entertaining.\n",
      "\n",
      "\n",
      "\n"
     ]
    }
   ],
   "source": [
    "n_topics_ldamodel(5, 'Update 1.1.2, Negative Reviews', data_ready, corpus, id2word, data)"
   ]
  },
  {
   "cell_type": "markdown",
   "metadata": {},
   "source": [
    "## Analysis for Update 1.1.2 Negative Review - Chosen: 3 Topics\n",
    "\n",
    "3 Topics\n",
    "1. Complains on characters rates and monetization (ZL)\n",
    "2. Account security issues\n",
    "3. Technical issues (bugs, storage)\n",
    "\n",
    "5 Topics\n",
    "1. Complains on characters rates and monetization (ZL)\n",
    "2. Account security issues\n",
    "3. Complains on character rates, monetization and resin system and random stuff\n",
    "4. Technical issues (bugs and lag)\n",
    "5. Storage Issues and request for features\n",
    "\n",
    "**Point 1 & 3 for the model with 5 topics are overlapping topics**, hence **3 topics is the optimal number of topics chosen**."
   ]
  },
  {
   "cell_type": "markdown",
   "metadata": {},
   "source": [
    "# Patch 1.1.1, Positive Reviews"
   ]
  },
  {
   "cell_type": "code",
   "execution_count": 25,
   "metadata": {
    "ExecuteTime": {
     "end_time": "2021-01-18T07:23:47.045592Z",
     "start_time": "2021-01-18T07:22:53.401459Z"
    }
   },
   "outputs": [],
   "source": [
    "data = df.loc[(df['update'] == '1.1.1') & (df['pos_neg'] == 'pos')]\n",
    "\n",
    "data_ready = process_words(data['content'])\n",
    "\n",
    "# create a new dictionary of interger numbers and unique words in the entire dataset\n",
    "id2word = corpora.Dictionary(data_ready)\n",
    "\n",
    "# create the term document frequency corpus\n",
    "corpus = [id2word.doc2bow(text) for text in data_ready]"
   ]
  },
  {
   "cell_type": "markdown",
   "metadata": {},
   "source": [
    "## 4 Topics"
   ]
  },
  {
   "cell_type": "code",
   "execution_count": 26,
   "metadata": {
    "ExecuteTime": {
     "end_time": "2021-01-18T07:25:11.049759Z",
     "start_time": "2021-01-18T07:23:47.046594Z"
    },
    "scrolled": false
   },
   "outputs": [
    {
     "name": "stdout",
     "output_type": "stream",
     "text": [
      "Update 1.1.1, Positive Reviews\n",
      "4 Topics\n",
      "----------------------------------\n",
      "Coherence Score:  0.463\n",
      "\n",
      "\n",
      "Top 7 texts for Topic 1\n",
      "Keywords: love, good, amaze, really, graphic, fun, great, much, story, awesome\n",
      "=======================================================================================\n",
      "No 1. OH MY LORD It’s so good 😭 I love the graphics and I love anime and it just relates to that. And I love how every characters has a background my favorite characters is xinagling she is a chef from and her favorite place is the chicken -oh I mean kitchen 😂\n",
      "No 2. AMAZING GAME!!!! Everything is done well: the storyline, lore, design, music, game mechanics, etc... If you love open-world adventure games, this is definitely recommended for you! Your download/waiting time is worth it :)\n",
      "No 3. I love it! The graphics and visual and most importantly my favorite part is that their knights and knights are my favorite thing in the world. Gladly I found this game with unique gameplay. Thanks!\n",
      "No 4. I'm really surprised, I've been playing for a few hours only but the game feels pretty good untill now, nice graphics, cool story, really worth playing!\n",
      "No 5. A beautiful rpg. Great VAs simple controls. I'm loving it. To be honest if it wasn't some of the voice actresses i follow on tiktok i wouldn't even have looked at the game\n",
      "No 6. I love the graphics and the story, although it took 7+ hours to download, the wait was totally worth it!!! This game is so entertaining, the voice acting is chef kiss!\n",
      "No 7. Rpgesque I love it even though rpg’s aren’t my thing. The character design and graphics is what kept me here and I am a stickler for side quests and this has provided me with a plethora of just that ✌🏾❣️\n",
      "\n",
      "\n",
      "\n",
      "Top 7 texts for Topic 2\n",
      "Keywords: best, ever, mobile, good, free, far, give, rpg, gacha, star\n",
      "=======================================================================================\n",
      "No 1. The game itself is phenomenal but the gacha system is way too exploitative. The only reason I'm not giving this game a 3 star because of it is because the game devs are reworking on the gacha system.\n",
      "No 2. Best ARPG in the market. Drop rates if gacha system should just be modified for a better experience; especially for 5-star heores.\n",
      "No 3. This is easily the best RPG available on a mobile platform. I'm not even considering the fact that this game is free.\n",
      "No 4. So far the best ever f2p this year!! My only complainis that there's no PVP, slap that in I say this is a solid 10/10 for now 9/10\n",
      "No 5. Definitely not p2w, it doesn't even have pvp. You can clear all content with free units. The quality of this game is just superb.\n",
      "No 6. Great mechanics and cross-platform gameplay. The best open world ARPG up to date.\n",
      "No 7. Surprisingly good for a moblie rpg the only thing tho is that its a gacha game and I'm poor.\n",
      "\n",
      "\n",
      "\n",
      "Top 7 texts for Topic 3\n",
      "Keywords: get, character, make, star, want, new, give, wish, great, thing\n",
      "=======================================================================================\n",
      "No 1. NERF TRAILS OF TIANQIU TIME TRIAL 3RD FLOOR. This part of the quest is just plain sadistic. Childe pre nerf is way \"easy\" compared to this time trial.\n",
      "No 2. The game is great, but when I'm defeating some of the bosses my character starts to slide around, and it becomes difficult to complete challenges. When I tried to defeat Dvalin, he starts glitching out to the point that I can't even defeat him 😰.\n",
      "No 3. Awesome! But.. I have been stuck at Adv. Rank 35 despite having more than enough exp. to level up (16670/7475). Every game has it’s flaws, but this has been frustrating considering I haven’t been able to make progress with the Story Quests or the World Level. Other than this, I have faced no other problems with this game.\n",
      "No 4. Got bug, after challenge complete in spiral abyss can't continue nxt floor, treasure and monster drop item are stuck into ground can't collect. Pls fix.\n",
      "No 5. 5 star LET ME HAVE ONE 5 STAR PLEASEE THIS GAME IS AWESOME BUT I WANT ONE 5 STAR AND I CANT GET HER PLEASEEEE LET ME HAVE KLEE AR33 AND NO 5 STAR DOES GOD HATE ME LET ME HAVE AT LEAST ONE 😭😭😭😭😭💔💔💔💔\n",
      "No 6. Really great game, but for a f2p it's hard to get new characters. I also wish there was some easier way to get exp so you can level up characters quicker and easier\n",
      "No 7. Genshin impact really gives you freedom/time on how you work on your po progress. They dont force you to do any event in a set time. So its a great game for a busy player who want to enjoy the game\n",
      "\n",
      "\n",
      "\n",
      "Top 7 texts for Topic 4\n",
      "Keywords: phone, fix, good, crash, lag, problem, update, work, go, controller\n",
      "=======================================================================================\n",
      "No 1. It's a great game and all, but you gotta fix the camera angle it often gets blocked by trees, rocks, grass, bushes, and other obstacles it's pretty annoying also it would be great if you guys add the ability to configure the touch screen controls overall its a great game.\n",
      "No 2. After the update 1.1, I can no longer play the game on my Samsung Note 10+. Apparently, this game is too much for my phone to handle rn so it keeps crashing. Idk if any other smart phone experiences the same problem but I'm starting to rule out playing this game on phones. Such a shame, because most of the time I only have my phone with me and not my laptop.\n",
      "No 3. luv this game!! but theres this glitch where the enemies you're fighting will go to the respawn point even if you fight them and try to stop them?? also there are times where enemies don't have a healthbar??\n",
      "No 4. Camera angles While fighting in Dunyu Ruins the hills and tall grass makes fighting hard to see while camera rotates during fights\n",
      "No 5. Game runs really good on my Samsung Galaxy fold 2. And my iphone 12 pro max. I also play it on my pc but am always on my phone so I play there the most.\n",
      "No 6. Hi. it's me again. I just liked to say that this game has been pretty good. And i have found a bug. When you tried to aim, the camera won't MOVE. Fixxing this bug would be very good.\n",
      "No 7. the new update 1.1 has a bug we can't aim with bow properly the aim doesn't move .hope you fix this bug quickly\n",
      "\n",
      "\n",
      "\n"
     ]
    }
   ],
   "source": [
    "n_topics_ldamodel(4, 'Update 1.1.1, Positive Reviews', data_ready, corpus, id2word, data)"
   ]
  },
  {
   "cell_type": "markdown",
   "metadata": {},
   "source": [
    "## 6 Topics"
   ]
  },
  {
   "cell_type": "code",
   "execution_count": 27,
   "metadata": {
    "ExecuteTime": {
     "end_time": "2021-01-18T07:26:31.948604Z",
     "start_time": "2021-01-18T07:25:11.051756Z"
    },
    "scrolled": false
   },
   "outputs": [
    {
     "name": "stdout",
     "output_type": "stream",
     "text": [
      "Update 1.1.1, Positive Reviews\n",
      "6 Topics\n",
      "----------------------------------\n",
      "Coherence Score:  0.499\n",
      "\n",
      "\n",
      "Top 7 texts for Topic 1\n",
      "Keywords: love, amaze, much, good, time, really, phone, say, download, take\n",
      "=======================================================================================\n",
      "No 1. I recommend 100 PERCENTT it's an amazing game great graphics sometimes the loading is slow but it doesn't matter the plot is nice there are many things you can do I love all the different characters so cute the first time the download it, it's really long but later it will load in about 20 mins (at most)\n",
      "No 2. Lag issues 💔 The game is so amazing however it’s lagging time to time. I really hope the next update bring more optimism to the old phone like 6s if I play in the low graphics the game will be better and with the game optimize more there will be no more lag issues 👍🏼🙌🏼\n",
      "No 3. It’s so good I takes a while but I love it I think it is a great app to get not a waste of time or space but it dose take a LOT of space so it is not good for everyone\n",
      "No 4. Loved it so much though my phone maybe a bit laggy but game is superb although I just started and yet many things to do and understand hope you all enjoy as I am right now.\n",
      "No 5. I love the game, the graphics, the playstyle and story. But everytime there's an update, it always has to download another 5 - 7gb of data, which is just too much. I get that this game might not be for low end devices, but still. That's too much.\n",
      "No 6. I hope you'll allow different server to play with other server. Like for example. EU server and Asia server. That would be great! Hope you update it.\n",
      "No 7. It is very nice however there are times where the cutscenes get laggy and freeze also sometimes the game has lag spikes but other then that it is quite nice.\n",
      "\n",
      "\n",
      "\n",
      "Top 7 texts for Topic 2\n",
      "Keywords: best, ever, mobile, star, give, free, gacha, rpg, far, open_world\n",
      "=======================================================================================\n",
      "No 1. The game itself is phenomenal but the gacha system is way too exploitative. The only reason I'm not giving this game a 3 star because of it is because the game devs are reworking on the gacha system.\n",
      "No 2. This is easily the best RPG available on a mobile platform. I'm not even considering the fact that this game is free.\n",
      "No 3. Literally the most ambitious gacha to date, hopefully it keeps growing better and better.\n",
      "No 4. This is the best game ever!! I have been playing this game for about two weeks it’s the best game I’ve ever and I mean ever played and I only get back to the title of best games this is the best game if not best app ever this game is better than tick-tock.\n",
      "No 5. After about two months of playing, this game definitely the best free RPG open world game out there on mobile.\n",
      "No 6. Amazing for a mobile game best looking mobile game I’ve seen to date.\n",
      "No 7. Amazing zelda vote / assassin's creed style game that is very enjoyable.\n",
      "\n",
      "\n",
      "\n",
      "Top 7 texts for Topic 3\n",
      "Keywords: fix, problem, crash, go, bug, ipad, get, paimon, make, issue\n",
      "=======================================================================================\n",
      "No 1. Loading issue It won’t load, keeps lagging whenever there’s a cut scene it goes black or lags. I want to play the game but this is an issue. Please fix it.\n",
      "No 2. Hello Mihoyo, i've lost my Anemoculus finder and i cant sent it to Wagner to forge it..pls fix this bug ASAP\n",
      "No 3. The game is great, but after recent update I have not been able to level up even though the gained XP is more than required xp\n",
      "No 4. Bug fixes Ok you fix my problem but when I got in to the castle it just stays a black! Plz fix this\n",
      "No 5. Would be 5 but need a mute Paimon option. Honestly makes it hard to even play it anymore.\n",
      "No 6. Ummm well when they add the update I never got to play :( before they added the update five star so I will give you that\n",
      "No 7. The game is great but I need to add more language like arabic language at next aupdate thank you\n",
      "\n",
      "\n",
      "\n",
      "Top 7 texts for Topic 4\n",
      "Keywords: phone, controller, mobile, add, pc, iphone, account, p, use, version\n",
      "=======================================================================================\n",
      "No 1. This game won my heart. I swap. Between PC and mobile depending on what I need to do in the game.\n",
      "No 2. This is not a mobile game... this is a console game that runs great on mobile. This is more than a mobile game.\n",
      "No 3. More option in controls and we want full gyro !\n",
      "No 4. Is there a way to connect your ps4 account to your phone\n",
      "No 5. sehr gut Game Sehr gut!\n",
      "No 6. I just can't play on my phone I don't have PC or anything I only use my phone 👁👄👁\n",
      "No 7. I play on PC with controller more than on phone. This is a amasing game.\n",
      "\n",
      "\n",
      "\n",
      "Top 7 texts for Topic 5\n",
      "Keywords: character, wish, get, make, player, great, thing, system, hard, way\n",
      "=======================================================================================\n",
      "No 1. More ways to get primogems I think there should be more ways to get more primogems and wishes should cost less primogems\n",
      "No 2. Spent and got unhappy with my pulls :/. I wish there was a way to exchange characters. Like 2 5* random to 1 5* of your choice. :/\n",
      "No 3. Can you decrease the resin time Instead of increase the resin capacity? It would be better\n",
      "No 4. My only complaint is getting the materials needed please make it a little more easier\n",
      "No 5. Tectone, give him money He pays your electric bills\n",
      "No 6. Please make wishing system more efficient for free to play player\n",
      "No 7. This is Great , eventhough i dont like the resin system, but overall its GREAT!\n",
      "\n",
      "\n",
      "\n",
      "Top 7 texts for Topic 6\n",
      "Keywords: good, fun, great, really, love, graphic, story, awesome, cool, nice\n",
      "=======================================================================================\n",
      "No 1. Rpgesque I love it even though rpg’s aren’t my thing. The character design and graphics is what kept me here and I am a stickler for side quests and this has provided me with a plethora of just that ✌🏾❣️\n",
      "No 2. Beautiful graphics, amazing gameplay, lots and lots and lots of stuff to find in the game, huge map and its all free to explore\n",
      "No 3. A truely stunning RPG anime style game with marvelous puzzles and a gourgeous story. Extremelly recommend.\n",
      "No 4. Lowkey really fun!! It gets kinda addicting though, other than that, the game’s really nice. Graphics ‘n’ all.\n",
      "No 5. It's really fun and I love the graphics it's smooth and beautiful keep your awesome work 😍\n",
      "No 6. The graphic really awesome and the animation too, it's so smooth and so many detail. Each character have their own characteristic.\n",
      "No 7. I love the game!!!!! Its fun and fun and fun and......FUN and Fun and.........uhhh and 🥳🥳🥳🥳 love it!!'\n",
      "\n",
      "\n",
      "\n"
     ]
    }
   ],
   "source": [
    "n_topics_ldamodel(6, 'Update 1.1.1, Positive Reviews', data_ready, corpus, id2word, data)"
   ]
  },
  {
   "cell_type": "markdown",
   "metadata": {
    "heading_collapsed": true
   },
   "source": [
    "## Analysis for Update 1.1.1 Positive Review - Chosen: 4 Topics\n",
    "4 Topics\n",
    "1. Love for the game: emphasis on graphics and gameplay\n",
    "2. Love for the game: emphasis on mobile rpg and free\n",
    "3. Topics on Characters system\n",
    "4. Technical Issues (crash, bug, lags, controller)\n",
    "\n",
    "\n",
    "6 Topics\n",
    "1. Love for the game + suggestions\n",
    "2. Love for the game: emphasis on mobile rpg and free\n",
    "3. Technical Issues (crash, bug) + suggestions\n",
    "4. Topic on game platform and controller integration\n",
    "5. Topics on Character system\n",
    "6. Love for the game: emphasis on graphics and gameplay\n",
    "\n",
    "Model with 6 topics has some overlapping topics. Hence **4 topics is the optimal number of topics chosen**."
   ]
  },
  {
   "cell_type": "markdown",
   "metadata": {},
   "source": [
    "# Patch 1.1.1, Negative Reviews"
   ]
  },
  {
   "cell_type": "code",
   "execution_count": 28,
   "metadata": {
    "ExecuteTime": {
     "end_time": "2021-01-18T07:26:54.947594Z",
     "start_time": "2021-01-18T07:26:31.950604Z"
    }
   },
   "outputs": [],
   "source": [
    "data = df.loc[(df['update'] == '1.1.1') & (df['pos_neg'] == 'neg')]\n",
    "\n",
    "data_ready = process_words(data['content'])\n",
    "\n",
    "# create a new dictionary of interger numbers and unique words in the entire dataset\n",
    "id2word = corpora.Dictionary(data_ready)\n",
    "\n",
    "# create the term document frequency corpus\n",
    "corpus = [id2word.doc2bow(text) for text in data_ready]"
   ]
  },
  {
   "cell_type": "markdown",
   "metadata": {},
   "source": [
    "## 4 Topics"
   ]
  },
  {
   "cell_type": "code",
   "execution_count": 29,
   "metadata": {
    "ExecuteTime": {
     "end_time": "2021-01-18T07:30:44.334933Z",
     "start_time": "2021-01-18T07:29:07.535573Z"
    },
    "scrolled": false
   },
   "outputs": [
    {
     "name": "stdout",
     "output_type": "stream",
     "text": [
      "Update 1.1.1, Negative Reviews\n",
      "4 Topics\n",
      "----------------------------------\n",
      "Coherence Score:  0.461\n",
      "\n",
      "\n",
      "Top 7 texts for Topic 1\n",
      "Keywords: fix, phone, lag, update, crash, bug, even, good, problem, get\n",
      "=======================================================================================\n",
      "No 1. I'm having an issue while playing the childe side story. After fighting against some ruin guard in the domain and the 60second timer runs out my game froze so I tried to restart the game but after doing so I can't enter the game anymore where its stuck with a black screen which make me unable to play the game. There are also some part of the map after 1.1 update gets frame freeze when using the teleporter. Everything else is good. Plz fix this problem\n",
      "No 2. I like the game and I truly want to get into it, but from what I've read about the recent update and from what I have experienced, the lag is unbearably high to the point where it becomes completely unplayable. I tried closing the app and opening it back up, bit it just doesn't work. It heats up my phone and ruins my wifi, so until there's a patch or something, I don't think I'll be able to play this. I'd give the game 1 stars, but I actually like the game.\n",
      "No 3. what the heck, im traped in endless reconnecting to server and black screen, while doing Childe Story quest in laboratory after fight with ruin guard ini mission hide and seek. I'm restart the game and still reconnecting and black screen, what i should do pls anyone. edit: i can leave the laboratory but if im doing story quest im still facing same problem.\n",
      "No 4. I can't continue played Childe's story because its always crash after played hide and seek when Childe fighting Mr.Cyclops. Please fix it I never get crash before but in this story quest i tried so many times but still crashed. NB: i use wifi and no problem with my connection.\n",
      "No 5. The game is wonderful from the soundtrack to the graphics to the story, there is no comparison to other mobile games, however the game is heating up my phone so much that it burns my hand, not even fortnite at 60fps gets to heat up like ess, besides drink liters of battery in minutes if possible i would like them to solve these terrible problems\n",
      "No 6. ok so can you fix the game a little more. during the jade palace mission, when i tried to enter the 2nd floor, the game straight up freezes. my device is working well, and it is put on medium setting. i tried again but same thing happened would u mind looking into this to see if others also have this issue.\n",
      "No 7. This is a greatvgame but i cant keep playing if it keeps takibg me off the app, im a mobile player who has to keep playing while the gsme takibg me off every 5 minutes, unistalled the app and installed it again and the same issue, my wifi is good too and i dont understand why this happens, please fix this issue, overall a really good game.\n",
      "\n",
      "\n",
      "\n",
      "Top 7 texts for Topic 2\n",
      "Keywords: download, update, gb, data, need, take, storage, time, say, resource\n",
      "=======================================================================================\n",
      "No 1. Ty for ubdeat and for rest 5.6GB data I am living in villag and there no any wifi service we can only use mobile data and 5.6 GB take 3 day to download because I have limited data in daily u can give ubdeat in game than no need to ubdeat in play store because play store ubdeat u need to redownload hol game agine check mobile legends they release ubdeat every month but we can ubdeat in game I played this 2.5 years but I never get problems like this\n",
      "No 2. I'm trying to download the 7gb worth of data for the game and at first it continues when the internet got interrupted and when I was at around 40% it got interrupted and it resetted progress even if the file downloaded so far is already there. So I had to clear the data and then I tried downloaded it overnight but since there is currently a typhoon we had a power interruption and the download stopped at 99%. Whem the wifi is back on, the download progress is resetted again!\n",
      "No 3. Yo wth is this? I have already downloaded more than 5GB resources before, but when there was an app update, I updated in google play store, but then when I came in the game after the update, there was another 5GB resources to download? What the heck is this? And when I looked at the storage that the genshin impact has take, it say 6.93GB(the new 5GB hasn't been downloaded yet). Are y'all trying to eat up my storage or something?\n",
      "No 4. A lot of gamer or people said that this game was very nice, so I tried to download it. Yes it downloaded to my phone but I got frustrated when I've got a notice from downloading a resources that it says I don't have enough storage but I check my storage I had 8 Gb free storage. Please less the storage so that I can play I really want to play this. Thank you!\n",
      "No 5. I'm trying to download the game data but went it almost reach 7gb the download stop went I check it the game ask me to re download the data went I see In my storage the data is downloaded but they ask me to re download again? Btw my memory space is around 15gb\n",
      "No 6. I love the game as I played it last week. However today this game updated to 160mb and disappointing fact is that as I open it up, It showed as 5GB update as a whole and all in all it show in my phone as 10GB app. It exceeds my other apps for this single game. I know this is crazy and disappointing as well.\n",
      "No 7. I was violated by the 8gb resources. you kidding? OS consume at least 1/3 of Data, and the apps... and forced to install the resources into phone memory, why you do that?! Erase data to install the game?... errr no. Give 2 stars because it looks great and also is Free to play.\n",
      "\n",
      "\n",
      "\n",
      "Top 7 texts for Topic 3\n",
      "Keywords: get, character, star, rate, bad, gacha, give, make, money, time\n",
      "=======================================================================================\n",
      "No 1. Better off playing zelda breath of the wild the game genshin has copy pasted tweeked a little which has most of your 5 star rating going oo so pretty/fun in which I agree fully breath of the wild is oo so pretty/fun ;). Feels like everything good about it was taken from zelda while resin system here literally kills the game play30+AR, co op super limited dropped the ball hard there if I wanna play a single player that=zelda buying switch+breath of the wild= cheaper than buying rolls for a 5 star\n",
      "No 2. They seriously need to add a feature of lowering your World level, like what the he*k my account is preaparing to go AR 35 preapared with all of my character and weapon with level 60 and 4*artifact lvl 16s, but as soon as I complete the Ascension test, I automaticly become AR 42, my World upgraded twice the enemy level average 68-70 now, how do i supposed to level up my weapon or character if i can't even beaten blossom of wealth/level with out dying after shotted thrice by a hilcurl archer.\n",
      "No 3. It was an amazing experience, untill they decided to let us have 4 star weapons on a banner. The thing is miHoYo, we should not be getting 4-5 star weapons on a character banner instead of a character- this is an issue I think everyone wants to be changed. And the percent chances of even getting a character are so low, I've wished so many times, saved up so much and only to be met with a thrashy 3 star weapon. Please change the chance rate for a character, it gets old very fast.\n",
      "No 4. I would like to give 5 star but after playing for 2 months I noticed that the primogem income is to low for f2p player. I think it needs a rework. I prefer honkai impact style of earning crystal. If the current system continues f2p player will have a hard time getting 5 character or weapons (I am taking about a single copy not a full constalation). And will ultimately prevent them from playing as there is nothing to look forward to in future Or introduce farmable character to keep them playing\n",
      "No 5. Im rating this a 3 because the exploration is good, The battles are good, The story is good, quests are good, but the rates of getting new characters is so bad and you have to grind for hours just to get to 1600 primogems it is so hard to get new characters if your a F2P player i cant even get the 4 star character i want because of the rates and because i cant get new characters, the battles are getting boring i litterally have the same team from AR 20 to AR 30.\n",
      "No 6. Guys seriously? I gave it 5 star review before . since I started the game I have been saving for a 5 star character. Till today I have been daily loging in and grinding for gems . Like at my 85 summon I got a 5 star weapon . If I want a 5 star weapon I would roll in a weapon banner , why would you give me a weapon on a character banner. I worked really hard for getting a single 5 star item but it wasn't a character but a weapon . Plz do something about it . Its really hard for F2P players 😪\n",
      "No 7. Have fun If you like those games that it's harder to freaking pass their freaking quests because there's impossible things like the glider test pass the glider test That's a test God it's the hardest thing I've come across so far in this game it's almost impossible I've done it almost 20 freaking time so far and found out that it is never going to happen you can't stay afloat you can't fly it's almost past a gliding test but you got to be able to fly to pass it\n",
      "\n",
      "\n",
      "\n",
      "Top 7 texts for Topic 4\n",
      "Keywords: great, really, email, account, screen, need, support, optimize, graphic, mobile\n",
      "=======================================================================================\n",
      "No 1. Problems and Mobile I'm sure that this is a great game, but on mobile I don't even know what's happening in the prologue because of how glitchy the graphics and voices are. I tried it without ear buds to see if anything would change, but there just wasn't any sound. It would be great if these could get fixed :)\n",
      "No 2. I was expecting for 4 VS 4 PVP arena in this game such as Dragon Knight.. please.. this would be the best that a fan and gamers could recieve and we expecting Global Championship soon from this game.. We need this.. please.. We want PVP arena ranking system,...\n",
      "No 3. HORRIBLE WORST GAME EVER YOU REALLY WANT ME TO PUT IN MY MY EMAIL PASSWORD NO FIX THAT AND PUT A GUEST BUTTON I WILO PUT A BETTER REVIEW WHEN THIS IS FIXED😡😡😡\n",
      "No 4. This game is basically unplayable on low-end devices, I have a Vivo V7+ and it keeps crashing and making my phone heats. Please make this game support for low-end devices\n",
      "No 5. I had little bug in my Redmi note 8 pro Worship god not showing I contacted Through email 3 weeks still not response\n",
      "No 6. This game needs some optimization and retexturing. Its unplayable. Too ahead of its time. I guess thats aa compliment because this game would be so good if it was optimized for mobile.\n",
      "No 7. Resin turns the game into 10 minutes of play a day. Unless you want to run around for chests. Hope it's fixed otherwise an awesome game and you should try it.\n",
      "\n",
      "\n",
      "\n"
     ]
    }
   ],
   "source": [
    "n_topics_ldamodel(4, 'Update 1.1.1, Negative Reviews', data_ready, corpus, id2word, data)"
   ]
  },
  {
   "cell_type": "markdown",
   "metadata": {},
   "source": [
    "## 6 Topics"
   ]
  },
  {
   "cell_type": "code",
   "execution_count": 30,
   "metadata": {
    "ExecuteTime": {
     "end_time": "2021-01-18T07:32:20.974632Z",
     "start_time": "2021-01-18T07:30:44.336932Z"
    },
    "scrolled": false
   },
   "outputs": [
    {
     "name": "stdout",
     "output_type": "stream",
     "text": [
      "Update 1.1.1, Negative Reviews\n",
      "6 Topics\n",
      "----------------------------------\n",
      "Coherence Score:  0.439\n",
      "\n",
      "\n",
      "Top 7 texts for Topic 1\n",
      "Keywords: server, good, ping, install, get, guy, always, fix, idk, cool\n",
      "=======================================================================================\n",
      "No 1. My problem is only one, actually this game is already good, cool graphics, the story is cool but only one here is the problem. What is that? Yes that is why this game has to be 7b? So you can play everyone\n",
      "No 2. Unprofessional Customer Service They are not in accordance with google play content policies or developer agreements.\n",
      "No 3. This game ruined our friendship, My friends all played this game and ignored pubg and codm games\n",
      "No 4. Idk wut its like so i put inbitween hope its good :)\n",
      "No 5. I alway got ping higher than 150 ms on Asia server\n",
      "No 6. Takes WAYYY to long to unlock multiplayer\n",
      "No 7. Asia server ping are so high\n",
      "\n",
      "\n",
      "\n",
      "Top 7 texts for Topic 2\n",
      "Keywords: get, star, character, rate, gacha, system, give, money, bad, good\n",
      "=======================================================================================\n",
      "No 1. The game is fun, but everything is designed to try and make you pay for something. The worst being the battle pass. You have to buy the premium battle pass every month. There is no f2p option to get the premium battlepass after buying it once. Talent book and weapon ascension domain have poor drop rates for the higher tier resources its extremely deflating doing the hardest level and not getting a 5 resource of even enough of the lower resources to craft a 5 star resource\n",
      "No 2. This game has wonderful graphics and game play, only thing is that this is a mihoyo game...and they want money. Basically 50% of the game is blocked behind a paywall and you need to spend lots and lots of money to progress at a normal pace and not a slow one like every normal player does. The character rates are horrible and you need resin (Basically in-game energy) to get items to get more stronger. So with that said, you'll have a much better time playing Azur Lane a Yostar game.\n",
      "No 3. Genshin Impact is really amazing game with a lot of bad mechanics. The story and the world the game is set in is huge, interactive, and dense with puzzles and stuff to explore. For the first 30-35 levels, there's so much to do that you'll spend hours exploring every book and cranny of the game. However, the game's end game and mid game are a gated slog that drags down everything else that makes this game so amazing Literally everything in the game is gated behind resin and it isn't fun\n",
      "No 4. Beatiful game with abyssmal gacha rates. While one may argue that the rates are like so due to a thin roster of available heroes currently, you still do need multiples of a character to max them out so providing better rates should still make the game financiallly viable. While I do like to spend on gacha games every now and then just to support the company, I will never spend on this game due to the gacha rates\n",
      "No 5. Horrible Experience I didn't pull out the card in my wallet just to get 30 weapons. At least fix your gacha and ensure there is at least 1 chara for every 10 pull like I just want Xinyan. It's a 4 star character but still can't get it because of what. Because all you give is weapon, weapon, weapon, weapon.\n",
      "No 6. With how bad the gacha rates are and how expensive it is to gamble in this game, it makes no sense that there is no way to fodder the constellations you get that you do not want. You pretty much get nothing if u are not lucky enough to get what you want. Even if you spend alot.\n",
      "No 7. This is money sink game, free to play player not recommended, unless you can stand being shown good stuff and given hope that never come true Played all content as ftp, not even 1 5* heroes.\n",
      "\n",
      "\n",
      "\n",
      "Top 7 texts for Topic 3\n",
      "Keywords: character, get, fix, aim, make, bug, star, camera, move, even\n",
      "=======================================================================================\n",
      "No 1. Controls could be smoother, and characters could definitely be a little more balanced, but my biggest gripe, and only reason I took stars off, is my daughter really enjoys this game, but has a hard time on some missions, but I can't co-op with her for missions because apparently having that option would be detrimental somehow to the people who don't want to use it. EDIT: I now have to add that I like the story, but I just really don't enjoy playing solo, I crave a good story co-op game.\n",
      "No 2. After the updated , I can't aim the direction I want while using Amber's bow aim or main character (geo). I can use it without aiming , but while aiming i can't see or aim the direction I wanted, it just stay at the same position. Everything is perfect except for this problem. I hope that this ' bug ' could be fix.\n",
      "No 3. Gameplay is meh, balance mech is meh, play for waifu, didn't get the waifu. If u'r poor or f2p stop right three, don't even think of installing this game. U'll get frustration instead of fun. Trust me, I quit already\n",
      "No 4. The game is good but can developer fix the camera problem when I attacking enemy the way the camera will slowly showing the grass not the character it make me hard to play the game like the game want to punch my eye\n",
      "No 5. I am playing this game from starting the game is good but the bow aiming control are very bad it's very hard to aim from it. The aim just got stuck most of the time at one point only\n",
      "No 6. Finally able to play this game. But the thing is the aiming function in this game has bug on it. I can't even move the aim cursor.\n",
      "No 7. Can't change character immediately after cooldown in a battle is very annoying, even the character already highlighted\n",
      "\n",
      "\n",
      "\n",
      "Top 7 texts for Topic 4\n",
      "Keywords: great, fix, bug, glitch, screen, really, see, amaze, audio, breath\n",
      "=======================================================================================\n",
      "No 1. Needs MFi Controller support! This game NEEDS MFi Controller support (i.e. DualShock 4, XBox, etc.) to be on par with its PS4 and Windows counterparts.\n",
      "No 2. Paywalls as far as the eye can see, I demand controller support for this wifu brain concaine\n",
      "No 3. Great game so far,but keep running into massive slow downs and graphical glitches\n",
      "No 4. There is some problem with the characters I can only see eye balls instead of the face 🤣🤣\n",
      "No 5. Please I want my save date back\n",
      "No 6. Its great game but its still have some bug when the stories playing\n",
      "No 7. Plz help i am stuck on adventure rank 25 i can't rank up i don't know why plz help 😞\n",
      "\n",
      "\n",
      "\n",
      "Top 7 texts for Topic 5\n",
      "Keywords: account, quest, ipad, email, make, get, let, lose, kick, support\n",
      "=======================================================================================\n",
      "No 1. Game just gave me a 505-6 error on the main quest line now cannot do any coop and quest line just dissappears so you cannot finish it at all, also the solution to talk to buyun they gave does not work\n",
      "No 2. Everyone loves it but I don’t So this game was mean cuz you had to use a email becuase my mom doesn’t let me use her email so I do not like this game I don’t care if you like it I only care about when you vote it 1 STAR.  \n",
      "Please Read\n",
      "No 3. I very much love playing this game but I have a quest that has glitched and has locked me out of coop mode and it's preventing me from finishing the current event and it's getting to the point of being game breaking for me...\n",
      "No 4. I have lost the acc that I've been working so hard on and none of the devs or bots even replies to the emails ive sent them.\n",
      "No 5. Predatory microtransactions. Provoking young people into gambling should be illegal. Disgusting.\n",
      "No 6. Every time I tried to play it it's not doing it it keeps saying something I forgot a d I unstalled it and it still doesn't work.\n",
      "No 7. The new event is too hard make it less harder can Anot?!\n",
      "\n",
      "\n",
      "\n",
      "Top 7 texts for Topic 6\n",
      "Keywords: update, download, gb, phone, fix, even, need, lag, data, good\n",
      "=======================================================================================\n",
      "No 1. Overall it's a very good game. But this new update sucks, we need to redownload the whole game not all of us are using wifi, some people like me are using data. Downloading speed here in PH is like a turtle -_-. Maybe you can try to minimize just a little bit the DL resources for the new update. Downloading resources sucks always error!!!\n",
      "No 2. I like the game and I truly want to get into it, but from what I've read about the recent update and from what I have experienced, the lag is unbearably high to the point where it becomes completely unplayable. I tried closing the app and opening it back up, bit it just doesn't work. It heats up my phone and ruins my wifi, so until there's a patch or something, I don't think I'll be able to play this. I'd give the game 1 stars, but I actually like the game.\n",
      "No 3. Instead downloading real big chunk of data (14giga) on pc, its downloading useless update data (12giga) And have to dowload another 14GIGA I really dont know that uninstaling is an option until now. it is a really good game thank you. I suggest to use partial than huge data instead on pc user\n",
      "No 4. Hello, i'm here just want to report something ruining the experience of the game. Previously the game runs smooth and no problems at all in Snapdragon 710. But, after 1.1 update it lag so much. Anything i've tried even using lowest graphics, major lags still exist.  I do believe this is a \"bug\" from the update. Hopefully this gonna be fixed very soon. Thankyou\n",
      "No 5. nice, but TOO MUCH STORAGE i love this game and it’s really awesome but seriously? it literally takes up half my storage and i can’t even update it anymore. i had to delete half my apps and photos to even play this game! i really love this game, but please please PLEASE try to make the storage intake of this game lower! it would be so much more helpful.\n",
      "No 6. I love the game as I played it last week. However today this game updated to 160mb and disappointing fact is that as I open it up, It showed as 5GB update as a whole and all in all it show in my phone as 10GB app. It exceeds my other apps for this single game. I know this is crazy and disappointing as well.\n",
      "No 7. It asked me to update and then when I did it all over again is downloading 5.6GB of gamedata which is so stupid. Please fix this problem. Not everyone can download 5.6Gb again and again after every update. This is so disappointing because now I just have to stop playing because I ain't wasting my internet again just because of an update. This is the same problem PUBG had when they first launched on PlayStore as well...\n",
      "\n",
      "\n",
      "\n"
     ]
    }
   ],
   "source": [
    "n_topics_ldamodel(6, 'Update 1.1.1, Negative Reviews', data_ready, corpus, id2word, data)"
   ]
  },
  {
   "cell_type": "markdown",
   "metadata": {},
   "source": [
    "## Analysis for Update 1.1.1 Negative Review - Chosen: 4 Topics\n",
    "\n",
    "4 Topics\n",
    "1. Technical issues (bugs, crash and lag)\n",
    "2. Storage Issues\n",
    "3. Complains on characters rates and monetization\n",
    "4. Technical issues (mobile optimization and account security)\n",
    "\n",
    "\n",
    "6 Topics\n",
    "1. Connection Issues\n",
    "2. Complains on characters rates and monetization\n",
    "3. Camera and control issues\n",
    "4. Technical issues (bugs)\n",
    "5. Account security issues, Content related bugs\n",
    "6. Storage Issues and Technical issues (lag)\n",
    "\n",
    "Model with 6 topics is a bit too detailed. **4 topics is the optimal number of topics chosen**."
   ]
  },
  {
   "cell_type": "markdown",
   "metadata": {},
   "source": [
    "# Patch 1.0.2, Positive Reviews"
   ]
  },
  {
   "cell_type": "code",
   "execution_count": 31,
   "metadata": {
    "ExecuteTime": {
     "end_time": "2021-01-18T07:29:07.533569Z",
     "start_time": "2021-01-18T07:28:08.716166Z"
    }
   },
   "outputs": [],
   "source": [
    "data = df.loc[(df['update'] == '1.0.2') & (df['pos_neg'] == 'pos')]\n",
    "\n",
    "data_ready = process_words(data['content'])\n",
    "\n",
    "# create a new dictionary of interger numbers and unique words in the entire dataset\n",
    "id2word = corpora.Dictionary(data_ready)\n",
    "\n",
    "# create the term document frequency corpus\n",
    "corpus = [id2word.doc2bow(text) for text in data_ready]"
   ]
  },
  {
   "cell_type": "markdown",
   "metadata": {},
   "source": [
    "## 4 Topics"
   ]
  },
  {
   "cell_type": "code",
   "execution_count": 32,
   "metadata": {
    "ExecuteTime": {
     "end_time": "2021-01-18T07:30:44.334933Z",
     "start_time": "2021-01-18T07:29:07.535573Z"
    },
    "scrolled": false
   },
   "outputs": [
    {
     "name": "stdout",
     "output_type": "stream",
     "text": [
      "Update 1.0.2, Positive Reviews\n",
      "4 Topics\n",
      "----------------------------------\n",
      "Coherence Score:  0.538\n",
      "\n",
      "\n",
      "Top 7 texts for Topic 1\n",
      "Keywords: love, great, fun, good, really, graphic, amaze, story, nice, much\n",
      "=======================================================================================\n",
      "No 1. Overall the game is exciting. The adventure, the graphic. but I hope you can variety the monster like each area different monster.. same monster can made us as player bored..\n",
      "No 2. I think making Clans and alot of missions that requires more players to finish it will make it much better , but it's still so fun to play\n",
      "No 3. Amazing! Looks great and moves fluidly. So far storyline is interesting as well. Plus Piamon is super cute!!\n",
      "No 4. Great game.. but... This game is great, hours of great gameplay, however I do feel that some of the animation or gestures are inappropriate for younger players.\n",
      "No 5. This game is really good!! Overall it is amazing. The gameplay, the graphics, the story, and even the characterss!! I love it! Keep it up mihoyo :D\n",
      "No 6. Hey can i cancel my halfway mission (tiaqiu valley) it's been 13 days and i still can't finish it. And I can't play co op mode if i don't. Please i just want to play with my friends idc about the mission at all\n",
      "No 7. Im obsessed with this game. Me and my cousin olay it all the time and co-op with each other and do quests (level 16-up if wanting to co-op). Kaeya's voice is satisfying\n",
      "\n",
      "\n",
      "\n",
      "Top 7 texts for Topic 2\n",
      "Keywords: star, get, give, character, good, say, need, free, gacha, make\n",
      "=======================================================================================\n",
      "No 1. Good game with mainly 1 big problem, the gacha rates. To get a \"guaranteed\" 5* character you need to pull an equivalent of 100$ of gems, which will give you enough gems to get the pity timer at 90 pulls. If you wanna try your luck with the 0.6% rate for 5 stars be my guest. Worst rate in all gacha games I played.\n",
      "No 2. Why are you reading this when you could be playing this masterpiece? OH... right. Because of the 2 notorious issues that keep this game from being 5-stars... 1. Just be aware that this is a gacha game w/ 1% hits on banner draws. Sadge 2. More notorious is the endgame. It will essentially limit collections of all significant rewards to 3-6 per day. So play with patience, or play with your wallet to earn more Resin.\n",
      "No 3. Its pretty good all in all But for free to play players its pretty hard.. U neet to grind so much for primogems to get a hero or an item. Which means it will be harder to get a 5 star hero or item.... Constellation is pretty hard to upgrade... Also refinements.\n",
      "No 4. This has some very rich game play and characters, though once you hit AR40, expect to be very disappointed with the exceptionally long and/or expensive grind to get your characters upgraded enough to survive again. The balance and resin systems need a major overhaul as well.\n",
      "No 5. would make it a 5 star but the gacha system is pretty bad especially for f2p who only use primogems for wishes, we f2p barely get anymore when you're ar 30+ i wish there could've been a free wish everyday just like other gacha games do\n",
      "No 6. Everything is good, but the dropped exp should increase with every level because at a high level, dropped exp does basically nothing. For those who want everything at the beginning of the game, you do get a starter bonus that actually helps.\n",
      "No 7. This game and devs deserve 5 star rating even though I didn't get 5 star weapon and character that I want. Really enjoy! Almost perfect game overall.. almost..\n",
      "\n",
      "\n",
      "\n",
      "Top 7 texts for Topic 3\n",
      "Keywords: best, ever, mobile, awesome, amaze, open, rpg, world, anime, favorite\n",
      "=======================================================================================\n",
      "No 1. An impressive open world game, Genshin Impact is an accomplishment. I would like to see more mobile games with the same kind of cross-save. Playing between PC and Android is effortless.\n",
      "No 2. Best mobile game out there Just based on the sheer fact that it translates from pc to phone so easily just makes this one of if not the best mobile game out there\n",
      "No 3. Awesome!!! Hands down the best rpg available for mobile devices. Excellent graphics and smooth gameplay.\n",
      "No 4. An amazing and immersive experience into an ever expanding world. Highly Recommended to any adventure seeker or anime lover.\n",
      "No 5. Amazing open world rpg game. Its like a console game brought to mobile. Thank you for this experience Mihoyo.\n",
      "No 6. First real open-world mmo for mobile! No downsides so far! And no ad spam!\n",
      "No 7. Wow This is seriously one of the best games I’ve ever played. I don’t care about the platform. This could be on PC, Console, or anywhere. But the fact that it plays so well on mobile is shocking.\n",
      "\n",
      "\n",
      "\n",
      "Top 7 texts for Topic 4\n",
      "Keywords: good, fix, phone, really, crash, problem, cool, work, app, iphone\n",
      "=======================================================================================\n",
      "No 1. the game is great, but... ive been experiencing many crash issues. itll crash sometimes whenever i teleport or when a cutscene starts. along with the crash issues, some of the cutscenes i havent even been able to SEE because it starts buffering and slowing the game and freezing. I have the game at its lowest graphics settings and even have rebooted my ipad a few times but it still has these issues. i really hope these will be fixed as i just want to play the game without any problems.\n",
      "No 2. Ok I guess Helllo so I’m on iPhone and I love playing this game but when I play my phone overheats and the game lags when I start all I see for the sky is black and when I get wet my entire screen goes white and blinds my eyes plz fix it. It will work for Samsung but not for iPhone thx.\n",
      "No 3. Make more optimize with low midrang phone like redmi note8 SD665 even on lowset setting gameplay stay laggy. Much laggy in fighting. make the game more smooth for Who cannot afford higher phone.please note me\n",
      "No 4. I have 6gb ram in my phone and I am able to play in lowest graphic setting and when I change my setting to lowest to low then I see lag.please update the game for little bit low end devices.and game is awesome.\n",
      "No 5. Very good game but too laggy for low end device users, It was a great game to play but i tried everything to make it lag less, please make a lite version of it for devices who cant support this version. Thx\n",
      "No 6. Monstadt is buggy :( I’m on iPad and whenever I go to Mondstadt the game crashes every few minutes or seconds whenever I try to do something. It’s also very laggy and sometimes textures don’t load.Otherwise Genshin Impact is amazing :D\n",
      "No 7. Really slow. Lots of glitches. When I first downloaded it, the game was amazing but slowing the performance deteriorated. The game slows down after 10 min of gameplay and app will crash. You gotta restart the game after every 10 min.\n",
      "\n",
      "\n",
      "\n"
     ]
    }
   ],
   "source": [
    "n_topics_ldamodel(4, 'Update 1.0.2, Positive Reviews', data_ready, corpus, id2word, data)"
   ]
  },
  {
   "cell_type": "markdown",
   "metadata": {},
   "source": [
    "## 6 Topics"
   ]
  },
  {
   "cell_type": "code",
   "execution_count": 33,
   "metadata": {
    "ExecuteTime": {
     "end_time": "2021-01-18T07:32:20.974632Z",
     "start_time": "2021-01-18T07:30:44.336932Z"
    },
    "scrolled": false
   },
   "outputs": [
    {
     "name": "stdout",
     "output_type": "stream",
     "text": [
      "Update 1.0.2, Positive Reviews\n",
      "6 Topics\n",
      "----------------------------------\n",
      "Coherence Score:  0.518\n",
      "\n",
      "\n",
      "Top 7 texts for Topic 1\n",
      "Keywords: add, update, let, character, new, quest, level, hope, change, make\n",
      "=======================================================================================\n",
      "No 1. CUZ DER IS NO GARANTE DIS GAME IS MY LAYP EASY YEH WEM MAY WORLD IS PALLING APART WEN DES NO LAYT TO BREK AP THE DARKNESS WHEN MY AAAAAY LOOK AT YU\n",
      "No 2. Nice game. But I want a game like sword art online, in which we get only one character and we can customise our characters looks, skills and class. hope someday someone makes it. The combination of sword art online and some references from the story soul land 1. The combination of adventure+battel royal with friends 😍 ♥️♥️♥️♥️\n",
      "No 3. Can't wait for new map and quest\n",
      "No 4. Goooooodddddddd gameee can we have easy rank up?\n",
      "No 5. I like the game but you should add where you can change the characters clothing because it got boring look at him or her wearing the same thing throughout the whole game..\n",
      "No 6. Good game wat there is so maney eshus is I play game and the game carch thes is may problam\n",
      "No 7. Can't wait for the next updates!\n",
      "\n",
      "\n",
      "\n",
      "Top 7 texts for Topic 2\n",
      "Keywords: star, get, give, character, good, gacha, need, system, wish, hard\n",
      "=======================================================================================\n",
      "No 1. Good game with mainly 1 big problem, the gacha rates. To get a \"guaranteed\" 5* character you need to pull an equivalent of 100$ of gems, which will give you enough gems to get the pity timer at 90 pulls. If you wanna try your luck with the 0.6% rate for 5 stars be my guest. Worst rate in all gacha games I played.\n",
      "No 2. Its pretty good all in all But for free to play players its pretty hard.. U neet to grind so much for primogems to get a hero or an item. Which means it will be harder to get a 5 star hero or item.... Constellation is pretty hard to upgrade... Also refinements.\n",
      "No 3. Overall the game is great. But, just one think.. Drop of *5 Character is too Low even in Character Event banner wish. Is hard for People who playing this game for free. (Hard to get Primogems too)\n",
      "No 4. This game and devs deserve 5 star rating even though I didn't get 5 star weapon and character that I want. Really enjoy! Almost perfect game overall.. almost..\n",
      "No 5. All of this for FREE? You're getting $60 dollar content with no cost at all. I've poured about 75 hours into the game and I still have a lot of things to do. Now there are some issues, especially on lower end devices which I hope gets improved upon.\n",
      "No 6. Good game unlike any other else even i don't have a 5 star characters after all the things i havei done to gather primogems to get a 5 star characters im AR35 WITHOUT 5 STAR CHARACTER\n",
      "No 7. I think making Clans and alot of missions that requires more players to finish it will make it much better , but it's still so fun to play\n",
      "\n",
      "\n",
      "\n",
      "Top 7 texts for Topic 3\n",
      "Keywords: fix, iphone, problem, see, bug, screen, phone, issue, white_screen, load\n",
      "=======================================================================================\n",
      "No 1. Needs improvement It keeps kicking me out of the app time to time\n",
      "No 2. El mejor juego de android, es demasiado bueno para ser realidad y gratis, 12/10.\n",
      "No 3. Dame dame ne dame yo\n",
      "No 4. Fix Yang Bintang 1 Hp Kentang :v\n",
      "No 5. Auto camera rotation while in battle is annoying\n",
      "No 6. Not working The game is not working. I just started playing. White screen running\n",
      "No 7. Why i can't login with gmail in pc with same accoun in Android\n",
      "\n",
      "\n",
      "\n",
      "Top 7 texts for Topic 4\n",
      "Keywords: love, good, really, great, fun, graphic, nice, awesome, phone, crash\n",
      "=======================================================================================\n",
      "No 1. to lag in asia server, im playing this game using xperia xz2 with sd845 it should smooth... my connection internet also in good condition so why still lag?\n",
      "No 2. I like the game and the story line very much and I hope you can fix lag so that people with low specs phone can enjoy the game more because its too laggy and it crash sometimes...\n",
      "No 3. The gameplay and story is really good, but i would like if there was a 60 fps option in the graphics setting, I'm pretty sure my samsung Galaxy S10 can handle it.\n",
      "No 4. Smooth so far with my device with the lowest settings possible, please make the game more smoother on a low end device SD636\n",
      "No 5. Please fix the lowest and medium graphic settings it makes my phone lag than higher settings which consumes more battery.\n",
      "No 6. I love the gameplay and graphics. I hope they can fix the server in asia. I get high ping even with good internet connection\n",
      "No 7. Very good game but 1 thing it's really trying to break my phone because it really over heats alot but good graphics 😀😀\n",
      "\n",
      "\n",
      "\n",
      "Top 7 texts for Topic 5\n",
      "Keywords: best, ever, mobile, rpg, world, open, wild, anime, far, adventure\n",
      "=======================================================================================\n",
      "No 1. Best game ever. Cures all depression and heals all disabilities. 11/10 would wipe memories to play again.\n",
      "No 2. Hmmmm This feels like a breath of the wild clone I like it because I like breath of the wild\n",
      "No 3. The best free RPG Adventure game I have ever played in a mobile phone\n",
      "No 4. Best Mobile Game Ever Made This is best mobile game I've played so far.\n",
      "No 5. Best open world game in mobile platform Just lava lav it 🖤🖤\n",
      "No 6. Best open world rpg game in mobile platforms\n",
      "No 7. this is the best open world adventure game till now in android platform\n",
      "\n",
      "\n",
      "\n",
      "Top 7 texts for Topic 6\n",
      "Keywords: amaze, love, great, mobile, good, fun, really, say, amazing, world\n",
      "=======================================================================================\n",
      "No 1. The Game is really awesome ! Before downloading i was not sure if the game is really that good or not as you have to download a file of approx. 5.8 GB ! Is it worth downloading ? - Genshin Impact is a game that made my wish come true as this is the type if game that i had dreamt of ! Go and download it now !\n",
      "No 2. I really need controller support on mobile. The game itself is great, but I just can't enjoy it as much as I want without support for xbox controllers. I know that the pc version supports it so i wish you could also support it on mobile\n",
      "No 3. I love the game it is very great and i love how it's open world but one thing is that the game would always stop working and kick me out and another thing is that I love this game so much and it is a time killer but it's so addicting that you can't put it down to do anything unless you're forced to.\n",
      "No 4. It is a great game.it is one of the game that i will never stop playing.a wonderful openworld game with many challenges I played it on ps4,pc and mobile it's awesome You should try it Thanks to the creators\n",
      "No 5. Addictive gameplay fulled by great music and art style. This BOTW type game was so fun I downloaded the pc version which days even better. Keep it up!\n",
      "No 6. Wow.. I'm so impressed how wonderful, relaxing but very exciting this game is.. I love everything in this game.. I really enjoyed my free will in my new journey here in an open fantasy world. Brilliant creators!!!\n",
      "No 7. Honestly the gameplay and character design is pretty good and well made and please make this game go onto Steam for PC like it would be awesome if you guys can try to do that.\n",
      "\n",
      "\n",
      "\n"
     ]
    }
   ],
   "source": [
    "n_topics_ldamodel(6, 'Update 1.0.2, Positive Reviews', data_ready, corpus, id2word, data)"
   ]
  },
  {
   "cell_type": "markdown",
   "metadata": {},
   "source": [
    "## Analysis for Update 1.0.2 Positive Review - Chosen: 4 Topics\n",
    "4 Topics\n",
    "1. Love for the game: emphasis on graphics and gameplay\n",
    "2. Topics on Characters system\n",
    "3. Love for the game: emphasis on mobile rpg\n",
    "4. Technical Issues (crash, bug, lags, server ping)\n",
    "\n",
    "\n",
    "6 Topics\n",
    "1. Request for new updates and quests (content)\n",
    "2. Topics on Characters system\n",
    "3. Technical Issues (crash, bug)\n",
    "4. Love for the game: emphasis on graphics\n",
    "5. Love for the game: emphasis on mobile rpg\n",
    "6. Love for the game: emphasis on game platform\n",
    "\n",
    "Model with 6 topics is a bit too detailed/broken down. **4 topics is the optimal number of topics chosen**."
   ]
  },
  {
   "cell_type": "markdown",
   "metadata": {},
   "source": [
    "# Patch 1.0.2, Negative Reviews"
   ]
  },
  {
   "cell_type": "code",
   "execution_count": 13,
   "metadata": {
    "ExecuteTime": {
     "end_time": "2021-01-19T07:48:49.387682Z",
     "start_time": "2021-01-19T07:48:08.080926Z"
    }
   },
   "outputs": [],
   "source": [
    "data = df.loc[(df['update'] == '1.0.2') & (df['pos_neg'] == 'neg')]\n",
    "\n",
    "data_ready = process_words(data['content'])\n",
    "\n",
    "# create a new dictionary of interger numbers and unique words in the entire dataset\n",
    "id2word = corpora.Dictionary(data_ready)\n",
    "\n",
    "# create the term document frequency corpus\n",
    "corpus = [id2word.doc2bow(text) for text in data_ready]"
   ]
  },
  {
   "cell_type": "markdown",
   "metadata": {},
   "source": [
    "## 3 Topics"
   ]
  },
  {
   "cell_type": "code",
   "execution_count": 14,
   "metadata": {
    "ExecuteTime": {
     "end_time": "2021-01-19T07:49:43.432561Z",
     "start_time": "2021-01-19T07:48:49.389679Z"
    },
    "scrolled": false
   },
   "outputs": [
    {
     "name": "stdout",
     "output_type": "stream",
     "text": [
      "Update 1.0.2, Negative Reviews\n",
      "3 Topics\n",
      "----------------------------------\n",
      "Coherence Score:  0.518\n",
      "\n",
      "\n",
      "Top 7 texts for Topic 1\n",
      "Keywords: need, account, make, mobile, good, support, add, server, bad, really\n",
      "=======================================================================================\n",
      "No 1. Still have annoying bugs, oceanid and geo hypostasis is being invisible in the middle of the fight, base on my experience if I brought a character with the same element as the boss, the bug occur. When I challenge geo hypostasis my lineup is Keqing, chongyun, barbara, ningguang, and it occur. When I removed ningguang it did not occur. Rating arent permanent, going to change this if the bug is fixed.\n",
      "No 2. The camera, The camera does not let me see when I do the dash, it does not let me see when I am fighting an enemy, it stands in the trees or bushes that are nearby and I do not see anything, also at the moment of zooming it resets when walking, fix that and the best android game is decided. Also in Honkai Impact they had a very bad camera, they are good at models but remember, that's not all.\n",
      "No 3. Nice game. But sucks at camera movement control. Realy hard to control when fighting. Sometimes just covered by the trees, grases,leaves, stones, sometimes suddenly stick on the wall when fighting. Its realy sucks. 2020 already stresful,and now you bring us this movement control?\n",
      "No 4. Developers really need to add controller support. Graphically and game play are stellar. I really really like this game, but I really hate touch controls. They cover up the crown and make it hard to see what's going on and there's no way I can remember where on my smooth glass I'm supposed to touch for things. Really really need controller support.\n",
      "No 5. Good Game But....... Not a fan of the controls on touch.\n",
      "Once the game gets game controller support I would consider a better review. \n",
      "Playing the game on PC and PlayStation is amazing even with the tricks to use a remote on Android makes the mobile experience great but until the iOS has an official support for game controller it would be a better experience!!!!!!!!!!!\n",
      "No 6. Enjoyable but very annoying camera movement, character always facing wrong direction when fighting making no able to see the mobs during a fight. No options to fix the camera to follow character like any 3rd person game (or not able to find it yet).\n",
      "No 7. Its good smooth graphic and plot the story is awsome too but i really need to quit because of the freaking bug im always reconnecting while my data is stable i mean im playing many games but why is it that this one always like that so sad.....\n",
      "\n",
      "\n",
      "\n",
      "Top 7 texts for Topic 2\n",
      "Keywords: screen, fix, white, crash, even, phone, black, work, app, download\n",
      "=======================================================================================\n",
      "No 1. Hi developer I personally Loved this game and whoud have given 5 star but I dont know why but when i use it on my phone is warming up and getting hot I'm using vivo S1 pro with CPU - Octa-core (4 x 2.0 GHz Kryo 260 Gold + 4 x 1.8 GHz Kryo 260 Silver) Chipset - Qualcomm SDM665 Snapdragon 665 (11 nm) GPU Adreno 610 Display Technology Super AMOLED capacitive touchscreen, 16M colors, Multitouch Size 6.38 Inches Resolution 1080 x 2340 Pixels (~404 PPI) Memory Built-in 128GB Built-in, 8GB RAM\n",
      "No 2. IT WONT OPEN It wont open my boyfriend and 3 of our friends can all play this game but when i download it on an iphone 6s+ it refuses to open it opens shows a white screen snd then cuts off im kind of irritated but not upset enough for one star the freviews my friend and boyfriend gives makes me give you an extra star but please fix the bug idk if im the only iphone 6s+ who cant play this or not. But please fix it i would like to play this an fix my review.\n",
      "No 3. NOT WORKING HELP ;-; i have a iphone 7+ iOS version 14.0.1(18A393) and i know this game works on an iphone 7+ cause i’ve seen gameplay but for some reason it just does not work. before launch i was able to get to the start screen and pre download but now it doesn’t even launch and i’ve been waiting for a fix or something and it’s still broken. i even tried it on my friends ipad (not sure what build but i know it’s better than a 7+) and it does the exact same thing :(\n",
      "No 4. Idk is it just me but it has so many graphic glitches. Like the faces sometimes just disappeared. Or the world doesn't look like what it has to be. Like what I see was water but it was land that i could run on it. And my phone has a really decent spec tho. I tried the lowest to the highes graphic that didn't fix the glitces idk why. Gonna give more star if u can solve my problem. And for u guys wanna download the game, please go ahead. It's really a nice game tho.\n",
      "No 5. my phone can run the game but after a minute the game closes everytime my phone met the minimum requirements to run the game, please fix it i really want to play the game. my phone is vivo y11 (3gb ram and 32gb rom) with additional 15 gb more space. i already formatted my phone to have more ram but its still crashes and forces to quit. i hope you can fix it... please....fix it pls :)\n",
      "No 6. please optimize this game for Vivo Z1 Pro ,on my device can run smoothly but many time got force closed. specification : Device : Vivo Z1 Pro Ram/Rom : 4/64 Chipset : Qualcomm Snapdragon 712 AIE Gpu : Adreno 616. Above minimun requirements isn't?,but why always forced closed even it can run this game smoothly?\n",
      "No 7. I guess it hates iPad? Tried to play. Just downloaded on my iPad. And when I go to load it up all I get is a white screen. Does it not work for iPad? \n",
      "\n",
      "(Update) so after 5-15 mins of a white screen the game boots up and plays without sound. I have my iPad volume as high as it can go and there no sound and it keeps freezing up at the beginning. I can’t get pass picking a twin.\n",
      "\n",
      "\n",
      "\n",
      "Top 7 texts for Topic 3\n",
      "Keywords: resin, system, character, rate, get, gacha, star, bad, money, good\n",
      "=======================================================================================\n",
      "No 1. Most of upgrade material need resin to gather it while resin recovery speed took 8mins/resin. Resin recovery item is only fragile resin from adv rank reward n the other is primogems with low ratio that is 50gem : 60 resin while every upgrade material took around 20-60 resin per challange. That's not fun anymore when world rank up speed faster then character upgrade (i.e : talent up , weapon enhance , chara exp , artifact enhance) n no other thing to do because already cleared all quest n puzzle.\n",
      "No 2. Gems are very expensive and very rare, Events are not rewarding, Characters are locked behind premium currency, Daily log in system does not exist( it is a limited time event), Stamina/resin system is terrible and limits gameplay to 10-20 min. And after 1 month of feedback - everything was ignored, Late game content does not exist and daily tasks becomes worthless as chests drop nothing good, Co op is rarely fun and this game is more of a single player game. Comes from a lvl 38 player who has the first limited character and used over 150 gacha pulls.\n",
      "No 3. Like others said, unfinished game, high cost gatcha, then pay more for stamina to play, weapon upgrade stone is limited by dailies like max 22? WTH. After AR 35, your vast world become empty box mihoyo, only few types of monter getting boring and you want to sell your primo? Haha fix it before your game goes down the toilet. Better add more worlds to explore, monster types and story before try to sell of new characters, no one wants new character to run same old boring empty box.\n",
      "No 4. Great open world game. Had a lot of fun exploring. However, the gacha rates in this game are disgustingly bad. The game offers a guaranteed 5 star every 90 pulls. Each pull costs 160 primogems, so 90 pulls would cost 14,400 gems. The amount of gems you get is stupidly low even on events. 100 per day for Klee event right now. Which I'm pretty sure only runs for 5 days. The gacha system even mixes the characters and weapons which makes no sense. At least separate the weapons and characters.\n",
      "No 5. i changed my mind, the drop rate for special heroes is super low, latest event state 50%drop rate for klee, but i only able to get repeated Sucrose after many time gacha. for normal gacha, i can only get repeated heroes which i never used, been gacha alot, get some 3-star weapon which i already refine +5 and the extra only can become food, a 4star weapon is useless if you dont get the same to refine. please fix the gacha, else you will losed a lot of player soon.\n",
      "No 6. Jesus christ the monetization and energy system are extremely bad. It would take 22 days of natural energy regeneration to get a character to max, and you use 8 of them for the end game content. That's not including the energy you'd then need to spend farming for equipment which is random. Rates on pulling units is abysmal at 0.6%, and your dailies accumulate 50/ 160 of the currency needed to pull per day, with a pity for a 5 star unit at 90 pulls so once you clear all the content get screwed\n",
      "No 7. Game is honestly probably the best mobile game ever made, until you reach AR35. The story ends pretty abruptly. Once you've explored the world, completed the quests, and found most the hidden stuff you're completely tied to the resin system. It takes a full 16 hours to get 120 resin, and you can literally burn all of it in less than 15 minutes of playtime. The gacha rates are also trash. It's all incredibly greedy. You can spend hundreds to play how you want, or be f2p and be super limited.\n",
      "\n",
      "\n",
      "\n"
     ]
    }
   ],
   "source": [
    "n_topics_ldamodel(3, 'Update 1.0.2, Negative Reviews', data_ready, corpus, id2word, data)"
   ]
  },
  {
   "cell_type": "markdown",
   "metadata": {},
   "source": [
    "## 4 Topics"
   ]
  },
  {
   "cell_type": "code",
   "execution_count": 15,
   "metadata": {
    "ExecuteTime": {
     "end_time": "2021-01-19T07:50:32.013409Z",
     "start_time": "2021-01-19T07:49:43.434560Z"
    },
    "scrolled": false
   },
   "outputs": [
    {
     "name": "stdout",
     "output_type": "stream",
     "text": [
      "Update 1.0.2, Negative Reviews\n",
      "4 Topics\n",
      "----------------------------------\n",
      "Coherence Score:  0.481\n",
      "\n",
      "\n",
      "Top 7 texts for Topic 1\n",
      "Keywords: mobile, need, good, server, use, make, add, control, fight, pc\n",
      "=======================================================================================\n",
      "No 1. Nice game. But sucks at camera movement control. Realy hard to control when fighting. Sometimes just covered by the trees, grases,leaves, stones, sometimes suddenly stick on the wall when fighting. Its realy sucks. 2020 already stresful,and now you bring us this movement control?\n",
      "No 2. Enjoyable but very annoying camera movement, character always facing wrong direction when fighting making no able to see the mobs during a fight. No options to fix the camera to follow character like any 3rd person game (or not able to find it yet).\n",
      "No 3. Its good smooth graphic and plot the story is awsome too but i really need to quit because of the freaking bug im always reconnecting while my data is stable i mean im playing many games but why is it that this one always like that so sad.....\n",
      "No 4. Recently became buggy. Running as my character freezes mid run have to press run button but still does it again. Audio sounds buggy. Crackling audio. Using japanese voice over.\n",
      "No 5. Please support Helio G85. I do have redmi note 9 and i always get 3-10fps. I kniw that helio g85 isa new chipset so can you please make it optimize in the game? Thank you for making this such a great game\n",
      "No 6. Paki ayos tong larong to saakin nag fo-force stop kasi eh kya 1 star lang\n",
      "No 7. Why doesn't it support on low range devices please make a lite version of your game and put it on play store for low range devices\n",
      "\n",
      "\n",
      "\n",
      "Top 7 texts for Topic 2\n",
      "Keywords: screen, white, fix, crash, even, black, phone, work, app, download\n",
      "=======================================================================================\n",
      "No 1. IT WONT OPEN It wont open my boyfriend and 3 of our friends can all play this game but when i download it on an iphone 6s+ it refuses to open it opens shows a white screen snd then cuts off im kind of irritated but not upset enough for one star the freviews my friend and boyfriend gives makes me give you an extra star but please fix the bug idk if im the only iphone 6s+ who cant play this or not. But please fix it i would like to play this an fix my review.\n",
      "No 2. my phone can run the game but after a minute the game closes everytime my phone met the minimum requirements to run the game, please fix it i really want to play the game. my phone is vivo y11 (3gb ram and 32gb rom) with additional 15 gb more space. i already formatted my phone to have more ram but its still crashes and forces to quit. i hope you can fix it... please....fix it pls :)\n",
      "No 3. Crashes to much. It’s really a great game but if I’m going to be honest, there should be a way for people with lower end PCs or iPhones to play this game. For example, despite being on the lowest graphics so the game won’t fry my graphics card, It still crashes. It’s the same thing for old phones. I get that the graphics in this game are essential and really important but all in all I want to play the game without worrying about crashing every 20\n",
      " seconds\n",
      "No 4. Disappointed terribly glitchy It’s a wonderful app but the sky doesn’t load for me it crashes all the time and the audio is glitched so if there was a way to fix that then I’d be grateful \n",
      "UPDATE I’ve tried numerous times to get this app to work and all have failed to the point I can’t even open the app because it just shows a black and white screen and crashes\n",
      "No 5. iOS 14 Issue I downloaded and played through the prologue, no issues, then updated my software and it shows a white screen which glitches to the bottom half being black and crashes shortly after. I reinstalled and it still does this. \n",
      "\n",
      "I’m hoping this can be fixed soon, I watch my friends play it and loved the intro, so I know I’ll love it once I get as far as they are.\n",
      "No 6. I guess it hates iPad? Tried to play. Just downloaded on my iPad. And when I go to load it up all I get is a white screen. Does it not work for iPad? \n",
      "\n",
      "(Update) so after 5-15 mins of a white screen the game boots up and plays without sound. I have my iPad volume as high as it can go and there no sound and it keeps freezing up at the beginning. I can’t get pass picking a twin.\n",
      "No 7. I can play it fine on my phone, but for some reason I can't do so on my laptop. I've checked and I fulfill all the graphics requirements, and I'm able to launch the game just fine. The problem is, once I'm actually in the game, I have zero visibility. There's just blinding white light everywhere. I've reloaded the game a few times and it alternates between the blinding white light and a rainbow spectrum around everything. Could someone help me figure out how to fix this?\n",
      "\n",
      "\n",
      "\n",
      "Top 7 texts for Topic 3\n",
      "Keywords: character, rate, gacha, get, star, money, bad, system, good, spend\n",
      "=======================================================================================\n",
      "No 1. Great open world game. Had a lot of fun exploring. However, the gacha rates in this game are disgustingly bad. The game offers a guaranteed 5 star every 90 pulls. Each pull costs 160 primogems, so 90 pulls would cost 14,400 gems. The amount of gems you get is stupidly low even on events. 100 per day for Klee event right now. Which I'm pretty sure only runs for 5 days. The gacha system even mixes the characters and weapons which makes no sense. At least separate the weapons and characters.\n",
      "No 2. Rating it this much is all I can give. Why? 1. Gacha system - pretty much horrible. You get to pull a guaranteed 5* after 90 pulls. Pretty much the pity system. With 4* in between 10 pulls. Which are very much... Mehh. 2. Resins - though it is pretty much okay cause you need to strategize on what to focus on. I find it bad cause if I needed this much materials for this one character, after increasing the level, it's like double. So yeah. Prettt much you just need to focus on 1 or maybe 2 of it\n",
      "No 3. Gatcha system is too expensive. Also, I lost intrrest because I never get the characters that I want. I spent already tons of time playing and wasting all my primogems and I still get pure junk. I also olay it in ps4 and the same thing. If there was a better chance to get the characters I want (Diluc, for example) I would even spend more money to guarantee him, but no, 200 wishes and I got only junk. I'm done.\n",
      "No 4. 5 stars gameplay. -5 star shop. The graphics and gameplay are fantastic, if you play this and never spend any money it's great. You can be very lucky with your purchases and be happy, but the rates are so low at times. It cost 30 dollars for enough gems for a ten wish and there is a strong chance you end up with nothing useful. Overall the game is 5 star, but if you spend money on it you are taking a huge risk based on price/reward\n",
      "No 5. I would rather pay once for the game and grinding my way through the game like the good ol' days. I understand this is a way for Mihoyo to make money, but gacha rate is stupidly ridiculous. In short, unless you are willing to spend at least few hunders usd per month, you are going to spend years to actually be good in this game. But I'll give 2 stars for the great times I had. You had me in the first half, not gonna lie\n",
      "No 6. Admittedly the game is really beautiful and well made, though the gacha system is quite ridiculous, you rarely get 5 star characters or even none, and hard to get summoning materials, and I just wished characters don't have Rarity stars in them or at least make all of them equally 5 star on rarity, so that no can be considered lame or weak in terms of rarity...\n",
      "No 7. Can't really give more than 3 stars to a gotcha game. For f2p, it's great. But the fact that it is literally impossible to get the banner heros even with a pity pull. Is really disheartening. I put 90 pulls into klee only to get a different 5 star, that in comparison, is trash. Not buying into this game. I have been rewarded better in other gotcha games that I have spent money on.\n",
      "\n",
      "\n",
      "\n",
      "Top 7 texts for Topic 4\n",
      "Keywords: resin, system, fix, make, need, account, support, player, level, quest\n",
      "=======================================================================================\n",
      "No 1. Hello. Regarding the linking accounts especially Google, there seems to be quite a problem on this matter since when you use google account to play the game, it is possible (literally the google symbol next to facebook and twitter). But when you try to link your google account to Mihoyo, it can't seem to detect the google account—it says \"email not yet registered\". When I go back to the game, it's still there, unscathed. Moreover, google acc does not exist on other platforms. Please fix this.\n",
      "No 2. The game is actually great, the story is amazing. It just lacks content and the quests aren't too rewarding in terms of adventure rank experience by ar 18+; i hope the experiences on the quests and world quests scale with ar level too. I get that it requires us to grind in the game but it really just takes the relevance of quests from the game like it's a huge waste of time. you can just run a domain thrice in 20 minutes for 300 exp instead of trying to finish a quest line for 3hrs for 300 exp\n",
      "No 3. The game is very polished in game mechanics, music, and exploration in a vast world. With a plethora of adventurers, this can be a recipe for greatness. However, this gets bogged down by the terrible monetization which limits how, when and for how long you get to play. Already 2 surveys have gone by and major issues have not been addressed. I can't stress enough that leveling will only get harder past the honeymoon stage. I can't, with good conscience, recommend this until it all gets fixed.\n",
      "No 4. Change this game name to 10min Impact..seriously the domains are fun to play but the resin(stamina) regenerate slow and after 3 boss kill/ 6 domain 20 resin each all u can do is waiting 8min per 1 resin...I'm AR 47 and seriously after daily commission n domain for 10 minutes just turn off..others say farm material I had enough of it I can lvl 90 5 of my char when reach AR50. .just do something with this ridiculous resin regenerate..1* just for the game graphic.\n",
      "No 5. Review Update: After reaching AR 35 you can't do anything. No quest anymore and it is very ultra super mega hard to find the remaining geoculus for the quest. Update the quest system. Most players are stock of nothing because there's nothing to do after or before reaching AR40. I forgot, the mora system is kinda sucks. Only 1k mora per quest but the upgrade requires more than 20k mora for 1 level. Lol. The resin system also kinda sucks. It takes forever to fill.\n",
      "No 6. This game hates letting player progress their characters. They just announced a tweak to their resin system but it just proves this company doesnt care about the real concerns of their player base. They need to increase the regen speed of their resin system, provide more ways to obtain more resin in a day, or have more activities that do not require resin.\n",
      "No 7. It was good and all but i have 1 complaint! Why is the OCEANID SO STRONG it's not even a weekly boss! It's too op! You will have to use a lot of healing and stuff in order to kill it! And That's the only way to get those upgrades for my hyrdro element characters! I can't even upgrade them because THIS OCEANID IS TOO FREAKING STRONG!\n",
      "\n",
      "\n",
      "\n"
     ]
    }
   ],
   "source": [
    "n_topics_ldamodel(4, 'Update 1.0.2, Negative Reviews', data_ready, corpus, id2word, data)"
   ]
  },
  {
   "cell_type": "markdown",
   "metadata": {},
   "source": [
    "## Analysis for Update 1.0.2 Negative Review - Chosen: 4 Topics\n",
    "\n",
    "3 Topics\n",
    "1. Account security issue, Camera and control issues\n",
    "2. Technical issues (Crashes)\n",
    "3. Complains on resin system, characters rates and monetization\n",
    "\n",
    "4 Topics\n",
    "1. Camera and control issues, connection issues\n",
    "2. Technical issues (Crashes)\n",
    "3. Complains on characters rates and monetization\n",
    "4. Complains on resin (energy) system, Account issues\n",
    "\n",
    "Both models have pretty good topics, I will pick the **4 topics as it is pretty well split**."
   ]
  },
  {
   "cell_type": "markdown",
   "metadata": {},
   "source": [
    "# Patch 1.0.1, Positive Reviews"
   ]
  },
  {
   "cell_type": "code",
   "execution_count": 37,
   "metadata": {
    "ExecuteTime": {
     "end_time": "2021-01-18T07:37:46.340338Z",
     "start_time": "2021-01-18T07:34:16.405273Z"
    }
   },
   "outputs": [],
   "source": [
    "data = df.loc[(df['update'] == '1.0.1') & (df['pos_neg'] == 'pos')]\n",
    "\n",
    "data_ready = process_words(data['content'])\n",
    "\n",
    "# create a new dictionary of interger numbers and unique words in the entire dataset\n",
    "id2word = corpora.Dictionary(data_ready)\n",
    "\n",
    "# create the term document frequency corpus\n",
    "corpus = [id2word.doc2bow(text) for text in data_ready]"
   ]
  },
  {
   "cell_type": "markdown",
   "metadata": {},
   "source": [
    "## 4 Topics"
   ]
  },
  {
   "cell_type": "code",
   "execution_count": 38,
   "metadata": {
    "ExecuteTime": {
     "end_time": "2021-01-18T07:52:25.762323Z",
     "start_time": "2021-01-18T07:50:58.529447Z"
    },
    "scrolled": false
   },
   "outputs": [
    {
     "name": "stdout",
     "output_type": "stream",
     "text": [
      "Update 1.0.1, Positive Reviews\n",
      "4 Topics\n",
      "----------------------------------\n",
      "Coherence Score:  0.531\n",
      "\n",
      "\n",
      "Top 7 texts for Topic 1\n",
      "Keywords: best, mobile, ever, open, world, free, breath, wild, rpg, pc\n",
      "=======================================================================================\n",
      "No 1. Impressive feat of a game on mobile, such a huge world the game plays like nier automata with a dash of breath of the wild with a final fantasy esk feel. If you doubt this game cuz it a mobile title, don't. This game is probably one of the best jrpgs I've played in years\n",
      "No 2. Haven't played the mobile version yet but I've played it on PS4 and its literally my favorite game ever made. These types of games are my favorite. Its surprising its free!\n",
      "No 3. Absolutely Crazy how this is a Mobile game. NEVER HAVE I EVER FELT LIKE IVE PLAYED A CONSOLR GAME ON MOBILE EVER UNTILL THIS. Blew my Mind\n",
      "No 4. Seriously I've never seen a real open world rpg and on phone? Omg this is the best game ever\n",
      "No 5. Console quality game! Absolutely cream of the mobile game market. Similar to Breath of the Wild. Nuff said.\n",
      "No 6. The best Just like the legend of zelda botw, The BEST open world MOBILE game EVER!!!!\n",
      "No 7. Console quality game. AAA RPG. Inspired from The Legend of Zelda :Breath of the Wild.\n",
      "\n",
      "\n",
      "\n",
      "Top 7 texts for Topic 2\n",
      "Keywords: see, make, say, work, character, get, wait, great, time, add\n",
      "=======================================================================================\n",
      "No 1. It's a great game, been waiting since last year for the release. Yet I wanna suggest a thing... Can you add a microphone feature in coop mode bcause it helps the players a lot since it is hard to communicate with others during the battle. Thanks dev\n",
      "No 2. The game is not live yet PEOPLE! I see in the description of this game says the game will go live at 9/28 UTC+8 10AM. At the time I write this review, it is not 9/28 UTC+8 10AM yet. UTC+8, PEOPLE!!! \n",
      "This is not a review, I just want to help people notice that. Thks.\n",
      "No 3. Better than Fortnite I was once bored and now I found this I’ll never be bored again it’s not possible there’s nothing wrong with it you guys put so much effort into this and there’s nothing to say everything is perfect if your bored or looking for new games play this now💕💕💕💕💕💕😁😁😁😁😁😁\n",
      "No 4. Coop Too much restrictions in coop. You can’t expand your map, can’t get help with main quests, can’t create an in game party chat. It’s almost boring playing with friends. It needs more to do.\n",
      "No 5. I hope you improve co-op mode so that the player joining would also be able to get rewards from elite bosses so that it would be beneficial to join than just to help out without getting anything from helping.\n",
      "No 6. I love it a lot Keep up the great work make it so more pvp capture the flag can happen please and keep it without auto questing. It’s more challenging this way too\n",
      "No 7. I Hope you can add other weapon, like Staff, dagger, scythe, etc. Also if you can implement pvp,friend chatting system coz u can only chat if ur in co-op\n",
      "\n",
      "\n",
      "\n",
      "Top 7 texts for Topic 3\n",
      "Keywords: fix, black, phone, iphone, problem, crash, great, download, screen, get\n",
      "=======================================================================================\n",
      "No 1. It's good. My device is Redmi Note 8. Snapdragon 665. It's around 30 fps (default or low) but still sometimes froze or stutter. Fix this please, if it's possible. If not it's okay, not a very big problem. Oh yeah, and when I got into the dragon cutscene, it's just black and the sound is glitchy.\n",
      "No 2. Plz fix the black screeen Everything is really good but plz fix the black screen for low devises it’s really bothering me I’m stuck on one stage and I can’t get past it because the black screen is bothering me so plz fix it\n",
      "No 3. Keeps crashing! Im currently on ios 14 on a iphone 7 plus and I get a white screen or a screen thats white on one side and black in the other then crashes after showing the screen for 10 seconds. Will give it 4 stars for now as I was able to play to a little bit on another iphone :)\n",
      "No 4. It's a great game, I have to admit even though it's a bit laggy on my phone I think the error is on my behalf but I kinda want to know if there is a solution to make it go smoother even if my phone is old\n",
      "No 5. I have a phone with a Snapdragon 755, and while it runs fine for the most part, it eats through battery like crazy. It even lags time to time. It really needs to be optimized for it to run well.\n",
      "No 6. its really good to play but the ram and your phone needs to be a good one mine is only 3gb ram and the only problem is that the game is really laggy when i play it with my phone please decrease the ram usage so more people can play it more smoothly\n",
      "No 7. always having an error on downloading resources. already tried reinstalling the app but still the same. My data connection is strong so I know that it's not the issue. I even used wifi to download it.\n",
      "\n",
      "\n",
      "\n",
      "Top 7 texts for Topic 4\n",
      "Keywords: love, good, fun, amaze, great, really, graphic, far, story, beautiful\n",
      "=======================================================================================\n",
      "No 1. very nice game its amazing, beautiful graphics combine with really cool adventure its perfect really nice game interesting story with cool animation its perfect.\n",
      "No 2. Awesome Gameplay The graphics are really clean and the gameplays smooth. I love the music that plays and the story is really good. I like that you don’t have to spend money to play. A must play!\n",
      "No 3. Amazing game! Beautiful environments and adorable characters, great story, interesting combat mechanics and highly addictive overall.\n",
      "No 4. this game is soooo fun to play with, the graphics are cool and smooth, the sound effects are really nice, overall, this is a really good game and im addicted\n",
      "No 5. An incredible game with amazing graphics, gameplay and a massively beautiful environment. Great character and monster design. Just overall such a blessing!\n",
      "No 6. So far, its pretty good, combat mechanics are pretty easy to learn. Love the exploration concept it is a pretty game.\n",
      "No 7. Great characters. Breathtaking graphics. Awesome story. Amazing gameplay! So much to do and really enjoying it a lot!\n",
      "\n",
      "\n",
      "\n"
     ]
    }
   ],
   "source": [
    "n_topics_ldamodel(4, 'Update 1.0.1, Positive Reviews', data_ready, corpus, id2word, data)"
   ]
  },
  {
   "cell_type": "markdown",
   "metadata": {},
   "source": [
    "## 6 Topics"
   ]
  },
  {
   "cell_type": "code",
   "execution_count": 39,
   "metadata": {
    "ExecuteTime": {
     "end_time": "2021-01-18T07:53:52.065398Z",
     "start_time": "2021-01-18T07:52:25.764321Z"
    },
    "scrolled": false
   },
   "outputs": [
    {
     "name": "stdout",
     "output_type": "stream",
     "text": [
      "Update 1.0.1, Positive Reviews\n",
      "6 Topics\n",
      "----------------------------------\n",
      "Coherence Score:  0.554\n",
      "\n",
      "\n",
      "Top 7 texts for Topic 1\n",
      "Keywords: best, mobile, ever, open, world, free, breath, wild, rpg, zelda\n",
      "=======================================================================================\n",
      "No 1. The open world is insane for a mobile game it feels like a 60$ triple a console game but free to play and its not paid to win\n",
      "No 2. Seriously I've never seen a real open world rpg and on phone? Omg this is the best game ever\n",
      "No 3. Genshin Impact This open world game is amazing, even better than the legend of Zelda breath of the wild\n",
      "No 4. The best Just like the legend of zelda botw, The BEST open world MOBILE game EVER!!!!\n",
      "No 5. Console quality !!! Feels like I’m playing a AAA action JRPG, i’ve never had this experience on mobile before\n",
      "No 6. This definitely the best game on mobile. Its like a free mobile version of zelda breath of the wild.\n",
      "No 7. A console level open world rpg in your hands. I can't believe that you can play games like this in a phone or tablet but now you can.\n",
      "\n",
      "\n",
      "\n",
      "Top 7 texts for Topic 2\n",
      "Keywords: good, work, say, great, make, thing, keep, try, go, add\n",
      "=======================================================================================\n",
      "No 1. Just awesome, I hope people give it a try and see the amazing job that was put here\n",
      "No 2. Nunca vi um jogo igual a esse para um smartphone! Sem palavras\n",
      "No 3. Really well put together game. A lot of effoet was put into this. Great job\n",
      "No 4. I love it so much , hope to see more things added in future updates\n",
      "No 5. It's better than all GTA V games . How many gta games will realises but , than also It's better than all GTA V. 😉😉😉😻😻❤️❤️❤️\n",
      "No 6. highly recommended Really appreciate your guys hard work \n",
      "Keep on developing guys\n",
      "No 7. Fak PUBG ML COD im into this although it needs some optimization but the game is just great\n",
      "\n",
      "\n",
      "\n",
      "Top 7 texts for Topic 3\n",
      "Keywords: fix, phone, iphone, problem, crash, great, screen, ipad, get, lag\n",
      "=======================================================================================\n",
      "No 1. The is really great but i have some issues while playing the game it crash for known reason the graphics is great maybe you can make another lowest graphic setting while im playing the game it lags or maybe some bug fixes\n",
      "No 2. Its so good but bit laggy in android cannot use highest graphics hope they fix it so that i can play it in to the fullest also there are some bugs need to be fix.\n",
      "No 3. The game is good, just something I wish would be fixed, my game is always crashing, I tried to lower my settings but still crashing, I hope you could fix it soon so I can enjoy playing the game\n",
      "No 4. It's a fascinating game, but for some reason when I play the game after 5-10 minutes of playing it lags really bad. I'm using a Moto g7 power and it lags really bad. Is there anyway to fix it or am I stuck.\n",
      "No 5. It's a very good game, the only problem is the performance issues, you have to use a game booster to even get a playable experience. Even when my phone specs is in the recommended.\n",
      "No 6. Welp the graphics is good but yeah. Also need a good phone to play this.. Even the lowest(default) still laggy.. Hahah\n",
      "No 7. It’s really great but it crashes to much I don’t know if it’s a problem with my phone but every time I play it always crashes on me randomly and I play on an iPhone 8\n",
      "\n",
      "\n",
      "\n",
      "Top 7 texts for Topic 4\n",
      "Keywords: love, good, great, fun, amaze, really, graphic, far, story, nice\n",
      "=======================================================================================\n",
      "No 1. It's amazing i love it the art and graphics are beautiful the combat is great the music is good the story is good the exploration is great the voice acting is great definitely recommend playing this game.\n",
      "No 2. very nice game its amazing, beautiful graphics combine with really cool adventure its perfect really nice game interesting story with cool animation its perfect.\n",
      "No 3. Great graphics, runs smoothly, interesting plotline, cool characters and abilities, overall, pretty good. Also I like the open world aspect\n",
      "No 4. I had so much fun playing this amazing game. Really good graphics, smooth gameplay, a big world to explore and fun characters to play with.\n",
      "No 5. So far, its pretty good, combat mechanics are pretty easy to learn. Love the exploration concept it is a pretty game.\n",
      "No 6. Great characters. Breathtaking graphics. Awesome story. Amazing gameplay! So much to do and really enjoying it a lot!\n",
      "No 7. Love the story so far, gameplay is also good. The dubbing is also good, the graphics is also good.\n",
      "\n",
      "\n",
      "\n",
      "Top 7 texts for Topic 5\n",
      "Keywords: character, star, get, give, player, gacha, make, wish, friend, system\n",
      "=======================================================================================\n",
      "No 1. I hope you improve co-op mode so that the player joining would also be able to get rewards from elite bosses so that it would be beneficial to join than just to help out without getting anything from helping.\n",
      "No 2. What's with the event? We don't even have enough Resin to farm daily, and now we need more Resin to get reward from event? At least increase the Resin cap.\n",
      "No 3. Only if you raise the chance rate of getting 5 star character from wishes a little bit higher...overall its perfect\n",
      "No 4. Rates r bad but I like the game The Gacha has weapons in it which is bad, also\n",
      "the rates are FGO level sadness or it would have been given a 5*\n",
      "No 5. Muy bueno me gustó mucho pero me gustó más el call of duty cold war\n",
      "No 6. Endgame content(for now) kinda boring, progression limited massively by resin system.\n",
      "No 7. Very fun You should give us more stuff to do and give is more Gach a roll for free to play player.\n",
      "\n",
      "\n",
      "\n",
      "Top 7 texts for Topic 6\n",
      "Keywords: black, time, wait, see, first, download, playing, hour, get, addict\n",
      "=======================================================================================\n",
      "No 1. First time playing MMORPG after stop playing this type of game for a long time and now i'm getting excited about this game 🤩\n",
      "No 2. First time playing it and it took me 10 hours without stopping im hooked to this game. I love it!\n",
      "No 3. This game is awesome. Just take lot of time to load for the first time.\n",
      "No 4. Beefy Proulge I've poured 8 hours into t and I've only just cleared Proulge Act 2\n",
      "No 5. Takes a long while but worth it Takes a long while but worth it\n",
      "No 6. Waited a long time for this game. Glad to see this was worth it\n",
      "No 7. I couldn't stop playing for hours I started at 8AM and stopped at 5PM\n",
      "\n",
      "\n",
      "\n"
     ]
    }
   ],
   "source": [
    "n_topics_ldamodel(6, 'Update 1.0.1, Positive Reviews', data_ready, corpus, id2word, data)"
   ]
  },
  {
   "cell_type": "markdown",
   "metadata": {},
   "source": [
    "## Analysis for Update 1.0.1 Positive Review - Chosen: 4 Topics\n",
    "4 Topics\n",
    "1. Love for the game: emphasis on mobile rpg and free\n",
    "2. Praises for the game, Comments about people who waited for the game\n",
    "3. Technical Issues (crash, bug, lags)\n",
    "4. Love for the game: emphasis on graphics and gameplay\n",
    "\n",
    "6 Topics\n",
    "1. Love for the game: emphasis on mobile rpg and free\n",
    "2. Praises for the game\n",
    "3. Technical Issues (crash, bug, lags)\n",
    "4. Love for the game: emphasis on graphics and gameplay\n",
    "5. Topics on Characters and Gacha system\n",
    "6. Comments about people who waited for the game, played for hours/addicted\n",
    "\n",
    "The model with 6 topics is a bit too detailed. **4 topics is the optimal number of topics chosen**."
   ]
  },
  {
   "cell_type": "markdown",
   "metadata": {},
   "source": [
    "# Patch 1.0.1, Negative Reviews"
   ]
  },
  {
   "cell_type": "code",
   "execution_count": 40,
   "metadata": {
    "ExecuteTime": {
     "end_time": "2021-01-18T07:49:32.063132Z",
     "start_time": "2021-01-18T07:48:35.078005Z"
    }
   },
   "outputs": [],
   "source": [
    "data = df.loc[(df['update'] == '1.0.1') & (df['pos_neg'] == 'neg')]\n",
    "\n",
    "data_ready = process_words(data['content'])\n",
    "\n",
    "# create a new dictionary of interger numbers and unique words in the entire dataset\n",
    "id2word = corpora.Dictionary(data_ready)\n",
    "\n",
    "# create the term document frequency corpus\n",
    "corpus = [id2word.doc2bow(text) for text in data_ready]"
   ]
  },
  {
   "cell_type": "markdown",
   "metadata": {},
   "source": [
    "## 3 Topics"
   ]
  },
  {
   "cell_type": "code",
   "execution_count": 41,
   "metadata": {
    "ExecuteTime": {
     "end_time": "2021-01-18T07:53:52.065398Z",
     "start_time": "2021-01-18T07:52:25.764321Z"
    },
    "scrolled": false
   },
   "outputs": [
    {
     "name": "stdout",
     "output_type": "stream",
     "text": [
      "Update 1.0.1, Negative Reviews\n",
      "3 Topics\n",
      "----------------------------------\n",
      "Coherence Score:  0.514\n",
      "\n",
      "\n",
      "Top 7 texts for Topic 1\n",
      "Keywords: screen, white, fix, black, crash, open, download, work, even, app\n",
      "=======================================================================================\n",
      "No 1. I know I am the only one cant play this game cuz when I finished the download, I started the game and poof, character face is gone, literally! Its so slow to rotate. I even cant see where to go since the grass is very bright! And i cant see the mountain, river, castle or anywhere! It took me 17 hour to find the lake. Fix it. The data isnt load properly. I cant see where I have to go. Literally whenever i want to see, the is nothing there. No tree, no mountain, nothing, just a water.\n",
      "No 2. A horrifying experience. Was unable to see the faces of the characters, and also I cannot see the dragon, and Paimon sometimes, thus resulting in me having no idea where to go. When fighting, I cannot see the enemies, leaving me with no choice but to randomly and hopefully shoot at the enemies without knowing where the enemies are. Horrifying to see the faces of the character disappear and the enemies popping up randomly and disappearing immediately. Also, the bridges become invisible sometim\n",
      "No 3. It’s cool, but I can’t play. I couldn’t see 10 steps ahead of me. The sky, waters were all black. Also anything beyond 10 steps were also black. Whenever I touched water my character would be covered in white glow that covers half the screen. I couldn’t play any of the cutscenes. The audio in the cutscenes were laggy and static. Also, due to me not being able to see past 10 steps I couldn’t see the storm dragon. I can’t get pass the first village or whatever.\n",
      "No 4. Bugged. I will change my review after the following fixes:\n",
      "\n",
      "1) Black everywhere. I cant see and dont know which gender is which when the screen is black, the water and sky is black, I cant see anything but the sand.\n",
      "\n",
      "2) Definitely not my wifi problem, game’s kinda laggy for an NA server\n",
      "\n",
      "3) For some reason I seem to have “Data Loss” issues, I dont know if its because im not done with the tutorial but when I log in and out then back in I restart from square 0.\n",
      "No 5. Not working Hello I have been waiting for this game to come out in ages because i fell in love with the game called Honkai. Since this was mihoyo’s new game I’d say let’s give it a try. The store said that it’s compatible with my phone so I downloaded it. When opening i find myself on a blank white screen , then it immediately turns into a half and half black and white screen. Can you please fix that. This is my second time to redownload it again and the same problem still occurs.\n",
      "No 6. I thought When I was looking at this game on the App Store it says that it is compatible with my phone which is an iPhone 7 but when I went into the app it showed a white screen then it would go half black and then kick me out of the app entirely and I saw people playing this game on the iPhone 7 on YouTube and to be honest I’m kinda disappointed that it hasn’t been fixed to let people play it on the iPhone 7, I really hope it gets fixed soon.\n",
      "No 7. Wont Load Up So a lot of my friends we’re playing this game so I thought to give it a try, well I couldn’t even do that. I made sure my data was 4/4 bars LTE and everytime I clicked the app on my iPhone 7s plus the screen would appear white. Half would go black and then it would send me back to my home screen. I restarted my device and I even connected to wifi. Same thing happened.\n",
      "\n",
      "\n",
      "\n",
      "Top 7 texts for Topic 2\n",
      "Keywords: star, rate, character, gacha, bad, system, get, resin, give, make\n",
      "=======================================================================================\n",
      "No 1. Hard gated by Resin system (Stamina). Character drop rate is too low 0.3/0.6%. World feels empty after playing 1 week of play. Very little premium currency given. Real character pity is 180 summons, you can't guarantee character without spending cash. Shop packs are terrible value. RNG heavy gear system (worse than epic seven/SW). Devs didn't listen to CN player feedback, once players progress through the game enough they will see through the facade. This game won't last long unless Devs change\n",
      "No 2. 5 star rating at the star but end game about week 1 star rating because of the resine system that we get 120 resine max which recover 1 resine per 8 minutes that will take about 20hours from 0 to 120 to recover.And 40 resine is required to farm 1 boss per one farm.Means 3 boss farm per day.And the material u need fram that boss is about 8 to 10 that will take 3 days of farm just to level up 1 character and need to level atleast4 character. U still need to level up your weapon more resine needed\n",
      "No 3. Rates to roll characters are too low (0.6%), even if I spent money its not worth it. I have a higher chance of winning the lottery. Need to remove weapons for the guaranteed 4* or pity pull rate. I've played tons of gacha and the rate of this is by far the worst, it will not last long. Look how well Dragalia Lost is doing once they changed their model to give tons of free rolls and roll currencies and upped their rates. No incentive, loots are trash and dungeons not worth the effort.\n",
      "No 4. Love the game, hate the energy system. Compared to other gacha game, GI daily energy is too limited. All players will reach endgame at some point. At that point what can they do? Login, play 8 minutes and all resins are used up? Exploring? Lol, good luck getting meaningful artifacts, enough exp books, enough mora (gold) to build a unit. --- If Mihoyo wants GI to be focused more on exploration, please make exploring more rewarding to balance out the bad energy system.\n",
      "No 5. I had to lower my rating . by 2 star . why? after u hit AR lvl 30-35-40 u have nothing to do . U want to do domain resin . u want to farm mora resin . u want to kill boss resin . this game only gve us 120 resin a day it mean u can only kill boss such as flower boss or the puzzle one 3 time for wolf and stormterror it required 60 resin mean u can only do 2 time . for domain 6 time bcouse it cost 20 resin . u cant grind bcouse resin limit u . 😒\n",
      "No 6. Great game, insidious pratices. Resin, gacha, and barren world. At the beginning, it will give you a plentiful world with a lot of things to do, but as you hit rank 30 your world will be dried up. No method to replenish that content filled world. This is the first trick. Give you the illusion of having a lot to do. Then the Resin hits you. Everything to build your characters is heavily gated. Want to test out characters? Too bad, you better plan ahead. Want good weapons and chars? You Wish.\n",
      "No 7. Gacha system rates are grim. The guranteed pulls from the pity system are pointless with mixed pools. You can end up with a weapon you may not be able to use rather than a character. The resin system is their idea of spending energy except the max cap is extremely low and the costs to do things is very high. You will essentially be gated from actively doing beneficial content when you hit about rank 18. Co-op content is abysmal with nothing to do except pickup trash.\n",
      "\n",
      "\n",
      "\n",
      "Top 7 texts for Topic 3\n",
      "Keywords: phone, graphic, good, mobile, need, make, pc, great, even, much\n",
      "=======================================================================================\n",
      "No 1. Sorry to give this 1 star rating.. The game is really good the graphics and all. However Im a auto gameplay type of player and this game does not have that. Also you can only play this game through a good PC set up or Play Station. Not intended for mobile specially phones that are not super high end. I have a phone that can handle BDM COD PUBG and they run really smoothly however in this game its like slow motion. This is my rating for your game Thank you\n",
      "No 2. Note' there's a lot of players out there have minimum specs decices, those minimum specs should be enough to run the game if the game indeed well optimize. The game is still good at my realme 5 3/32. At the beginning the game is still okay but the longer I play the ram consumption is getting higher I know the game is really but u can still optimize it for the lower end devices. Please add option to disable ragdoll and shadows, kindly apply how Battle royale games have been optimized\n",
      "No 3. Good game, great game even. I play on a Google pixel 3a XL. It's good, but sometimes the game doesn't run very well, but that's my own fault because I have max settings at 30FPS. Now, the thing is, I'm a bit concerned about my speaker. Sometimes while I play (even while muted) my top speaker (the one you put up to your ear when you are calling someone) crackled. I checked and recently the speaker gives barely any audio. Granted, there's audio, but the other speakers over come it. Can I get help?\n",
      "No 4. Seems like a great game but would be a hell of a lot better on the desktop. You guys made a windows version but as far as I know I can't run it through proton/wine. It's already for android which uses the Linux kernel so please educate me if I'm wrong but wouldn't it be easier to port this to the Linux desktop than windows since it's the same kernel? Why don't you support the Linux desktop? Are you just lazy and don't want to \"officially support\" it?\n",
      "No 5. So. To be fair, I play this on PC as well since you can link accounts and play on both. The game itself is great an enjoyable. One major issue for me is optimization on mobile. I have an LG V30 and it's like playing a slideshow on the lowest settings. 30 frames doesn't even help. It's unplayable for me on mobile but great on my PC. I like that I can continue where I left off on a couch, but I'm suffering from performance. Visually awesome, but make the game playable for oldee mobile.\n",
      "No 6. I Love this Game but hate to say this. Cant play Much cause my Phone Vivo Y19 cant handle the Game Got 4Gb Ram and 128gb of Rom Still cant play the game. Sad. Hope for the next Update Consider People Who dont have a High end Phone or PC to Play. Thanks\n",
      "No 7. The game is really good, however I can't really recommend the mobile version because of some issues. Notably the game uses battery really fast, and while this is mostly a personal preference, I find the camera settings to be lacking, with no way to disable or change the default camera angle.\n",
      "\n",
      "\n",
      "\n"
     ]
    }
   ],
   "source": [
    "n_topics_ldamodel(3, 'Update 1.0.1, Negative Reviews', data_ready, corpus, id2word, data)"
   ]
  },
  {
   "cell_type": "markdown",
   "metadata": {},
   "source": [
    "## 4 Topics"
   ]
  },
  {
   "cell_type": "code",
   "execution_count": 42,
   "metadata": {
    "ExecuteTime": {
     "end_time": "2021-01-18T07:52:25.762323Z",
     "start_time": "2021-01-18T07:50:58.529447Z"
    },
    "scrolled": false
   },
   "outputs": [
    {
     "name": "stdout",
     "output_type": "stream",
     "text": [
      "Update 1.0.1, Negative Reviews\n",
      "4 Topics\n",
      "----------------------------------\n",
      "Coherence Score:  0.509\n",
      "\n",
      "\n",
      "Top 7 texts for Topic 1\n",
      "Keywords: crash, download, even, app, fix, load, open, time, try, start\n",
      "=======================================================================================\n",
      "No 1. The apk downloaded pretty fast at 4MB/s but the in game download took 2 hours and speed was only 1MB/s - 1.5MB/s at most , the files were corrupted and couldn't run the game and when finally downloaded the files 3rd time the game actually ran , it was so laggy I couldn't play , my deviece was compitable with this , I've played honkai impact without lag on this phone , and many other high graphics game , disappointed by the lag and wastage of my 18 gb data .\n",
      "No 2. Game is awesome and played a lot in 1st day. But the problems started next day. Can't lode in to game. Waited 20 min and still loading bar didn't move. In 1st day there was no problem and I didn't need to wait longer then 30 sec to get in the game. But now I can't even play. Saddest part is that, I want to play this game more but it don't want me 😅 I will change my review, when there will be no problems to me lode in game.\n",
      "No 3. CONNCETION PROBLEM. Plz fix this, the game suddenly freeze when im playing and disconnected even i have good connection. After disconnected, i keep getting \"Cant connect to the server\" message which causes me unable to enter the game at all. Its quite annoying that this problem happened. Plz fix it ASAP tks!!\n",
      "No 4. one problem persists despite some attempts...if we are playing the game without earphones and then suddenly plug in our earphones on the phone..the whole game audio is still on speaker and the earphone although plugged in is not usable..we have to restart the game to hear the game audio and sound effects on earphone..please fix this as soon as possible..it really is annoying...other than that..it is perfect\n",
      "No 5. Big glitch So I got the game a couple days ago and I know that it’s new but I can’t even get past the first cutscene because of lag or something but it’s really annoying because I really want to play this game. It looks so fun and it seems to have a lot of fun things to do but I can’t even play the game. I’m very confused. Any help?\n",
      "No 6. This has been one of the best games I've ever played. Ever. But at some point, the game just starts to get stuck. Like, I'd log in and play for 10 seconds and it'll get stuck! I'd have to restart the app and it'll just repeat the cycle of getting stuck after 10 seconds of playing. Please fix this problem. I've even deleted more than 5 apps and the problem still persists.\n",
      "No 7. Fix the Lag Hello, I am new to the game. I just started it and I came across a  problems. The problem was the lag. The intro was so laggy I didn’t even understand anything because it was glitching. After a long time of the intro, the graphics were really good but the gameplay was so laggy! Please reach out ASAP and fix these problems.\n",
      "\n",
      "\n",
      "\n",
      "Top 7 texts for Topic 2\n",
      "Keywords: screen, white, black, see, iphone, fix, work, ipad, bug, half\n",
      "=======================================================================================\n",
      "No 1. Weird glitch I started up the game and it looked cool but when I got into actual gameplay the entire place was covered in black and not only that a huge flashing light started to appear on the middle of my screen and it was basically an epilepsy danger happening hopefully this glitch is just a me problem but if not that’s really dangerous for people with epilepsy problems\n",
      "No 2. Devs please help Hello, so I read the comments and saw other people having the same problem too. When I play the game, the background is completely black, and I can’t see water bodies. When I try to swim, the screen gets covered by white light for some reasons.\n",
      "No 3. What is going on This is really a great game but I can’t do anything because my surroundings are completely black. I mean at the beginning your supposed to fight a dragon called Stormterror but how am I supposed to fight it when I can’t even see it. Everything just goes black during the fight.\n",
      "No 4. Game is black for me I can’t play - if i can see my character pop up, only like 20 feet all around her is visible. Fighting a boss means that it’s an entirely black screen. Going into the town means an entirely black screen. I just want to play :(\n",
      "No 5. Visual The game works fine so far, however the world doesn’t render outside of the immediate area around my character and if they get wet they become a glaring white light that makes it impossible to see anything\n",
      "No 6. Game looks promising but Ok. The game itself looks amazing by what I looked at. But when I downloaded the game, most of the screen was just black. I don’t know if this is a bug because I’ve seen it happen with many people, but please fix as soon as possible.\n",
      "No 7. Black sky and ocean Love the graphics except for the black sky and the black ocean. I could see anything plus there’s a bright light that will show up on my character and on the enemies. Please fix that.\n",
      "\n",
      "\n",
      "\n",
      "Top 7 texts for Topic 3\n",
      "Keywords: phone, good, mobile, need, make, graphic, pc, great, star, really\n",
      "=======================================================================================\n",
      "No 1. The game is really good, however I can't really recommend the mobile version because of some issues. Notably the game uses battery really fast, and while this is mostly a personal preference, I find the camera settings to be lacking, with no way to disable or change the default camera angle.\n",
      "No 2. love it. but there's one thing that doesn't seem right. No controller support? this is a crossplay game and already have supported gamepad for different platforms. It should have. I wouldn't play it without a gamepad. I loved it cause the gameplay and graphics feels like a console game. but not without gamepad. so please add controller support for this game. im sure that im not the only one who feels the same way. other than that its a great game. Thanks!\n",
      "No 3. No option to enable inverted camera control. Why? Makes this game near unplayable for me. Looks pretty, but way too difficult to play for those of us that normally play with Y axis inverted. I understand I am in the minority in this one, but honestly, how difficult is it to add this option?\n",
      "No 4. -2 stars as the mobile version does not have gamepad or keyboard+mouse support. You HAVE to play with the touchpad. People have used apps to workaround this, but it doesn't work that great. I'd give it fewer stars for this, but I can play it on the PC, and it is legit a fun game. Just play on PC. Don't bother with mobile unless you're desperate.\n",
      "No 5. i would have given it a 5 star if the fps was at least better, but even with the addition of the 60fps, it still did nothing. the game is overall amazing and the graphics are stunning, the only problem with it is the fps, as alot of people do not have the latest flagship phones like myself.\n",
      "No 6. great but really laggy could maybe makw it more suitable to play on lower end phones maybe cause most budget phones are out on 2020 and buying a new phone to play this is really not an option\n",
      "No 7. No fps toggle on Android. My phones spec is a sg 845 with 6g ram other high graphics game runs smoothly on 60 fps but when I check settings options, it doesn't have fps toggle at all.\n",
      "\n",
      "\n",
      "\n",
      "Top 7 texts for Topic 4\n",
      "Keywords: star, rate, gacha, character, system, get, bad, resin, give, good\n",
      "=======================================================================================\n",
      "No 1. Love the game, hate the energy system. Compared to other gacha game, GI daily energy is too limited. All players will reach endgame at some point. At that point what can they do? Login, play 8 minutes and all resins are used up? Exploring? Lol, good luck getting meaningful artifacts, enough exp books, enough mora (gold) to build a unit. --- If Mihoyo wants GI to be focused more on exploration, please make exploring more rewarding to balance out the bad energy system.\n",
      "No 2. 5 star rating at the star but end game about week 1 star rating because of the resine system that we get 120 resine max which recover 1 resine per 8 minutes that will take about 20hours from 0 to 120 to recover.And 40 resine is required to farm 1 boss per one farm.Means 3 boss farm per day.And the material u need fram that boss is about 8 to 10 that will take 3 days of farm just to level up 1 character and need to level atleast4 character. U still need to level up your weapon more resine needed\n",
      "No 3. Rates to roll characters are too low (0.6%), even if I spent money its not worth it. I have a higher chance of winning the lottery. Need to remove weapons for the guaranteed 4* or pity pull rate. I've played tons of gacha and the rate of this is by far the worst, it will not last long. Look how well Dragalia Lost is doing once they changed their model to give tons of free rolls and roll currencies and upped their rates. No incentive, loots are trash and dungeons not worth the effort.\n",
      "No 4. Gacha system rates are grim. The guranteed pulls from the pity system are pointless with mixed pools. You can end up with a weapon you may not be able to use rather than a character. The resin system is their idea of spending energy except the max cap is extremely low and the costs to do things is very high. You will essentially be gated from actively doing beneficial content when you hit about rank 18. Co-op content is abysmal with nothing to do except pickup trash.\n",
      "No 5. Becomes boring after the first 15 hours, once you finish the side quests and story line, there's literally nothing to do except login and do your dailies. Has ABYSMAL SSR rates, the worst I've ever seen and the worst stamina system to gate your progress. Mihoyo please make changes, as much as I love the core concept, your longevity is at risk if there's NOTHING to do, no characters to upgrade, and an oppressive time gate. I want to give money, but my money doesn't amount to much either\n",
      "No 6. The game has great potential, but the gacha rates are horrible .6% chance of getting a 5-star. Alongside the gacha rates being absurd, the 5-star can be a weapon and their \"pity\" procs for a 50% chance for feature banner after 9 pulls, and a 100% chance after 18. Six duplicates are needed to max out a character. Aside from that, the resin/stamina system is horribly gated as it feels more restrictive than any other gacha. The open world isn't as lucrative/expansive as you might think. Stale atm\n",
      "No 7. 1. Gacha system - gacha is extremely merciless, rate for a 5* unit is 0.06% which is pretty damn abyssmal even by the market standard. On top of that, theres a 50% your 5* roll will be a weapon instead of a new character, so chance of 5* character is 0.03%. 2. Primogems - given their low gacha rate, you would think they would be more generous with their primogems handout, but no. Its only 5-10 gems per achievement and you need 160 for a SINGLE roll. In short: save your time, play smth else.\n",
      "\n",
      "\n",
      "\n"
     ]
    }
   ],
   "source": [
    "n_topics_ldamodel(4, 'Update 1.0.1, Negative Reviews', data_ready, corpus, id2word, data)"
   ]
  },
  {
   "cell_type": "markdown",
   "metadata": {},
   "source": [
    "## 7 Topics"
   ]
  },
  {
   "cell_type": "code",
   "execution_count": 43,
   "metadata": {
    "ExecuteTime": {
     "end_time": "2021-01-18T07:53:52.065398Z",
     "start_time": "2021-01-18T07:52:25.764321Z"
    },
    "scrolled": false
   },
   "outputs": [
    {
     "name": "stdout",
     "output_type": "stream",
     "text": [
      "Update 1.0.1, Negative Reviews\n",
      "7 Topics\n",
      "----------------------------------\n",
      "Coherence Score:  0.502\n",
      "\n",
      "\n",
      "Top 7 texts for Topic 1\n",
      "Keywords: screen, crash, open, load, download, app, fix, time, start, even\n",
      "=======================================================================================\n",
      "No 1. Data to be downloaded is too much 5.8gb If the download stops in middle the data is being lost and has to be downladed from first Do something about this divide the download into parts like 1gb per part\n",
      "No 2. download file resource always stop at 33.32% hope there's an alternative way of downloading big resource files using browser\n",
      "No 3. Doesn't work? Seems to be stuck on a loading screen with no UI to indicate what's going on? Also crashed on launch, disappointing experience, was keen to try it....\n",
      "No 4. Hey it takes a lot of time to load Only blue bridges come in loading I wait for only 1 or 2 minutes but one day i waited for an hour 😭😭⏰ What to do\n",
      "No 5. Download taking too long i got 11GB left but still can t download it and it took me 2 days to reach 1GB download\n",
      "No 6. This game is highy recomended by my friends, so i decided to download and play it. The only problem was that after a hour long download the game wouldnt get past the opening sequence before slowing down and crashing.\n",
      "No 7. Blank screen I tried downloading it and when I opened the app it showed me a blank screen for a few min and it just went home\n",
      "\n",
      "\n",
      "\n",
      "Top 7 texts for Topic 2\n",
      "Keywords: white, rate, star, gacha, character, bad, get, good, give, trash\n",
      "=======================================================================================\n",
      "No 1. Gocha rates are unforgivably bad Gocha rates are so bad. Don’t spend money. There is a .6% drop rate on 5 star characters, requiring 6 of the character to max. No good way to get characters without spending money.\n",
      "No 2. Definitely an amazing rpg, however, only being able to get 1 or 0 characters per each gacha role with abysmal character pulls makes this the worst gacha draw i have ever experienced\n",
      "No 3. This is the best game i ever play but pls the rate to get 5 star character is suck and l aready pull almost 20 pull and still no 5 star character. I hope everyone can get at least 1 5 star character gurentee\n",
      "No 4. Game play is good but gacha rate is trash + the fact you need 6 of the same characters to unlock full potential. Either change the gacha rate or give us more primogems to pull.\n",
      "No 5. Characters that get a high rate drop in the banner except venti can get for free... So it kinda useless spending gems on the banner except looking for venti\n",
      "No 6. Lowest gacha rate ever Reroll over 49 time still no 5 star !I am quitting this game until they change the gacha rate!\n",
      "No 7. Beautiful world and mostly great gameplay, ruined by greed gambling and gating. I can't recommend this game to anyone based on that.\n",
      "\n",
      "\n",
      "\n",
      "Top 7 texts for Topic 3\n",
      "Keywords: see, bug, fix, character, good, give, star, glitch, really, problem\n",
      "=======================================================================================\n",
      "No 1. Game was pretty interesting but I dont think there's any way for me to skip the cutscenes. The gameplay is fine but the cutscene freezes and and audio goes all frizzy. Game just unresponsive after that, completely unplayable.\n",
      "No 2. This game is good the graphic the gameplay is good but there is a bug if i play it my character is no face and if i see the dragon its gliching i can't see all around plss fix that bug\n",
      "No 3. Id love to give it a five star because I really love the gameplay, one thing though on my mobike I keep losing the audio whenever I comeback... Fix this please\n",
      "No 4. Can you please fix the glitch? My charcters face and every where i look it keeps disappearing hope you fix it and ill give you 5 star rating\n",
      "No 5. since this store forces to give a star i am giving one.... u dont deserve ANY star for not being able to change language at start....\n",
      "No 6. I don't know why...but the graphic is all green.. And my character face wasn't clear...I don't know where to move ...I hope you can help\n",
      "No 7. It is a nice game and all but my cut seans ceep freezing vor nou reason.\n",
      "\n",
      "\n",
      "\n",
      "Top 7 texts for Topic 4\n",
      "Keywords: resin, system, sky, level, breath, wild, fun, world, day, remove\n",
      "=======================================================================================\n",
      "No 1. Gabisa Co-op sama player yang beda World Level ANJIM!!!!\n",
      "No 2. I'm at lvl 36. Resin system is really bad. Resin takes to long to get up . Leaving you with you with nothing to do\n",
      "No 3. Great game, but resin system limits it's potential. Please rework resin system...\n",
      "No 4. Please remove the resin system it's very bad it makes the player not play.\n",
      "No 5. Racists, liara, cowards and bullies, censor what?\n",
      "No 6. Resin cap needs balance change\n",
      "No 7. Eh, pretty ok Kinda like if Bethesda made breath of the wild\n",
      "\n",
      "\n",
      "\n",
      "Top 7 texts for Topic 5\n",
      "Keywords: black, work, ipad, even, say, try, download, phone, let, kick\n",
      "=======================================================================================\n",
      "No 1. I downloaded the game and already I can't play it because it says I need 5871 megabytes of space and I have 6000 megabytes of space and it's still not downloading, I'm even trying to make more space and I even deleted this game and downloaded it again and it's still not downloading, do I just need more space and if so why not say that then, like I wanna try this game and have fun but I can't if it won't let me\n",
      "No 2. I am having trouble with storage I’ve tried deleting apps and photos but no matter what i do i cant play the game because it says “Insufficient storage space. Please ensure sufficient space and try again.” And then there is a code at the bottem.\n",
      "No 3. I have a lot of storage in my phone and I decided to download Genshin Impact,but I cant seem to play it because the app says that I dont have sufficient storage even though I have.Please help.\n",
      "No 4. This game won't start for me no matter how much space I free up it says insufficient storage space and I have almost 10GB free sooo... not a good look from my perspective\n",
      "No 5. I'm trying to make a account but it keeps saying I need space I have deleted 14 apps and freed 1 giga byte but still doesn't work\n",
      "No 6. Please help me it wont download the resources and I tried everything but it keep showing me the 997 error code except that i free my phone space and it won't get in yet🤦🏻‍♀️😭😭😭\n",
      "No 7. I can't even open it, it says that I don't have enough space for the download even though I have about 4GB of space left in my phone\n",
      "\n",
      "\n",
      "\n",
      "Top 7 texts for Topic 6\n",
      "Keywords: iphone, mobile, pc, ipad_pro, support, add, io, make, controller, great\n",
      "=======================================================================================\n",
      "No 1. Beautiful game. Well thought out. Shame there's no controller support. Especially when Android 11 has native support for xbox and ps4 controllers just like PC.\n",
      "No 2. Game is beautiful and f2p friendly only reason that I am rating below 5 stars is due to no controller support on the mobile version of the game. Add that and this is a 5 star game on mobile.\n",
      "No 3. Controller Why can’t I use a controller in this game?\n",
      "In PC or PS4 , using controller is awesome. Why don’t you support it in ios? why?\n",
      "No 4. Needs controller support for mobile version. And not proprietary controller support (eg ps4 xbox) but generic controller support i wana be able to plug my hdmi cable in and use my Bluetooth controller its more fun playing games like this that way. I'll update my rating when u add controller support. In a game like this that should be standard. Instant 2 point removal\n",
      "No 5. Needs controller support! Looks like it might be a great game, but it's unplayable until it supports a xbox or other bluetooth controller.\n",
      "No 6. Beautiful game that desperately needs the ability to use a controller instead of the on screen controls.\n",
      "No 7. So far it's fun I want to give it five stars, but I wish it had controller support for Android, for now I'll be playing on the PC\n",
      "\n",
      "\n",
      "\n",
      "Top 7 texts for Topic 7\n",
      "Keywords: phone, lag, fix, good, graphic, crash, device, even, laggy, problem\n",
      "=======================================================================================\n",
      "No 1. ASIA server is still kinda lag, I already set my graphics settings into the lowest point. But still so lag and even to the point that the game is crashing, though my phone has 4gb ram and a snapdragon chip. Hope you'll fix the issue\n",
      "No 2. Something for mid end handphone. So i play whit my mid end phone idk its a bug or my phone font strong enough but i always got glitch like shader mising componen in game mising just that i think\n",
      "No 3. Glitchy af, i play on Oppo a31 and i meet all the specs requirements but its glitchy and laggy af even at the lowest graphics settings. Apparently even others with greater specs than me have the same problem.\n",
      "No 4. overall good, but as is server ping is very high (around 200me) my internet is fine, only in this game I got such high ping. please fix this, can't really enjoy all this goodness with that annoying slight delay\n",
      "No 5. This game lag so much that I don't want to play it even though I set my graphic settings to lowest it still lag and lag . Please fix this I don't know why is this happening\n",
      "No 6. Keep crashing, i do enjoy playing this game but in my phone even in the lowest setting (Vivo Z1Pro with snapdragon 712) but it does really annoy me when it comes to game crash\n",
      "No 7. Good graphic but when i play im lagging then i buy new phone which is realme snapdragon but still lagging its to heavy for phone user pls fix it\n",
      "\n",
      "\n",
      "\n"
     ]
    }
   ],
   "source": [
    "n_topics_ldamodel(7, 'Update 1.0.1, Negative Reviews', data_ready, corpus, id2word, data)"
   ]
  },
  {
   "cell_type": "markdown",
   "metadata": {},
   "source": [
    "## Analysis for Update 1.0.1 Negative Review - Chosen: 3 Topics\n",
    "\n",
    "3 Topics\n",
    "1. Technical issues (bugs, crash and lag)\n",
    "2. Complains on characters rates, monetization and resin system\n",
    "3. Technical issues (bad mobile device performance)\n",
    "\n",
    "4 Topics\n",
    "1. Technical issues (bugs, crash and lag)\n",
    "2. Technical issues (black/white screen issue)\n",
    "3. Technical issues (bad mobile device performance)\n",
    "4. Complains on characters rates, monetization and resin system\n",
    "\n",
    "\n",
    "7 Topics [Good for detailed breakdown] \n",
    "1. Technical issues (crash and download issue)\n",
    "2. Complains on characters rates and monetization\n",
    "3. Technical issues (bugs)\n",
    "4. Complains on resin (energy) system\n",
    "5. Storage issue\n",
    "6. Controller support request\n",
    "7. Technical issues (crash and lag)\n",
    "\n",
    "The model with 4 topics split black/white screen issue into a separate topic even though it is a similar topic as game crash. Hence, the model with 4 topics is not desirable.\n",
    "\n",
    "The model with 3 topics and 7 topics are all quite well split. However, 7 topics is good for detailed breakdown of the reviews. In this case, however, I am only getting the general breakdown of the reviews, hence, the model with 3 topics will be sufficient.\n",
    "\n",
    "**3 topics is the optimal number of topics chosen**."
   ]
  },
  {
   "cell_type": "markdown",
   "metadata": {},
   "source": [
    "# Conclusion\n",
    "In this notebook, I have determined the optimal number of topics for each of the 8 datasets. They are as follow:\n",
    "\n",
    "- Update 1.1.2, Positive: 4 Topics\n",
    "- Update 1.1.2, Negative: 3 Topics\n",
    "- Update 1.1.1, Positive: 4 Topics\n",
    "- Update 1.1.1, Negative: 4 Topics\n",
    "- Update 1.0.2, Positive: 4 Topics\n",
    "- Update 1.0.2, Negative: 4 Topics\n",
    "- Update 1.0.1, Positive: 4 Topics\n",
    "- Update 1.0.1, Negative: 3 Topics\n",
    "\n",
    "Now, I will retrain the models and do more EDA on the findings from the LDA models. However, as this notebook is already very long, I will continue in the second notebook (2. Topic Modeling Part 2)."
   ]
  }
 ],
 "metadata": {
  "kernelspec": {
   "display_name": "Python 3",
   "language": "python",
   "name": "python3"
  },
  "language_info": {
   "codemirror_mode": {
    "name": "ipython",
    "version": 3
   },
   "file_extension": ".py",
   "mimetype": "text/x-python",
   "name": "python",
   "nbconvert_exporter": "python",
   "pygments_lexer": "ipython3",
   "version": "3.7.9"
  },
  "toc": {
   "base_numbering": 1,
   "nav_menu": {},
   "number_sections": false,
   "sideBar": true,
   "skip_h1_title": false,
   "title_cell": "Table of Contents",
   "title_sidebar": "Contents",
   "toc_cell": false,
   "toc_position": {
    "height": "calc(100% - 180px)",
    "left": "10px",
    "top": "150px",
    "width": "407.767px"
   },
   "toc_section_display": true,
   "toc_window_display": true
  }
 },
 "nbformat": 4,
 "nbformat_minor": 2
}
