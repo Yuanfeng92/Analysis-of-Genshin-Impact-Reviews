{
 "cells": [
  {
   "cell_type": "markdown",
   "metadata": {},
   "source": [
    "https://towardsdatascience.com/fine-grained-sentiment-analysis-in-python-part-1-2697bb111ed4"
   ]
  },
  {
   "cell_type": "markdown",
   "metadata": {},
   "source": [
    "# Import Libraries"
   ]
  },
  {
   "cell_type": "code",
   "execution_count": 4,
   "metadata": {
    "ExecuteTime": {
     "end_time": "2021-01-14T01:11:22.523711Z",
     "start_time": "2021-01-14T01:11:22.508144Z"
    }
   },
   "outputs": [],
   "source": [
    "import pandas as pd\n",
    "import seaborn as sns\n",
    "import matplotlib.pyplot as plt\n",
    "\n",
    "from sklearn.metrics import accuracy_score, confusion_matrix, ConfusionMatrixDisplay\n",
    "\n",
    "from sklearn.model_selection import train_test_split\n",
    "from sklearn.feature_extraction.text import CountVectorizer, TfidfTransformer\n",
    "from sklearn.linear_model import LogisticRegression\n",
    "from sklearn.pipeline import Pipeline\n",
    "\n",
    "from sklearn.feature_extraction.text import CountVectorizer, TfidfTransformer\n",
    "from sklearn.linear_model import SGDClassifier\n",
    "from sklearn.pipeline import Pipeline\n",
    "from sklearn.naive_bayes import MultinomialNB\n",
    "\n",
    "from sklearn.preprocessing import OneHotEncoder\n",
    "\n",
    "import nltk\n",
    "import nltk.sentiment.sentiment_analyzer \n",
    "from nltk.sentiment.util import extract_unigram_feats, mark_negation\n",
    "\n",
    "# Build the model\n",
    "from tensorflow.keras.models import Sequential\n",
    "from tensorflow.keras.layers import LSTM, Dense, Dropout\n",
    "from tensorflow.keras.layers import SpatialDropout1D\n",
    "from tensorflow.keras.layers import Embedding\n",
    "from tensorflow.keras.callbacks import EarlyStopping\n",
    "\n",
    "from tensorflow.keras.preprocessing.text import Tokenizer\n",
    "from tensorflow.keras.preprocessing.sequence import pad_sequences"
   ]
  },
  {
   "cell_type": "code",
   "execution_count": 3,
   "metadata": {
    "ExecuteTime": {
     "end_time": "2021-01-14T01:10:56.326400Z",
     "start_time": "2021-01-14T01:10:55.982183Z"
    }
   },
   "outputs": [
    {
     "data": {
      "text/html": [
       "<div>\n",
       "<style scoped>\n",
       "    .dataframe tbody tr th:only-of-type {\n",
       "        vertical-align: middle;\n",
       "    }\n",
       "\n",
       "    .dataframe tbody tr th {\n",
       "        vertical-align: top;\n",
       "    }\n",
       "\n",
       "    .dataframe thead th {\n",
       "        text-align: right;\n",
       "    }\n",
       "</style>\n",
       "<table border=\"1\" class=\"dataframe\">\n",
       "  <thead>\n",
       "    <tr style=\"text-align: right;\">\n",
       "      <th></th>\n",
       "      <th>content</th>\n",
       "      <th>score</th>\n",
       "      <th>date</th>\n",
       "      <th>thumbsUp</th>\n",
       "      <th>source</th>\n",
       "      <th>text</th>\n",
       "      <th>length</th>\n",
       "      <th>update</th>\n",
       "      <th>TB_polarity</th>\n",
       "      <th>TB_pred</th>\n",
       "      <th>VD_neg</th>\n",
       "      <th>VD_neu</th>\n",
       "      <th>VD_pos</th>\n",
       "      <th>VD_compound</th>\n",
       "      <th>VD_pred</th>\n",
       "    </tr>\n",
       "  </thead>\n",
       "  <tbody>\n",
       "    <tr>\n",
       "      <th>0</th>\n",
       "      <td>The graphics are gorgeous, the gameplay is inc...</td>\n",
       "      <td>5</td>\n",
       "      <td>2020-12-11 13:55:29</td>\n",
       "      <td>881.0</td>\n",
       "      <td>google_play_store</td>\n",
       "      <td>[the, graphics, are, gorgeous, the, gameplay, ...</td>\n",
       "      <td>84</td>\n",
       "      <td>1.1.2</td>\n",
       "      <td>0.270238</td>\n",
       "      <td>4</td>\n",
       "      <td>0.061</td>\n",
       "      <td>0.579</td>\n",
       "      <td>0.360</td>\n",
       "      <td>0.9879</td>\n",
       "      <td>5</td>\n",
       "    </tr>\n",
       "    <tr>\n",
       "      <th>1</th>\n",
       "      <td>If you love free world RPG, then this is it! T...</td>\n",
       "      <td>5</td>\n",
       "      <td>2020-12-16 18:10:47</td>\n",
       "      <td>48.0</td>\n",
       "      <td>google_play_store</td>\n",
       "      <td>[if, you, love, free, world, rpg, then, this, ...</td>\n",
       "      <td>94</td>\n",
       "      <td>1.1.2</td>\n",
       "      <td>0.183889</td>\n",
       "      <td>3</td>\n",
       "      <td>0.049</td>\n",
       "      <td>0.766</td>\n",
       "      <td>0.185</td>\n",
       "      <td>0.9187</td>\n",
       "      <td>5</td>\n",
       "    </tr>\n",
       "    <tr>\n",
       "      <th>2</th>\n",
       "      <td>I absolutely love the game! No complaints besi...</td>\n",
       "      <td>5</td>\n",
       "      <td>2020-12-16 00:18:43</td>\n",
       "      <td>185.0</td>\n",
       "      <td>google_play_store</td>\n",
       "      <td>[i, absolutely, love, the, game, no, complaint...</td>\n",
       "      <td>75</td>\n",
       "      <td>1.1.2</td>\n",
       "      <td>0.034921</td>\n",
       "      <td>3</td>\n",
       "      <td>0.156</td>\n",
       "      <td>0.663</td>\n",
       "      <td>0.181</td>\n",
       "      <td>0.6297</td>\n",
       "      <td>5</td>\n",
       "    </tr>\n",
       "    <tr>\n",
       "      <th>3</th>\n",
       "      <td>Great game. Regardless of ripoff issues and su...</td>\n",
       "      <td>4</td>\n",
       "      <td>2020-12-16 12:46:11</td>\n",
       "      <td>1.0</td>\n",
       "      <td>google_play_store</td>\n",
       "      <td>[great, game, regardless, of, ripoff, issues, ...</td>\n",
       "      <td>88</td>\n",
       "      <td>1.1.2</td>\n",
       "      <td>0.073333</td>\n",
       "      <td>3</td>\n",
       "      <td>0.115</td>\n",
       "      <td>0.639</td>\n",
       "      <td>0.245</td>\n",
       "      <td>0.9274</td>\n",
       "      <td>5</td>\n",
       "    </tr>\n",
       "    <tr>\n",
       "      <th>4</th>\n",
       "      <td>Amazing graphics and gameplay although a lot o...</td>\n",
       "      <td>5</td>\n",
       "      <td>2020-12-10 22:51:08</td>\n",
       "      <td>186.0</td>\n",
       "      <td>google_play_store</td>\n",
       "      <td>[amazing, graphics, and, gameplay, although, a...</td>\n",
       "      <td>86</td>\n",
       "      <td>1.1.2</td>\n",
       "      <td>0.381629</td>\n",
       "      <td>4</td>\n",
       "      <td>0.024</td>\n",
       "      <td>0.584</td>\n",
       "      <td>0.392</td>\n",
       "      <td>0.9908</td>\n",
       "      <td>5</td>\n",
       "    </tr>\n",
       "  </tbody>\n",
       "</table>\n",
       "</div>"
      ],
      "text/plain": [
       "                                             content  score  \\\n",
       "0  The graphics are gorgeous, the gameplay is inc...      5   \n",
       "1  If you love free world RPG, then this is it! T...      5   \n",
       "2  I absolutely love the game! No complaints besi...      5   \n",
       "3  Great game. Regardless of ripoff issues and su...      4   \n",
       "4  Amazing graphics and gameplay although a lot o...      5   \n",
       "\n",
       "                 date  thumbsUp             source  \\\n",
       "0 2020-12-11 13:55:29     881.0  google_play_store   \n",
       "1 2020-12-16 18:10:47      48.0  google_play_store   \n",
       "2 2020-12-16 00:18:43     185.0  google_play_store   \n",
       "3 2020-12-16 12:46:11       1.0  google_play_store   \n",
       "4 2020-12-10 22:51:08     186.0  google_play_store   \n",
       "\n",
       "                                                text  length update  \\\n",
       "0  [the, graphics, are, gorgeous, the, gameplay, ...      84  1.1.2   \n",
       "1  [if, you, love, free, world, rpg, then, this, ...      94  1.1.2   \n",
       "2  [i, absolutely, love, the, game, no, complaint...      75  1.1.2   \n",
       "3  [great, game, regardless, of, ripoff, issues, ...      88  1.1.2   \n",
       "4  [amazing, graphics, and, gameplay, although, a...      86  1.1.2   \n",
       "\n",
       "   TB_polarity TB_pred  VD_neg  VD_neu  VD_pos  VD_compound VD_pred  \n",
       "0     0.270238       4   0.061   0.579   0.360       0.9879       5  \n",
       "1     0.183889       3   0.049   0.766   0.185       0.9187       5  \n",
       "2     0.034921       3   0.156   0.663   0.181       0.6297       5  \n",
       "3     0.073333       3   0.115   0.639   0.245       0.9274       5  \n",
       "4     0.381629       4   0.024   0.584   0.392       0.9908       5  "
      ]
     },
     "execution_count": 3,
     "metadata": {},
     "output_type": "execute_result"
    }
   ],
   "source": [
    "df = pd.read_pickle('data/final_df_TB_vader.p')\n",
    "df.head()"
   ]
  },
  {
   "cell_type": "markdown",
   "metadata": {},
   "source": [
    "# Modeling (Neural Networks)"
   ]
  },
  {
   "cell_type": "markdown",
   "metadata": {},
   "source": [
    "## 6. LSTM"
   ]
  },
  {
   "cell_type": "code",
   "execution_count": 5,
   "metadata": {
    "ExecuteTime": {
     "end_time": "2021-01-14T01:11:34.707804Z",
     "start_time": "2021-01-14T01:11:34.672700Z"
    }
   },
   "outputs": [],
   "source": [
    "nn_df = df.sample(frac = 0.3, random_state = 11)"
   ]
  },
  {
   "cell_type": "code",
   "execution_count": 6,
   "metadata": {
    "ExecuteTime": {
     "end_time": "2021-01-14T01:11:36.369026Z",
     "start_time": "2021-01-14T01:11:35.980647Z"
    }
   },
   "outputs": [
    {
     "data": {
      "image/png": "[encoded data removed]",
      "text/plain": [
       "<Figure size 432x288 with 1 Axes>"
      ]
     },
     "metadata": {
      "needs_background": "light"
     },
     "output_type": "display_data"
    }
   ],
   "source": [
    "nn_df['score'].value_counts(normalize=True).plot(kind='bar');"
   ]
  },
  {
   "cell_type": "code",
   "execution_count": 7,
   "metadata": {
    "ExecuteTime": {
     "end_time": "2021-01-14T01:17:06.746968Z",
     "start_time": "2021-01-14T01:17:06.138111Z"
    }
   },
   "outputs": [],
   "source": [
    "reviews = nn_df['content'].values\n",
    "\n",
    "tokenizer = Tokenizer(num_words=7000)\n",
    "tokenizer.fit_on_texts(reviews)"
   ]
  },
  {
   "cell_type": "code",
   "execution_count": 8,
   "metadata": {
    "ExecuteTime": {
     "end_time": "2021-01-14T01:17:09.242767Z",
     "start_time": "2021-01-14T01:17:09.235786Z"
    }
   },
   "outputs": [
    {
     "data": {
      "text/plain": [
       "16200"
      ]
     },
     "execution_count": 8,
     "metadata": {},
     "output_type": "execute_result"
    }
   ],
   "source": [
    "vocab_size = len(tokenizer.word_index) + 1\n",
    "vocab_size"
   ]
  },
  {
   "cell_type": "code",
   "execution_count": 17,
   "metadata": {
    "ExecuteTime": {
     "end_time": "2021-01-14T01:18:27.876063Z",
     "start_time": "2021-01-14T01:18:27.330985Z"
    }
   },
   "outputs": [],
   "source": [
    "max_len = 125\n",
    "\n",
    "encoded_docs = tokenizer.texts_to_sequences(reviews)\n",
    "padded_sequence = pad_sequences(encoded_docs, maxlen=max_len)"
   ]
  },
  {
   "cell_type": "code",
   "execution_count": 18,
   "metadata": {
    "ExecuteTime": {
     "end_time": "2021-01-14T01:18:29.289209Z",
     "start_time": "2021-01-14T01:18:29.278609Z"
    }
   },
   "outputs": [
    {
     "name": "stdout",
     "output_type": "stream",
     "text": [
      "Everything is going well so far. And I sure hope you this game could support controllers\n",
      "[117, 6, 300, 98, 14, 74, 4, 3, 323, 103, 15, 9, 2, 129, 108, 1072]\n",
      "[   0    0    0    0    0    0    0    0    0    0    0    0    0    0\n",
      "    0    0    0    0    0    0    0    0    0    0    0    0    0    0\n",
      "    0    0    0    0    0    0    0    0    0    0    0    0    0    0\n",
      "    0    0    0    0    0    0    0    0    0    0    0    0    0    0\n",
      "    0    0    0    0    0    0    0    0    0    0    0    0    0    0\n",
      "    0    0    0    0    0    0    0    0    0    0    0    0    0    0\n",
      "    0    0    0    0    0    0    0    0    0    0    0    0    0    0\n",
      "    0    0    0    0    0    0    0    0    0    0    0  117    6  300\n",
      "   98   14   74    4    3  323  103   15    9    2  129  108 1072]\n"
     ]
    }
   ],
   "source": [
    "print(reviews[0])\n",
    "print(encoded_docs[0])\n",
    "print(padded_sequence[0])"
   ]
  },
  {
   "cell_type": "code",
   "execution_count": 19,
   "metadata": {
    "ExecuteTime": {
     "end_time": "2021-01-14T01:18:29.885574Z",
     "start_time": "2021-01-14T01:18:29.674285Z"
    }
   },
   "outputs": [
    {
     "name": "stdout",
     "output_type": "stream",
     "text": [
      "Model: \"sequential_1\"\n",
      "_________________________________________________________________\n",
      "Layer (type)                 Output Shape              Param #   \n",
      "=================================================================\n",
      "embedding_1 (Embedding)      (None, 125, 32)           518400    \n",
      "_________________________________________________________________\n",
      "spatial_dropout1d_1 (Spatial (None, 125, 32)           0         \n",
      "_________________________________________________________________\n",
      "lstm_1 (LSTM)                (None, 50)                16600     \n",
      "_________________________________________________________________\n",
      "dropout_1 (Dropout)          (None, 50)                0         \n",
      "_________________________________________________________________\n",
      "dense_1 (Dense)              (None, 5)                 255       \n",
      "=================================================================\n",
      "Total params: 535,255\n",
      "Trainable params: 535,255\n",
      "Non-trainable params: 0\n",
      "_________________________________________________________________\n",
      "None\n"
     ]
    }
   ],
   "source": [
    "embedding_vector_length = 32\n",
    "\n",
    "model = Sequential()\n",
    "model.add(Embedding(vocab_size, embedding_vector_length, input_length=max_len))\n",
    "model.add(SpatialDropout1D(0.25))\n",
    "model.add(LSTM(50, dropout=0.5, recurrent_dropout=0.5))\n",
    "model.add(Dropout(0.2))\n",
    "model.add(Dense(5, activation='softmax'))\n",
    "model.compile(loss='categorical_crossentropy', optimizer='adam',metrics=['accuracy'])\n",
    "\n",
    "print(model.summary())"
   ]
  },
  {
   "cell_type": "code",
   "execution_count": 51,
   "metadata": {
    "ExecuteTime": {
     "end_time": "2021-01-14T02:14:36.666699Z",
     "start_time": "2021-01-14T02:14:36.644730Z"
    }
   },
   "outputs": [],
   "source": [
    "scores = nn_df[['score']].copy()\n",
    "\n",
    "enc = OneHotEncoder()\n",
    "scores_cat = enc.fit_transform(scores).toarray()"
   ]
  },
  {
   "cell_type": "code",
   "execution_count": 24,
   "metadata": {
    "ExecuteTime": {
     "end_time": "2021-01-14T01:54:16.973792Z",
     "start_time": "2021-01-14T01:50:12.310934Z"
    }
   },
   "outputs": [
    {
     "name": "stdout",
     "output_type": "stream",
     "text": [
      "Epoch 1/10\n",
      "662/662 [==============================] - 55s 83ms/step - loss: 0.6255 - accuracy: 0.7633 - val_loss: 0.7371 - val_accuracy: 0.7245\n",
      "Epoch 2/10\n",
      "662/662 [==============================] - 58s 88ms/step - loss: 0.6049 - accuracy: 0.7729 - val_loss: 0.7633 - val_accuracy: 0.7254\n",
      "Epoch 3/10\n",
      "662/662 [==============================] - 64s 96ms/step - loss: 0.5929 - accuracy: 0.7756 - val_loss: 0.7939 - val_accuracy: 0.7349\n",
      "Epoch 4/10\n",
      "662/662 [==============================] - 68s 102ms/step - loss: 0.5768 - accuracy: 0.7814 - val_loss: 0.7739 - val_accuracy: 0.7326\n"
     ]
    }
   ],
   "source": [
    "earlystop_callback = EarlyStopping(monitor='val_loss', min_delta=0, patience=3)\n",
    "\n",
    "history = model.fit(padded_sequence, scores_cat, validation_split=0.2, \n",
    "                    epochs=10, batch_size=32, callbacks=[earlystop_callback])"
   ]
  },
  {
   "cell_type": "code",
   "execution_count": 25,
   "metadata": {
    "ExecuteTime": {
     "end_time": "2021-01-14T01:54:17.194205Z",
     "start_time": "2021-01-14T01:54:16.975788Z"
    }
   },
   "outputs": [
    {
     "data": {
      "image/png": "[encoded data removed]",
      "text/plain": [
       "<Figure size 432x288 with 1 Axes>"
      ]
     },
     "metadata": {
      "needs_background": "light"
     },
     "output_type": "display_data"
    }
   ],
   "source": [
    "plt.plot(history.history['loss'], label='Train loss')\n",
    "plt.plot(history.history['val_loss'], label='Val Loss')\n",
    "plt.legend();"
   ]
  },
  {
   "cell_type": "code",
   "execution_count": 26,
   "metadata": {
    "ExecuteTime": {
     "end_time": "2021-01-14T01:56:22.201787Z",
     "start_time": "2021-01-14T01:56:15.225495Z"
    },
    "scrolled": true
   },
   "outputs": [
    {
     "data": {
      "text/html": [
       "<div>\n",
       "<style scoped>\n",
       "    .dataframe tbody tr th:only-of-type {\n",
       "        vertical-align: middle;\n",
       "    }\n",
       "\n",
       "    .dataframe tbody tr th {\n",
       "        vertical-align: top;\n",
       "    }\n",
       "\n",
       "    .dataframe thead th {\n",
       "        text-align: right;\n",
       "    }\n",
       "</style>\n",
       "<table border=\"1\" class=\"dataframe\">\n",
       "  <thead>\n",
       "    <tr style=\"text-align: right;\">\n",
       "      <th></th>\n",
       "      <th>1</th>\n",
       "      <th>2</th>\n",
       "      <th>3</th>\n",
       "      <th>4</th>\n",
       "      <th>5</th>\n",
       "    </tr>\n",
       "  </thead>\n",
       "  <tbody>\n",
       "    <tr>\n",
       "      <th>0</th>\n",
       "      <td>0.002147</td>\n",
       "      <td>0.000956</td>\n",
       "      <td>0.005166</td>\n",
       "      <td>0.081798</td>\n",
       "      <td>0.909932</td>\n",
       "    </tr>\n",
       "    <tr>\n",
       "      <th>1</th>\n",
       "      <td>0.001294</td>\n",
       "      <td>0.000639</td>\n",
       "      <td>0.004146</td>\n",
       "      <td>0.083502</td>\n",
       "      <td>0.910419</td>\n",
       "    </tr>\n",
       "    <tr>\n",
       "      <th>2</th>\n",
       "      <td>0.000138</td>\n",
       "      <td>0.000047</td>\n",
       "      <td>0.000299</td>\n",
       "      <td>0.015541</td>\n",
       "      <td>0.983976</td>\n",
       "    </tr>\n",
       "    <tr>\n",
       "      <th>3</th>\n",
       "      <td>0.000185</td>\n",
       "      <td>0.000050</td>\n",
       "      <td>0.000213</td>\n",
       "      <td>0.008002</td>\n",
       "      <td>0.991551</td>\n",
       "    </tr>\n",
       "    <tr>\n",
       "      <th>4</th>\n",
       "      <td>0.000108</td>\n",
       "      <td>0.000025</td>\n",
       "      <td>0.000099</td>\n",
       "      <td>0.003634</td>\n",
       "      <td>0.996135</td>\n",
       "    </tr>\n",
       "  </tbody>\n",
       "</table>\n",
       "</div>"
      ],
      "text/plain": [
       "          1         2         3         4         5\n",
       "0  0.002147  0.000956  0.005166  0.081798  0.909932\n",
       "1  0.001294  0.000639  0.004146  0.083502  0.910419\n",
       "2  0.000138  0.000047  0.000299  0.015541  0.983976\n",
       "3  0.000185  0.000050  0.000213  0.008002  0.991551\n",
       "4  0.000108  0.000025  0.000099  0.003634  0.996135"
      ]
     },
     "execution_count": 26,
     "metadata": {},
     "output_type": "execute_result"
    }
   ],
   "source": [
    "probability = model.predict(padded_sequence)\n",
    "probability_df = pd.DataFrame(probability)\n",
    "probability_df.columns = ['1','2','3','4','5']\n",
    "probability_df.head()"
   ]
  },
  {
   "cell_type": "code",
   "execution_count": 27,
   "metadata": {
    "ExecuteTime": {
     "end_time": "2021-01-14T01:56:22.217744Z",
     "start_time": "2021-01-14T01:56:22.204779Z"
    }
   },
   "outputs": [],
   "source": [
    "def find_prediction(row):\n",
    "    max_value = row.max()\n",
    "    \n",
    "    if row['1'] == max_value:\n",
    "        return 1\n",
    "    elif row['2'] == max_value:\n",
    "        return 2\n",
    "    elif row['3'] == max_value:\n",
    "        return 3\n",
    "    elif row['4'] == max_value:\n",
    "        return 4\n",
    "    elif row['5'] == max_value:\n",
    "        return 5"
   ]
  },
  {
   "cell_type": "code",
   "execution_count": 28,
   "metadata": {
    "ExecuteTime": {
     "end_time": "2021-01-14T01:56:23.563269Z",
     "start_time": "2021-01-14T01:56:22.221734Z"
    }
   },
   "outputs": [
    {
     "data": {
      "text/html": [
       "<div>\n",
       "<style scoped>\n",
       "    .dataframe tbody tr th:only-of-type {\n",
       "        vertical-align: middle;\n",
       "    }\n",
       "\n",
       "    .dataframe tbody tr th {\n",
       "        vertical-align: top;\n",
       "    }\n",
       "\n",
       "    .dataframe thead th {\n",
       "        text-align: right;\n",
       "    }\n",
       "</style>\n",
       "<table border=\"1\" class=\"dataframe\">\n",
       "  <thead>\n",
       "    <tr style=\"text-align: right;\">\n",
       "      <th></th>\n",
       "      <th>1</th>\n",
       "      <th>2</th>\n",
       "      <th>3</th>\n",
       "      <th>4</th>\n",
       "      <th>5</th>\n",
       "      <th>pred</th>\n",
       "    </tr>\n",
       "  </thead>\n",
       "  <tbody>\n",
       "    <tr>\n",
       "      <th>0</th>\n",
       "      <td>0.002147</td>\n",
       "      <td>0.000956</td>\n",
       "      <td>0.005166</td>\n",
       "      <td>0.081798</td>\n",
       "      <td>0.909932</td>\n",
       "      <td>5</td>\n",
       "    </tr>\n",
       "    <tr>\n",
       "      <th>1</th>\n",
       "      <td>0.001294</td>\n",
       "      <td>0.000639</td>\n",
       "      <td>0.004146</td>\n",
       "      <td>0.083502</td>\n",
       "      <td>0.910419</td>\n",
       "      <td>5</td>\n",
       "    </tr>\n",
       "    <tr>\n",
       "      <th>2</th>\n",
       "      <td>0.000138</td>\n",
       "      <td>0.000047</td>\n",
       "      <td>0.000299</td>\n",
       "      <td>0.015541</td>\n",
       "      <td>0.983976</td>\n",
       "      <td>5</td>\n",
       "    </tr>\n",
       "    <tr>\n",
       "      <th>3</th>\n",
       "      <td>0.000185</td>\n",
       "      <td>0.000050</td>\n",
       "      <td>0.000213</td>\n",
       "      <td>0.008002</td>\n",
       "      <td>0.991551</td>\n",
       "      <td>5</td>\n",
       "    </tr>\n",
       "    <tr>\n",
       "      <th>4</th>\n",
       "      <td>0.000108</td>\n",
       "      <td>0.000025</td>\n",
       "      <td>0.000099</td>\n",
       "      <td>0.003634</td>\n",
       "      <td>0.996135</td>\n",
       "      <td>5</td>\n",
       "    </tr>\n",
       "    <tr>\n",
       "      <th>5</th>\n",
       "      <td>0.000540</td>\n",
       "      <td>0.000159</td>\n",
       "      <td>0.000704</td>\n",
       "      <td>0.013832</td>\n",
       "      <td>0.984765</td>\n",
       "      <td>5</td>\n",
       "    </tr>\n",
       "    <tr>\n",
       "      <th>6</th>\n",
       "      <td>0.002256</td>\n",
       "      <td>0.000747</td>\n",
       "      <td>0.002011</td>\n",
       "      <td>0.025352</td>\n",
       "      <td>0.969633</td>\n",
       "      <td>5</td>\n",
       "    </tr>\n",
       "    <tr>\n",
       "      <th>7</th>\n",
       "      <td>0.001328</td>\n",
       "      <td>0.000563</td>\n",
       "      <td>0.002983</td>\n",
       "      <td>0.064640</td>\n",
       "      <td>0.930486</td>\n",
       "      <td>5</td>\n",
       "    </tr>\n",
       "    <tr>\n",
       "      <th>8</th>\n",
       "      <td>0.914152</td>\n",
       "      <td>0.035656</td>\n",
       "      <td>0.018091</td>\n",
       "      <td>0.006120</td>\n",
       "      <td>0.025981</td>\n",
       "      <td>1</td>\n",
       "    </tr>\n",
       "    <tr>\n",
       "      <th>9</th>\n",
       "      <td>0.034857</td>\n",
       "      <td>0.079157</td>\n",
       "      <td>0.269308</td>\n",
       "      <td>0.407788</td>\n",
       "      <td>0.208891</td>\n",
       "      <td>4</td>\n",
       "    </tr>\n",
       "  </tbody>\n",
       "</table>\n",
       "</div>"
      ],
      "text/plain": [
       "          1         2         3         4         5  pred\n",
       "0  0.002147  0.000956  0.005166  0.081798  0.909932     5\n",
       "1  0.001294  0.000639  0.004146  0.083502  0.910419     5\n",
       "2  0.000138  0.000047  0.000299  0.015541  0.983976     5\n",
       "3  0.000185  0.000050  0.000213  0.008002  0.991551     5\n",
       "4  0.000108  0.000025  0.000099  0.003634  0.996135     5\n",
       "5  0.000540  0.000159  0.000704  0.013832  0.984765     5\n",
       "6  0.002256  0.000747  0.002011  0.025352  0.969633     5\n",
       "7  0.001328  0.000563  0.002983  0.064640  0.930486     5\n",
       "8  0.914152  0.035656  0.018091  0.006120  0.025981     1\n",
       "9  0.034857  0.079157  0.269308  0.407788  0.208891     4"
      ]
     },
     "execution_count": 28,
     "metadata": {},
     "output_type": "execute_result"
    }
   ],
   "source": [
    "probability_df['pred'] = probability_df.apply(lambda x: find_prediction(x), axis = 1)\n",
    "\n",
    "probability_df.head(10)"
   ]
  },
  {
   "cell_type": "code",
   "execution_count": 29,
   "metadata": {
    "ExecuteTime": {
     "end_time": "2021-01-14T01:56:23.906335Z",
     "start_time": "2021-01-14T01:56:23.565224Z"
    }
   },
   "outputs": [
    {
     "data": {
      "image/png": "[encoded data removed]",
      "text/plain": [
       "<Figure size 504x396 with 2 Axes>"
      ]
     },
     "metadata": {
      "needs_background": "light"
     },
     "output_type": "display_data"
    }
   ],
   "source": [
    "cm = confusion_matrix(scores['score'], probability_df['pred'])\n",
    "\n",
    "plt.figure(figsize = (7, 5.5))\n",
    "sns.heatmap(cm, annot = True, fmt = '.5g', cmap = 'coolwarm', xticklabels = [1,2,3,4,5], yticklabels = [1,2,3,4,5])\n",
    "plt.title('Confusion Matrix', fontsize = 15)\n",
    "plt.ylabel('True Label')\n",
    "plt.xlabel('Predicted Label')\n",
    "plt.show()"
   ]
  },
  {
   "cell_type": "markdown",
   "metadata": {},
   "source": [
    "## 7. LSTM (3 Categories) \n",
    "\n",
    "Trying with Positive, Neutral and Negative"
   ]
  },
  {
   "cell_type": "code",
   "execution_count": 94,
   "metadata": {
    "ExecuteTime": {
     "end_time": "2021-01-14T03:21:23.520628Z",
     "start_time": "2021-01-14T03:21:23.508482Z"
    }
   },
   "outputs": [],
   "source": [
    "def positive_neutral_negative(score):\n",
    "    if score < 3:\n",
    "        return -1\n",
    "    if score ==  3:\n",
    "        return 0\n",
    "    if score > 3:\n",
    "        return 1"
   ]
  },
  {
   "cell_type": "code",
   "execution_count": 95,
   "metadata": {
    "ExecuteTime": {
     "end_time": "2021-01-14T03:21:23.932518Z",
     "start_time": "2021-01-14T03:21:23.909540Z"
    }
   },
   "outputs": [],
   "source": [
    "scores['pnn'] = scores['score'].apply(lambda x: positive_neutral_negative(x))"
   ]
  },
  {
   "cell_type": "code",
   "execution_count": 96,
   "metadata": {
    "ExecuteTime": {
     "end_time": "2021-01-14T03:21:24.387991Z",
     "start_time": "2021-01-14T03:21:24.369007Z"
    }
   },
   "outputs": [],
   "source": [
    "enc = OneHotEncoder()\n",
    "scores_cat = enc.fit_transform(scores[['pnn']]).toarray()"
   ]
  },
  {
   "cell_type": "code",
   "execution_count": 97,
   "metadata": {
    "ExecuteTime": {
     "end_time": "2021-01-14T03:21:25.543102Z",
     "start_time": "2021-01-14T03:21:25.322241Z"
    }
   },
   "outputs": [
    {
     "name": "stdout",
     "output_type": "stream",
     "text": [
      "Model: \"sequential_9\"\n",
      "_________________________________________________________________\n",
      "Layer (type)                 Output Shape              Param #   \n",
      "=================================================================\n",
      "embedding_9 (Embedding)      (None, 125, 32)           518400    \n",
      "_________________________________________________________________\n",
      "spatial_dropout1d_9 (Spatial (None, 125, 32)           0         \n",
      "_________________________________________________________________\n",
      "lstm_9 (LSTM)                (None, 50)                16600     \n",
      "_________________________________________________________________\n",
      "dropout_9 (Dropout)          (None, 50)                0         \n",
      "_________________________________________________________________\n",
      "dense_9 (Dense)              (None, 3)                 153       \n",
      "=================================================================\n",
      "Total params: 535,153\n",
      "Trainable params: 535,153\n",
      "Non-trainable params: 0\n",
      "_________________________________________________________________\n",
      "None\n"
     ]
    }
   ],
   "source": [
    "embedding_vector_length = 32\n",
    "\n",
    "model = Sequential()\n",
    "model.add(Embedding(vocab_size, embedding_vector_length, input_length=max_len))\n",
    "model.add(SpatialDropout1D(0.25))\n",
    "model.add(LSTM(50, dropout=0.5, recurrent_dropout=0.5))\n",
    "model.add(Dropout(0.2))\n",
    "model.add(Dense(3, activation='softmax'))\n",
    "model.compile(loss='categorical_crossentropy', optimizer='adam',metrics=['AUC'])\n",
    "\n",
    "print(model.summary())"
   ]
  },
  {
   "cell_type": "code",
   "execution_count": 98,
   "metadata": {
    "ExecuteTime": {
     "end_time": "2021-01-14T03:29:00.934275Z",
     "start_time": "2021-01-14T03:21:26.472462Z"
    }
   },
   "outputs": [
    {
     "name": "stdout",
     "output_type": "stream",
     "text": [
      "Epoch 1/10\n",
      "662/662 [==============================] - 57s 85ms/step - loss: 2.0944 - auc: 0.8191 - val_loss: 0.6913 - val_auc: 0.8782\n",
      "Epoch 2/10\n",
      "662/662 [==============================] - 62s 94ms/step - loss: 1.7918 - auc: 0.8945 - val_loss: 0.7461 - val_auc: 0.8519\n",
      "Epoch 3/10\n",
      "662/662 [==============================] - 67s 100ms/step - loss: 1.6366 - auc: 0.9127 - val_loss: 0.5984 - val_auc: 0.9123\n",
      "Epoch 4/10\n",
      "662/662 [==============================] - 67s 101ms/step - loss: 1.4924 - auc: 0.9258 - val_loss: 0.5366 - val_auc: 0.9252\n",
      "Epoch 5/10\n",
      "662/662 [==============================] - 67s 101ms/step - loss: 1.3891 - auc: 0.9319 - val_loss: 0.6303 - val_auc: 0.9092\n",
      "Epoch 6/10\n",
      "662/662 [==============================] - 67s 101ms/step - loss: 1.3082 - auc: 0.9389 - val_loss: 0.5790 - val_auc: 0.9215\n",
      "Epoch 7/10\n",
      "662/662 [==============================] - 66s 100ms/step - loss: 1.2383 - auc: 0.9414 - val_loss: 0.7734 - val_auc: 0.8589\n"
     ]
    }
   ],
   "source": [
    "earlystop_callback = EarlyStopping(monitor='val_loss', min_delta=0, patience=3)\n",
    "\n",
    "history = model.fit(padded_sequence, scores_cat, validation_split=0.2, \n",
    "                    epochs=10, batch_size=32, callbacks=[earlystop_callback],\n",
    "                    class_weight={0: 19305/4054, 1: 19305/1641, 2: 19305/19305})"
   ]
  },
  {
   "cell_type": "code",
   "execution_count": 99,
   "metadata": {
    "ExecuteTime": {
     "end_time": "2021-01-14T03:29:01.182986Z",
     "start_time": "2021-01-14T03:29:00.940260Z"
    }
   },
   "outputs": [
    {
     "data": {
      "image/png": "[encoded data removed]",
      "text/plain": [
       "<Figure size 432x288 with 1 Axes>"
      ]
     },
     "metadata": {
      "needs_background": "light"
     },
     "output_type": "display_data"
    }
   ],
   "source": [
    "plt.plot(history.history['loss'], label='Train loss')\n",
    "plt.plot(history.history['val_loss'], label='Val Loss')\n",
    "plt.legend();"
   ]
  },
  {
   "cell_type": "code",
   "execution_count": 100,
   "metadata": {
    "ExecuteTime": {
     "end_time": "2021-01-14T03:29:10.681684Z",
     "start_time": "2021-01-14T03:29:01.186981Z"
    },
    "scrolled": true
   },
   "outputs": [],
   "source": [
    "probability = model.predict(padded_sequence)\n",
    "probability_df = pd.DataFrame(probability)"
   ]
  },
  {
   "cell_type": "code",
   "execution_count": 101,
   "metadata": {
    "ExecuteTime": {
     "end_time": "2021-01-14T03:29:10.697151Z",
     "start_time": "2021-01-14T03:29:10.683673Z"
    }
   },
   "outputs": [
    {
     "data": {
      "text/html": [
       "<div>\n",
       "<style scoped>\n",
       "    .dataframe tbody tr th:only-of-type {\n",
       "        vertical-align: middle;\n",
       "    }\n",
       "\n",
       "    .dataframe tbody tr th {\n",
       "        vertical-align: top;\n",
       "    }\n",
       "\n",
       "    .dataframe thead th {\n",
       "        text-align: right;\n",
       "    }\n",
       "</style>\n",
       "<table border=\"1\" class=\"dataframe\">\n",
       "  <thead>\n",
       "    <tr style=\"text-align: right;\">\n",
       "      <th></th>\n",
       "      <th>0</th>\n",
       "      <th>1</th>\n",
       "      <th>2</th>\n",
       "    </tr>\n",
       "  </thead>\n",
       "  <tbody>\n",
       "    <tr>\n",
       "      <th>0</th>\n",
       "      <td>0.062604</td>\n",
       "      <td>0.538838</td>\n",
       "      <td>0.398559</td>\n",
       "    </tr>\n",
       "    <tr>\n",
       "      <th>1</th>\n",
       "      <td>0.006543</td>\n",
       "      <td>0.027045</td>\n",
       "      <td>0.966412</td>\n",
       "    </tr>\n",
       "    <tr>\n",
       "      <th>2</th>\n",
       "      <td>0.000775</td>\n",
       "      <td>0.003888</td>\n",
       "      <td>0.995337</td>\n",
       "    </tr>\n",
       "    <tr>\n",
       "      <th>3</th>\n",
       "      <td>0.001274</td>\n",
       "      <td>0.003474</td>\n",
       "      <td>0.995252</td>\n",
       "    </tr>\n",
       "    <tr>\n",
       "      <th>4</th>\n",
       "      <td>0.001330</td>\n",
       "      <td>0.004800</td>\n",
       "      <td>0.993870</td>\n",
       "    </tr>\n",
       "  </tbody>\n",
       "</table>\n",
       "</div>"
      ],
      "text/plain": [
       "          0         1         2\n",
       "0  0.062604  0.538838  0.398559\n",
       "1  0.006543  0.027045  0.966412\n",
       "2  0.000775  0.003888  0.995337\n",
       "3  0.001274  0.003474  0.995252\n",
       "4  0.001330  0.004800  0.993870"
      ]
     },
     "execution_count": 101,
     "metadata": {},
     "output_type": "execute_result"
    }
   ],
   "source": [
    "probability_df.columns = ['0','1','2']\n",
    "probability_df.head()"
   ]
  },
  {
   "cell_type": "code",
   "execution_count": 102,
   "metadata": {
    "ExecuteTime": {
     "end_time": "2021-01-14T03:29:10.712622Z",
     "start_time": "2021-01-14T03:29:10.698671Z"
    }
   },
   "outputs": [],
   "source": [
    "def find_prediction(row):\n",
    "    max_value = row.max()\n",
    "    \n",
    "    if row['0'] == max_value:\n",
    "        return -1\n",
    "    elif row['1'] == max_value:\n",
    "        return 0\n",
    "    elif row['2'] == max_value:\n",
    "        return 1"
   ]
  },
  {
   "cell_type": "code",
   "execution_count": 103,
   "metadata": {
    "ExecuteTime": {
     "end_time": "2021-01-14T03:29:11.867435Z",
     "start_time": "2021-01-14T03:29:10.714619Z"
    }
   },
   "outputs": [
    {
     "data": {
      "text/html": [
       "<div>\n",
       "<style scoped>\n",
       "    .dataframe tbody tr th:only-of-type {\n",
       "        vertical-align: middle;\n",
       "    }\n",
       "\n",
       "    .dataframe tbody tr th {\n",
       "        vertical-align: top;\n",
       "    }\n",
       "\n",
       "    .dataframe thead th {\n",
       "        text-align: right;\n",
       "    }\n",
       "</style>\n",
       "<table border=\"1\" class=\"dataframe\">\n",
       "  <thead>\n",
       "    <tr style=\"text-align: right;\">\n",
       "      <th></th>\n",
       "      <th>0</th>\n",
       "      <th>1</th>\n",
       "      <th>2</th>\n",
       "      <th>pred</th>\n",
       "    </tr>\n",
       "  </thead>\n",
       "  <tbody>\n",
       "    <tr>\n",
       "      <th>0</th>\n",
       "      <td>0.062604</td>\n",
       "      <td>0.538838</td>\n",
       "      <td>0.398559</td>\n",
       "      <td>0</td>\n",
       "    </tr>\n",
       "    <tr>\n",
       "      <th>1</th>\n",
       "      <td>0.006543</td>\n",
       "      <td>0.027045</td>\n",
       "      <td>0.966412</td>\n",
       "      <td>1</td>\n",
       "    </tr>\n",
       "    <tr>\n",
       "      <th>2</th>\n",
       "      <td>0.000775</td>\n",
       "      <td>0.003888</td>\n",
       "      <td>0.995337</td>\n",
       "      <td>1</td>\n",
       "    </tr>\n",
       "    <tr>\n",
       "      <th>3</th>\n",
       "      <td>0.001274</td>\n",
       "      <td>0.003474</td>\n",
       "      <td>0.995252</td>\n",
       "      <td>1</td>\n",
       "    </tr>\n",
       "    <tr>\n",
       "      <th>4</th>\n",
       "      <td>0.001330</td>\n",
       "      <td>0.004800</td>\n",
       "      <td>0.993870</td>\n",
       "      <td>1</td>\n",
       "    </tr>\n",
       "    <tr>\n",
       "      <th>5</th>\n",
       "      <td>0.025980</td>\n",
       "      <td>0.133576</td>\n",
       "      <td>0.840444</td>\n",
       "      <td>1</td>\n",
       "    </tr>\n",
       "    <tr>\n",
       "      <th>6</th>\n",
       "      <td>0.043854</td>\n",
       "      <td>0.177502</td>\n",
       "      <td>0.778644</td>\n",
       "      <td>1</td>\n",
       "    </tr>\n",
       "    <tr>\n",
       "      <th>7</th>\n",
       "      <td>0.000902</td>\n",
       "      <td>0.006419</td>\n",
       "      <td>0.992679</td>\n",
       "      <td>1</td>\n",
       "    </tr>\n",
       "    <tr>\n",
       "      <th>8</th>\n",
       "      <td>0.917334</td>\n",
       "      <td>0.062009</td>\n",
       "      <td>0.020657</td>\n",
       "      <td>-1</td>\n",
       "    </tr>\n",
       "    <tr>\n",
       "      <th>9</th>\n",
       "      <td>0.073933</td>\n",
       "      <td>0.870430</td>\n",
       "      <td>0.055636</td>\n",
       "      <td>0</td>\n",
       "    </tr>\n",
       "  </tbody>\n",
       "</table>\n",
       "</div>"
      ],
      "text/plain": [
       "          0         1         2  pred\n",
       "0  0.062604  0.538838  0.398559     0\n",
       "1  0.006543  0.027045  0.966412     1\n",
       "2  0.000775  0.003888  0.995337     1\n",
       "3  0.001274  0.003474  0.995252     1\n",
       "4  0.001330  0.004800  0.993870     1\n",
       "5  0.025980  0.133576  0.840444     1\n",
       "6  0.043854  0.177502  0.778644     1\n",
       "7  0.000902  0.006419  0.992679     1\n",
       "8  0.917334  0.062009  0.020657    -1\n",
       "9  0.073933  0.870430  0.055636     0"
      ]
     },
     "execution_count": 103,
     "metadata": {},
     "output_type": "execute_result"
    }
   ],
   "source": [
    "probability_df['pred'] = probability_df.apply(lambda x: find_prediction(x), axis = 1)\n",
    "\n",
    "probability_df.head(10)"
   ]
  },
  {
   "cell_type": "code",
   "execution_count": 104,
   "metadata": {
    "ExecuteTime": {
     "end_time": "2021-01-14T03:29:12.074220Z",
     "start_time": "2021-01-14T03:29:11.869079Z"
    }
   },
   "outputs": [
    {
     "data": {
      "image/png": "[encoded data removed]",
      "text/plain": [
       "<Figure size 504x396 with 2 Axes>"
      ]
     },
     "metadata": {
      "needs_background": "light"
     },
     "output_type": "display_data"
    }
   ],
   "source": [
    "cm = confusion_matrix(scores['pnn'], probability_df['pred'])\n",
    "\n",
    "plt.figure(figsize = (7, 5.5))\n",
    "sns.heatmap(cm, annot = True, fmt = '.5g', cmap = 'coolwarm', xticklabels = [-1,0,1], yticklabels = [-1,0,1])\n",
    "plt.title('Confusion Matrix', fontsize = 15)\n",
    "plt.ylabel('True Label')\n",
    "plt.xlabel('Predicted Label')\n",
    "plt.show()"
   ]
  },
  {
   "cell_type": "markdown",
   "metadata": {},
   "source": [
    "## 8. LSTM (2 Categories, rating 3 = negative) \n",
    "\n",
    "Trying with Positive and Negative\n",
    "\n",
    "With score = 3 considered as Negative"
   ]
  },
  {
   "cell_type": "code",
   "execution_count": 55,
   "metadata": {
    "ExecuteTime": {
     "end_time": "2021-01-14T02:37:41.231346Z",
     "start_time": "2021-01-14T02:37:41.223368Z"
    }
   },
   "outputs": [],
   "source": [
    "def positive_negative(score):\n",
    "    if score <= 3:\n",
    "        return 0\n",
    "    if score > 3:\n",
    "        return 1\n",
    "    \n",
    "scores['pn'] = scores['score'].apply(lambda x: positive_negative(x))"
   ]
  },
  {
   "cell_type": "code",
   "execution_count": 57,
   "metadata": {
    "ExecuteTime": {
     "end_time": "2021-01-14T02:37:54.511548Z",
     "start_time": "2021-01-14T02:37:54.502955Z"
    }
   },
   "outputs": [],
   "source": [
    "enc = OneHotEncoder()\n",
    "scores_cat = enc.fit_transform(scores[['pn']]).toarray()"
   ]
  },
  {
   "cell_type": "code",
   "execution_count": 86,
   "metadata": {
    "ExecuteTime": {
     "end_time": "2021-01-14T03:08:51.048065Z",
     "start_time": "2021-01-14T03:08:51.014192Z"
    }
   },
   "outputs": [
    {
     "data": {
      "text/plain": [
       "0    1  \n",
       "0.0  1.0    20648\n",
       "1.0  0.0     5812\n",
       "dtype: int64"
      ]
     },
     "execution_count": 86,
     "metadata": {},
     "output_type": "execute_result"
    }
   ],
   "source": [
    "pd.DataFrame(scores_cat).value_counts()"
   ]
  },
  {
   "cell_type": "code",
   "execution_count": 83,
   "metadata": {
    "ExecuteTime": {
     "end_time": "2021-01-14T03:08:19.985434Z",
     "start_time": "2021-01-14T03:08:19.774106Z"
    }
   },
   "outputs": [
    {
     "name": "stdout",
     "output_type": "stream",
     "text": [
      "Model: \"sequential_8\"\n",
      "_________________________________________________________________\n",
      "Layer (type)                 Output Shape              Param #   \n",
      "=================================================================\n",
      "embedding_8 (Embedding)      (None, 125, 32)           518400    \n",
      "_________________________________________________________________\n",
      "spatial_dropout1d_8 (Spatial (None, 125, 32)           0         \n",
      "_________________________________________________________________\n",
      "lstm_8 (LSTM)                (None, 50)                16600     \n",
      "_________________________________________________________________\n",
      "dropout_8 (Dropout)          (None, 50)                0         \n",
      "_________________________________________________________________\n",
      "dense_8 (Dense)              (None, 2)                 102       \n",
      "=================================================================\n",
      "Total params: 535,102\n",
      "Trainable params: 535,102\n",
      "Non-trainable params: 0\n",
      "_________________________________________________________________\n",
      "None\n"
     ]
    }
   ],
   "source": [
    "embedding_vector_length = 32\n",
    "\n",
    "model = Sequential()\n",
    "model.add(Embedding(vocab_size, embedding_vector_length, input_length=max_len))\n",
    "model.add(SpatialDropout1D(0.25))\n",
    "model.add(LSTM(50, dropout=0.5, recurrent_dropout=0.5))\n",
    "model.add(Dropout(0.2))\n",
    "model.add(Dense(2, activation='sigmoid'))\n",
    "model.compile(loss='binary_crossentropy', optimizer='adam',metrics=['AUC'])\n",
    "\n",
    "print(model.summary())"
   ]
  },
  {
   "cell_type": "code",
   "execution_count": 87,
   "metadata": {
    "ExecuteTime": {
     "end_time": "2021-01-14T03:18:06.533534Z",
     "start_time": "2021-01-14T03:09:14.468090Z"
    }
   },
   "outputs": [
    {
     "name": "stdout",
     "output_type": "stream",
     "text": [
      "Epoch 1/10\n",
      "662/662 [==============================] - 58s 87ms/step - loss: 0.8848 - auc: 0.7939 - val_loss: 0.4541 - val_auc: 0.8660\n",
      "Epoch 2/10\n",
      "662/662 [==============================] - 62s 93ms/step - loss: 0.5655 - auc: 0.9131 - val_loss: 0.3876 - val_auc: 0.9092\n",
      "Epoch 3/10\n",
      "662/662 [==============================] - 66s 100ms/step - loss: 0.4836 - auc: 0.9351 - val_loss: 0.3962 - val_auc: 0.9105\n",
      "Epoch 4/10\n",
      "662/662 [==============================] - 73s 110ms/step - loss: 0.4405 - auc: 0.9470 - val_loss: 0.3116 - val_auc: 0.9477\n",
      "Epoch 5/10\n",
      "662/662 [==============================] - 69s 104ms/step - loss: 0.4034 - auc: 0.9553 - val_loss: 0.3113 - val_auc: 0.9496\n",
      "Epoch 6/10\n",
      "662/662 [==============================] - 69s 104ms/step - loss: 0.3753 - auc: 0.9609 - val_loss: 0.3309 - val_auc: 0.9484\n",
      "Epoch 7/10\n",
      "662/662 [==============================] - 68s 103ms/step - loss: 0.3641 - auc: 0.9639 - val_loss: 0.3336 - val_auc: 0.9414\n",
      "Epoch 8/10\n",
      "662/662 [==============================] - 67s 102ms/step - loss: 0.3390 - auc: 0.9680 - val_loss: 0.3374 - val_auc: 0.9437\n"
     ]
    }
   ],
   "source": [
    "earlystop_callback = EarlyStopping(monitor='val_loss', min_delta=0, patience=3)\n",
    "\n",
    "history = model.fit(padded_sequence, scores_cat, validation_split=0.2, \n",
    "                    epochs=10, batch_size=32, callbacks=[earlystop_callback],\n",
    "                    class_weight={0: 20648/5812, 1: 20648/20648})"
   ]
  },
  {
   "cell_type": "code",
   "execution_count": 88,
   "metadata": {
    "ExecuteTime": {
     "end_time": "2021-01-14T03:18:06.788852Z",
     "start_time": "2021-01-14T03:18:06.539520Z"
    }
   },
   "outputs": [
    {
     "data": {
      "image/png": "[encoded data removed]",
      "text/plain": [
       "<Figure size 432x288 with 1 Axes>"
      ]
     },
     "metadata": {
      "needs_background": "light"
     },
     "output_type": "display_data"
    }
   ],
   "source": [
    "plt.plot(history.history['loss'], label='Train loss')\n",
    "plt.plot(history.history['val_loss'], label='Val Loss')\n",
    "plt.legend();"
   ]
  },
  {
   "cell_type": "code",
   "execution_count": 89,
   "metadata": {
    "ExecuteTime": {
     "end_time": "2021-01-14T03:18:16.490292Z",
     "start_time": "2021-01-14T03:18:06.790590Z"
    },
    "scrolled": true
   },
   "outputs": [],
   "source": [
    "probability = model.predict(padded_sequence)\n",
    "probability_df = pd.DataFrame(probability)"
   ]
  },
  {
   "cell_type": "code",
   "execution_count": 90,
   "metadata": {
    "ExecuteTime": {
     "end_time": "2021-01-14T03:18:16.506793Z",
     "start_time": "2021-01-14T03:18:16.493285Z"
    }
   },
   "outputs": [
    {
     "data": {
      "text/html": [
       "<div>\n",
       "<style scoped>\n",
       "    .dataframe tbody tr th:only-of-type {\n",
       "        vertical-align: middle;\n",
       "    }\n",
       "\n",
       "    .dataframe tbody tr th {\n",
       "        vertical-align: top;\n",
       "    }\n",
       "\n",
       "    .dataframe thead th {\n",
       "        text-align: right;\n",
       "    }\n",
       "</style>\n",
       "<table border=\"1\" class=\"dataframe\">\n",
       "  <thead>\n",
       "    <tr style=\"text-align: right;\">\n",
       "      <th></th>\n",
       "      <th>0</th>\n",
       "      <th>1</th>\n",
       "    </tr>\n",
       "  </thead>\n",
       "  <tbody>\n",
       "    <tr>\n",
       "      <th>0</th>\n",
       "      <td>0.063382</td>\n",
       "      <td>0.940917</td>\n",
       "    </tr>\n",
       "    <tr>\n",
       "      <th>1</th>\n",
       "      <td>0.009588</td>\n",
       "      <td>0.991730</td>\n",
       "    </tr>\n",
       "    <tr>\n",
       "      <th>2</th>\n",
       "      <td>0.001446</td>\n",
       "      <td>0.998705</td>\n",
       "    </tr>\n",
       "    <tr>\n",
       "      <th>3</th>\n",
       "      <td>0.003718</td>\n",
       "      <td>0.996208</td>\n",
       "    </tr>\n",
       "    <tr>\n",
       "      <th>4</th>\n",
       "      <td>0.002096</td>\n",
       "      <td>0.998283</td>\n",
       "    </tr>\n",
       "  </tbody>\n",
       "</table>\n",
       "</div>"
      ],
      "text/plain": [
       "          0         1\n",
       "0  0.063382  0.940917\n",
       "1  0.009588  0.991730\n",
       "2  0.001446  0.998705\n",
       "3  0.003718  0.996208\n",
       "4  0.002096  0.998283"
      ]
     },
     "execution_count": 90,
     "metadata": {},
     "output_type": "execute_result"
    }
   ],
   "source": [
    "probability_df.columns = ['0','1']\n",
    "probability_df.head()"
   ]
  },
  {
   "cell_type": "code",
   "execution_count": 91,
   "metadata": {
    "ExecuteTime": {
     "end_time": "2021-01-14T03:18:16.538184Z",
     "start_time": "2021-01-14T03:18:16.509744Z"
    }
   },
   "outputs": [],
   "source": [
    "def find_prediction(row):\n",
    "    max_value = row.max()\n",
    "    \n",
    "    if row['0'] == max_value:\n",
    "        return 0\n",
    "    elif row['1'] == max_value:\n",
    "        return 1"
   ]
  },
  {
   "cell_type": "code",
   "execution_count": 92,
   "metadata": {
    "ExecuteTime": {
     "end_time": "2021-01-14T03:18:17.664335Z",
     "start_time": "2021-01-14T03:18:16.540176Z"
    }
   },
   "outputs": [
    {
     "data": {
      "text/html": [
       "<div>\n",
       "<style scoped>\n",
       "    .dataframe tbody tr th:only-of-type {\n",
       "        vertical-align: middle;\n",
       "    }\n",
       "\n",
       "    .dataframe tbody tr th {\n",
       "        vertical-align: top;\n",
       "    }\n",
       "\n",
       "    .dataframe thead th {\n",
       "        text-align: right;\n",
       "    }\n",
       "</style>\n",
       "<table border=\"1\" class=\"dataframe\">\n",
       "  <thead>\n",
       "    <tr style=\"text-align: right;\">\n",
       "      <th></th>\n",
       "      <th>0</th>\n",
       "      <th>1</th>\n",
       "      <th>pred</th>\n",
       "    </tr>\n",
       "  </thead>\n",
       "  <tbody>\n",
       "    <tr>\n",
       "      <th>0</th>\n",
       "      <td>0.063382</td>\n",
       "      <td>0.940917</td>\n",
       "      <td>1</td>\n",
       "    </tr>\n",
       "    <tr>\n",
       "      <th>1</th>\n",
       "      <td>0.009588</td>\n",
       "      <td>0.991730</td>\n",
       "      <td>1</td>\n",
       "    </tr>\n",
       "    <tr>\n",
       "      <th>2</th>\n",
       "      <td>0.001446</td>\n",
       "      <td>0.998705</td>\n",
       "      <td>1</td>\n",
       "    </tr>\n",
       "    <tr>\n",
       "      <th>3</th>\n",
       "      <td>0.003718</td>\n",
       "      <td>0.996208</td>\n",
       "      <td>1</td>\n",
       "    </tr>\n",
       "    <tr>\n",
       "      <th>4</th>\n",
       "      <td>0.002096</td>\n",
       "      <td>0.998283</td>\n",
       "      <td>1</td>\n",
       "    </tr>\n",
       "    <tr>\n",
       "      <th>5</th>\n",
       "      <td>0.006255</td>\n",
       "      <td>0.994697</td>\n",
       "      <td>1</td>\n",
       "    </tr>\n",
       "    <tr>\n",
       "      <th>6</th>\n",
       "      <td>0.027523</td>\n",
       "      <td>0.975357</td>\n",
       "      <td>1</td>\n",
       "    </tr>\n",
       "    <tr>\n",
       "      <th>7</th>\n",
       "      <td>0.001898</td>\n",
       "      <td>0.997939</td>\n",
       "      <td>1</td>\n",
       "    </tr>\n",
       "    <tr>\n",
       "      <th>8</th>\n",
       "      <td>0.981039</td>\n",
       "      <td>0.019266</td>\n",
       "      <td>0</td>\n",
       "    </tr>\n",
       "    <tr>\n",
       "      <th>9</th>\n",
       "      <td>0.499967</td>\n",
       "      <td>0.495635</td>\n",
       "      <td>0</td>\n",
       "    </tr>\n",
       "  </tbody>\n",
       "</table>\n",
       "</div>"
      ],
      "text/plain": [
       "          0         1  pred\n",
       "0  0.063382  0.940917     1\n",
       "1  0.009588  0.991730     1\n",
       "2  0.001446  0.998705     1\n",
       "3  0.003718  0.996208     1\n",
       "4  0.002096  0.998283     1\n",
       "5  0.006255  0.994697     1\n",
       "6  0.027523  0.975357     1\n",
       "7  0.001898  0.997939     1\n",
       "8  0.981039  0.019266     0\n",
       "9  0.499967  0.495635     0"
      ]
     },
     "execution_count": 92,
     "metadata": {},
     "output_type": "execute_result"
    }
   ],
   "source": [
    "probability_df['pred'] = probability_df.apply(lambda x: find_prediction(x), axis = 1)\n",
    "\n",
    "probability_df.head(10)"
   ]
  },
  {
   "cell_type": "code",
   "execution_count": 93,
   "metadata": {
    "ExecuteTime": {
     "end_time": "2021-01-14T03:18:17.855977Z",
     "start_time": "2021-01-14T03:18:17.665285Z"
    }
   },
   "outputs": [
    {
     "data": {
      "image/png": "[encoded data removed]",
      "text/plain": [
       "<Figure size 504x396 with 2 Axes>"
      ]
     },
     "metadata": {
      "needs_background": "light"
     },
     "output_type": "display_data"
    }
   ],
   "source": [
    "cm = confusion_matrix(scores['pn'], probability_df['pred'])\n",
    "\n",
    "plt.figure(figsize = (7, 5.5))\n",
    "sns.heatmap(cm, annot = True, fmt = '.5g', cmap = 'coolwarm', xticklabels = [0,1], yticklabels = [0,1])\n",
    "plt.title('Confusion Matrix', fontsize = 15)\n",
    "plt.ylabel('True Label')\n",
    "plt.xlabel('Predicted Label')\n",
    "plt.show()"
   ]
  },
  {
   "cell_type": "markdown",
   "metadata": {},
   "source": [
    "## 9. LSTM (2 Categories, rating 3 = positive) \n",
    "\n",
    "Trying with Positive and Negative\n",
    "\n",
    "With score = 3 considered as Positive"
   ]
  },
  {
   "cell_type": "code",
   "execution_count": 107,
   "metadata": {
    "ExecuteTime": {
     "end_time": "2021-01-14T05:04:42.391816Z",
     "start_time": "2021-01-14T05:04:42.366301Z"
    }
   },
   "outputs": [],
   "source": [
    "def positive_negative(score):\n",
    "    if score < 3:\n",
    "        return 0\n",
    "    if score >= 3:\n",
    "        return 1\n",
    "    \n",
    "scores['pn'] = scores['score'].apply(lambda x: positive_negative(x))"
   ]
  },
  {
   "cell_type": "code",
   "execution_count": 108,
   "metadata": {
    "ExecuteTime": {
     "end_time": "2021-01-14T05:04:43.420538Z",
     "start_time": "2021-01-14T05:04:43.409745Z"
    }
   },
   "outputs": [],
   "source": [
    "enc = OneHotEncoder()\n",
    "scores_cat = enc.fit_transform(scores[['pn']]).toarray()"
   ]
  },
  {
   "cell_type": "code",
   "execution_count": 109,
   "metadata": {
    "ExecuteTime": {
     "end_time": "2021-01-14T05:04:44.004375Z",
     "start_time": "2021-01-14T05:04:43.995405Z"
    }
   },
   "outputs": [
    {
     "data": {
      "text/plain": [
       "0    1  \n",
       "0.0  1.0    22362\n",
       "1.0  0.0     4098\n",
       "dtype: int64"
      ]
     },
     "execution_count": 109,
     "metadata": {},
     "output_type": "execute_result"
    }
   ],
   "source": [
    "pd.DataFrame(scores_cat).value_counts()"
   ]
  },
  {
   "cell_type": "code",
   "execution_count": 110,
   "metadata": {
    "ExecuteTime": {
     "end_time": "2021-01-14T05:05:04.494301Z",
     "start_time": "2021-01-14T05:05:04.275648Z"
    }
   },
   "outputs": [
    {
     "name": "stdout",
     "output_type": "stream",
     "text": [
      "Model: \"sequential_10\"\n",
      "_________________________________________________________________\n",
      "Layer (type)                 Output Shape              Param #   \n",
      "=================================================================\n",
      "embedding_10 (Embedding)     (None, 125, 32)           518400    \n",
      "_________________________________________________________________\n",
      "spatial_dropout1d_10 (Spatia (None, 125, 32)           0         \n",
      "_________________________________________________________________\n",
      "lstm_10 (LSTM)               (None, 50)                16600     \n",
      "_________________________________________________________________\n",
      "dropout_10 (Dropout)         (None, 50)                0         \n",
      "_________________________________________________________________\n",
      "dense_10 (Dense)             (None, 2)                 102       \n",
      "=================================================================\n",
      "Total params: 535,102\n",
      "Trainable params: 535,102\n",
      "Non-trainable params: 0\n",
      "_________________________________________________________________\n",
      "None\n"
     ]
    }
   ],
   "source": [
    "embedding_vector_length = 32\n",
    "\n",
    "model = Sequential()\n",
    "model.add(Embedding(vocab_size, embedding_vector_length, input_length=max_len))\n",
    "model.add(SpatialDropout1D(0.25))\n",
    "model.add(LSTM(50, dropout=0.5, recurrent_dropout=0.5))\n",
    "model.add(Dropout(0.2))\n",
    "model.add(Dense(2, activation='sigmoid'))\n",
    "model.compile(loss='binary_crossentropy', optimizer='adam',metrics=['AUC'])\n",
    "\n",
    "print(model.summary())"
   ]
  },
  {
   "cell_type": "code",
   "execution_count": 111,
   "metadata": {
    "ExecuteTime": {
     "end_time": "2021-01-14T05:12:28.740713Z",
     "start_time": "2021-01-14T05:05:06.828783Z"
    }
   },
   "outputs": [
    {
     "name": "stdout",
     "output_type": "stream",
     "text": [
      "Epoch 1/10\n",
      "662/662 [==============================] - 56s 84ms/step - loss: 0.8431 - auc: 0.8207 - val_loss: 0.3908 - val_auc: 0.9050\n",
      "Epoch 2/10\n",
      "662/662 [==============================] - 57s 87ms/step - loss: 0.6159 - auc: 0.9121 - val_loss: 0.3380 - val_auc: 0.9306\n",
      "Epoch 3/10\n",
      "662/662 [==============================] - 62s 93ms/step - loss: 0.5395 - auc: 0.9306 - val_loss: 0.3732 - val_auc: 0.9216\n",
      "Epoch 4/10\n",
      "662/662 [==============================] - 66s 100ms/step - loss: 0.4975 - auc: 0.9440 - val_loss: 0.3118 - val_auc: 0.9453\n",
      "Epoch 5/10\n",
      "662/662 [==============================] - 66s 99ms/step - loss: 0.4436 - auc: 0.9531 - val_loss: 0.3274 - val_auc: 0.9413\n",
      "Epoch 6/10\n",
      "662/662 [==============================] - 67s 101ms/step - loss: 0.4255 - auc: 0.9557 - val_loss: 0.3479 - val_auc: 0.9328\n",
      "Epoch 7/10\n",
      "662/662 [==============================] - 65s 98ms/step - loss: 0.3858 - auc: 0.9641 - val_loss: 0.3228 - val_auc: 0.9440\n"
     ]
    }
   ],
   "source": [
    "earlystop_callback = EarlyStopping(monitor='val_loss', min_delta=0, patience=3)\n",
    "\n",
    "history = model.fit(padded_sequence, scores_cat, validation_split=0.2, \n",
    "                    epochs=10, batch_size=32, callbacks=[earlystop_callback],\n",
    "                    class_weight={0: 22362/4098, 1: 22362/22362})"
   ]
  },
  {
   "cell_type": "code",
   "execution_count": 112,
   "metadata": {
    "ExecuteTime": {
     "end_time": "2021-01-14T05:12:28.957978Z",
     "start_time": "2021-01-14T05:12:28.746698Z"
    }
   },
   "outputs": [
    {
     "data": {
      "image/png": "[encoded data removed]",
      "text/plain": [
       "<Figure size 432x288 with 1 Axes>"
      ]
     },
     "metadata": {
      "needs_background": "light"
     },
     "output_type": "display_data"
    }
   ],
   "source": [
    "plt.plot(history.history['loss'], label='Train loss')\n",
    "plt.plot(history.history['val_loss'], label='Val Loss')\n",
    "plt.legend();"
   ]
  },
  {
   "cell_type": "code",
   "execution_count": 113,
   "metadata": {
    "ExecuteTime": {
     "end_time": "2021-01-14T05:12:38.352825Z",
     "start_time": "2021-01-14T05:12:28.959972Z"
    },
    "scrolled": true
   },
   "outputs": [],
   "source": [
    "probability = model.predict(padded_sequence)\n",
    "probability_df = pd.DataFrame(probability)"
   ]
  },
  {
   "cell_type": "code",
   "execution_count": 114,
   "metadata": {
    "ExecuteTime": {
     "end_time": "2021-01-14T05:12:38.383769Z",
     "start_time": "2021-01-14T05:12:38.357820Z"
    }
   },
   "outputs": [
    {
     "data": {
      "text/html": [
       "<div>\n",
       "<style scoped>\n",
       "    .dataframe tbody tr th:only-of-type {\n",
       "        vertical-align: middle;\n",
       "    }\n",
       "\n",
       "    .dataframe tbody tr th {\n",
       "        vertical-align: top;\n",
       "    }\n",
       "\n",
       "    .dataframe thead th {\n",
       "        text-align: right;\n",
       "    }\n",
       "</style>\n",
       "<table border=\"1\" class=\"dataframe\">\n",
       "  <thead>\n",
       "    <tr style=\"text-align: right;\">\n",
       "      <th></th>\n",
       "      <th>0</th>\n",
       "      <th>1</th>\n",
       "    </tr>\n",
       "  </thead>\n",
       "  <tbody>\n",
       "    <tr>\n",
       "      <th>0</th>\n",
       "      <td>0.003614</td>\n",
       "      <td>0.996333</td>\n",
       "    </tr>\n",
       "    <tr>\n",
       "      <th>1</th>\n",
       "      <td>0.004766</td>\n",
       "      <td>0.995160</td>\n",
       "    </tr>\n",
       "    <tr>\n",
       "      <th>2</th>\n",
       "      <td>0.000435</td>\n",
       "      <td>0.999561</td>\n",
       "    </tr>\n",
       "    <tr>\n",
       "      <th>3</th>\n",
       "      <td>0.001450</td>\n",
       "      <td>0.998536</td>\n",
       "    </tr>\n",
       "    <tr>\n",
       "      <th>4</th>\n",
       "      <td>0.000810</td>\n",
       "      <td>0.999158</td>\n",
       "    </tr>\n",
       "  </tbody>\n",
       "</table>\n",
       "</div>"
      ],
      "text/plain": [
       "          0         1\n",
       "0  0.003614  0.996333\n",
       "1  0.004766  0.995160\n",
       "2  0.000435  0.999561\n",
       "3  0.001450  0.998536\n",
       "4  0.000810  0.999158"
      ]
     },
     "execution_count": 114,
     "metadata": {},
     "output_type": "execute_result"
    }
   ],
   "source": [
    "probability_df.columns = ['0','1']\n",
    "probability_df.head()"
   ]
  },
  {
   "cell_type": "code",
   "execution_count": 115,
   "metadata": {
    "ExecuteTime": {
     "end_time": "2021-01-14T05:12:38.398734Z",
     "start_time": "2021-01-14T05:12:38.385763Z"
    }
   },
   "outputs": [],
   "source": [
    "def find_prediction(row):\n",
    "    max_value = row.max()\n",
    "    \n",
    "    if row['0'] == max_value:\n",
    "        return 0\n",
    "    elif row['1'] == max_value:\n",
    "        return 1"
   ]
  },
  {
   "cell_type": "code",
   "execution_count": 116,
   "metadata": {
    "ExecuteTime": {
     "end_time": "2021-01-14T05:12:39.427514Z",
     "start_time": "2021-01-14T05:12:38.403720Z"
    }
   },
   "outputs": [
    {
     "data": {
      "text/html": [
       "<div>\n",
       "<style scoped>\n",
       "    .dataframe tbody tr th:only-of-type {\n",
       "        vertical-align: middle;\n",
       "    }\n",
       "\n",
       "    .dataframe tbody tr th {\n",
       "        vertical-align: top;\n",
       "    }\n",
       "\n",
       "    .dataframe thead th {\n",
       "        text-align: right;\n",
       "    }\n",
       "</style>\n",
       "<table border=\"1\" class=\"dataframe\">\n",
       "  <thead>\n",
       "    <tr style=\"text-align: right;\">\n",
       "      <th></th>\n",
       "      <th>0</th>\n",
       "      <th>1</th>\n",
       "      <th>pred</th>\n",
       "    </tr>\n",
       "  </thead>\n",
       "  <tbody>\n",
       "    <tr>\n",
       "      <th>0</th>\n",
       "      <td>0.003614</td>\n",
       "      <td>0.996333</td>\n",
       "      <td>1</td>\n",
       "    </tr>\n",
       "    <tr>\n",
       "      <th>1</th>\n",
       "      <td>0.004766</td>\n",
       "      <td>0.995160</td>\n",
       "      <td>1</td>\n",
       "    </tr>\n",
       "    <tr>\n",
       "      <th>2</th>\n",
       "      <td>0.000435</td>\n",
       "      <td>0.999561</td>\n",
       "      <td>1</td>\n",
       "    </tr>\n",
       "    <tr>\n",
       "      <th>3</th>\n",
       "      <td>0.001450</td>\n",
       "      <td>0.998536</td>\n",
       "      <td>1</td>\n",
       "    </tr>\n",
       "    <tr>\n",
       "      <th>4</th>\n",
       "      <td>0.000810</td>\n",
       "      <td>0.999158</td>\n",
       "      <td>1</td>\n",
       "    </tr>\n",
       "    <tr>\n",
       "      <th>5</th>\n",
       "      <td>0.005858</td>\n",
       "      <td>0.993832</td>\n",
       "      <td>1</td>\n",
       "    </tr>\n",
       "    <tr>\n",
       "      <th>6</th>\n",
       "      <td>0.046200</td>\n",
       "      <td>0.952621</td>\n",
       "      <td>1</td>\n",
       "    </tr>\n",
       "    <tr>\n",
       "      <th>7</th>\n",
       "      <td>0.001667</td>\n",
       "      <td>0.998401</td>\n",
       "      <td>1</td>\n",
       "    </tr>\n",
       "    <tr>\n",
       "      <th>8</th>\n",
       "      <td>0.939699</td>\n",
       "      <td>0.058711</td>\n",
       "      <td>0</td>\n",
       "    </tr>\n",
       "    <tr>\n",
       "      <th>9</th>\n",
       "      <td>0.004394</td>\n",
       "      <td>0.995551</td>\n",
       "      <td>1</td>\n",
       "    </tr>\n",
       "  </tbody>\n",
       "</table>\n",
       "</div>"
      ],
      "text/plain": [
       "          0         1  pred\n",
       "0  0.003614  0.996333     1\n",
       "1  0.004766  0.995160     1\n",
       "2  0.000435  0.999561     1\n",
       "3  0.001450  0.998536     1\n",
       "4  0.000810  0.999158     1\n",
       "5  0.005858  0.993832     1\n",
       "6  0.046200  0.952621     1\n",
       "7  0.001667  0.998401     1\n",
       "8  0.939699  0.058711     0\n",
       "9  0.004394  0.995551     1"
      ]
     },
     "execution_count": 116,
     "metadata": {},
     "output_type": "execute_result"
    }
   ],
   "source": [
    "probability_df['pred'] = probability_df.apply(lambda x: find_prediction(x), axis = 1)\n",
    "\n",
    "probability_df.head(10)"
   ]
  },
  {
   "cell_type": "code",
   "execution_count": 117,
   "metadata": {
    "ExecuteTime": {
     "end_time": "2021-01-14T05:12:39.619107Z",
     "start_time": "2021-01-14T05:12:39.428511Z"
    }
   },
   "outputs": [
    {
     "data": {
      "image/png": "[encoded data removed]",
      "text/plain": [
       "<Figure size 504x396 with 2 Axes>"
      ]
     },
     "metadata": {
      "needs_background": "light"
     },
     "output_type": "display_data"
    }
   ],
   "source": [
    "cm = confusion_matrix(scores['pn'], probability_df['pred'])\n",
    "\n",
    "plt.figure(figsize = (7, 5.5))\n",
    "sns.heatmap(cm, annot = True, fmt = '.5g', cmap = 'coolwarm', xticklabels = [0,1], yticklabels = [0,1])\n",
    "plt.title('Confusion Matrix', fontsize = 15)\n",
    "plt.ylabel('True Label')\n",
    "plt.xlabel('Predicted Label')\n",
    "plt.show()"
   ]
  },
  {
   "cell_type": "code",
   "execution_count": null,
   "metadata": {},
   "outputs": [],
   "source": []
  }
 ],
 "metadata": {
  "kernelspec": {
   "display_name": "Python 3",
   "language": "python",
   "name": "python3"
  },
  "language_info": {
   "codemirror_mode": {
    "name": "ipython",
    "version": 3
   },
   "file_extension": ".py",
   "mimetype": "text/x-python",
   "name": "python",
   "nbconvert_exporter": "python",
   "pygments_lexer": "ipython3",
   "version": "3.8.5"
  },
  "toc": {
   "base_numbering": 1,
   "nav_menu": {},
   "number_sections": false,
   "sideBar": true,
   "skip_h1_title": false,
   "title_cell": "Table of Contents",
   "title_sidebar": "Contents",
   "toc_cell": false,
   "toc_position": {
    "height": "542.4px",
    "left": "1152px",
    "top": "155.533px",
    "width": "384px"
   },
   "toc_section_display": true,
   "toc_window_display": true
  }
 },
 "nbformat": 4,
 "nbformat_minor": 4
}
