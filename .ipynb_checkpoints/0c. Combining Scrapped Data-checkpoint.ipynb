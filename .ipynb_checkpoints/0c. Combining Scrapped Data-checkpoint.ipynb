{
 "cells": [
  {
   "cell_type": "markdown",
   "metadata": {},
   "source": [
    "# Combine Scrapped Datasets from Google Play Store and Apple App Store"
   ]
  },
  {
   "cell_type": "markdown",
   "metadata": {},
   "source": [
    "## Import Libraries"
   ]
  },
  {
   "cell_type": "code",
   "execution_count": 27,
   "metadata": {
    "ExecuteTime": {
     "end_time": "2021-01-10T08:07:32.300893Z",
     "start_time": "2021-01-10T08:07:32.291894Z"
    }
   },
   "outputs": [],
   "source": [
    "import pandas as pd\n",
    "import numpy as np\n",
    "import matplotlib.pyplot as plt\n",
    "import seaborn as sns\n",
    "sns.set_style('whitegrid')\n",
    "\n",
    "from nltk.tokenize import TweetTokenizer, RegexpTokenizer\n",
    "\n",
    "import enchant"
   ]
  },
  {
   "cell_type": "markdown",
   "metadata": {},
   "source": [
    "## Import Datasets"
   ]
  },
  {
   "cell_type": "code",
   "execution_count": 28,
   "metadata": {
    "ExecuteTime": {
     "end_time": "2021-01-10T08:07:34.261299Z",
     "start_time": "2021-01-10T08:07:33.370928Z"
    }
   },
   "outputs": [],
   "source": [
    "google_reviews = pd.read_csv('data/scrapper_102582_18_Dec_0757.csv')"
   ]
  },
  {
   "cell_type": "code",
   "execution_count": 29,
   "metadata": {
    "ExecuteTime": {
     "end_time": "2021-01-10T08:07:34.277294Z",
     "start_time": "2021-01-10T08:07:34.262306Z"
    }
   },
   "outputs": [
    {
     "data": {
      "text/plain": [
       "(102582, 10)"
      ]
     },
     "execution_count": 29,
     "metadata": {},
     "output_type": "execute_result"
    }
   ],
   "source": [
    "google_reviews.shape"
   ]
  },
  {
   "cell_type": "code",
   "execution_count": 30,
   "metadata": {
    "ExecuteTime": {
     "end_time": "2021-01-10T08:07:34.389225Z",
     "start_time": "2021-01-10T08:07:34.280292Z"
    }
   },
   "outputs": [],
   "source": [
    "apple_reviews = pd.read_csv('data/app_store_12_13.csv')"
   ]
  },
  {
   "cell_type": "code",
   "execution_count": 31,
   "metadata": {
    "ExecuteTime": {
     "end_time": "2021-01-10T08:07:34.405214Z",
     "start_time": "2021-01-10T08:07:34.391224Z"
    }
   },
   "outputs": [
    {
     "data": {
      "text/plain": [
       "(11617, 7)"
      ]
     },
     "execution_count": 31,
     "metadata": {},
     "output_type": "execute_result"
    }
   ],
   "source": [
    "apple_reviews.shape"
   ]
  },
  {
   "cell_type": "markdown",
   "metadata": {},
   "source": [
    "The number of reviews on Apple App stores are much fewer than the number of reviews on Google Play Store."
   ]
  },
  {
   "cell_type": "markdown",
   "metadata": {},
   "source": [
    "### Google Play Store Reviews"
   ]
  },
  {
   "cell_type": "code",
   "execution_count": 32,
   "metadata": {
    "ExecuteTime": {
     "end_time": "2021-01-10T08:07:36.516400Z",
     "start_time": "2021-01-10T08:07:36.495959Z"
    }
   },
   "outputs": [
    {
     "data": {
      "text/html": [
       "<div>\n",
       "<style scoped>\n",
       "    .dataframe tbody tr th:only-of-type {\n",
       "        vertical-align: middle;\n",
       "    }\n",
       "\n",
       "    .dataframe tbody tr th {\n",
       "        vertical-align: top;\n",
       "    }\n",
       "\n",
       "    .dataframe thead th {\n",
       "        text-align: right;\n",
       "    }\n",
       "</style>\n",
       "<table border=\"1\" class=\"dataframe\">\n",
       "  <thead>\n",
       "    <tr style=\"text-align: right;\">\n",
       "      <th></th>\n",
       "      <th>reviewId</th>\n",
       "      <th>userName</th>\n",
       "      <th>userImage</th>\n",
       "      <th>content</th>\n",
       "      <th>score</th>\n",
       "      <th>thumbsUpCount</th>\n",
       "      <th>reviewCreatedVersion</th>\n",
       "      <th>at</th>\n",
       "      <th>replyContent</th>\n",
       "      <th>repliedAt</th>\n",
       "    </tr>\n",
       "  </thead>\n",
       "  <tbody>\n",
       "    <tr>\n",
       "      <th>0</th>\n",
       "      <td>gp:AOqpTOHCvgqdJ2qLwgZ-dXETf4Q-aRiFEaHKC9vmNZ2...</td>\n",
       "      <td>Hailey Hawthorne</td>\n",
       "      <td>https://play-lh.googleusercontent.com/a-/AOh14...</td>\n",
       "      <td>The graphics are gorgeous, the gameplay is inc...</td>\n",
       "      <td>5</td>\n",
       "      <td>881</td>\n",
       "      <td>1.1.1_1437351_1398019</td>\n",
       "      <td>2020-12-11 13:55:29</td>\n",
       "      <td>NaN</td>\n",
       "      <td>NaN</td>\n",
       "    </tr>\n",
       "    <tr>\n",
       "      <th>1</th>\n",
       "      <td>gp:AOqpTOHF4rxce7qwlomwP23shwoxC8I19SkLm26yC6C...</td>\n",
       "      <td>Ratul Kumar Biswas</td>\n",
       "      <td>https://play-lh.googleusercontent.com/a-/AOh14...</td>\n",
       "      <td>If you love free world RPG, then this is it! T...</td>\n",
       "      <td>5</td>\n",
       "      <td>48</td>\n",
       "      <td>1.1.1_1437351_1398019</td>\n",
       "      <td>2020-12-16 18:10:47</td>\n",
       "      <td>NaN</td>\n",
       "      <td>NaN</td>\n",
       "    </tr>\n",
       "    <tr>\n",
       "      <th>2</th>\n",
       "      <td>gp:AOqpTOExfYs5EJj-TnaLYPjWfsUzQBE82Djf9nsN5-t...</td>\n",
       "      <td>fang theforgotten</td>\n",
       "      <td>https://play-lh.googleusercontent.com/a-/AOh14...</td>\n",
       "      <td>I absolutely love the game! No complaints besi...</td>\n",
       "      <td>5</td>\n",
       "      <td>185</td>\n",
       "      <td>1.1.1_1437351_1398019</td>\n",
       "      <td>2020-12-16 00:18:43</td>\n",
       "      <td>NaN</td>\n",
       "      <td>NaN</td>\n",
       "    </tr>\n",
       "    <tr>\n",
       "      <th>3</th>\n",
       "      <td>gp:AOqpTOEZuEm3oA8vH-NI9GtWCwcrqS1QpcBoFX8Ds-t...</td>\n",
       "      <td>Dohwon Kim</td>\n",
       "      <td>https://play-lh.googleusercontent.com/-9bHV96D...</td>\n",
       "      <td>Great game. Regardless of ripoff issues and su...</td>\n",
       "      <td>4</td>\n",
       "      <td>1</td>\n",
       "      <td>1.1.1_1437351_1398019</td>\n",
       "      <td>2020-12-16 12:46:11</td>\n",
       "      <td>NaN</td>\n",
       "      <td>NaN</td>\n",
       "    </tr>\n",
       "    <tr>\n",
       "      <th>4</th>\n",
       "      <td>gp:AOqpTOHiRvGrFsLKwnH7JOpzSaHP45OE4v7wV_wJbdf...</td>\n",
       "      <td>Ruby Daniel</td>\n",
       "      <td>https://play-lh.googleusercontent.com/a-/AOh14...</td>\n",
       "      <td>Amazing graphics and gameplay although a lot o...</td>\n",
       "      <td>5</td>\n",
       "      <td>186</td>\n",
       "      <td>1.1.1_1437351_1398019</td>\n",
       "      <td>2020-12-10 22:51:08</td>\n",
       "      <td>NaN</td>\n",
       "      <td>NaN</td>\n",
       "    </tr>\n",
       "  </tbody>\n",
       "</table>\n",
       "</div>"
      ],
      "text/plain": [
       "                                            reviewId            userName  \\\n",
       "0  gp:AOqpTOHCvgqdJ2qLwgZ-dXETf4Q-aRiFEaHKC9vmNZ2...    Hailey Hawthorne   \n",
       "1  gp:AOqpTOHF4rxce7qwlomwP23shwoxC8I19SkLm26yC6C...  Ratul Kumar Biswas   \n",
       "2  gp:AOqpTOExfYs5EJj-TnaLYPjWfsUzQBE82Djf9nsN5-t...   fang theforgotten   \n",
       "3  gp:AOqpTOEZuEm3oA8vH-NI9GtWCwcrqS1QpcBoFX8Ds-t...          Dohwon Kim   \n",
       "4  gp:AOqpTOHiRvGrFsLKwnH7JOpzSaHP45OE4v7wV_wJbdf...         Ruby Daniel   \n",
       "\n",
       "                                           userImage  \\\n",
       "0  https://play-lh.googleusercontent.com/a-/AOh14...   \n",
       "1  https://play-lh.googleusercontent.com/a-/AOh14...   \n",
       "2  https://play-lh.googleusercontent.com/a-/AOh14...   \n",
       "3  https://play-lh.googleusercontent.com/-9bHV96D...   \n",
       "4  https://play-lh.googleusercontent.com/a-/AOh14...   \n",
       "\n",
       "                                             content  score  thumbsUpCount  \\\n",
       "0  The graphics are gorgeous, the gameplay is inc...      5            881   \n",
       "1  If you love free world RPG, then this is it! T...      5             48   \n",
       "2  I absolutely love the game! No complaints besi...      5            185   \n",
       "3  Great game. Regardless of ripoff issues and su...      4              1   \n",
       "4  Amazing graphics and gameplay although a lot o...      5            186   \n",
       "\n",
       "    reviewCreatedVersion                   at replyContent repliedAt  \n",
       "0  1.1.1_1437351_1398019  2020-12-11 13:55:29          NaN       NaN  \n",
       "1  1.1.1_1437351_1398019  2020-12-16 18:10:47          NaN       NaN  \n",
       "2  1.1.1_1437351_1398019  2020-12-16 00:18:43          NaN       NaN  \n",
       "3  1.1.1_1437351_1398019  2020-12-16 12:46:11          NaN       NaN  \n",
       "4  1.1.1_1437351_1398019  2020-12-10 22:51:08          NaN       NaN  "
      ]
     },
     "execution_count": 32,
     "metadata": {},
     "output_type": "execute_result"
    }
   ],
   "source": [
    "google_reviews.head()"
   ]
  },
  {
   "cell_type": "markdown",
   "metadata": {},
   "source": [
    "Columns such as reviewId, userName, userImage are not important and will be dropped. reviewCreatedVersion will be dropped as well, but I will feature engineer a similar feature for both datasets subsequently. "
   ]
  },
  {
   "cell_type": "code",
   "execution_count": 33,
   "metadata": {
    "ExecuteTime": {
     "end_time": "2021-01-10T08:07:38.809360Z",
     "start_time": "2021-01-10T08:07:38.754607Z"
    }
   },
   "outputs": [
    {
     "data": {
      "text/plain": [
       "reviewId                102582\n",
       "userName                102578\n",
       "userImage               102582\n",
       "content                 102582\n",
       "score                   102582\n",
       "thumbsUpCount           102582\n",
       "reviewCreatedVersion     87335\n",
       "at                      102582\n",
       "replyContent                34\n",
       "repliedAt                   34\n",
       "dtype: int64"
      ]
     },
     "execution_count": 33,
     "metadata": {},
     "output_type": "execute_result"
    }
   ],
   "source": [
    "len(google_reviews) - google_reviews.isnull().sum()"
   ]
  },
  {
   "cell_type": "markdown",
   "metadata": {},
   "source": [
    "There are only **34 out of 102582** reviews that have been replied. I will take a look at these replies."
   ]
  },
  {
   "cell_type": "code",
   "execution_count": 34,
   "metadata": {
    "ExecuteTime": {
     "end_time": "2021-01-10T08:07:41.316518Z",
     "start_time": "2021-01-10T08:07:41.295533Z"
    }
   },
   "outputs": [
    {
     "data": {
      "text/html": [
       "<div>\n",
       "<style scoped>\n",
       "    .dataframe tbody tr th:only-of-type {\n",
       "        vertical-align: middle;\n",
       "    }\n",
       "\n",
       "    .dataframe tbody tr th {\n",
       "        vertical-align: top;\n",
       "    }\n",
       "\n",
       "    .dataframe thead th {\n",
       "        text-align: right;\n",
       "    }\n",
       "</style>\n",
       "<table border=\"1\" class=\"dataframe\">\n",
       "  <thead>\n",
       "    <tr style=\"text-align: right;\">\n",
       "      <th></th>\n",
       "      <th>content</th>\n",
       "      <th>score</th>\n",
       "      <th>thumbsUpCount</th>\n",
       "      <th>at</th>\n",
       "      <th>replyContent</th>\n",
       "      <th>repliedAt</th>\n",
       "    </tr>\n",
       "  </thead>\n",
       "  <tbody>\n",
       "    <tr>\n",
       "      <th>13517</th>\n",
       "      <td>Great graphics, fluid movement, open world fre...</td>\n",
       "      <td>5</td>\n",
       "      <td>1</td>\n",
       "      <td>2020-09-28 03:30:58</td>\n",
       "      <td>Hello Traveller, currently the Genshin Impact ...</td>\n",
       "      <td>2020-09-27 09:53:07</td>\n",
       "    </tr>\n",
       "    <tr>\n",
       "      <th>18231</th>\n",
       "      <td>Editd Review: after a few days playing I do li...</td>\n",
       "      <td>4</td>\n",
       "      <td>35</td>\n",
       "      <td>2020-09-29 14:07:20</td>\n",
       "      <td>Hello Traveller, currently the Genshin Impact ...</td>\n",
       "      <td>2020-09-27 09:52:11</td>\n",
       "    </tr>\n",
       "    <tr>\n",
       "      <th>21285</th>\n",
       "      <td>I was a beta-tester, 5 stars are legit. I just...</td>\n",
       "      <td>2</td>\n",
       "      <td>2</td>\n",
       "      <td>2020-09-27 12:48:22</td>\n",
       "      <td>Hello Traveller, currently the Genshin Impact ...</td>\n",
       "      <td>2020-09-27 10:08:18</td>\n",
       "    </tr>\n",
       "    <tr>\n",
       "      <th>23628</th>\n",
       "      <td>The game is really good it has nice graphics n...</td>\n",
       "      <td>5</td>\n",
       "      <td>1</td>\n",
       "      <td>2020-09-28 08:36:57</td>\n",
       "      <td>Hello Traveller, currently the Genshin Impact ...</td>\n",
       "      <td>2020-09-27 09:54:41</td>\n",
       "    </tr>\n",
       "    <tr>\n",
       "      <th>25160</th>\n",
       "      <td>EDIT: Very bad customer service. I have sent a...</td>\n",
       "      <td>1</td>\n",
       "      <td>1</td>\n",
       "      <td>2020-10-03 15:25:00</td>\n",
       "      <td>We sincerely apologize for the trouble caused,...</td>\n",
       "      <td>2020-10-03 14:31:53</td>\n",
       "    </tr>\n",
       "  </tbody>\n",
       "</table>\n",
       "</div>"
      ],
      "text/plain": [
       "                                                 content  score  \\\n",
       "13517  Great graphics, fluid movement, open world fre...      5   \n",
       "18231  Editd Review: after a few days playing I do li...      4   \n",
       "21285  I was a beta-tester, 5 stars are legit. I just...      2   \n",
       "23628  The game is really good it has nice graphics n...      5   \n",
       "25160  EDIT: Very bad customer service. I have sent a...      1   \n",
       "\n",
       "       thumbsUpCount                   at  \\\n",
       "13517              1  2020-09-28 03:30:58   \n",
       "18231             35  2020-09-29 14:07:20   \n",
       "21285              2  2020-09-27 12:48:22   \n",
       "23628              1  2020-09-28 08:36:57   \n",
       "25160              1  2020-10-03 15:25:00   \n",
       "\n",
       "                                            replyContent            repliedAt  \n",
       "13517  Hello Traveller, currently the Genshin Impact ...  2020-09-27 09:53:07  \n",
       "18231  Hello Traveller, currently the Genshin Impact ...  2020-09-27 09:52:11  \n",
       "21285  Hello Traveller, currently the Genshin Impact ...  2020-09-27 10:08:18  \n",
       "23628  Hello Traveller, currently the Genshin Impact ...  2020-09-27 09:54:41  \n",
       "25160  We sincerely apologize for the trouble caused,...  2020-10-03 14:31:53  "
      ]
     },
     "execution_count": 34,
     "metadata": {},
     "output_type": "execute_result"
    }
   ],
   "source": [
    "replied = google_reviews[google_reviews['replyContent'].notnull()][['content', 'score', 'thumbsUpCount', 'at', 'replyContent', 'repliedAt']]\n",
    "\n",
    "replied.head()"
   ]
  },
  {
   "cell_type": "code",
   "execution_count": 35,
   "metadata": {
    "ExecuteTime": {
     "end_time": "2021-01-10T08:07:41.788946Z",
     "start_time": "2021-01-10T08:07:41.743974Z"
    },
    "scrolled": true
   },
   "outputs": [
    {
     "name": "stdout",
     "output_type": "stream",
     "text": [
      "On 2020-09-28 03:30\n",
      "====================\n",
      "User Sent: (Score 5)\n",
      "Great graphics, fluid movement, open world freedom, game-wise it's stunning, I like element combination, like wind + fire will make difference in combat, affordable IAP products, looks like i will stuck here for a very long time. Plus the tutorial is just appeared as we doing something so you won't stuck on it for long\n",
      "\n",
      "Mihoyo Replied:\n",
      "Hello Traveller, currently the Genshin Impact is available for pre-download service, the oficial open will be at September 28th, 2020, then let's start a new journey together.\n",
      "\n",
      "Please visit our oficial website for more information: https://genshin.mihoyo.com/en.\n",
      "\n",
      "\n",
      "On 2020-09-29 14:07\n",
      "====================\n",
      "User Sent: (Score 4)\n",
      "Editd Review: after a few days playing I do like it a lot. The only downsides I can give are: 1. Uses a fair amount of battery power. 2. The controls can be cumbersome causing you to move or act in a way that could cause you to do something you dont mean to. 3. Sometimes the game lags during cutscene. I am using a galaxy S8 with plenty of ram while connected to wifi. So it could be a server issue. Other than that it is an awesome game I will keep playing\n",
      "\n",
      "Mihoyo Replied:\n",
      "Hello Traveller, currently the Genshin Impact is available for pre-download service, the oficial open will be at September 28th, 2020, then let's start a new journey together.\n",
      "\n",
      "Please visit our oficial website for more information: https://genshin.mihoyo.com/en.\n",
      "\n",
      "\n",
      "On 2020-09-27 12:48\n",
      "====================\n",
      "User Sent: (Score 2)\n",
      "I was a beta-tester, 5 stars are legit. I just *really* dislike how developers abuse that hype by allowing downloads this early and letting Google send out that it's ready to play when it's not. Devs didn't do this last time, they at least waited 8 or less hours to send out a dl. ...and they didn't even try to read the review. I know very well it comes out on the 28th, but I do not appreciate downloads opening on the 26th.\n",
      "\n",
      "Mihoyo Replied:\n",
      "Hello Traveller, currently the Genshin Impact is available for pre-download service, the oficial open will be at September 28th, 2020, then let's start a new journey together.\n",
      "\n",
      "Please visit our oficial website for more information: https://genshin.mihoyo.com/en.\n",
      "\n",
      "\n",
      "On 2020-09-28 08:36\n",
      "====================\n",
      "User Sent: (Score 5)\n",
      "The game is really good it has nice graphics nothing negative I can say to it really. The game runs really well on my phone (oppo a5 2020) even while recording.\n",
      "\n",
      "Mihoyo Replied:\n",
      "Hello Traveller, currently the Genshin Impact is available for pre-download service, the oficial open will be at September 28th, 2020, then let's start a new journey together.\n",
      "\n",
      "Please visit our oficial website for more information: https://genshin.mihoyo.com/en.\n",
      "\n",
      "\n",
      "On 2020-10-03 15:25\n",
      "====================\n",
      "User Sent: (Score 1)\n",
      "EDIT: Very bad customer service. I have sent a ticket time ago, and yet I got no reply from them There is no in-game customer service option\n",
      "\n",
      "Mihoyo Replied:\n",
      "We sincerely apologize for the trouble caused, Traveler. Please contact Customer Service in-game directly for specific help. We will always do our best to assist.\n",
      "\n",
      "\n",
      "On 2020-09-29 02:37\n",
      "====================\n",
      "User Sent: (Score 5)\n",
      "This is By far the best Game on Mobile phone, Graphic, gameplay, this is a game changer. This game bring gaming on mobile phone into another level. And I can't help thinking that the dev must have been Zelda BOTW fans, coz this game have 100% feels, theme, design just like zelda botw. And it's a good thing. Keep up guys\n",
      "\n",
      "Mihoyo Replied:\n",
      "Hello Traveller, currently the Genshin Impact is available for pre-download service, the oficial open will be at September 28th, 2020, then let's start a new journey together.\n",
      "\n",
      "Please visit our oficial website for more information: https://genshin.mihoyo.com/en.\n",
      "\n",
      "\n",
      "On 2020-09-28 14:56\n",
      "====================\n",
      "User Sent: (Score 5)\n",
      "My expectations were right; this game has stunning visuals, gameplay, even the story is very well produced and the designs are so crisp. I can not wait to put many hours into this game. Thank you devs you have not disappointed me here. A well deserved 5 star rating.\n",
      "\n",
      "Mihoyo Replied:\n",
      "Hello Traveller, currently the Genshin Impact is available for pre-download service, the oficial open will be at September 28th, 2020, then let's start a new journey together, please visit our oficial website for more information: https://genshin.mihoyo.com/en.\n",
      "\n",
      "\n",
      "On 2020-09-27 04:56\n",
      "====================\n",
      "User Sent: (Score 3)\n",
      "I was very excited, but when I downloaded and oped the app it said I did not have enough space to download the extra files and resources. I checked my space and deleted some items and turns out I had enough space in the first place. Please fix this problem I was so excited\n",
      "\n",
      "Mihoyo Replied:\n",
      "Hello Traveller, we suggest that you reserve 8GB of free space to ensure the normal operation of the game.\n",
      "\n",
      "If you have any question, please feel free to contact us: genshin_cs@mihoyo.com\n",
      "\n",
      "\n",
      "On 2020-09-28 03:43\n",
      "====================\n",
      "User Sent: (Score 1)\n",
      "Its 9:11 Am in India here. I cannot connect to the servers to download the last remaining 1500 mb of data. Please fix the servers. (I am running on 500kbps stable and all the other games work perfectly except this)\n",
      "\n",
      "Mihoyo Replied:\n",
      "Hello Traveller, currently the Genshin Impact is available for pre-download service, the oficial open will be at September 28th, 2020, then let's start a new journey together.\n",
      "\n",
      "Please visit our oficial website for more information: https://genshin.mihoyo.com/en.\n",
      "\n",
      "\n",
      "On 2020-09-28 01:27\n",
      "====================\n",
      "User Sent: (Score 4)\n",
      "I can't even open the game... I deleted multiple things but it keeps saying I don't have storage space. I can't possibly delete anymore stuff just for one app EDIT: Thank you to the developers for getting back to me, I now know the issue :)\n",
      "\n",
      "Mihoyo Replied:\n",
      "Hello Traveler, please check the status of your network settings and also download with the recommended device model for a better gaming experience:\n",
      "\n",
      "Processor: Snapdragon 845, Kirin 810 and above\n",
      "RAM Memory: 4GB and above\n",
      "System: Android 8.1 and above\n",
      "Storage space: please reserve 8GB of free space.\n",
      "\n",
      "\n",
      "On 2020-09-27 07:15\n",
      "====================\n",
      "User Sent: (Score 1)\n",
      "This game took about an hour for it to fully download everything and when I'm finally able to press play it says \"server maintenance\".\n",
      "\n",
      "Mihoyo Replied:\n",
      "Hello Traveller, currently the Genshin Impact is available for pre-download service, the oficial open will be at September 28th, 2020, then let's start a new journey together.\n",
      "\n",
      "Please visit our oficial website for more information: https://genshin.mihoyo.com/en.\n",
      "\n",
      "\n",
      "On 2020-09-29 13:06\n",
      "====================\n",
      "User Sent: (Score 3)\n",
      "well i cant say anything about the game the only thing i can say is it needs a 6 or 8gb ram to play the game smoothly means you need to buy new phone to play this game\n",
      "\n",
      "Mihoyo Replied:\n",
      "Hello Traveller, currently the Genshin Impact is available for pre-download service, the oficial open will be at September 28th, 2020, then let's start a new journey together.\n",
      "\n",
      "Please visit our oficial website for more information: https://genshin.mihoyo.com/en.\n",
      "\n",
      "\n",
      "On 2020-10-03 15:20\n",
      "====================\n",
      "User Sent: (Score 5)\n",
      "If you're reading this on the 27th of September, be aware that the server doesn't open until tomorrow, the 28th. They are allowing downloads for preloading purposes only\n",
      "\n",
      "Mihoyo Replied:\n",
      "Hello Traveller, currently the Genshin Impact is available for pre-download service, the oficial open will be at September 28th, 2020, then let's start a new journey together.\n",
      "\n",
      "Please visit our oficial website for more information: https://genshin.mihoyo.com/en.\n",
      "\n",
      "\n",
      "On 2020-09-28 10:18\n",
      "====================\n",
      "User Sent: (Score 5)\n",
      "Well the game is damn good 😅 still need learning...I'm at adventure rank 8 now... With my realme 3 pro, gaming is been very fine... Graphic optimization is ready good... Landscape inside the game is mind blowing... Love this game... And genshin team u did a great job...\n",
      "\n",
      "Mihoyo Replied:\n",
      "Hello Traveller, currently the Genshin Impact is available for pre-download service, the oficial open will be at September 28th, 2020, then let's start a new journey together.\n",
      "\n",
      "Please visit our oficial website for more information: https://genshin.mihoyo.com/en.\n",
      "\n",
      "\n",
      "On 2020-09-27 08:52\n",
      "====================\n",
      "User Sent: (Score 1)\n",
      "I downloaded the game and already I can't play it because it says I need 5871 megabytes of space and I have 6000 megabytes of space and it's still not downloading, I'm even trying to make more space and I even deleted this game and downloaded it again and it's still not downloading, do I just need more space and if so why not say that then, like I wanna try this game and have fun but I can't if it won't let me\n",
      "\n",
      "Mihoyo Replied:\n",
      "Hello Traveller, we suggest that you reserve 8GB of free space to ensure the normal operation of the game.\n",
      "\n",
      "If you have any question, please feel free to contact us: genshin_cs@mihoyo.com\n",
      "\n",
      "\n",
      "On 2020-10-07 04:23\n",
      "====================\n",
      "User Sent: (Score 2)\n",
      "Battery drain with low settings. Sometimes delayed and reconnect.\n",
      "\n",
      "Mihoyo Replied:\n",
      "Hello Traveller, currently the Genshin Impact is available for pre-download service, the oficial open will be at September 28th, 2020, then let's start a new journey together.\n",
      "\n",
      "Please visit our oficial website for more information: https://genshin.mihoyo.com/en.\n",
      "\n",
      "\n",
      "On 2020-09-27 04:46\n",
      "====================\n",
      "User Sent: (Score 2)\n",
      "Can't update server error maybe when you bring out game make it work first\n",
      "\n",
      "Mihoyo Replied:\n",
      "Hello Traveller, currently the Genshin Impact is available for pre-download service, the oficial open will be at September 28th, 2020, then let's start a new journey together.\n",
      "\n",
      "Please visit our oficial website for more information: https://genshin.mihoyo.com/en.\n",
      "\n",
      "\n",
      "On 2020-09-27 07:38\n",
      "====================\n",
      "User Sent: (Score 1)\n",
      "Server maintenance already? Not a good sign.\n",
      "\n",
      "Mihoyo Replied:\n",
      "Hello Traveller, currently the Genshin Impact is available for pre-download service, the oficial open will be at September 28th, 2020, then let's start a new journey together.\n",
      "\n",
      "Please visit our oficial website for more information: https://genshin.mihoyo.com/en.\n",
      "\n",
      "\n",
      "On 2020-10-02 12:28\n",
      "====================\n",
      "User Sent: (Score 1)\n",
      "No respond on email, i bought welkin blessing. Money taken but the blessing didnt activated\n",
      "\n",
      "Mihoyo Replied:\n",
      "Hello traveler,\n",
      "so sorry for the inconvenience happened.\n",
      "Could you please contact us in game?\n",
      "\n",
      "\n",
      "On 2020-09-27 08:05\n",
      "====================\n",
      "User Sent: (Score 1)\n",
      "After downloading the game, it requires another near 6G space to download. Future update need more? Dev need to pay attention not everyone have super top notch latest phone with unlimited internal storage. You are just gonna lose a large portion of potential customer and payers due to this issue alone. Since phone and tablet have smaller screen, is there a need to super great detail graphic? Guess this game just not really optimised for pure mobile player.\n",
      "\n",
      "Mihoyo Replied:\n",
      "Hello Traveller, currently the Genshin Impact is available for pre-download service, the oficial open will be at September 28th, 2020, then let's start a new journey together.\n",
      "\n",
      "Please visit our oficial website for more information: https://genshin.mihoyo.com/en.\n",
      "\n",
      "\n",
      "On 2020-09-27 12:25\n",
      "====================\n",
      "User Sent: (Score 1)\n",
      "I cant play it, its giving me an error message. I am using a samsung note 8\n",
      "\n",
      "Mihoyo Replied:\n",
      "Hello Traveler, please check the status of your network settings and also download with the recommended device model for a better gaming experience:\n",
      "\n",
      "Processor: Snapdragon 845, Kirin 810 and above\n",
      "RAM Memory: 4GB and above\n",
      "System: Android 8.1 and above\n",
      "Storage space: please reserve 8GB of free space.\n",
      "\n",
      "\n",
      "On 2020-09-27 10:15\n",
      "====================\n",
      "User Sent: (Score 3)\n",
      "Can't install, try many different ways to fix it don't work, i even pre order it. , thank you, for the helpful reply, i would try it later.\n",
      "\n",
      "Mihoyo Replied:\n",
      "Hello Traveler, please check the status of your network settings and also download with the recommended device model for a better gaming experience:\n",
      "\n",
      "Processor: Snapdragon 845, Kirin 810 and above\n",
      "RAM Memory: 4GB and above\n",
      "System: Android 8.1 and above\n",
      "Storage space: please reserve 8GB of free space.\n",
      "\n",
      "\n",
      "On 2020-09-27 05:09\n",
      "====================\n",
      "User Sent: (Score 2)\n",
      "The game says i don't have enough space when i clearly do. Fix it\n",
      "\n",
      "Mihoyo Replied:\n",
      "Hello Traveller, we suggest that you reserve 8GB of free space to ensure the normal operation of the game.\n",
      "\n",
      "If you have any question, please feel free to contact us: genshin_cs@mihoyo.com\n",
      "\n",
      "\n",
      "On 2020-09-27 07:52\n",
      "====================\n",
      "User Sent: (Score 3)\n",
      "cant play it says maintenance\n",
      "\n",
      "Mihoyo Replied:\n",
      "Hello Traveller, currently the Genshin Impact is available for pre-download service, the oficial open will be at September 28th, 2020, then let's start a new journey together.\n",
      "\n",
      "Please visit our oficial website for more information: https://genshin.mihoyo.com/en.\n",
      "\n",
      "\n",
      "On 2020-09-27 08:12\n",
      "====================\n",
      "User Sent: (Score 3)\n",
      "Even i like the game, BUT it says i do not have enough storage but i got 5GB of storage it kinda pissed me off\n",
      "\n",
      "Mihoyo Replied:\n",
      "Hello Traveller, currently the Genshin Impact is available for pre-download service, the oficial open will be at September 28th, 2020, then let's start a new journey together.\n",
      "\n",
      "Please visit our oficial website for more information: https://genshin.mihoyo.com/en.\n",
      "\n",
      "\n",
      "On 2020-09-27 23:49\n",
      "====================\n",
      "User Sent: (Score 1)\n",
      "Keep on saying not enough space can u help fix\n",
      "\n",
      "Mihoyo Replied:\n",
      "Hello Traveler, we suggest that you reserve 8GB of free space to ensure the normal operation of the game. If you have any other questions, please feel free to contact us: genshin_cs@mihoyo.com\n",
      "\n",
      "\n",
      "On 2020-09-27 09:35\n",
      "====================\n",
      "User Sent: (Score 1)\n",
      "This game is almost 5GB in total, I wouldn't have downloaded it originally had this been advertised. I can't afford that space on my device.\n",
      "\n",
      "Mihoyo Replied:\n",
      "Hello Traveller, we suggest that you reserve 8GB of free space to ensure the normal operation of the game.\n",
      "\n",
      "If you have any question, please feel free to contact us: genshin_cs@mihoyo.com\n",
      "\n",
      "\n",
      "On 2020-09-27 06:03\n",
      "====================\n",
      "User Sent: (Score 2)\n",
      "Can't download even my storage sstill 4g huhuhu I mean download in game\n",
      "\n",
      "Mihoyo Replied:\n",
      "Hello Traveller, we suggest that you reserve 8GB of free space to ensure the normal operation of the game.\n",
      "\n",
      "If you have any question, please feel free to contact us: genshin_cs@mihoyo.com\n",
      "\n",
      "\n",
      "On 2020-09-27 07:27\n",
      "====================\n",
      "User Sent: (Score 1)\n",
      "Aaaaannnnnddd server maintenance\n",
      "\n",
      "Mihoyo Replied:\n",
      "Hello Traveller, currently the Genshin Impact is available for pre-download service, the oficial open will be at September 28th, 2020, then let's start a new journey together.\n",
      "\n",
      "Please visit our oficial website for more information: https://genshin.mihoyo.com/en.\n",
      "\n",
      "\n",
      "On 2020-09-27 04:53\n",
      "====================\n",
      "User Sent: (Score 1)\n",
      "How much data it will be able to download please give me a reply .\n",
      "\n",
      "Mihoyo Replied:\n",
      "Hello Traveller, we suggest that you reserve 8GB of free space to ensure the normal operation of the game.\n",
      "\n",
      "If you have any question, please feel free to contact us: genshin_cs@mihoyo.com\n",
      "\n",
      "\n",
      "On 2020-09-27 10:49\n",
      "====================\n",
      "User Sent: (Score 1)\n",
      "Game not even up yet\n",
      "\n",
      "Mihoyo Replied:\n",
      "Hello Traveller, currently the Genshin Impact is available for pre-download service, the oficial open will be at September 28th, 2020, then let's start a new journey together.\n",
      "\n",
      "Please visit our oficial website for more information: https://genshin.mihoyo.com/en.\n",
      "\n",
      "\n",
      "On 2020-09-27 07:51\n",
      "====================\n",
      "User Sent: (Score 3)\n",
      "i cant play this game\n",
      "\n",
      "Mihoyo Replied:\n",
      "Hello Traveller, currently the Genshin Impact is available for pre-download service, the oficial open will be at September 28th, 2020, then let's start a new journey together.\n",
      "\n",
      "Please visit our oficial website for more information: https://genshin.mihoyo.com/en.\n",
      "\n",
      "\n",
      "On 2020-09-28 08:00\n",
      "====================\n",
      "User Sent: (Score 5)\n",
      "Already playing it love it\n",
      "\n",
      "Mihoyo Replied:\n",
      "Hello Traveller, currently the Genshin Impact is available for pre-download service, the oficial open will be at September 28th, 2020, then let's start a new journey together, please visit our oficial website for more information: https://genshin.mihoyo.com/en.\n",
      "\n",
      "\n",
      "On 2020-10-04 12:35\n",
      "====================\n",
      "User Sent: (Score 2)\n",
      "Online for what?\n",
      "\n",
      "Mihoyo Replied:\n",
      "Hello Traveller, currently the Genshin Impact is available for pre-download service, the oficial open will be at September 28th, 2020, then let's start a new journey together.\n",
      "\n",
      "Please visit our oficial website for more information: https://genshin.mihoyo.com/en.\n",
      "\n",
      "\n"
     ]
    }
   ],
   "source": [
    "for i in range(len(replied)):\n",
    "    print(f\"On {replied.iloc[i]['at'][:-3]}\")\n",
    "    print(\"====================\")\n",
    "    print(f\"User Sent: (Score {replied.iloc[i]['score']})\")\n",
    "    print(f\"{replied.iloc[i]['content']}\")\n",
    "    print(\"\")\n",
    "    print(\"Mihoyo Replied:\")\n",
    "    print(f\"{replied.iloc[i]['replyContent']}\")\n",
    "    print(\"\")\n",
    "    print(\"\")"
   ]
  },
  {
   "cell_type": "markdown",
   "metadata": {},
   "source": [
    "In general, the replies from Mihoyo are mostly on the first few days to inform reviewers about the official opening of Genshin Impact. There are also a few replies that are to direct reviewers to customers service and regarding the best devices/settings to play the game.\n",
    "\n",
    "The **columns for replies will be dropped** as there are not too fews records and do not impact the reviews."
   ]
  },
  {
   "cell_type": "code",
   "execution_count": 12,
   "metadata": {
    "ExecuteTime": {
     "end_time": "2021-01-10T07:44:54.012719Z",
     "start_time": "2021-01-10T07:44:53.982735Z"
    }
   },
   "outputs": [
    {
     "data": {
      "text/html": [
       "<div>\n",
       "<style scoped>\n",
       "    .dataframe tbody tr th:only-of-type {\n",
       "        vertical-align: middle;\n",
       "    }\n",
       "\n",
       "    .dataframe tbody tr th {\n",
       "        vertical-align: top;\n",
       "    }\n",
       "\n",
       "    .dataframe thead th {\n",
       "        text-align: right;\n",
       "    }\n",
       "</style>\n",
       "<table border=\"1\" class=\"dataframe\">\n",
       "  <thead>\n",
       "    <tr style=\"text-align: right;\">\n",
       "      <th></th>\n",
       "      <th>content</th>\n",
       "      <th>score</th>\n",
       "      <th>date</th>\n",
       "      <th>thumbsUp</th>\n",
       "      <th>source</th>\n",
       "    </tr>\n",
       "  </thead>\n",
       "  <tbody>\n",
       "    <tr>\n",
       "      <th>0</th>\n",
       "      <td>The graphics are gorgeous, the gameplay is inc...</td>\n",
       "      <td>5</td>\n",
       "      <td>2020-12-11 13:55:29</td>\n",
       "      <td>881</td>\n",
       "      <td>google_play_store</td>\n",
       "    </tr>\n",
       "    <tr>\n",
       "      <th>1</th>\n",
       "      <td>If you love free world RPG, then this is it! T...</td>\n",
       "      <td>5</td>\n",
       "      <td>2020-12-16 18:10:47</td>\n",
       "      <td>48</td>\n",
       "      <td>google_play_store</td>\n",
       "    </tr>\n",
       "    <tr>\n",
       "      <th>2</th>\n",
       "      <td>I absolutely love the game! No complaints besi...</td>\n",
       "      <td>5</td>\n",
       "      <td>2020-12-16 00:18:43</td>\n",
       "      <td>185</td>\n",
       "      <td>google_play_store</td>\n",
       "    </tr>\n",
       "    <tr>\n",
       "      <th>3</th>\n",
       "      <td>Great game. Regardless of ripoff issues and su...</td>\n",
       "      <td>4</td>\n",
       "      <td>2020-12-16 12:46:11</td>\n",
       "      <td>1</td>\n",
       "      <td>google_play_store</td>\n",
       "    </tr>\n",
       "    <tr>\n",
       "      <th>4</th>\n",
       "      <td>Amazing graphics and gameplay although a lot o...</td>\n",
       "      <td>5</td>\n",
       "      <td>2020-12-10 22:51:08</td>\n",
       "      <td>186</td>\n",
       "      <td>google_play_store</td>\n",
       "    </tr>\n",
       "    <tr>\n",
       "      <th>5</th>\n",
       "      <td>This game is phenomenal, as it works cross pla...</td>\n",
       "      <td>5</td>\n",
       "      <td>2020-12-11 10:30:33</td>\n",
       "      <td>19</td>\n",
       "      <td>google_play_store</td>\n",
       "    </tr>\n",
       "    <tr>\n",
       "      <th>6</th>\n",
       "      <td>This game is pretty great. Until you hit late ...</td>\n",
       "      <td>3</td>\n",
       "      <td>2020-12-15 21:34:40</td>\n",
       "      <td>7</td>\n",
       "      <td>google_play_store</td>\n",
       "    </tr>\n",
       "    <tr>\n",
       "      <th>7</th>\n",
       "      <td>It's an amazing game overall. I would rate it ...</td>\n",
       "      <td>4</td>\n",
       "      <td>2020-12-12 05:33:00</td>\n",
       "      <td>27</td>\n",
       "      <td>google_play_store</td>\n",
       "    </tr>\n",
       "    <tr>\n",
       "      <th>8</th>\n",
       "      <td>At the first glance the game looks perfect, gr...</td>\n",
       "      <td>1</td>\n",
       "      <td>2020-12-17 01:29:09</td>\n",
       "      <td>4</td>\n",
       "      <td>google_play_store</td>\n",
       "    </tr>\n",
       "    <tr>\n",
       "      <th>9</th>\n",
       "      <td>I've tried a lot of mobile games, and I'm goin...</td>\n",
       "      <td>5</td>\n",
       "      <td>2020-12-15 18:01:03</td>\n",
       "      <td>6</td>\n",
       "      <td>google_play_store</td>\n",
       "    </tr>\n",
       "  </tbody>\n",
       "</table>\n",
       "</div>"
      ],
      "text/plain": [
       "                                             content  score  \\\n",
       "0  The graphics are gorgeous, the gameplay is inc...      5   \n",
       "1  If you love free world RPG, then this is it! T...      5   \n",
       "2  I absolutely love the game! No complaints besi...      5   \n",
       "3  Great game. Regardless of ripoff issues and su...      4   \n",
       "4  Amazing graphics and gameplay although a lot o...      5   \n",
       "5  This game is phenomenal, as it works cross pla...      5   \n",
       "6  This game is pretty great. Until you hit late ...      3   \n",
       "7  It's an amazing game overall. I would rate it ...      4   \n",
       "8  At the first glance the game looks perfect, gr...      1   \n",
       "9  I've tried a lot of mobile games, and I'm goin...      5   \n",
       "\n",
       "                  date  thumbsUp             source  \n",
       "0  2020-12-11 13:55:29       881  google_play_store  \n",
       "1  2020-12-16 18:10:47        48  google_play_store  \n",
       "2  2020-12-16 00:18:43       185  google_play_store  \n",
       "3  2020-12-16 12:46:11         1  google_play_store  \n",
       "4  2020-12-10 22:51:08       186  google_play_store  \n",
       "5  2020-12-11 10:30:33        19  google_play_store  \n",
       "6  2020-12-15 21:34:40         7  google_play_store  \n",
       "7  2020-12-12 05:33:00        27  google_play_store  \n",
       "8  2020-12-17 01:29:09         4  google_play_store  \n",
       "9  2020-12-15 18:01:03         6  google_play_store  "
      ]
     },
     "execution_count": 12,
     "metadata": {},
     "output_type": "execute_result"
    }
   ],
   "source": [
    "google_reviews_cleaned = google_reviews[['content', 'score', 'at', 'thumbsUpCount']].copy()\n",
    "\n",
    "google_reviews_cleaned['source'] = 'google_play_store'\n",
    "\n",
    "google_reviews_cleaned.columns = ['content', 'score', 'date', 'thumbsUp', 'source']\n",
    "\n",
    "google_reviews_cleaned.head(10)"
   ]
  },
  {
   "cell_type": "code",
   "execution_count": 18,
   "metadata": {
    "ExecuteTime": {
     "end_time": "2021-01-10T07:44:54.533229Z",
     "start_time": "2021-01-10T07:44:54.519238Z"
    }
   },
   "outputs": [
    {
     "data": {
      "text/plain": [
       "(102582, 5)"
      ]
     },
     "execution_count": 18,
     "metadata": {},
     "output_type": "execute_result"
    }
   ],
   "source": [
    "google_reviews_cleaned.shape"
   ]
  },
  {
   "cell_type": "markdown",
   "metadata": {},
   "source": [
    "### Apple Store Reviews"
   ]
  },
  {
   "cell_type": "code",
   "execution_count": 19,
   "metadata": {
    "ExecuteTime": {
     "end_time": "2021-01-10T07:44:54.549219Z",
     "start_time": "2021-01-10T07:44:54.534228Z"
    }
   },
   "outputs": [
    {
     "data": {
      "text/html": [
       "<div>\n",
       "<style scoped>\n",
       "    .dataframe tbody tr th:only-of-type {\n",
       "        vertical-align: middle;\n",
       "    }\n",
       "\n",
       "    .dataframe tbody tr th {\n",
       "        vertical-align: top;\n",
       "    }\n",
       "\n",
       "    .dataframe thead th {\n",
       "        text-align: right;\n",
       "    }\n",
       "</style>\n",
       "<table border=\"1\" class=\"dataframe\">\n",
       "  <thead>\n",
       "    <tr style=\"text-align: right;\">\n",
       "      <th></th>\n",
       "      <th>Unnamed: 0</th>\n",
       "      <th>userName</th>\n",
       "      <th>review</th>\n",
       "      <th>rating</th>\n",
       "      <th>title</th>\n",
       "      <th>date</th>\n",
       "      <th>isEdited</th>\n",
       "    </tr>\n",
       "  </thead>\n",
       "  <tbody>\n",
       "    <tr>\n",
       "      <th>0</th>\n",
       "      <td>0</td>\n",
       "      <td>Joy SQ.</td>\n",
       "      <td>Besides everything that people say, this game ...</td>\n",
       "      <td>5</td>\n",
       "      <td>My Favorite Game ❤️❤️</td>\n",
       "      <td>2020-10-21 23:57:01</td>\n",
       "      <td>False</td>\n",
       "    </tr>\n",
       "    <tr>\n",
       "      <th>1</th>\n",
       "      <td>1</td>\n",
       "      <td>DiggingDiva</td>\n",
       "      <td>Words cannot describe how impeccable this game...</td>\n",
       "      <td>5</td>\n",
       "      <td>The most impressive game I’ve ever played.</td>\n",
       "      <td>2020-12-03 03:05:55</td>\n",
       "      <td>False</td>\n",
       "    </tr>\n",
       "    <tr>\n",
       "      <th>2</th>\n",
       "      <td>2</td>\n",
       "      <td>dontunderestimateme</td>\n",
       "      <td>I wish I found out about this game later when ...</td>\n",
       "      <td>5</td>\n",
       "      <td>Super addicting</td>\n",
       "      <td>2020-11-26 06:03:03</td>\n",
       "      <td>False</td>\n",
       "    </tr>\n",
       "    <tr>\n",
       "      <th>3</th>\n",
       "      <td>3</td>\n",
       "      <td>Tronscream</td>\n",
       "      <td>In my many years of trying to find games to pl...</td>\n",
       "      <td>5</td>\n",
       "      <td>The most successful open world game</td>\n",
       "      <td>2020-10-01 18:31:58</td>\n",
       "      <td>False</td>\n",
       "    </tr>\n",
       "    <tr>\n",
       "      <th>4</th>\n",
       "      <td>4</td>\n",
       "      <td>Hello Peoples And Creators</td>\n",
       "      <td>So. The only problem I have with this game is ...</td>\n",
       "      <td>5</td>\n",
       "      <td>Amazing! But...</td>\n",
       "      <td>2020-10-01 21:47:12</td>\n",
       "      <td>False</td>\n",
       "    </tr>\n",
       "  </tbody>\n",
       "</table>\n",
       "</div>"
      ],
      "text/plain": [
       "   Unnamed: 0                    userName  \\\n",
       "0           0                     Joy SQ.   \n",
       "1           1                 DiggingDiva   \n",
       "2           2         dontunderestimateme   \n",
       "3           3                  Tronscream   \n",
       "4           4  Hello Peoples And Creators   \n",
       "\n",
       "                                              review  rating  \\\n",
       "0  Besides everything that people say, this game ...       5   \n",
       "1  Words cannot describe how impeccable this game...       5   \n",
       "2  I wish I found out about this game later when ...       5   \n",
       "3  In my many years of trying to find games to pl...       5   \n",
       "4  So. The only problem I have with this game is ...       5   \n",
       "\n",
       "                                        title                 date  isEdited  \n",
       "0                       My Favorite Game ❤️❤️  2020-10-21 23:57:01     False  \n",
       "1  The most impressive game I’ve ever played.  2020-12-03 03:05:55     False  \n",
       "2                             Super addicting  2020-11-26 06:03:03     False  \n",
       "3         The most successful open world game  2020-10-01 18:31:58     False  \n",
       "4                             Amazing! But...  2020-10-01 21:47:12     False  "
      ]
     },
     "execution_count": 19,
     "metadata": {},
     "output_type": "execute_result"
    }
   ],
   "source": [
    "apple_reviews.head()"
   ]
  },
  {
   "cell_type": "markdown",
   "metadata": {},
   "source": [
    "The userName column will be dropped. I will explore if the isEdited column provides any interesting information."
   ]
  },
  {
   "cell_type": "code",
   "execution_count": 21,
   "metadata": {
    "ExecuteTime": {
     "end_time": "2021-01-10T07:44:54.722329Z",
     "start_time": "2021-01-10T07:44:54.708338Z"
    }
   },
   "outputs": [
    {
     "data": {
      "text/plain": [
       "False    11617\n",
       "Name: isEdited, dtype: int64"
      ]
     },
     "execution_count": 21,
     "metadata": {},
     "output_type": "execute_result"
    }
   ],
   "source": [
    "apple_reviews['isEdited'].value_counts()"
   ]
  },
  {
   "cell_type": "markdown",
   "metadata": {},
   "source": [
    "All the records have False for isEdited, it will be dropped as well.\n",
    "\n",
    "In order for the datasets from Apple App store and Google Play store to be used together, I will **combine the title and review** so that it is in the same format of having just one review post per record."
   ]
  },
  {
   "cell_type": "code",
   "execution_count": 22,
   "metadata": {
    "ExecuteTime": {
     "end_time": "2021-01-10T07:44:54.753310Z",
     "start_time": "2021-01-10T07:44:54.723329Z"
    }
   },
   "outputs": [
    {
     "data": {
      "text/html": [
       "<div>\n",
       "<style scoped>\n",
       "    .dataframe tbody tr th:only-of-type {\n",
       "        vertical-align: middle;\n",
       "    }\n",
       "\n",
       "    .dataframe tbody tr th {\n",
       "        vertical-align: top;\n",
       "    }\n",
       "\n",
       "    .dataframe thead th {\n",
       "        text-align: right;\n",
       "    }\n",
       "</style>\n",
       "<table border=\"1\" class=\"dataframe\">\n",
       "  <thead>\n",
       "    <tr style=\"text-align: right;\">\n",
       "      <th></th>\n",
       "      <th>content</th>\n",
       "      <th>score</th>\n",
       "      <th>date</th>\n",
       "      <th>source</th>\n",
       "    </tr>\n",
       "  </thead>\n",
       "  <tbody>\n",
       "    <tr>\n",
       "      <th>0</th>\n",
       "      <td>My Favorite Game ❤️❤️ Besides everything that ...</td>\n",
       "      <td>5</td>\n",
       "      <td>2020-10-21 23:57:01</td>\n",
       "      <td>apple_app_store</td>\n",
       "    </tr>\n",
       "    <tr>\n",
       "      <th>1</th>\n",
       "      <td>The most impressive game I’ve ever played. Wor...</td>\n",
       "      <td>5</td>\n",
       "      <td>2020-12-03 03:05:55</td>\n",
       "      <td>apple_app_store</td>\n",
       "    </tr>\n",
       "    <tr>\n",
       "      <th>2</th>\n",
       "      <td>Super addicting I wish I found out about this ...</td>\n",
       "      <td>5</td>\n",
       "      <td>2020-11-26 06:03:03</td>\n",
       "      <td>apple_app_store</td>\n",
       "    </tr>\n",
       "    <tr>\n",
       "      <th>3</th>\n",
       "      <td>The most successful open world game In my many...</td>\n",
       "      <td>5</td>\n",
       "      <td>2020-10-01 18:31:58</td>\n",
       "      <td>apple_app_store</td>\n",
       "    </tr>\n",
       "    <tr>\n",
       "      <th>4</th>\n",
       "      <td>Amazing! But... So. The only problem I have wi...</td>\n",
       "      <td>5</td>\n",
       "      <td>2020-10-01 21:47:12</td>\n",
       "      <td>apple_app_store</td>\n",
       "    </tr>\n",
       "  </tbody>\n",
       "</table>\n",
       "</div>"
      ],
      "text/plain": [
       "                                             content  score  \\\n",
       "0  My Favorite Game ❤️❤️ Besides everything that ...      5   \n",
       "1  The most impressive game I’ve ever played. Wor...      5   \n",
       "2  Super addicting I wish I found out about this ...      5   \n",
       "3  The most successful open world game In my many...      5   \n",
       "4  Amazing! But... So. The only problem I have wi...      5   \n",
       "\n",
       "                  date           source  \n",
       "0  2020-10-21 23:57:01  apple_app_store  \n",
       "1  2020-12-03 03:05:55  apple_app_store  \n",
       "2  2020-11-26 06:03:03  apple_app_store  \n",
       "3  2020-10-01 18:31:58  apple_app_store  \n",
       "4  2020-10-01 21:47:12  apple_app_store  "
      ]
     },
     "execution_count": 22,
     "metadata": {},
     "output_type": "execute_result"
    }
   ],
   "source": [
    "apple_reviews['combined'] = apple_reviews['title'] + ' ' + apple_reviews['review']\n",
    "\n",
    "apple_reviews['source'] = 'apple_app_store'\n",
    "\n",
    "apple_reviews_cleaned = apple_reviews[['combined', 'rating', 'date', 'source']].copy()\n",
    "\n",
    "apple_reviews_cleaned.columns = ['content', 'score', 'date', 'source']\n",
    "\n",
    "apple_reviews_cleaned.head()"
   ]
  },
  {
   "cell_type": "code",
   "execution_count": 23,
   "metadata": {
    "ExecuteTime": {
     "end_time": "2021-01-10T07:44:54.769299Z",
     "start_time": "2021-01-10T07:44:54.757307Z"
    }
   },
   "outputs": [
    {
     "data": {
      "text/plain": [
       "'2020-12-11 20:07:00'"
      ]
     },
     "execution_count": 23,
     "metadata": {},
     "output_type": "execute_result"
    }
   ],
   "source": [
    "apple_reviews_cleaned['date'].max()"
   ]
  },
  {
   "cell_type": "code",
   "execution_count": 24,
   "metadata": {
    "ExecuteTime": {
     "end_time": "2021-01-10T07:44:54.785289Z",
     "start_time": "2021-01-10T07:44:54.771299Z"
    }
   },
   "outputs": [
    {
     "data": {
      "text/plain": [
       "'2020-09-27 03:04:13'"
      ]
     },
     "execution_count": 24,
     "metadata": {},
     "output_type": "execute_result"
    }
   ],
   "source": [
    "apple_reviews_cleaned['date'].min()"
   ]
  },
  {
   "cell_type": "markdown",
   "metadata": {},
   "source": [
    "## Combine the Dataframes"
   ]
  },
  {
   "cell_type": "code",
   "execution_count": 25,
   "metadata": {
    "ExecuteTime": {
     "end_time": "2021-01-10T07:44:54.929200Z",
     "start_time": "2021-01-10T07:44:54.787290Z"
    }
   },
   "outputs": [
    {
     "data": {
      "text/html": [
       "<div>\n",
       "<style scoped>\n",
       "    .dataframe tbody tr th:only-of-type {\n",
       "        vertical-align: middle;\n",
       "    }\n",
       "\n",
       "    .dataframe tbody tr th {\n",
       "        vertical-align: top;\n",
       "    }\n",
       "\n",
       "    .dataframe thead th {\n",
       "        text-align: right;\n",
       "    }\n",
       "</style>\n",
       "<table border=\"1\" class=\"dataframe\">\n",
       "  <thead>\n",
       "    <tr style=\"text-align: right;\">\n",
       "      <th></th>\n",
       "      <th>content</th>\n",
       "      <th>score</th>\n",
       "      <th>date</th>\n",
       "      <th>thumbsUp</th>\n",
       "      <th>source</th>\n",
       "    </tr>\n",
       "  </thead>\n",
       "  <tbody>\n",
       "    <tr>\n",
       "      <th>0</th>\n",
       "      <td>The graphics are gorgeous, the gameplay is inc...</td>\n",
       "      <td>5</td>\n",
       "      <td>2020-12-11 13:55:29</td>\n",
       "      <td>881.0</td>\n",
       "      <td>google_play_store</td>\n",
       "    </tr>\n",
       "    <tr>\n",
       "      <th>1</th>\n",
       "      <td>If you love free world RPG, then this is it! T...</td>\n",
       "      <td>5</td>\n",
       "      <td>2020-12-16 18:10:47</td>\n",
       "      <td>48.0</td>\n",
       "      <td>google_play_store</td>\n",
       "    </tr>\n",
       "    <tr>\n",
       "      <th>2</th>\n",
       "      <td>I absolutely love the game! No complaints besi...</td>\n",
       "      <td>5</td>\n",
       "      <td>2020-12-16 00:18:43</td>\n",
       "      <td>185.0</td>\n",
       "      <td>google_play_store</td>\n",
       "    </tr>\n",
       "    <tr>\n",
       "      <th>3</th>\n",
       "      <td>Great game. Regardless of ripoff issues and su...</td>\n",
       "      <td>4</td>\n",
       "      <td>2020-12-16 12:46:11</td>\n",
       "      <td>1.0</td>\n",
       "      <td>google_play_store</td>\n",
       "    </tr>\n",
       "    <tr>\n",
       "      <th>4</th>\n",
       "      <td>Amazing graphics and gameplay although a lot o...</td>\n",
       "      <td>5</td>\n",
       "      <td>2020-12-10 22:51:08</td>\n",
       "      <td>186.0</td>\n",
       "      <td>google_play_store</td>\n",
       "    </tr>\n",
       "  </tbody>\n",
       "</table>\n",
       "</div>"
      ],
      "text/plain": [
       "                                             content  score  \\\n",
       "0  The graphics are gorgeous, the gameplay is inc...      5   \n",
       "1  If you love free world RPG, then this is it! T...      5   \n",
       "2  I absolutely love the game! No complaints besi...      5   \n",
       "3  Great game. Regardless of ripoff issues and su...      4   \n",
       "4  Amazing graphics and gameplay although a lot o...      5   \n",
       "\n",
       "                 date  thumbsUp             source  \n",
       "0 2020-12-11 13:55:29     881.0  google_play_store  \n",
       "1 2020-12-16 18:10:47      48.0  google_play_store  \n",
       "2 2020-12-16 00:18:43     185.0  google_play_store  \n",
       "3 2020-12-16 12:46:11       1.0  google_play_store  \n",
       "4 2020-12-10 22:51:08     186.0  google_play_store  "
      ]
     },
     "execution_count": 25,
     "metadata": {},
     "output_type": "execute_result"
    }
   ],
   "source": [
    "combined_df = pd.concat([google_reviews_cleaned, apple_reviews_cleaned])\n",
    "\n",
    "combined_df.reset_index(drop=True, inplace=True)\n",
    "\n",
    "combined_df['date'] = pd.to_datetime(combined_df['date'])\n",
    "\n",
    "combined_df.head()"
   ]
  },
  {
   "cell_type": "code",
   "execution_count": 26,
   "metadata": {
    "ExecuteTime": {
     "end_time": "2021-01-10T07:44:55.024989Z",
     "start_time": "2021-01-10T07:44:54.931200Z"
    }
   },
   "outputs": [],
   "source": [
    "combined_df.to_pickle('data/combined_df.p')"
   ]
  }
 ],
 "metadata": {
  "kernelspec": {
   "display_name": "Python 3",
   "language": "python",
   "name": "python3"
  },
  "language_info": {
   "codemirror_mode": {
    "name": "ipython",
    "version": 3
   },
   "file_extension": ".py",
   "mimetype": "text/x-python",
   "name": "python",
   "nbconvert_exporter": "python",
   "pygments_lexer": "ipython3",
   "version": "3.7.9"
  },
  "toc": {
   "base_numbering": 1,
   "nav_menu": {},
   "number_sections": false,
   "sideBar": true,
   "skip_h1_title": false,
   "title_cell": "Table of Contents",
   "title_sidebar": "Contents",
   "toc_cell": false,
   "toc_position": {
    "height": "calc(100% - 180px)",
    "left": "10px",
    "top": "150px",
    "width": "384px"
   },
   "toc_section_display": true,
   "toc_window_display": true
  }
 },
 "nbformat": 4,
 "nbformat_minor": 4
}
