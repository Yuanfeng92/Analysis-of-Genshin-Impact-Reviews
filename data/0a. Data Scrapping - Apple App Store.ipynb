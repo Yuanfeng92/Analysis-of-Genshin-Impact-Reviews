{
 "cells": [
  {
   "cell_type": "code",
   "execution_count": 1,
   "metadata": {
    "ExecuteTime": {
     "end_time": "2021-01-24T06:15:18.203437Z",
     "start_time": "2021-01-24T06:15:17.630640Z"
    }
   },
   "outputs": [],
   "source": [
    "from app_store_scraper import AppStore\n",
    "from pprint import pprint\n",
    "import pandas as pd"
   ]
  },
  {
   "cell_type": "code",
   "execution_count": 2,
   "metadata": {
    "ExecuteTime": {
     "end_time": "2021-01-24T06:19:07.957900Z",
     "start_time": "2021-01-24T06:15:18.205437Z"
    }
   },
   "outputs": [
    {
     "name": "stderr",
     "output_type": "stream",
     "text": [
      "2021-01-24 14:15:18,206 [INFO] Base - Searching for app id\n",
      "2021-01-24 14:15:20,214 [INFO] Base - Initialised: AppStore('us', 'genshin-impact', 1517783697)\n",
      "2021-01-24 14:15:20,215 [INFO] Base - Ready to fetch reviews from: https://apps.apple.com/us/app/genshin-impact/id1517783697\n",
      "2021-01-24 14:15:39,346 [INFO] Base - [id:1517783697] Fetched 20 reviews (20 fetched in total)\n",
      "2021-01-24 14:15:50,441 [INFO] Base - [id:1517783697] Fetched 280 reviews (280 fetched in total)\n",
      "2021-01-24 14:15:55,773 [INFO] Base - [id:1517783697] Fetched 600 reviews (600 fetched in total)\n",
      "2021-01-24 14:16:01,565 [INFO] Base - [id:1517783697] Fetched 980 reviews (980 fetched in total)\n",
      "2021-01-24 14:16:07,018 [INFO] Base - [id:1517783697] Fetched 1300 reviews (1300 fetched in total)\n",
      "2021-01-24 14:16:12,480 [INFO] Base - [id:1517783697] Fetched 1660 reviews (1660 fetched in total)\n",
      "2021-01-24 14:16:17,921 [INFO] Base - [id:1517783697] Fetched 2060 reviews (2060 fetched in total)\n",
      "2021-01-24 14:16:23,352 [INFO] Base - [id:1517783697] Fetched 2460 reviews (2460 fetched in total)\n",
      "2021-01-24 14:16:28,730 [INFO] Base - [id:1517783697] Fetched 2860 reviews (2860 fetched in total)\n",
      "2021-01-24 14:16:34,151 [INFO] Base - [id:1517783697] Fetched 3260 reviews (3260 fetched in total)\n",
      "2021-01-24 14:16:39,587 [INFO] Base - [id:1517783697] Fetched 3660 reviews (3660 fetched in total)\n",
      "2021-01-24 14:16:45,079 [INFO] Base - [id:1517783697] Fetched 4060 reviews (4060 fetched in total)\n",
      "2021-01-24 14:16:50,531 [INFO] Base - [id:1517783697] Fetched 4460 reviews (4460 fetched in total)\n",
      "2021-01-24 14:16:56,038 [INFO] Base - [id:1517783697] Fetched 4840 reviews (4840 fetched in total)\n",
      "2021-01-24 14:17:01,519 [INFO] Base - [id:1517783697] Fetched 5240 reviews (5240 fetched in total)\n",
      "2021-01-24 14:17:06,944 [INFO] Base - [id:1517783697] Fetched 5600 reviews (5600 fetched in total)\n",
      "2021-01-24 14:17:12,352 [INFO] Base - [id:1517783697] Fetched 5920 reviews (5920 fetched in total)\n",
      "2021-01-24 14:17:17,855 [INFO] Base - [id:1517783697] Fetched 6240 reviews (6240 fetched in total)\n",
      "2021-01-24 14:17:23,319 [INFO] Base - [id:1517783697] Fetched 6520 reviews (6520 fetched in total)\n",
      "2021-01-24 14:17:28,851 [INFO] Base - [id:1517783697] Fetched 6880 reviews (6880 fetched in total)\n",
      "2021-01-24 14:17:34,154 [INFO] Base - [id:1517783697] Fetched 7260 reviews (7260 fetched in total)\n",
      "2021-01-24 14:17:39,689 [INFO] Base - [id:1517783697] Fetched 7660 reviews (7660 fetched in total)\n",
      "2021-01-24 14:17:45,211 [INFO] Base - [id:1517783697] Fetched 8020 reviews (8020 fetched in total)\n",
      "2021-01-24 14:17:50,707 [INFO] Base - [id:1517783697] Fetched 8340 reviews (8340 fetched in total)\n",
      "2021-01-24 14:17:56,156 [INFO] Base - [id:1517783697] Fetched 8740 reviews (8740 fetched in total)\n",
      "2021-01-24 14:18:01,625 [INFO] Base - [id:1517783697] Fetched 9140 reviews (9140 fetched in total)\n",
      "2021-01-24 14:18:07,101 [INFO] Base - [id:1517783697] Fetched 9540 reviews (9540 fetched in total)\n",
      "2021-01-24 14:18:12,589 [INFO] Base - [id:1517783697] Fetched 9940 reviews (9940 fetched in total)\n",
      "2021-01-24 14:18:17,998 [INFO] Base - [id:1517783697] Fetched 10340 reviews (10340 fetched in total)\n",
      "2021-01-24 14:18:23,452 [INFO] Base - [id:1517783697] Fetched 10740 reviews (10740 fetched in total)\n",
      "2021-01-24 14:18:28,905 [INFO] Base - [id:1517783697] Fetched 11140 reviews (11140 fetched in total)\n",
      "2021-01-24 14:18:34,417 [INFO] Base - [id:1517783697] Fetched 11540 reviews (11540 fetched in total)\n",
      "2021-01-24 14:18:39,863 [INFO] Base - [id:1517783697] Fetched 11940 reviews (11940 fetched in total)\n",
      "2021-01-24 14:18:45,302 [INFO] Base - [id:1517783697] Fetched 12340 reviews (12340 fetched in total)\n",
      "2021-01-24 14:18:50,768 [INFO] Base - [id:1517783697] Fetched 12740 reviews (12740 fetched in total)\n",
      "2021-01-24 14:18:56,272 [INFO] Base - [id:1517783697] Fetched 13140 reviews (13140 fetched in total)\n",
      "2021-01-24 14:19:01,655 [INFO] Base - [id:1517783697] Fetched 13540 reviews (13540 fetched in total)\n",
      "2021-01-24 14:19:07,086 [INFO] Base - [id:1517783697] Fetched 13940 reviews (13940 fetched in total)\n",
      "2021-01-24 14:19:07,911 [INFO] Base - [id:1517783697] Fetched 13990 reviews (13990 fetched in total)\n"
     ]
    },
    {
     "name": "stdout",
     "output_type": "stream",
     "text": [
      "13990\n"
     ]
    }
   ],
   "source": [
    "genshin_us = AppStore(country=\"us\", app_name=\"genshin-impact\")\n",
    "\n",
    "genshin_us.review()\n",
    "\n",
    "print(genshin_us.reviews_count)\n",
    "\n",
    "genshin_reviews_us = pd.DataFrame(genshin_us.reviews)"
   ]
  },
  {
   "cell_type": "code",
   "execution_count": 6,
   "metadata": {
    "ExecuteTime": {
     "end_time": "2020-12-13T03:07:42.754656Z",
     "start_time": "2020-12-13T03:07:42.727674Z"
    }
   },
   "outputs": [
    {
     "data": {
      "text/html": [
       "<div>\n",
       "<style scoped>\n",
       "    .dataframe tbody tr th:only-of-type {\n",
       "        vertical-align: middle;\n",
       "    }\n",
       "\n",
       "    .dataframe tbody tr th {\n",
       "        vertical-align: top;\n",
       "    }\n",
       "\n",
       "    .dataframe thead th {\n",
       "        text-align: right;\n",
       "    }\n",
       "</style>\n",
       "<table border=\"1\" class=\"dataframe\">\n",
       "  <thead>\n",
       "    <tr style=\"text-align: right;\">\n",
       "      <th></th>\n",
       "      <th>userName</th>\n",
       "      <th>review</th>\n",
       "      <th>rating</th>\n",
       "      <th>title</th>\n",
       "      <th>date</th>\n",
       "      <th>isEdited</th>\n",
       "    </tr>\n",
       "  </thead>\n",
       "  <tbody>\n",
       "    <tr>\n",
       "      <th>0</th>\n",
       "      <td>Joy SQ.</td>\n",
       "      <td>Besides everything that people say, this game ...</td>\n",
       "      <td>5</td>\n",
       "      <td>My Favorite Game ❤️❤️</td>\n",
       "      <td>2020-10-21 23:57:01</td>\n",
       "      <td>False</td>\n",
       "    </tr>\n",
       "    <tr>\n",
       "      <th>1</th>\n",
       "      <td>DiggingDiva</td>\n",
       "      <td>Words cannot describe how impeccable this game...</td>\n",
       "      <td>5</td>\n",
       "      <td>The most impressive game I’ve ever played.</td>\n",
       "      <td>2020-12-03 03:05:55</td>\n",
       "      <td>False</td>\n",
       "    </tr>\n",
       "    <tr>\n",
       "      <th>2</th>\n",
       "      <td>dontunderestimateme</td>\n",
       "      <td>I wish I found out about this game later when ...</td>\n",
       "      <td>5</td>\n",
       "      <td>Super addicting</td>\n",
       "      <td>2020-11-26 06:03:03</td>\n",
       "      <td>False</td>\n",
       "    </tr>\n",
       "    <tr>\n",
       "      <th>3</th>\n",
       "      <td>Tronscream</td>\n",
       "      <td>In my many years of trying to find games to pl...</td>\n",
       "      <td>5</td>\n",
       "      <td>The most successful open world game</td>\n",
       "      <td>2020-10-01 18:31:58</td>\n",
       "      <td>False</td>\n",
       "    </tr>\n",
       "    <tr>\n",
       "      <th>4</th>\n",
       "      <td>Hello Peoples And Creators</td>\n",
       "      <td>So. The only problem I have with this game is ...</td>\n",
       "      <td>5</td>\n",
       "      <td>Amazing! But...</td>\n",
       "      <td>2020-10-01 21:47:12</td>\n",
       "      <td>False</td>\n",
       "    </tr>\n",
       "    <tr>\n",
       "      <th>...</th>\n",
       "      <td>...</td>\n",
       "      <td>...</td>\n",
       "      <td>...</td>\n",
       "      <td>...</td>\n",
       "      <td>...</td>\n",
       "      <td>...</td>\n",
       "    </tr>\n",
       "    <tr>\n",
       "      <th>11612</th>\n",
       "      <td>smdlo74</td>\n",
       "      <td>I love the idea of this game but no matter how...</td>\n",
       "      <td>1</td>\n",
       "      <td>It makes me really sad</td>\n",
       "      <td>2020-12-10 17:32:25</td>\n",
       "      <td>False</td>\n",
       "    </tr>\n",
       "    <tr>\n",
       "      <th>11613</th>\n",
       "      <td>ebsa92</td>\n",
       "      <td>Beautiful Game, amazing graphic and gameplay. ...</td>\n",
       "      <td>5</td>\n",
       "      <td>Amazing</td>\n",
       "      <td>2020-12-10 16:11:31</td>\n",
       "      <td>False</td>\n",
       "    </tr>\n",
       "    <tr>\n",
       "      <th>11614</th>\n",
       "      <td>Frastrating</td>\n",
       "      <td>the quality of design went down since Nov</td>\n",
       "      <td>1</td>\n",
       "      <td>terrible character design since Nov</td>\n",
       "      <td>2020-12-10 17:15:05</td>\n",
       "      <td>False</td>\n",
       "    </tr>\n",
       "    <tr>\n",
       "      <th>11615</th>\n",
       "      <td>Zjsnsjsnj</td>\n",
       "      <td>I can't believe this game is free!</td>\n",
       "      <td>5</td>\n",
       "      <td>My favorite mobile game in 2020!</td>\n",
       "      <td>2020-12-10 15:47:40</td>\n",
       "      <td>False</td>\n",
       "    </tr>\n",
       "    <tr>\n",
       "      <th>11616</th>\n",
       "      <td>jsjskskxmjd</td>\n",
       "      <td>predatory gacha system + crappy resin system. ...</td>\n",
       "      <td>1</td>\n",
       "      <td>predatory</td>\n",
       "      <td>2020-12-10 15:37:31</td>\n",
       "      <td>False</td>\n",
       "    </tr>\n",
       "  </tbody>\n",
       "</table>\n",
       "<p>11617 rows × 6 columns</p>\n",
       "</div>"
      ],
      "text/plain": [
       "                         userName  \\\n",
       "0                         Joy SQ.   \n",
       "1                     DiggingDiva   \n",
       "2             dontunderestimateme   \n",
       "3                      Tronscream   \n",
       "4      Hello Peoples And Creators   \n",
       "...                           ...   \n",
       "11612                     smdlo74   \n",
       "11613                      ebsa92   \n",
       "11614                 Frastrating   \n",
       "11615                   Zjsnsjsnj   \n",
       "11616                 jsjskskxmjd   \n",
       "\n",
       "                                                  review  rating  \\\n",
       "0      Besides everything that people say, this game ...       5   \n",
       "1      Words cannot describe how impeccable this game...       5   \n",
       "2      I wish I found out about this game later when ...       5   \n",
       "3      In my many years of trying to find games to pl...       5   \n",
       "4      So. The only problem I have with this game is ...       5   \n",
       "...                                                  ...     ...   \n",
       "11612  I love the idea of this game but no matter how...       1   \n",
       "11613  Beautiful Game, amazing graphic and gameplay. ...       5   \n",
       "11614          the quality of design went down since Nov       1   \n",
       "11615                 I can't believe this game is free!       5   \n",
       "11616  predatory gacha system + crappy resin system. ...       1   \n",
       "\n",
       "                                            title                date  \\\n",
       "0                           My Favorite Game ❤️❤️ 2020-10-21 23:57:01   \n",
       "1      The most impressive game I’ve ever played. 2020-12-03 03:05:55   \n",
       "2                                 Super addicting 2020-11-26 06:03:03   \n",
       "3             The most successful open world game 2020-10-01 18:31:58   \n",
       "4                                 Amazing! But... 2020-10-01 21:47:12   \n",
       "...                                           ...                 ...   \n",
       "11612                      It makes me really sad 2020-12-10 17:32:25   \n",
       "11613                                     Amazing 2020-12-10 16:11:31   \n",
       "11614         terrible character design since Nov 2020-12-10 17:15:05   \n",
       "11615            My favorite mobile game in 2020! 2020-12-10 15:47:40   \n",
       "11616                                   predatory 2020-12-10 15:37:31   \n",
       "\n",
       "       isEdited  \n",
       "0         False  \n",
       "1         False  \n",
       "2         False  \n",
       "3         False  \n",
       "4         False  \n",
       "...         ...  \n",
       "11612     False  \n",
       "11613     False  \n",
       "11614     False  \n",
       "11615     False  \n",
       "11616     False  \n",
       "\n",
       "[11617 rows x 6 columns]"
      ]
     },
     "execution_count": 6,
     "metadata": {},
     "output_type": "execute_result"
    }
   ],
   "source": [
    "genshin_reviews_us"
   ]
  },
  {
   "cell_type": "code",
   "execution_count": 7,
   "metadata": {
    "ExecuteTime": {
     "end_time": "2020-12-13T03:08:02.359674Z",
     "start_time": "2020-12-13T03:08:02.150508Z"
    }
   },
   "outputs": [],
   "source": [
    "genshin_reviews_us.to_csv('data/app_store_12_20.csv')"
   ]
  },
  {
   "cell_type": "code",
   "execution_count": 10,
   "metadata": {
    "ExecuteTime": {
     "end_time": "2020-12-13T03:08:36.412440Z",
     "start_time": "2020-12-13T03:08:36.402446Z"
    }
   },
   "outputs": [
    {
     "data": {
      "text/plain": [
       "5    51.131962\n",
       "1    21.261944\n",
       "4    13.333907\n",
       "3     8.823276\n",
       "2     5.448911\n",
       "Name: rating, dtype: float64"
      ]
     },
     "execution_count": 10,
     "metadata": {},
     "output_type": "execute_result"
    }
   ],
   "source": [
    "genshin_reviews_us.rating.value_counts(normalize=True)*100"
   ]
  },
  {
   "cell_type": "code",
   "execution_count": null,
   "metadata": {},
   "outputs": [],
   "source": []
  }
 ],
 "metadata": {
  "kernelspec": {
   "display_name": "Python 3",
   "language": "python",
   "name": "python3"
  },
  "language_info": {
   "codemirror_mode": {
    "name": "ipython",
    "version": 3
   },
   "file_extension": ".py",
   "mimetype": "text/x-python",
   "name": "python",
   "nbconvert_exporter": "python",
   "pygments_lexer": "ipython3",
   "version": "3.7.9"
  },
  "toc": {
   "base_numbering": 1,
   "nav_menu": {},
   "number_sections": false,
   "sideBar": true,
   "skip_h1_title": false,
   "title_cell": "Table of Contents",
   "title_sidebar": "Contents",
   "toc_cell": false,
   "toc_position": {},
   "toc_section_display": true,
   "toc_window_display": false
  }
 },
 "nbformat": 4,
 "nbformat_minor": 4
}
